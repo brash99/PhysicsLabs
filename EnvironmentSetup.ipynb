{
 "cells": [
  {
   "cell_type": "markdown",
   "metadata": {},
   "source": [
    "# Physics 201L Computing Environment Setup\n",
    "\n",
    "## GitHub Instructions\n",
    "\n",
    "### Account Setup (if you do NOT already have a GitHub account)\n",
    "\n",
    "* Go to www.github.com\n",
    "* Click on “Sign Up”\n",
    "* Choose a username (can be anything), use your CNU email address, and\n",
    "choose a password. Verify and create your account.\n",
    "* Verify your email address (the email will be sent to you by GitHub).\n",
    "* Complete the profile questions\n",
    "\n",
    "### Forking the PHYS 201L Main Code Repository\n",
    "* In the search bar at the top left of the page, type in “user:brash99”\n",
    "* Find and click on the brash99/PhysicsLabs link\n",
    "* Click on “Fork” in the upper right corner\n",
    "\n",
    "## Google Colaboratory (or Colab):\n",
    "\n",
    "1. Go to https://colab.research.google.com/notebooks/intro.ipynb\n",
    "2. Sign in with your CNU account\n",
    "3. Click on File -> Open notebook\n",
    "4. Choose the GitHub tab in the window that comes up\n",
    "5. Enter your GitHub username in the search field\n",
    "6. If necessary, authorize Colaboratory to access your GitHub account\n",
    "7. Choose the PhysicsLabs repository that you forked above!\n",
    "8. Open the notebook that you are interested in!\n",
    "9. Make changes to the notebook, as appropriate for the lab that you are working on.\n",
    "10. Click on File->Save and follow the dialogue to push changes back to your GitHub repo!\n",
    "\n",
    "## Google Drive:\n",
    "\n",
    "Google Colab, as you might imagine, interfaces really nicely with Google Drive, so that you can have access to your files while you are working in Colab.  Here is how to set that up:\n",
    "\n",
    "1. Open the notebook called GoogleDriveMount.ipynb in the top level of the PhysicsLabs repository.\n",
    "2. Run the first cell, which will prompt you to authenticate your Google account.  Follow the instructions to do so.\n",
    "3. Edit the second cell and replace 'edwardbrash' with your own GitHub username.  This will allow you to clone your own repository into your Google Drive.\n",
    "4. Run the second and third cells, which will make a clone of your GitHub repository in your Google Drive.  This will allow you to access the files in your GitHub repository while you are working in Colab.\n",
    "\n",
    "\n",
    "\n",
    "\n",
    "\n"
   ]
  },
  {
   "cell_type": "code",
   "execution_count": null,
   "metadata": {},
   "outputs": [],
   "source": []
  }
 ],
 "metadata": {
  "kernelspec": {
   "display_name": "Python 3",
   "language": "python",
   "name": "python3"
  },
  "language_info": {
   "codemirror_mode": {
    "name": "ipython",
    "version": 3
   },
   "file_extension": ".py",
   "mimetype": "text/x-python",
   "name": "python",
   "nbconvert_exporter": "python",
   "pygments_lexer": "ipython3",
   "version": "3.6.8"
  },
  "latex_envs": {
   "LaTeX_envs_menu_present": true,
   "autoclose": false,
   "autocomplete": true,
   "bibliofile": "biblio.bib",
   "cite_by": "apalike",
   "current_citInitial": 1,
   "eqLabelWithNumbers": true,
   "eqNumInitial": 1,
   "hotkeys": {
    "equation": "Ctrl-E",
    "itemize": "Ctrl-I"
   },
   "labels_anchors": false,
   "latex_user_defs": false,
   "report_style_numbering": false,
   "user_envs_cfg": false
  }
 },
 "nbformat": 4,
 "nbformat_minor": 4
}
