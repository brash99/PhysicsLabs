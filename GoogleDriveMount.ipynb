{
 "nbformat": 4,
 "nbformat_minor": 0,
 "metadata": {
  "colab": {
   "provenance": [],
   "authorship_tag": "ABX9TyM/0fCvxdZFg1mZmMNZUfta",
   "include_colab_link": true
  },
  "kernelspec": {
   "name": "python3",
   "display_name": "Python 3 (ipykernel)",
   "language": "python"
  },
  "language_info": {
   "name": "python"
  }
 },
 "cells": [
  {
   "cell_type": "markdown",
   "metadata": {
    "id": "view-in-github",
    "colab_type": "text"
   },
   "source": [
    "<a href=\"https://colab.research.google.com/github/edwardbrash/PhysicsLabs/blob/main/GoogleDriveMount.ipynb\" target=\"_parent\"><img src=\"https://colab.research.google.com/assets/colab-badge.svg\" alt=\"Open In Colab\"/></a>"
   ]
  },
  {
   "cell_type": "code",
   "metadata": {
    "colab": {
     "base_uri": "https://localhost:8080/"
    },
    "id": "2QTO1E3Sz6-v",
    "outputId": "dcfd0abf-9602-4bed-b176-58f2ffb48fb2",
    "ExecuteTime": {
     "end_time": "2025-07-05T14:19:08.749918Z",
     "start_time": "2025-07-05T14:19:08.643139Z"
    }
   },
   "source": [
    "from google.colab import drive\n",
    "drive.mount('/content/gdrive')"
   ],
   "outputs": [
    {
     "ename": "ModuleNotFoundError",
     "evalue": "No module named 'google'",
     "output_type": "error",
     "traceback": [
      "\u001B[0;31m---------------------------------------------------------------------------\u001B[0m",
      "\u001B[0;31mModuleNotFoundError\u001B[0m                       Traceback (most recent call last)",
      "Cell \u001B[0;32mIn[1], line 1\u001B[0m\n\u001B[0;32m----> 1\u001B[0m \u001B[38;5;28;01mfrom\u001B[39;00m \u001B[38;5;21;01mgoogle\u001B[39;00m\u001B[38;5;21;01m.\u001B[39;00m\u001B[38;5;21;01mcolab\u001B[39;00m \u001B[38;5;28;01mimport\u001B[39;00m drive\n\u001B[1;32m      2\u001B[0m drive\u001B[38;5;241m.\u001B[39mmount(\u001B[38;5;124m'\u001B[39m\u001B[38;5;124m/content/gdrive\u001B[39m\u001B[38;5;124m'\u001B[39m)\n",
      "\u001B[0;31mModuleNotFoundError\u001B[0m: No module named 'google'"
     ]
    }
   ],
   "execution_count": 1
  },
  {
   "cell_type": "code",
   "source": [
    "%%bash\n",
    "cd /content/gdrive/MyDrive/\n",
    "rm -fr PhysicsLabs\n",
    "git clone https://github.com/edwardbrash/PhysicsLabs.git"
   ],
   "metadata": {
    "colab": {
     "base_uri": "https://localhost:8080/"
    },
    "id": "VgBBKelG0RP4",
    "outputId": "c5cb1397-0e4d-430b-d62d-09feb04ba86e"
   },
   "execution_count": 3,
   "outputs": [
    {
     "output_type": "stream",
     "name": "stderr",
     "text": [
      "Cloning into 'PhysicsLabs'...\n",
      "Updating files:  43% (78/178)\rUpdating files:  44% (79/178)\rUpdating files:  45% (81/178)\rUpdating files:  46% (82/178)\rUpdating files:  47% (84/178)\rUpdating files:  48% (86/178)\rUpdating files:  49% (88/178)\rUpdating files:  50% (89/178)\rUpdating files:  51% (91/178)\rUpdating files:  52% (93/178)\rUpdating files:  53% (95/178)\rUpdating files:  54% (97/178)\rUpdating files:  55% (98/178)\rUpdating files:  56% (100/178)\rUpdating files:  57% (102/178)\rUpdating files:  58% (104/178)\rUpdating files:  59% (106/178)\rUpdating files:  60% (107/178)\rUpdating files:  61% (109/178)\rUpdating files:  62% (111/178)\rUpdating files:  63% (113/178)\rUpdating files:  64% (114/178)\rUpdating files:  65% (116/178)\rUpdating files:  66% (118/178)\rUpdating files:  67% (120/178)\rUpdating files:  68% (122/178)\rUpdating files:  69% (123/178)\rUpdating files:  70% (125/178)\rUpdating files:  71% (127/178)\rUpdating files:  72% (129/178)\rUpdating files:  73% (130/178)\rUpdating files:  74% (132/178)\rUpdating files:  75% (134/178)\rUpdating files:  76% (136/178)\rUpdating files:  77% (138/178)\rUpdating files:  78% (139/178)\rUpdating files:  79% (141/178)\rUpdating files:  80% (143/178)\rUpdating files:  81% (145/178)\rUpdating files:  82% (146/178)\rUpdating files:  83% (148/178)\rUpdating files:  84% (150/178)\rUpdating files:  85% (152/178)\rUpdating files:  86% (154/178)\rUpdating files:  87% (155/178)\rUpdating files:  88% (157/178)\rUpdating files:  89% (159/178)\rUpdating files:  90% (161/178)\rUpdating files:  91% (162/178)\rUpdating files:  92% (164/178)\rUpdating files:  93% (166/178)\rUpdating files:  94% (168/178)\rUpdating files:  95% (170/178)\rUpdating files:  96% (171/178)\rUpdating files:  97% (173/178)\rUpdating files:  98% (175/178)\rUpdating files:  99% (177/178)\rUpdating files: 100% (178/178)\rUpdating files: 100% (178/178), done.\n"
     ]
    }
   ]
  },
  {
   "cell_type": "code",
   "source": [
    "%%bash\n",
    "cd /content/gdrive/MyDrive/\n",
    "cd PhysicsLabs\n",
    "ls -altr"
   ],
   "metadata": {
    "colab": {
     "base_uri": "https://localhost:8080/"
    },
    "id": "gUZCpexT059_",
    "outputId": "468cbf8c-9258-4e8e-afaf-d766ed77bb13"
   },
   "execution_count": 4,
   "outputs": [
    {
     "output_type": "stream",
     "name": "stdout",
     "text": [
      "total 46\n",
      "-rw------- 1 root root 1081 Jul  2 15:48 LICENSE.md\n",
      "drwx------ 3 root root 4096 Jul  2 15:48 .idea\n",
      "-rw------- 1 root root 1072 Jul  2 15:48 .gitignore\n",
      "-rw------- 1 root root 6781 Jul  2 15:48 GeosynchronousOrbits.ipynb\n",
      "drwx------ 2 root root 4096 Jul  2 15:48 ExampleFiles\n",
      "-rw------- 1 root root 3005 Jul  2 15:48 EnvironmentSetup.ipynb\n",
      "drwx------ 2 root root 4096 Jul  2 15:48 Demo files\n",
      "drwx------ 4 root root 4096 Jul  2 15:48 PHYS201L\n",
      "-rw------- 1 root root   56 Jul  2 15:48 update\n",
      "drwx------ 7 root root 4096 Jul  2 15:48 Templates\n",
      "-rw------- 1 root root  125 Jul  2 15:48 README.md\n",
      "drwx------ 7 root root 4096 Jul  2 15:48 PHYS202L\n",
      "drwx------ 2 root root 4096 Jul  2 15:48 images\n",
      "drwx------ 8 root root 4096 Jul  2 15:48 .git\n"
     ]
    }
   ]
  }
 ]
}
