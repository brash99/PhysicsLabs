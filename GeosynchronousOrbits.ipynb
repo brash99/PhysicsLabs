{
  "cells": [
    {
      "cell_type": "markdown",
      "metadata": {
        "id": "45YVCDKeeg4N"
      },
      "source": [
        "# Geosynchronous Orbits\n",
        "\n",
        "The assumptions going into this calculation are as folllows:\n",
        "\n",
        "1. The orbit of the satellite is circular.\n",
        "2. The period of of the earth's rotation is 1 day = 24 hours.\n",
        "\n",
        "The force of gravitational attraction between the satellite and the earth is:\n",
        "\n",
        "\\begin{equation}\n",
        "|\\vec{F}_g| = \\frac{G m_{satellite} m_{Earth}}{r^2} = m_{satellite} |\\vec{a}| = m_{satellite} \\frac{v^2}{r}\n",
        "\\end{equation}\n",
        "\n",
        "Simplifying, we get that:\n",
        "\n",
        "\\begin{equation}\n",
        "v^2 = \\frac{G m_{Earth}}{r}\n",
        "\\end{equation}\n",
        "\n",
        "The speed of the satellite in orbit is given by:\n",
        "\n",
        "\\begin{equation}\n",
        "v = \\frac{distance}{time} = \\frac{2\\pi r}{T} \\\\\n",
        "v^2 = \\frac{4\\pi^2r^2}{T^2}\n",
        "\\end{equation}\n",
        "\n",
        "Finally, we arrive at Kepler's Third Law:\n",
        "\n",
        "\\begin{equation}\n",
        "\\frac{r^3}{T^2} = \\frac{G m_{Earth}}{4\\pi^2} = constant\n",
        "\\end{equation}\n",
        "\n"
      ]
    },
    {
      "cell_type": "code",
      "execution_count": 3,
      "metadata": {
        "id": "cOJYTiT7eg4O",
        "outputId": "dca0ce96-c5d2-4416-ee25-9bdf5a4043e7",
        "colab": {
          "base_uri": "https://localhost:8080/"
        }
      },
      "outputs": [
        {
          "output_type": "stream",
          "name": "stdout",
          "text": [
            "Requirement already satisfied: P201_Functions in /usr/local/lib/python3.11/dist-packages (1.0)\n",
            "Requirement already satisfied: numpy in /usr/local/lib/python3.11/dist-packages (from P201_Functions) (2.0.2)\n",
            "Requirement already satisfied: matplotlib in /usr/local/lib/python3.11/dist-packages (from P201_Functions) (3.10.0)\n",
            "Requirement already satisfied: scikit-learn in /usr/local/lib/python3.11/dist-packages (from P201_Functions) (1.6.1)\n",
            "Requirement already satisfied: scipy in /usr/local/lib/python3.11/dist-packages (from P201_Functions) (1.15.3)\n",
            "Requirement already satisfied: contourpy>=1.0.1 in /usr/local/lib/python3.11/dist-packages (from matplotlib->P201_Functions) (1.3.2)\n",
            "Requirement already satisfied: cycler>=0.10 in /usr/local/lib/python3.11/dist-packages (from matplotlib->P201_Functions) (0.12.1)\n",
            "Requirement already satisfied: fonttools>=4.22.0 in /usr/local/lib/python3.11/dist-packages (from matplotlib->P201_Functions) (4.58.4)\n",
            "Requirement already satisfied: kiwisolver>=1.3.1 in /usr/local/lib/python3.11/dist-packages (from matplotlib->P201_Functions) (1.4.8)\n",
            "Requirement already satisfied: packaging>=20.0 in /usr/local/lib/python3.11/dist-packages (from matplotlib->P201_Functions) (24.2)\n",
            "Requirement already satisfied: pillow>=8 in /usr/local/lib/python3.11/dist-packages (from matplotlib->P201_Functions) (11.2.1)\n",
            "Requirement already satisfied: pyparsing>=2.3.1 in /usr/local/lib/python3.11/dist-packages (from matplotlib->P201_Functions) (3.2.3)\n",
            "Requirement already satisfied: python-dateutil>=2.7 in /usr/local/lib/python3.11/dist-packages (from matplotlib->P201_Functions) (2.9.0.post0)\n",
            "Requirement already satisfied: joblib>=1.2.0 in /usr/local/lib/python3.11/dist-packages (from scikit-learn->P201_Functions) (1.5.1)\n",
            "Requirement already satisfied: threadpoolctl>=3.1.0 in /usr/local/lib/python3.11/dist-packages (from scikit-learn->P201_Functions) (3.6.0)\n",
            "Requirement already satisfied: six>=1.5 in /usr/local/lib/python3.11/dist-packages (from python-dateutil>=2.7->matplotlib->P201_Functions) (1.17.0)\n"
          ]
        }
      ],
      "source": [
        "import numpy as np\n",
        "import matplotlib.pyplot as plt\n",
        "import pandas as pd\n",
        "\n",
        "import sys; sys.path.insert(0, './PHYS201L/JupyterNotebooks')\n",
        "!pip3 install P201_Functions\n",
        "from P201_Functions import *\n",
        "\n",
        "import astropy.constants as astro #import astronomical physical constancts\n",
        "import astropy.units as units #input astromical units module"
      ]
    },
    {
      "cell_type": "code",
      "execution_count": 4,
      "metadata": {
        "id": "N-Rgl_Iweg4O",
        "outputId": "c5d23a6d-f387-4d40-fc24-d3eeddf70edc",
        "colab": {
          "base_uri": "https://localhost:8080/"
        }
      },
      "outputs": [
        {
          "output_type": "stream",
          "name": "stdout",
          "text": [
            "Radius =  42241094.19769288 m\n",
            "Speed =  3071.8590558117216 m / s\n",
            "Acceleration =  0.22339189450466163 m / s2\n",
            "Fraction of Earth's surface gravity =  2.277963366742584 %\n",
            "\n"
          ]
        }
      ],
      "source": [
        "# Kepler's third law constant\n",
        "Kep = astro.G*astro.M_earth/(4.0*np.pi**2)\n",
        "\n",
        "# Period of revolution = 1 day\n",
        "T = (24*3600.0)*units.s\n",
        "\n",
        "r = (T**2*Kep)**(1.0/3.0)\n",
        "\n",
        "v = 2.0*np.pi*r/T\n",
        "\n",
        "a = v**2/r\n",
        "\n",
        "fraction = a/astro.g0\n",
        "\n",
        "print (\"Radius = \",r)\n",
        "print (\"Speed = \",v)\n",
        "print (\"Acceleration = \",a)\n",
        "print (\"Fraction of Earth's surface gravity = \",fraction*100,\"%\")\n",
        "\n",
        "print()"
      ]
    },
    {
      "cell_type": "code",
      "execution_count": null,
      "metadata": {
        "id": "_Unka2nTeg4O"
      },
      "outputs": [],
      "source": []
    }
  ],
  "metadata": {
    "kernelspec": {
      "display_name": "Python 3",
      "language": "python",
      "name": "python3"
    },
    "language_info": {
      "codemirror_mode": {
        "name": "ipython",
        "version": 3
      },
      "file_extension": ".py",
      "mimetype": "text/x-python",
      "name": "python",
      "nbconvert_exporter": "python",
      "pygments_lexer": "ipython3",
      "version": "3.6.8"
    },
    "colab": {
      "provenance": []
    }
  },
  "nbformat": 4,
  "nbformat_minor": 0
}