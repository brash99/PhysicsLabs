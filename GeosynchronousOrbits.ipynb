{
 "cells": [
  {
   "cell_type": "markdown",
   "metadata": {},
   "source": [
    "# Geosynchronous Orbits\n",
    "\n",
    "The assumptions going into this calculation are as folllows:\n",
    "\n",
    "1. The orbit of the satellite is circular.\n",
    "2. The period of of the earth's rotation is 1 day = 24 hours.\n",
    "\n",
    "The force of gravitational attraction between the satellite and the earth is:\n",
    "\n",
    "\\begin{equation}\n",
    "|\\vec{F}_g| = \\frac{G m_{satellite} m_{Earth}}{r^2} = m_{satellite} |\\vec{a}| = m_{satellite} \\frac{v^2}{r}\n",
    "\\end{equation}\n",
    "\n",
    "Simplifying, we get that:\n",
    "\n",
    "\\begin{equation}\n",
    "v^2 = \\frac{G m_{Earth}}{r}\n",
    "\\end{equation}\n",
    "\n",
    "The speed of the satellite in orbit is given by:\n",
    "\n",
    "\\begin{equation}\n",
    "v = \\frac{distance}{time} = \\frac{2\\pi r}{T} \\\\\n",
    "v^2 = \\frac{4\\pi^2r^2}{T^2}\n",
    "\\end{equation}\n",
    "\n",
    "Finally, we arrive at Kepler's Third Law:\n",
    "\n",
    "\\begin{equation}\n",
    "\\frac{r^3}{T^2} = \\frac{G m_{Earth}}{4\\pi^2} = constant\n",
    "\\end{equation}\n",
    "\n"
   ]
  },
  {
   "cell_type": "code",
   "execution_count": 38,
   "metadata": {},
   "outputs": [],
   "source": [
    "import numpy as np\n",
    "import matplotlib.pyplot as plt\n",
    "import pandas as pd\n",
    "\n",
    "import sys; sys.path.insert(0, './PHYS201L/JupyterNotebooks')\n",
    "from P201_Functions import *\n",
    "\n",
    "import astropy.constants as astro #import astronomical physical constancts\n",
    "import astropy.units as units #input astromical units module"
   ]
  },
  {
   "cell_type": "code",
   "execution_count": 42,
   "metadata": {},
   "outputs": [
    {
     "name": "stdout",
     "output_type": "stream",
     "text": [
      "Radius =  42241094.19769288 m\n",
      "Speed =  3071.8590558117216 m / s\n",
      "Acceleration =  0.22339189450466163 m / s2\n",
      "Fraction of Earth's surface gravity =  2.277963366742584 %\n",
      "\n"
     ]
    }
   ],
   "source": [
    "# Kepler's third law constant\n",
    "Kep = astro.G*astro.M_earth/(4.0*np.pi**2)\n",
    "\n",
    "# Period of revolution = 1 day\n",
    "T = (24*3600.0)*units.s\n",
    "\n",
    "r = (T**2*Kep)**(1.0/3.0)\n",
    "\n",
    "v = 2.0*np.pi*r/T\n",
    "\n",
    "a = v**2/r\n",
    "\n",
    "fraction = a/astro.g0\n",
    "\n",
    "print (\"Radius = \",r)\n",
    "print (\"Speed = \",v)\n",
    "print (\"Acceleration = \",a)\n",
    "print (\"Fraction of Earth's surface gravity = \",fraction*100,\"%\")\n",
    "\n",
    "print()"
   ]
  },
  {
   "cell_type": "code",
   "execution_count": null,
   "metadata": {},
   "outputs": [],
   "source": []
  }
 ],
 "metadata": {
  "kernelspec": {
   "display_name": "Python 3",
   "language": "python",
   "name": "python3"
  },
  "language_info": {
   "codemirror_mode": {
    "name": "ipython",
    "version": 3
   },
   "file_extension": ".py",
   "mimetype": "text/x-python",
   "name": "python",
   "nbconvert_exporter": "python",
   "pygments_lexer": "ipython3",
   "version": "3.6.8"
  }
 },
 "nbformat": 4,
 "nbformat_minor": 2
}
