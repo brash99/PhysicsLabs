{
 "cells": [
  {
   "cell_type": "markdown",
   "metadata": {
    "colab_type": "text",
    "id": "view-in-github"
   },
   "source": [
    "<a href=\"https://colab.research.google.com/github/brash99/Phys202L/blob/main/Lorentz_Force.ipynb\" target=\"_parent\"><img src=\"https://colab.research.google.com/assets/colab-badge.svg\" alt=\"Open In Colab\"/></a>"
   ]
  },
  {
   "cell_type": "markdown",
   "metadata": {
    "id": "1QuMRgwtWuB1"
   },
   "source": [
    "# Lab 6:  Lorentz Force"
   ]
  },
  {
   "cell_type": "markdown",
   "metadata": {},
   "source": [
    "# Theory\n",
    "\n",
    "# Determining the Speed of the Electron\n",
    "From conservation of energy, we know that the electron will be ejected from an “electron gun” with a kinetic energy\n",
    "that is related to the accelerating voltage, $V_{a}$:\n",
    "$$\\frac{1}{2}mv^2=qV_{a}\\tag{2}$$\n",
    "\n",
    "We can re-arrange this equation for the speed of the electron:\n",
    "$$v=\\sqrt{\\frac{2qV_{a}}{m}}\\tag{3}$$\n",
    " \n",
    "where $m$ is the electron’s mass.\n",
    "\n",
    "# Computing the Applied Fields\n",
    "\n",
    "The electric and magnetic fields themselves are not known, but the voltages and currents that will be used to make\n",
    "them will be measurable.\n",
    "\n",
    "The Magnetic Field:\n",
    "\n",
    "The law of Biot and Savart tells us that the magnetic field produced on the axis of one Helmholtz coil of $N$ turns of\n",
    "wire with a radius of $R$ is given by\n",
    "\n",
    "$$B=\\frac{\\mu_{0}NI}{2}\\frac{R^2}{(R^2+ y^2)^{\\frac{3}{2}}}\\tag{4}$$\n",
    "\n",
    "where $y$ is the distance away from the plane of the coil along the axis. In the experiment, a pair of Helmholtz coils\n",
    "will be held apart a distance equal to the radius of one of the coils. At the center of this configuration, the magnetic\n",
    "field will be\n",
    "\n",
    "$$B = 2(\\frac{\\mu_{0}NI}{2})\\frac{R^2}{(R^2+(\\frac{R}{2})^2)^{\\frac{3}{2}}}$$\n",
    "$$=\\mu_{0}NI\\frac{1}{R}\\frac{1}{(1+\\frac{1}{4})^{\\frac{3}{2}}}$$\n",
    "$$=(\\frac{4}{5})^{\\frac{3}{2}}\\frac{\\mu_{0}N}{R}I\\tag{5}$$\n",
    "\n",
    "\n",
    "The Electric Field:\n",
    "\n",
    "\n",
    "We could compute the electric field from the plate voltage, $V$, from\n",
    "$$E=\\frac{V_{p}}{d_{eff}}\\tag{6}$$\n",
    "\n",
    "where $d$ is the effective distance between the plates. It is not the actual distance because the parallel-plate capacitor\n",
    "approximation isn’t quite good enough for these long, thin plates. What we do know (or, better yet, can measure) is the deflection of the electron beam after it travels the 10 cm across the measurement grid. The time it takes the electrons to traverse the grid is: t = Δx/v. The vertical acceleration of the electrons is given by\n",
    "$$a=\\frac{F}{m}=\\frac{qE}{m}\\tag{7}$$\n",
    "\n",
    "The vertical distance that the electron then travels is given by kinematics:\n",
    "\n",
    "$$\\Delta y=\\frac{1}{2}at^2=\\frac{qE}{2m}t^2=\\frac{qE}{2m}(\\frac{\\Delta x}{v})^2\\tag{8}$$\n",
    "\n",
    "If we have measured the deflection, we can find the electric field by rearranging Equation (8):\n",
    "\n",
    "$$E=\\frac{2m(\\Delta y)v^2}{q (\\Delta x)^2} =4V_{a}\\frac{\\Delta y}{(\\Delta x)^2}\\tag{9}$$\n",
    "\n",
    "Where we have substituted in Equation (3) for the velocity of the electron. Setting $E=V/d$ we find that\n",
    "\n",
    "$$d_{eff} =\\frac{V_{p}}{\\Delta y}\\frac{(\\Delta x)^2}{4 V_{a}}\\tag{10}$$\n",
    "\n",
    "\n",
    "# Determining the Lorentz Force\n",
    "\n",
    "By Radius of Curvature:\n",
    "\n",
    "If we apply a magnetic field at right angles to the electron’s motion, we find that the electron moves in circular motion. Equating the Lorentz Force with the centripital force required to keep the electron moving in a circle we find\n",
    "that:\n",
    "$$qvB=m\\frac{v^2}{R}\\tag{11}$$\n",
    "\n",
    "If we now rearrange this equation and substitute in equation (3) for the speed of the electron, we find that:\n",
    "\n",
    "$$BR=\\frac{B}{\\frac{1}{R}}=\\sqrt{\\frac{2mV_{a}}{q}}\\tag{12}$$\n",
    "\n",
    "The odd-looking fraction gives us a way to graphically determine the validity of the Lorentz force law (Equation 1):\n",
    "If we create a graph of $B$ vs. $1/R$, the slope should be the constant value given in Equation (12).\n",
    "\n",
    "By Balancing with an Electric Force:\n",
    "\n",
    "If, instead of measuring the radius of curvature of the electron’s path, we apply an electric field of a known strength,\n",
    "the electric and magnetic forces are balanced when:\n",
    "$$qE=qvB ⇒ v=\\frac{E}{B}\\tag{13}$$\n",
    "\n",
    "# Uncertainty Analysis\n",
    "We have many cases where we will want the uncertainty in a quantity: the velocity of the electron, the applied magnetic field, and the effective plate distance. We have three equations (3, 5, and 10) with which we could use propagation of errors, but as you already know, computing these values is very tedious.\n",
    "Equation (5), for example, tells us what the magnetic field will be given the radius, number of turns, and applied\n",
    "current in a pair of perfectly-made coils exactly a distance $R$ apart. Experimentally, however, the magnetic field\n",
    "must be slightly different from the theoretical predictions because the coils have a finite thickness and the separation\n",
    "between the coils will not be exactly $R$. Instead of using the product rule to estimate uncertainties, it is better (and\n",
    "easier!) to actually measure the magnetic field as a function of current. Then, by fitting the measured $B$ vs. $I$ curve with a linear fit, the slope tells us the constant of proportionality between the applied current and generated magnetic\n",
    "field:\n",
    "\n",
    "$$B=\\gamma I\\tag{14}$$\n",
    "\n",
    " It is much easier to perform propagation of errors on this equation knowing the measured uncertainty in $\\gamma$ and the\n",
    "uncertainty in the applied current, $I$.\n",
    "Similarly, equation (10) gives us the effective plate spacing but it is much easier to plot plate voltage, $V$, versus deflection distance, $\\Delta y$. Once again, this slope (multiplied by a constant) gives us our effective plate gap and, using\n",
    "the reported uncertainty in that slope, we can use propagation of errors on equation (6) instead. "
   ]
  },
  {
   "cell_type": "code",
   "execution_count": 1,
   "metadata": {
    "id": "oWmLcWhAWuB5"
   },
   "outputs": [],
   "source": [
    "import numpy as np\n",
    "import pandas as pd\n",
    "import matplotlib.pyplot as plt\n",
    "import scipy.stats as stats\n",
    "\n",
    "# The following lines make plots in dark mode look reasonable.  If you are not using dark\n",
    "# mode you don't need them, but you can also just leave them here and it should work fine.\n",
    "\n",
    "dark_mode = False\n",
    "# plotting choices for dark-mode\n",
    "if (dark_mode):\n",
    "    from jupyterthemes import jtplot\n",
    "    jtplot.style(theme='monokai', context='notebook', ticks=True, grid=False)\n",
    "    linecolor = 'w'\n",
    "else:\n",
    "    linecolor = 'k'"
   ]
  },
  {
   "cell_type": "markdown",
   "metadata": {
    "id": "YQC6Jwa2WuB7"
   },
   "source": [
    "# Determining the Relationship Between Magnetic Field and Current\n",
    "\n",
    "To begin, we will measure the magnetic field produced by\n",
    "the Helmholtz coils and compare that field with equation\n",
    "(5).\n",
    "1. Plug in the Magnetic Field Sensor into Analog channel “A” and turn on the PASCO 850 interface.\n",
    "2. Make sure the switches on the sensor are set to “Radial” (horizantal) and “1x.”\n",
    "3. Start the Capstone program and drag one Graph, one Digits, and one Table onto the main window.\n",
    "4. Click on the “Hardware Setup” tab in the in the left pane.\n",
    "5. Click on the Analog channel “A” port in the diagram and select the “Magnetic Field Sensor.”\n",
    "6. Close the tab by clicking “Hardware Setup” again.\n",
    "7. For the “Select Measurement” button on the Digits display, select “Magnetic Field Strength (1x).”\n",
    "8. In the title bar for the Digits display, click on the left-most (greenish) button which increases the number of decimal digits shown. You should click this button until you see five decimal places displayed.\n",
    "\n",
    "The graph can be used to verify that you are getting good\n",
    "values for the magnetic field. Otherwise, your data can\n",
    "simply be read off the Digits display.\n",
    "The Helmholtz coils have a maximum current rating\n",
    "of 2A. We will now configure the Helmholtz coils and set the current limiter on the 24 V power supply:\n",
    "\n",
    "1. Ensure that both Helmholtz coils are securely installed into the fixture with the “A” and “Z” connection labels facing away from each other.\n",
    "2. With the power supply turned off and both (DC) knobs rotated fully CCW, plug the positive side of the power supply into the “A” port of the left coil and the negative side into the “A” port of the right coil.\n",
    "3. Connect the two “Z” ports together with a short cable.\n",
    "4. Turn on the power supply and rotate the voltage knob fully clockwise.\n",
    "5. Slowly rotate the current knob until the current reading is 2.0 A. The current limit is now set. Do not touch this knob for the remainder of the experiment. If you do, you will have to start again with step 1.\n",
    "6. Turn the voltage knob fully CCW.\n",
    "\n",
    "You are now ready to take data:\n",
    "1. Carefully set the Hall Probe in the upper arm of the fixture (see Figure 1.) You might use a piece of tapeto help secure it in position with the controls facing towards you.\n",
    "2. Carefully press the “TARE” button.\n",
    "3. Take magnetic field data every 0.2 A by rotating the voltage knob only. Enter this data into your table and compare the slope of your graph to equation (5).\n",
    "4. Rotate the voltage knob fully CCW and turn off the power supply when you are done. N.B. The Hall probe reading may drift at a rate of up to 0.5 μT/s, so your precision will be limited and you will want to try and capture your data within 5–10 minutes of pressing the “TARE” button. The slope of your graph (and its uncertainty) are the values you will need to utilize equation (14)."
   ]
  },
  {
   "cell_type": "code",
   "execution_count": 11,
   "metadata": {
    "colab": {
     "base_uri": "https://localhost:8080/"
    },
    "id": "xHu50rMkWuB7",
    "outputId": "1f407c81-2104-4361-e494-c6ff70a99d8a"
   },
   "outputs": [
    {
     "name": "stdout",
     "output_type": "stream",
     "text": [
      "Helmholtz Coil Calibration:\n",
      "   i    di        B      dB\n",
      " 0.2  0.01  0.00093  0.0001\n",
      " 0.4  0.01  0.00169  0.0001\n",
      " 0.6  0.01  0.00254  0.0001\n",
      " 0.8  0.01  0.00337  0.0001\n",
      " 1.0  0.01  0.00413  0.0001\n",
      " 1.2  0.01  0.00495  0.0001\n",
      " 1.4  0.01  0.00577  0.0001\n",
      " 1.6  0.01  0.00659  0.0001\n",
      " 1.8  0.01  0.00739  0.0001\n"
     ]
    }
   ],
   "source": [
    "# Create a Pandas DataFrame with data for part 1\n",
    "\n",
    "# The data elements are [i, di, B, dB] (current (amp), magnetic field (Tesla))\n",
    "# enter the data manually...\n",
    "data1 = [[0.2, 0.01, 0.00093, 0.0001],\n",
    "         [0.4, 0.01, 0.00169, 0.0001],\n",
    "         [0.6, 0.01, 0.00254, 0.0001],\n",
    "         [0.8, 0.01, 0.00337, 0.0001],\n",
    "         [1.0, 0.01, 0.00413, 0.0001],\n",
    "         [1.2, 0.01, 0.00495, 0.0001],\n",
    "         [1.4, 0.01, 0.00577, 0.0001],\n",
    "         [1.6, 0.01, 0.00659, 0.0001],\n",
    "         [1.8, 0.01, 0.00739, 0.0001]]\n",
    "\n",
    "# create dataframe\n",
    "df1 = pd.DataFrame(data1, columns = ['i', 'di','B','dB'])\n",
    "\n",
    "\"\"\"\n",
    "# ... or import the data from capstone (save and upload .csv file)\n",
    "df1 = pd.read_csv(\"./TvA.csv\")\n",
    "\"\"\"\n",
    "\n",
    "print('Helmholtz Coil Calibration:')\n",
    "print(df1.to_string(index=False))"
   ]
  },
  {
   "cell_type": "code",
   "execution_count": 12,
   "metadata": {
    "colab": {
     "base_uri": "https://localhost:8080/",
     "height": 618
    },
    "id": "8sos972vWuB9",
    "outputId": "7ced3ad6-c5c4-49ed-84d5-facc86d14fc5"
   },
   "outputs": [
    {
     "name": "stdout",
     "output_type": "stream",
     "text": [
      "Beta: [0.00404838 0.00010274]\n",
      "Beta Std Error: [1.30981767e-05 1.47414856e-05]\n",
      "Beta Covariance: [[ 4.84958804e-09 -4.84958363e-09]\n",
      " [-4.84958363e-09  6.14278987e-09]]\n",
      "Residual Variance: 0.03537666134062164\n",
      "Inverse Condition #: 0.03915695383066051\n",
      "Reason(s) for Halting:\n",
      "  Sum of squares convergence\n",
      "\n",
      "Final Result: Y = (0.0040 +/- 0.0000)X + (0.000103 +/- 0.000015)\n"
     ]
    },
    {
     "data": {
      "image/png": "[encoded data removed]",
      "text/plain": [
       "<Figure size 640x480 with 1 Axes>"
      ]
     },
     "metadata": {
      "needs_background": "light"
     },
     "output_type": "display_data"
    }
   ],
   "source": [
    "xi = df1['i']\n",
    "yi = df1['B']\n",
    "sigmaxi = df1['di']\n",
    "sigmayi = df1['dB']\n",
    "\n",
    "##############################\n",
    "\n",
    "from scipy.odr import *\n",
    "\n",
    "def fitfunction(B, x):\n",
    "    '''Linear function y = mx + b'''\n",
    "    # B is a vector of the parameters.\n",
    "    # x is an array of the current x values.\n",
    "    # x is in the same format as the x passed to Data or RealData.\n",
    "    #\n",
    "    # Return an array in the same format as y passed to Data or RealData\n",
    "    return B[0]*x + B[1]\n",
    "\n",
    "linear = Model(fitfunction) # create a Model object based on the fitfuncion we have defined\n",
    "mydata = RealData(xi, yi, sx=sigmaxi, sy=sigmayi) # create a data object based on our data, include errors.\n",
    "myodr = ODR(mydata, linear, beta0=[0.05, 0.00]) # create a fitting object, based on the data, fit Model, and an intial set of parameters.\n",
    "myoutput = myodr.run()  # run the fitting process to get optimized parameters!\n",
    "\n",
    "myoutput.pprint() # print out the result of the fit\n",
    "\n",
    "# Now assign the important fit results to some more convenient variables.\n",
    "\n",
    "popt = myoutput.beta # the vector of optimized parameters\n",
    "pcov = myoutput.cov_beta # the covariance matrix\n",
    "perr = myoutput.sd_beta # the vector of ERRORS in the optimized parameters\n",
    "\n",
    "# The following lines generate upper and lower 99% \"Confidence Bands\" on the fit, for visualization\n",
    "# purposes.\n",
    "\n",
    "ps = np.random.multivariate_normal(popt,pcov,10000)\n",
    "xl = np.linspace(xi[0],xi[len(xi)-1],100)\n",
    "ysample=np.asarray([fitfunction(pl,xl) for pl in ps])\n",
    "ysample = np.nan_to_num(ysample)\n",
    "\n",
    "lower = np.percentile(ysample,16.0,axis=0)\n",
    "upper = np.percentile(ysample,84.0,axis=0)\n",
    "middle = (lower+upper)/2.0\n",
    "\n",
    "print()\n",
    "print (\"Final Result: Y = (%0.4f +/- %0.4f)X + (%0.6f +/- %0.6f)\" % (popt[0],perr[0],popt[1],perr[1]))\n",
    "\n",
    "plt.figure(figsize=(8, 6), dpi=80)\n",
    "plt.errorbar(xi, yi, xerr=sigmaxi, yerr=sigmayi, fmt='o', capsize=2, capthick=1)\n",
    "\n",
    "plt.plot(xl,middle)\n",
    "plt.plot(xl,lower)\n",
    "plt.plot(xl,upper)\n",
    "\n",
    "#########################\n",
    "\n",
    "plt.xlabel('Current (A)')\n",
    "plt.ylabel('Magnetic Field Magnitude (T)')\n",
    "plt.title('Determining the Helmholtz Coil B-Field Calibration')\n",
    "plt.show()\n",
    "\n",
    "gamma = np.abs(popt[0])\n",
    "dgamma = np.abs(perr[0])\n"
   ]
  },
  {
   "cell_type": "markdown",
   "metadata": {
    "id": "ZnpAKpX3WuB-"
   },
   "source": [
    "## Calibration of Electric Field Plates - Determining d_eff\n",
    "We now need to insert the Cathode Ray Tube into the holder and connect it to power.\n",
    "1. Mechanical Assembly:\n",
    "    1. Remove the Hall probe and set it aside.\n",
    "    2. Remove both coils from the assembly. You can leave the banana cables plugged into them if possible.\n",
    "    3. Call your instructor over and have them carefully insert the cathode ray tube into position.\n",
    "    4. Replace the two coils in the same orientation and with the same wiring as in the previous section.\n",
    "2. Electron Gun Connections:\n",
    "    1. Pick one of the two HV power supplies to run the electron gun. Ensure that it is switched OFF and the voltage knob is rotated fully CCW. It will have two high-voltage terminals, a ground terminal, and two AC voltage terminals. You will need:\n",
    "        1. Two (2) blue banana plug cables\n",
    "        2. One (1) short red banana plug cable\n",
    "        3. Two (2) short black banana plugcables\n",
    "        4. One (1) long red female-to-female banana cable.\n",
    "    2. Power the heater: Connect the AC voltage sockets (yellow) to the heater inputs on the back of the black cap of the Cathode Ray Tube (CRT) with the two blue banana plug cables.\n",
    "    3. Power the accelerating grid:\n",
    "        1. Connect the negative (black) high-voltage terminal to one of the blue heater cables (it doesn’t matter which one) with a short black cable.\n",
    "        2. Plug the short red cable into the positive (red) high-voltage terminal.\n",
    "        3. Plug the other end of the red cable into the “plastic brick” end of the long red female-to-female cable.\n",
    "        4. Connect the other end of the long red female-to-female cable to the anode pin on the neck of the CRT. Be gentle: you’re working with a thin glass tube!\n",
    "        5. Connect the positive (red) high-voltage terminal to the ground (GND) terminal with a short black cable.\n",
    "\n",
    "At this point, the connections should look like those in Figure 2.\n",
    "\n",
    "3. Electric Field Plate Connections:\n",
    "    1. Your other HV power supply will power the electric field plates. You will only need to use the black and red HV connections and the ground terminal. You will not need the AC connections. **Again, make sure the power supply is switched off and the voltage control knob is fully CCW.** You will need:\n",
    "        1. One (1) barrel connector\n",
    "        2. One (1) long black cable\n",
    "        3. One (1) short red cable\n",
    "        4. One (1) red female-to-female cable\n",
    "        5. One (1) short black cable\n",
    "    2. Attach a barrel connector to the lower pin on the CRT. Be Gentle. It should not need too much force.\n",
    "    3. Connect the negative (black) terminal of the HV power supply to the barrel connector with a long black cable.\n",
    "    4. Plug the short red cable into the positive (red) terminal of the HV power supply.\n",
    "    5. Plug the other end of the red cable into the “plastic brick” end of the long red female-to-female cable.\n",
    "    6. Connect the other end of the long red female-to-female cable to the upper pin on the CRT. Be gentle. It should not need much force.\n",
    "    7. Connect the positive (red) high-voltage terminal to the ground (GND) terminal with a short black cable.\n",
    "\n",
    "Have your instructor check all three sets of connections before continuing!\n",
    "\n",
    "4. Data Acquisition: You are now ready to compute the slope of a graph of equation (10).\n",
    "\n",
    "    1. Turn on the HV power supply connected to the electron gun and set the accelerating voltage to 2.50 kV.\n",
    "    2. Wait until you see the glowing blue trail of electrons on the mica screen.\n",
    "    3. Note carefully the height of the beam at the x=10 cm mark.\n",
    "    4. Turn on the HV power supply connected to the electrode plates and slowly increase the voltage until the beam is 0.5 cm above its original height. Record the voltage. Do this for heights of 0.5, 1.0, 1.5, and 2.0cm.\n",
    "    5. Reduce the plate voltage to zero volts.\n",
    "    6. Plot the data and use equation (10) to compute the effective plate gap.\n",
    "    7. You can now use equation (6) to compute the applied electric field from the plate voltage."
   ]
  },
  {
   "cell_type": "code",
   "execution_count": 4,
   "metadata": {
    "colab": {
     "base_uri": "https://localhost:8080/"
    },
    "id": "V9qGP7SKWuB_",
    "outputId": "a3e62598-7329-47ee-8c06-7bcbf76fb304"
   },
   "outputs": [
    {
     "name": "stdout",
     "output_type": "stream",
     "text": [
      "Electric Field Calibration:\n",
      "     Vp   dVp      y     dy\n",
      "  540.0  10.0  0.005  0.001\n",
      "  980.0  10.0  0.010  0.001\n",
      " 1410.0  10.0  0.015  0.001\n",
      " 1830.0  10.0  0.020  0.001\n"
     ]
    }
   ],
   "source": [
    "# Create a Pandas DataFrame with data for part 2\n",
    "\n",
    "# The data elements are [Vp, dVp, y, dy]\n",
    "\n",
    "data2 = [[540.0,10.0,0.005,0.0010], [980.0,10.0,0.010,0.0010], \n",
    "         [1410.0,10.0,0.015,0.0010], [1830.0,10.0,0.020,0.0010]]\n",
    "# create dataframe\n",
    "df2 = pd.DataFrame(data2, columns = ['Vp', 'dVp','y','dy'])\n",
    "\n",
    "\n",
    "\n",
    "print('Electric Field Calibration:')\n",
    "print(df2.to_string(index=False))"
   ]
  },
  {
   "cell_type": "code",
   "execution_count": 5,
   "metadata": {
    "colab": {
     "base_uri": "https://localhost:8080/",
     "height": 618
    },
    "id": "3v-NARY7WuCA",
    "outputId": "4976eda3-801b-441f-f743-69bafccf6e80"
   },
   "outputs": [
    {
     "name": "stdout",
     "output_type": "stream",
     "text": [
      "Beta: [ 1.16266662e-05 -1.33573278e-03]\n",
      "Beta Std Error: [8.55039837e-08 1.09740239e-04]\n",
      "Beta Covariance: [[ 1.09617023e-12 -1.30444206e-09]\n",
      " [-1.30444206e-09  1.80566470e-06]]\n",
      "Residual Variance: 0.006669521818915446\n",
      "Inverse Condition #: 0.0002917429621873361\n",
      "Reason(s) for Halting:\n",
      "  Sum of squares convergence\n",
      "\n",
      "Final Result: Y = (0.000011627 +/- 0.000000086)X + (-0.001335733 +/- 0.000109740)\n"
     ]
    },
    {
     "data": {
      "image/png": "[encoded data removed]",
      "text/plain": [
       "<Figure size 640x480 with 1 Axes>"
      ]
     },
     "metadata": {
      "needs_background": "light"
     },
     "output_type": "display_data"
    }
   ],
   "source": [
    "xi = df2['Vp']\n",
    "yi = df2['y']\n",
    "sigmaxi = df2['dVp']\n",
    "sigmayi = df2['dy']\n",
    "\n",
    "##############################\n",
    "\n",
    "##############################\n",
    "\n",
    "from scipy.odr import *\n",
    "\n",
    "def fitfunction(B, x):\n",
    "    '''Non-Linear function y = a*(x-c)^b'''\n",
    "    # B is a vector of the parameters.\n",
    "    # x is an array of the current x values.\n",
    "    # x is in the same format as the x passed to Data or RealData.\n",
    "    #\n",
    "    # Return an array in the same format as y passed to Data or RealData\n",
    "    return B[0]*x + B[1]\n",
    "\n",
    "linear = Model(fitfunction) # create a Model object based on the fitfuncion we have defined\n",
    "mydata = RealData(xi, yi, sx=sigmaxi, sy=sigmayi) # create a data object based on our data, include errors.\n",
    "myodr = ODR(mydata, linear, beta0=[2.1, 2.0]) # create a fitting object, based on the data, fit Model, and an intial set of parameters.\n",
    "myoutput = myodr.run()  # run the fitting process to get optimized parameters!\n",
    "\n",
    "myoutput.pprint() # print out the result of the fit\n",
    "\n",
    "# Now assign the important fit results to some more convenient variables.\n",
    "\n",
    "popt = myoutput.beta # the vector of optimized parameters\n",
    "pcov = myoutput.cov_beta # the covariance matrix\n",
    "perr = myoutput.sd_beta # the vector of ERRORS in the optimized parameters\n",
    "\n",
    "# The following lines generate upper and lower 99% \"Confidence Bands\" on the fit, for visualization\n",
    "# purposes.\n",
    "\n",
    "ps = np.random.multivariate_normal(popt,pcov,10000)\n",
    "xl = np.linspace(xi[0],xi[len(xi)-1],100)\n",
    "ysample=np.asarray([fitfunction(pl,xl) for pl in ps])\n",
    "ysample = np.nan_to_num(ysample)\n",
    "\n",
    "lower = np.percentile(ysample,16.0,axis=0)\n",
    "upper = np.percentile(ysample,84.0,axis=0)\n",
    "middle = (lower+upper)/2.0\n",
    "\n",
    "print()\n",
    "print (\"Final Result: Y = (%0.9f +/- %0.9f)X + (%0.9f +/- %0.9f)\" % (popt[0],perr[0],popt[1],perr[1]))\n",
    "\n",
    "plt.figure(figsize=(8, 6), dpi=80)\n",
    "plt.errorbar(xi, yi, xerr=sigmaxi, yerr=sigmayi, fmt='o', capsize=2, capthick=1)\n",
    "\n",
    "plt.plot(xl,middle)\n",
    "plt.plot(xl,lower)\n",
    "plt.plot(xl,upper)\n",
    "\n",
    "#########################\n",
    "\n",
    "plt.xlabel('Plate Voltage (V)')\n",
    "plt.ylabel('Vertical Distance (meters)')\n",
    "plt.title('Determining the Effective Distance (Accelerating Voltage = 2.5 kV)')\n",
    "plt.show()"
   ]
  },
  {
   "cell_type": "code",
   "execution_count": 6,
   "metadata": {
    "colab": {
     "base_uri": "https://localhost:8080/"
    },
    "id": "LpT_ozYSWuCB",
    "outputId": "5cc0af15-3512-43bf-a29a-a076d1ea2618"
   },
   "outputs": [
    {
     "name": "stdout",
     "output_type": "stream",
     "text": [
      "d$_{eff}$ = (0.0860 +/- 0.0027)\n"
     ]
    }
   ],
   "source": [
    "Va = 2500.0\n",
    "dVa = 10.0\n",
    "\n",
    "x = 0.10\n",
    "dx = 0.001\n",
    "\n",
    "C = popt[0]\n",
    "dC = perr[0]\n",
    "\n",
    "deff = x**2/(4*C*Va)\n",
    "\n",
    "ddeff = deff*(dVa/Va+2.0*dx/x+dC/C)\n",
    "\n",
    "print('d$_{eff}$ = (%0.4f +/- %0.4f)' % (deff,ddeff))"
   ]
  },
  {
   "cell_type": "code",
   "execution_count": 7,
   "metadata": {
    "colab": {
     "base_uri": "https://localhost:8080/"
    },
    "id": "QlpyAcMxcyby",
    "outputId": "10d18dd6-ef56-4ebc-b0e3-7c293a6c8df2"
   },
   "outputs": [
    {
     "name": "stdout",
     "output_type": "stream",
     "text": [
      "Velocity Selector:\n",
      "     Vp   dVp     i     di         B        dB             E          dE\n",
      "  600.0  10.0  0.05  0.001  0.000202  0.000005   6975.999716  334.993045\n",
      " 1150.0  10.0  0.10  0.001  0.000405  0.000005  13370.666122  535.492230\n",
      " 1560.0  10.0  0.15  0.001  0.000607  0.000006  18137.599261  684.955259\n",
      " 1880.0  10.0  0.20  0.001  0.000810  0.000007  21858.132442  801.609330\n",
      " 2200.0  10.0  0.25  0.001  0.001012  0.000007  25578.665624  918.263401\n"
     ]
    }
   ],
   "source": [
    "from io import DEFAULT_BUFFER_SIZE\n",
    "# Create a Pandas DataFrame with data for part 2\n",
    "\n",
    "# The data elements are [Vp, dVp, i, di]\n",
    "\n",
    "data3 = [[600.0,10.0,0.05,0.0010], [1150.0,10.0,0.10,0.0010], \n",
    "         [1560.0,10.0,0.15,0.0010], [1880.0,10.0,0.20,0.0010], [2200,10,0.25,.0010]]\n",
    "\n",
    "# create dataframe\n",
    "df3 = pd.DataFrame(data3, columns = ['Vp', 'dVp','i','di'])\n",
    "\n",
    "df3['B'] = gamma*df3['i']\n",
    "df3['dB'] = df3['B']*(dgamma/gamma+df3['di']/df3['i'])\n",
    "\n",
    "df3['E'] = df3['Vp']/deff\n",
    "df3['dE'] = df3['E']*(ddeff/deff+df3['dVp']/df3['Vp'])\n",
    "\n",
    "print('Velocity Selector:')\n",
    "print(df3.to_string(index=False))"
   ]
  },
  {
   "cell_type": "markdown",
   "metadata": {},
   "source": [
    "## Measuring the Lorentz Force on the Electron\n",
    "\n",
    "You are now ready to verify the Lorentz Force law. Make sure that the electron beam is visible in the tube and is perfectly horizontal.\n",
    "1. Increase the current (by increasing the voltage) on the Helmholtz coils by 0.05 A.\n",
    "2. Determine the height of the beam at every “x” value from 2 cm to 10 cm.\n",
    "3. Use the Mathematica notebook “circlefit.nb” to find the best-fit radius of curvature and its uncertainty.\n",
    "4. Increase the plate voltage until the beam is once again horizontal.\n",
    "5. Record your results in the Raw Data Table using equations (12) and (14).\n",
    "6. Return the plate voltage to zero.\n",
    "7. Repeat steps 1–6 until the current is at 0.25 A (or you’ve taken at least five data points)"
   ]
  },
  {
   "cell_type": "code",
   "execution_count": 8,
   "metadata": {
    "colab": {
     "base_uri": "https://localhost:8080/",
     "height": 618
    },
    "id": "Y3aC_7oxWuCC",
    "outputId": "9f8c844c-a0fb-454e-9c5a-2214d79bc3d8"
   },
   "outputs": [
    {
     "name": "stdout",
     "output_type": "stream",
     "text": [
      "Beta: [2.41709024e+07 2.51897929e+03]\n",
      "Beta Std Error: [1.70223226e+06 8.27247985e+02]\n",
      "Beta Covariance: [[ 9.24712752e+11 -3.79509846e+08]\n",
      " [-3.79509846e+08  2.18393974e+05]]\n",
      "Residual Variance: 3.133507834560088\n",
      "Inverse Condition #: 0.00026022981491979105\n",
      "Reason(s) for Halting:\n",
      "  Sum of squares convergence\n",
      "\n",
      "Final Result: Y = (24170902.3768 +/- 1702232.2562)X + (2518.9793 +/- 827.2480)\n"
     ]
    },
    {
     "data": {
      "image/png": "[encoded data removed]",
      "text/plain": [
       "<Figure size 640x480 with 1 Axes>"
      ]
     },
     "metadata": {
      "needs_background": "light"
     },
     "output_type": "display_data"
    }
   ],
   "source": [
    "xi = df3['B']\n",
    "yi = df3['E']\n",
    "sigmaxi = df3['dB']\n",
    "sigmayi = df3['dE']\n",
    "\n",
    "##############################\n",
    "\n",
    "from scipy.odr import *\n",
    "\n",
    "def fitfunction(B, x):\n",
    "    '''Non-Linear function y = a*(x-c)^b'''\n",
    "    # B is a vector of the parameters.\n",
    "    # x is an array of the current x values.\n",
    "    # x is in the same format as the x passed to Data or RealData.\n",
    "    #\n",
    "    # Return an array in the same format as y passed to Data or RealData\n",
    "    return B[0]*x + B[1]\n",
    "\n",
    "linear = Model(fitfunction) # create a Model object based on the fitfuncion we have defined\n",
    "mydata = RealData(xi, yi, sx=sigmaxi, sy=sigmayi) # create a data object based on our data, include errors.\n",
    "myodr = ODR(mydata, linear, beta0=[2.11, 2.0]) # create a fitting object, based on the data, fit Model, and an intial set of parameters.\n",
    "myoutput = myodr.run()  # run the fitting process to get optimized parameters!\n",
    "\n",
    "myoutput.pprint() # print out the result of the fit\n",
    "\n",
    "# Now assign the important fit results to some more convenient variables.\n",
    "\n",
    "popt = myoutput.beta # the vector of optimized parameters\n",
    "pcov = myoutput.cov_beta # the covariance matrix\n",
    "perr = myoutput.sd_beta # the vector of ERRORS in the optimized parameters\n",
    "\n",
    "# The following lines generate upper and lower 99% \"Confidence Bands\" on the fit, for visualization\n",
    "# purposes.\n",
    "\n",
    "ps = np.random.multivariate_normal(popt,pcov,10000)\n",
    "xl = np.linspace(xi[0],xi[len(xi)-1],100)\n",
    "ysample=np.asarray([fitfunction(pl,xl) for pl in ps])\n",
    "ysample = np.nan_to_num(ysample)\n",
    "\n",
    "lower = np.percentile(ysample,16.0,axis=0)\n",
    "upper = np.percentile(ysample,84.0,axis=0)\n",
    "middle = (lower+upper)/2.0\n",
    "\n",
    "print()\n",
    "print (\"Final Result: Y = (%0.4f +/- %0.4f)X + (%0.4f +/- %0.4f)\" % (popt[0],perr[0],popt[1],perr[1]))\n",
    "\n",
    "plt.figure(figsize=(8, 6), dpi=80)\n",
    "plt.errorbar(xi, yi, xerr=sigmaxi, yerr=sigmayi, fmt='o', capsize=2, capthick=1)\n",
    "\n",
    "plt.plot(xl,middle)\n",
    "plt.plot(xl,lower)\n",
    "plt.plot(xl,upper)\n",
    "\n",
    "#########################\n",
    "\n",
    "plt.xlabel('B (Tesla)')\n",
    "plt.ylabel('E (V/m')\n",
    "plt.title('Velocity Selector')\n",
    "plt.show()"
   ]
  },
  {
   "cell_type": "code",
   "execution_count": 9,
   "metadata": {
    "colab": {
     "base_uri": "https://localhost:8080/"
    },
    "id": "Np04NBtfWuCE",
    "outputId": "a748b24d-d2e5-4e3d-9b55-9a0acc26b8f6"
   },
   "outputs": [
    {
     "name": "stdout",
     "output_type": "stream",
     "text": [
      "29652210.162283562\n"
     ]
    }
   ],
   "source": [
    "Va = 2500.00\n",
    "dVa = 10.00\n",
    "\n",
    "q = 1.602E-19\n",
    "m = 9.11E-31\n",
    "\n",
    "v_expected = np.sqrt(2.0*q*Va/m)\n",
    "\n",
    "print(v_expected)\n"
   ]
  },
  {
   "cell_type": "markdown",
   "metadata": {},
   "source": [
    "## Clean Up\n",
    "Once you've completed the experiment, return your apparatus to a safe state by following these steps in this order:\n",
    "1. Ensure you have all the data you need to write your report (see the next page). You might consider upload-\n",
    "ing your data to your Google Drive.\n",
    "2. Rotate all knobs on all Power Supplies fully CCW and turn them off.\n",
    "3. Gently unplug all cables from your assembly and return them to the bag.\n",
    "4. Carefully remove the Helmholtz coils from the assembly. Do not remove the CRT.\n",
    "5. Shut down the Capstone program and reboot the computer.\n",
    "\n",
    "## Troubleshooting Capstone’s Curve Fitting Algorithm\n",
    "To determine the slopes of your plotted data, you will use Capstone’s curve fitting algorithm (most notably, the “lin -\n",
    "ear fit”). Sometimes this algorithm needs help in finding the correct fit. You can tell that this is true when the\n",
    "drawn curve poorly matches the data points. The slope might be exactly zero or one and the Mean Squared Error\n",
    "(MSE) will also be over 0.1.\n",
    "\n",
    "To help Capstone attempt a better fit, first, click on the box where the incorrect values are reported. On the left pane\n",
    "will be a “Curve Fit Editor” tab that you should click. Within that tab are the starting values Capstone is assuming.\n",
    "Some of these values will be “locked” (not be allowed to vary) when they should be and vice versa. You will need\n",
    "to make some educated guesses as to the correct fit parameters, enter them into the boxes, and click “Update Fit.”\n",
    "You will know if the fit has updated properly, but if you’re not sure, ask your instructor because incorrect data will\n",
    "lead to incorrect results!"
   ]
  }
 ],
 "metadata": {
  "colab": {
   "collapsed_sections": [],
   "include_colab_link": true,
   "name": "Copy of Lorentz_Force.ipynb",
   "provenance": []
  },
  "kernelspec": {
   "display_name": "Python 3",
   "language": "python",
   "name": "python3"
  },
  "language_info": {
   "codemirror_mode": {
    "name": "ipython",
    "version": 3
   },
   "file_extension": ".py",
   "mimetype": "text/x-python",
   "name": "python",
   "nbconvert_exporter": "python",
   "pygments_lexer": "ipython3",
   "version": "3.6.8"
  },
  "latex_envs": {
   "LaTeX_envs_menu_present": true,
   "autoclose": false,
   "autocomplete": true,
   "bibliofile": "biblio.bib",
   "cite_by": "apalike",
   "current_citInitial": 1,
   "eqLabelWithNumbers": true,
   "eqNumInitial": 1,
   "hotkeys": {
    "equation": "Ctrl-E",
    "itemize": "Ctrl-I"
   },
   "labels_anchors": false,
   "latex_user_defs": false,
   "report_style_numbering": false,
   "user_envs_cfg": false
  }
 },
 "nbformat": 4,
 "nbformat_minor": 1
}
