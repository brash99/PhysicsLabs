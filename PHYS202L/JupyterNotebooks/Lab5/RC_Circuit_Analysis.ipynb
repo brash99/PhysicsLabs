{
  "cells": [
    {
      "cell_type": "markdown",
      "metadata": {
        "id": "R2H3KLxhEmIK"
      },
      "source": [
        "# Lab 5:  RC Circuit Analysis"
      ]
    },
    {
      "cell_type": "code",
      "metadata": {
        "ExecuteTime": {
          "end_time": "2025-06-30T18:05:41.406640Z",
          "start_time": "2025-06-30T18:05:35.095918Z"
        },
        "id": "bsr_ak5xEmIM"
      },
      "source": [
        "import numpy as np\n",
        "import pandas as pd\n",
        "import matplotlib.pyplot as plt"
      ],
      "outputs": [],
      "execution_count": null
    },
    {
      "cell_type": "markdown",
      "metadata": {
        "id": "4_4AC125EmIM"
      },
      "source": [
        "# Capacitor-Resistor Combination 1\n",
        "\n",
        "In each phase of this experiment, a different combination of capactior and resistor, in a series circuit, was used.  The theory is as follows:\n",
        "\n",
        "When the switch is closed, thus defining $t=0$, the voltage across the capacitor will be given by:\n",
        "\n",
        "$\n",
        "\\begin{equation}\n",
        "V(t) = V_{source}(1 - e^{-\\frac{t}{RC}})\n",
        "\\end{equation}\n",
        "$\n",
        "\n",
        "The current through the circuit, defined according to $i_C = C\\frac{dV_C}{dt}$, is:\n",
        "\n",
        "$\n",
        "\\begin{equation}\n",
        "i(t) = \\frac{V_{source}}{R}e^{-\\frac{t}{RC}}\n",
        "\\end{equation}\n",
        "$\n",
        "\n",
        "The charge on the capacitor, defined by $Q = \\int_0^t i(t)dt$, is given by:\n",
        "\n",
        "$\n",
        "\\begin{equation}\n",
        "Q(t) = C V_{source}(1-e^{-\\frac{t}{RC}})\n",
        "\\end{equation}\n",
        "$\n"
      ]
    },
    {
      "cell_type": "code",
      "metadata": {
        "ExecuteTime": {
          "end_time": "2025-06-30T18:05:41.428209Z",
          "start_time": "2025-06-30T18:05:41.409092Z"
        },
        "id": "IFWMP2AoEmIN"
      },
      "source": [
        "# Create a Pandas DataFrame with data for part 1\n",
        "\n",
        "df1 = pd.read_csv(\"Experiment5_Cohen.csv\")\n",
        "\n",
        "df1_iv = (df1.copy()).drop(df1.columns[3], axis=1).dropna()\n",
        "df1_q = (df1.copy()).drop(df1.columns[2], axis=1)\n",
        "df1_q = (df1_q.copy()).drop(df1_q.columns[1], axis=1).dropna()"
      ],
      "outputs": [],
      "execution_count": null
    },
    {
      "cell_type": "code",
      "metadata": {
        "ExecuteTime": {
          "end_time": "2025-06-30T18:05:41.451613Z",
          "start_time": "2025-06-30T18:05:41.429118Z"
        },
        "id": "u2Gr8M7WEmIN",
        "outputId": "b0b223df-5a0a-419e-ce55-fb3a5dd0cba8"
      },
      "source": [
        "df1_iv = df1_iv.set_axis(['t', 'v', 'i'], axis=1)\n",
        "df1_q = df1_q.set_axis(['t', 'q'], axis=1)\n",
        "\n",
        "df1_iv['di']=0.000001\n",
        "df1_iv['dv']=0.001\n",
        "df1_iv['dt']=0.0001\n",
        "\n",
        "df1_q['dt']=0.0001\n",
        "df1_q['dq']=1E-8\n",
        "\n",
        "#pd.set_option('display.max_rows', None)\n",
        "df1_iv"
      ],
      "outputs": [
        {
          "data": {
            "text/plain": [
              "             t       v         i        di     dv      dt\n",
              "0       0.0000   1.038 -0.000052  0.000001  0.001  0.0001\n",
              "2       0.0005   1.039 -0.000264  0.000001  0.001  0.0001\n",
              "4       0.0010   1.038 -0.000131  0.000001  0.001  0.0001\n",
              "6       0.0020   1.037 -0.000308  0.000001  0.001  0.0001\n",
              "8       0.0020   1.038 -0.000267  0.000001  0.001  0.0001\n",
              "...        ...     ...       ...       ...    ...     ...\n",
              "47800  11.9500  10.184 -0.000748  0.000001  0.001  0.0001\n",
              "47802  11.9510  10.185 -0.000832  0.000001  0.001  0.0001\n",
              "47804  11.9510  10.185 -0.000859  0.000001  0.001  0.0001\n",
              "47806  11.9520  10.187 -0.000850  0.000001  0.001  0.0001\n",
              "47808  11.9520  10.186 -0.000846  0.000001  0.001  0.0001\n",
              "\n",
              "[23905 rows x 6 columns]"
            ],
            "text/html": [
              "<div>\n",
              "<style scoped>\n",
              "    .dataframe tbody tr th:only-of-type {\n",
              "        vertical-align: middle;\n",
              "    }\n",
              "\n",
              "    .dataframe tbody tr th {\n",
              "        vertical-align: top;\n",
              "    }\n",
              "\n",
              "    .dataframe thead th {\n",
              "        text-align: right;\n",
              "    }\n",
              "</style>\n",
              "<table border=\"1\" class=\"dataframe\">\n",
              "  <thead>\n",
              "    <tr style=\"text-align: right;\">\n",
              "      <th></th>\n",
              "      <th>t</th>\n",
              "      <th>v</th>\n",
              "      <th>i</th>\n",
              "      <th>di</th>\n",
              "      <th>dv</th>\n",
              "      <th>dt</th>\n",
              "    </tr>\n",
              "  </thead>\n",
              "  <tbody>\n",
              "    <tr>\n",
              "      <th>0</th>\n",
              "      <td>0.0000</td>\n",
              "      <td>1.038</td>\n",
              "      <td>-0.000052</td>\n",
              "      <td>0.000001</td>\n",
              "      <td>0.001</td>\n",
              "      <td>0.0001</td>\n",
              "    </tr>\n",
              "    <tr>\n",
              "      <th>2</th>\n",
              "      <td>0.0005</td>\n",
              "      <td>1.039</td>\n",
              "      <td>-0.000264</td>\n",
              "      <td>0.000001</td>\n",
              "      <td>0.001</td>\n",
              "      <td>0.0001</td>\n",
              "    </tr>\n",
              "    <tr>\n",
              "      <th>4</th>\n",
              "      <td>0.0010</td>\n",
              "      <td>1.038</td>\n",
              "      <td>-0.000131</td>\n",
              "      <td>0.000001</td>\n",
              "      <td>0.001</td>\n",
              "      <td>0.0001</td>\n",
              "    </tr>\n",
              "    <tr>\n",
              "      <th>6</th>\n",
              "      <td>0.0020</td>\n",
              "      <td>1.037</td>\n",
              "      <td>-0.000308</td>\n",
              "      <td>0.000001</td>\n",
              "      <td>0.001</td>\n",
              "      <td>0.0001</td>\n",
              "    </tr>\n",
              "    <tr>\n",
              "      <th>8</th>\n",
              "      <td>0.0020</td>\n",
              "      <td>1.038</td>\n",
              "      <td>-0.000267</td>\n",
              "      <td>0.000001</td>\n",
              "      <td>0.001</td>\n",
              "      <td>0.0001</td>\n",
              "    </tr>\n",
              "    <tr>\n",
              "      <th>...</th>\n",
              "      <td>...</td>\n",
              "      <td>...</td>\n",
              "      <td>...</td>\n",
              "      <td>...</td>\n",
              "      <td>...</td>\n",
              "      <td>...</td>\n",
              "    </tr>\n",
              "    <tr>\n",
              "      <th>47800</th>\n",
              "      <td>11.9500</td>\n",
              "      <td>10.184</td>\n",
              "      <td>-0.000748</td>\n",
              "      <td>0.000001</td>\n",
              "      <td>0.001</td>\n",
              "      <td>0.0001</td>\n",
              "    </tr>\n",
              "    <tr>\n",
              "      <th>47802</th>\n",
              "      <td>11.9510</td>\n",
              "      <td>10.185</td>\n",
              "      <td>-0.000832</td>\n",
              "      <td>0.000001</td>\n",
              "      <td>0.001</td>\n",
              "      <td>0.0001</td>\n",
              "    </tr>\n",
              "    <tr>\n",
              "      <th>47804</th>\n",
              "      <td>11.9510</td>\n",
              "      <td>10.185</td>\n",
              "      <td>-0.000859</td>\n",
              "      <td>0.000001</td>\n",
              "      <td>0.001</td>\n",
              "      <td>0.0001</td>\n",
              "    </tr>\n",
              "    <tr>\n",
              "      <th>47806</th>\n",
              "      <td>11.9520</td>\n",
              "      <td>10.187</td>\n",
              "      <td>-0.000850</td>\n",
              "      <td>0.000001</td>\n",
              "      <td>0.001</td>\n",
              "      <td>0.0001</td>\n",
              "    </tr>\n",
              "    <tr>\n",
              "      <th>47808</th>\n",
              "      <td>11.9520</td>\n",
              "      <td>10.186</td>\n",
              "      <td>-0.000846</td>\n",
              "      <td>0.000001</td>\n",
              "      <td>0.001</td>\n",
              "      <td>0.0001</td>\n",
              "    </tr>\n",
              "  </tbody>\n",
              "</table>\n",
              "<p>23905 rows × 6 columns</p>\n",
              "</div>"
            ]
          },
          "execution_count": 3,
          "metadata": {},
          "output_type": "execute_result"
        }
      ],
      "execution_count": null
    },
    {
      "cell_type": "markdown",
      "metadata": {
        "id": "a1JIgpOcEmIN"
      },
      "source": [
        "Our first task is to define the $t=0$ point.  We should graph the raw data, for voltage vs. time, and use this plot to decide on the fit region."
      ]
    },
    {
      "cell_type": "code",
      "metadata": {
        "ExecuteTime": {
          "end_time": "2025-06-30T18:05:44.903884Z",
          "start_time": "2025-06-30T18:05:43.327056Z"
        },
        "id": "kjazMqIgEmIN",
        "outputId": "c292082f-261d-41b9-ee11-863d89593afa"
      },
      "source": [
        "xi = df1_iv['t']\n",
        "yi = df1_iv['v']\n",
        "sigmaxi = df1_iv['dt']\n",
        "sigmayi = df1_iv['dv']\n",
        "\n",
        "plt.errorbar(xi, yi, xerr=sigmaxi, yerr=sigmayi, fmt='o', capsize=2, capthick=1)\n",
        "#plt.xlim(1.2,1.23)\n",
        "#plt.ylim(-0.025,0.025)\n",
        "\n",
        "tlow = 1.220\n",
        "thigh = 10.500\n",
        "\n",
        "df1_iv_select = df1_iv[(df1_iv['t']>tlow) & (df1_iv['t']<thigh)]\n",
        "xi = df1_iv_select['t']\n",
        "yi = df1_iv_select['v']\n",
        "sigmaxi = df1_iv_select['dt']\n",
        "sigmayi = df1_iv_select['dv']\n",
        "\n",
        "plt.errorbar(xi, yi, xerr=sigmaxi, yerr=sigmayi, fmt='o', capsize=2, capthick=1)\n",
        "\n"
      ],
      "outputs": [
        {
          "data": {
            "text/plain": [
              "<ErrorbarContainer object of 3 artists>"
            ]
          },
          "execution_count": 4,
          "metadata": {},
          "output_type": "execute_result"
        },
        {
          "data": {
            "text/plain": [
              "<Figure size 640x480 with 1 Axes>"
            ],
            "image/png": "[encoded data removed]"
          },
          "metadata": {},
          "output_type": "display_data"
        }
      ],
      "execution_count": null
    },
    {
      "cell_type": "code",
      "metadata": {
        "ExecuteTime": {
          "end_time": "2025-06-30T18:05:52.492550Z",
          "start_time": "2025-06-30T18:05:44.905101Z"
        },
        "id": "-hopdiDTEmIO",
        "outputId": "d88691b3-89d9-4923-9055-16e97996d380"
      },
      "source": [
        "from scipy.odr import *\n",
        "\n",
        "def fitfunction(b, x):\n",
        "    \"\"\"Exponential function y = B[0](1 - e^(-(x-B[1])/B[2]))\"\"\"\n",
        "    # B is a vector of the parameters.\n",
        "    # x is an array of the current x values.\n",
        "    # x is in the same format as the x passed to Data or RealData.\n",
        "    #\n",
        "    # Return an array in the same format as y passed to Data or RealData.\n",
        "    return b[0]*(1.0-np.exp(-(x-b[1])/b[2]))\n",
        "\n",
        "linear = Model(fitfunction) # create a Model object based on the fitfuncion we have defined\n",
        "mydata = RealData(xi, yi, sx=sigmaxi, sy=sigmayi) # create a data object based on our data, include errors.\n",
        "myodr = ODR(mydata, linear, beta0=[10.00, tlow, 2.2]) # create a fitting object, based on the data, fit Model, and an intial set of parameters.\n",
        "myoutput = myodr.run()  # run the fitting process to get optimized parameters!\n",
        "\n",
        "myoutput.pprint() # print out the result of the fit\n",
        "\n",
        "# Now assign the important fit results to some more convenient variables.\n",
        "\n",
        "popt = myoutput.beta # the vector of optimized parameters\n",
        "pcov = myoutput.cov_beta # the covariance matrix\n",
        "perr = myoutput.sd_beta # the vector of ERRORS in the optimized parameters\n",
        "\n",
        "# The following lines generate upper and lower 99% \"Confidence Bands\" on the fit, for visualization\n",
        "# purposes.\n",
        "\n",
        "ps = np.random.multivariate_normal(popt,pcov,10000)\n",
        "ysample=np.asarray([fitfunction(pi,xi) for pi in ps])\n",
        "\n",
        "lower = np.percentile(ysample,0.5,axis=0)\n",
        "upper = np.percentile(ysample,99.5,axis=0)\n",
        "middle = (lower+upper)/2.0\n",
        "\n",
        "print()\n",
        "print (\"Final Result: Y = (%0.9f +/- %0.9f) (1 - EXP(-(X - (%0.9f +/- %0.9f))/(%0.9f +/- %0.9f)))\" % (popt[0],perr[0],popt[1],perr[1],popt[2],perr[2]))\n",
        "\n",
        "plt.figure(figsize=(8, 6), dpi=80)\n",
        "\n",
        "plt.errorbar(xi, yi, xerr=sigmaxi, yerr=sigmayi)\n",
        "\n",
        "plt.plot(xi,middle)\n",
        "plt.plot(xi,lower)\n",
        "plt.plot(xi,upper)\n",
        "\n",
        "#########################\n",
        "\n",
        "plt.xlabel('Time (seconds)')\n",
        "plt.ylabel('Voltage (Volts)')\n",
        "plt.title('RC Circuit Configuration 1')\n",
        "plt.show()"
      ],
      "outputs": [
        {
          "name": "stdout",
          "output_type": "stream",
          "text": [
            "Beta: [10.14044771  0.92341825  1.65215911]\n",
            "Beta Std Error: [0.00039989 0.00029167 0.00043062]\n",
            "Beta Covariance: [[ 1.70025807e-10 -5.11754052e-11  1.30041157e-10]\n",
            " [-5.11754052e-11  9.04556687e-11 -1.08420545e-10]\n",
            " [ 1.30041157e-10 -1.08420545e-10  1.97165680e-10]]\n",
            "Residual Variance: 940.5033393914109\n",
            "Inverse Condition #: 0.14715924712025366\n",
            "Reason(s) for Halting:\n",
            "  Sum of squares convergence\n",
            "\n",
            "Final Result: Y = (10.140447709 +/- 0.000399887) (1 - EXP(-(X - (0.923418248 +/- 0.000291674))/(1.652159109 +/- 0.000430622)))\n"
          ]
        },
        {
          "data": {
            "text/plain": [
              "<Figure size 640x480 with 1 Axes>"
            ],
            "image/png": "[encoded data removed]"
          },
          "metadata": {},
          "output_type": "display_data"
        }
      ],
      "execution_count": null
    },
    {
      "cell_type": "code",
      "metadata": {
        "ExecuteTime": {
          "end_time": "2025-06-30T18:05:52.507082Z",
          "start_time": "2025-06-30T18:05:52.493345Z"
        },
        "id": "onKEVx9iEmIO"
      },
      "source": [
        "# Create a Pandas DataFrame with data for part 2\n",
        "\n",
        "df2 = pd.read_csv(\"exp5_data_part2.csv\")\n",
        "\n",
        "df2_iv = (df2.copy()).drop(df2.columns[3], axis=1).dropna()\n",
        "df2_q = (df2.copy()).drop(df2.columns[2], axis=1)\n",
        "df2_q = (df2_q.copy()).drop(df2_q.columns[1], axis=1).dropna()"
      ],
      "outputs": [],
      "execution_count": null
    },
    {
      "cell_type": "code",
      "metadata": {
        "ExecuteTime": {
          "end_time": "2025-06-30T18:05:52.514975Z",
          "start_time": "2025-06-30T18:05:52.508275Z"
        },
        "id": "oUyaYTCdEmIO",
        "outputId": "c877f948-8489-4d26-a160-ac473604794c"
      },
      "source": [
        "df2_iv = df2_iv.set_axis(['t', 'v', 'i'], axis=1)\n",
        "df2_q = df2_q.set_axis(['t', 'q'], axis=1)\n",
        "\n",
        "df2_iv['di']=0.000001\n",
        "df2_iv['dv']=0.001\n",
        "df2_iv['dt']=0.0001\n",
        "\n",
        "df2_q['dt']=0.0001\n",
        "df2_q['dq']=1E-8\n",
        "\n",
        "#pd.set_option('display.max_rows', None)\n",
        "df2_iv"
      ],
      "outputs": [
        {
          "data": {
            "text/plain": [
              "             t       v         i        di     dv      dt\n",
              "0       0.0000   0.030  0.000095  0.000001  0.001  0.0001\n",
              "2       0.0005  -0.005  0.000016  0.000001  0.001  0.0001\n",
              "4       0.0010  -0.004  0.000055  0.000001  0.001  0.0001\n",
              "6       0.0020  -0.005  0.000079  0.000001  0.001  0.0001\n",
              "8       0.0020  -0.004  0.000113  0.000001  0.001  0.0001\n",
              "...        ...     ...       ...       ...    ...     ...\n",
              "41876  10.4690  10.001  0.002000  0.000001  0.001  0.0001\n",
              "41878  10.4700  10.002  0.002000  0.000001  0.001  0.0001\n",
              "41880  10.4700  10.001  0.002000  0.000001  0.001  0.0001\n",
              "41882  10.4710  10.001  0.002000  0.000001  0.001  0.0001\n",
              "41884  10.4710  10.002  0.002000  0.000001  0.001  0.0001\n",
              "\n",
              "[20943 rows x 6 columns]"
            ],
            "text/html": [
              "<div>\n",
              "<style scoped>\n",
              "    .dataframe tbody tr th:only-of-type {\n",
              "        vertical-align: middle;\n",
              "    }\n",
              "\n",
              "    .dataframe tbody tr th {\n",
              "        vertical-align: top;\n",
              "    }\n",
              "\n",
              "    .dataframe thead th {\n",
              "        text-align: right;\n",
              "    }\n",
              "</style>\n",
              "<table border=\"1\" class=\"dataframe\">\n",
              "  <thead>\n",
              "    <tr style=\"text-align: right;\">\n",
              "      <th></th>\n",
              "      <th>t</th>\n",
              "      <th>v</th>\n",
              "      <th>i</th>\n",
              "      <th>di</th>\n",
              "      <th>dv</th>\n",
              "      <th>dt</th>\n",
              "    </tr>\n",
              "  </thead>\n",
              "  <tbody>\n",
              "    <tr>\n",
              "      <th>0</th>\n",
              "      <td>0.0000</td>\n",
              "      <td>0.030</td>\n",
              "      <td>0.000095</td>\n",
              "      <td>0.000001</td>\n",
              "      <td>0.001</td>\n",
              "      <td>0.0001</td>\n",
              "    </tr>\n",
              "    <tr>\n",
              "      <th>2</th>\n",
              "      <td>0.0005</td>\n",
              "      <td>-0.005</td>\n",
              "      <td>0.000016</td>\n",
              "      <td>0.000001</td>\n",
              "      <td>0.001</td>\n",
              "      <td>0.0001</td>\n",
              "    </tr>\n",
              "    <tr>\n",
              "      <th>4</th>\n",
              "      <td>0.0010</td>\n",
              "      <td>-0.004</td>\n",
              "      <td>0.000055</td>\n",
              "      <td>0.000001</td>\n",
              "      <td>0.001</td>\n",
              "      <td>0.0001</td>\n",
              "    </tr>\n",
              "    <tr>\n",
              "      <th>6</th>\n",
              "      <td>0.0020</td>\n",
              "      <td>-0.005</td>\n",
              "      <td>0.000079</td>\n",
              "      <td>0.000001</td>\n",
              "      <td>0.001</td>\n",
              "      <td>0.0001</td>\n",
              "    </tr>\n",
              "    <tr>\n",
              "      <th>8</th>\n",
              "      <td>0.0020</td>\n",
              "      <td>-0.004</td>\n",
              "      <td>0.000113</td>\n",
              "      <td>0.000001</td>\n",
              "      <td>0.001</td>\n",
              "      <td>0.0001</td>\n",
              "    </tr>\n",
              "    <tr>\n",
              "      <th>...</th>\n",
              "      <td>...</td>\n",
              "      <td>...</td>\n",
              "      <td>...</td>\n",
              "      <td>...</td>\n",
              "      <td>...</td>\n",
              "      <td>...</td>\n",
              "    </tr>\n",
              "    <tr>\n",
              "      <th>41876</th>\n",
              "      <td>10.4690</td>\n",
              "      <td>10.001</td>\n",
              "      <td>0.002000</td>\n",
              "      <td>0.000001</td>\n",
              "      <td>0.001</td>\n",
              "      <td>0.0001</td>\n",
              "    </tr>\n",
              "    <tr>\n",
              "      <th>41878</th>\n",
              "      <td>10.4700</td>\n",
              "      <td>10.002</td>\n",
              "      <td>0.002000</td>\n",
              "      <td>0.000001</td>\n",
              "      <td>0.001</td>\n",
              "      <td>0.0001</td>\n",
              "    </tr>\n",
              "    <tr>\n",
              "      <th>41880</th>\n",
              "      <td>10.4700</td>\n",
              "      <td>10.001</td>\n",
              "      <td>0.002000</td>\n",
              "      <td>0.000001</td>\n",
              "      <td>0.001</td>\n",
              "      <td>0.0001</td>\n",
              "    </tr>\n",
              "    <tr>\n",
              "      <th>41882</th>\n",
              "      <td>10.4710</td>\n",
              "      <td>10.001</td>\n",
              "      <td>0.002000</td>\n",
              "      <td>0.000001</td>\n",
              "      <td>0.001</td>\n",
              "      <td>0.0001</td>\n",
              "    </tr>\n",
              "    <tr>\n",
              "      <th>41884</th>\n",
              "      <td>10.4710</td>\n",
              "      <td>10.002</td>\n",
              "      <td>0.002000</td>\n",
              "      <td>0.000001</td>\n",
              "      <td>0.001</td>\n",
              "      <td>0.0001</td>\n",
              "    </tr>\n",
              "  </tbody>\n",
              "</table>\n",
              "<p>20943 rows × 6 columns</p>\n",
              "</div>"
            ]
          },
          "execution_count": 7,
          "metadata": {},
          "output_type": "execute_result"
        }
      ],
      "execution_count": null
    },
    {
      "cell_type": "code",
      "metadata": {
        "ExecuteTime": {
          "end_time": "2025-06-30T18:05:53.703536Z",
          "start_time": "2025-06-30T18:05:52.515695Z"
        },
        "id": "WRvMoNbqEmIO",
        "outputId": "63baaaa3-c56e-427e-e78c-25b0c29cd72f"
      },
      "source": [
        "xi = df2_iv['t']\n",
        "yi = df2_iv['v']\n",
        "sigmaxi = df2_iv['dt']\n",
        "sigmayi = df2_iv['dv']\n",
        "\n",
        "plt.errorbar(xi, yi, xerr=sigmaxi, yerr=sigmayi, fmt='o', capsize=2, capthick=1)\n",
        "#plt.xlim(1.2,1.23)\n",
        "#plt.ylim(-0.025,0.025)\n",
        "\n",
        "tlow = 2.800\n",
        "thigh = 10.000\n",
        "\n",
        "df2_iv_select = df2_iv[(df2_iv['t']>tlow) & (df2_iv['t']<thigh)]\n",
        "xi = df2_iv_select['t']\n",
        "yi = df2_iv_select['v']\n",
        "sigmaxi = df2_iv_select['dt']\n",
        "sigmayi = df2_iv_select['dv']\n",
        "\n",
        "plt.errorbar(xi, yi, xerr=sigmaxi, yerr=sigmayi, fmt='o', capsize=2, capthick=1)"
      ],
      "outputs": [
        {
          "data": {
            "text/plain": [
              "<ErrorbarContainer object of 3 artists>"
            ]
          },
          "execution_count": 8,
          "metadata": {},
          "output_type": "execute_result"
        },
        {
          "data": {
            "text/plain": [
              "<Figure size 640x480 with 1 Axes>"
            ],
            "image/png": "[encoded data removed]"
          },
          "metadata": {},
          "output_type": "display_data"
        }
      ],
      "execution_count": null
    },
    {
      "cell_type": "code",
      "metadata": {
        "ExecuteTime": {
          "end_time": "2025-06-30T18:06:00.799802Z",
          "start_time": "2025-06-30T18:05:54.643965Z"
        },
        "id": "Fi0K1xJEEmIO",
        "outputId": "feaf9cc6-b68f-4fe1-e62f-49b4ecf11f1d"
      },
      "source": [
        "from scipy.odr import *\n",
        "\n",
        "def fitfunction(b, x):\n",
        "    \"\"\"Exponential function y = B[0](1 - e^(-(x-B[1])/B[2]))\"\"\"\n",
        "    # B is a vector of the parameters.\n",
        "    # x is an array of the current x values.\n",
        "    # x is in the same format as the x passed to Data or RealData.\n",
        "    #\n",
        "    # Return an array in the same format as y passed to Data or RealData.\n",
        "    return b[0]*(1.0-np.exp(-(x-b[1])/b[2]))\n",
        "\n",
        "linear = Model(fitfunction) # create a Model object based on the fitfuncion we have defined\n",
        "mydata = RealData(xi, yi, sx=sigmaxi, sy=sigmayi) # create a data object based on our data, include errors.\n",
        "myodr = ODR(mydata, linear, beta0=[10.00, tlow, 2.2]) # create a fitting object, based on the data, fit Model, and an intial set of parameters.\n",
        "myoutput = myodr.run()  # run the fitting process to get optimized parameters!\n",
        "\n",
        "myoutput.pprint() # print out the result of the fit\n",
        "\n",
        "# Now assign the important fit results to some more convenient variables.\n",
        "\n",
        "popt = myoutput.beta # the vector of optimized parameters\n",
        "pcov = myoutput.cov_beta # the covariance matrix\n",
        "perr = myoutput.sd_beta # the vector of ERRORS in the optimized parameters\n",
        "\n",
        "# The following lines generate upper and lower 99% \"Confidence Bands\" on the fit, for visualization\n",
        "# purposes.\n",
        "\n",
        "ps = np.random.multivariate_normal(popt,pcov,10000)\n",
        "ysample=np.asarray([fitfunction(pi,xi) for pi in ps])\n",
        "\n",
        "lower = np.percentile(ysample,0.5,axis=0)\n",
        "upper = np.percentile(ysample,99.5,axis=0)\n",
        "middle = (lower+upper)/2.0\n",
        "\n",
        "print()\n",
        "print (\"Final Result: Y = (%0.9f +/- %0.9f) (1 - EXP(-(X - (%0.9f +/- %0.9f))/(%0.9f +/- %0.9f)))\" % (popt[0],perr[0],popt[1],perr[1],popt[2],perr[2]))\n",
        "\n",
        "plt.figure(figsize=(8, 6), dpi=80)\n",
        "\n",
        "plt.errorbar(xi, yi, xerr=sigmaxi, yerr=sigmayi)\n",
        "\n",
        "plt.plot(xi,middle)\n",
        "plt.plot(xi,lower)\n",
        "plt.plot(xi,upper)\n",
        "\n",
        "#########################\n",
        "\n",
        "plt.xlabel('Time (seconds)')\n",
        "plt.ylabel('Voltage (Volts)')\n",
        "plt.title('RC Circuit Configuration 2')\n",
        "plt.show()"
      ],
      "outputs": [
        {
          "name": "stdout",
          "output_type": "stream",
          "text": [
            "Beta: [10.02839766  2.67816935  1.63175141]\n",
            "Beta Std Error: [0.00059001 0.00025331 0.00047389]\n",
            "Beta Covariance: [[ 3.53944463e-10 -6.78877656e-11  2.27670471e-10]\n",
            " [-6.78877656e-11  6.52434946e-11 -9.36089260e-11]\n",
            " [ 2.27670471e-10 -9.36089260e-11  2.28335213e-10]]\n",
            "Residual Variance: 983.5213699600838\n",
            "Inverse Condition #: 0.1562889935935036\n",
            "Reason(s) for Halting:\n",
            "  Sum of squares convergence\n",
            "\n",
            "Final Result: Y = (10.028397660 +/- 0.000590010) (1 - EXP(-(X - (2.678169345 +/- 0.000253315))/(1.631751405 +/- 0.000473891)))\n"
          ]
        },
        {
          "data": {
            "text/plain": [
              "<Figure size 640x480 with 1 Axes>"
            ],
            "image/png": "[encoded data removed]"
          },
          "metadata": {},
          "output_type": "display_data"
        }
      ],
      "execution_count": null
    },
    {
      "cell_type": "code",
      "execution_count": null,
      "metadata": {
        "id": "NhcrreiaEmIP"
      },
      "outputs": [],
      "source": []
    }
  ],
  "metadata": {
    "kernelspec": {
      "display_name": "Python 3",
      "language": "python",
      "name": "python3"
    },
    "language_info": {
      "codemirror_mode": {
        "name": "ipython",
        "version": 3
      },
      "file_extension": ".py",
      "mimetype": "text/x-python",
      "name": "python",
      "nbconvert_exporter": "python",
      "pygments_lexer": "ipython3",
      "version": "3.6.8"
    },
    "latex_envs": {
      "LaTeX_envs_menu_present": true,
      "autoclose": false,
      "autocomplete": true,
      "bibliofile": "biblio.bib",
      "cite_by": "apalike",
      "current_citInitial": 1,
      "eqLabelWithNumbers": true,
      "eqNumInitial": 1,
      "hotkeys": {
        "equation": "Ctrl-E",
        "itemize": "Ctrl-I"
      },
      "labels_anchors": false,
      "latex_user_defs": false,
      "report_style_numbering": false,
      "user_envs_cfg": false
    },
    "colab": {
      "provenance": []
    }
  },
  "nbformat": 4,
  "nbformat_minor": 0
}