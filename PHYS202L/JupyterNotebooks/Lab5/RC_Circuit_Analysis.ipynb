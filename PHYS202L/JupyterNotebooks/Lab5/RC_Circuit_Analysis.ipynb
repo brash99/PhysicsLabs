{
 "cells": [
  {
   "cell_type": "markdown",
   "metadata": {},
   "source": [
    "# Lab 5:  RC Circuit Analysis"
   ]
  },
  {
   "cell_type": "markdown",
   "metadata": {},
   "source": [
    "# Theory\n",
    "The capacitor relationship is defined to be\n",
    "$$C≝\\frac{Q}{V}\\tag{1}$$\n",
    "Where $C$ is the capacitance of the capacitor, $Q$ is the charge contained within the capacitor, and $V$ is the voltage\n",
    "across the capacitor. We can use this relationship to compute the capacitance of the capacitor, however we must be\n",
    "able to measure the charge. The easiest way to do that is to remember that the charge that flows into the capacitor\n",
    "per unit time is the current. So if we measure the current, $I$, flowing into the capacitor, we can integrate:\n",
    "$$I(t)=\\frac{dQ(t)}{dt}\\; or \\; Q(t)=∫^t_{0}I(t)dt\\tag{2}$$\n",
    "\n",
    "\n",
    "# The Discharging Capacitor\n",
    "To determine the charge and current through a capacitor which is discharging, we can use Kirchhoff’s Loop Rule on\n",
    "a circuit containing only the charged capacitor with capacitance, $C$, and a resistor, $R$. There are no sources of EMF,\n",
    "so we may write\n",
    "$$V_{C}+V_{R} = 0$$\n",
    "$$\\frac{Q}{C}+IR = 0$$\n",
    "$$\\frac{Q}{C}+R\\frac{dQ}{dt} = 0$$\n",
    "$$\\frac{dQ}{dt} = −\\frac{Q}{RC}$$\n",
    "$$\\frac{dQ}{Q}= −\\frac{dt}{RC}$$\n",
    "$$lnQ = −\\frac{t}{RC}+K$$\n",
    "\n",
    "If we then exponentiate both sides and set the initial charge to be $Q_{0}$\n",
    "at time t=0 we find\n",
    "$$Q(t)=Q_{0}e^{−\\frac{t}{RC}}\\tag{3}$$\n",
    "We define the time constant,\n",
    "$$τ≝RC\\tag{4}$$\n",
    "A derivative of the charge gives us the current:\n",
    "$$I(t)=\\frac{dQ}{dt} = \\frac{Q_{0}}{RC}e^{−\\frac{t}{τ}}=I_{0}e^{−\\frac{t}{τ}}\\tag{5}$$\n",
    "\n",
    "\n",
    "# The Charging Capacitor\n",
    "To determine the charge and current flowing into a charging capacitor, we can, once again, use Kirchhoff’s Loop\n",
    "Rule, but now we include the source EMF:\n",
    "$$V_{C} +V_{R} = \\epsilon$$\n",
    "$$\\frac{Q}{C}+IR = \\epsilon$$\n",
    "$$\\frac{Q}{RC}+\\frac{dQ}{dt} =\\frac{\\epsilon}{R}\\tag{6}$$\n",
    "\n",
    "This type of differential equation is called an $inhomogeneous differential equation$ because the constant term is no\n",
    "longer zero. The solution to this differential equation is the sum of two parts: we add together the solution to the\n",
    "homogeneous equation with a particular solution, $Q_{p}$\n",
    ", that does not depend on time:\n",
    "$$Q(t)=Ke^{−\\frac{t}{RC}} +Q_{p}\\tag{7}$$\n",
    "where we will have to re-evaluate the constant, $K$. When we replace this into (6) we find that $Qp=εC$ . We\n",
    "now set our initial condition so that the initial charge is zero at $t=0$:\n",
    "Q(0)=K+εC=0 or K=−εC\n",
    "We then re-write (7):\n",
    "$$Q(t)=εC(1−e^{−\\frac{t}{τ}})\\tag{8}$$\n",
    "\n",
    "A derivative with respect to time gives us the current:\n",
    "\n",
    "$$I(t)=\\frac{dQ}{dt} = \\frac{\\epsilon}{R}e^{−\\frac{t}{τ}}\\tag{9}$$"
   ]
  },
  {
   "cell_type": "code",
<<<<<<< HEAD
   "metadata": {
    "ExecuteTime": {
     "end_time": "2025-06-20T20:28:40.117029Z",
     "start_time": "2025-06-20T20:28:39.053637Z"
    }
   },
=======
   "execution_count": 1,
   "metadata": {},
   "outputs": [],
>>>>>>> 9e1e6ccbe64d4b33a15e259f670a628d5305612f
   "source": [
    "import numpy as np\n",
    "import pandas as pd\n",
    "import matplotlib.pyplot as plt\n",
<<<<<<< HEAD
    "import scipy.stats as stats"
   ],
   "outputs": [],
   "execution_count": 1
=======
    "import scipy.stats as stats\n",
    "\n",
    "\n",
    "import sys; sys.path.insert(0, '..')\n",
    "from P202_Functions import *\n",
    "\n",
    "# The following lines make plots in dark mode look reasonable.  If you are not using dark\n",
    "# mode you don't need them, but you can also just leave them here and it should work fine.\n",
    "\n",
    "dark_mode = True\n",
    "# plotting choices for dark-mode\n",
    "if (dark_mode):\n",
    "    from jupyterthemes import jtplot\n",
    "    jtplot.style(theme='monokai', context='notebook', ticks=True, grid=False)\n",
    "    linecolor = 'w'\n",
    "else:\n",
    "    linecolor = 'k'"
   ]
>>>>>>> 9e1e6ccbe64d4b33a15e259f670a628d5305612f
  },
  {
   "cell_type": "markdown",
   "metadata": {},
   "source": [
    "# Capacitor-Resistor Combination 1\n",
    "\n",
    "In each phase of this experiment, a different combination of capactior and resistor, in a series circuit, was used.  The theory is as follows:\n",
    "\n",
    "When the switch is closed, thus defining $t=0$, the voltage across the capacitor will be given by:\n",
    "\n",
    "$\n",
    "\\begin{equation}\n",
    "V(t) = V_{source}(1 - e^{-\\frac{t}{RC}})\n",
    "\\end{equation}\n",
    "$\n",
    "\n",
    "The current through the circuit, defined according to $i_C = C\\frac{dV_C}{dt}$, is:\n",
    "\n",
    "$\n",
    "\\begin{equation}\n",
    "i(t) = \\frac{V_{source}}{R}e^{-\\frac{t}{RC}}\n",
    "\\end{equation}\n",
    "$\n",
    "\n",
    "The charge on the capacitor, defined by $Q = \\int_0^t i(t)dt$, is given by:\n",
    "\n",
    "$\n",
    "\\begin{equation}\n",
    "Q(t) = C V_{source}(1-e^{-\\frac{t}{RC}})\n",
    "\\end{equation}\n",
    "$\n"
   ]
  },
  {
   "cell_type": "code",
<<<<<<< HEAD
   "metadata": {
    "ExecuteTime": {
     "end_time": "2025-06-20T20:28:43.225363Z",
     "start_time": "2025-06-20T20:28:43.206718Z"
    }
   },
=======
   "execution_count": 2,
   "metadata": {},
   "outputs": [
    {
     "name": "stdout",
     "output_type": "stream",
     "text": [
      "RC Time Constant: 1.5 seconds\n"
     ]
    }
   ],
>>>>>>> 9e1e6ccbe64d4b33a15e259f670a628d5305612f
   "source": [
    "# Create a Pandas DataFrame with data for part 1\n",
    "# Enter saved file as .csv in \" \" below!#######\n",
    "df1 = pd.read_csv(\"Experiment_5.csv\")\n",
    "\n",
    "# Enter EXACT MEASURED Resistor size and Capacitor size used for this trial below! (Capacitor in micro Farads uF, Resistor in Ohms)\n",
    "df1_R = 15000\n",
    "df1_C = 100\n",
    "\n",
    "Tau_1= df1_R * df1_C * (1/1000000)\n",
    "print('RC Time Constant:', Tau_1,'seconds')\n",
    "\n",
    "#Enter Voltage applied to the circuit below. (Should be 10V)\n",
    "E= 10.0\n",
    "\n",
    "\n",
    "\n",
    "df1_iv = (df1.copy()).drop(df1.columns[3], axis=1).dropna()\n",
    "df1_q = (df1.copy()).drop(df1.columns[2], axis=1)\n",
    "df1_q = (df1_q.copy()).drop(df1_q.columns[1], axis=1).dropna()"
   ],
   "outputs": [],
   "execution_count": 2
  },
  {
   "cell_type": "code",
<<<<<<< HEAD
   "metadata": {
    "ExecuteTime": {
     "end_time": "2025-06-20T20:29:16.566336Z",
     "start_time": "2025-06-20T20:29:16.556432Z"
    }
   },
   "source": [
    "df1_iv = df1_iv.set_axis(['t', 'v', 'i'], axis=1)\n",
    "df1_q = df1_q.set_axis(['t', 'q'], axis=1)\n",
    "\n",
    "df1_iv['di']=0.000001\n",
    "df1_iv['dv']=0.001\n",
    "df1_iv['dt']=0.0001\n",
    "\n",
    "df1_q['dt']=0.0001\n",
    "df1_q['dq']=1E-8\n",
    "\n",
    "#pd.set_option('display.max_rows', None)\n",
    "df1_iv"
   ],
=======
   "execution_count": 3,
   "metadata": {},
>>>>>>> 9e1e6ccbe64d4b33a15e259f670a628d5305612f
   "outputs": [
    {
     "data": {
      "text/plain": [
       "             t       v         i        di     dv      dt\n",
       "0       0.0000   1.038 -0.000052  0.000001  0.001  0.0001\n",
       "2       0.0005   1.039 -0.000264  0.000001  0.001  0.0001\n",
       "4       0.0010   1.038 -0.000131  0.000001  0.001  0.0001\n",
       "6       0.0020   1.037 -0.000308  0.000001  0.001  0.0001\n",
       "8       0.0020   1.038 -0.000267  0.000001  0.001  0.0001\n",
       "...        ...     ...       ...       ...    ...     ...\n",
       "47800  11.9500  10.184 -0.000748  0.000001  0.001  0.0001\n",
       "47802  11.9510  10.185 -0.000832  0.000001  0.001  0.0001\n",
       "47804  11.9510  10.185 -0.000859  0.000001  0.001  0.0001\n",
       "47806  11.9520  10.187 -0.000850  0.000001  0.001  0.0001\n",
       "47808  11.9520  10.186 -0.000846  0.000001  0.001  0.0001\n",
       "\n",
       "[23905 rows x 6 columns]"
      ],
      "text/html": [
       "<div>\n",
       "<style scoped>\n",
       "    .dataframe tbody tr th:only-of-type {\n",
       "        vertical-align: middle;\n",
       "    }\n",
       "\n",
       "    .dataframe tbody tr th {\n",
       "        vertical-align: top;\n",
       "    }\n",
       "\n",
       "    .dataframe thead th {\n",
       "        text-align: right;\n",
       "    }\n",
       "</style>\n",
       "<table border=\"1\" class=\"dataframe\">\n",
       "  <thead>\n",
       "    <tr style=\"text-align: right;\">\n",
       "      <th></th>\n",
       "      <th>t</th>\n",
       "      <th>v</th>\n",
       "      <th>i</th>\n",
       "      <th>di</th>\n",
       "      <th>dv</th>\n",
       "      <th>dt</th>\n",
       "    </tr>\n",
       "  </thead>\n",
       "  <tbody>\n",
       "    <tr>\n",
       "      <th>0</th>\n",
       "      <td>0.0000</td>\n",
       "      <td>0.008</td>\n",
       "      <td>-0.000123</td>\n",
       "      <td>0.000001</td>\n",
       "      <td>0.001</td>\n",
       "      <td>0.0001</td>\n",
       "    </tr>\n",
       "    <tr>\n",
       "      <th>2</th>\n",
       "      <td>0.0005</td>\n",
       "      <td>0.009</td>\n",
       "      <td>-0.000091</td>\n",
       "      <td>0.000001</td>\n",
       "      <td>0.001</td>\n",
       "      <td>0.0001</td>\n",
       "    </tr>\n",
       "    <tr>\n",
       "      <th>4</th>\n",
       "      <td>0.0010</td>\n",
       "      <td>0.007</td>\n",
       "      <td>-0.000091</td>\n",
       "      <td>0.000001</td>\n",
       "      <td>0.001</td>\n",
       "      <td>0.0001</td>\n",
       "    </tr>\n",
       "    <tr>\n",
       "      <th>6</th>\n",
       "      <td>0.0020</td>\n",
       "      <td>0.009</td>\n",
       "      <td>-0.000101</td>\n",
       "      <td>0.000001</td>\n",
       "      <td>0.001</td>\n",
       "      <td>0.0001</td>\n",
       "    </tr>\n",
       "    <tr>\n",
       "      <th>8</th>\n",
       "      <td>0.0020</td>\n",
       "      <td>0.008</td>\n",
       "      <td>-0.000079</td>\n",
       "      <td>0.000001</td>\n",
       "      <td>0.001</td>\n",
       "      <td>0.0001</td>\n",
       "    </tr>\n",
       "    <tr>\n",
       "      <th>...</th>\n",
       "      <td>...</td>\n",
       "      <td>...</td>\n",
       "      <td>...</td>\n",
       "      <td>...</td>\n",
       "      <td>...</td>\n",
       "      <td>...</td>\n",
       "    </tr>\n",
       "    <tr>\n",
       "      <th>56408</th>\n",
       "      <td>14.1020</td>\n",
       "      <td>10.193</td>\n",
       "      <td>0.002000</td>\n",
       "      <td>0.000001</td>\n",
       "      <td>0.001</td>\n",
       "      <td>0.0001</td>\n",
       "    </tr>\n",
       "    <tr>\n",
       "      <th>56410</th>\n",
       "      <td>14.1030</td>\n",
       "      <td>10.194</td>\n",
       "      <td>0.002000</td>\n",
       "      <td>0.000001</td>\n",
       "      <td>0.001</td>\n",
       "      <td>0.0001</td>\n",
       "    </tr>\n",
       "    <tr>\n",
       "      <th>56412</th>\n",
       "      <td>14.1030</td>\n",
       "      <td>10.194</td>\n",
       "      <td>0.002000</td>\n",
       "      <td>0.000001</td>\n",
       "      <td>0.001</td>\n",
       "      <td>0.0001</td>\n",
       "    </tr>\n",
       "    <tr>\n",
       "      <th>56414</th>\n",
       "      <td>14.1040</td>\n",
       "      <td>10.194</td>\n",
       "      <td>0.002000</td>\n",
       "      <td>0.000001</td>\n",
       "      <td>0.001</td>\n",
       "      <td>0.0001</td>\n",
       "    </tr>\n",
       "    <tr>\n",
       "      <th>56416</th>\n",
       "      <td>14.1040</td>\n",
       "      <td>10.194</td>\n",
       "      <td>0.002000</td>\n",
       "      <td>0.000001</td>\n",
       "      <td>0.001</td>\n",
       "      <td>0.0001</td>\n",
       "    </tr>\n",
       "  </tbody>\n",
       "</table>\n",
       "<p>28209 rows × 6 columns</p>\n",
       "</div>"
<<<<<<< HEAD
      ]
     },
     "execution_count": 5,
=======
      ],
      "text/plain": [
       "             t       v         i        di     dv      dt\n",
       "0       0.0000   0.008 -0.000123  0.000001  0.001  0.0001\n",
       "2       0.0005   0.009 -0.000091  0.000001  0.001  0.0001\n",
       "4       0.0010   0.007 -0.000091  0.000001  0.001  0.0001\n",
       "6       0.0020   0.009 -0.000101  0.000001  0.001  0.0001\n",
       "8       0.0020   0.008 -0.000079  0.000001  0.001  0.0001\n",
       "...        ...     ...       ...       ...    ...     ...\n",
       "56408  14.1020  10.193  0.002000  0.000001  0.001  0.0001\n",
       "56410  14.1030  10.194  0.002000  0.000001  0.001  0.0001\n",
       "56412  14.1030  10.194  0.002000  0.000001  0.001  0.0001\n",
       "56414  14.1040  10.194  0.002000  0.000001  0.001  0.0001\n",
       "56416  14.1040  10.194  0.002000  0.000001  0.001  0.0001\n",
       "\n",
       "[28209 rows x 6 columns]"
      ]
     },
     "execution_count": 3,
>>>>>>> 9e1e6ccbe64d4b33a15e259f670a628d5305612f
     "metadata": {},
     "output_type": "execute_result"
    }
   ],
   "execution_count": 5
  },
  {
   "cell_type": "markdown",
   "metadata": {},
   "source": [
    "Our first task is to define the $t=0$ point.  We should graph the raw data, for voltage vs. time, and use this plot to decide on the fit region."
   ]
  },
  {
   "cell_type": "code",
<<<<<<< HEAD
   "metadata": {
    "ExecuteTime": {
     "end_time": "2025-06-20T20:29:23.627225Z",
     "start_time": "2025-06-20T20:29:22.038430Z"
=======
   "execution_count": 4,
   "metadata": {},
   "outputs": [
    {
     "data": {
      "text/plain": [
       "<ErrorbarContainer object of 3 artists>"
      ]
     },
     "execution_count": 4,
     "metadata": {},
     "output_type": "execute_result"
    },
    {
     "data": {
      "image/png": "iVBORw0KGgoAAAANSUhEUgAAAXoAAAEBCAYAAAB2RW6SAAAABHNCSVQICAgIfAhkiAAAAAlwSFlzAAALEgAACxIB0t1+/AAAADh0RVh0U29mdHdhcmUAbWF0cGxvdGxpYiB2ZXJzaW9uMy4yLjIsIGh0dHA6Ly9tYXRwbG90bGliLm9yZy+WH4yJAAATtklEQVR4nO3dfYxddZ3H8fftA/JUGRQVY5ASRSdk2YDVRAwuW/wtQpBo1CWbDa1mQ6KbKsTd1UZUOtKVZHiKAjE+oFbDmg2oYcENCf0axbKr7lYkCptZ0VCkjaxtdLDQAnXm7h9nqpdh5j7MPeeeh3m/kpthzrn3N1+mcz7zm+/v3HNa7XYbSVJzrSi7AElSsQx6SWo4g16SGs6gl6SGW1V2AZ0mJydfApwH7AKeLrcaSaqNI4G1wD2bN2/eO39npYKeLORvLbsISaqpS4B/mb+xakG/C+C73/0u09PTJZciSfUwNjbG+vXrYS5D56ta0D8NMD09zb59+8quRZLqZsGWt4uxktRwBr0kNZxBL0kNZ9BLUsNVbTFWkhrhiFe8kaNf9/e0Wq2BX9tut5m+6z251WLQS2qUY9/4T6x+6enA4AGbp6UEfOdrxy76am5hb9BLGolhZriDKHr8Ucnz/8Ogl9TVxq0nstTMabfhrv++BmhOANdRX0EfERcDlwFnAPtSSms79q0Crgc2kC3ufhPYlFLyWjVSRZx6zp9xVtq3pMAeJp9bLbjoDR/h2zuvXfogGlq/M/rfATcDLwM+NG/fFcB64HTgWeBO4BqyXwySCjDoLLvVKu+d5k7klybPu//1FfQppe0AEfGOBXZfCnwkpbRn7jkTwO0R8aGU0kxehUpNN0h4G5711ivEK3XWTUSMAScBD3Rsvh9YQ3bJzF92ee0EsKVz2/j4OFNTU8OUJFXOmza+nlefurtnOBvexarK/bEP/eanPPnD60b6NYddjF0z97HzUpPT8/YtKKU0AUx0bpucnFwH7ByyJmnkus3GW63doy2mYvrJ16JDOO8Zct0MG/T75z4eBzw+999j8/ZJjdA9zEdbS9n6zeU/nXWz+Aue+vFneXbPD/MpTAsaKuhTStMR8RjZ2Tj/O7f5TLKQ3zVcaVI5Fgv0Job5UibS7TZ87ROP937iH20c/IsoV/2eXrkSWD33aEXEkUA7pfQMcAvw0YjYARwia8dscyFWVdfEQB8kuA8cXMPtn3q4uGJUGf3O6DcAX+n4/CDwKNmC69XACcBDZOfRfwPYnF+J0vD+ZsspvGD1wedsq0OgDxLc/7n9BB6+98EBRh9kVq466/f0ym3AtkX2/YHsnHnPm1dlzJ+tt1oHF39ySXqF+OAtEoNbC/MSCGqE5wd7ebUc1i3IBw9xaekMetVSVYJ9sTA3yFUlBr1qoexgXyjQDXPVhUGvyuoM91EFu4GuJjLoVSmjDPf5oW6gq6kMepVuVOHeGeyGupYTg16lGEW4G+xSxqDXSB0O+CLC3WCXFmbQq3BFzd4Ndqk/Br0KU8Ts/XC4G+xS/wx65S7vgDfcpeEY9MpNngFvuEv5Meg1tLwC3nCXimHQa8nyDHjDXSqOQa+B5RHwzt6l0THo1be8At5wl0bLoFdfNm49kRUrlv56A14qj0GvroadxRvwUvkMei1qmFm8AS9Vh0Gv5xlmFm/AS9Vj0Os5ljqLN+Cl6jLoBSx9Fm/AS9Vn0GvJs/jZWQNeqgODfplbSsg7i5fqxaBfxpYS8s7ipfox6JehS656BStXzAzUj2+3YWZ2Jbdeuae4wiQVwqBfZrJZ/MxAr3EWL9WbQb+MDNqqsRcvNYNBv0wMGvLO4qXmyCXoI+LlwM3AOUAL2AF8IKW0O4/xNRxDXlrehrge4XN8FjgCOAU4CXgK+HJOY2sIhrykvIL+VcDtKaX9KaUDwNeBP89pbC3RICHfbsNTB9YY8lID5dWjvwF4d0TcCcwAG4C7ur0gIiaALZ3bxsfHmZqayqmk5W2QkP/TLN6Ql5oor6C/D/g74LdAG/gpcF63F6SUJoCJzm2Tk5PrgJ051bRsLS3kJTXV0K2biFgBBFlAvxA4FrgD+F5ErB52fA3GkJc0Xx49+hcBJwM3ppSeTCkdJGvlnEbWu9eIGPKSFjJ00KeU9gG/ADZFxFERcQRwOfA7YNew46s/hrykxeR11s3bgdOB3cD/AW8F3pZSejqn8dVDv9etMeSl5SeXxdiU0v8A5+cxlgZ3+KYhvRjy0vKU14xeJem3ZWPIS8uXQV9jhrykfhj0NdVvyHv1SUkGfU31u/j6xP4XF1uIpMoz6GtokMXXOyYfKr4gSZVm0NeMfXlJgzLoa2TD1pcb8pIGZtDXyIpWu+dzXHyVNJ9BXxP99uUPzXgdOUnPZdDXwCB9+a9veaz4giTVikFfA17eQNIwDPqK66dlY19eUjcGfcX1M5tv916jlbSMGfQV1s9s3paNpF4M+orqZwHWlo2kfhj0FWXLRlJeDPoKsmUjKU8GfQX1M5v/QZxQfCGSGsGgr5h+Z/MP3/vgaAqSVHsGfcV4zrykvBn0FdLvm6MkaRAGfUW89bIzPZ1SUiEM+oo48aW/7vmcmdmVI6hEUtMY9BXw1x87ta8F2Fuv3DOagiQ1ikFfAUcftb/rfls2koZh0JfsrZed6QKspEIZ9CXr1Zt3Ni9pWAZ9xTmblzSsVXkNFBEXAluB1wL7getTStfmNX4T9Tpv3tm8pDzkEvQRcR7wBWAjcC9wNPDKPMZuMnvzkkYhrxn9VmBrSuk7c5//HvBiLF04m5c0KkMHfUQcA7wBuDsipoDjgR8Bl6eUHhl2/Kbq5wqVkpSHPGb0xwMt4F3A+cBvgE8D34qI16WUFmxARMQEsKVz2/j4OFNTUzmUVG39XNPmwME1gDN6ScPLI+gPv9vnMymlXQARcQWwFzgJ+NVCL0opTQATndsmJyfXATtzqKnS+unN3/6ph0dTjKTGG/r0ypTSE8CjgEuHfXjTxte7CCtppPJajP0ccHlE3EM2k98K/DiltOBsfjk79TW7u+53EVZS3vIK+mvIevX3k/2VcB/wzpzGXlaczUvKWy5Bn1KaBTbPPbQIT6mUVAYvgTBC9uYllcGgH5FeV6l0Ni+pKAb9iPRzBylJKoJBXxG2bSQVxaAfARdhJZXJoB8BF2EllcmgL5mzeUlFM+gL1s8FzCSpSAZ9wWzbSCqbQV+gXhcws20jaRQM+gL1uoCZJI2CQV+iJ/a/uOwSJC0DBn1BLrnqFT3bNndMPjS6giQtWwZ9QVaumOm630VYSaNi0JfARVhJo2TQF6BX20aSRsmgL4BtG0lVYtCPmG0bSaNm0Ofsbz95km0bSZVi0Ods9cpDXffbtpE0agb9CNm2kVQGgz5Hva5tI0llMOhz1OvaNrZtJJXBoB8R2zaSymLQS1LDGfQ56ecG4JJUBoM+J95gRFJVGfSS1HAGfQ68AbikKluV52ARcRTwM+DElNKxeY5dZb1C/plDR42mEElaQN4z+quAR3Mes9babfjXTz5SdhmSlrHcgj4i1gHnA5N5jSlJGl4urZuIWAV8EdhEn788ImIC2NK5bXx8nKmpqTxKGhlPq5RUdXn16D8M/CSl9P2I+Mt+XpBSmgAmOrdNTk6uA3bmVNNIeFqlpKobOugj4tXA+4Ezhy9HkpS3PGb0ZwMvA34eEQCrgWMiYh/wzpTS93P4GpWU3Rt28dsG2raRVAV5BP1tQHR8fhawDTgD2JvD+JXV696wP4gTAFs3kso1dNCnlA4ABw5/HhF7gXZKqfs1exuu3YaH732w7DIkKd83TAGklL4HLJs3S0lS1XkJhCXytEpJdWHQL5GnVUqqC4NekhrOoJekhjPol8D+vKQ6MeiXwP68pDox6CWp4Qx6SWo4g35Avfrz3k1KUtUY9APq1Z/3blKSqsagl6SGM+glqeEM+gHYn5dURwb9AOzPS6ojg16SGs6gl6SGM+j7NHbhLV33z8yuHFElkjQYg75PrZVHLLqv3YZbr9wzwmokqX8GvSQ1nEE/gMUuP+xliSVVmUE/gG/vvJbZ2SzYDz9mZ+HO/5osuzRJWtSqsguog7GLvkpr7iT6b++89jn72u0203dtLKMsSeqLM/o+tLq9U0qSKs6gl6SGM+iH1HYlVlLFGfQ9jL3ty4u2brL+/HtGXJEkDcag76G1wvVqSfVm0EtSwxn0ktRwQ/clIuIFwM3AW4CXAL8Gbkop3TTs2FXXbs+WXYIk9ZTHjH4V8DhwHnAccDHw8Yi4OIexS9X5Rqn5soXY9462IElagqFn9Cmlp4BPdGx6ICLuBM4Gbht2/DL5RilJTZD7KSURsRp4M3Bdj+dNAFs6t42PjzM1NZV3SZK0rBVx7uDNwH7ga92elFKaACY6t01OTq4DdhZQkyQtW7kGfUTcAJwFnJtSejbPsatm9sC+skuQpL7kFvQR8WmyM2/OTSnVPgV7LcQ+Ef8w4ookaWlyCfqIuBE4F1ifUtqbx5hlcyFWUlPkcR79ycAHgWeARyLi8K4dKaULhh1fkjScPE6vfBRYZtNfr1gpqT68BMISHPrNz8ouQZL6ZtAvoNdC7JM/7PoWAUmqFIN+AS7ESmoSg16SGs6gH5gLsZLqxaAfkAuxkurGoJ9n7KJtLsRKahSDfp5Wy2+JpGYx1SSp4Qx6SWo4g34A7UMHyy5BkgZm0Hd44Tn/3P0esXe/b8QVSdLwDPoOK497ZdklSFLuDHpJajiDXpIazqDvU7vtpQ8k1ZNB34d2u830Xe8puwxJWhKDfs7Yhbd4eWJJjWTQz2mtPKLsEiSpEAa9JDWcQS9JDWfQ96E982zZJUjSkhn0PbTbbab//dKyy5CkJTPogbGLvuoZN5Iay6AHQ15Soxn0ktRwBr0kNZxB38PME78quwRJGsqyD/peNxv5/b0fH3FFkpSvVXkMEhGrgOuBDWS/PL4JbEopPZ3H+L2MXfB5WquPGsWXkqTayWtGfwWwHjgdOBU4Dbgmp7G7Grvg86w44mhardaSH5LUZHkF/aXA1SmlPSmlvcAE8N6IWJnT+ItyJi9J3Q3duomIMeAk4IGOzfcDa4C1wC8Xed0EsKVz2/j4OFNTU8OWlB9vNiKpAfLo0a+Z+zjdsW163r7nSSlNkM38/2hycnIdsDOHmnLxzCPbyy5BkoaWR+tm/9zH4zq2jc3bV5j2oYOFjDs7O8uBB28tZGxJGqWhgz6lNA08BpzRsflMspDfNez4vUzf/T5mnz1Au93O7TE7O+utAyU1Ri6nVwK3AB+NiB3AIbKWzLaU0kxO43c1fff7RvFlJKmW8gr6q4ETgIfI/kr4BrA5p7ElSUPIJehTSn8ALpt7SJIqZNlfAkGSms6gl6SGy6tHn5cjAcbGxno9T5I0pyMzj1xof9WCfi3A+vXrSy5DkmppLfAf8zdWLejvAS4hO/9+4Ctfjo+P75yamnp93kUVpU71WmsxrLUYdaoVcqn3SLKQv2fBvXm+0ajsx/bt29tl19DUeq3VWq21vvW6GCtJDWfQS1LDGfSS1HBNC/pPll3AgOpUr7UWw1qLUadaoeB6W+22N9eQpCZr2oxekjSPQS9JDWfQS1LDGfSS1HAGvSQ1nEEvSQ1n0EtSw1Xt6pVLEhGrgOuBDWS/vL4JbEopDXwFzCJFxAuAm4G3AC8Bfg3clFK6qdTCeoiIo4CfASemlI4tu55uIuJCYCvwWmA/cH1K6dpyq3q+iHg52c/COUAL2AF8IKW0u9TCgIi4mOy2oGcA+1JKazv2VepYW6zWKh5r3b6vHc8p5Fhryoz+CmA9cDpwKnAacE2pFS1sFfA4cB5wHHAx8PG5H4Aquwp4tOwieomI84AvAB8m+/6+Bri71KIW91ngCOAU4CTgKeDLpVb0J78jC8mPLbCvasfaYrVW8Vjr9n09rJBjrREzeuBS4CMppT0AETEB3B4RH0opzZRaWYeU0lPAJzo2PRARdwJnA7eVU1V3EbEOOB/4R+BbJZfTy1Zga0rpO3Of/x54sMR6unkVcF1KaT9ARHwd+FK5JWVSStsBIuIdC+yu1LG2WK1VPNZ6fF8LPdZqH/QRMUY2I3qgY/P9wBqyC/H/soSy+hIRq4E3A9eVXctC5v5M/yKwiYr/9RcRxwBvAO6OiCngeOBHwOUppUdKLW5hNwDvngufGbJWyF3lltSdx1pxij7WKn3w9mnN3Mfpjm3T8/ZV1c1kfeSvlV3IIj4M/CSl9P2yC+nD8WS97neRzYpOIfvT/VsR0SqzsEXcB4wBvyX7eX0tWVukyjzWilPosdaEoN8/9/G4jm1j8/ZVTkTcAJwFXJBSerbseuaLiFcD7yf7AayDw//Wn0kp7UopHSALzjPIZqGVERErgAB2Ai8EjgXuAL43N/OsKo+1AoziWKt90KeUpoHHyA7ow84k+8HbVUZNvUTEp4G/At6SUtpXdj2LOBt4GfDziNgH/BtwTETsi4i/KLe050spPUG2iFWHy7G+CDgZuDGl9GRK6SBZK+c0st59JXmsFabwY632Pfo5twAfjYgdwCFgAthWpYXYwyLiRuBcYH1KaW/Z9XRxG9ms87CzgG1kB3lV6/4ccHlE3ENW41bgxymlX5Vb1nOllPZFxC+ATRFxJVmP/nKyszJ2lVkbQESsBFbPPVoRcSTQTik9Q8WOtW61Vu1YW6xWRnCsNSXorwZOAB4i+yvlG8DmUitaQEScDHwQeAZ4JOKP/7Y7UkoXlFbYAuZaHwcOfx4Re8kOoNLP8+7iGrJe/f1kPwf3Ae8staLFvZ1sFr+brNYHgbdV5L0fG4CvdHx+kOyvpbVU71hbsNaIOIfqHWsL1jp3Pn2hx5o3HpGkhqt9j16S1J1BL0kNZ9BLUsMZ9JLUcAa9JDWcQS9JDWfQS1LDGfSS1HD/D8ADFZyyC8iDAAAAAElFTkSuQmCC\n",
      "text/plain": [
       "<Figure size 432x288 with 1 Axes>"
      ]
     },
     "metadata": {
      "needs_background": "dark"
     },
     "output_type": "display_data"
>>>>>>> 9e1e6ccbe64d4b33a15e259f670a628d5305612f
    }
   },
   "source": [
    "xi_all1 = np.array(df1_iv['t'])\n",
    "yi_all1 = np.array(df1_iv['v'])\n",
    "sigmaxi_all1 = np.array(df1_iv['dt'])\n",
    "sigmayi_all1 = np.array(df1_iv['dv'])\n",
    "\n",
    "plt.errorbar(xi_all1, yi_all1, xerr=sigmaxi_all1, yerr=sigmayi_all1, fmt='o', capsize=2, capthick=1)\n",
    "#plt.xlim(1.2,1.23)\n",
    "#plt.ylim(-0.025,0.025)\n",
    "#Adjust tlow and thigh below to encompass the bend of the graph for best fit. \n",
    "tlow = 1.220\n",
    "thigh = 10.500\n",
    "\n",
    "df1_iv_select = df1_iv[(df1_iv['t']>tlow) & (df1_iv['t']<thigh)]\n",
    "xi1 = np.array(df1_iv_select['t'])\n",
    "yi1 = np.array(df1_iv_select['v'])\n",
    "sigmaxi1 = np.array(df1_iv_select['dt'])\n",
    "sigmayi1 = np.array(df1_iv_select['dv'])\n",
    "\n",
    "\n",
    "plt.errorbar(xi1, yi1, xerr=sigmaxi1, yerr=sigmayi1, fmt='o', capsize=2, capthick=1)\n",
    "\n"
<<<<<<< HEAD
   ],
   "outputs": [
    {
     "data": {
      "text/plain": [
       "<ErrorbarContainer object of 3 artists>"
      ]
     },
     "execution_count": 6,
     "metadata": {},
     "output_type": "execute_result"
    },
    {
     "data": {
=======
   ]
  },
  {
   "cell_type": "code",
   "execution_count": 5,
   "metadata": {
    "scrolled": true
   },
   "outputs": [
    {
     "name": "stdout",
     "output_type": "stream",
     "text": [
      "[ 0.   1.5  3.   4.5  6.   7.5  9.  10.5 12.  13.5]\n",
      "[0.         6.32120559 8.64664717 9.50212932 9.81684361 9.93262053\n",
      " 9.97521248 9.99088118 9.99664537 9.9987659 ]\n"
     ]
    },
    {
     "data": {
      "image/png": "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\n",
      "text/plain": [
       "<Figure size 432x288 with 1 Axes>"
      ]
     },
     "metadata": {
      "needs_background": "dark"
     },
     "output_type": "display_data"
    }
   ],
   "source": [
    "\n",
    "exp1_Tau = Tau_1 * np.arange(0,10)\n",
    "print(exp1_Tau)\n",
    "Exp_E = E * (1 - np.exp(-np.arange(0,10)))\n",
    "print(Exp_E)\n",
    "\n",
    "fig = plt.figure()\n",
    "plt.plot(exp1_Tau,Exp_E,label='Projected')\n",
    "plt.plot(xi_all1, yi_all1, label='Measured')\n",
    "plt.xlabel('Tau (RC)')\n",
    "plt.ylabel('Voltage (V)')\n",
    "plt.xlim(0,10)\n",
    "plt.legend()\n",
    "plt.show()"
   ]
  },
  {
   "cell_type": "code",
   "execution_count": 6,
   "metadata": {},
   "outputs": [
    {
     "name": "stdout",
     "output_type": "stream",
     "text": [
      "Beta: [9.97997692 0.5998958  1.71728429]\n",
      "Beta Std Error: [0.00089767 0.00094031 0.00117724]\n",
      "Beta Covariance: [[ 1.80718449e-10 -9.11149107e-11  1.71842424e-10]\n",
      " [-9.11149107e-11  1.98297324e-10 -2.16282618e-10]\n",
      " [ 1.71842424e-10 -2.16282618e-10  3.10813913e-10]]\n",
      "Residual Variance: 4458.919447941498\n",
      "Inverse Condition #: 0.145614868452997\n",
      "Reason(s) for Halting:\n",
      "  Sum of squares convergence\n",
      "\n",
      "Final Result: Y = (9.979976916 +/- 0.000897669) (1 - EXP(-(X - (0.599895798 +/- 0.000940315))/(1.717284289 +/- 0.001177240)))\n",
      "1.5\n"
     ]
    },
    {
     "data": {
      "image/png": "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\n",
>>>>>>> 9e1e6ccbe64d4b33a15e259f670a628d5305612f
      "text/plain": [
       "<Figure size 640x480 with 1 Axes>"
      ],
      "image/png": "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"
     },
     "metadata": {
      "needs_background": "dark"
     },
     "output_type": "display_data"
    }
   ],
   "execution_count": 6
  },
  {
   "cell_type": "code",
   "metadata": {
    "ExecuteTime": {
     "end_time": "2025-06-20T20:29:35.074040Z",
     "start_time": "2025-06-20T20:29:27.913034Z"
    }
   },
   "source": [
    "popt, pcov, perr = charging_fit_plot(xi1,yi1,sigmaxi1,sigmayi1,plt,tlow,thigh)\n",
    "\n",
    "#########################\n",
    "print(Tau_1)\n",
    "\n",
    "plt.xlabel('Time (seconds)')\n",
    "plt.ylabel('Voltage (Volts)')\n",
    "plt.title('RC Circuit Configuration 1')\n",
    "plt.show()"
   ],
   "outputs": [
    {
     "name": "stdout",
     "output_type": "stream",
     "text": [
      "Beta: [10.14044771  0.92341825  1.65215911]\n",
      "Beta Std Error: [0.00039989 0.00029167 0.00043062]\n",
      "Beta Covariance: [[ 1.70025807e-10 -5.11754052e-11  1.30041157e-10]\n",
      " [-5.11754052e-11  9.04556687e-11 -1.08420545e-10]\n",
      " [ 1.30041157e-10 -1.08420545e-10  1.97165680e-10]]\n",
      "Residual Variance: 940.5033393914101\n",
      "Inverse Condition #: 0.14715924713546796\n",
      "Reason(s) for Halting:\n",
      "  Sum of squares convergence\n",
      "\n",
      "Final Result: Y = (10.140447709 +/- 0.000399887) (1 - EXP(-(X - (0.923418249 +/- 0.000291674))/(1.652159109 +/- 0.000430622)))\n"
     ]
    },
    {
     "data": {
      "text/plain": [
       "<Figure size 640x480 with 1 Axes>"
      ],
      "image/png": "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"
     },
     "metadata": {},
     "output_type": "display_data"
    }
   ],
   "execution_count": 7
  },
  {
   "cell_type": "code",
<<<<<<< HEAD
   "metadata": {
    "ExecuteTime": {
     "end_time": "2025-06-20T20:29:35.089293Z",
     "start_time": "2025-06-20T20:29:35.074975Z"
    }
   },
=======
   "execution_count": null,
   "metadata": {},
   "outputs": [],
   "source": []
  },
  {
   "cell_type": "code",
   "execution_count": 7,
   "metadata": {},
   "outputs": [
    {
     "name": "stdout",
     "output_type": "stream",
     "text": [
      "RC Time Constant: 0.22 seconds\n"
     ]
    }
   ],
>>>>>>> 9e1e6ccbe64d4b33a15e259f670a628d5305612f
   "source": [
    "# Create a Pandas DataFrame with data for part 2\n",
    "# Enter saved file as .csv in \" \" below!#########\n",
    "df2 = pd.read_csv(\"Exp_5_220.csv\")\n",
    "\n",
    "# Enter EXACT MEASURED Resistor size and Capacitor size user for this trial below! (Capacitor in micro Farads uF, Resistor in Ohms)\n",
    "df2_R = 220\n",
    "df2_C = 1000\n",
    "Tau_2 = df2_R * df2_C * (1/1000000)\n",
    "print('RC Time Constant:', Tau_2,'seconds')\n",
    "\n",
    "#Enter Voltage applied to the circuit below. (Should be 10V)\n",
    "E= 10.0\n",
    "\n",
    "df2_iv = (df2.copy()).drop(df2.columns[3], axis=1).dropna()\n",
    "df2_q = (df2.copy()).drop(df2.columns[2], axis=1)\n",
    "df2_q = (df2_q.copy()).drop(df2_q.columns[1], axis=1).dropna()"
   ],
   "outputs": [],
   "execution_count": 8
  },
  {
   "cell_type": "code",
<<<<<<< HEAD
   "metadata": {
    "ExecuteTime": {
     "end_time": "2025-06-20T20:29:44.251292Z",
     "start_time": "2025-06-20T20:29:44.243885Z"
    }
   },
   "source": [
    "df2_iv = df2_iv.set_axis(['t', 'v', 'i'], axis=1)\n",
    "df2_q = df2_q.set_axis(['t', 'q'], axis=1)\n",
    "\n",
    "df2_iv['di']=0.000001\n",
    "df2_iv['dv']=0.001\n",
    "df2_iv['dt']=0.0001\n",
    "\n",
    "df2_q['dt']=0.0001\n",
    "df2_q['dq']=1E-8\n",
    "\n",
    "#pd.set_option('display.max_rows', None)\n",
    "df2_iv"
   ],
=======
   "execution_count": 8,
   "metadata": {},
>>>>>>> 9e1e6ccbe64d4b33a15e259f670a628d5305612f
   "outputs": [
    {
     "data": {
      "text/plain": [
       "             t       v         i        di     dv      dt\n",
       "0       0.0000   0.030  0.000095  0.000001  0.001  0.0001\n",
       "2       0.0005  -0.005  0.000016  0.000001  0.001  0.0001\n",
       "4       0.0010  -0.004  0.000055  0.000001  0.001  0.0001\n",
       "6       0.0020  -0.005  0.000079  0.000001  0.001  0.0001\n",
       "8       0.0020  -0.004  0.000113  0.000001  0.001  0.0001\n",
       "...        ...     ...       ...       ...    ...     ...\n",
       "41876  10.4690  10.001  0.002000  0.000001  0.001  0.0001\n",
       "41878  10.4700  10.002  0.002000  0.000001  0.001  0.0001\n",
       "41880  10.4700  10.001  0.002000  0.000001  0.001  0.0001\n",
       "41882  10.4710  10.001  0.002000  0.000001  0.001  0.0001\n",
       "41884  10.4710  10.002  0.002000  0.000001  0.001  0.0001\n",
       "\n",
       "[20943 rows x 6 columns]"
      ],
      "text/html": [
       "<div>\n",
       "<style scoped>\n",
       "    .dataframe tbody tr th:only-of-type {\n",
       "        vertical-align: middle;\n",
       "    }\n",
       "\n",
       "    .dataframe tbody tr th {\n",
       "        vertical-align: top;\n",
       "    }\n",
       "\n",
       "    .dataframe thead th {\n",
       "        text-align: right;\n",
       "    }\n",
       "</style>\n",
       "<table border=\"1\" class=\"dataframe\">\n",
       "  <thead>\n",
       "    <tr style=\"text-align: right;\">\n",
       "      <th></th>\n",
       "      <th>t</th>\n",
       "      <th>v</th>\n",
       "      <th>i</th>\n",
       "      <th>di</th>\n",
       "      <th>dv</th>\n",
       "      <th>dt</th>\n",
       "    </tr>\n",
       "  </thead>\n",
       "  <tbody>\n",
       "    <tr>\n",
       "      <th>0</th>\n",
       "      <td>0.0000</td>\n",
<<<<<<< HEAD
       "      <td>0.030</td>\n",
       "      <td>0.000095</td>\n",
=======
       "      <td>0.002</td>\n",
       "      <td>-0.000058</td>\n",
>>>>>>> 9e1e6ccbe64d4b33a15e259f670a628d5305612f
       "      <td>0.000001</td>\n",
       "      <td>0.001</td>\n",
       "      <td>0.0001</td>\n",
       "    </tr>\n",
       "    <tr>\n",
       "      <th>2</th>\n",
       "      <td>0.0005</td>\n",
       "      <td>0.002</td>\n",
       "      <td>-0.000068</td>\n",
       "      <td>0.000001</td>\n",
       "      <td>0.001</td>\n",
       "      <td>0.0001</td>\n",
       "    </tr>\n",
       "    <tr>\n",
       "      <th>4</th>\n",
       "      <td>0.0010</td>\n",
       "      <td>0.002</td>\n",
       "      <td>-0.000046</td>\n",
       "      <td>0.000001</td>\n",
       "      <td>0.001</td>\n",
       "      <td>0.0001</td>\n",
       "    </tr>\n",
       "    <tr>\n",
       "      <th>6</th>\n",
       "      <td>0.0020</td>\n",
       "      <td>0.002</td>\n",
       "      <td>-0.000050</td>\n",
       "      <td>0.000001</td>\n",
       "      <td>0.001</td>\n",
       "      <td>0.0001</td>\n",
       "    </tr>\n",
       "    <tr>\n",
       "      <th>8</th>\n",
       "      <td>0.0020</td>\n",
       "      <td>0.002</td>\n",
       "      <td>-0.000040</td>\n",
       "      <td>0.000001</td>\n",
       "      <td>0.001</td>\n",
       "      <td>0.0001</td>\n",
       "    </tr>\n",
       "    <tr>\n",
       "      <th>...</th>\n",
       "      <td>...</td>\n",
       "      <td>...</td>\n",
       "      <td>...</td>\n",
       "      <td>...</td>\n",
       "      <td>...</td>\n",
       "      <td>...</td>\n",
       "    </tr>\n",
       "    <tr>\n",
       "      <th>42352</th>\n",
       "      <td>10.5880</td>\n",
       "      <td>10.589</td>\n",
       "      <td>0.000086</td>\n",
       "      <td>0.000001</td>\n",
       "      <td>0.001</td>\n",
       "      <td>0.0001</td>\n",
       "    </tr>\n",
       "    <tr>\n",
       "      <th>42354</th>\n",
       "      <td>10.5890</td>\n",
       "      <td>10.588</td>\n",
       "      <td>0.000114</td>\n",
       "      <td>0.000001</td>\n",
       "      <td>0.001</td>\n",
       "      <td>0.0001</td>\n",
       "    </tr>\n",
       "    <tr>\n",
       "      <th>42356</th>\n",
       "      <td>10.5890</td>\n",
       "      <td>10.589</td>\n",
       "      <td>0.000099</td>\n",
       "      <td>0.000001</td>\n",
       "      <td>0.001</td>\n",
       "      <td>0.0001</td>\n",
       "    </tr>\n",
       "    <tr>\n",
       "      <th>42358</th>\n",
       "      <td>10.5900</td>\n",
       "      <td>10.589</td>\n",
       "      <td>0.000086</td>\n",
       "      <td>0.000001</td>\n",
       "      <td>0.001</td>\n",
       "      <td>0.0001</td>\n",
       "    </tr>\n",
       "    <tr>\n",
       "      <th>42360</th>\n",
       "      <td>10.5900</td>\n",
       "      <td>10.589</td>\n",
       "      <td>0.000090</td>\n",
       "      <td>0.000001</td>\n",
       "      <td>0.001</td>\n",
       "      <td>0.0001</td>\n",
       "    </tr>\n",
       "  </tbody>\n",
       "</table>\n",
       "<p>21181 rows × 6 columns</p>\n",
       "</div>"
<<<<<<< HEAD
      ]
     },
     "execution_count": 10,
=======
      ],
      "text/plain": [
       "             t       v         i        di     dv      dt\n",
       "0       0.0000   0.002 -0.000058  0.000001  0.001  0.0001\n",
       "2       0.0005   0.002 -0.000068  0.000001  0.001  0.0001\n",
       "4       0.0010   0.002 -0.000046  0.000001  0.001  0.0001\n",
       "6       0.0020   0.002 -0.000050  0.000001  0.001  0.0001\n",
       "8       0.0020   0.002 -0.000040  0.000001  0.001  0.0001\n",
       "...        ...     ...       ...       ...    ...     ...\n",
       "42352  10.5880  10.589  0.000086  0.000001  0.001  0.0001\n",
       "42354  10.5890  10.588  0.000114  0.000001  0.001  0.0001\n",
       "42356  10.5890  10.589  0.000099  0.000001  0.001  0.0001\n",
       "42358  10.5900  10.589  0.000086  0.000001  0.001  0.0001\n",
       "42360  10.5900  10.589  0.000090  0.000001  0.001  0.0001\n",
       "\n",
       "[21181 rows x 6 columns]"
      ]
     },
     "execution_count": 8,
>>>>>>> 9e1e6ccbe64d4b33a15e259f670a628d5305612f
     "metadata": {},
     "output_type": "execute_result"
    }
   ],
   "execution_count": 10
  },
  {
   "cell_type": "code",
<<<<<<< HEAD
   "metadata": {
    "ExecuteTime": {
     "end_time": "2025-06-20T20:29:46.640495Z",
     "start_time": "2025-06-20T20:29:45.408974Z"
=======
   "execution_count": null,
   "metadata": {},
   "outputs": [],
   "source": []
  },
  {
   "cell_type": "code",
   "execution_count": 9,
   "metadata": {
    "scrolled": true
   },
   "outputs": [
    {
     "data": {
      "text/plain": [
       "<ErrorbarContainer object of 3 artists>"
      ]
     },
     "execution_count": 9,
     "metadata": {},
     "output_type": "execute_result"
    },
    {
     "data": {
      "image/png": "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\n",
      "text/plain": [
       "<Figure size 432x288 with 1 Axes>"
      ]
     },
     "metadata": {
      "needs_background": "dark"
     },
     "output_type": "display_data"
>>>>>>> 9e1e6ccbe64d4b33a15e259f670a628d5305612f
    }
   },
   "source": [
    "xi_all2 = np.array(df2_iv['t'])\n",
    "yi_all2 = np.array(df2_iv['v'])\n",
    "sigmaxi2 = np.array(df2_iv['dt'])\n",
    "sigmayi2 = np.array(df2_iv['dv'])\n",
    "\n",
    "plt.errorbar(xi_all2, yi_all2, xerr=sigmaxi2, yerr=sigmayi2, fmt='o', capsize=2, capthick=1)\n",
    "#plt.xlim(1.2,1.23)\n",
    "#plt.ylim(-0.025,0.025)\n",
    "#Adjust tlow and thigh below to encompass the bend of the graph for best fit.\n",
    "tlow = 0.50\n",
    "thigh = 2.500\n",
    "\n",
    "df2_iv_select = df2_iv[(df2_iv['t']>tlow) & (df2_iv['t']<thigh)]\n",
    "xi2 = np.array(df2_iv_select['t'])\n",
    "yi2 = np.array(df2_iv_select['v'])\n",
    "sigmaxi2 = np.array(df2_iv_select['dt'])\n",
    "sigmayi2 = np.array(df2_iv_select['dv'])\n",
    "\n",
<<<<<<< HEAD
    "plt.errorbar(xi, yi, xerr=sigmaxi, yerr=sigmayi, fmt='o', capsize=2, capthick=1)"
   ],
   "outputs": [
    {
     "data": {
      "text/plain": [
       "<ErrorbarContainer object of 3 artists>"
      ]
     },
     "execution_count": 11,
     "metadata": {},
     "output_type": "execute_result"
    },
    {
     "data": {
=======
    "plt.errorbar(xi2, yi2, xerr=sigmaxi2, yerr=sigmayi2, fmt='o', capsize=2, capthick=1)"
   ]
  },
  {
   "cell_type": "code",
   "execution_count": 10,
   "metadata": {
    "scrolled": true
   },
   "outputs": [
    {
     "name": "stdout",
     "output_type": "stream",
     "text": [
      "[0.   0.22 0.44 0.66 0.88 1.1  1.32 1.54 1.76 1.98]\n",
      "[0.         6.32120559 8.64664717 9.50212932 9.81684361 9.93262053\n",
      " 9.97521248 9.99088118 9.99664537 9.9987659 ]\n"
     ]
    },
    {
     "data": {
      "image/png": "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\n",
      "text/plain": [
       "<Figure size 432x288 with 1 Axes>"
      ]
     },
     "metadata": {
      "needs_background": "dark"
     },
     "output_type": "display_data"
    }
   ],
   "source": [
    "exp2_Tau = Tau_2 * np.arange(0,10)\n",
    "print(exp2_Tau)\n",
    "Exp_E2 = E * (1 - np.exp(-np.arange(0,10)))\n",
    "print(Exp_E2)\n",
    "\n",
    "fig = plt.figure()\n",
    "plt.plot(exp2_Tau,Exp_E2,label=\"Projected\")\n",
    "plt.plot(xi_all2, yi_all2, label='Measured')\n",
    "plt.xlabel('Time (Seconds)')\n",
    "plt.ylabel('Voltage (V)')\n",
    "plt.xlim(0,10)\n",
    "plt.legend()\n",
    "plt.show()"
   ]
  },
  {
   "cell_type": "code",
   "execution_count": 11,
   "metadata": {},
   "outputs": [
    {
     "name": "stdout",
     "output_type": "stream",
     "text": [
      "Beta: [10.67837023  0.66845779  0.30049021]\n",
      "Beta Std Error: [0.01046746 0.00139374 0.00199032]\n",
      "Beta Covariance: [[ 8.27272820e-10 -2.23963325e-11  1.07219749e-10]\n",
      " [-2.23963325e-11  1.46666827e-11 -1.19640621e-11]\n",
      " [ 1.07219749e-10 -1.19640621e-11  2.99097771e-11]]\n",
      "Residual Variance: 132444.4601184634\n",
      "Inverse Condition #: 0.1917386415673354\n",
      "Reason(s) for Halting:\n",
      "  Sum of squares convergence\n",
      "\n",
      "Final Result: Y = (10.678370228 +/- 0.010467459) (1 - EXP(-(X - (0.668457792 +/- 0.001393743))/(0.300490207 +/- 0.001990323)))\n",
      "0.22 seconds\n"
     ]
    },
    {
     "data": {
      "image/png": "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\n",
>>>>>>> 9e1e6ccbe64d4b33a15e259f670a628d5305612f
      "text/plain": [
       "<Figure size 640x480 with 1 Axes>"
      ],
      "image/png": "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"
     },
     "metadata": {},
     "output_type": "display_data"
    }
   ],
   "execution_count": 11
  },
  {
   "cell_type": "code",
   "metadata": {
    "ExecuteTime": {
     "end_time": "2025-06-20T20:29:55.734413Z",
     "start_time": "2025-06-20T20:29:49.698997Z"
    }
   },
   "source": [
    "popt2, pcov2, perr2 = charging_fit_plot(xi2,yi2,sigmaxi2,sigmayi2,plt,tlow,thigh)\n",
    "\n",
    "#########################\n",
    "print(Tau_2,'seconds')\n",
    "\n",
    "plt.xlabel('Time (seconds)')\n",
    "plt.ylabel('Voltage (Volts)')\n",
    "plt.title('RC Circuit Configuration 1')\n",
    "plt.show()"
   ],
   "outputs": [
    {
     "name": "stdout",
     "output_type": "stream",
     "text": [
      "Beta: [10.02839766  2.67816935  1.63175141]\n",
      "Beta Std Error: [0.00059001 0.00025331 0.00047389]\n",
      "Beta Covariance: [[ 3.53944463e-10 -6.78877656e-11  2.27670471e-10]\n",
      " [-6.78877656e-11  6.52434946e-11 -9.36089260e-11]\n",
      " [ 2.27670471e-10 -9.36089260e-11  2.28335213e-10]]\n",
      "Residual Variance: 983.5213699600839\n",
      "Inverse Condition #: 0.15628899357712508\n",
      "Reason(s) for Halting:\n",
      "  Sum of squares convergence\n",
      "\n",
      "Final Result: Y = (10.028397660 +/- 0.000590010) (1 - EXP(-(X - (2.678169345 +/- 0.000253315))/(1.631751405 +/- 0.000473891)))\n"
     ]
    },
    {
     "data": {
      "text/plain": [
       "<Figure size 640x480 with 1 Axes>"
      ],
      "image/png": "iVBORw0KGgoAAAANSUhEUgAAAiQAAAGyCAYAAADUJN+zAAAAOnRFWHRTb2Z0d2FyZQBNYXRwbG90bGliIHZlcnNpb24zLjEwLjMsIGh0dHBzOi8vbWF0cGxvdGxpYi5vcmcvZiW1igAAAAlwSFlzAAAMTgAADE4Bf3eMIwAASKVJREFUeJzt3Qd4U9X/BvA33XsPSmkpUKDsvYeyRECGoLjYUxQX/BQHQxFFhohbQWQLyhARUGQXZI+yN2WULrp30yT3/5yD7Z9NgaY34/08T57c3KxvEmjenHPuORpFURQQERERqchGzScnIiIiEhhIiIiISHUMJERERKQ6BhIiIiJSHQMJERERqY6BhIiIiFTHQEJERESqYyAhMjPbt2+Hm5sb9Hq9WT/HoygoKMBLL70EHx8fWWd6ejpq1KiB+fPnw1SZen1EamMgIXoIjz/+OBwcHOSXoYeHh/yy+fHHH2+6jU6nw4wZM1CvXj15Oz8/PzRo0EDu02q1d33sixcvYsiQIQgNDYWrqytCQkLQrVs3bN68WV7fqlUrZGVlwdbW1miv79bn+PDDD9GyZctih5muXbvK1+vu7o7w8HAMGzYMZ8+eLbH6li9fji1btsj3StTp6emJ48ePo3///lDb1q1bodFo5Od/I2PXd+bMGfTu3RvlypWT73uVKlUwbdo0cO5LMhcMJEQP6Z133pFfhmlpaZgwYQJGjBiBbdu2yesMBgO6d++O7777Dp988gni4+Nx7do1/PTTT9i3bx/i4uLu+JgnT55E/fr1kZ2djQ0bNiAjIwOnTp1C37598euvvxarrnuFHWNbvHgxnnjiCTRu3BiHDx9GZmYmdu7ciWrVqmHNmjUl9jznz59HxYoVZRgsLeKL/daQYUpSU1NlkNy9e7f8dyP+vcycORNffvml2qURFY+YOp6IHsxjjz2mfPDBBzft8/X1VaZNmya3Fy9erNjb2ysnT558oMft0KGD0qpVq3veZsuWLeInr1JQUCAvT5gwQWnRooUyduxYJSgoSKlWrZrcf+LECaVr165KYGCg4uHhoTRp0kS5fPmyvK58+fLK7Nmzb3pc8ZgbNmy47TkWLVokX4uNjY3i6uoqT5GRkbfVlZWVpXh7e8s67kWn0ylTp05VKleuLOtq0KCBsm7dutte37Jly+Rt3NzclPbt2ysxMTHy+v79+99Uz5NPPnnH17R27VqlRo0a8jZt2rRRxo8fL29zr8/wxseIjo6Wdfz0009K7dq1FScnJ2XXrl2yvmbNmik+Pj6Kl5eXfOxDhw7J+1y6dEneTtyv8L365JNP7ljfzp07lZYtW8rHCAsLU8aMGaPk5eXdVMtHH32kdOrUSb4HFStWVFauXKk8iDfeeEPp1q3bA92HSC1sISF6ROJX8y+//ILk5GTZEiCsXbsWjRo1QkRERLEfJzc3V3bLiNaQByV+Fdvb2+PChQvYv38/EhIS5K/lmjVryqb8lJQUfP3113B2dn7gxxZjNd5//300a9ZMtgiJk3jsW4mWEPErvV+/fvd8vMJf7UuXLpXv2f/+9z/ZmnTw4MGbbvf777/L1qSYmBjk5OTIGoR58+bdVM9ff/11xxaUHj16YPTo0bIF69NPP8X333+Ph/Hzzz/L1h3xXKL7TbzP06dPl61cly9fll1Son7RMiW62QrrEc8r7lNY943E/dq3b49evXrJz+qff/7Bn3/+iTFjxtx0O9GiNmnSJDlG5tVXX5VdPqL1o7j/LkW3lqiZyBwwkBA9JPGl5OXlBScnJ/klPGXKFHTp0kVel5iYKPvyH4QIDWIQ6YPeTwgMDMS4ceNkLS4uLli4cCHKlCkjv4hFt4YYCyICkhjXYSziNQv3q3/WrFl4++23ZdeUnZ0dnn/+eXTq1Enuv9HkyZPl2BBxevHFF7F3795i17JkyRLUrVsXAwcOlM/RtGnT+waluxk/frwcxyPeQ0dHR7Ro0QLNmzeXY4jEWA3xuYuAcfr06Qfq2hJjPN588035OJUrV5bBQ7wHN475EGOJxPtkY2OD4cOHyy4w0a13P+IxXn75ZTn4V4QyInPAQEL0kMQve/ErWLQKDBgwQP7KLRxjEBAQIH/ZPwhxxIj40nvQ+wnly5eXAykLRUdHo2rVqihN4jUL96v/ypUrqFSp0k37RCuD+FK/UdmyZYu2xeBe8WVcXFevXpXvyY3CwsLwMCpUqHDT5SNHjshBu8HBwTLsFV5fGMiK427vgWglE2ON7vYeCPd7H0SoHTRoEPbs2SNb3ERoIjIHDCREj0j8wf/2229ld4k4F0RLiehueJBfzaI7pW3btli0aNED1yB+Qd/65Xuvo1pEzWLgbKHY2NgHevw7Ea0G3t7esnXmXkRrg+hSuZG4LLo7SooIC5cuXbpp362Xb30PRJi8U6i49bU/++yzMkwcO3ZMdp+I8CcUtmwU570S74H493LreyD+Dfj7++Nh5efn45lnnpFH9IgB1qKVjMhcMJAQlQDRlC+a9j/++GPZ3y+6IcQYAfFLev369fKLT3xhHT16VI4RufXL8cbxFeI2ffr0kWM/xK9d8atZjKcQTfDFJbonREuF6MYRv6jF44ixJUlJSfL6hg0bym4N0cIjvlTffffdez6e+GITLRh5eXl3vY34BS/GqYhDTUVXUeGRROI5v/rqK/naCrshRHdXVFSUDAG//fYb1q1bJ/eXFPH+i8dfsGCBfA7R3SO2byTeg9WrV8swJt5j8R6ILo77EZ+vaBkRXUmim+3WLpHCEHCvMCq6oMT14v0SY09EGBGflXgPbmzpehBivErnzp1lTZs2bZItbkTmhIGEqISIoOHr6yvHFIhfyeLLTvT7i4GK4levOIkxDWIukqCgoDs+RvXq1eXgThFwRGuJ+OITYw3EQM4XXnjhgcaUREZG4sCBA7JLQdT12muvFQUKMV5BPLb4pS7qefrpp+/5eM8995zsAhJdCGLczI4dO+46AFYEMDHAVQyoFa0QYvyG+MUuwpkwatQoOUBT/JIXX5ri/Vq5cqUMCCVFdH+Ix/zss89kvSJsiG4MMcam0FtvvSVfuxiILF6buI9oWSnOINdly5YVvTYx/uVG4vMS73WbNm3kc4sabiW6k0QXnzg0V3R1ic9aPM7UqVMf+jWvWLFCdtGI8CX+fYm5b8RJzJFDZA404lAbtYsgIjI2MYBUDAgVgYmITA9bSIjIIolDdUV3keiu2rhxo2zZEC04RGSa7NQugIjIGHbt2iW7yMQcJqKrSYzxeZg5XoiodLDLhoiIiFTHLhsiIiJSHQMJERERqc7sxpCIwyEfZeIgIiIiKn1iFmIxeZ/FBBIRRh5mam0iIiJSz/3WuWKXDREREamOgYSIiIhUx0BCREREqmMgISIiItUxkBAREZHqGEiIiIhIdQwkREREpDoGEiIiIlIdAwkRERGpjoGEiIiILD+QvP766wgLC4NGo0FUVFTR/rNnz6J58+aoUqUKGjVqhOPHjxu7FCIiIrLWQPLMM89gx44dKF++/E37hw8fjmHDhuHMmTMYM2YMBgwYYOxSiIiIyFoDSevWrW9bUCcxMRH79+9Hnz595OVevXrhypUrOHfunLHLISIiIhOkyhgSET6CgoJgZ3d9sWHRnRMaGorLly+rUQ4RERGp7HoiMGEzZsyQp0JZWVmq1kNERGTKFEVBjlaPzDwdEjLyYGujQXx6Hq6k5uCvY/GoHOCGhIx8VPBzQV6BARl5BTgVl4nTCZnwc3PE4JYVMOLxStYRSEJCQhAXFwedTidbScSbJ1pHRCvJrUaNGiVPhW7t/iEiIrIkiqIgt0CPlGytDBYZuQVIzy1AtlaPozFpOB6bgV3nk6HRAAblwR9/b3TKXa9LysqHNj0egJUEkoCAANSvXx+LFi2Sg1lXrFghg0Z4eLga5RARERlFVr4O1zLzkZiRJwOGVm/A4j2XoTcoOBGbgcer+stWC3cnO3g62yMmNbfYj63cIYxU1CQi2uAPJ+SjSd5R2BfkIxtOUPRAtHMIQrLjEJZ5FTWSz8MrNwdeuXny5GDQQfPfY0RnBQHdN6O0aRQRxYxIHE2zdu1axMfHw9fXF+7u7nLw6unTp2UYSU5OhoeHB+bOnYtatWrd9/FEcImJiTFmyURERLfR6Q1IztbK0JCclY/EzHysOBiDcH83eS6+TcUXqvhif9gvVnd9JjJt3RGaE4NYp0B0vBoJn9wseOTlwT0vH/l2jgjISUWZnBR45WfBUa8tChL3YtAAefaA1gHQ2gM6Bw309hroHTQwONhCsbcFHGwBR3sEtGyFxoOmoKTd7/vb6IGkpDGQEBFRSRBff/k6g2zB2HAiAQZFwYWkbFxNzYW9rQ2Ss/Nx6HKavK29rQYF+uJ9XXrnpyLLzg0FtvZofXU/tDZOiHP1Q/O4o/DOy5SBItveGeUz41EmOwVOunzY3hJhch2AfHFyBApEeHC0gUGcHOwARzvAyR42Tg6wdXaCrYsLbF1c4eDmDgc3Tzi6+8DRwxfOXv5w8SkLF++ycPLwh42tLUz5+9vkB7USERE9zKDO2LRcHLiUihkbzsixEeLnd5OKPth9IQWBLkBCTvEez86gQwHs4FyQh1x7J/jlpKFiRiwqp8WgTHYyQjIT4VaQC9+8DNgZtMh1AvKcAK2jBjpHDfROtlDy7ABPB2jKOFwPEG4aOLqXh86jLnRefrD3CYCrbzDc/MvDzT8Mdo7OsDYMJEREZDa0OgNOxWcgNacABy+lYlXUVTQo64Q1x5OhFf0S9yHCiKBLTgOcveS2CBr+uWmolXQBtooezeOOwVOXAkdNJgwOeuicba6HChd7aNycYOPmCvswdzh6+cDJJwyufs3hXiYMHmXC4RZQAbZ29kZ/HywRAwkREZlMy0ZSlhZ7opORkZmNg2eiEXMtHTGZBtjr85Cmd0Sqxv22+11KFk0d/x9GQjISUCXtCnzz0nHaOxSPX90HVyUDrpp0uNlkwtYVgJsTbDWusPfyhnOwH1wCysE9qAa8y0XAI2gs7J3dSvnVEwMJERGVCoNBwdXUbJw8dxYTVx2BZ14szthXRYGNIxwN+ci3cbzDvVz+O3dD2exrqJR9FfsDI9As7hAynFxQI/sUQhGHMs5ZcPNygqOvH5zDy8C9TAg8g5vAK7QW3HzfLOVXSg+DgYSIiEpM3MWTiNyzF/uj03As3Rk+eddw0K4qcm1vHRPhhxhHv6JLbvm5cNHko2xuPLR2dgjUXUN9/Wl4uAEh3hp4lgmCe3BF+IQ1gG/FenBw6VLqr42Mi4GEiIiKLf3qaRzZtx1HzsbgfLIO13Lssd2lIfzykpHk5PvfrUTQ+C9sOAYX3ddBr0WVrHO47BKM8Pxz6OAdh7KB3ggPD0NQRBN4hdRU/UgQUg8DCRERFSnIzULs4X9w6eheHIrOwMV0B2x1agS9Yos8W0dobR0ABP13+v8elf8PI4CXIQNOtgq6BiTKib+q1WkMn+DKKr0iMhcMJEREVkabk46rhzYg/thOnI5OwoFMf4iRGFedg5Fn4wBnvQHZ9q2u3/j2MaTwNGTB3lZBx8B0NKkWisYNmqCMn0+pvw6yLAwkREQWKvnCQVzeuw4ppw4jISYVsRkemBP6InLtxHgOcWp3x9CRbeOMGpoY+Lg7oF4Ff1QMr44mVYIQ5Gl9c2NQ6WEgISIyY/oCLeKObsbVg5uQdvYEUq5mIS7HB4dd62BbcCMA9a6fbhjWUcjZkC3n3TBoNBjSrg461wlG5QB3uTosUWljICEiMqMWj+h/VyLleBRyLiYiJicQZ5yqYWtwA3hoqyPG/XHgHguit6nii1rlvPF0/XII83WBRiwXS2QiGEiIiExMfmYyoneuQPyh7cg+dwH5cfm4bKiEL2v3QY3kQBzzGwGE3XyfDMf/n8irWUUfPFkzCA3DvFGtjAds2OJBZoCBhIhIRdnJsTi3ZQESDuyE9kIM8q454pJDFZz3DMERv7ZI9O4Frd//T0V+zK/iTfd/qUkoWlX2l0ezOIkVW4nMFAMJEVEpyUq8iHNbFiPx0C5oz8fCPkGHg26NkebojhSn+thQYThQ4fb71S3nAUd7OzSt6Ite9csh1Ldw9lIiy8FAQkRkpPk8zkf+gpid65F3KhquMbnQ5/ritE8ojvnWxV+VRgCV7n7/qc/URruIAPi63Wk6dSLLw0BCRFQCrp3di7MbFiL1cBTsolPgnmiPn2r0xFHfp3GtgvdtLR/Odhp4uToiLj0PT9cLxnudIhDg4aRW+USqYyAhInqIQ23Pb1uMS1v/QP6pS3C7qsUZ55o45lsBqyu9C3jf+X7VgzwwsEUY6pf3RgVfVw42JboBAwkRUTG6X85s+hkxkX9DfyoGLrG2OOhbB1H+jRAZPhQIv/P9vFzs8crjleS4D3a9EN0bAwkR0S20WWk4se57xO/cDOV0HFwSHXHRrTwWR3TFmeqhQPWbbx/q44J6oV6oFeyJJhV8UTPYg3N8ED0gBhIisnoGvR5nN8/DxQ0rYDh+BR6xdjjvHoa1FTpgT50ad7xP5QA3jGwbjk41g+BgZ1PqNRNZGgYSIrJKsUc24dTqn5AbdQre0Voc9ayFf8s2R2StekCtO99nxYhmqBXsxQBCZAQMJERkFXLTEnBk2TQk7dgO9zMZyNEF4vvaPZDv0xKnwm+Z9hSQg087VAtEk4q+XNuFqBQwkBCRxbp6aD1OrvwRBYfOwjPGFtuDGuL7OuOBoDvffsyTERjQPAzODpzxlKi0MZAQkcUoyMnEsT9mInbzerieTIEm2xObyjfBkpqDgZo331YMQq0b4oWhrSqirJezWiUT0X8YSIjIrOWkxOHQL5OQGrkLZc7k4oRHBMY3fw9oeefb/za8GRqW9+YcIEQmhoGEiMxOWsxJRC2ejJydh1HmQgGO+dfGvOpvIK6i3223fb1dZTzfKIStIEQmjoGEiMxmavbDi6ZAt/c0Ai4D6yu3x5JqnwLVbr9tJX9XrH29FVe/JTIjDCREZNItIQfnfQTtjmMoe1nBhqodsaJWP+jq3P6na1KPmnipSSgnJCMyUwwkRGRSspKv4ODcCcjath9+lzQ4HFQX24MH4mDdiNtuO3dAI7SJCFClTiIqWQwkRKQ6bU469s8fh9QNkQg6q8Vp/5qY3HASDDVu7nJpVtEXQ1tXQNuIQNVqJSLjYCAhItWc+mc2zi39GX5RaTjmVRuzar6NpCpet93u91eao17oXZbQJSKLwEBCRKUq6fwBHJw9AXY7LwBZ3vi5zrM4+ETV2263dFhTNKngwzEhRFaCgYSIjK4gNwv7fn4XaesjEXBBwZ/Vu2JD44HIs3O67RDdN9pV5lTtRFaIgYSIjLqAXdSPH8NrTwIyNIFYH9YJfzzV+qbbNK3og3kDG/MQXSIrx0BCRCVKl5+L/fM+QMqajfC6bI8/IzphT8tqSHG6PjYk0MMRLSr54f0u1eDn5qh2uURkIhhIiKhEJJ7ehQPfjYX7rlisCX4Sp/0H4FCN/x8b4u/uiLFdqqFbnbIcF0JEt2EgIaJHcmLNt4heMAdlThRgS5UO+K3tqNu6ZL59sT582RpCRPfAQEJEDzVIdc+Po5GzZgdsUn2wtPoz2P5UnZtu83H3GujTtDxbQ4ioWBhIiKjYUq8cx96Zo+G6/RK2BDyGOQ2n3nabda+3QvWyHqrUR0Tmi4GEiIp1tMyhL8YicH86/q3QFgvavnbT9VN61UKv+uVgZ2ujWo1EZN4YSIjors5tW4xT382A21k77A5pjL/aNUKSk2/R9VN71UbvRiGq1khEloGBhIhuc2TldMTMWwCXGDf8Vr0nIp+oW3Tdq20q4bmGoQj1dVG1RiKyLAwkRCQZ9HocWDQeKYtXwS7ZG690mAxUv35dgLsjHq/qjw+71YCLA/9sEFHJ418WIitXGERSF65CgrYyFlQbibP1Q4uu/7FvA7SvFsjp3InIqBhIiKw4iBz8ZQJS5v+OzJwQTGn4LhJdfIqu/2VoEzSr6MvDdomoVDCQEFmhg4sn4Nq85Thu0wiLa7yPZGcvQFHk6rrjnqqOmsGeapdIRFaGgYTIihz/8ytc+XYW4nOrYEnVV3Hap7zcL6ZzH9k2HFUC3dUukYisFAMJkRWI3rkcJ6ZPgs0Vb8yr3hd7gmrK/Q52NninY1UMaVVR7RKJyMoxkBBZsMRTO7F30ptwPmmH36v2wKa2DaBobNC5Vhm82b4KW0SIyGQwkBBZoMyEC9j+0SBoDujwWcMRiOkQIPe3CPfFOx0jUCfES+0SiYhuwkBCZEH0BVps+6wvbFafws6yj2FRm47/XaNg0eCmMpDwqBkiMkUMJEQWIurXT3Dtu19wyqEe5rZ4BylO11tBxFEzg1qEMYgQkUljICEyc1cPrkfUpDHISgjGrFqv47xXOdjAgI+718DzjUNhzwXviMgMMJAQmamc5FhsHfcibPbrsDjieeysUgsaxYBhrSvi1Tbh8HS2V7tEIqJiYyAhMkO7f3wL6Qu2YUNQe6x+vAX0NnbyyJkxT0agvK+r2uURET0wBhIiMxJ7ZCMOjvsfdmoewy+tPpb7apZ1w4RutdAo7P+nfSciMjcMJERmoCAnA5vHP4eM3TrMqT4Up3zC5H7RKvLNC/Vhw4XviMjMMZAQmbjDK6bi8je/YlVQN2xuUV/uG9giTE5sxnEiRGQpGEiITFRW0mVs/V9vXLgajjl130G6oxsC3OyxcEgzVC3DGVaJyLIwkBCZoH3zP8DVOVswrfbLuNrAH3aKFl88Vwc96gZzPhEiskgMJEQmJD32NDaP7ofVNl2wpfkHRfv3je8Cb1cHVWsjIjImBhIiE7HrhzdwZtlpTGg0vmjfgkGN0bqKv6p1ERGVBgYSIpVlxp/Hn6MHYa7bCzjb6Imi/ScnPglnB1tVayMisopAsm7dOowdOxYGgwE6nQ5vv/02+vfvr2ZJRKUqauknWLvkNGZXe6do3/o3W3PQKhFZHY2iKIoaTyye1tfXF1u3bkXt2rVx8eJFRERE4Nq1a3B3v/sf43LlyiEmJqZUayUqadqsNPw++ln8pn0SBwIjivaf/7QzbDmnCBFZoPt9f6vaQiKOFkhLS5PbGRkZMqA4OjqqWRKR0Z3dPB+rvlqLn8JfQb7d9YGq615vheplPdQujYhINXZqhpFff/0VPXv2hKurK1JTU7Fy5Uo4ONx8JMGMGTPkqVBWVpYK1RI9OoNejz8/6I0/LtfC5ojrXZOtKnlj3uBmbBUhIqunWpeNGDPSvn17TJw4Ea1bt8a+ffvQrVs3HD16FH5+fne9H7tsyBylXjqK+WPGYmbYsKJ9a19viRplPVWti4iotNzv+9sGKomKikJsbKwMI0KjRo1ksYcOHVKrJCKjOLhsCj773/f4OnSwvPxYBVec/aQTwwgRkSl02YSEhCAuLg4nT55EtWrVcO7cOZw/fx5Vq1ZVqySiEqUv0GLpOy9gQXY7nK7UBV66FPz8SmfUD/NVuzQiIpOjWiAJDAzErFmz0Lt3b9jY2MhDf7/55huEhoaqVRJRibl2di8WfPAZfgp5Cbk+TmhfJhdfv/Ii5xUhIjK1MSQPi2NIyNQdXDYNc1YmYm35x+XlF+v54dPnmqhdFhGRqkz6sF8iSzuK5vfxffFTYnOcLP84bBQ91r75OKoF8XBeIqL7YSAhKgE5qfH49s3X8G3QAMAX6BqchekjnoGjHbtoiIiKg4GE6BFd3Psnvpi5EatD+slWkfceD8DQTl3ULouIyKwwkBA9gs2z3sdXe3wRFfoE7AwFWPfmY6hS1lvtsoiIzA4DCdFDjhf54f2hmJXfAWn+HmjqGo8f/9cPns72apdGRGSWGEiIHmJhvAFjvsJO916AEzAoogDj+g+SyyEQEdHDYSAhegCJ5w5g1OQ/sNP/+mG8n3YIwIvtGqldFhGR2WMgISqmf9ctwsAtrtD+F0aWD6mHhuFl1S6LiMgiqLaWDZE5WfHdBLwU6Q2trQMa2VzAiYkdGUaIiEoQW0iI7uOjce9hbkFLuV3LNR2/jR3J8SJERCWMLSRE9ziS5q033y4KI8Oq5ePPcS8yjBARGQFbSIjuIC87DcP/9zm2eT4O14JsfN+rLFo3vx5MiIio5DGQEN0i+eo5dJ26FbGeTeGXn4TlrzdHWIXKapdFRGTRGEiIbnD6YCT6zT+PBOcgOQ38pg97wNPTU+2yiIgsHseQEP1n9+ZV6D/vAhKcAxChv4TTkzozjBARlRIGEiIAvy9fiKFrtEhw9sUL9nvw97RXYG/PBkQiotLCv7hk9eb8/COmnfBDgZ09XvU+gP+9O1HtkoiIrA4DCVm1oVPmYENqObgacvBe2FH0H/mh2iUREVklBhKyWu9Pno4N6dXk9ie1r6DHgA/ULomIyGoxkJDVURQFT4//CVEF18PIdw3i0fnZUWqXRURk1RhIyOrCyIAJXyOqoJK8/Gu7HDTpMFjtsoiIrB4DCVlVGHl5wufYpr3eMvJ7Zx3qtX5W7bKIiIiH/ZK10BsUdB87C+u11VAh4wr+7KqgXuvuapdFRET/YQsJWUUYafPBQlxWyqFKWjS+HlgBVZt0UbssIiK6AVtIyKIV6A14Yew3uKz4yss/DAlnGCEiMkEMJGSxtDoDnh0/C3sNFVEv6Ri2POeAig2fVLssIiK6A3bZkEXS6Q3oM3EWovQhqJ18El+ObIDQuu3VLouIiO6CLSRkcQwGBQM+mY292hCEp1/EjMFVGUaIiEwcAwlZXMtIx4lLsSOnHBokHsc3z/sivGlXtcsiIqL7YJcNWVTLSMTYtdApHiifEYsJz/ki4rHn1S6LiIiKgS0kZDGTng36fAl0ig2889Ix84ls1O7IGViJiMwFW0jIIsJIz2l/4FCKJ7zyMvBd40uo1+M9tcsiIqIHwEBCZm/wd3/jUIq93P6i+mE0e/EztUsiIqIHxEBCZu3HtTux+YoBIRkJeDfkX7QZNkftkoiI6CEwkJDZWr37BD6LTIajXoeh7hvQ5b0lapdEREQPiYGEzNJfhy5i1Moz8NTm4Y2cheg3a63aJRER0SNgICGzczwmFSN+PQ57BRiatAj95v6udklERPSIeNgvmZWEjDy8OHMdNIoB/WN+w9BZi2Fr76B2WURE9IgYSMhsZOYVoPPEpUi388KAC8vw5tefwcHFU+2yiIioBDCQkNms3Nt23CIk2/nj2fN/YfhHQ+HmF6p2WUREVEI4hoTMYkr45u8tQJJtADpe2olBw+qhTPVWapdFREQliC0kZPI+XLoNSbb+aBp3FAPaaVGtA6eEJyKyNGwhIZM2fN5OrD+VjerJ0ehb/gCaDVmmdklERGQEDCRksradTsD6U6lyu5/yO7pM3KR2SUREZCQMJGSSziVmYticHbCDHV69PBfPzF+jdklERGREDCRkcpKy8tF9+loUwAWjTsxB/59nws7RWe2yiIjIiBhIyKTkavVoOGkjYOOO4ceWoev4QXAPqKB2WUREZGQ8yoZMhqIoeHPhdrndKP4E2j8bjPKNu6tdFhERlQK2kJDJmLX1DNafzUbF9KsYWGY7GvVfrXZJRERUShhIyCSsPhyLyevPISQjASPS5uHJb663lBARkXVgICGTOKLmrV/2ARo7DL24AF1/XQ0bW1u1yyIiolLEQEKqysgrQPsZkTKMfHDgRzwxcyKc3P3ULouIiEoZB7WSqoNYa3+4Xm73O7EO9Qc2QJkardUui4iIVMAWElLNy4sOANDAPycVzSqfQ4MXv1W7JCIiMtVAcv78ecyePRubN29GTEwMnJ2dUadOHTzzzDPo3bs37OyYaejB7b6QjPXHE+T2O5e/QscVu9QuiYiITLXLZvjw4Xj++efh4+ODzz//HNu2bcOqVavkvo0bN6Jhw4bYvXt36VVLFuFMQiaen3X9382n+6ajwzfzOYiViMjK3bN5o1u3bvjxxx9v21+rVi3ZOpKcnCxbUIiKS6sz4IkvIuV2g4STqP/OC/AqV03tsoiIyJQDSZcuXe55Z19fX3kiKq4p647L827nt6NHnUuI6LhE7ZKIiMhcjrIZP3480tLS5FERIqT4+flhxYoVxq+OLMo/x+MxZ+dlVE+ORjvbTWg7lmGEiIgeIJD88ccf8PLykuNGxCDWf//9F5MmTSrOXYmkKyk5eGXBbrhqczD43CK0+3al2iUREZG5BRIbm+s3E4Nan332WVStWhUajcbYtZEFjRvp+PlG6DT2eOvQEtR4dxDcfEPULouIiExIsY7ZdXV1xZQpU7B06VLZOiK6brRarfGrI4sw9e+TyNHboveZTQhtrkdEx2Fql0RERObYQjJv3jzExcVh6tSpCAwMlEfW9OnT55GfPD8/HyNHjkTlypXlkTsl8ZhkWubsiMZPOy6iasoltNRtRvuJ7KohIqKHbCGJjIzEzJkziy6Hh4cjICAAj+rdd9+VXT9nzpyR5/Hx8Y/8mGRai+Z9vOaE3B5xchFaLVrI+UaIiOiONIrof7mP+vXr4+DBgzfta9CgAQ4cEFN/P5zs7GwEBQXJ2V89PDyKfb9y5crJ+5Bp0xsUhL+/Bgps8NbBpWg9qCrqPT9W7bKIiEgl9/v+vmcLyd69e7Fr1y5cu3YNX331VdH+9PR02d3yKES3j5gB9tNPP5VH74gp6T/88EO0a9fukR6XTMPMjWdkGGl3eT8qV45BvecXql0SERGZsHsGEjFuJCoqCjk5OTh06FDRftGiIcaVPAqdTodLly6hevXq+Oyzz+Tjd+jQAcePH5fjVArNmDFDngplZWU90vOS8R2PTce3m07DOz8bXRNXo8OcbWqXREREltBl89dff6FTp04l+sRJSUkyeIijdWz/G1fQqFEjTJ48Ge3bt7/r/dhlY9rydXrUGPsnFIMNpuz8GvWnDEXFFr3VLouIiMy5y2b16tV33L5xrZuHJWZ7Fd0z69evR+fOnREdHS1P1apxXRNz1uSTTdDBHv1O/QWvNu4MI0REVCz3DCRffPHFXa8TR8U8SiARfvjhBwwePBhjxoyRk6+JhfyCg4Mf6TFJPX9EXUVaboGcGr6xbjvafnjzQGgiIqKHCiRbtmyBMVWsWNHoz0GlIy1Hi7eWHAA0tnj5xFI0mv0tD/ElIqKSnYdEWLZsGTZs2CC3O3bsiF69ehX/WcjitZyyGQaNLbpc2Anv3jURWL2l2iUREZGlBZKJEydi1apV6Nevn+yqEQNPT548ibFjOa8EAWuPxCErX4/G8SfwJP5CqzfYVUNEREY4yqZ27drYvXs3XFxciiY1a9asGY4cOYLSxqNsTMu1zHw0/+RvOOfnYcqe6Wi2bCG8giPULouIiEzM/b6/i7WWjcgshWGkcLG9YuQYsnDi30DjTzagAHZ49fDv8B7QimGEiIiM12XTuHFj9O3bF0OHDpWX58yZI/eRdVu05zIUaNA07hiC/c6g6bClapdERERm6p4tJGLKeEFMG1+2bFmMGjVKnsQaNDdOJU/WJzopG+NWHZPbg04vQ4tp89UuiYiILLWFpEKFCvKImiFDhsjp3cWAViKh7XRxuLYGPc9uhWvfJvAuX0vtkoiIyFJbSMTMqc2bN8fbb7+N0NBQjBs3Tu4j67Z4zyXZVRORchFtsAEtXv1W7ZKIiMiSA4m/vz9Gjx6NY8eOyXlIEhMTUb9+fbRt2xa//PJL6VVJJnVUzbiVh+GRn4U3j8xH8+lz1S6JiIgsQLGOshGaNm0qp3Y/ePCgXHFXDHIl69P4k41yArSRh1fC9fm68K1QT+2SiIjIWgKJXq+Xi+v16NED9erVQ9WqVbFp0ybjV0cmZeOJBIiDvVvEHkFZ95No9eYstUsiIiJrGNR64sQJ/Pzzz1i0aBFCQkIwaNAgzJ8/H56enqVXIZmEjLwCDJ2/By66fPQ/9QdqzpmpdklERGQtgaRVq1bo06cP1q9fjzp16pReVWRy6n70DxSNLYYeWwO080fZWm3VLomIiKwlkMTGxsLR0bH0qiGTtPtCMgwKUCPpAmpo96Pth/vVLomIiKxpDMlbb71113nnxbThK1as4NE2Fk6rM6DfnN2wMejxypEVCHlnJOwcndUui4iIrKmFpHPnzvLk7e2NJk2aIDAwEHl5eTh9+jT+/fdfeZ1YCZgsV7PJm6DVA31ObwRqaVGt0wi1SyIiImsLJE899ZQ87dixA1u3bsXZs2flIntiHpIZM2bAz8+v9CqlUnf4ShqSs7Uom5WIDvGb0eCntWqXRERE1ry4XsuWLeWJrMvzs3bJczGQ1WFge7j5l1e7JCIisuZAQtZny6lE5BYY0PLqYQR6nkOzl1eoXRIREVkwBhK6Tb5Oj+EL9sJRr8XAk38gYvZUtUsiIiILV+yp48l6NJ+8GVqDBi+e2ghtCzcE1+uodklERGThih1I4uLi5MBWQafTQavVGrMuUkl8eh7SsvMQlH0NLZMi0ebjpWqXREREVqBYgWT58uVycb0BAwbIy8ePH5fr2pDl6TBjG/SwwctHVsN1YEc4efirXRIREVmBYgWSyZMny1V+xXwkgphG/tKlS8aujUrZvospyMzXoXH8Cfh7nEPTYZ+rXRIREVmJYg1qtbW1ha+v7037HBwcjFUTqUBvUPDcD//CzmDAoON/oNq3k9QuiYiIrEixWkjc3d2RkJAAjUYjL2/atAk+Pj7Gro1KUdNPN8EAG/Q8tw2GxnYo37ib2iUREZEVKVYLyZQpU9CpUydcuHBBTpAWHR2NtWs5a6elSM3WIjkzBz55mXgifhOaz1mvdklERGRlihVIGjZsiC1btmDnzp1yUb3mzZvDy8vL+NVRqWgwaQMMGls5I6vjc83g4l1G7ZKIiMjKFHtiNE9PT9lKQpbleGw6DIqCGknRqGBzBC1GHlG7JCIiskLFGkNiY2MjB7beeBJjSLp06YKLFy8av0oyCtHaNeGP49AoCoYfXYWQN1+Gja2t2mUREZEVKlYLycSJE+VkaEOHDpWX58yZg/z8fAQGBmL48OFYv55jDszR6sOx2H8pFV2id8MmLBU1urymdklERGSlihVIVq1ahf379xddHj9+vBxXIvbNmjXLmPWRkeRq9Rj9WxScdHl47tzfqLJwptolERGRFStWl01mZiauXbtWdFlsi32Cvb298aojo2k5ZTN0BuD505uR1dwTZWq0VrskIiKyYsVqIRk1apScnbVwUKvoohk7diyysrLQokULY9dIJSwlWyvXqwnMScHjiZFoNI9dbkREpC6NIkY2FsOxY8fkob9CmzZtULNmTaihXLlyiImJUeW5LUXF99bCoADv7luIqh0c0ObdBWqXREREFu5+39/FPuxXBBC1QgiVnAvXsuTRNVVSr6CS4Qhaj45SuyQiIqLiBZLExERMmDABhw8fRl5eXtF+seAemZfJf52CAg2GHV0N39degK091yQiIiIzGdQ6ePBghIWFISkpCR999BHKli0r5yAh87I3OgUbTiSg5dXDcPGJQf0XxqldEhERUfEDyZUrVzBmzBg4Ojqia9euWLlyJTZu3Ficu5KJEN00fefsho2iR78TfyH8zVFql0RERPRggcTB4XqzvpOTE5KTk2FnZydbS8h8bDqZiHydgicu7YM2PAdV2g9UuyQiIqIHG0NSpUoVGUT69OmDJk2awMPDAw0aNCjOXckE6A0KXll8APb6AjxzdgOq/fSp2iURERE9eCBZtGiRPH/jjTfkDK2pqalcaM+MfLHhDLR6Bc9c2IH8erYIrtdR7ZKIiIgevMvmlVdeKdoWE6E99dRTeO01rntiDvJ1eny75YzcfurSFjQf94PaJRERET1cINm9e/dt+3bu3Fmcu5LKftt3BQps0P/EOuS29oV3+Vpql0RERPRgXTa//vorli5diujoaPTs2bNof3p6Otzc3O51VzIBGXkFGPfHcXjmZ+Kx+B1oMp9TxBMRkRkGkoiICHTv3l1OgCbOC4lBre3atSuN+ugRLNx1SZ53vbAThi5V4epdRu2SiIiIHjyQiAX1xElMgubv73+vm5KJycrX4Yt/TsIrLwttrm1Bq7d3qF0SERHRwwUSscrvvcyYMeOe15N6ak1YL8eO9D25Hjbd6sLBxVPtkoiIiB4ukHh68kvMHKXnFqBwCec62fvR6q19KldERET0CIFELKhH5qfNtC3yfGTUCjj0bAo7R2e1SyIiInr0w34zMzPx6quvyhlbxUnMQSL2kelJy9EiPScfwVmJqJu9By1e+07tkoiIiEpuYjSdTofffvsNy5Ytg16vv2myNDIdbadvhR42ePHURjg/9xhs7a+vQ0RERGT2U8cfOXIEhw8fLrr83XffyaNvyLSkZhe2jiShsu4wmo34/8+MiIjI7FtIRIvIjV00WVlZch+ZlrafF7aObIDHSx1hY2urdklEREQl10LSv39/NG3aFM8995y8LLpuBg7k8vWmJOW/1pGQzGuoZDiCxoMWql0SERFRybSQrFq1SraEvP322/j888+RkZEhT9OnT8fo0aOL/yxkdI9P2wIDbPDcmU3w6deVrSNERGQ5LSQffvghXn75ZfTr1w+DBw+WQYRMc82arNx8OOl1qKQ/goZ9F6hdEhERUcm1kERFRWHNmjXIzs5Gs2bN0LJlS8ybNw85OTkP9ixkVG2mbYVBY4uXj6yC9wtPsHWEiIgsb1Brw4YN8e233yIuLk4e6rt48WKULVsWw4YNK50K6b5r1qRm5SIgJwXVCg6i8aCpapdERERknEGtgqOjI3r37g0nJyekpqZi6dKlmDVr1oM/I5X82BGNLZ4/vQluvVqzdYSIiCz3sN9jx47hrbfeQnBwsBzcOmLECMTGxhq/OrqnvAI9UjNz4ZOXjpq5B9B0+Ey1SyIiIir5FhIxAdrPP/+MmJgY9O3bF1u3bkW1atUe7pmoxP0RdRV6jS26n98Bpx5NOCsrERFZZiBZu3Yt3n//fXTr1g12dsXu3aFSoNMb8MHKw3DT5qFx2k40f3WX2iUREREZp8tGBJKePXsaPYzMnTsXGo1GzntCxfPRnyegU2zQJXoXnLrU4oq+RERk1lRv9rh48SJmz54tZ4Kl4lEUBUt2nwNgjyapu9HyjX/ULomIiMj4g1qNxWAwYMiQIfj666/lUTxUPNvPJkEHe3S5sBOebcvB3tlN7ZKIiIjMN5DMmDEDLVq0QIMGDe55m3LlyhWdxMJ+1m7Egt2wMejRIXYrWo3ioddERGT+VOuyEYcSr1ixApGRkfe83ahRo+SpkAgl1mzL6URk62zwWOwhODfzgIObl9olERERmW8g2b59uxw/UrlyZXk5Pj5ezv4qZoQV85zQnb22eL8873Q5Es0//0HtcoiIiMy7y0aEDhE+RCgRJzGoVcz8yjByd1dScpCdr0fD+JNwr54H98CKapdERERkGUfZUPE99VUkFI0NukZHotFsrllDRESWw2QCiZgFlu4uM68AObl5CMtIgk9IHAKq8DBpIiKyHKoeZUPF12b6VhRo7NH9QiRqvfa+2uUQERGVKAYSM5kmPicrA155majgdgJhTZ5WuyQiIqISxUBiBv45kYAcOOGp6J2oPKi/2uUQERGVOAYSM/Dekh2w1xegtn4PanR5Te1yiIiIShwDiYk7eDkV6QYXtL1yEGG92qhdDhERkWUfZUN3Nnj2NrmIXovU7WjYb6Pa5RARERkFA4kJi0nNQZrWFvWunUa5VoGwsbVVuyQiIiKjYCAxYd2+3ConQnvySiSafcFF9IiIyHIxkJio7HwdsnLzEJKZhnJV0+HsGaB2SUREREbDQa0m6vFpW6HVOOKpi9vR+I0papdDRERkVGwhMUGKoiAvKwVuWg3CPU/Bv3JjtUsiIiIyKraQmKCd55ORCVe0v7wfNQcPUbscIiIio2MgMUEjZv0DjWJAA+0uVG0/WO1yiIiIjI6BxMTEpeciU+OOBgmnUfmphmqXQ0REVCo4hsTE9JjxNxSNA1om7USjgUvVLoeIiKhUMJCYEK3OgNx8HQKzs1C9vga29g5ql0RERFQq2GVjQtYeuYoMuKBtzG40f2Om2uUQERGVGgYSEzJl6UbYGvSo5XMGbr4hapdDRERUahhITMT5a1mItwlAs7hjaD5khNrlEBERlSoGEhPR/8tV8rxR3h6ENeupdjlERESlioNaTUCuVo8krTNCs+LRuH0ltcshIiIqdWwhMQGr9pxGno0TWsfvRuNBn6ldDhERUaljIDEBs//eB0edFvXDk3ioLxERWSUGEpWdis/ABb0fmsUfQZuRH6tdDhERkSoYSFT22szF8ryeXRS8Q2uqXQ4REZEqOKhVRRl5Bbii90dodjw69O6odjlERESqYQuJirpPXo48W2e0TP4X1Tu/rHY5REREqmELiUoURUF2Vi6c4YDHGjAXEhGRdeM3oUqiLiYh0T4QLeMPos0r09Uuh4iISFUMJCr55tfV8ryB+0k4uHmpXQ4REZGq2GWjgrwCPf5N9kLFzKt4sn8ftcshIiJSHVtIVLDknx3Is3VCg6wDXLeGiIiIgUQdP286CXt9AdrUs1W7FCIiIpPAQFLKohPScMUhBA2vHUf74Z+qXQ4REZFJYCApZSM+myXP67me5mBWIiKi/zCQlCKDQUGiJgg+ueno1edptcshIiIyGQwkpeivbduR4uCDBukHUKkZAwkREVEhBpJS9P2qXfK8Q02D2qUQERGZFAaSUpKakY3TDlVRNfUCeoz4UO1yiIiITAoDSSn5Yc4sFNjao4pyHA6unmqXQ0REZFIYSErJ39GOcNRpMaJfR7VLISIiMjkMJKUg6vBBXHIpj3rpR1G9JQezEhER3YqBpBRMm7NCnjcPzVC7FCIiIpPEQGJkiqLgnKYyPPMz0e/lN9Uuh4iIyCQxkBjZ6uXzkODsjxo5R+HlX07tcoiIiEwSA4mRrYq8IM97tghSuxQiIiKTxUBiRDnpSThkVx2Budfw9Isvq10OERGRyWIgMaJ5P3yBNEcPNHS8AFs7O7XLISIiMlkMJEa09byDPB/Qq4PapRAREZk0BhIjiY7agqPuNRGScwWNmrRSuxwiIiKTxkBiJIsXLEOuvRPK2cWrXQoREZHJYyAxAoNej4MZ5aFRDJj+7qtql0NERGTyGEiM4N8l03DEJwIV86IRHOCvdjlEREQmj4HECFZuOg+djR2ebsAwQkREVBwMJCUsNz0Rp+1rwV5fgP69n1G7HCIiIrPAQFLC/p49CSd8KqFSwXm4O9mrXQ4REZFZYCApYVuO6uX5oE4N1C6FiIjIbDCQlKCk8wdw1KUOnHU56NGutdrlEBERmQ0GkhK0Zs7XiPYMRgXDJTjY8a0lIiIqLn5rlqB9l73k+eg+XdUuhYiIyKwwkJSQc5FLcdizDlx12Xi8bhW1yyEiIjIrDCQlZOOvKxDjHoBQmzjY2mjULoeIiMisqBZI8vLy0KNHD1SpUgV16tRBhw4dcO7cOZgjfYEWJ5LLye2xg59VuxwiIiKzo2oLybBhw3D69GkcPnwY3bt3x5AhQ2CODi+bgv1+deBpyESzykFql0NERGR2VAskTk5O6Ny5MzSa690bTZs2xcWLF2GOdq3fh1g3f/jaZsKG3TVERETmO4bkyy+/lK0k5jhV/LmccLk9eWhPtcshIiIyS3YwAZ9++qkcP7Jp06bbrpsxY4Y8FcrKyoIp2f/zWOwObAE3fSYahfmoXQ4REZFZUr2FZPr06Vi5ciX++usvuLi43Hb9qFGjEBMTU3Ryc3ODKTm++wri3Pzg6Whgdw0REZE5tpCIlo8lS5Zg48aN8PK6PqmYOcmIO4tzugi5/fmgjmqXQ0REZLZUCySitWP06NGoWLEi2rRpI/c5Ojpiz549MBf7f/4Iu8u0g5Mhl901RERE5hhIypUrB0VRYM7OH0hATJUABNrncDI0IiIicx5DYq6Szx/EOaWG3P5yYFu1yyEiIjJrDCQP6dC8SdgVVAvOhlw0LO+tdjlERERmjYHkIcVEpeKyRxl0rh0EO1u+jURERI+C36QPIfbIJpy1qSW3ezatqnY5REREZo+B5CEcXfg5dgXVhKOSj8YVeHQNERHRo2IgeQipR9JxwSsYT9YqC3t21xARET0yfps+oOidy3HB7vrRNZ3qhqldDhERkUVgIHlAp5Z8j3+DasFW0aFlZT+1yyEiIrIIDCQPwKDXo+BoOk76lMfjEQFwczSJtQmJiIjMHgPJAzi7eR4uONaAwcYWnWuHqF0OERGRxWAgeQDnVy7AzqCa0CgGtKsWoHY5REREFoOB5AG6a+yOpuGQf2U429vCy8VB7ZKIiIgsBgNJMZ3fshCXHKqiwNYeLk72apdDRERkURhIiunsynnYXeb64b6rXm2hdjlEREQWhYGkmByOXMPuoOpwtAXKebuoXQ4REZFFYSAphnNbFiARFZFt7wJXJ44dISIiKmkMJMVwZsU87AmqLrcXDm6sdjlEREQWh4GkGJyi4mV3TZCHI6oHeahdDhERkcVhILmP85FLkJ8fiAQXP3SoUQYajUbtkoiIiCwOA8l9nFn+E/aWqSa321cLVLscIiIii8RAch9Oh+Kws2x1+UY1qeijdjlEREQWiYHkHqL/XQ6ndBec9QqFs4MtHO1s1S6JiIjIInG52ns4vexHnAusCoPGFhO6XZ8UjYiIiEoeW0juwf7QVewIrglAQdsILqZHRERkLAwkd3Fpzx/wu2aLqIAqqBPiDT83R7VLIiIisljssrmLU8t/QLx/OPJsnNCxBo+uISIiMia2kNyF5tBl7A+sIrdbV/ZXuxwiIiKLxkByB4lndiM4xoDdwdVgZ6NBjbKcnZWIiMiY2GVzB0d/+RyKqx+uOfrjhYYhnJ2ViIjIyNhCcgfafaewK+j67KzteHQNERGR0TGQ3CIz7hyCL+rwb/nqcLCzQYtwP7VLIiIisngMJLc49Mtk6OGAM24VYafRyBlaiYiIyLg4huQWmf8ewHn/cDk7q4sjwwgREVFpYAvJDbSZKQg6l4/NFarLyytGNFe7JCIiIqvAQHKDqF8nw0kLRPlVh72tBuV9XdUuiYiIyCqwy+YGiVu2IsU9EJm2HnipYYja5RAREVkNtpD8R1+ghd+pLGwLuz47a5uqPNyXiIiotDCQ/OfYH1/AMxs4EFoXDrY2aB7uq3ZJREREVoOB5D8xf69Grq0DzjuEokF5b7g4sDeLiIiotDCQADDo9XA/loJd5SpBr2jQlrOzEhERlSoGEtE6cnAdfNOB7RVryMttIri6LxERUWlivwSA0EZdkfCHPy7/moJgeydU8ndTuyQiIiKrwhaS/+T51kJstoLMvAKu7ktERFTKGEj+88z3u+T55J611S6FiIjI6jCQ/Cdbq5PnLStzdV8iIqLSxkACoEBvQK5WD2d7G3g626tdDhERkdXhoFYAqTlaNKvki9ZVeHQNERGRGhhIAAS4O+GXoU3VLoOIiMhqscuGiIiIVMdAQkRERKpjICEiIiLVMZAQERGR6hhIiIiISHUMJERERKQ6BhIiIiJSHQMJERERqY6BhIiIiFTHQEJERESqYyAhIiIi1TGQEBERkeoYSIiIiEh1DCRERESkOgYSIiIiUp1GURQFZsTR0RH+/v4wBVlZWXBzc4M14mu3vtdura/bml+7tb5uga/drcQf99q1a8jPz7ecQGJKypUrh5iYGFgjvnbre+3W+rqt+bVb6+sW+NpjSv152WVDREREqmMgISIiItUxkDyCUaNGwVrxtVsfa33d1vzarfV1C3ztpY9jSIiIiEh1bCEhIiIi1TGQEBERkeoYSB7SE088gdq1a6Nu3bpo1aoVDh06BGsyd+5caDQarFq1CtYiLCwMVatWlZ+5OP3666+wBmLegJEjR6Jy5cqoVasW+vTpA2uQnJxc9FmLU5UqVWBnZ4eUlBRYg3Xr1qF+/frytdesWRPz58+HNfj777/RsGFD+fe9adOmOHz4MCzV66+/Lv+uib/lUVFRRfvPnj2L5s2by3/zjRo1wvHjx0unIDGGhB5campq0fbKlSuV2rVrK9YiOjpaadasmdK0aVPl999/V7ucUlO+fHnl0KFDirV58803lZEjRyoGg0FejouLU6zRtGnTlKeeekqxBuKz9vb2Vg4fPlz0f97R0VHJyMhQLFlKSori4+OjHDt2TF6OjIxUatSooViqbdu2KVeuXLntb1ubNm2UuXPnyu1ly5YpDRs2LJV62ELykLy8vIq209PTZcK0BgaDAUOGDMHXX38tZ80ly5adnY05c+bgk08+Kfo3XqZMGVgj8T4MHjwY1kJ83mlpaXI7IyMDvr6+Fv9//vz58/J11qhRQ14Wrd+XL1/GwYMHYYlat24tJ0G7UWJiIvbv31/UEtqrVy9cuXIF586dM3o9DCSPoF+/fggJCcG4ceOwcOFCWIMZM2agRYsWaNCgAaz1MxfdFuKLSUyDbOnEH2gfHx98+umnshlb/IHetGkTrM3OnTuRmpqKp556CtYSRkSXZM+ePVG+fHm0bNlSdtk4ODjAkoluSdFVJz5vYfXq1cjMzMTFixdhLa5cuYKgoCDZPVn4byE0NFQGM2NjIHkECxYskB/epEmTMGbMGFi6Y8eOYcWKFRg7diysUWRkJI4cOSJ/Lfn5+aF///6wdDqdDpcuXUL16tXlr6avvvoKzz33HBISEmBtrSMijBb+kbaGz138XVu5cqX8/EUI7du3L5KSkmDJPD09sXz5crz33nvyR9c///wj/+1by+euulLpGLICTk5OSlJSkmLJvvvuO6VMmTKyv1GcRJ+yv7+/3G9tYmNjFTc3N8XSXbt2TbGxsVF0Ol3RPtGfvGHDBsVaZGZmys/65MmTirXYt2+fUrly5Zv2ic/9n3/+UaxJXl6e4uXlpZw9e1axZOVvGEOSkJCguLu7KwUFBUXjiQIDA0vlPWALyUMQ/aqxsbFFl8WRJqLfUTRtW7IRI0YgLi5ONl+KkxiBPmvWLLnfGsZSFPanC0uWLEG9evVg6URLULt27bB+/Xp5OTo6Wp6qVasGayG6LurUqYOIiAhYC9EVLf6vnzx5Ul4W4wdE9504yszSiddd6OOPP0bbtm0RHh4OaxEQECCPrlq0aJG8LFrFxTiT0ngP2A71EMQg1meffRa5ubmwsbGBv78/1qxZYzUDW62R6KIQg7v0er1oVUTFihVll501+OGHH+SYGdEtKf69//jjjwgODoY1ddcMHToU1iQwMFD+2Ojdu7f8zMVg9m+++UaOJbB048ePx/bt22W3VbNmzeTnb6mGDx+OtWvXIj4+Hh07doS7u7sMn+L/+IABA+TYMQ8PDznNQ2ng1PFERESkOnbZEBERkeoYSIiIiEh1DCRERESkOgYSIiIiUh0DCREREamOgYSIiIhUx0BCZAXEEvLiJKbBtrW1LbospoEX8y4sXrzYqM+fk5Mj18IR64KY6rIIYhn2exHLBnTq1KnUaiKyNpwYjcgKREVFyXMxw64IIoWXS4uYVKt79+5y4iVzVbt2bbna7ebNm+XsnURUsthCQmTlxIyMM2fOlNsffvihnJ2za9euqFKlilzdVrQeiFkcxeUXXnhBztopiNYOMYNp48aN5Zf1sGHDoNVq7/gcYubHF198UW6L+48cOVJOPy+mZBeLmOXl5cnrxBT1YmVZsU887pYtW4oeQ8wWKcKUuI9obSlcgVWstC2eX5y6dOmCq1evyv3z5s1D+/btZc1ihWZxnwsXLhQ9nnitYnVX8VxLly4t2i9WcX7iiSfkfcRjDhw4sOg68VjitRCRERh9tRwiMhnR0dGKp6fnTfv69++vfPHFF3J7woQJSoUKFZSUlBS5qFbr1q2VJk2aKBkZGXKxrTp16ihr1qyRtx06dKgyf/58uS1uO3jwYGXq1Km3Pefly5cVX1/fossHDx5UIiIiFL1eLy+npaXJ7fPnzytNmzZV0tPT5X6xmJdYzFEscLZlyxYlLCxMLmooZGdny9PRo0flwl8xMTFy/6RJk5Qnn3xSbs+dO1fx8PBQLly4IC+PGTNGGTZsmNwWr6F69eryuUTtL730klxgTJgxY0bR7YTk5OSi7UuXLt30Woio5LDLhohuIloHvL295bZYZEt0UxR2tYgFBc+ePVu0qOSuXbswY8YMeVms7STGp9wqJiZGro1SSKwDJNYJGTRoENq0aSNbNcR6KX///bdcR6N169ZFtxX7L1++LNfb6Nu3L4KCguR+FxcXeS5aUJ588smitXVeeeUVTJw4Ua45JIi1SCpUqFC0/fXXX8vtTZs2yZYgsU5H4ZoeO3bskNti0cgvvvgCo0ePlrWIxy9UpkwZJCcnyxYdJyenEnzXiYiBhIhucuMXrQgYt14WYUIQy2CJlUBFV869iPBQ2CUjeHp6ym6gbdu2yUDx3nvvITIyUj5ehw4d8Msvvzx07bcucHm32u91PxFcxBibjRs3YuXKlRg3bhwOHTok7y9ehzh3cHB46BqJ6M44hoSIHkqPHj0wZcqUoi/51NRU2cJxK7FkfWJiomxBKRyjkZ2dLVtixGqi4uiWEydOyHEqIgSIo1kK7d27V56LMS1iOfTCpeHFUTviJFpYRMtKbGxs0crE7dq1u2NLzY3E2JJly5bJcTAiCImVbQtFR0fDzc1NtqCIFpUzZ84gKytLXnfy5EnUrFlTttwQUcliCwkRPRTRrfHuu+/KgabiC9rOzg5Tp05FeHj4ba0UInyIo1NE98yVK1fkYNiCggLZtdKiRQt5OK29vb1sHRHdJyJsiAGyootI7BNdJxMmTJChRbRmiBaK5cuXy3Awbdq0om6VkJAQzJ49+761d+7cWYYd0SUlum1uPJx369atshuqsEVFPL5o1RFE+HnmmWdK/L0kIkAjBpKoXQQRWTbx5S/GdqxZswbmSgQkcaSOCFZ+fn5ql0NkcdjuSERGJw7h7dmzp8lOjFYcoivns88+YxghMhK2kBAREZHq2EJCREREqmMgISIiItUxkBAREZHqGEiIiIhIdQwkREREpDoGEiIiIoLa/g/qqa8APa12TgAAAABJRU5ErkJggg=="
     },
     "metadata": {},
     "output_type": "display_data"
    }
   ],
   "execution_count": 12
  },
  {
   "cell_type": "code",
   "execution_count": null,
   "metadata": {},
   "outputs": [],
   "source": []
  },
  {
   "cell_type": "code",
   "execution_count": null,
   "metadata": {},
   "outputs": [],
   "source": []
  }
 ],
 "metadata": {
  "kernelspec": {
   "display_name": "Python 3",
   "language": "python",
   "name": "python3"
  },
  "language_info": {
   "codemirror_mode": {
    "name": "ipython",
    "version": 3
   },
   "file_extension": ".py",
   "mimetype": "text/x-python",
   "name": "python",
   "nbconvert_exporter": "python",
   "pygments_lexer": "ipython3",
   "version": "3.6.8"
  },
  "latex_envs": {
   "LaTeX_envs_menu_present": true,
   "autoclose": false,
   "autocomplete": true,
   "bibliofile": "biblio.bib",
   "cite_by": "apalike",
   "current_citInitial": 1,
   "eqLabelWithNumbers": true,
   "eqNumInitial": 1,
   "hotkeys": {
    "equation": "Ctrl-E",
    "itemize": "Ctrl-I"
   },
   "labels_anchors": false,
   "latex_user_defs": false,
   "report_style_numbering": false,
   "user_envs_cfg": false
  }
 },
 "nbformat": 4,
 "nbformat_minor": 4
}
