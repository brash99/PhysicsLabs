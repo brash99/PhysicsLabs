{
 "cells": [
  {
   "cell_type": "markdown",
   "metadata": {},
   "source": [
    "# Lab 3:  Electric Force"
   ]
  },
  {
   "cell_type": "code",
   "metadata": {
    "ExecuteTime": {
     "end_time": "2025-06-20T20:23:01.392712Z",
     "start_time": "2025-06-20T20:23:00.101560Z"
    }
   },
   "source": [
    "import numpy as np\n",
    "import pandas as pd\n",
    "import matplotlib.pyplot as plt\n",
    "import scipy.stats as stats\n"
   ],
   "outputs": [],
   "execution_count": 1
  },
  {
   "cell_type": "markdown",
   "metadata": {},
   "source": [
    "# Determining the Path of Electrons"
   ]
  },
  {
   "cell_type": "code",
   "metadata": {
    "ExecuteTime": {
     "end_time": "2025-06-20T20:23:04.154296Z",
     "start_time": "2025-06-20T20:23:04.143540Z"
    }
   },
   "source": [
    "# Create a Pandas DataFrame with data for part 1\n",
    "\n",
    "# The data elements are [x_cm, dx_cm, y_cm, dy_cm]\n",
    "\n",
    "data1 = [[2.3,0.1,0.00,0.01], [3.00,0.01,0.07,0.1], [4.00,0.01,0.15,0.1], [5.00,0.01,0.25,0.1], [6.00,0.01,0.50,0.1], [7.00,0.01,0.90,0.1], [8.00,0.01,1.15,0.1], [9.00,0.01,1.60,0.1], [10.00,0.01,2.00,0.1]]\n",
    "# create dataframe\n",
    "df1 = pd.DataFrame(data1, columns = ['x_cm', 'dx_cm','y_cm','dy_cm'])\n",
    "\n",
    "print('Accelerating voltage = 4.49 kV:')\n",
    "print(df1.to_string(index=False))\n",
    "\n",
    "data2 = [[2.3,0.1,0.02,0.01], [3.0,0.01,0.09,0.1], [4.0,0.01,0.15,0.1], \n",
    "         [5.0,0.01,0.30,0.1], [6.0,0.01,0.80,0.1], [7.0,0.01,1.15,0.1], [8.0,0.01,1.50,0.1], [9.0,0.01,2.0,0.1], [10.0,0.01,2.5,0.1]]\n",
    "# create dataframe\n",
    "df2 = pd.DataFrame(data2, columns = ['x_cm', 'dx_cm','y_cm','dy_cm'])\n",
    "\n",
    "print()\n",
    "print('Accelerating voltage = 3.51 kV:')\n",
    "print(df2.to_string(index=False))\n",
    "\n",
    "data3 = [[2.3,0.1,0.05,0.01], [3.0,0.01,0.1,0.1], [4.0,0.01,0.2,0.1], \n",
    "         [5.0,0.01,0.6,0.1], [6.0,0.01,1.15,0.1], [7.0,0.01,1.6,0.1], [8.0,0.01,2.2,0.1], [9.0,0.01,2.5,0.1]]\n",
    "# create dataframe\n",
    "df3 = pd.DataFrame(data3, columns = ['x_cm', 'dx_cm','y_cm','dy_cm'])\n",
    "\n",
    "print()\n",
    "print('Accelerating voltage = 2.52 kV:')\n",
    "print(df3.to_string(index=False))"
   ],
   "outputs": [
    {
     "name": "stdout",
     "output_type": "stream",
     "text": [
      "Accelerating voltage = 4.49 kV:\n",
      " x_cm  dx_cm  y_cm  dy_cm\n",
      "  2.3   0.10  0.00   0.01\n",
      "  3.0   0.01  0.07   0.10\n",
      "  4.0   0.01  0.15   0.10\n",
      "  5.0   0.01  0.25   0.10\n",
      "  6.0   0.01  0.50   0.10\n",
      "  7.0   0.01  0.90   0.10\n",
      "  8.0   0.01  1.15   0.10\n",
      "  9.0   0.01  1.60   0.10\n",
      " 10.0   0.01  2.00   0.10\n",
      "\n",
      "Accelerating voltage = 3.51 kV:\n",
      " x_cm  dx_cm  y_cm  dy_cm\n",
      "  2.3   0.10  0.02   0.01\n",
      "  3.0   0.01  0.09   0.10\n",
      "  4.0   0.01  0.15   0.10\n",
      "  5.0   0.01  0.30   0.10\n",
      "  6.0   0.01  0.80   0.10\n",
      "  7.0   0.01  1.15   0.10\n",
      "  8.0   0.01  1.50   0.10\n",
      "  9.0   0.01  2.00   0.10\n",
      " 10.0   0.01  2.50   0.10\n",
      "\n",
      "Accelerating voltage = 2.52 kV:\n",
      " x_cm  dx_cm  y_cm  dy_cm\n",
      "  2.3   0.10  0.05   0.01\n",
      "  3.0   0.01  0.10   0.10\n",
      "  4.0   0.01  0.20   0.10\n",
      "  5.0   0.01  0.60   0.10\n",
      "  6.0   0.01  1.15   0.10\n",
      "  7.0   0.01  1.60   0.10\n",
      "  8.0   0.01  2.20   0.10\n",
      "  9.0   0.01  2.50   0.10\n"
     ]
    }
   ],
   "execution_count": 2
  },
  {
   "cell_type": "code",
   "metadata": {
    "ExecuteTime": {
     "end_time": "2025-06-20T20:23:05.655398Z",
     "start_time": "2025-06-20T20:23:05.644449Z"
    }
   },
   "source": [
    "df1['x'] = 0.01*(df1['x_cm'])\n",
    "df1['dx'] = 0.01*df1['dx_cm']\n",
    "df1['y'] = 0.01*df1['y_cm']\n",
    "df1['dy'] = 0.01*df1['dy_cm']\n",
    "\n",
    "print('Accelerating voltage = 4.5 kV:')\n",
    "print(df1.to_string(index=False))\n",
    "\n",
    "df2['x'] = 0.01*(df2['x_cm'])\n",
    "df2['dx'] = 0.01*df2['dx_cm']\n",
    "df2['y'] = 0.01*df2['y_cm']\n",
    "df2['dy'] = 0.01*df2['dy_cm']\n",
    "\n",
    "print()\n",
    "print('Accelerating voltage = 3.5 kV:')\n",
    "print(df2.to_string(index=False))\n",
    "\n",
    "df3['x'] = 0.01*(df3['x_cm'])\n",
    "df3['dx'] = 0.01*df3['dx_cm']\n",
    "df3['y'] = 0.01*df3['y_cm']\n",
    "df3['dy'] = 0.01*df3['dy_cm']\n",
    "\n",
    "print()\n",
    "print('Accelerating voltage = 2.5 kV:')\n",
    "print(df3.to_string(index=False))"
   ],
   "outputs": [
    {
     "name": "stdout",
     "output_type": "stream",
     "text": [
      "Accelerating voltage = 4.5 kV:\n",
      " x_cm  dx_cm  y_cm  dy_cm     x     dx      y     dy\n",
      "  2.3   0.10  0.00   0.01 0.023 0.0010 0.0000 0.0001\n",
      "  3.0   0.01  0.07   0.10 0.030 0.0001 0.0007 0.0010\n",
      "  4.0   0.01  0.15   0.10 0.040 0.0001 0.0015 0.0010\n",
      "  5.0   0.01  0.25   0.10 0.050 0.0001 0.0025 0.0010\n",
      "  6.0   0.01  0.50   0.10 0.060 0.0001 0.0050 0.0010\n",
      "  7.0   0.01  0.90   0.10 0.070 0.0001 0.0090 0.0010\n",
      "  8.0   0.01  1.15   0.10 0.080 0.0001 0.0115 0.0010\n",
      "  9.0   0.01  1.60   0.10 0.090 0.0001 0.0160 0.0010\n",
      " 10.0   0.01  2.00   0.10 0.100 0.0001 0.0200 0.0010\n",
      "\n",
      "Accelerating voltage = 3.5 kV:\n",
      " x_cm  dx_cm  y_cm  dy_cm     x     dx      y     dy\n",
      "  2.3   0.10  0.02   0.01 0.023 0.0010 0.0002 0.0001\n",
      "  3.0   0.01  0.09   0.10 0.030 0.0001 0.0009 0.0010\n",
      "  4.0   0.01  0.15   0.10 0.040 0.0001 0.0015 0.0010\n",
      "  5.0   0.01  0.30   0.10 0.050 0.0001 0.0030 0.0010\n",
      "  6.0   0.01  0.80   0.10 0.060 0.0001 0.0080 0.0010\n",
      "  7.0   0.01  1.15   0.10 0.070 0.0001 0.0115 0.0010\n",
      "  8.0   0.01  1.50   0.10 0.080 0.0001 0.0150 0.0010\n",
      "  9.0   0.01  2.00   0.10 0.090 0.0001 0.0200 0.0010\n",
      " 10.0   0.01  2.50   0.10 0.100 0.0001 0.0250 0.0010\n",
      "\n",
      "Accelerating voltage = 2.5 kV:\n",
      " x_cm  dx_cm  y_cm  dy_cm     x     dx      y     dy\n",
      "  2.3   0.10  0.05   0.01 0.023 0.0010 0.0005 0.0001\n",
      "  3.0   0.01  0.10   0.10 0.030 0.0001 0.0010 0.0010\n",
      "  4.0   0.01  0.20   0.10 0.040 0.0001 0.0020 0.0010\n",
      "  5.0   0.01  0.60   0.10 0.050 0.0001 0.0060 0.0010\n",
      "  6.0   0.01  1.15   0.10 0.060 0.0001 0.0115 0.0010\n",
      "  7.0   0.01  1.60   0.10 0.070 0.0001 0.0160 0.0010\n",
      "  8.0   0.01  2.20   0.10 0.080 0.0001 0.0220 0.0010\n",
      "  9.0   0.01  2.50   0.10 0.090 0.0001 0.0250 0.0010\n"
     ]
    }
   ],
   "execution_count": 3
  },
  {
   "cell_type": "code",
   "metadata": {
    "ExecuteTime": {
     "end_time": "2025-06-20T20:23:06.758911Z",
     "start_time": "2025-06-20T20:23:06.755394Z"
    }
   },
   "source": [
    "# Let's try to make a guess at decent starting values for the parameters of the fit\n",
    "# Assume xi = 0.01, yi = 0.0002, and alpha = 2.0\n",
    "# From this, we can calculate C as:\n",
    "#\n",
    "# The fit function is y = C(x-xi)^alpha + yi\n",
    "#\n",
    "# Use the LAST data point to solve for C.\n",
    "#\n",
    "# C = (y-yi)/(x-xi)^alpha\n",
    "\n",
    "yinit = 0.0002\n",
    "xinit = 0.01\n",
    "\n",
    "xi = list(df1['x'])\n",
    "yi = list(df1['y'])\n",
    "\n",
    "xlast = xi[-1]\n",
    "ylast = yi[-1]\n",
    "\n",
    "length = len(xi)\n",
    "mid = int(length/2)\n",
    "print(mid)\n",
    "xmid = xi[mid]\n",
    "ymid = yi[mid]\n",
    "\n",
    "alphainit = 0.7*np.log((ylast-yinit)/(ymid-yinit))/np.log((xlast-yinit)/(xmid-yinit))\n",
    "\n",
    "C_guess = (ylast-yinit)/(xlast-xinit)**alphainit\n",
    "\n",
    "print('Initial Guess for C,alpha = ',C_guess,alphainit)"
   ],
   "outputs": [
    {
     "name": "stdout",
     "output_type": "stream",
     "text": [
      "4\n",
      "Initial Guess for C,alpha =  2.099266396287412 1.936780163605564\n"
     ]
    }
   ],
   "execution_count": 4
  },
  {
   "cell_type": "code",
   "metadata": {
    "ExecuteTime": {
     "end_time": "2025-06-20T20:23:08.248915Z",
     "start_time": "2025-06-20T20:23:08.086825Z"
    }
   },
   "source": [
    "xi = df1['x']\n",
    "yi = df1['y']\n",
    "sigmaxi = df1['dx']\n",
    "sigmayi = df1['dy']\n",
    "\n",
    "##############################\n",
    "\n",
    "from scipy.odr import *\n",
    "\n",
    "def fitfunction(B, x):\n",
    "    '''Non-Linear function y = a*(x-c)^b+d'''\n",
    "    # B is a vector of the parameters.\n",
    "    # x is an array of the current x values.\n",
    "    # x is in the same format as the x passed to Data or RealData.\n",
    "    #\n",
    "    # Return an array in the same format as y passed to Data or RealData\n",
    "    return B[0]*(x-B[1])**B[2] + B[3]\n",
    "\n",
    "linear = Model(fitfunction) # create a Model object based on the fitfuncion we have defined\n",
    "mydata = RealData(xi, yi, sx=sigmaxi, sy=sigmayi) # create a data object based on our data, include errors.\n",
    "myodr = ODR(mydata, linear, beta0=[C_guess, xinit, alphainit, yinit]) # create a fitting object, based on the data, fit Model, and an intial set of parameters.\n",
    "myoutput = myodr.run()  # run the fitting process to get optimized parameters!\n",
    "\n",
    "myoutput.pprint() # print out the result of the fit\n",
    "\n",
    "# Now assign the important fit results to some more convenient variables.\n",
    "\n",
    "popt = myoutput.beta # the vector of optimized parameters\n",
    "pcov = myoutput.cov_beta # the covariance matrix\n",
    "perr = myoutput.sd_beta # the vector of ERRORS in the optimized parameters\n",
    "\n",
    "# The following lines generate upper and lower 99% \"Confidence Bands\" on the fit, for visualization\n",
    "# purposes.\n",
    "\n",
    "ps = np.random.multivariate_normal(popt,pcov,10000)\n",
    "xl = np.linspace(xi[0],xi[len(xi)-1],100)\n",
    "ysample=np.asarray([fitfunction(pl,xl) for pl in ps])\n",
    "ysample = np.nan_to_num(ysample)\n",
    "\n",
    "lower = np.percentile(ysample,16.0,axis=0)\n",
    "upper = np.percentile(ysample,84.0,axis=0)\n",
    "middle = (lower+upper)/2.0\n",
    "\n",
    "yfit = fitfunction(popt,xl)\n",
    "\n",
    "print()\n",
    "print (\"Final Result: Y = (%0.4f +/- %0.4f)(X - (%0.4f +/- %0.4f))^(%0.4f +/- %0.4f) + (%0.4f +/- %0.4f)\" % (popt[0],perr[0],popt[1],perr[1],popt[2],perr[2],popt[3],perr[3]))\n",
    "\n",
    "plt.figure(figsize=(8, 6), dpi=80)\n",
    "plt.errorbar(xi, yi, xerr=sigmaxi, yerr=sigmayi, fmt='o', capsize=2, capthick=1)\n",
    "\n",
    "#plt.plot(xl,middle)\n",
    "#plt.plot(xl,lower)\n",
    "#plt.plot(xl,upper)\n",
    "plt.plot(xl,yfit)\n",
    "\n",
    "#########################\n",
    "\n",
    "plt.xlabel('Horizonatal Distance (meters)')\n",
    "plt.ylabel('Vertical Distance (meters)')\n",
    "plt.title('Determining the Electron Path (Accelerating Voltage = 4.5 kV)')\n",
    "plt.show()"
   ],
   "outputs": [
    {
     "name": "stdout",
     "output_type": "stream",
     "text": [
      "Beta: [2.06755246e+00 2.29598983e-02 1.80557561e+00 2.10414800e-06]\n",
      "Beta Std Error: [1.22578282e+00 7.88842553e-03 2.94801788e-01 5.34354913e-05]\n",
      "Beta Covariance: [[ 5.56864579e+00 -3.32145741e-02  1.33157043e+00 -4.69394308e-05]\n",
      " [-3.32145741e-02  2.30623308e-04 -8.28118014e-03  4.00759727e-07]\n",
      " [ 1.33157043e+00 -8.28118014e-03  3.22094096e-01 -1.22099251e-05]\n",
      " [-4.69394308e-05  4.00759727e-07 -1.22099251e-05  1.05823507e-08]]\n",
      "Residual Variance: 0.2698220659699199\n",
      "Inverse Condition #: 0.002949964282316801\n",
      "Reason(s) for Halting:\n",
      "  Sum of squares convergence\n",
      "\n",
      "Final Result: Y = (2.0676 +/- 1.2258)(X - (0.0230 +/- 0.0079))^(1.8056 +/- 0.2948) + (0.0000 +/- 0.0001)\n"
     ]
    },
    {
     "name": "stderr",
     "output_type": "stream",
     "text": [
      "/var/folders/5f/rgfnh64x7k1bfzln9qq9n76r0000gr/T/ipykernel_82914/1785099315.py:17: RuntimeWarning: invalid value encountered in power\n",
      "  return B[0]*(x-B[1])**B[2] + B[3]\n"
     ]
    },
    {
     "data": {
      "text/plain": [
       "<Figure size 640x480 with 1 Axes>"
      ],
      "image/png": "[encoded data removed]"
     },
     "metadata": {},
     "output_type": "display_data"
    }
   ],
   "execution_count": 5
  },
  {
   "cell_type": "markdown",
   "metadata": {},
   "source": [
    "## Analysis of Electron Path:   Accelerating Voltage = 4.5 kV\n",
    "\n",
    "First of all, we see that the fit is non-linear, as expected, and appears to be roughly quadratic.\n",
    "\n",
    "From the theory, we expect:\n",
    "\n",
    "$y = C(x-x_i)^\\alpha + y_i$\n",
    "\n",
    "where:\n",
    "\n",
    "$C = \\frac{V_p}{4 d_{eff} V_a}$\n",
    "\n",
    "We see that the coefficient C is $(2.57 \\pm 0.17)$.\n",
    "\n",
    "The theory predicts that this coefficient should be equal to: $\\frac{V_p}{4 d_{eff} V_a}$.  Thus, we can calculate that:\n",
    "\n",
    "$d_{eff} = \\frac{V_p}{4 C V_a}$\n",
    "\n",
    "and \n",
    "\n",
    "$ \\delta(d_{eff}) = d_{eff} \\left( \\frac{\\delta(V_p)}{V_p} + \\frac{\\delta(V_a)}{V_a} + \\frac{\\delta(C)}{C} \\right) $"
   ]
  },
  {
   "cell_type": "code",
   "metadata": {
    "ExecuteTime": {
     "end_time": "2025-06-20T20:23:11.057988Z",
     "start_time": "2025-06-20T20:23:11.055126Z"
    }
   },
   "source": [
    "Va = 4.50\n",
    "dVa = 0.01\n",
    "Vp = 3.64\n",
    "dVp = 0.01\n",
    "C = popt[0]\n",
    "dC = perr[0]\n",
    "x_i1 = popt[1]\n",
    "dx_i1 = perr[1]\n",
    "alpha1 = popt[2]\n",
    "dalpha1 = perr[2]\n",
    "y_i1 = popt[3]\n",
    "dy_i1 = perr[3]\n",
    "\n",
    "deff1 = Vp/(4*C*Va)\n",
    "\n",
    "ddeff1 = deff1*(dVp/Vp+dVa/Va+dC/C)\n",
    "\n",
    "print('d$_{eff} = (%0.3f +/- %0.3f)' % (deff1,ddeff1))\n",
    "\n",
    "print('xi = (%0.5f +/- %0.5f)' % (x_i1,dx_i1))\n",
    "print('yi = (%0.5f +/- %0.5f)' % (y_i1,dy_i1))\n",
    "print('alpha = (%0.5f +/- %0.5f)' % (alpha1,dalpha1))"
   ],
   "outputs": [
    {
     "name": "stdout",
     "output_type": "stream",
     "text": [
      "d$_{eff} = (0.098 +/- 0.058)\n",
      "xi = (0.02296 +/- 0.00789)\n",
      "yi = (0.00000 +/- 0.00005)\n",
      "alpha = (1.80558 +/- 0.29480)\n"
     ]
    }
   ],
   "execution_count": 6
  },
  {
   "cell_type": "code",
   "metadata": {
    "ExecuteTime": {
     "end_time": "2025-06-20T20:23:12.199076Z",
     "start_time": "2025-06-20T20:23:12.195900Z"
    }
   },
   "source": [
    "# Let's try to make a guess at decent starting values for the parameters of the fit\n",
    "# Assume xi = 0.01, yi = 0.0002, and alpha = 2.0\n",
    "# From this, we can calculate C as:\n",
    "#\n",
    "# The fit function is y = C(x-xi)^alpha + yi\n",
    "#\n",
    "# Use the LAST data point to solve for C.\n",
    "#\n",
    "# C = (y-yi)/(x-xi)^alpha\n",
    "\n",
    "yinit = 0.0002\n",
    "xinit = 0.01\n",
    "\n",
    "xi = list(df2['x'])\n",
    "yi = list(df2['y'])\n",
    "\n",
    "xlast = xi[-1]\n",
    "ylast = yi[-1]\n",
    "\n",
    "length = len(xi)\n",
    "mid = int(length/2)\n",
    "print(mid)\n",
    "xmid = xi[mid+1]\n",
    "ymid = yi[mid+1]\n",
    "\n",
    "alphainit = 0.7*np.log((ylast-yinit)/(ymid-yinit))/np.log((xlast-yinit)/(xmid-yinit))\n",
    "\n",
    "C_guess = (ylast-yinit)/(xlast-xinit)**alphainit\n",
    "\n",
    "print('Initial Guess for C,alpha = ',C_guess,alphainit)"
   ],
   "outputs": [
    {
     "name": "stdout",
     "output_type": "stream",
     "text": [
      "4\n",
      "Initial Guess for C,alpha =  1.0088448047283882 1.5389540075427213\n"
     ]
    }
   ],
   "execution_count": 7
  },
  {
   "cell_type": "code",
   "metadata": {
    "ExecuteTime": {
     "end_time": "2025-06-20T20:23:13.201374Z",
     "start_time": "2025-06-20T20:23:13.076716Z"
    }
   },
   "source": [
    "xi = df2['x']\n",
    "yi = df2['y']\n",
    "sigmaxi = df2['dx']\n",
    "sigmayi = df2['dy']\n",
    "\n",
    "##############################\n",
    "\n",
    "from scipy.odr import *\n",
    "\n",
    "def fitfunction(B, x):\n",
    "    '''Non-Linear function y = a*(x-c)^b+d'''\n",
    "    # B is a vector of the parameters.\n",
    "    # x is an array of the current x values.\n",
    "    # x is in the same format as the x passed to Data or RealData.\n",
    "    #\n",
    "    # Return an array in the same format as y passed to Data or RealData\n",
    "    return B[0]*(x-B[1])**B[2] + B[3]\n",
    "\n",
    "linear = Model(fitfunction) # create a Model object based on the fitfuncion we have defined\n",
    "mydata = RealData(xi, yi, sx=sigmaxi, sy=sigmayi) # create a data object based on our data, include errors.\n",
    "myodr = ODR(mydata, linear, beta0=[C_guess, xinit, alphainit, yinit]) # create a fitting object, based on the data, fit Model, and an intial set of parameters.\n",
    "myoutput = myodr.run()  # run the fitting process to get optimized parameters!\n",
    "\n",
    "myoutput.pprint() # print out the result of the fit\n",
    "\n",
    "# Now assign the important fit results to some more convenient variables.\n",
    "\n",
    "popt = myoutput.beta # the vector of optimized parameters\n",
    "pcov = myoutput.cov_beta # the covariance matrix\n",
    "perr = myoutput.sd_beta # the vector of ERRORS in the optimized parameters\n",
    "\n",
    "# The following lines generate upper and lower 99% \"Confidence Bands\" on the fit, for visualization\n",
    "# purposes.\n",
    "\n",
    "ps = np.random.multivariate_normal(popt,pcov,10000)\n",
    "xl = np.linspace(xi[0],xi[len(xi)-1],100)\n",
    "ysample=np.asarray([fitfunction(pl,xl) for pl in ps])\n",
    "ysample = np.nan_to_num(ysample)\n",
    "\n",
    "lower = np.percentile(ysample,16.0,axis=0)\n",
    "upper = np.percentile(ysample,84.0,axis=0)\n",
    "middle = (lower+upper)/2.0\n",
    "\n",
    "yfit = fitfunction(popt,xl)\n",
    "\n",
    "print()\n",
    "print (\"Final Result: Y = (%0.4f +/- %0.4f)(X - (%0.4f +/- %0.4f))^(%0.4f +/- %0.4f) + (%0.4f +/- %0.4f)\" % (popt[0],perr[0],popt[1],perr[1],popt[2],perr[2],popt[3],perr[3]))\n",
    "\n",
    "plt.figure(figsize=(8, 6), dpi=80)\n",
    "plt.errorbar(xi, yi, xerr=sigmaxi, yerr=sigmayi, fmt='o', capsize=2, capthick=1)\n",
    "\n",
    "#plt.plot(xl,middle)\n",
    "#plt.plot(xl,lower)\n",
    "#plt.plot(xl,upper)\n",
    "plt.plot(xl,yfit)\n",
    "\n",
    "#########################\n",
    "\n",
    "plt.xlabel('Horizonatal Distance (meters)')\n",
    "plt.ylabel('Vertical Distance (meters)')\n",
    "plt.title('Determining the Electron Path (Accelerating Voltage = 3.5 kV)')\n",
    "plt.show()\n",
    "\n"
   ],
   "outputs": [
    {
     "name": "stdout",
     "output_type": "stream",
     "text": [
      "Beta: [2.18629647e+00 2.30001312e-02 1.74183398e+00 1.91933592e-04]\n",
      "Beta Std Error: [1.46773246e+00 8.92098872e-03 3.30317481e-01 7.87692969e-05]\n",
      "Beta Covariance: [[ 3.46937632e+00 -1.94176453e-02  7.76096763e-01 -8.55915745e-06]\n",
      " [-1.94176453e-02  1.28169175e-04 -4.54158120e-03  1.14170562e-07]\n",
      " [ 7.76096763e-01 -4.54158120e-03  1.75719811e-01 -2.36825405e-06]\n",
      " [-8.55915745e-06  1.14170562e-07 -2.36825405e-06  9.99243995e-09]]\n",
      "Residual Variance: 0.6209296386983404\n",
      "Inverse Condition #: 0.0024927887786659105\n",
      "Reason(s) for Halting:\n",
      "  Sum of squares convergence\n",
      "\n",
      "Final Result: Y = (2.1863 +/- 1.4677)(X - (0.0230 +/- 0.0089))^(1.7418 +/- 0.3303) + (0.0002 +/- 0.0001)\n"
     ]
    },
    {
     "name": "stderr",
     "output_type": "stream",
     "text": [
      "/var/folders/5f/rgfnh64x7k1bfzln9qq9n76r0000gr/T/ipykernel_82914/2566339066.py:17: RuntimeWarning: invalid value encountered in power\n",
      "  return B[0]*(x-B[1])**B[2] + B[3]\n"
     ]
    },
    {
     "data": {
      "text/plain": [
       "<Figure size 640x480 with 1 Axes>"
      ],
      "image/png": "[encoded data removed]"
     },
     "metadata": {},
     "output_type": "display_data"
    }
   ],
   "execution_count": 8
  },
  {
   "cell_type": "code",
   "metadata": {
    "ExecuteTime": {
     "end_time": "2025-06-20T20:23:14.136718Z",
     "start_time": "2025-06-20T20:23:14.133717Z"
    }
   },
   "source": [
    "Va = 3.50\n",
    "dVa = 0.01\n",
    "Vp = 3.64\n",
    "dVp = 0.01\n",
    "C = popt[0]\n",
    "dC = perr[0]\n",
    "x_i2 = popt[1]\n",
    "dx_i2 = perr[1]\n",
    "alpha2 = popt[2]\n",
    "dalpha2 = perr[2]\n",
    "y_i2 = popt[3]\n",
    "dy_i2 = perr[3]\n",
    "\n",
    "deff2 = Vp/(4*C*Va)\n",
    "\n",
    "ddeff2 = deff2*(dVp/Vp+dVa/Va+dC/C)\n",
    "\n",
    "print('d$_{eff} = (%0.3f +/- %0.3f)' % (deff2,ddeff2))\n",
    "\n",
    "print('xi = (%0.5f +/- %0.5f)' % (x_i2,dx_i2))\n",
    "print('yi = (%0.5f +/- %0.5f)' % (y_i2,dy_i2))\n",
    "print('alpha = (%0.5f +/- %0.5f)' % (alpha2,dalpha2))\n",
    "\n"
   ],
   "outputs": [
    {
     "name": "stdout",
     "output_type": "stream",
     "text": [
      "d$_{eff} = (0.119 +/- 0.081)\n",
      "xi = (0.02300 +/- 0.00892)\n",
      "yi = (0.00019 +/- 0.00008)\n",
      "alpha = (1.74183 +/- 0.33032)\n"
     ]
    }
   ],
   "execution_count": 9
  },
  {
   "cell_type": "code",
   "metadata": {
    "ExecuteTime": {
     "end_time": "2025-06-20T20:23:15.160363Z",
     "start_time": "2025-06-20T20:23:15.156001Z"
    }
   },
   "source": [
    "# Let's try to make a guess at decent starting values for the parameters of the fit\n",
    "# Assume xi = 0.01, yi = 0.0002, and alpha = 2.0\n",
    "# From this, we can calculate C as:\n",
    "#\n",
    "# The fit function is y = C(x-xi)^alpha + yi\n",
    "#\n",
    "# Use the LAST data point to solve for C.\n",
    "#\n",
    "# C = (y-yi)/(x-xi)^alpha\n",
    "\n",
    "yinit = 0.0002\n",
    "xinit = 0.01\n",
    "\n",
    "xi = list(df3['x'])\n",
    "yi = list(df3['y'])\n",
    "\n",
    "xlast = xi[-1]\n",
    "ylast = yi[-1]\n",
    "\n",
    "length = len(xi)\n",
    "mid = int(length/2)\n",
    "print(mid)\n",
    "xmid = xi[mid]\n",
    "ymid = yi[mid]\n",
    "\n",
    "alphainit = 0.7*np.log((ylast-yinit)/(ymid-yinit))/np.log((xlast-yinit)/(xmid-yinit))\n",
    "\n",
    "C_guess = (ylast-yinit)/(xlast-xinit)**alphainit\n",
    "\n",
    "print('Initial Guess for C,alpha = ',C_guess,alphainit)"
   ],
   "outputs": [
    {
     "name": "stdout",
     "output_type": "stream",
     "text": [
      "4\n",
      "Initial Guess for C,alpha =  0.7566815095904915 1.3533119610238418\n"
     ]
    }
   ],
   "execution_count": 10
  },
  {
   "cell_type": "code",
   "metadata": {
    "ExecuteTime": {
     "end_time": "2025-06-20T20:23:16.348316Z",
     "start_time": "2025-06-20T20:23:16.225019Z"
    }
   },
   "source": [
    "xi = df3['x']\n",
    "yi = df3['y']\n",
    "sigmaxi = df3['dx']\n",
    "sigmayi = df3['dy']\n",
    "\n",
    "##############################\n",
    "\n",
    "from scipy.odr import *\n",
    "\n",
    "def fitfunction(B, x):\n",
    "    '''Non-Linear function y = a*(x-c)^b+d'''\n",
    "    # B is a vector of the parameters.\n",
    "    # x is an array of the current x values.\n",
    "    # x is in the same format as the x passed to Data or RealData.\n",
    "    #\n",
    "    # Return an array in the same format as y passed to Data or RealData\n",
    "    return B[0]*(x-B[1])**B[2] + B[3]\n",
    "\n",
    "linear = Model(fitfunction) # create a Model object based on the fitfuncion we have defined\n",
    "mydata = RealData(xi, yi, sx=sigmaxi, sy=sigmayi) # create a data object based on our data, include errors.\n",
    "myodr = ODR(mydata, linear, beta0=[C_guess, xinit, alphainit, yinit]) # create a fitting object, based on the data, fit Model, and an intial set of parameters.\n",
    "myoutput = myodr.run()  # run the fitting process to get optimized parameters!\n",
    "\n",
    "myoutput.pprint() # print out the result of the fit\n",
    "\n",
    "# Now assign the important fit results to some more convenient variables.\n",
    "\n",
    "popt = myoutput.beta # the vector of optimized parameters\n",
    "pcov = myoutput.cov_beta # the covariance matrix\n",
    "perr = myoutput.sd_beta # the vector of ERRORS in the optimized parameters\n",
    "\n",
    "# The following lines generate upper and lower 99% \"Confidence Bands\" on the fit, for visualization\n",
    "# purposes.\n",
    "\n",
    "ps = np.random.multivariate_normal(popt,pcov,10000)\n",
    "xl = np.linspace(xi[0],xi[len(xi)-1],100)\n",
    "ysample=np.asarray([fitfunction(pl,xl) for pl in ps])\n",
    "ysample = np.nan_to_num(ysample)\n",
    "\n",
    "lower = np.percentile(ysample,16.0,axis=0)\n",
    "upper = np.percentile(ysample,84.0,axis=0)\n",
    "middle = (lower+upper)/2.0\n",
    "\n",
    "yfit = fitfunction(popt,xl)\n",
    "\n",
    "print()\n",
    "print (\"Final Result: Y = (%0.4f +/- %0.4f)(X - (%0.4f +/- %0.4f))^(%0.4f +/- %0.4f) + (%0.4f +/- %0.4f)\" % (popt[0],perr[0],popt[1],perr[1],popt[2],perr[2],popt[3],perr[3]))\n",
    "\n",
    "plt.figure(figsize=(8, 6), dpi=80)\n",
    "plt.errorbar(xi, yi, xerr=sigmaxi, yerr=sigmayi, fmt='o', capsize=2, capthick=1)\n",
    "\n",
    "#plt.plot(xl,middle)\n",
    "#plt.plot(xl,lower)\n",
    "#plt.plot(xl,upper)\n",
    "plt.plot(xl,yfit)\n",
    "\n",
    "#########################\n",
    "\n",
    "plt.xlabel('Horizonatal Distance (meters)')\n",
    "plt.ylabel('Vertical Distance (meters)')\n",
    "plt.title('Determining the Electron Path (Accelerating Voltage = 2.5 kV)')\n",
    "plt.show()\n"
   ],
   "outputs": [
    {
     "name": "stdout",
     "output_type": "stream",
     "text": [
      "Beta: [1.95384479e+00 2.29970084e-02 1.60359358e+00 8.16549738e-04]\n",
      "Beta Std Error: [3.43508912e+00 1.95413661e-02 7.97501804e-01 2.16568496e-04]\n",
      "Beta Covariance: [[ 2.51581116e+00 -1.30626328e-02  5.80751244e-01 -5.65190808e-06]\n",
      " [-1.30626328e-02  8.14163939e-05 -3.15579744e-03  8.02473936e-08]\n",
      " [ 5.80751244e-01 -3.15579744e-03  1.35601774e-01 -1.62897286e-06]\n",
      " [-5.65190808e-06  8.02473936e-08 -1.62897286e-06  9.99982921e-09]]\n",
      "Residual Variance: 4.6902714443609925\n",
      "Inverse Condition #: 0.002655107321593668\n",
      "Reason(s) for Halting:\n",
      "  Iteration limit reached\n",
      "\n",
      "Final Result: Y = (1.9538 +/- 3.4351)(X - (0.0230 +/- 0.0195))^(1.6036 +/- 0.7975) + (0.0008 +/- 0.0002)\n"
     ]
    },
    {
     "name": "stderr",
     "output_type": "stream",
     "text": [
      "/var/folders/5f/rgfnh64x7k1bfzln9qq9n76r0000gr/T/ipykernel_82914/223010408.py:17: RuntimeWarning: invalid value encountered in power\n",
      "  return B[0]*(x-B[1])**B[2] + B[3]\n"
     ]
    },
    {
     "data": {
      "text/plain": [
       "<Figure size 640x480 with 1 Axes>"
      ],
      "image/png": "[encoded data removed]"
     },
     "metadata": {},
     "output_type": "display_data"
    }
   ],
   "execution_count": 11
  },
  {
   "cell_type": "code",
   "metadata": {
    "ExecuteTime": {
     "end_time": "2025-06-20T20:23:17.558537Z",
     "start_time": "2025-06-20T20:23:17.555271Z"
    }
   },
   "source": [
    "Va = 2.50\n",
    "dVa = 0.01\n",
    "Vp = 3.64\n",
    "dVp = 0.01\n",
    "C = popt[0]\n",
    "dC = perr[0]\n",
    "x_i3 = popt[1]\n",
    "dx_i3 = perr[1]\n",
    "alpha3 = popt[2]\n",
    "dalpha3 = perr[2]\n",
    "y_i3 = popt[3]\n",
    "dy_i3 = perr[3]\n",
    "\n",
    "deff3 = Vp/(4*C*Va)\n",
    "\n",
    "ddeff3 = deff3*(dVp/Vp+dVa/Va+dC/C)\n",
    "\n",
    "print('d$_{eff} = (%0.3f +/- %0.3f)' % (deff3,ddeff3))\n",
    "\n",
    "print('xi = (%0.5f +/- %0.5f)' % (x_i3,dx_i3))\n",
    "print('yi = (%0.5f +/- %0.5f)' % (y_i3,dy_i3))\n",
    "print('alpha = (%0.5f +/- %0.5f)' % (alpha3,dalpha3))\n"
   ],
   "outputs": [
    {
     "name": "stdout",
     "output_type": "stream",
     "text": [
      "d$_{eff} = (0.186 +/- 0.329)\n",
      "xi = (0.02300 +/- 0.01954)\n",
      "yi = (0.00082 +/- 0.00022)\n",
      "alpha = (1.60359 +/- 0.79750)\n"
     ]
    }
   ],
   "execution_count": 12
  },
  {
   "cell_type": "code",
   "metadata": {
    "ExecuteTime": {
     "end_time": "2025-06-20T20:23:18.449990Z",
     "start_time": "2025-06-20T20:23:18.447461Z"
    }
   },
   "source": [
    "# Summary of Part I\n",
    "\n",
    "print('Va = 4.50kV: d$_{eff} = (%0.3f +/- %0.3f)' % (deff1,ddeff1))\n",
    "print('Va = 3.50kV: d$_{eff} = (%0.3f +/- %0.3f)' % (deff2,ddeff2))\n",
    "print('Va = 2.50kV: d$_{eff} = (%0.3f +/- %0.3f)' % (deff3,ddeff3))"
   ],
   "outputs": [
    {
     "name": "stdout",
     "output_type": "stream",
     "text": [
      "Va = 4.50kV: d$_{eff} = (0.098 +/- 0.058)\n",
      "Va = 3.50kV: d$_{eff} = (0.119 +/- 0.081)\n",
      "Va = 2.50kV: d$_{eff} = (0.186 +/- 0.329)\n"
     ]
    }
   ],
   "execution_count": 13
  },
  {
   "cell_type": "markdown",
   "metadata": {},
   "source": [
    "# Determining the Effective Plate Separation"
   ]
  },
  {
   "cell_type": "code",
   "metadata": {
    "ExecuteTime": {
     "end_time": "2025-06-20T20:23:19.908646Z",
     "start_time": "2025-06-20T20:23:19.902244Z"
    }
   },
   "source": [
    "# Create a Pandas DataFrame with data for part 2\n",
    "\n",
    "# The data elements are [Vp, dVp, Va, dVa]\n",
    "\n",
    "data4 = [[1.53,0.01,2.61,0.01], [1.64,0.01,2.81,0.01], [1.74,0.01,3.01,0.01],\n",
    "         [1.84,0.01,3.22,0.01], [1.95,0.01,3.42,0.01], [2.06,0.01,3.61,0.01],\n",
    "         [2.14,0.01,3.80,0.01], [2.22,0.01,4.00,0.01], [2.32,0.01,4.22,0.01],\n",
    "         [2.45,0.01,4.42,0.01], [2.58,0.01,4.60,0.01], [2.68,0.01,4.81,0.01],\n",
    "         [2.75,0.01,5.00,0.01]]\n",
    "# create dataframe\n",
    "df4 = pd.DataFrame(data4, columns = ['Vp', 'dVp','Va','dVa'])\n",
    "\n",
    "print('Plate Separation Data:')\n",
    "print(df4.to_string(index=False))"
   ],
   "outputs": [
    {
     "name": "stdout",
     "output_type": "stream",
     "text": [
      "Plate Separation Data:\n",
      "  Vp  dVp   Va  dVa\n",
      "1.53 0.01 2.61 0.01\n",
      "1.64 0.01 2.81 0.01\n",
      "1.74 0.01 3.01 0.01\n",
      "1.84 0.01 3.22 0.01\n",
      "1.95 0.01 3.42 0.01\n",
      "2.06 0.01 3.61 0.01\n",
      "2.14 0.01 3.80 0.01\n",
      "2.22 0.01 4.00 0.01\n",
      "2.32 0.01 4.22 0.01\n",
      "2.45 0.01 4.42 0.01\n",
      "2.58 0.01 4.60 0.01\n",
      "2.68 0.01 4.81 0.01\n",
      "2.75 0.01 5.00 0.01\n"
     ]
    }
   ],
   "execution_count": 14
  },
  {
   "cell_type": "code",
   "metadata": {
    "ExecuteTime": {
     "end_time": "2025-06-20T20:23:21.303697Z",
     "start_time": "2025-06-20T20:23:21.209109Z"
    }
   },
   "source": [
    "xi = df4['Va']\n",
    "yi = df4['Vp']\n",
    "sigmaxi = df4['dVa']\n",
    "sigmayi = df4['dVp']\n",
    "\n",
    "##############################\n",
    "\n",
    "from scipy.odr import *\n",
    "\n",
    "def fitfunction(B, x):\n",
    "    '''Linear function y = a*x+b'''\n",
    "    # B is a vector of the parameters.\n",
    "    # x is an array of the current x values.\n",
    "    # x is in the same format as the x passed to Data or RealData.\n",
    "    #\n",
    "    # Return an array in the same format as y passed to Data or RealData.\n",
    "    return B[0]*x+B[1]\n",
    "\n",
    "linear = Model(fitfunction) # create a Model object based on the fitfuncion we have defined\n",
    "mydata = RealData(xi, yi, sx=sigmaxi, sy=sigmayi) # create a data object based on our data, include errors.\n",
    "myodr = ODR(mydata, linear, beta0=[1., 2.]) # create a fitting object, based on the data, fit Model, and an intial set of parameters.\n",
    "myoutput = myodr.run()  # run the fitting process to get optimized parameters!\n",
    "\n",
    "myoutput.pprint() # print out the result of the fit\n",
    "\n",
    "# Now assign the important fit results to some more convenient variables.\n",
    "\n",
    "popt = myoutput.beta # the vector of optimized parameters\n",
    "pcov = myoutput.cov_beta # the covariance matrix\n",
    "perr = myoutput.sd_beta # the vector of ERRORS in the optimized parameters\n",
    "\n",
    "# The following lines generate upper and lower 99% \"Confidence Bands\" on the fit, for visualization\n",
    "# purposes.\n",
    "\n",
    "ps = np.random.multivariate_normal(popt,pcov,10000)\n",
    "xl = np.linspace(xi[0],xi[len(xi)-1],100)\n",
    "ysample=np.asarray([fitfunction(pl,xl) for pl in ps])\n",
    "\n",
    "lower = np.percentile(ysample,0.5,axis=0)\n",
    "upper = np.percentile(ysample,99.5,axis=0)\n",
    "middle = (lower+upper)/2.0\n",
    "\n",
    "print()\n",
    "print (\"Final Result: Y = (%0.9f +/- %0.9f)X + (%0.9f +/- %0.9f)\" % (popt[0],perr[0],popt[1],perr[1]))\n",
    "\n",
    "plt.figure(figsize=(8, 6), dpi=80)\n",
    "\n",
    "plt.errorbar(xi, yi, xerr=sigmaxi, yerr=sigmayi, fmt='o', capsize=2, capthick=1)\n",
    "\n",
    "plt.plot(xl,middle)\n",
    "plt.plot(xl,lower)\n",
    "plt.plot(xl,upper)\n",
    "\n",
    "#########################\n",
    "\n",
    "plt.xlabel('Accelerating Voltage (kV)')\n",
    "plt.ylabel('Plate Voltage (kV)')\n",
    "plt.title('Determining the Effective Plate Separation')\n",
    "plt.show()"
   ],
   "outputs": [
    {
     "name": "stdout",
     "output_type": "stream",
     "text": [
      "Beta: [0.51295801 0.19178382]\n",
      "Beta Std Error: [0.00675377 0.02622061]\n",
      "Beta Covariance: [[ 1.74555238e-05 -6.65055861e-05]\n",
      " [-6.65055861e-05  2.63102806e-04]]\n",
      "Residual Variance: 2.6131238524582177\n",
      "Inverse Condition #: 0.041008309320075924\n",
      "Reason(s) for Halting:\n",
      "  Sum of squares convergence\n",
      "\n",
      "Final Result: Y = (0.512958013 +/- 0.006753773)X + (0.191783816 +/- 0.026220607)\n"
     ]
    },
    {
     "data": {
      "text/plain": [
       "<Figure size 640x480 with 1 Axes>"
      ],
      "image/png": "[encoded data removed]"
     },
     "metadata": {},
     "output_type": "display_data"
    }
   ],
   "execution_count": 15
  },
  {
   "cell_type": "markdown",
   "metadata": {},
   "source": [
    "## Analysis of Electron Path:   Accelerating Voltage = 4.5 kV\n",
    "\n",
    "First of all, we see that the fit is linear, as expected.\n",
    "\n",
    "Second, we see that the result for the slope is $(0.727 \\pm 0.006)$.  \n",
    "\n",
    "Third, we see that the y-intercept of the fit is $(0.076 \\pm 0.023)$.  This is not\n",
    "consistent with zero, as expected.\n",
    "\n",
    "The theory predicts that this slope should be equal to: $\\frac{4 \\Delta y d_{eff}}{(\\Delta x)^2}$.  Thus, we can calculate that:\n",
    "\n",
    "$d_{eff} = slope \\left( \\frac{(\\Delta x)^2}{4 \\Delta y} \\right)$\n",
    "\n",
    "and \n",
    "\n",
    "$ \\delta(d_{eff}) = d_{eff} \\left( 2 \\frac{\\delta(\\Delta x)}{\\Delta x} + \\frac{\\delta(\\Delta y)}{\\Delta y} + \\frac{\\delta(slope)}{slope} \\right) $"
   ]
  },
  {
   "cell_type": "code",
   "metadata": {
    "ExecuteTime": {
     "end_time": "2025-06-20T20:23:23.612662Z",
     "start_time": "2025-06-20T20:23:23.610423Z"
    }
   },
   "source": [
    "slope = popt[0]\n",
    "dslope = perr[0]\n",
    "\n",
    "deltax = 0.100\n",
    "ddeltax = 0.001\n",
    "deltay = 0.020\n",
    "ddeltay = 0.001\n",
    "\n",
    "deff4 = slope*(deltax**2)/(4.0*deltay)\n",
    "ddeff4 = deff4*(2*ddeltax/deltax + ddeltay/deltay + dslope/slope)\n",
    "\n"
   ],
   "outputs": [],
   "execution_count": 16
  },
  {
   "cell_type": "code",
   "metadata": {
    "ExecuteTime": {
     "end_time": "2025-06-20T20:23:26.963695Z",
     "start_time": "2025-06-20T20:23:26.961179Z"
    }
   },
   "source": [
    "# Final Summary\n",
    "print (\"Part II: Effective distance = (%0.3f +/- %0.3f) m\" % (deff4,ddeff4))\n",
    "\n",
    "print()\n",
    "print(\"Part I:\")\n",
    "print('Va = 4.50kV: d_eff = (%0.3f +/- %0.3f) m' % (deff1,ddeff1))\n",
    "print('Va = 3.50kV: d_eff = (%0.3f +/- %0.3f) m' % (deff2,ddeff2))\n",
    "print('Va = 2.50kV: d_eff = (%0.3f +/- %0.3f) m' % (deff3,ddeff3))"
   ],
   "outputs": [
    {
     "name": "stdout",
     "output_type": "stream",
     "text": [
      "Part II: Effective distance = (0.064 +/- 0.005) m\n",
      "\n",
      "Part I:\n",
      "Va = 4.50kV: d_eff = (0.098 +/- 0.058) m\n",
      "Va = 3.50kV: d_eff = (0.119 +/- 0.081) m\n",
      "Va = 2.50kV: d_eff = (0.186 +/- 0.329) m\n"
     ]
    }
   ],
   "execution_count": 17
  },
  {
   "cell_type": "code",
   "metadata": {
    "ExecuteTime": {
     "end_time": "2025-06-20T20:23:28.122146Z",
     "start_time": "2025-06-20T20:23:28.071839Z"
    }
   },
   "source": [
    "x1 = ['IA','IB','IC','II']\n",
    "y1 = np.array([deff1,deff2,deff3,deff4])\n",
    "dy1 = np.array([ddeff1,ddeff2,ddeff3,ddeff4])\n",
    "\n",
    "# Calculate the weighted average of the effective distance values.\n",
    "def w_avg(x, dx):\n",
    "    d = x\n",
    "    w = 1.0/dx**2\n",
    "    return (d * w).sum()/w.sum(), np.sqrt(1/w.sum())\n",
    "\n",
    "average, daverage = w_avg(y1,dy1)\n",
    "print ('Weighted Average = %0.4f +/- %0.4f m' % (average,daverage))\n",
    "ylow = average-daverage\n",
    "yhigh = average+daverage\n",
    "y2 = [ylow,ylow,ylow,ylow]\n",
    "y3 = [yhigh,yhigh,yhigh,yhigh]\n",
    "\n",
    "\n",
    "plt.figure(figsize=(8, 6), dpi=80)\n",
    "\n",
    "plt.errorbar(x1, y1, yerr=dy1, fmt='o', capsize=2, capthick=1)\n",
    "plt.plot(x1,y2)\n",
    "plt.plot(x1,y3)\n",
    "\n",
    "#########################\n",
    "\n",
    "plt.xlabel('Experiment Part')\n",
    "plt.ylabel('Effective Plate Separation (m)')\n",
    "plt.title('Comparison of Parts I and II')\n",
    "plt.ylim(0,0.22)\n",
    "plt.show()"
   ],
   "outputs": [
    {
     "name": "stdout",
     "output_type": "stream",
     "text": [
      "Weighted Average = 0.0647 +/- 0.0053 m\n"
     ]
    },
    {
     "data": {
      "text/plain": [
       "<Figure size 640x480 with 1 Axes>"
      ],
      "image/png": "[encoded data removed]"
     },
     "metadata": {},
     "output_type": "display_data"
    }
   ],
   "execution_count": 18
  },
  {
   "cell_type": "code",
   "metadata": {
    "ExecuteTime": {
     "end_time": "2025-06-20T20:23:29.275799Z",
     "start_time": "2025-06-20T20:23:29.228013Z"
    }
   },
   "source": [
    "x1 = ['IA','IB','IC']\n",
    "y1 = [x_i1,x_i2,x_i3]\n",
    "dy1 = [dx_i1,dx_i2,dx_i3]\n",
    "y2 = [y_i1,y_i2,y_i3]\n",
    "dy2 = [dy_i1,dy_i2,dy_i3]\n",
    "\n",
    "plt.figure(figsize=(8, 6), dpi=80)\n",
    "\n",
    "plt.errorbar(x1, y1, yerr=dy1, fmt='o', capsize=2, capthick=1)\n",
    "plt.errorbar(x1, y2, yerr=dy2, fmt='o', capsize=2, capthick=1)\n",
    "#########################\n",
    "\n",
    "plt.xlabel('Experiment Part')\n",
    "plt.ylabel('Initial X/Y Position (m)')\n",
    "plt.title('Comparison of Part I Extractions')\n",
    "plt.ylim(-0.01,0.03)\n",
    "plt.show()"
   ],
   "outputs": [
    {
     "data": {
      "text/plain": [
       "<Figure size 640x480 with 1 Axes>"
      ],
      "image/png": "[encoded data removed]"
     },
     "metadata": {},
     "output_type": "display_data"
    }
   ],
   "execution_count": 19
  },
  {
   "cell_type": "code",
   "metadata": {
    "ExecuteTime": {
     "end_time": "2025-06-20T20:23:30.912253Z",
     "start_time": "2025-06-20T20:23:30.870134Z"
    }
   },
   "source": [
    "x1 = ['IA','IB','IC']\n",
    "y1 = np.array([alpha1,alpha2,alpha3])\n",
    "dy1 = np.array([dalpha1,dalpha2,dalpha3])\n",
    "\n",
    "average, daverage = w_avg(y1,dy1)\n",
    "print ('Weighted Average = %0.4f +/- %0.4f m' % (average,daverage))\n",
    "ylow = average-daverage\n",
    "yhigh = average+daverage\n",
    "y2 = [ylow,ylow,ylow]\n",
    "y3 = [yhigh,yhigh,yhigh]\n",
    "\n",
    "plt.figure(figsize=(8, 6), dpi=80)\n",
    "\n",
    "plt.errorbar(x1, y1, yerr=dy1, fmt='o', capsize=2, capthick=1)\n",
    "plt.plot(x1,y2)\n",
    "plt.plot(x1,y3)\n",
    "#########################\n",
    "\n",
    "plt.xlabel('Experiment Part')\n",
    "plt.ylabel('Exponent')\n",
    "plt.title('Comparison of Part I Extractions')\n",
    "plt.ylim(0.0,3.0)\n",
    "plt.show()"
   ],
   "outputs": [
    {
     "name": "stdout",
     "output_type": "stream",
     "text": [
      "Weighted Average = 1.7650 +/- 0.2120 m\n"
     ]
    },
    {
     "data": {
      "text/plain": [
       "<Figure size 640x480 with 1 Axes>"
      ],
      "image/png": "[encoded data removed]"
     },
     "metadata": {},
     "output_type": "display_data"
    }
   ],
   "execution_count": 20
  },
  {
   "cell_type": "code",
   "execution_count": null,
   "metadata": {},
   "outputs": [],
   "source": []
  },
  {
   "cell_type": "code",
   "execution_count": null,
   "metadata": {},
   "outputs": [],
   "source": []
  }
 ],
 "metadata": {
  "kernelspec": {
   "display_name": "Python 3",
   "language": "python",
   "name": "python3"
  },
  "language_info": {
   "codemirror_mode": {
    "name": "ipython",
    "version": 3
   },
   "file_extension": ".py",
   "mimetype": "text/x-python",
   "name": "python",
   "nbconvert_exporter": "python",
   "pygments_lexer": "ipython3",
   "version": "3.6.8"
  },
  "latex_envs": {
   "LaTeX_envs_menu_present": true,
   "autoclose": false,
   "autocomplete": true,
   "bibliofile": "biblio.bib",
   "cite_by": "apalike",
   "current_citInitial": 1,
   "eqLabelWithNumbers": true,
   "eqNumInitial": 1,
   "hotkeys": {
    "equation": "Ctrl-E",
    "itemize": "Ctrl-I"
   },
   "labels_anchors": false,
   "latex_user_defs": false,
   "report_style_numbering": false,
   "user_envs_cfg": false
  }
 },
 "nbformat": 4,
 "nbformat_minor": 4
}
