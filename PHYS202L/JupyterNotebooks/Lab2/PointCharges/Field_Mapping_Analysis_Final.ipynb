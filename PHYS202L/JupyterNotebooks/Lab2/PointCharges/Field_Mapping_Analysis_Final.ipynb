{
  "cells": [
    {
      "cell_type": "markdown",
      "metadata": {
        "id": "LUXZ5iXG_rrV"
      },
      "source": [
        "# Lab 2:  Electric Field Mapping"
      ]
    },
    {
      "cell_type": "code",
      "metadata": {
        "ExecuteTime": {
          "end_time": "2024-07-16T13:34:01.424009Z",
          "start_time": "2024-07-16T13:34:00.350377Z"
        },
        "id": "V1Lzdgzj_rrW"
      },
      "source": [
        "import numpy as np\n",
        "import pandas as pd\n",
        "import matplotlib.pyplot as plt\n",
        "import scipy.stats as stats"
      ],
      "outputs": [],
      "execution_count": 1
    },
    {
      "cell_type": "code",
      "metadata": {
        "ExecuteTime": {
          "end_time": "2024-07-16T13:34:02.397482Z",
          "start_time": "2024-07-16T13:34:02.394493Z"
        },
        "id": "8qQCf2B-_rrW",
        "outputId": "5f30005b-2fa5-4cd3-f8f7-b6287dd2cd4f",
        "colab": {
          "base_uri": "https://localhost:8080/"
        }
      },
      "source": [
        "# Measured Ruler Distance in Pixels\n",
        "length_pixels = 562.47 - 22.59\n",
        "dlength_pixels = 5.0\n",
        "length_cm = 19.0\n",
        "\n",
        "lcal = length_cm*0.01/length_pixels\n",
        "dlcal = dlength_pixels/length_pixels*lcal\n",
        "\n",
        "print (\"Ruler calibration: (%0.3e +/- %0.3e) meters/pixel\" % (lcal,dlcal))"
      ],
      "outputs": [
        {
          "output_type": "stream",
          "name": "stdout",
          "text": [
            "Ruler calibration: (3.519e-04 +/- 3.259e-06) meters/pixel\n"
          ]
        }
      ],
      "execution_count": 2
    },
    {
      "cell_type": "code",
      "metadata": {
        "ExecuteTime": {
          "end_time": "2024-07-16T13:34:02.959813Z",
          "start_time": "2024-07-16T13:34:02.954944Z"
        },
        "id": "Zoqmn8sn_rrW",
        "outputId": "e7842506-a86d-4a99-8018-c2917bdb3df9",
        "colab": {
          "base_uri": "https://localhost:8080/",
          "height": 367
        }
      },
      "source": [
        "# Read in data from csv files\n",
        "df1 = pd.read_csv(\"FieldMapping_Part2_2V.csv\")\n",
        "df2 = pd.read_csv(\"FieldMapping_Part2_10V.csv\")\n",
        "\n",
        "df = df2.copy()"
      ],
      "outputs": [
        {
          "output_type": "error",
          "ename": "FileNotFoundError",
          "evalue": "[Errno 2] No such file or directory: 'FieldMapping_Part2_2V.csv'",
          "traceback": [
            "\u001b[0;31m---------------------------------------------------------------------------\u001b[0m",
            "\u001b[0;31mFileNotFoundError\u001b[0m                         Traceback (most recent call last)",
            "\u001b[0;32m/tmp/ipython-input-3-2334718302.py\u001b[0m in \u001b[0;36m<cell line: 0>\u001b[0;34m()\u001b[0m\n\u001b[1;32m      1\u001b[0m \u001b[0;31m# Read in data from csv files\u001b[0m\u001b[0;34m\u001b[0m\u001b[0;34m\u001b[0m\u001b[0m\n\u001b[0;32m----> 2\u001b[0;31m \u001b[0mdf1\u001b[0m \u001b[0;34m=\u001b[0m \u001b[0mpd\u001b[0m\u001b[0;34m.\u001b[0m\u001b[0mread_csv\u001b[0m\u001b[0;34m(\u001b[0m\u001b[0;34m\"FieldMapping_Part2_2V.csv\"\u001b[0m\u001b[0;34m)\u001b[0m\u001b[0;34m\u001b[0m\u001b[0;34m\u001b[0m\u001b[0m\n\u001b[0m\u001b[1;32m      3\u001b[0m \u001b[0mdf2\u001b[0m \u001b[0;34m=\u001b[0m \u001b[0mpd\u001b[0m\u001b[0;34m.\u001b[0m\u001b[0mread_csv\u001b[0m\u001b[0;34m(\u001b[0m\u001b[0;34m\"FieldMapping_Part2_10V.csv\"\u001b[0m\u001b[0;34m)\u001b[0m\u001b[0;34m\u001b[0m\u001b[0;34m\u001b[0m\u001b[0m\n\u001b[1;32m      4\u001b[0m \u001b[0;34m\u001b[0m\u001b[0m\n\u001b[1;32m      5\u001b[0m \u001b[0mdf\u001b[0m \u001b[0;34m=\u001b[0m \u001b[0mdf2\u001b[0m\u001b[0;34m.\u001b[0m\u001b[0mcopy\u001b[0m\u001b[0;34m(\u001b[0m\u001b[0;34m)\u001b[0m\u001b[0;34m\u001b[0m\u001b[0;34m\u001b[0m\u001b[0m\n",
            "\u001b[0;32m/usr/local/lib/python3.11/dist-packages/pandas/io/parsers/readers.py\u001b[0m in \u001b[0;36mread_csv\u001b[0;34m(filepath_or_buffer, sep, delimiter, header, names, index_col, usecols, dtype, engine, converters, true_values, false_values, skipinitialspace, skiprows, skipfooter, nrows, na_values, keep_default_na, na_filter, verbose, skip_blank_lines, parse_dates, infer_datetime_format, keep_date_col, date_parser, date_format, dayfirst, cache_dates, iterator, chunksize, compression, thousands, decimal, lineterminator, quotechar, quoting, doublequote, escapechar, comment, encoding, encoding_errors, dialect, on_bad_lines, delim_whitespace, low_memory, memory_map, float_precision, storage_options, dtype_backend)\u001b[0m\n\u001b[1;32m   1024\u001b[0m     \u001b[0mkwds\u001b[0m\u001b[0;34m.\u001b[0m\u001b[0mupdate\u001b[0m\u001b[0;34m(\u001b[0m\u001b[0mkwds_defaults\u001b[0m\u001b[0;34m)\u001b[0m\u001b[0;34m\u001b[0m\u001b[0;34m\u001b[0m\u001b[0m\n\u001b[1;32m   1025\u001b[0m \u001b[0;34m\u001b[0m\u001b[0m\n\u001b[0;32m-> 1026\u001b[0;31m     \u001b[0;32mreturn\u001b[0m \u001b[0m_read\u001b[0m\u001b[0;34m(\u001b[0m\u001b[0mfilepath_or_buffer\u001b[0m\u001b[0;34m,\u001b[0m \u001b[0mkwds\u001b[0m\u001b[0;34m)\u001b[0m\u001b[0;34m\u001b[0m\u001b[0;34m\u001b[0m\u001b[0m\n\u001b[0m\u001b[1;32m   1027\u001b[0m \u001b[0;34m\u001b[0m\u001b[0m\n\u001b[1;32m   1028\u001b[0m \u001b[0;34m\u001b[0m\u001b[0m\n",
            "\u001b[0;32m/usr/local/lib/python3.11/dist-packages/pandas/io/parsers/readers.py\u001b[0m in \u001b[0;36m_read\u001b[0;34m(filepath_or_buffer, kwds)\u001b[0m\n\u001b[1;32m    618\u001b[0m \u001b[0;34m\u001b[0m\u001b[0m\n\u001b[1;32m    619\u001b[0m     \u001b[0;31m# Create the parser.\u001b[0m\u001b[0;34m\u001b[0m\u001b[0;34m\u001b[0m\u001b[0m\n\u001b[0;32m--> 620\u001b[0;31m     \u001b[0mparser\u001b[0m \u001b[0;34m=\u001b[0m \u001b[0mTextFileReader\u001b[0m\u001b[0;34m(\u001b[0m\u001b[0mfilepath_or_buffer\u001b[0m\u001b[0;34m,\u001b[0m \u001b[0;34m**\u001b[0m\u001b[0mkwds\u001b[0m\u001b[0;34m)\u001b[0m\u001b[0;34m\u001b[0m\u001b[0;34m\u001b[0m\u001b[0m\n\u001b[0m\u001b[1;32m    621\u001b[0m \u001b[0;34m\u001b[0m\u001b[0m\n\u001b[1;32m    622\u001b[0m     \u001b[0;32mif\u001b[0m \u001b[0mchunksize\u001b[0m \u001b[0;32mor\u001b[0m \u001b[0miterator\u001b[0m\u001b[0;34m:\u001b[0m\u001b[0;34m\u001b[0m\u001b[0;34m\u001b[0m\u001b[0m\n",
            "\u001b[0;32m/usr/local/lib/python3.11/dist-packages/pandas/io/parsers/readers.py\u001b[0m in \u001b[0;36m__init__\u001b[0;34m(self, f, engine, **kwds)\u001b[0m\n\u001b[1;32m   1618\u001b[0m \u001b[0;34m\u001b[0m\u001b[0m\n\u001b[1;32m   1619\u001b[0m         \u001b[0mself\u001b[0m\u001b[0;34m.\u001b[0m\u001b[0mhandles\u001b[0m\u001b[0;34m:\u001b[0m \u001b[0mIOHandles\u001b[0m \u001b[0;34m|\u001b[0m \u001b[0;32mNone\u001b[0m \u001b[0;34m=\u001b[0m \u001b[0;32mNone\u001b[0m\u001b[0;34m\u001b[0m\u001b[0;34m\u001b[0m\u001b[0m\n\u001b[0;32m-> 1620\u001b[0;31m         \u001b[0mself\u001b[0m\u001b[0;34m.\u001b[0m\u001b[0m_engine\u001b[0m \u001b[0;34m=\u001b[0m \u001b[0mself\u001b[0m\u001b[0;34m.\u001b[0m\u001b[0m_make_engine\u001b[0m\u001b[0;34m(\u001b[0m\u001b[0mf\u001b[0m\u001b[0;34m,\u001b[0m \u001b[0mself\u001b[0m\u001b[0;34m.\u001b[0m\u001b[0mengine\u001b[0m\u001b[0;34m)\u001b[0m\u001b[0;34m\u001b[0m\u001b[0;34m\u001b[0m\u001b[0m\n\u001b[0m\u001b[1;32m   1621\u001b[0m \u001b[0;34m\u001b[0m\u001b[0m\n\u001b[1;32m   1622\u001b[0m     \u001b[0;32mdef\u001b[0m \u001b[0mclose\u001b[0m\u001b[0;34m(\u001b[0m\u001b[0mself\u001b[0m\u001b[0;34m)\u001b[0m \u001b[0;34m->\u001b[0m \u001b[0;32mNone\u001b[0m\u001b[0;34m:\u001b[0m\u001b[0;34m\u001b[0m\u001b[0;34m\u001b[0m\u001b[0m\n",
            "\u001b[0;32m/usr/local/lib/python3.11/dist-packages/pandas/io/parsers/readers.py\u001b[0m in \u001b[0;36m_make_engine\u001b[0;34m(self, f, engine)\u001b[0m\n\u001b[1;32m   1878\u001b[0m                 \u001b[0;32mif\u001b[0m \u001b[0;34m\"b\"\u001b[0m \u001b[0;32mnot\u001b[0m \u001b[0;32min\u001b[0m \u001b[0mmode\u001b[0m\u001b[0;34m:\u001b[0m\u001b[0;34m\u001b[0m\u001b[0;34m\u001b[0m\u001b[0m\n\u001b[1;32m   1879\u001b[0m                     \u001b[0mmode\u001b[0m \u001b[0;34m+=\u001b[0m \u001b[0;34m\"b\"\u001b[0m\u001b[0;34m\u001b[0m\u001b[0;34m\u001b[0m\u001b[0m\n\u001b[0;32m-> 1880\u001b[0;31m             self.handles = get_handle(\n\u001b[0m\u001b[1;32m   1881\u001b[0m                 \u001b[0mf\u001b[0m\u001b[0;34m,\u001b[0m\u001b[0;34m\u001b[0m\u001b[0;34m\u001b[0m\u001b[0m\n\u001b[1;32m   1882\u001b[0m                 \u001b[0mmode\u001b[0m\u001b[0;34m,\u001b[0m\u001b[0;34m\u001b[0m\u001b[0;34m\u001b[0m\u001b[0m\n",
            "\u001b[0;32m/usr/local/lib/python3.11/dist-packages/pandas/io/common.py\u001b[0m in \u001b[0;36mget_handle\u001b[0;34m(path_or_buf, mode, encoding, compression, memory_map, is_text, errors, storage_options)\u001b[0m\n\u001b[1;32m    871\u001b[0m         \u001b[0;32mif\u001b[0m \u001b[0mioargs\u001b[0m\u001b[0;34m.\u001b[0m\u001b[0mencoding\u001b[0m \u001b[0;32mand\u001b[0m \u001b[0;34m\"b\"\u001b[0m \u001b[0;32mnot\u001b[0m \u001b[0;32min\u001b[0m \u001b[0mioargs\u001b[0m\u001b[0;34m.\u001b[0m\u001b[0mmode\u001b[0m\u001b[0;34m:\u001b[0m\u001b[0;34m\u001b[0m\u001b[0;34m\u001b[0m\u001b[0m\n\u001b[1;32m    872\u001b[0m             \u001b[0;31m# Encoding\u001b[0m\u001b[0;34m\u001b[0m\u001b[0;34m\u001b[0m\u001b[0m\n\u001b[0;32m--> 873\u001b[0;31m             handle = open(\n\u001b[0m\u001b[1;32m    874\u001b[0m                 \u001b[0mhandle\u001b[0m\u001b[0;34m,\u001b[0m\u001b[0;34m\u001b[0m\u001b[0;34m\u001b[0m\u001b[0m\n\u001b[1;32m    875\u001b[0m                 \u001b[0mioargs\u001b[0m\u001b[0;34m.\u001b[0m\u001b[0mmode\u001b[0m\u001b[0;34m,\u001b[0m\u001b[0;34m\u001b[0m\u001b[0;34m\u001b[0m\u001b[0m\n",
            "\u001b[0;31mFileNotFoundError\u001b[0m: [Errno 2] No such file or directory: 'FieldMapping_Part2_2V.csv'"
          ]
        }
      ],
      "execution_count": 3
    },
    {
      "cell_type": "code",
      "metadata": {
        "ExecuteTime": {
          "end_time": "2024-07-16T13:34:03.595407Z",
          "start_time": "2024-07-16T13:34:03.585686Z"
        },
        "id": "tfeThKQn_rrW"
      },
      "source": [
        "# Define uncertainties in X and Y, in pixels\n",
        "df['dX']=5.0\n",
        "df['dY']=5.0\n",
        "\n",
        "# Calculate X and Y positions, in meters, with uncertainties\n",
        "df['X_m']=df['X']*lcal\n",
        "df['dX_m']=df['X_m']*(df['dX']/df['X'] + dlcal/lcal)\n",
        "df['Y_m']=df['Y']*lcal\n",
        "df['dY_m']=df['Y_m']*(df['dY']/df['Y'] + dlcal/lcal)\n",
        "\n",
        "df"
      ],
      "outputs": [],
      "execution_count": null
    },
    {
      "cell_type": "code",
      "metadata": {
        "ExecuteTime": {
          "end_time": "2024-07-16T13:34:04.335047Z",
          "start_time": "2024-07-16T13:34:04.331363Z"
        },
        "id": "JeJ0h34N_rrX"
      },
      "source": [
        "# Calculate the absolute positions of Q1 and Q2\n",
        "\n",
        "X1_pixels = 530.04\n",
        "dX1_pixels = 5.0\n",
        "Y1_pixels = 302.07\n",
        "dY1_pixels = 5.0\n",
        "\n",
        "X2_pixels = 284.03\n",
        "dX2_pixels = 5.0\n",
        "Y2_pixels = 305.96\n",
        "dY2_pixels = 5.0\n",
        "\n",
        "X1 = X1_pixels*lcal\n",
        "dX1 = X1*(dX1_pixels/X1_pixels + dlcal/lcal)\n",
        "Y1 = Y1_pixels*lcal\n",
        "dY1 = Y1*(dY1_pixels/Y1_pixels + dlcal/lcal)\n",
        "\n",
        "X2 = X2_pixels*lcal\n",
        "dX2 = X2*(dX2_pixels/X2_pixels + dlcal/lcal)\n",
        "Y2 = Y2_pixels*lcal\n",
        "dY2 = Y2*(dY2_pixels/Y2_pixels + dlcal/lcal)\n",
        "\n",
        "print (X1,dX1,Y1,dY1,X2,dX2,Y2,dY2)"
      ],
      "outputs": [],
      "execution_count": null
    },
    {
      "cell_type": "code",
      "metadata": {
        "ExecuteTime": {
          "end_time": "2024-07-16T13:34:05.201425Z",
          "start_time": "2024-07-16T13:34:05.186938Z"
        },
        "id": "lmb3hHrd_rrX"
      },
      "source": [
        "# Calculate r1 and r2, and errors\n",
        "\n",
        "df['r1'] = np.sqrt((df['X_m']-X1)**2 + (df['Y_m']-Y1)**2)\n",
        "df['r2'] = np.sqrt((df['X_m']-X2)**2 + (df['Y_m']-Y2)**2)\n",
        "\n",
        "df['dr1'] = 1/df['r1']*(np.abs((df['X_m']-X1))*(dX1+df['dX_m']) + (np.abs(df['Y_m']-Y1))*(dY1+df['dY_m']))\n",
        "df['dr2'] = 1/df['r2']*(np.abs((df['X_m']-X2))*(dX1+df['dX_m']) + (np.abs(df['Y_m']-Y2))*(dY2+df['dY_m']))\n",
        "\n",
        "df['ID'] = 1.0/df['r1']-1.0/df['r2']\n",
        "df['dID'] = 1/df['r1']**2*df['dr1'] + 1/df['r2']**2*df['dr2']\n",
        "\n",
        "df"
      ],
      "outputs": [],
      "execution_count": null
    },
    {
      "cell_type": "code",
      "metadata": {
        "ExecuteTime": {
          "end_time": "2024-07-16T13:34:06.170563Z",
          "start_time": "2024-07-16T13:34:05.959034Z"
        },
        "id": "RCSxz-_n_rrX"
      },
      "source": [
        "# Plot the inverse difference, 1/r1-1/r2, for all data points that we have\n",
        "plt.figure(figsize=(8, 6), dpi=80)\n",
        "plt.errorbar(df.index, df['ID'], xerr=0, yerr=df['dID'], fmt='o', capsize=2, capthick=1)"
      ],
      "outputs": [],
      "execution_count": null
    },
    {
      "cell_type": "code",
      "metadata": {
        "ExecuteTime": {
          "end_time": "2024-07-16T13:34:08.110158Z",
          "start_time": "2024-07-16T13:34:08.046341Z"
        },
        "id": "xFtstTqk_rrX"
      },
      "source": [
        "# Calculate the weighted average of the inverse difference values.\n",
        "def w_avg(df, values, weights):\n",
        "    d = df[values]\n",
        "    w = 1.0/df[weights]**2\n",
        "    return (d * w).sum()/w.sum(), np.sqrt(1/w.sum())\n",
        "\n",
        "average, daverage = w_avg(df, 'ID', 'dID')\n",
        "print (average,daverage)\n",
        "\n",
        "plt.figure(figsize=(8, 6), dpi=80)\n",
        "plt.errorbar(df.index, df['ID'], xerr=0, yerr=df['dID'], fmt='o', capsize=2, capthick=1)\n",
        "npts=len(df)\n",
        "plt.errorbar(npts+1, average, xerr=0, yerr=daverage, fmt='o', capsize=2, capthick=1)"
      ],
      "outputs": [],
      "execution_count": null
    },
    {
      "cell_type": "code",
      "metadata": {
        "ExecuteTime": {
          "end_time": "2024-07-16T13:34:08.952509Z",
          "start_time": "2024-07-16T13:34:08.950421Z"
        },
        "id": "LGls_Kyg_rrX"
      },
      "source": [
        "# Now, just do the same procedure for the other voltage values!\n",
        "\n",
        "# As you complete each voltage line analysis, add the extracted averages to the\n",
        "# csv file called FieldMapping_Averages.csv"
      ],
      "outputs": [],
      "execution_count": null
    },
    {
      "cell_type": "code",
      "metadata": {
        "ExecuteTime": {
          "end_time": "2024-07-16T13:34:09.911824Z",
          "start_time": "2024-07-16T13:34:09.905018Z"
        },
        "id": "awkwXCSr_rrX"
      },
      "source": [
        "dfavg = pd.read_csv(\"FieldMapping_Averages.csv\")\n",
        "\n",
        "df = dfavg.copy()\n",
        "df"
      ],
      "outputs": [],
      "execution_count": null
    },
    {
      "cell_type": "code",
      "metadata": {
        "ExecuteTime": {
          "end_time": "2024-07-16T13:34:11.089156Z",
          "start_time": "2024-07-16T13:34:10.618312Z"
        },
        "id": "iCk-UEog_rrX"
      },
      "source": [
        "xi = df['Average']\n",
        "yi = df['Voltage']\n",
        "sigmaxi = df['dAverage']\n",
        "sigmayi = df['dVoltage']\n",
        "\n",
        "##############################\n",
        "\n",
        "from scipy.odr import *\n",
        "\n",
        "def fitfunction(B, x):\n",
        "    '''Linear function y = m*x + b'''\n",
        "    # B is a vector of the parameters.\n",
        "    # x is an array of the current x values.\n",
        "    # x is in the same format as the x passed to Data or RealData.\n",
        "    #\n",
        "    # Return an array in the same format as y passed to Data or RealData.\n",
        "    return B[0]*x + B[1]\n",
        "\n",
        "linear = Model(fitfunction) # create a Model object based on the fitfuncion we have defined\n",
        "mydata = RealData(xi, yi, sx=sigmaxi, sy=sigmayi) # create a data object based on our data, include errors.\n",
        "myodr = ODR(mydata, linear, beta0=[1., 2.]) # create a fitting object, based on the data, fit Model, and an intial set of parameters.\n",
        "myoutput = myodr.run()  # run the fitting process to get optimized parameters!\n",
        "\n",
        "myoutput.pprint() # print out the result of the fit\n",
        "\n",
        "# Now assign the important fit results to some more convenient variables.\n",
        "\n",
        "popt = myoutput.beta # the vector of optimized parameters\n",
        "pcov = myoutput.cov_beta # the covariance matrix\n",
        "perr = myoutput.sd_beta # the vector of ERRORS in the optimized parameters\n",
        "\n",
        "# The following lines generate upper and lower 99% \"Confidence Bands\" on the fit, for visualization\n",
        "# purposes.\n",
        "\n",
        "ps = np.random.multivariate_normal(popt,pcov,10000)\n",
        "ysample=np.asarray([fitfunction(pi,xi) for pi in ps])\n",
        "\n",
        "lower = np.percentile(ysample,16.0,axis=0)\n",
        "upper = np.percentile(ysample,84.0,axis=0)\n",
        "middle = (lower+upper)/2.0\n",
        "\n",
        "print()\n",
        "print (\"Final Result: Y = (%0.9f +/- %0.9f) X + (%0.9f +/- %0.9f)\" % (popt[0],perr[0],popt[1],perr[1]))\n",
        "\n",
        "plt.figure(figsize=(8, 6), dpi=80)\n",
        "\n",
        "plt.errorbar(xi, yi, xerr=sigmaxi, yerr=sigmayi, fmt='o', capsize=2, capthick=1)\n",
        "\n",
        "plt.plot(xi,middle)\n",
        "plt.plot(xi,lower)\n",
        "plt.plot(xi,upper)\n",
        "\n",
        "#########################\n",
        "\n",
        "plt.xlabel('1/R1-1/R2 (meters$^-1$)')\n",
        "plt.ylabel('Voltage (Volts)')\n",
        "plt.title('Two Points')\n",
        "plt.show()"
      ],
      "outputs": [],
      "execution_count": null
    },
    {
      "cell_type": "code",
      "metadata": {
        "ExecuteTime": {
          "end_time": "2024-07-16T13:34:12.835543Z",
          "start_time": "2024-07-16T13:34:12.833913Z"
        },
        "id": "0wyVBbrS_rrX"
      },
      "source": [],
      "outputs": [],
      "execution_count": null
    },
    {
      "metadata": {
        "id": "_4bVKOau_rrX"
      },
      "cell_type": "code",
      "outputs": [],
      "execution_count": null,
      "source": []
    }
  ],
  "metadata": {
    "kernelspec": {
      "display_name": "Python 3",
      "language": "python",
      "name": "python3"
    },
    "language_info": {
      "codemirror_mode": {
        "name": "ipython",
        "version": 3
      },
      "file_extension": ".py",
      "mimetype": "text/x-python",
      "name": "python",
      "nbconvert_exporter": "python",
      "pygments_lexer": "ipython3",
      "version": "3.6.8"
    },
    "latex_envs": {
      "LaTeX_envs_menu_present": true,
      "autoclose": false,
      "autocomplete": true,
      "bibliofile": "biblio.bib",
      "cite_by": "apalike",
      "current_citInitial": 1,
      "eqLabelWithNumbers": true,
      "eqNumInitial": 1,
      "hotkeys": {
        "equation": "Ctrl-E",
        "itemize": "Ctrl-I"
      },
      "labels_anchors": false,
      "latex_user_defs": false,
      "report_style_numbering": false,
      "user_envs_cfg": false
    },
    "colab": {
      "provenance": []
    }
  },
  "nbformat": 4,
  "nbformat_minor": 0
}