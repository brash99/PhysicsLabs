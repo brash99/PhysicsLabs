{
 "cells": [
  {
   "cell_type": "markdown",
   "metadata": {},
   "source": [
    "# Lab 2:  Electric Field Mapping"
   ]
  },
  {
   "cell_type": "code",
   "metadata": {
    "ExecuteTime": {
     "end_time": "2025-06-20T20:22:29.666127Z",
     "start_time": "2025-06-20T20:22:28.330407Z"
    }
   },
   "source": [
    "import numpy as np\n",
    "import pandas as pd\n",
    "import matplotlib.pyplot as plt\n",
    "import scipy.stats as stats\n"
   ],
   "outputs": [],
   "execution_count": 1
  },
  {
   "cell_type": "code",
   "metadata": {
    "ExecuteTime": {
     "end_time": "2025-06-20T20:22:30.515508Z",
     "start_time": "2025-06-20T20:22:30.513161Z"
    }
   },
   "source": [
    "# Measured Ruler Distance in Pixels\n",
    "length_pixels = 562.47 - 22.59\n",
    "dlength_pixels = 5.0\n",
    "length_cm = 19.0\n",
    "\n",
    "lcal = length_cm*0.01/length_pixels\n",
    "dlcal = dlength_pixels/length_pixels*lcal\n",
    "\n",
    "print (\"Ruler calibration: (%0.3e +/- %0.3e) meters/pixel\" % (lcal,dlcal))"
   ],
   "outputs": [
    {
     "name": "stdout",
     "output_type": "stream",
     "text": [
      "Ruler calibration: (3.519e-04 +/- 3.259e-06) meters/pixel\n"
     ]
    }
   ],
   "execution_count": 2
  },
  {
   "cell_type": "code",
   "metadata": {
    "ExecuteTime": {
     "end_time": "2025-06-20T20:22:31.299157Z",
     "start_time": "2025-06-20T20:22:31.288935Z"
    }
   },
   "source": [
    "# Read in data from csv files\n",
    "df1 = pd.read_csv(\"FieldMapping_Part2_2V.csv\")\n",
    "df2 = pd.read_csv(\"FieldMapping_Part2_10V.csv\")\n",
    "\n",
    "df = df2.copy()"
   ],
   "outputs": [],
   "execution_count": 3
  },
  {
   "cell_type": "code",
   "metadata": {
    "ExecuteTime": {
     "end_time": "2025-06-20T20:22:32.143356Z",
     "start_time": "2025-06-20T20:22:32.099568Z"
    }
   },
   "source": [
    "# Define uncertainties in X and Y, in pixels\n",
    "df['dX']=5.0\n",
    "df['dY']=5.0\n",
    "\n",
    "# Calculate X and Y positions, in meters, with uncertainties\n",
    "df['X_m']=df['X']*lcal\n",
    "df['dX_m']=df['X_m']*(df['dX']/df['X'] + dlcal/lcal)\n",
    "df['Y_m']=df['Y']*lcal\n",
    "df['dY_m']=df['Y_m']*(df['dY']/df['Y'] + dlcal/lcal)\n",
    "\n",
    "df"
   ],
   "outputs": [
    {
     "data": {
      "text/plain": [
       "        Y       X   dX   dY       X_m      dX_m       Y_m      dY_m\n",
       "0  361.78  620.12  5.0  5.0  0.218239  0.003781  0.127321  0.002939\n",
       "1  378.13  577.00  5.0  5.0  0.203064  0.003640  0.133075  0.002992\n",
       "2  369.68  530.88  5.0  5.0  0.186833  0.003490  0.130102  0.002965\n",
       "3  347.58  500.91  5.0  5.0  0.176285  0.003392  0.122324  0.002893\n",
       "4  325.23  489.97  5.0  5.0  0.172435  0.003357  0.114458  0.002820\n",
       "5  303.43  486.12  5.0  5.0  0.171080  0.003344  0.106786  0.002749\n",
       "6  278.47  491.98  5.0  5.0  0.173143  0.003363  0.098002  0.002667\n",
       "7  256.74  507.87  5.0  5.0  0.178735  0.003415  0.090355  0.002596\n",
       "8  244.28  536.78  5.0  5.0  0.188909  0.003509  0.085969  0.002556"
      ],
      "text/html": [
       "<div>\n",
       "<style scoped>\n",
       "    .dataframe tbody tr th:only-of-type {\n",
       "        vertical-align: middle;\n",
       "    }\n",
       "\n",
       "    .dataframe tbody tr th {\n",
       "        vertical-align: top;\n",
       "    }\n",
       "\n",
       "    .dataframe thead th {\n",
       "        text-align: right;\n",
       "    }\n",
       "</style>\n",
       "<table border=\"1\" class=\"dataframe\">\n",
       "  <thead>\n",
       "    <tr style=\"text-align: right;\">\n",
       "      <th></th>\n",
       "      <th>Y</th>\n",
       "      <th>X</th>\n",
       "      <th>dX</th>\n",
       "      <th>dY</th>\n",
       "      <th>X_m</th>\n",
       "      <th>dX_m</th>\n",
       "      <th>Y_m</th>\n",
       "      <th>dY_m</th>\n",
       "    </tr>\n",
       "  </thead>\n",
       "  <tbody>\n",
       "    <tr>\n",
       "      <th>0</th>\n",
       "      <td>361.78</td>\n",
       "      <td>620.12</td>\n",
       "      <td>5.0</td>\n",
       "      <td>5.0</td>\n",
       "      <td>0.218239</td>\n",
       "      <td>0.003781</td>\n",
       "      <td>0.127321</td>\n",
       "      <td>0.002939</td>\n",
       "    </tr>\n",
       "    <tr>\n",
       "      <th>1</th>\n",
       "      <td>378.13</td>\n",
       "      <td>577.00</td>\n",
       "      <td>5.0</td>\n",
       "      <td>5.0</td>\n",
       "      <td>0.203064</td>\n",
       "      <td>0.003640</td>\n",
       "      <td>0.133075</td>\n",
       "      <td>0.002992</td>\n",
       "    </tr>\n",
       "    <tr>\n",
       "      <th>2</th>\n",
       "      <td>369.68</td>\n",
       "      <td>530.88</td>\n",
       "      <td>5.0</td>\n",
       "      <td>5.0</td>\n",
       "      <td>0.186833</td>\n",
       "      <td>0.003490</td>\n",
       "      <td>0.130102</td>\n",
       "      <td>0.002965</td>\n",
       "    </tr>\n",
       "    <tr>\n",
       "      <th>3</th>\n",
       "      <td>347.58</td>\n",
       "      <td>500.91</td>\n",
       "      <td>5.0</td>\n",
       "      <td>5.0</td>\n",
       "      <td>0.176285</td>\n",
       "      <td>0.003392</td>\n",
       "      <td>0.122324</td>\n",
       "      <td>0.002893</td>\n",
       "    </tr>\n",
       "    <tr>\n",
       "      <th>4</th>\n",
       "      <td>325.23</td>\n",
       "      <td>489.97</td>\n",
       "      <td>5.0</td>\n",
       "      <td>5.0</td>\n",
       "      <td>0.172435</td>\n",
       "      <td>0.003357</td>\n",
       "      <td>0.114458</td>\n",
       "      <td>0.002820</td>\n",
       "    </tr>\n",
       "    <tr>\n",
       "      <th>5</th>\n",
       "      <td>303.43</td>\n",
       "      <td>486.12</td>\n",
       "      <td>5.0</td>\n",
       "      <td>5.0</td>\n",
       "      <td>0.171080</td>\n",
       "      <td>0.003344</td>\n",
       "      <td>0.106786</td>\n",
       "      <td>0.002749</td>\n",
       "    </tr>\n",
       "    <tr>\n",
       "      <th>6</th>\n",
       "      <td>278.47</td>\n",
       "      <td>491.98</td>\n",
       "      <td>5.0</td>\n",
       "      <td>5.0</td>\n",
       "      <td>0.173143</td>\n",
       "      <td>0.003363</td>\n",
       "      <td>0.098002</td>\n",
       "      <td>0.002667</td>\n",
       "    </tr>\n",
       "    <tr>\n",
       "      <th>7</th>\n",
       "      <td>256.74</td>\n",
       "      <td>507.87</td>\n",
       "      <td>5.0</td>\n",
       "      <td>5.0</td>\n",
       "      <td>0.178735</td>\n",
       "      <td>0.003415</td>\n",
       "      <td>0.090355</td>\n",
       "      <td>0.002596</td>\n",
       "    </tr>\n",
       "    <tr>\n",
       "      <th>8</th>\n",
       "      <td>244.28</td>\n",
       "      <td>536.78</td>\n",
       "      <td>5.0</td>\n",
       "      <td>5.0</td>\n",
       "      <td>0.188909</td>\n",
       "      <td>0.003509</td>\n",
       "      <td>0.085969</td>\n",
       "      <td>0.002556</td>\n",
       "    </tr>\n",
       "  </tbody>\n",
       "</table>\n",
       "</div>"
      ]
     },
     "execution_count": 4,
     "metadata": {},
     "output_type": "execute_result"
    }
   ],
   "execution_count": 4
  },
  {
   "cell_type": "code",
   "metadata": {
    "ExecuteTime": {
     "end_time": "2025-06-20T20:22:33.182496Z",
     "start_time": "2025-06-20T20:22:33.179768Z"
    }
   },
   "source": [
    "# Calculate the absolute positions of Q1 and Q2\n",
    "\n",
    "X1_pixels = 530.04\n",
    "dX1_pixels = 5.0\n",
    "Y1_pixels = 302.07\n",
    "dY1_pixels = 5.0\n",
    "\n",
    "X2_pixels = 284.03\n",
    "dX2_pixels = 5.0\n",
    "Y2_pixels = 305.96\n",
    "dY2_pixels = 5.0\n",
    "\n",
    "X1 = X1_pixels*lcal\n",
    "dX1 = X1*(dX1_pixels/X1_pixels + dlcal/lcal)\n",
    "Y1 = Y1_pixels*lcal\n",
    "dY1 = Y1*(dY1_pixels/Y1_pixels + dlcal/lcal)\n",
    "\n",
    "X2 = X2_pixels*lcal\n",
    "dX2 = X2*(dX2_pixels/X2_pixels + dlcal/lcal)\n",
    "Y2 = Y2_pixels*lcal\n",
    "dY2 = Y2*(dY2_pixels/Y2_pixels + dlcal/lcal)\n",
    "\n",
    "print (X1,dX1,Y1,dY1,X2,dX2,Y2,dY2)"
   ],
   "outputs": [
    {
     "name": "stdout",
     "output_type": "stream",
     "text": [
      "0.18653700822404978 0.003487228719567772 0.10630751278061791 0.0027441979030582526 0.09995869452470918 0.0026853994825212003 0.10767652070830554 0.0027568767199035484\n"
     ]
    }
   ],
   "execution_count": 5
  },
  {
   "cell_type": "code",
   "metadata": {
    "ExecuteTime": {
     "end_time": "2025-06-20T20:22:34.044090Z",
     "start_time": "2025-06-20T20:22:34.032360Z"
    }
   },
   "source": [
    "# Calculate r1 and r2, and errors\n",
    "\n",
    "df['r1'] = np.sqrt((df['X_m']-X1)**2 + (df['Y_m']-Y1)**2)\n",
    "df['r2'] = np.sqrt((df['X_m']-X2)**2 + (df['Y_m']-Y2)**2)\n",
    "\n",
    "df['dr1'] = 1/df['r1']*(np.abs((df['X_m']-X1))*(dX1+df['dX_m']) + (np.abs(df['Y_m']-Y1))*(dY1+df['dY_m']))\n",
    "df['dr2'] = 1/df['r2']*(np.abs((df['X_m']-X2))*(dX1+df['dX_m']) + (np.abs(df['Y_m']-Y2))*(dY2+df['dY_m']))\n",
    "\n",
    "df['ID'] = 1.0/df['r1']-1.0/df['r2']\n",
    "df['dID'] = 1/df['r1']**2*df['dr1'] + 1/df['r2']**2*df['dr2']\n",
    "\n",
    "df"
   ],
   "outputs": [
    {
     "data": {
      "text/plain": [
       "        Y       X   dX   dY       X_m      dX_m       Y_m      dY_m        r1  \\\n",
       "0  361.78  620.12  5.0  5.0  0.218239  0.003781  0.127321  0.002939  0.038034   \n",
       "1  378.13  577.00  5.0  5.0  0.203064  0.003640  0.133075  0.002992  0.031459   \n",
       "2  369.68  530.88  5.0  5.0  0.186833  0.003490  0.130102  0.002965  0.023796   \n",
       "3  347.58  500.91  5.0  5.0  0.176285  0.003392  0.122324  0.002893  0.019016   \n",
       "4  325.23  489.97  5.0  5.0  0.172435  0.003357  0.114458  0.002820  0.016288   \n",
       "5  303.43  486.12  5.0  5.0  0.171080  0.003344  0.106786  0.002749  0.015464   \n",
       "6  278.47  491.98  5.0  5.0  0.173143  0.003363  0.098002  0.002667  0.015761   \n",
       "7  256.74  507.87  5.0  5.0  0.178735  0.003415  0.090355  0.002596  0.017759   \n",
       "8  244.28  536.78  5.0  5.0  0.188909  0.003509  0.085969  0.002556  0.020476   \n",
       "\n",
       "         r2       dr1       dr2         ID        dID  \n",
       "0  0.119900  0.009198  0.008103  17.952010   6.921987  \n",
       "1  0.106187  0.008625  0.008296  22.370461   9.451329  \n",
       "2  0.089722  0.005795  0.008186  30.878582  11.251018  \n",
       "3  0.077719  0.008456  0.007821  39.719565  24.679056  \n",
       "4  0.072793  0.008710  0.007334  47.657692  34.213640  \n",
       "5  0.071127  0.006998  0.006900  50.606247  30.627097  \n",
       "6  0.073821  0.008674  0.007502  49.903363  36.296063  \n",
       "7  0.080658  0.007830  0.007891  43.912209  26.040814  \n",
       "8  0.091561  0.006075  0.008056  37.916197  15.450390  "
      ],
      "text/html": [
       "<div>\n",
       "<style scoped>\n",
       "    .dataframe tbody tr th:only-of-type {\n",
       "        vertical-align: middle;\n",
       "    }\n",
       "\n",
       "    .dataframe tbody tr th {\n",
       "        vertical-align: top;\n",
       "    }\n",
       "\n",
       "    .dataframe thead th {\n",
       "        text-align: right;\n",
       "    }\n",
       "</style>\n",
       "<table border=\"1\" class=\"dataframe\">\n",
       "  <thead>\n",
       "    <tr style=\"text-align: right;\">\n",
       "      <th></th>\n",
       "      <th>Y</th>\n",
       "      <th>X</th>\n",
       "      <th>dX</th>\n",
       "      <th>dY</th>\n",
       "      <th>X_m</th>\n",
       "      <th>dX_m</th>\n",
       "      <th>Y_m</th>\n",
       "      <th>dY_m</th>\n",
       "      <th>r1</th>\n",
       "      <th>r2</th>\n",
       "      <th>dr1</th>\n",
       "      <th>dr2</th>\n",
       "      <th>ID</th>\n",
       "      <th>dID</th>\n",
       "    </tr>\n",
       "  </thead>\n",
       "  <tbody>\n",
       "    <tr>\n",
       "      <th>0</th>\n",
       "      <td>361.78</td>\n",
       "      <td>620.12</td>\n",
       "      <td>5.0</td>\n",
       "      <td>5.0</td>\n",
       "      <td>0.218239</td>\n",
       "      <td>0.003781</td>\n",
       "      <td>0.127321</td>\n",
       "      <td>0.002939</td>\n",
       "      <td>0.038034</td>\n",
       "      <td>0.119900</td>\n",
       "      <td>0.009198</td>\n",
       "      <td>0.008103</td>\n",
       "      <td>17.952010</td>\n",
       "      <td>6.921987</td>\n",
       "    </tr>\n",
       "    <tr>\n",
       "      <th>1</th>\n",
       "      <td>378.13</td>\n",
       "      <td>577.00</td>\n",
       "      <td>5.0</td>\n",
       "      <td>5.0</td>\n",
       "      <td>0.203064</td>\n",
       "      <td>0.003640</td>\n",
       "      <td>0.133075</td>\n",
       "      <td>0.002992</td>\n",
       "      <td>0.031459</td>\n",
       "      <td>0.106187</td>\n",
       "      <td>0.008625</td>\n",
       "      <td>0.008296</td>\n",
       "      <td>22.370461</td>\n",
       "      <td>9.451329</td>\n",
       "    </tr>\n",
       "    <tr>\n",
       "      <th>2</th>\n",
       "      <td>369.68</td>\n",
       "      <td>530.88</td>\n",
       "      <td>5.0</td>\n",
       "      <td>5.0</td>\n",
       "      <td>0.186833</td>\n",
       "      <td>0.003490</td>\n",
       "      <td>0.130102</td>\n",
       "      <td>0.002965</td>\n",
       "      <td>0.023796</td>\n",
       "      <td>0.089722</td>\n",
       "      <td>0.005795</td>\n",
       "      <td>0.008186</td>\n",
       "      <td>30.878582</td>\n",
       "      <td>11.251018</td>\n",
       "    </tr>\n",
       "    <tr>\n",
       "      <th>3</th>\n",
       "      <td>347.58</td>\n",
       "      <td>500.91</td>\n",
       "      <td>5.0</td>\n",
       "      <td>5.0</td>\n",
       "      <td>0.176285</td>\n",
       "      <td>0.003392</td>\n",
       "      <td>0.122324</td>\n",
       "      <td>0.002893</td>\n",
       "      <td>0.019016</td>\n",
       "      <td>0.077719</td>\n",
       "      <td>0.008456</td>\n",
       "      <td>0.007821</td>\n",
       "      <td>39.719565</td>\n",
       "      <td>24.679056</td>\n",
       "    </tr>\n",
       "    <tr>\n",
       "      <th>4</th>\n",
       "      <td>325.23</td>\n",
       "      <td>489.97</td>\n",
       "      <td>5.0</td>\n",
       "      <td>5.0</td>\n",
       "      <td>0.172435</td>\n",
       "      <td>0.003357</td>\n",
       "      <td>0.114458</td>\n",
       "      <td>0.002820</td>\n",
       "      <td>0.016288</td>\n",
       "      <td>0.072793</td>\n",
       "      <td>0.008710</td>\n",
       "      <td>0.007334</td>\n",
       "      <td>47.657692</td>\n",
       "      <td>34.213640</td>\n",
       "    </tr>\n",
       "    <tr>\n",
       "      <th>5</th>\n",
       "      <td>303.43</td>\n",
       "      <td>486.12</td>\n",
       "      <td>5.0</td>\n",
       "      <td>5.0</td>\n",
       "      <td>0.171080</td>\n",
       "      <td>0.003344</td>\n",
       "      <td>0.106786</td>\n",
       "      <td>0.002749</td>\n",
       "      <td>0.015464</td>\n",
       "      <td>0.071127</td>\n",
       "      <td>0.006998</td>\n",
       "      <td>0.006900</td>\n",
       "      <td>50.606247</td>\n",
       "      <td>30.627097</td>\n",
       "    </tr>\n",
       "    <tr>\n",
       "      <th>6</th>\n",
       "      <td>278.47</td>\n",
       "      <td>491.98</td>\n",
       "      <td>5.0</td>\n",
       "      <td>5.0</td>\n",
       "      <td>0.173143</td>\n",
       "      <td>0.003363</td>\n",
       "      <td>0.098002</td>\n",
       "      <td>0.002667</td>\n",
       "      <td>0.015761</td>\n",
       "      <td>0.073821</td>\n",
       "      <td>0.008674</td>\n",
       "      <td>0.007502</td>\n",
       "      <td>49.903363</td>\n",
       "      <td>36.296063</td>\n",
       "    </tr>\n",
       "    <tr>\n",
       "      <th>7</th>\n",
       "      <td>256.74</td>\n",
       "      <td>507.87</td>\n",
       "      <td>5.0</td>\n",
       "      <td>5.0</td>\n",
       "      <td>0.178735</td>\n",
       "      <td>0.003415</td>\n",
       "      <td>0.090355</td>\n",
       "      <td>0.002596</td>\n",
       "      <td>0.017759</td>\n",
       "      <td>0.080658</td>\n",
       "      <td>0.007830</td>\n",
       "      <td>0.007891</td>\n",
       "      <td>43.912209</td>\n",
       "      <td>26.040814</td>\n",
       "    </tr>\n",
       "    <tr>\n",
       "      <th>8</th>\n",
       "      <td>244.28</td>\n",
       "      <td>536.78</td>\n",
       "      <td>5.0</td>\n",
       "      <td>5.0</td>\n",
       "      <td>0.188909</td>\n",
       "      <td>0.003509</td>\n",
       "      <td>0.085969</td>\n",
       "      <td>0.002556</td>\n",
       "      <td>0.020476</td>\n",
       "      <td>0.091561</td>\n",
       "      <td>0.006075</td>\n",
       "      <td>0.008056</td>\n",
       "      <td>37.916197</td>\n",
       "      <td>15.450390</td>\n",
       "    </tr>\n",
       "  </tbody>\n",
       "</table>\n",
       "</div>"
      ]
     },
     "execution_count": 6,
     "metadata": {},
     "output_type": "execute_result"
    }
   ],
   "execution_count": 6
  },
  {
   "cell_type": "code",
   "metadata": {
    "ExecuteTime": {
     "end_time": "2025-06-20T20:22:35.067237Z",
     "start_time": "2025-06-20T20:22:34.990957Z"
    }
   },
   "source": [
    "# Plot the inverse difference, 1/r1-1/r2, for all data points that we have\n",
    "plt.figure(figsize=(8, 6), dpi=80)\n",
    "plt.errorbar(df.index, df['ID'], xerr=0, yerr=df['dID'], fmt='o', capsize=2, capthick=1)"
   ],
   "outputs": [
    {
     "data": {
      "text/plain": [
       "<ErrorbarContainer object of 3 artists>"
      ]
     },
     "execution_count": 7,
     "metadata": {},
     "output_type": "execute_result"
    },
    {
     "data": {
      "text/plain": [
       "<Figure size 640x480 with 1 Axes>"
      ],
      "image/png": "[encoded data removed]"
     },
     "metadata": {},
     "output_type": "display_data"
    }
   ],
   "execution_count": 7
  },
  {
   "cell_type": "code",
   "metadata": {
    "ExecuteTime": {
     "end_time": "2025-06-20T20:22:36.251823Z",
     "start_time": "2025-06-20T20:22:36.161143Z"
    }
   },
   "source": [
    "# Calculate the weighted average of the inverse difference values.\n",
    "def w_avg(df, values, weights):\n",
    "    d = df[values]\n",
    "    w = 1.0/df[weights]**2\n",
    "    return (d * w).sum()/w.sum(), np.sqrt(1/w.sum())\n",
    "\n",
    "average, daverage = w_avg(df, 'ID', 'dID')\n",
    "print (average,daverage)\n",
    "\n",
    "plt.figure(figsize=(8, 6), dpi=80)\n",
    "plt.errorbar(df.index, df['ID'], xerr=0, yerr=df['dID'], fmt='o', capsize=2, capthick=1)\n",
    "npts=len(df)\n",
    "plt.errorbar(npts+1, average, xerr=0, yerr=daverage, fmt='o', capsize=2, capthick=1)"
   ],
   "outputs": [
    {
     "name": "stdout",
     "output_type": "stream",
     "text": [
      "25.833375713696633 4.474356063834456\n"
     ]
    },
    {
     "data": {
      "text/plain": [
       "<ErrorbarContainer object of 3 artists>"
      ]
     },
     "execution_count": 8,
     "metadata": {},
     "output_type": "execute_result"
    },
    {
     "data": {
      "text/plain": [
       "<Figure size 640x480 with 1 Axes>"
      ],
      "image/png": "[encoded data removed]"
     },
     "metadata": {},
     "output_type": "display_data"
    }
   ],
   "execution_count": 8
  },
  {
   "cell_type": "code",
   "metadata": {
    "ExecuteTime": {
     "end_time": "2025-06-20T20:22:37.203129Z",
     "start_time": "2025-06-20T20:22:37.199449Z"
    }
   },
   "source": [
    "# Now, just do the same procedure for the other voltage values!\n",
    "\n",
    "# As you complete each voltage line analysis, add the extracted averages to the \n",
    "# csv file called FieldMapping_Averages.csv"
   ],
   "outputs": [],
   "execution_count": 9
  },
  {
   "cell_type": "code",
   "metadata": {
    "ExecuteTime": {
     "end_time": "2025-06-20T20:22:38.373768Z",
     "start_time": "2025-06-20T20:22:38.367391Z"
    }
   },
   "source": [
    "dfavg = pd.read_csv(\"FieldMapping_Averages.csv\")\n",
    "\n",
    "df = dfavg.copy()\n",
    "df"
   ],
   "outputs": [
    {
     "data": {
      "text/plain": [
       "   Voltage  dVoltage  Average  dAverage\n",
       "0      2.0     0.001 -26.0884   4.31981\n",
       "1     10.0     0.001  25.8333   4.47400"
      ],
      "text/html": [
       "<div>\n",
       "<style scoped>\n",
       "    .dataframe tbody tr th:only-of-type {\n",
       "        vertical-align: middle;\n",
       "    }\n",
       "\n",
       "    .dataframe tbody tr th {\n",
       "        vertical-align: top;\n",
       "    }\n",
       "\n",
       "    .dataframe thead th {\n",
       "        text-align: right;\n",
       "    }\n",
       "</style>\n",
       "<table border=\"1\" class=\"dataframe\">\n",
       "  <thead>\n",
       "    <tr style=\"text-align: right;\">\n",
       "      <th></th>\n",
       "      <th>Voltage</th>\n",
       "      <th>dVoltage</th>\n",
       "      <th>Average</th>\n",
       "      <th>dAverage</th>\n",
       "    </tr>\n",
       "  </thead>\n",
       "  <tbody>\n",
       "    <tr>\n",
       "      <th>0</th>\n",
       "      <td>2.0</td>\n",
       "      <td>0.001</td>\n",
       "      <td>-26.0884</td>\n",
       "      <td>4.31981</td>\n",
       "    </tr>\n",
       "    <tr>\n",
       "      <th>1</th>\n",
       "      <td>10.0</td>\n",
       "      <td>0.001</td>\n",
       "      <td>25.8333</td>\n",
       "      <td>4.47400</td>\n",
       "    </tr>\n",
       "  </tbody>\n",
       "</table>\n",
       "</div>"
      ]
     },
     "execution_count": 10,
     "metadata": {},
     "output_type": "execute_result"
    }
   ],
   "execution_count": 10
  },
  {
   "cell_type": "code",
   "metadata": {
    "ExecuteTime": {
     "end_time": "2025-06-20T20:22:40.184255Z",
     "start_time": "2025-06-20T20:22:39.509229Z"
    }
   },
   "source": [
    "xi = df['Average']\n",
    "yi = df['Voltage']\n",
    "sigmaxi = df['dAverage']\n",
    "sigmayi = df['dVoltage']\n",
    "\n",
    "##############################\n",
    "\n",
    "from scipy.odr import *\n",
    "\n",
    "def fitfunction(B, x):\n",
    "    '''Linear function y = m*x + b'''\n",
    "    # B is a vector of the parameters.\n",
    "    # x is an array of the current x values.\n",
    "    # x is in the same format as the x passed to Data or RealData.\n",
    "    #\n",
    "    # Return an array in the same format as y passed to Data or RealData.\n",
    "    return B[0]*x + B[1]\n",
    "\n",
    "linear = Model(fitfunction) # create a Model object based on the fitfuncion we have defined\n",
    "mydata = RealData(xi, yi, sx=sigmaxi, sy=sigmayi) # create a data object based on our data, include errors.\n",
    "myodr = ODR(mydata, linear, beta0=[1., 2.]) # create a fitting object, based on the data, fit Model, and an intial set of parameters.\n",
    "myoutput = myodr.run()  # run the fitting process to get optimized parameters!\n",
    "\n",
    "myoutput.pprint() # print out the result of the fit\n",
    "\n",
    "# Now assign the important fit results to some more convenient variables.\n",
    "\n",
    "popt = myoutput.beta # the vector of optimized parameters\n",
    "pcov = myoutput.cov_beta # the covariance matrix\n",
    "perr = myoutput.sd_beta # the vector of ERRORS in the optimized parameters\n",
    "\n",
    "# The following lines generate upper and lower 99% \"Confidence Bands\" on the fit, for visualization\n",
    "# purposes.\n",
    "\n",
    "ps = np.random.multivariate_normal(popt,pcov,10000)\n",
    "ysample=np.asarray([fitfunction(pi,xi) for pi in ps])\n",
    "\n",
    "lower = np.percentile(ysample,16.0,axis=0)\n",
    "upper = np.percentile(ysample,84.0,axis=0)\n",
    "middle = (lower+upper)/2.0\n",
    "\n",
    "print()\n",
    "print (\"Final Result: Y = (%0.9f +/- %0.9f) X + (%0.9f +/- %0.9f)\" % (popt[0],perr[0],popt[1],perr[1]))\n",
    "\n",
    "plt.figure(figsize=(8, 6), dpi=80)\n",
    "\n",
    "plt.errorbar(xi, yi, xerr=sigmaxi, yerr=sigmayi, fmt='o', capsize=2, capthick=1)\n",
    "\n",
    "plt.plot(xi,middle)\n",
    "plt.plot(xi,lower)\n",
    "plt.plot(xi,upper)\n",
    "\n",
    "#########################\n",
    "\n",
    "plt.xlabel('1/R1-1/R2 (meters$^-1$)')\n",
    "plt.ylabel('Voltage (Volts)')\n",
    "plt.title('Two Points')\n",
    "plt.show()"
   ],
   "outputs": [
    {
     "name": "stdout",
     "output_type": "stream",
     "text": [
      "Beta: [0.15407816 6.01965267]\n",
      "Beta Std Error: [1.63916132e-14 4.25618667e-13]\n",
      "Beta Covariance: [[0.0003406  0.00035343]\n",
      " [0.00035343 0.22963649]]\n",
      "Residual Variance: 7.888609052210118e-25\n",
      "Inverse Condition #: 0.0398400159993084\n",
      "Reason(s) for Halting:\n",
      "  Parameter convergence\n",
      "\n",
      "Final Result: Y = (0.154078160 +/- 0.000000000) X + (6.019652669 +/- 0.000000000)\n"
     ]
    },
    {
     "data": {
      "text/plain": [
       "<Figure size 640x480 with 1 Axes>"
      ],
      "image/png": "[encoded data removed]"
     },
     "metadata": {},
     "output_type": "display_data"
    }
   ],
   "execution_count": 11
  },
  {
   "cell_type": "code",
   "metadata": {
    "ExecuteTime": {
     "end_time": "2025-06-20T20:22:42.172853Z",
     "start_time": "2025-06-20T20:22:42.171343Z"
    }
   },
   "source": [],
   "outputs": [],
   "execution_count": 11
  },
  {
   "metadata": {},
   "cell_type": "code",
   "outputs": [],
   "execution_count": null,
   "source": ""
  }
 ],
 "metadata": {
  "kernelspec": {
   "display_name": "Python 3",
   "language": "python",
   "name": "python3"
  },
  "language_info": {
   "codemirror_mode": {
    "name": "ipython",
    "version": 3
   },
   "file_extension": ".py",
   "mimetype": "text/x-python",
   "name": "python",
   "nbconvert_exporter": "python",
   "pygments_lexer": "ipython3",
   "version": "3.6.8"
  },
  "latex_envs": {
   "LaTeX_envs_menu_present": true,
   "autoclose": false,
   "autocomplete": true,
   "bibliofile": "biblio.bib",
   "cite_by": "apalike",
   "current_citInitial": 1,
   "eqLabelWithNumbers": true,
   "eqNumInitial": 1,
   "hotkeys": {
    "equation": "Ctrl-E",
    "itemize": "Ctrl-I"
   },
   "labels_anchors": false,
   "latex_user_defs": false,
   "report_style_numbering": false,
   "user_envs_cfg": false
  }
 },
 "nbformat": 4,
 "nbformat_minor": 4
}
