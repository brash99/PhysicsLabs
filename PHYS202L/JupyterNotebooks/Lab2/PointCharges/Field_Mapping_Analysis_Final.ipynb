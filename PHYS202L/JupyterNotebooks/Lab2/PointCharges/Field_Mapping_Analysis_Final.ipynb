{
 "cells": [
  {
   "cell_type": "markdown",
   "metadata": {},
   "source": [
    "# Lab 2:  Electric Field Mapping"
   ]
  },
  {
   "cell_type": "code",
   "metadata": {
    "ExecuteTime": {
<<<<<<< HEAD
     "end_time": "2025-06-20T20:22:29.666127Z",
     "start_time": "2025-06-20T20:22:28.330407Z"
=======
     "end_time": "2024-07-16T13:34:01.424009Z",
     "start_time": "2024-07-16T13:34:00.350377Z"
>>>>>>> 9e1e6ccbe64d4b33a15e259f670a628d5305612f
    }
   },
   "source": [
    "import numpy as np\n",
    "import pandas as pd\n",
    "import matplotlib.pyplot as plt\n",
<<<<<<< HEAD
    "import scipy.stats as stats\n"
=======
    "import scipy.stats as stats\n",
    "\n",
    "# The following lines make plots in dark mode look reasonable.  If you are not using dark\n",
    "# mode you don't need them, but you can also just leave them here and it should work fine.\n",
    "\n",
    "dark_mode = True\n",
    "# plotting choices for dark-mode\n",
    "if (dark_mode):\n",
    "    from jupyterthemes import jtplot\n",
    "    jtplot.style(theme='monokai', context='notebook', ticks=True, grid=False)\n",
    "    linecolor = 'w'\n",
    "else:\n",
    "    linecolor = 'k'"
>>>>>>> 9e1e6ccbe64d4b33a15e259f670a628d5305612f
   ],
   "outputs": [],
   "execution_count": 1
  },
  {
   "cell_type": "code",
   "metadata": {
    "ExecuteTime": {
<<<<<<< HEAD
     "end_time": "2025-06-20T20:22:30.515508Z",
     "start_time": "2025-06-20T20:22:30.513161Z"
=======
     "end_time": "2024-07-16T13:34:02.397482Z",
     "start_time": "2024-07-16T13:34:02.394493Z"
>>>>>>> 9e1e6ccbe64d4b33a15e259f670a628d5305612f
    }
   },
   "source": [
    "# Measured Ruler Distance in Pixels\n",
    "length_pixels = 562.47 - 22.59\n",
    "dlength_pixels = 5.0\n",
    "length_cm = 19.0\n",
    "\n",
    "lcal = length_cm*0.01/length_pixels\n",
    "dlcal = dlength_pixels/length_pixels*lcal\n",
    "\n",
    "print (\"Ruler calibration: (%0.3e +/- %0.3e) meters/pixel\" % (lcal,dlcal))"
   ],
   "outputs": [
    {
     "name": "stdout",
     "output_type": "stream",
     "text": [
      "Ruler calibration: (3.519e-04 +/- 3.259e-06) meters/pixel\n"
     ]
    }
   ],
   "execution_count": 2
  },
  {
   "cell_type": "code",
   "metadata": {
    "ExecuteTime": {
<<<<<<< HEAD
     "end_time": "2025-06-20T20:22:31.299157Z",
     "start_time": "2025-06-20T20:22:31.288935Z"
=======
     "end_time": "2024-07-16T13:34:02.959813Z",
     "start_time": "2024-07-16T13:34:02.954944Z"
>>>>>>> 9e1e6ccbe64d4b33a15e259f670a628d5305612f
    }
   },
   "source": [
    "# Read in data from csv files\n",
    "df1 = pd.read_csv(\"FieldMapping_Part2_2V.csv\")\n",
    "df2 = pd.read_csv(\"FieldMapping_Part2_10V.csv\")\n",
    "\n",
    "df = df2.copy()"
   ],
   "outputs": [],
   "execution_count": 3
  },
  {
   "cell_type": "code",
   "metadata": {
    "ExecuteTime": {
<<<<<<< HEAD
     "end_time": "2025-06-20T20:22:32.143356Z",
     "start_time": "2025-06-20T20:22:32.099568Z"
=======
     "end_time": "2024-07-16T13:34:03.595407Z",
     "start_time": "2024-07-16T13:34:03.585686Z"
>>>>>>> 9e1e6ccbe64d4b33a15e259f670a628d5305612f
    }
   },
   "source": [
    "# Define uncertainties in X and Y, in pixels\n",
    "df['dX']=5.0\n",
    "df['dY']=5.0\n",
    "\n",
    "# Calculate X and Y positions, in meters, with uncertainties\n",
    "df['X_m']=df['X']*lcal\n",
    "df['dX_m']=df['X_m']*(df['dX']/df['X'] + dlcal/lcal)\n",
    "df['Y_m']=df['Y']*lcal\n",
    "df['dY_m']=df['Y_m']*(df['dY']/df['Y'] + dlcal/lcal)\n",
    "\n",
    "df"
   ],
   "outputs": [
    {
     "data": {
      "text/plain": [
       "        Y       X   dX   dY       X_m      dX_m       Y_m      dY_m\n",
       "0  361.78  620.12  5.0  5.0  0.218239  0.003781  0.127321  0.002939\n",
       "1  378.13  577.00  5.0  5.0  0.203064  0.003640  0.133075  0.002992\n",
       "2  369.68  530.88  5.0  5.0  0.186833  0.003490  0.130102  0.002965\n",
       "3  347.58  500.91  5.0  5.0  0.176285  0.003392  0.122324  0.002893\n",
       "4  325.23  489.97  5.0  5.0  0.172435  0.003357  0.114458  0.002820\n",
       "5  303.43  486.12  5.0  5.0  0.171080  0.003344  0.106786  0.002749\n",
       "6  278.47  491.98  5.0  5.0  0.173143  0.003363  0.098002  0.002667\n",
       "7  256.74  507.87  5.0  5.0  0.178735  0.003415  0.090355  0.002596\n",
       "8  244.28  536.78  5.0  5.0  0.188909  0.003509  0.085969  0.002556"
      ],
      "text/html": [
       "<div>\n",
       "<style scoped>\n",
       "    .dataframe tbody tr th:only-of-type {\n",
       "        vertical-align: middle;\n",
       "    }\n",
       "\n",
       "    .dataframe tbody tr th {\n",
       "        vertical-align: top;\n",
       "    }\n",
       "\n",
       "    .dataframe thead th {\n",
       "        text-align: right;\n",
       "    }\n",
       "</style>\n",
       "<table border=\"1\" class=\"dataframe\">\n",
       "  <thead>\n",
       "    <tr style=\"text-align: right;\">\n",
       "      <th></th>\n",
       "      <th>Y</th>\n",
       "      <th>X</th>\n",
       "      <th>dX</th>\n",
       "      <th>dY</th>\n",
       "      <th>X_m</th>\n",
       "      <th>dX_m</th>\n",
       "      <th>Y_m</th>\n",
       "      <th>dY_m</th>\n",
       "    </tr>\n",
       "  </thead>\n",
       "  <tbody>\n",
       "    <tr>\n",
       "      <th>0</th>\n",
       "      <td>361.78</td>\n",
       "      <td>620.12</td>\n",
       "      <td>5.0</td>\n",
       "      <td>5.0</td>\n",
       "      <td>0.218239</td>\n",
       "      <td>0.003781</td>\n",
       "      <td>0.127321</td>\n",
       "      <td>0.002939</td>\n",
       "    </tr>\n",
       "    <tr>\n",
       "      <th>1</th>\n",
       "      <td>378.13</td>\n",
       "      <td>577.00</td>\n",
       "      <td>5.0</td>\n",
       "      <td>5.0</td>\n",
       "      <td>0.203064</td>\n",
       "      <td>0.003640</td>\n",
       "      <td>0.133075</td>\n",
       "      <td>0.002992</td>\n",
       "    </tr>\n",
       "    <tr>\n",
       "      <th>2</th>\n",
       "      <td>369.68</td>\n",
       "      <td>530.88</td>\n",
       "      <td>5.0</td>\n",
       "      <td>5.0</td>\n",
       "      <td>0.186833</td>\n",
       "      <td>0.003490</td>\n",
       "      <td>0.130102</td>\n",
       "      <td>0.002965</td>\n",
       "    </tr>\n",
       "    <tr>\n",
       "      <th>3</th>\n",
       "      <td>347.58</td>\n",
       "      <td>500.91</td>\n",
       "      <td>5.0</td>\n",
       "      <td>5.0</td>\n",
       "      <td>0.176285</td>\n",
       "      <td>0.003392</td>\n",
       "      <td>0.122324</td>\n",
       "      <td>0.002893</td>\n",
       "    </tr>\n",
       "    <tr>\n",
       "      <th>4</th>\n",
       "      <td>325.23</td>\n",
       "      <td>489.97</td>\n",
       "      <td>5.0</td>\n",
       "      <td>5.0</td>\n",
       "      <td>0.172435</td>\n",
       "      <td>0.003357</td>\n",
       "      <td>0.114458</td>\n",
       "      <td>0.002820</td>\n",
       "    </tr>\n",
       "    <tr>\n",
       "      <th>5</th>\n",
       "      <td>303.43</td>\n",
       "      <td>486.12</td>\n",
       "      <td>5.0</td>\n",
       "      <td>5.0</td>\n",
       "      <td>0.171080</td>\n",
       "      <td>0.003344</td>\n",
       "      <td>0.106786</td>\n",
       "      <td>0.002749</td>\n",
       "    </tr>\n",
       "    <tr>\n",
       "      <th>6</th>\n",
       "      <td>278.47</td>\n",
       "      <td>491.98</td>\n",
       "      <td>5.0</td>\n",
       "      <td>5.0</td>\n",
       "      <td>0.173143</td>\n",
       "      <td>0.003363</td>\n",
       "      <td>0.098002</td>\n",
       "      <td>0.002667</td>\n",
       "    </tr>\n",
       "    <tr>\n",
       "      <th>7</th>\n",
       "      <td>256.74</td>\n",
       "      <td>507.87</td>\n",
       "      <td>5.0</td>\n",
       "      <td>5.0</td>\n",
       "      <td>0.178735</td>\n",
       "      <td>0.003415</td>\n",
       "      <td>0.090355</td>\n",
       "      <td>0.002596</td>\n",
       "    </tr>\n",
       "    <tr>\n",
       "      <th>8</th>\n",
       "      <td>244.28</td>\n",
       "      <td>536.78</td>\n",
       "      <td>5.0</td>\n",
       "      <td>5.0</td>\n",
       "      <td>0.188909</td>\n",
       "      <td>0.003509</td>\n",
       "      <td>0.085969</td>\n",
       "      <td>0.002556</td>\n",
       "    </tr>\n",
       "  </tbody>\n",
       "</table>\n",
       "</div>"
      ]
     },
     "execution_count": 4,
     "metadata": {},
     "output_type": "execute_result"
    }
   ],
   "execution_count": 4
  },
  {
   "cell_type": "code",
   "metadata": {
    "ExecuteTime": {
<<<<<<< HEAD
     "end_time": "2025-06-20T20:22:33.182496Z",
     "start_time": "2025-06-20T20:22:33.179768Z"
=======
     "end_time": "2024-07-16T13:34:04.335047Z",
     "start_time": "2024-07-16T13:34:04.331363Z"
>>>>>>> 9e1e6ccbe64d4b33a15e259f670a628d5305612f
    }
   },
   "source": [
    "# Calculate the absolute positions of Q1 and Q2\n",
    "\n",
    "X1_pixels = 530.04\n",
    "dX1_pixels = 5.0\n",
    "Y1_pixels = 302.07\n",
    "dY1_pixels = 5.0\n",
    "\n",
    "X2_pixels = 284.03\n",
    "dX2_pixels = 5.0\n",
    "Y2_pixels = 305.96\n",
    "dY2_pixels = 5.0\n",
    "\n",
    "X1 = X1_pixels*lcal\n",
    "dX1 = X1*(dX1_pixels/X1_pixels + dlcal/lcal)\n",
    "Y1 = Y1_pixels*lcal\n",
    "dY1 = Y1*(dY1_pixels/Y1_pixels + dlcal/lcal)\n",
    "\n",
    "X2 = X2_pixels*lcal\n",
    "dX2 = X2*(dX2_pixels/X2_pixels + dlcal/lcal)\n",
    "Y2 = Y2_pixels*lcal\n",
    "dY2 = Y2*(dY2_pixels/Y2_pixels + dlcal/lcal)\n",
    "\n",
    "print (X1,dX1,Y1,dY1,X2,dX2,Y2,dY2)"
   ],
   "outputs": [
    {
     "name": "stdout",
     "output_type": "stream",
     "text": [
      "0.18653700822404978 0.003487228719567772 0.10630751278061791 0.0027441979030582526 0.09995869452470918 0.0026853994825212003 0.10767652070830554 0.0027568767199035484\n"
     ]
    }
   ],
   "execution_count": 5
  },
  {
   "cell_type": "code",
   "metadata": {
    "ExecuteTime": {
<<<<<<< HEAD
     "end_time": "2025-06-20T20:22:34.044090Z",
     "start_time": "2025-06-20T20:22:34.032360Z"
=======
     "end_time": "2024-07-16T13:34:05.201425Z",
     "start_time": "2024-07-16T13:34:05.186938Z"
>>>>>>> 9e1e6ccbe64d4b33a15e259f670a628d5305612f
    }
   },
   "source": [
    "# Calculate r1 and r2, and errors\n",
    "\n",
    "df['r1'] = np.sqrt((df['X_m']-X1)**2 + (df['Y_m']-Y1)**2)\n",
    "df['r2'] = np.sqrt((df['X_m']-X2)**2 + (df['Y_m']-Y2)**2)\n",
    "\n",
    "df['dr1'] = 1/df['r1']*(np.abs((df['X_m']-X1))*(dX1+df['dX_m']) + (np.abs(df['Y_m']-Y1))*(dY1+df['dY_m']))\n",
    "df['dr2'] = 1/df['r2']*(np.abs((df['X_m']-X2))*(dX1+df['dX_m']) + (np.abs(df['Y_m']-Y2))*(dY2+df['dY_m']))\n",
    "\n",
    "df['ID'] = 1.0/df['r1']-1.0/df['r2']\n",
    "df['dID'] = 1/df['r1']**2*df['dr1'] + 1/df['r2']**2*df['dr2']\n",
    "\n",
    "df"
   ],
   "outputs": [
    {
     "data": {
      "text/plain": [
       "        Y       X   dX   dY       X_m      dX_m       Y_m      dY_m        r1  \\\n",
       "0  361.78  620.12  5.0  5.0  0.218239  0.003781  0.127321  0.002939  0.038034   \n",
       "1  378.13  577.00  5.0  5.0  0.203064  0.003640  0.133075  0.002992  0.031459   \n",
       "2  369.68  530.88  5.0  5.0  0.186833  0.003490  0.130102  0.002965  0.023796   \n",
       "3  347.58  500.91  5.0  5.0  0.176285  0.003392  0.122324  0.002893  0.019016   \n",
       "4  325.23  489.97  5.0  5.0  0.172435  0.003357  0.114458  0.002820  0.016288   \n",
       "5  303.43  486.12  5.0  5.0  0.171080  0.003344  0.106786  0.002749  0.015464   \n",
       "6  278.47  491.98  5.0  5.0  0.173143  0.003363  0.098002  0.002667  0.015761   \n",
       "7  256.74  507.87  5.0  5.0  0.178735  0.003415  0.090355  0.002596  0.017759   \n",
       "8  244.28  536.78  5.0  5.0  0.188909  0.003509  0.085969  0.002556  0.020476   \n",
       "\n",
       "         r2       dr1       dr2         ID        dID  \n",
       "0  0.119900  0.009198  0.008103  17.952010   6.921987  \n",
       "1  0.106187  0.008625  0.008296  22.370461   9.451329  \n",
       "2  0.089722  0.005795  0.008186  30.878582  11.251018  \n",
       "3  0.077719  0.008456  0.007821  39.719565  24.679056  \n",
       "4  0.072793  0.008710  0.007334  47.657692  34.213640  \n",
       "5  0.071127  0.006998  0.006900  50.606247  30.627097  \n",
       "6  0.073821  0.008674  0.007502  49.903363  36.296063  \n",
       "7  0.080658  0.007830  0.007891  43.912209  26.040814  \n",
       "8  0.091561  0.006075  0.008056  37.916197  15.450390  "
      ],
      "text/html": [
       "<div>\n",
       "<style scoped>\n",
       "    .dataframe tbody tr th:only-of-type {\n",
       "        vertical-align: middle;\n",
       "    }\n",
       "\n",
       "    .dataframe tbody tr th {\n",
       "        vertical-align: top;\n",
       "    }\n",
       "\n",
       "    .dataframe thead th {\n",
       "        text-align: right;\n",
       "    }\n",
       "</style>\n",
       "<table border=\"1\" class=\"dataframe\">\n",
       "  <thead>\n",
       "    <tr style=\"text-align: right;\">\n",
       "      <th></th>\n",
       "      <th>Y</th>\n",
       "      <th>X</th>\n",
       "      <th>dX</th>\n",
       "      <th>dY</th>\n",
       "      <th>X_m</th>\n",
       "      <th>dX_m</th>\n",
       "      <th>Y_m</th>\n",
       "      <th>dY_m</th>\n",
       "      <th>r1</th>\n",
       "      <th>r2</th>\n",
       "      <th>dr1</th>\n",
       "      <th>dr2</th>\n",
       "      <th>ID</th>\n",
       "      <th>dID</th>\n",
       "    </tr>\n",
       "  </thead>\n",
       "  <tbody>\n",
       "    <tr>\n",
       "      <th>0</th>\n",
       "      <td>361.78</td>\n",
       "      <td>620.12</td>\n",
       "      <td>5.0</td>\n",
       "      <td>5.0</td>\n",
       "      <td>0.218239</td>\n",
       "      <td>0.003781</td>\n",
       "      <td>0.127321</td>\n",
       "      <td>0.002939</td>\n",
       "      <td>0.038034</td>\n",
       "      <td>0.119900</td>\n",
       "      <td>0.009198</td>\n",
       "      <td>0.008103</td>\n",
       "      <td>17.952010</td>\n",
       "      <td>6.921987</td>\n",
       "    </tr>\n",
       "    <tr>\n",
       "      <th>1</th>\n",
       "      <td>378.13</td>\n",
       "      <td>577.00</td>\n",
       "      <td>5.0</td>\n",
       "      <td>5.0</td>\n",
       "      <td>0.203064</td>\n",
       "      <td>0.003640</td>\n",
       "      <td>0.133075</td>\n",
       "      <td>0.002992</td>\n",
       "      <td>0.031459</td>\n",
       "      <td>0.106187</td>\n",
       "      <td>0.008625</td>\n",
       "      <td>0.008296</td>\n",
       "      <td>22.370461</td>\n",
       "      <td>9.451329</td>\n",
       "    </tr>\n",
       "    <tr>\n",
       "      <th>2</th>\n",
       "      <td>369.68</td>\n",
       "      <td>530.88</td>\n",
       "      <td>5.0</td>\n",
       "      <td>5.0</td>\n",
       "      <td>0.186833</td>\n",
       "      <td>0.003490</td>\n",
       "      <td>0.130102</td>\n",
       "      <td>0.002965</td>\n",
       "      <td>0.023796</td>\n",
       "      <td>0.089722</td>\n",
       "      <td>0.005795</td>\n",
       "      <td>0.008186</td>\n",
       "      <td>30.878582</td>\n",
       "      <td>11.251018</td>\n",
       "    </tr>\n",
       "    <tr>\n",
       "      <th>3</th>\n",
       "      <td>347.58</td>\n",
       "      <td>500.91</td>\n",
       "      <td>5.0</td>\n",
       "      <td>5.0</td>\n",
       "      <td>0.176285</td>\n",
       "      <td>0.003392</td>\n",
       "      <td>0.122324</td>\n",
       "      <td>0.002893</td>\n",
       "      <td>0.019016</td>\n",
       "      <td>0.077719</td>\n",
       "      <td>0.008456</td>\n",
       "      <td>0.007821</td>\n",
       "      <td>39.719565</td>\n",
       "      <td>24.679056</td>\n",
       "    </tr>\n",
       "    <tr>\n",
       "      <th>4</th>\n",
       "      <td>325.23</td>\n",
       "      <td>489.97</td>\n",
       "      <td>5.0</td>\n",
       "      <td>5.0</td>\n",
       "      <td>0.172435</td>\n",
       "      <td>0.003357</td>\n",
       "      <td>0.114458</td>\n",
       "      <td>0.002820</td>\n",
       "      <td>0.016288</td>\n",
       "      <td>0.072793</td>\n",
       "      <td>0.008710</td>\n",
       "      <td>0.007334</td>\n",
       "      <td>47.657692</td>\n",
       "      <td>34.213640</td>\n",
       "    </tr>\n",
       "    <tr>\n",
       "      <th>5</th>\n",
       "      <td>303.43</td>\n",
       "      <td>486.12</td>\n",
       "      <td>5.0</td>\n",
       "      <td>5.0</td>\n",
       "      <td>0.171080</td>\n",
       "      <td>0.003344</td>\n",
       "      <td>0.106786</td>\n",
       "      <td>0.002749</td>\n",
       "      <td>0.015464</td>\n",
       "      <td>0.071127</td>\n",
       "      <td>0.006998</td>\n",
       "      <td>0.006900</td>\n",
       "      <td>50.606247</td>\n",
       "      <td>30.627097</td>\n",
       "    </tr>\n",
       "    <tr>\n",
       "      <th>6</th>\n",
       "      <td>278.47</td>\n",
       "      <td>491.98</td>\n",
       "      <td>5.0</td>\n",
       "      <td>5.0</td>\n",
       "      <td>0.173143</td>\n",
       "      <td>0.003363</td>\n",
       "      <td>0.098002</td>\n",
       "      <td>0.002667</td>\n",
       "      <td>0.015761</td>\n",
       "      <td>0.073821</td>\n",
       "      <td>0.008674</td>\n",
       "      <td>0.007502</td>\n",
       "      <td>49.903363</td>\n",
       "      <td>36.296063</td>\n",
       "    </tr>\n",
       "    <tr>\n",
       "      <th>7</th>\n",
       "      <td>256.74</td>\n",
       "      <td>507.87</td>\n",
       "      <td>5.0</td>\n",
       "      <td>5.0</td>\n",
       "      <td>0.178735</td>\n",
       "      <td>0.003415</td>\n",
       "      <td>0.090355</td>\n",
       "      <td>0.002596</td>\n",
       "      <td>0.017759</td>\n",
       "      <td>0.080658</td>\n",
       "      <td>0.007830</td>\n",
       "      <td>0.007891</td>\n",
       "      <td>43.912209</td>\n",
       "      <td>26.040814</td>\n",
       "    </tr>\n",
       "    <tr>\n",
       "      <th>8</th>\n",
       "      <td>244.28</td>\n",
       "      <td>536.78</td>\n",
       "      <td>5.0</td>\n",
       "      <td>5.0</td>\n",
       "      <td>0.188909</td>\n",
       "      <td>0.003509</td>\n",
       "      <td>0.085969</td>\n",
       "      <td>0.002556</td>\n",
       "      <td>0.020476</td>\n",
       "      <td>0.091561</td>\n",
       "      <td>0.006075</td>\n",
       "      <td>0.008056</td>\n",
       "      <td>37.916197</td>\n",
       "      <td>15.450390</td>\n",
       "    </tr>\n",
       "  </tbody>\n",
       "</table>\n",
       "</div>"
      ]
     },
     "execution_count": 6,
     "metadata": {},
     "output_type": "execute_result"
    }
   ],
   "execution_count": 6
  },
  {
   "cell_type": "code",
   "metadata": {
    "ExecuteTime": {
<<<<<<< HEAD
     "end_time": "2025-06-20T20:22:35.067237Z",
     "start_time": "2025-06-20T20:22:34.990957Z"
=======
     "end_time": "2024-07-16T13:34:06.170563Z",
     "start_time": "2024-07-16T13:34:05.959034Z"
>>>>>>> 9e1e6ccbe64d4b33a15e259f670a628d5305612f
    }
   },
   "source": [
    "# Plot the inverse difference, 1/r1-1/r2, for all data points that we have\n",
    "plt.figure(figsize=(8, 6), dpi=80)\n",
    "plt.errorbar(df.index, df['ID'], xerr=0, yerr=df['dID'], fmt='o', capsize=2, capthick=1)"
   ],
   "outputs": [
    {
     "data": {
      "text/plain": [
       "<ErrorbarContainer object of 3 artists>"
      ]
     },
     "execution_count": 7,
     "metadata": {},
     "output_type": "execute_result"
    },
    {
     "data": {
      "text/plain": [
       "<Figure size 640x480 with 1 Axes>"
      ],
<<<<<<< HEAD
      "image/png": "iVBORw0KGgoAAAANSUhEUgAAAhUAAAGTCAYAAACf5eAmAAAAOnRFWHRTb2Z0d2FyZQBNYXRwbG90bGliIHZlcnNpb24zLjEwLjMsIGh0dHBzOi8vbWF0cGxvdGxpYi5vcmcvZiW1igAAAAlwSFlzAAAMTgAADE4Bf3eMIwAAIP5JREFUeJzt3XtslFX+x/HvXHqlZaHlUrCXWaSFdQGxUu1CsCENLjEmXlg0i9wiCGiIl/oH/OEm/sGyS9Y0QQkBDXTtNmtghdX1slptatmNKG3kEonRlqUtQ1sLbRELtXTa55dzakdY+bmFns50zrxfyROe8zylcx7a0s98z3nO43IcxxEAAIAhcg/1EwAAACiECgAAYAShAgAAGEGoAAAARhAqAACAEYQKAABgBKECAAAY4ZUwiYuLk/Hjx4fr5QEAwA04e/asdHd3j6xQoQKF3+8P18sDAIAbkJ6e/v+eY/gDAAAYQagAAABGECoAAIARhAoAAGAEoQIAABhBqAAAAEYQKgAAgBGECgAAYAShAgAAGEGoAAAARhAqAACAEYQKAABgBKECAAAYEbanlAIARp7uQK9cDvQF27Fet8R5PWHtEyIHoQIAELSj8qRsq6gNtp8qzJZnFuaEtU+IHIQKAEDQEwtulreONen9NzfM05UKYLAIFQCAIDXU4XG79H5yfEy4u4MIQwQFAABGECoAAIARhAoAAGAEoQIAABhBqAAAAEYQKgAAgBGECgAAYAShAgAAGEGoAAAARhAqAACAEYQKAABgBKECAAAYQagAAABGECoAAIARhAoAAGAEoQIAABjhNfNpAECkO9ArlwN9wXas1y1xXk9Y+wQgdAgVAIzZUXlStlXUBttPFWbLMwtzwtonAKFDqABgzBMLbpa3jjXp/Tc3zNOVCgDRg1ABwBg11OFxu/R+cnyM2IbhHeCnESoAYJAY3gF+GqECAAaJ4R3gpw36J+Ldd9+V3NxcmT17tsyYMUNeffVVfby1tVUWLVok2dnZ+vjBgwcH+ykBICKHd9SmhncY+gBuoFLhOI4sW7ZMPvroI5k1a5bU19fL9OnT5cEHH5RNmzZJfn6+vPfee1JdXS0PPPCAnDp1SmJi7BtPBQAABioVLpdLzp8/r/cvXLggqampEhcXJ/v27ZP169fr43l5eTJ58mSpqqoa7KcFAADRVKlQgWLv3r26MjFq1Cjp6OiQAwcOyLfffis9PT2SlpYW/FifzyeNjY0/+hzFxcV6G9DZ2WnqGgAAQKRUKgKBgGzevFkHiYaGBqmoqJDly5fr44NVVFQkfr8/uCUlJQ2l3wAAIBJDxdGjR6WpqUnuuuuu4DBHenq6HD9+XLxer7S0tAQ/Vs23yMzMHL4eAwCAyA0VGRkZ0tzcLF988YVu19XVycmTJ2XatGmyZMkS2blzpz6uJmqeOXNGCgoKhrfXAAAgMudUTJw4UV5++WV56KGHxO12S19fn2zfvl1XJLZu3aqHQtQtpbGxsVJWVsadHwAARKFBL37129/+Vm/XChzl5eWm+wUAACIMy8EBAAAjCBUAAMAIQgUAADCCUAEAAIwgVAAAACMIFQAAwAhCBQAAMIJQAQAAjCBUAAAAIwgVAADACEIFAAAwglABAACMIFQAAAAjCBUAAMAIQgUAADCCUAEAAIwgVAAAACMIFQAAwAhCBQAAMIJQAQAAjCBUAAAAIwgVAADACEIFAAAwglABAACMIFQAAAAjCBUAAMAIQgUAADCCUAEAAIwgVAAAACMIFQAAwAhCBQAAMIJQAQAAjCBUAAAAIwgVAADACEIFAAAIXahoa2uT2bNnB7ecnBzxer3S3t4ura2tsmjRIsnOzpYZM2bIwYMHzfQMAABEFO9gPig1NVWOHj0abL/wwgtSVVUlKSkp8uijj0p+fr689957Ul1dLQ888ICcOnVKYmJihrPfAADAhuGP3bt3y+rVq/X+vn37ZP369Xo/Ly9PJk+erAMHAACILoOqVFzp448/lo6ODrn33nv1sEhPT4+kpaUFz/t8PmlsbDTdTwAAhqw70CuXA33BdqzXLXFeT1j7FNWhQlUpVqxYoedUXI/i4mK9Dejs7LzelwYAYEh2VJ6UbRW1wfZThdnyzMKcsPbJJteVDFQQUMMdau7EwFwLFS5aWlqC1Yr6+nrJzMz80d8tKirS24D09PSh9x4AgOvwxIKb5a1jTXr/zQ3zdKUC5lzXv+bevXvl1ltvlenTpwePLVmyRHbu3Kn3Vdg4c+aMFBQUGOwiAABmqKEOj9ult+T4GIY+wlmpUEMfjz322FXHtm7dKsuXL9e3lMbGxkpZWRl3fgAAEIW81ztJ879NnDhRysvLTfYJAABEIAaTAACAEYQKAABgBKECAAAYQagAAABGECoAAIARhAoAAGAEoQIAABhBqAAAAEYQKgAAgBGECgAAYAShAgAAGEGoAAAARhAqAACAEYQKAABgBKECAAAYQagAAABGECoAAIARhAoAAGAEoQIAABjhNfNpAAxGd6BXLgf6gu1Yr1vivJ6w9gkATCFUACG0o/KkbKuoDbafKsyWZxbmhLVPAGAKoQIIoScW3CxvHWvS+29umKcrFQBgC0IFEEJqqMPjdun95PiYcHcHAIzibRIAADCCUAEAAIwgVAAAACMIFQAAwAhCBQAAMIJQAQAAjCBUAAAAIwgVAADACEIFAAAwglABAACMIFQAAAAjCBUAAMAIQgUAAAhtqOju7pYNGzZIdna2zJw5U5YtW6aP19bWyty5cyUnJ0fy8vLkxIkTZnoGAADsfPT5pk2bxOVyyVdffaX/bGlp0cfXrVsna9eulVWrVsnrr7+u/6yurh7OPgMAgEgNFRcvXpTdu3eL3+/XgUJJS0uT1tZWqampkfLycn1s8eLFuppRV1cnU6dOHd6eAwCAyBv+OHnypKSkpMiWLVtkzpw5Mn/+fKmoqJDTp0/LpEmTxOvtzyYqcGRmZkpjY+Nw9xsAAERiqAgEAtLQ0CC33HKLrky8+OKL8vDDD+vjg1VcXCzp6enBrbOzcyj9BgAAkRgqVPXB7XbLI488otu33Xab/PznP9dBo7m5ORguHMfRVQr18f+tqKhID58MbElJSaavBQAAjPRQMW7cOCksLJT3339ft0+dOqW3efPmSW5urpSVlenj+/fv11UI5lMAABB9Bn33x86dO2X16tWyceNGXbXYtWuX3HTTTfpPdceHmm8xevRoKSkpGd4eAwCAyA4VU6ZMkcrKyh8dnzZtmhw6dMh0vwAAQIRhRU0AAGAEoQIAABhBqAAAAEYQKgAAgBGECgAAYAShAgAAGEGoAAAARhAqAACAEYQKAABgBKECAAAYQagAAABGECoAAIARhAoAAGAEoQIAABhBqAAAAEYQKgAAgBGECgAAYAShAgAAGEGoAAAARhAqAACAEYQKAABgBKECAAAYQagAAABGeM18GgAAEG7dgV65HOgLtmO9bonzekL2+oQKAAAssaPypGyrqA22nyrMlmcW5oTs9QkVAABY4okFN8tbx5r0/psb5ulKRSgRKgAAsESc1yMet0vvJ8fHhPz1magJAACMIFQAAAAjCBUAAMAIQgUAADCCUAEAAIwgVAAAACMIFQAwSI7jSNflXrnQ1SPV9e26DeAHhAoAGAR/xyUpLK4S//kuae3slqWvfNLf7rgU7q4BIwahAgD+B1WRWLHnsDS09QcIVaDo6XV0e+Wew1QsgOsNFT6fT6ZNmyazZ8/W2969e/Xx2tpamTt3ruTk5EheXp6cOHFisJ8SACJCTUOH+Nu7pLfv6vCg2o3tl/R5WzDEg5At062ChAoUV1q3bp2sXbtWVq1aJa+//rr+s7q6ekidAoCRpP7cRfF6XHK598fnYjxufT7PlyKRTg3lqIqMGuJxuUQP8WSkJErpo3dI+tjEcHcPtg9/tLa2Sk1NjSxbtky3Fy9eLKdPn5a6ujpT/QOAsPONGyU9vT88TvpK6rg6H+kY4kHIQ8WKFStk5syZsnr1ajl79qwOEJMmTRKvt7/g4XK5JDMzUxobG3/0d4uLiyU9PT24dXZ2GrkAABhuc7LG6nfsAw9qGqDamSmJ+nyki6YhHoyAUHHw4EE5fvy4fPbZZzJu3DhZuXLldb1QUVGR+P3+4JaUlHQj/QWAkFNvmNQQQFZq/xCAGhqI8bjEl5oopavv1OdtGeK5loEhHsDYnApVgVBiYmLk6aef1hMzMzIypLm5WQKBgK5WqPKYqlIMfCwA2ELNKagoKpD5Wyv1kMf2R3J1hcKGQBEtQzwYIZWKixcvyvnz54Pt1157TW677TaZMGGC5ObmSllZmT6+f/9+PbQxderU4esxAISJChAJsR4ZnRCjJ2baEiiiZYgHI6RS8fXXX+tJmL29vboaMWXKFCktLdXndu3ape/42LJli4wePVpKSkqGu88AgGEa4lGTNf9z9qIe4vF+HyhsGeLBCAkVKkQcOXLkmufU2hWHDh0y3S8AQIjZPsSDEbZOBQAgOoZ4EsRjxdobCC2W6QZgDKsxAtGNUAHACB64BYBQAWDIWI0RgEKoADBkrMYIQCFUABgyVmMEoBAqAAwZqzECUAgVAIaM1RgBKIQKAEMWDQ/cAvC/sfgVACNYjREAoQKAMazGCEQ3hj8AAIARhAoAAGAEoQIAABhBqAAAAEYQKgAAgBGECgAAYAShAgAQNdQTc7su98qFrh6prm/nCbqGESoAAFHB33FJCourxH++S1o7u2XpK5/0tzsuhbtr1iBUAACspyoSK/Ycloa2/gChChQ9vY5ur9xzmIqFIYQKAID1aho6xN/eJb19V4cH1W5sv6TPY+gIFQAA69Wfuyhez7WfQxPjcevzGDpCBQDAer5xo/SD7q5FHVfnMXSECgCA9dQTczNSEsXjvrpaodqZKYn6PIaOUAEAiIon6JY+eodkpSZ+31bDHi7xpSZK6eo79XkMHY8+BwBEhfSxiVJRVCDzt1bqIY/tj+TqCgWBwhxCBQAgaqgAkRDrkQTxSJ4vJdzdsQ7DHwAAwAgqFRgxugO9cjnww+zsWK9b4ryesPYJADB4hAqMGDsqT8q2itpg+6nCbHlmYU5Y+wQAGDxCBUaMJxbcLG8da9L7b26YpysVAIDIQajAiKGGOgbuIU+Ojwl3dwAA14m3ggAAwAhCBQAAMIJQAQAAwhMqSkpK9OIhb7zxhm63trbKokWLJDs7W2bMmCEHDx400zMAAGBvqKivr5dXXnlF8vPzg8c2bdqk27W1tTpwLF26VHp6eoajr0DEcxxHui73yoWuHqmub9dtAIi6UNHX1ydr1qyRl156SeLi4oLH9+3bJ+vXr9f7eXl5MnnyZKmqqhqe3gIRzN9xSQqLq8R/vktaO7tl6Suf9Lc7LoW7awAQ2lBRXFws8+bNk9tvvz14rK2tTVcl0tLSgsd8Pp80Njaa6R1gCVWRWLHnsDS09QcIVaDo6XV0e+Wew1QsAERPqPj8889l//798txzz93wC6lQkp6eHtw6Oztv+HMBkaamoUP87V3S23d1eFDtxvZL+jwAREWo+Ne//qXnU6jJmKoS8cknn8jatWv10IfX65WWlpbgx6qPy8zM/NHnKCoqEr/fH9ySkpLMXgkwgtWfuyhez7UfrxzjcevzABAVoeLxxx+X5uZmHRjUpiZmvvzyy/r4kiVLZOfOnfrjqqur5cyZM1JQUDDc/QYiim/cKOnp/eFhaVdSx9V5AJBoX6Z769atsnz5cl3FiI2NlbKyMomJYYll4EpzssZKRkqinkNx5RCIWpY8MyVRnweAqAwVH330UXB/4sSJUl5ebrJPgHXU2i6lj96hJ2v+5+xFcblEvN8HitLVd+rzABDpWFETCJH0sYlSUVQg6WMSZEJSnPz1sXz5sKhAbhqTEO6uAbCEE+a1cAgVQAipikRCrEdGJ8RIni+FCgUAq9bCIVQAABDhnBGyFg6hAgCACFczQtbCIVQAABDh6kfIWjiECgAAIpxvhKyFQ6gAAMCStXA87qurFaFeC4dQAQCAJWvhZKUmft9Wwx4u8aWGdi2cIa+oCQAAwm9gLZz5Wyv1kMf2R3J1hSKUt64TKgAAsGwtnATx6LVwQo3hDwAAYAShAgAAGEGoAAAARhAqAACAEYQKAABgBKECAAAYQagAAABGECoAAIARhAoAAGAEoQIAABhBqAAAAEYQKgAAgBGECgAAYAShAgAAGEGoAAAARhAqAACAEYQKAABgBKECAAAYQagAAABGECoAAIARXjOfBqHQHeiVy4G+YDvW65Y4ryesfQIAYAChIoLsqDwp2ypqg+2nCrPlmYU5Ye0TAAADCBUR5IkFN8tbx5r0/psb5ulKhU0cx5Guy73S09sn1fXtMidrrLhcrnB3CwAwSHb9VrKcGurwuF16S46PsWrow99xSQqLq8R/vktaO7tl6Suf9Lc7LoW7awCAQSJUYERUKFbsOSwNbf0BwnFEenod3V6557A+DwAY+QgVCLuahg7xt3dJb9/V4UG1G9sv6fMAAItCxd133y2zZs2S2bNny/z58+XIkSP6eG1trcydO1dycnIkLy9PTpw4MZz9hYXqz10Ur+facydiPG59HgBgUajYt2+fHD9+XI4ePSpFRUWyatUqfXzdunWydu1a+eqrr2Tjxo3B48Bg+caN0pMzr0UdV+cBABaFijFjxgT3v/nmGz0rv7W1VWpqamTZsmX6+OLFi+X06dNSV1c3PL2FldRdHhkpiXoC6pVUOzMlUZ8HAFg2p2LFihWSkZEhv/vd7+Qvf/mLDhCTJk0Sr7f/zlQVNDIzM6WxsXG4+gsLqe+b0kfvkKzUxO/batjDJb7URCldfSe3lQKAjaGitLRUB4nNmzfroY7rUVxcLOnp6cGts7PzevsKi6WPTZSKogJJH5MgE5Li5K+P5cuHRQVy05iEcHcNADCcd3+sXLlSKisrdThobm6WQCCgj6tb/1SVQlUr/puah+H3+4NbUlLSjbw0LKYqEgmxHhmdECN5vhQqFABgY6g4f/68NDX1r+SovPHGG5KamioTJkyQ3NxcKSsr08f379+vg8bUqVOHr8cAACByl+lWEzOXLFkiXV1d4na7Zfz48fL222/rd5K7du3Sd3xs2bJFRo8eLSUlJcPfawAAEJmhIisrSw4fPnzNc9OmTZNDhw6Z7hcAAIgwrKgJAACMIFQAAAAjCBUAAMAIQgUAADCCUAEAAIwgVAAAACMIFQAAwAhCBQAAMIJQAQAAjCBUAAAAIwgVAADACEIFAAAwglABAACMIFQAAAAjCBUAAMAIQgUAADCCUAEAAIzwiiW6A71yOdAXbMd63RLn9YS1TwAARBNrQsWOypOyraI22H6qMFueWZgT1j4BABBNrAkVTyy4Wd461qT339wwT1cqAABA6FgTKtRQh8ft0vvJ8THh7g4AAFGHt/MAAMAIQgUAADCCUAEAAIwgVAAAACMIFRHEcRzputwrF7p6pLq+XbcBABgpCBURwt9xSQqLq8R/vktaO7tl6Suf9Lc7LoW7awAAaISKCKAqEiv2HJaGtv4AoQoUPb2Obq/cc5iKBQAguLp0b5+jt2+/69HtUCJURICahg7xt3fpb5IrqXZj+yV9HgCAHZUn5T/nLupt5vPluh1K1ix+ZbP6cxfF63HJ5WsEzhiPW5/P86WEo2sAgBG2uvSa+T8PtkO9ujShIgL4xo2Snt4fHpZ2JXVcnQcAIM7rCevDNBn+iABzssZKRkpicBnyAaqdmZKozwMAEG6Eigjgcrmk9NE7JCs18fu2GvZwiS81UUpX36nPAwAQbgx/RIj0sYlSUVQg87dW6iGP7Y/k6goFgQIAMFIQKiKIChAJsR5JEA8TMwEAIw7DHwAAIHSh4rvvvpP7779fcnJy5NZbb5WFCxdKXV2dPtfa2iqLFi2S7OxsmTFjhhw8eNBMzwAAgJ2VirVr18qXX34px44dk/vuu0/WrFmjj2/atEny8/OltrZWSkpKZOnSpdLT0zOcfQYAAJEaKuLj4+Wee+4JTgpUIaK+vl7v79u3T9avX6/38/LyZPLkyVJVVTWcfQaAqFwCGbByTsW2bdt0taKtrU1XJdLS0oLnfD6fNDY2/ujvFBcXS3p6enDr7OwcWs8BIMqWQAasu/tjy5Ytej5FRUWFdHV1DfrvFRUV6W2AChbAtd4FKupdoFpeNpwrwwEjbQlkYKS7rp+IF154QQ4cOCD//Oc/JTExUVJTU8Xr9UpLS0vwY9SwSGZm5nD0FZbjXSBGOhVyk+NjghuhF7jBSoUavnjttdfkww8/lDFjxgSPL1myRHbu3CnPP/+8VFdXy5kzZ6SgoGCwnxYI4l0gAERBqPD7/fLss8/KlClTZMGCBfpYXFycfPrpp7J161ZZvny5vqU0NjZWysrKJCYmZrj7DQuF+0E4AIAQhAo1/8Fx+se6/9vEiROlvLxcwk31r+tyr17Curq+nSWsAQAIMSvqy/6OS1JYXCX+813S2tktS1/5pL/dcSncXQMAIGpEfKhQFYoVew5LQ1t/gFAFlZ5eR7dX7jn8/1ZYAACAWREfKmoaOsTf3hW8FXGAaje2X9LnAQDA8Iv4UFF/7qJ4PdeeOxHjcevzAAAorIo6vCI+VPjGjdKTM69FHVfnAQBQWA9nhK2oOdKouzwyUhL1HIorh0A8bpdkpiTq8wAAKKyHM7wi/l9T3TZa+ugdkpWa+H1bDXu4xJeaKKWr7+S2UgBAEKuiDq+Ir1Qo6WMTpaKoQOZvrdRDHtsfyWWdCgAAQsyKUKGoAJEQ65EE8UieLyXc3QEAIOpE/PAHAAAYGQgVAADACEIFAAAwglABAACMIFQAAAAjCBUAAMAIQgUQQjx3AIDNCBVACPHcAQA2s2bxKyAS8NwBADYjVAAhpJ4zwLMGANiKt0kAAMAIQgUAADCCUAEAAIwgVAAAgrjtGUNBqABgDL+QIh+3PWMouPsDgPFfSIr6hfRUYbY8szAn3N3CdeC2ZwwFoSIC3wUq6l2g+mHn9kSMJPxCinzc9oyh4Cc+glCWxEinfhklx8cEN345AdGFSkUE4V0gAGAkI1REEMqSAICRjLe6AADACEIFAAAwglABAACMIFQAAAAjrAkVrOQHAEB4WRMqWMMBAIDwcjmO079E40948skn5R//+Ic0NDTIkSNHZPbs2fp4bW2trFy5Us6dOyc/+9nP5M9//rP88pe/HNQLp6eni9/vF1NUZeJyoC/YZrVJAADM+6nf34OqVPzmN7+Rf//735KVlXXV8XXr1snatWvlq6++ko0bN8qqVaskXFjJDwCA8BpUqLjrrrt0MrlSa2ur1NTUyLJly3R78eLFcvr0aamrqxuengIAADvnVKgAMWnSJPF6+xfldLlckpmZKY2NjSb7BwAAIkTIJmoWFxfrasfA1tnZGaqXBgAAIzlUZGRkSHNzswQCAd1W8z1VlUJVK66lqKhIT+wY2JKSkm681wAAwJ5QMWHCBMnNzZWysjLd3r9/v65ATJ061WT/AACATbeUqrs83nnnHWlpaZHU1FRJTk7WEzK//PJLfcdHW1ubjB49WkpKSmTmzJlhuaUUAAAMv5/6/T2oUDEcCBUAAEThOhUAAAD/C6ECAAAYQagAAABGECoAAIARhAoAAGAEoQIAABhBqAAAAEaEbZ2KuLg4GT9+vPHPq54pYvsS4LZfo+3XFw3XyPVFPtuvkeu7cWfPnpXu7u6RFSqGSzQsqmX7Ndp+fdFwjVxf5LP9Grm+4cHwBwAAMIJQAQAAjLAuVKhHrNvO9mu0/fqi4Rq5vshn+zVyfcPDujkVAAAgPKyrVAAAgPAgVAAAACOsChW1tbUyd+5cycnJkby8PDlx4oTY4sknnxSfzycul0uOHj0qtvnuu+/k/vvv11+7W2+9VRYuXCh1dXVim7vvvltmzZols2fPlvnz58uRI0fERiUlJfp79Y033hDbqJ/DadOm6a+h2vbu3Ss2UesPbNiwQbKzs2XmzJmybNkysUVbW1vw66Y29f+N1+uV9vZ2scm7774rubm5+hpnzJghr776auhe3LHIggULnJKSEr3/t7/9zZkzZ45ji6qqKuf06dNOVlaWc+TIEcc2XV1dzjvvvOP09fXp9ksvveQUFBQ4tuno6AjuHzhwwJk1a5Zjm1OnTjm/+tWvnPz8fOfvf/+7YxtbfwYHPP30086GDRuCP4vNzc2Orf70pz859957r2OTvr4+Z+zYsc6xY8eCP49xcXHOhQsXQvL61lQqWltbpaamJpiqFy9eLKdPn7bm3e5dd92lFzOxVXx8vNxzzz363a2Sn58v9fX1YpsxY8YE97/55pvg9dqir69P1qxZIy+99JJeNReR5eLFi7J79275/e9/H/zeTEtLE1upa129erXYxuVyyfnz5/X+hQsXJDU1NWQ/j16xhAoQkyZN0qWsgX/UzMxMaWxslKlTp4a7e7hO27Ztk/vuu09stGLFCqmsrAyWKW1SXFws8+bNk9tvv11spr6G6sa5O+64Q/74xz8OyyMHwuHkyZOSkpIiW7ZskQ8//FASEhLk+eefl8LCQrHNxx9/LB0dHXLvvfeKTVwulx6Se/DBB2XUqFH6Gg8cOCCxsbEheX1rKhWwh/oPTVWY/vCHP4iNSktLdQjevHmzbNy4UWzx+eefy/79++W5554Tmx08eFCOHz8un332mYwbN05WrlwptggEAtLQ0CC33HKLrvy++OKL8vDDD8vXX38tNlYpVDgceCNq09dw8+bNOkior2VFRYUsX75czp07F5oOOJb4+uuvneTkZKenpyc4rjRx4kSntrbWsYnt47lqjPP222+/au6BzeLj451z5845NtixY4eTlpamv0fVpsZxx48fr4/bqqmpyUlKSnJscfbsWcftdjuBQCB4TM1N++CDDxybfPvtt/rr9sUXXzi2qa6udrKzs686pr6G5eXlIXl9ayoVEyZM0LNdy8rKdFu9Y1JzEBj6iKzS+WuvvSYffPDBVXMPbKHGOJuamoJtdWeEGutU5WYbPP7449Lc3KznwqhNzYt5+eWX9XGb5hwMjFUr6vv1tttuE1uoyosa6nj//fd1+9SpU3r7xS9+ITZRwwPqLrPp06eLbTIyMvTP4RdffKHbquqrhrXUHUuhYFXdZ9euXbJq1SpdPh89erS+rc0W69atk3feeUdaWlrk17/+tSQnJ1szCVVRT9N79tlnZcqUKbJgwQJ9TE0s+vTTT8UWamLmkiVLpKurS9xutx6Hf/vtt62brGkzNQygJoH39vbqORXq+1UNZ9lk586devKiGppT36fq/9WbbrpJbBv6eOyxx8RGEydO1GH+oYce0l8/NXl6+/bteo5hKLBMNwAAMMKa4Q8AABBehAoAAGAEoQIAABhBqAAAAEYQKgAAgBGECgAAYAShAgAAGEGoAAAARhAqAACAmPB/sX2qFTUxVPsAAAAASUVORK5CYII="
=======
      "image/png": "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"
>>>>>>> 9e1e6ccbe64d4b33a15e259f670a628d5305612f
     },
     "metadata": {},
     "output_type": "display_data"
    }
   ],
   "execution_count": 7
  },
  {
   "cell_type": "code",
   "metadata": {
    "ExecuteTime": {
<<<<<<< HEAD
     "end_time": "2025-06-20T20:22:36.251823Z",
     "start_time": "2025-06-20T20:22:36.161143Z"
=======
     "end_time": "2024-07-16T13:34:08.110158Z",
     "start_time": "2024-07-16T13:34:08.046341Z"
>>>>>>> 9e1e6ccbe64d4b33a15e259f670a628d5305612f
    }
   },
   "source": [
    "# Calculate the weighted average of the inverse difference values.\n",
    "def w_avg(df, values, weights):\n",
    "    d = df[values]\n",
    "    w = 1.0/df[weights]**2\n",
    "    return (d * w).sum()/w.sum(), np.sqrt(1/w.sum())\n",
    "\n",
    "average, daverage = w_avg(df, 'ID', 'dID')\n",
    "print (average,daverage)\n",
    "\n",
    "plt.figure(figsize=(8, 6), dpi=80)\n",
    "plt.errorbar(df.index, df['ID'], xerr=0, yerr=df['dID'], fmt='o', capsize=2, capthick=1)\n",
    "npts=len(df)\n",
    "plt.errorbar(npts+1, average, xerr=0, yerr=daverage, fmt='o', capsize=2, capthick=1)"
   ],
   "outputs": [
    {
     "name": "stdout",
     "output_type": "stream",
     "text": [
      "25.833375713696633 4.474356063834456\n"
     ]
    },
    {
     "data": {
      "text/plain": [
       "<ErrorbarContainer object of 3 artists>"
      ]
     },
     "execution_count": 8,
     "metadata": {},
     "output_type": "execute_result"
    },
    {
     "data": {
      "text/plain": [
       "<Figure size 640x480 with 1 Axes>"
      ],
<<<<<<< HEAD
      "image/png": "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"
=======
      "image/png": "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"
>>>>>>> 9e1e6ccbe64d4b33a15e259f670a628d5305612f
     },
     "metadata": {},
     "output_type": "display_data"
    }
   ],
   "execution_count": 8
  },
  {
   "cell_type": "code",
   "metadata": {
    "ExecuteTime": {
<<<<<<< HEAD
     "end_time": "2025-06-20T20:22:37.203129Z",
     "start_time": "2025-06-20T20:22:37.199449Z"
=======
     "end_time": "2024-07-16T13:34:08.952509Z",
     "start_time": "2024-07-16T13:34:08.950421Z"
>>>>>>> 9e1e6ccbe64d4b33a15e259f670a628d5305612f
    }
   },
   "source": [
    "# Now, just do the same procedure for the other voltage values!\n",
    "\n",
    "# As you complete each voltage line analysis, add the extracted averages to the \n",
    "# csv file called FieldMapping_Averages.csv"
   ],
   "outputs": [],
   "execution_count": 9
  },
  {
   "cell_type": "code",
   "metadata": {
    "ExecuteTime": {
<<<<<<< HEAD
     "end_time": "2025-06-20T20:22:38.373768Z",
     "start_time": "2025-06-20T20:22:38.367391Z"
=======
     "end_time": "2024-07-16T13:34:09.911824Z",
     "start_time": "2024-07-16T13:34:09.905018Z"
>>>>>>> 9e1e6ccbe64d4b33a15e259f670a628d5305612f
    }
   },
   "source": [
    "dfavg = pd.read_csv(\"FieldMapping_Averages.csv\")\n",
    "\n",
    "df = dfavg.copy()\n",
    "df"
   ],
   "outputs": [
    {
     "data": {
      "text/plain": [
       "   Voltage  dVoltage  Average  dAverage\n",
       "0      2.0     0.001 -26.0884   4.31981\n",
       "1     10.0     0.001  25.8333   4.47400"
      ],
      "text/html": [
       "<div>\n",
       "<style scoped>\n",
       "    .dataframe tbody tr th:only-of-type {\n",
       "        vertical-align: middle;\n",
       "    }\n",
       "\n",
       "    .dataframe tbody tr th {\n",
       "        vertical-align: top;\n",
       "    }\n",
       "\n",
       "    .dataframe thead th {\n",
       "        text-align: right;\n",
       "    }\n",
       "</style>\n",
       "<table border=\"1\" class=\"dataframe\">\n",
       "  <thead>\n",
       "    <tr style=\"text-align: right;\">\n",
       "      <th></th>\n",
       "      <th>Voltage</th>\n",
       "      <th>dVoltage</th>\n",
       "      <th>Average</th>\n",
       "      <th>dAverage</th>\n",
       "    </tr>\n",
       "  </thead>\n",
       "  <tbody>\n",
       "    <tr>\n",
       "      <th>0</th>\n",
       "      <td>2.0</td>\n",
       "      <td>0.001</td>\n",
       "      <td>-26.0884</td>\n",
       "      <td>4.31981</td>\n",
       "    </tr>\n",
       "    <tr>\n",
       "      <th>1</th>\n",
       "      <td>10.0</td>\n",
       "      <td>0.001</td>\n",
       "      <td>25.8333</td>\n",
       "      <td>4.47400</td>\n",
       "    </tr>\n",
       "  </tbody>\n",
       "</table>\n",
       "</div>"
      ]
     },
     "execution_count": 10,
     "metadata": {},
     "output_type": "execute_result"
    }
   ],
   "execution_count": 10
  },
  {
   "cell_type": "code",
   "metadata": {
    "ExecuteTime": {
<<<<<<< HEAD
     "end_time": "2025-06-20T20:22:40.184255Z",
     "start_time": "2025-06-20T20:22:39.509229Z"
=======
     "end_time": "2024-07-16T13:34:11.089156Z",
     "start_time": "2024-07-16T13:34:10.618312Z"
>>>>>>> 9e1e6ccbe64d4b33a15e259f670a628d5305612f
    }
   },
   "source": [
    "xi = df['Average']\n",
    "yi = df['Voltage']\n",
    "sigmaxi = df['dAverage']\n",
    "sigmayi = df['dVoltage']\n",
    "\n",
    "##############################\n",
    "\n",
    "from scipy.odr import *\n",
    "\n",
    "def fitfunction(B, x):\n",
    "    '''Linear function y = m*x + b'''\n",
    "    # B is a vector of the parameters.\n",
    "    # x is an array of the current x values.\n",
    "    # x is in the same format as the x passed to Data or RealData.\n",
    "    #\n",
    "    # Return an array in the same format as y passed to Data or RealData.\n",
    "    return B[0]*x + B[1]\n",
    "\n",
    "linear = Model(fitfunction) # create a Model object based on the fitfuncion we have defined\n",
    "mydata = RealData(xi, yi, sx=sigmaxi, sy=sigmayi) # create a data object based on our data, include errors.\n",
    "myodr = ODR(mydata, linear, beta0=[1., 2.]) # create a fitting object, based on the data, fit Model, and an intial set of parameters.\n",
    "myoutput = myodr.run()  # run the fitting process to get optimized parameters!\n",
    "\n",
    "myoutput.pprint() # print out the result of the fit\n",
    "\n",
    "# Now assign the important fit results to some more convenient variables.\n",
    "\n",
    "popt = myoutput.beta # the vector of optimized parameters\n",
    "pcov = myoutput.cov_beta # the covariance matrix\n",
    "perr = myoutput.sd_beta # the vector of ERRORS in the optimized parameters\n",
    "\n",
    "# The following lines generate upper and lower 99% \"Confidence Bands\" on the fit, for visualization\n",
    "# purposes.\n",
    "\n",
    "ps = np.random.multivariate_normal(popt,pcov,10000)\n",
    "ysample=np.asarray([fitfunction(pi,xi) for pi in ps])\n",
    "\n",
    "lower = np.percentile(ysample,16.0,axis=0)\n",
    "upper = np.percentile(ysample,84.0,axis=0)\n",
    "middle = (lower+upper)/2.0\n",
    "\n",
    "print()\n",
    "print (\"Final Result: Y = (%0.9f +/- %0.9f) X + (%0.9f +/- %0.9f)\" % (popt[0],perr[0],popt[1],perr[1]))\n",
    "\n",
    "plt.figure(figsize=(8, 6), dpi=80)\n",
    "\n",
    "plt.errorbar(xi, yi, xerr=sigmaxi, yerr=sigmayi, fmt='o', capsize=2, capthick=1)\n",
    "\n",
    "plt.plot(xi,middle)\n",
    "plt.plot(xi,lower)\n",
    "plt.plot(xi,upper)\n",
    "\n",
    "#########################\n",
    "\n",
    "plt.xlabel('1/R1-1/R2 (meters$^-1$)')\n",
    "plt.ylabel('Voltage (Volts)')\n",
    "plt.title('Two Points')\n",
    "plt.show()"
   ],
   "outputs": [
    {
     "name": "stdout",
     "output_type": "stream",
     "text": [
      "Beta: [0.15407816 6.01965267]\n",
<<<<<<< HEAD
      "Beta Std Error: [1.63916132e-14 4.25618667e-13]\n",
      "Beta Covariance: [[0.0003406  0.00035343]\n",
      " [0.00035343 0.22963649]]\n",
      "Residual Variance: 7.888609052210118e-25\n",
      "Inverse Condition #: 0.0398400159993084\n",
=======
      "Beta Std Error: [9.07040558e-32 2.35518819e-30]\n",
      "Beta Covariance: [[0.0003406  0.00035342]\n",
      " [0.00035342 0.22963642]]\n",
      "Residual Variance: 2.4155189959136455e-59\n",
      "Inverse Condition #: 0.03984002233198974\n",
>>>>>>> 9e1e6ccbe64d4b33a15e259f670a628d5305612f
      "Reason(s) for Halting:\n",
      "  Parameter convergence\n",
      "\n",
      "Final Result: Y = (0.154078160 +/- 0.000000000) X + (6.019652669 +/- 0.000000000)\n"
     ]
    },
    {
     "data": {
      "text/plain": [
       "<Figure size 640x480 with 1 Axes>"
      ],
<<<<<<< HEAD
      "image/png": "iVBORw0KGgoAAAANSUhEUgAAAiQAAAG1CAYAAADJIe8LAAAAOnRFWHRTb2Z0d2FyZQBNYXRwbG90bGliIHZlcnNpb24zLjEwLjMsIGh0dHBzOi8vbWF0cGxvdGxpYi5vcmcvZiW1igAAAAlwSFlzAAAMTgAADE4Bf3eMIwAAbRlJREFUeJzt3Qd0lNX29/FveiGFUEIJvXeQ3otgQRRRQGxYQOyN3kGQ3qsgKih6bXQVG6h0kS4d6ZBGQhJCen/X8+SF/9VrQSVnUn6ftbIyM0nmbB/DzM7Z5+zjlJWVlYWIiIiIAzk7cnARERERixISERERcTglJCIiIuJwSkhERETE4ZSQiIiIiMMpIRERERGHU0IiIiIiDqeERETypEmTJnH77bc7OgwRuUmUkIgUcD4+Ptc/3N3dcXFx+dVjW7duzZFxN23ahJOT0/VxSpYsSa9evbh48eIN/fyIESP49ttv//Z46enp/yJqEckpSkhECrj4+PjrH0OGDKFNmza/esy6n5OuXLlij7N//35CQkLo3bt3jo4nIrmTEhIR+V2ff/45pUuXvn7/vffes2cY1q1bZ9+3Zhr8/Pyuz6BYicXTTz9NmTJlKFasGJ07d+bEiRM3PF6pUqV48MEH2bt37w0932uvvUbr1q2v32/fvj2vvPIKDz/8MP7+/pQtW5ZFixbZX7tw4YL985bChQvbMzJWycc6OWPMmDH2GL6+vvZna+ZFRMxTQiIiv8t6g798+TKHDh2y73/zzTdUrVr1eplk586d9ucWLVrYn62ZjZMnT7Jnzx47AahevTqdOnWyZz9uRHBwMB999BFNmzb9x8/37rvv8tRTTxETE8OcOXN48cUXOXXqFOXKleOrr7761YyMlXhs3LiRpUuXsmPHDuLi4jh48CD33HPPv7xyIvJPKCERkd9lzRg0b97cTkCsmQTrzXvKlCl2YmKxHu/QoQOurq6EhYXxxRdf2EmAtRbE29ub6dOnk5SUZD/+Z6zZj4CAAFq1akWlSpVYvnz5P36+7t27c+utt+Ls7GzfLlKkyPUZl99jrZlJTk7myJEj9nNb338twRIRs5SQiMgfsnaxWImHtb7DKnXcd9999kzC6dOn2bBhw/VdLtcWolauXPn6z7q5uVG+fHl7duPPWLMw1ozG+fPnef/99wkKCvrHz/ffJSZLoUKF7Hj/SLt27Zg2bZqdaJUoUYK2bdva/10iYp4SEhH5Q7fddpu9RsRaN3LHHXfYa0isxz755BN2795t37ZY6zUsVqJyjbXGxEoerHLJ33Wzn89izZr8nj59+rB582YiIyPp1q2bXbL5syRGRHKGEhIR+UNNmjTB09OTuXPnXp8NsT5bswpW0lCtWrXrC1LvuusuBg4cyKVLl+zyx9ChQ+2SSJcuXf72uDf7+SxW6cfy3wtjd+3axZYtW+znt57bKlNZSZe19VlEzFJCIiJ/OqvQsWNHEhMT7fUi1xKSq1evXp8ducYqt1SoUIGGDRvau1WsdRnWuhPrTf6fuNnPZyVPL730kv3fYZWfrDKNtbh1wIABBAYG2o8tWbKENWvW2GtWRMQspyxrtZqIiIiIA2mGRERERBxOCYmIiIg4nBISERERcTglJCIiIuJwSkhERETE4VzJYzw8PChevLijwxAREZG/wWo+mJKSkn8SEisZsQ7hEhERkbzD6if0Z1SyEREREYdTQiIiIiIOp4REREREHE4JiYiIiDicEhIRERFxOCUkIiIi4nBKSERERMThlJCIiIiIwykhEREREYdTQiIiIiIOp4REREREHE4JiYiIiDicEhIRERFxOCUkIiIiuUBmUhIFmRISERERB4v9/HNOdexE8i+/UFC5OjoAERGRgjwrEj5xIrErV+FavDiZ8QkUVEpIREREHCDl9GlCXu1PysmTFGrVitLTpuJatCgFlRISERERw66sXUv4uPFkpaRQ/NVXKfp0P5ycC/YqCiUkIiIihmQmJhL++gRi16zBtUQJgmbOwLtxY0eHlSsoIRERETHAKs0E9+9P6qnTFGrThtJTp+BapIijw8o1lJCIiIjkoKysLGJXryH89dfJSkuj+MABFO3bt8CXaH5LCYmIiEgOyUxIIHz8eGLXfYZryZIEzZqJd8OGjg4rV1JCIiIikgOST/xCiFWiOXMGn3btKDVlMq4BAY4OK9dSQiIiInKTSzRXVq7k0oSJZGVkEDh4MEWefEIlmr+ghEREROQmyYhPIPy117j6xRe4li5FmVmz8GrQwNFh5QlKSERERG6C5OPH7UZnqefO4XPrrZSeNBGXwoUdHVaeoYRERETk35ZoPvmUS5Mm2bcDhw2lyOOP4+Tk5OjQ8hQlJCIiIv9QRnw84WPGcPXLr3ALCiJo9iy86tVzdFh5khISERGRfyD56FG70Vna+Qv4dOpI6YkTcfH3d3RYeZYSEhERkb/BKsvEfPQREZOnkAWUGDGCgN6PqkTzLykhERERuUEZcXGEjRpN3Dff4FamDEGzZ+NVt46jw8oXlJCIiIjcgKRDhwkZMIC0ixfxvf12Sk14HRc/P0eHlW8oIREREfmrEs0H/+HStGlYRZkSo0cR8PDDKtHcZEpIRERE/kDG1auEjRxF3IYNuJUrl72LpnZtR4eVLykhERER+R1JBw8S0n8AaSEh+Ha+k1Kvv46Lj4+jw8q3lJCIiIj8tkSzfDmXZsy0yzIlXxtL4V69VKLJYTl+0s/LL79MhQoV7P+RBw4cuP74yZMnadmyJdWqVaNJkyYcOXIkp0MRERH5UxlXrhD84ktcmjwF99KlqfDJxwQ8+GCOJiNWArT7XDQr9ly0P1v3C6IcnyHp0aMHQ4YMoXXr1r96/JlnnuHpp5/miSeeYOXKlfbn3bt353Q4IiIivyvpwAGCBwwgPTQMvy5dKDluHC4+hXJ0zOCYRB5buouL0Ym4uTiTlpFJ2SLeLO/TlDIB3hQkOT5D0rZtW8qUKfOrxyIiItizZw+PPvqofb979+5cvHiRU6dO5XQ4IiIiv5Kcls6aYdM492hvMqKiKTl+HKVnTM/xZMSaCbGSkfNRiaRlZJGYmmF/tu4/vnSXQ2ZKUtIzmL3hF/tzgVhDYiUfpUqVwtU1e3hrKqxcuXJcuHCBKlWqOCIkEREpgNJjYggbOowaW7YQ7l+Cdzv1IzS4BMzekuNjJ6VmEHIlye72+t8yMrM4HZlAm6k/4OXugknW2GcuJ/BUm4p4uJodO9cvap01a5b9cU18fLxD4xERkfwhcd9+QgYOJD0sjO/KNGR9x96ke3gZG98qzziTScbvFCucnLK/7oXZpMCRHJKQlC1blrCwMNLT0+1ZEmtaypodsWZJfmvAgAH2xzW/Lf+IiIj8HVmZmUQvXUrE7Dk4ubkR8No4Zuz35lD/jvh6uhkKIovdXy3n4S3+v5uQuDo7seCRhjSpUAST4pLTqPvat+TLNSS/JzAwkIYNG/LBBx/Y91etWmUnGirXiIhITpdoLj77LBEzZuJeoQIVV3xKQI/uvNKpGu6uht4Sk67Ap4/R+KeXKetyBZffbOBxcXaiXBFvGpcPwDTrGrzSsaq5a/FfnLJyeNWMtZtm/fr1hIeHU7RoUXx9fe3FqydOnLB31kRFReHn58eyZcuoW7fuXz6flbgEBwfnZMgiIpIPJe7ZQ8jAQaRfuoR/t26UHDMaZ2/DO1lC9sKKJ+HKeajVjeC203jsP8d+tcvGSkaW921GUGFz5SMT/ur9O8cTkptNCYmIiPzdEk3UW28TOW8eTu7ulBwzhsL3dTMcRBbsXAQbxoCTM9w5GRr3sReLWG/De87HcO5yAhWKFbJnRvJjE7a/ev/O9YtaRURE/qn0qChChw4jYds2PKpWIWj2bDxMLw9IjIZ1L8CJL6FIZej5LpSqd/3LVvLRpEIR4+tFchslJCIiki8l7NpFqFWiiYzEv/v9lBw1Cmcvw2WQi7tgZR+IvQh1e8Lds8HD12wMeYQSEhERyVeyMjKIWrKEyPkLcPL0pPS0qfh37Wo2iMxM+HE+fDcenF2h63y4pXf2fl75XUpIREQk30i/fJnQIUNI2PEjHtWqETRnNh6VKpkNIiEK1j4LJ7+FYtWg53tQopbZGPIgJSQiIpIvJOzcScjgwWREXqZwz56UGDkCZ09Ps0Gc3wEr+0JcKNR/GLrMAPecbUGfXyghERGRPF+iubxoMZcXLrTXiJSeMQP/u7uYL9FsmwU/TAJXD+i2CBo8bDaGPE4JiYiI5FnWgtWQwUNI3LkTjxo1CJo9C4+KFc0GER8Jq/vBmR8gsFb2Lpri1c3GkA8oIRERkTwpYccOOxnJiIqi8IO9KDF8OM4eHmaDOLsFVj0F8Zeg4WNw51RwN9xsLZ9QQiIiInmvRLNwoV2msTqtWrMifp07mw0iMwO2TIfNU8HNG+5/G+r1NBtDPqOERERE8oy0SxGEDhpE4u7deNSqSZnZs3EvX95sEHHh2SUaa3akRN3sEk0xncX2bykhERGRPCF+6zZChw4lIzqagIcfJnDoEPMlmtPfw+qnISESGveFOyaBm+GdPPmUEhIREcnVstLT7SZnUW++ibOPD0Fz5uB35x1mg8hIh02TYevM7E6rPZZBnfvNxpDPKSEREZFcKy08nJBBg0jasxfPOnXs9SLuZcuaDeJqaHZvkQs7oFQD6LkMihhutlYAKCEREZFcKX7LFkKHDCXjyhUCevcmcPAgnN3dzQZxcgOseQYSo6DZs3Db+Ow+I3LTKSEREZFcJSstjch584h6622c/fwImj8Pv9tuMxtERhp8/zpsnwue/tDrP1DzbrMxFDBKSEREJNdICwsjZMBAkvbvx7NePYJmzcK9TJDZIK5czD6hN3gXBDWGHkshwPBOngJICYmIiOQKcT/8QNiw4WTExlLk8ccJHDgAJ9MlmuNfwtrnIPkKtHgROo4FV8MxFFBKSERExOElmojZc4heuhRnf3/KvLEQ31tvNRtEeipsfA12LgSvAHjoE6h+p9kYCjhnRwcgIiIFV1pICOcf7W0nI17161Np9SrzyUjMOVh2Z3YyUrY5PLvNeDISmxLLjN0zSMlIoaDSDImIiDhE3HffETpiJJlWiaZvHwJffRUnNzezQRz9DNa9CCmx0Lo/dBgJLmZjOBBxgMFbBhOeEE7VgKrcW+VeCiIlJCIiYlRWaioRM2cR/d57uFglmsWL8G3f3mwQ6Snw7SjYtQS8i8Ijq6BqJ6MhZGZlsuzwMubvn4+bsxvjW46na+WuFFRKSERExJjU4GB7F03ywYN4NWxI0MwZuJUqZTaIqNOw8kkI+xnKt4Lub4NfabMhJEUxcttItodup7J/ZWa0m0GVgIJ9Ho4SEhERMeLqhg2EWSWauDiK9utH8ZdfMl+iObwaPnsZUuOh7RBoNxRczL4V7g7fzdAtQ4lMiuS+KvcxvNlwvFy9KOiUkIiISI7KtEo002cQ8/77uAQEUHbJm/i0bWs2iLQk+Ho47F0GhQKh1/tQuYPREDIyM1hyaAmLf16Mh4sHk1pP4p7K9xiNITdTQiIiIjkm9eJFQl7tT/KRI3g1bkTQzJm4lShhNojLJ2HFE3DpMFRsB/e/Bb5mY4hMjGT41uH8FP4T1QOq2yWaCv4VjMaQ2ykhERGRHHH1628IGzWKzIQEij77DMVffBEnV8NvOz9/Al/0h/Sk7B00bQaCs4vREHaE7rCTkejkaHpV78XgJoPtGRL5NSUkIiJyU2WmpBAxdRoxH36IS5EilJ0zB5/WrcwGkZoIXw2G/R+AT0l45FOo0NpoCOmZ6bxx4A3ePvQ2hdwK2bMid1S4w2gMeYkSEhERuWlSz58nuH9/Uo4ew7tpU0pPn45biUCzQUQczy7RRB6Dyh3hvjfBp7jREKyeItbC1X0R+6hdtDbT202nrG9ZozHkNUpIRETkprj65ZeEjR5DZmIixZ5/nmIvPI+Ti9nyCPv/A+sHQkZq9jk0rV4FZ7NNybcEb2HEthF299VHaz5K/0b9cXfReTh/RQmJiIj86xLNpcmTufLxJ7gUK0a5+fMo1LKl2SBS4uHLQfDzR+AXBN3fgfItjIaQlpHG3H1zee/oe/i5+zGvwzw6lDO7kycvU0IiIiL/WMrZs4T0H0DK8eN4N29O0PRpuBY3Wx7h0pHsEs3lX6DqHXDfYvAuYjSEkPgQhmwewsHLB6lfvD7T206nlI/hhm95nBISERH5R2I//4LwsWPJTEqi2EsvUuzZZ82WaLKyYN978NVQyEyH2ydA8xeMl2g2nt/ImO1jiEuLo0+dPrx4y4t2K3j5e5SQiIjI35KZnMyliZO4smIFLsWLUe6NNyjUvJnZIJKvwhevwuFV4F8OeiyFsk2MhmCdzDtzz0w+Ov4RAR4BLOq0iNZBZnfy5CdKSERE5IalnDljNzpL+eUXe51I6WlTcS1WzGwQ1hk0Vokm+gzUuBvuXQBeAUZDuHD1AoM2D+JY9DEal2jM1LZTCfQ2vJson1FCIiIiNyR23TrCxo0nKzmZ4q++QtGnn8bJZHnEKtHsfhu+GZF9+86p0OwZcHIyFwPw1dmvGPfjOBLTEnm2/rM8U+8ZXJ31dvpv6QqKiMifstaIhE+YQOyq1bgGBlJ68SIKNW1qNojkWPjsJTi6DgIqQI9lENTQbAjpyUzZNYVVJ1dRzKsYczrMoXmp5kZjyM+UkIiIyB9KOXWKEKvR2clTFGrdOrtEU8TsDhZC9sKKJ+HKeah1L3SdD57+RkM4c+UMAzcP5NSVU3YSMrnNZDspkZtHCYmIiPyuK6vXEP7662SlplJ8wACKPtXXfInmp8Xw7WhwcoYuM6FxX+MlmnWn1jHxp4n2ItaXb3mZvnX74mzFIzeVEhIREfkVq9Nq+PjXiV27FtcSJQiaNRPvRo3MBpEYDetehBProUhl6PkulKpnNoS0RDsR+ez0Z/aC1UVtF9GohOHrUIAoIRERkeuSf/nFbnSWevo0hdq1pfSUKbgGmN3BwsXdsPJJiL0IdXrAPXPAw9doCCeiTzB4y2DOxp6lbZm2TGg1gQBPw9ehgFFCIiIiZGVlEbtqFeETJpKVlkbg4EEUefJJsyWazEz4cQF8Nw6sXSv3zIOGjxkt0VjXYeXJlUzdNZWMzAwGNR5E71q9VaIxQAmJiEgBl5mQQNi4cVz97HNcS5UiaOZMvBveYjaIhChY+xyc/AaKVcsu0ZSobTSE+NR4xv84nq/OfUXpQqXtE3rrFTdbJirIlJCIiBRgySdO2I3OUs+exadDB0pNmmi+RHP+R1jVF66GQP2H4K4Z4OFjNISjUUftRmcX4y7SsVxHxrUch7+H2Z08BZ0SEhGRAsgqTVz5dAWXJk0iKyODwKFDKfLE4ziZ3MFilWi2z4bvJ4KrB3RbBA0eNn4dPjz+od0C3jK86XAeqvGQ2esgNiUkIiIFTEZ8gn0o3tX163ErXdreRePVoIHZIOIjYc3TcPp7KF4zu0QTWMNoCLEpsYzdMZbvLnxHWd+ydommdlGzZSL5P0pIREQKkORjx7JLNOfP49OxI6UnTcTF33Bp4uxWWPUUxIdnL1q1WsC7exsN4WDkQQZvHkxoQih3VriTsS3G4uNutkwkv6aERESkoJRoPv6YS5On2LdLjBhOQO/ehks0GbBlBmyeAm7ecP/bUK+nufGtELIyWX5kOXP3zcXF2cVORLpX7a4STS6ghEREJJ/LiI8nbPRo4r76GregIILmzMarbl2zQcRdgtVPwdktUKJudommWBWjIcQkxzBq+yi2BG+hon9FZrSbQbWAakZjkD+mhEREJB9LOnLEbnSWduECvrfdRqmJE3Dx8zMbxOkfYHU/SIiExn3gjsng5mk0hL2X9jJkyxAiEiPoWrkrI5uNxNuapZFcQwmJiEg+ZJVlYv7zIRFTp9r3S4waRcAjD5stTWSkZ5dnrDKNtT7DOqG3zv3GSzRvH3qbhQcW4uHiYXdcvbfKvUZjkBujhEREJJ/JiIsjbOQo4r79FreyZQmaPRuvOoZ3j1wNzV64en47lKqfXaIpUsloCJeTLjNi6wh+DPuRKoWrMLPdTCoVNhuD3DglJCIi+UjSocOE9O9PWnAwvnfeSanXx+Pia/YcGE5uzN7SmxgFTZ+B21/P7jNi0M6wnQzbMoyo5Ch6VOvB0CZD8XQ1WyaSv0cJiYhIfinRvP8+l6bPwCrKlBw7hsIPPmi4RJMG30+A7XPA0x96fQA17zE3PpCemc7inxez5OASvFy9mNZ2Gp0rdjYag/wzSkhERPK4jNhYQkeOJH7jd7iVL0eZ2bPxrFXLbBBXLma3f7/4EwQ1yl4vElDeaAiXEi4xdOtQewFrzSI17UZn5f3MxiD/nBISEZE8LOngwexdNCEh+N11FyXHj8PFx3CDrxNfZR+MlxQDLV6EjmPB1d1oCNtCttnrRWJSYni4xsMMbDwQdxezMci/o4RERCSPlmii332PiJkzcXJ2puS4cRR+oKfZEk16Knw3Dn5cAF4B8NDHUN1seSQtM40F+xew9PBSfN19md1+Np3KdzIag9wcSkhERPKYjCtXCB0xkvjvv8e9QgW70ZlnDbPnwBBzDlb2gZC9ULYZdH8HCpc1GkJYfBiDtwzm58ifqVusrl2iCfIJMhqD3DxKSERE8pDE/fsJGTiQ9NAw/O65h5Jjx+LiU8hsEMc+h7UvQEostHoVbh0FLm5GQ/j+wveM3j6aq6lXeaL2E7x8y8u4GY5Bbi4lJCIieUBWZibRy5YRMXsOTi4ulJrwOv7dDZ/Bkp4C346GXW+Cd1F4ZBVUNVseSctIY9beWXxw7AMKexRmYceFtC3T1mgMkjOUkIiI5HLpMTGEDRtO/ObNuFeqZDc686xu+AyW6DOw4kkIOwDlW0H3t8GvtNEQLl69aJdojkQdoWFgQ6a2nUrJQiWNxiA5RwmJiEgulrhvHyEDBpIeHo7/vfdScsxonAsZLtEcXg2fvQyp8dB2MLQbBi5m3z6+OfcNr+14jYS0BPrV7cfzDZ7H1VlvYfmJ/m+KiOTSEk3U2+8QOXcuTm5ulJo0icL332c2iLQk+GYE7FkKhQKh1/tQuYPREFIyUpi+ezqfnPiEIp5FmNl+Ji1LtzQag5ihhEREJJdJj44mdOgwErZuxb1KZbvRmUfVqmaDuHwSVjwBlw5DxbZw/9vgW8JoCGdjzzJ482BOxJygWclmTG4zmeLexY3GIOY440BffvklDRs2pEGDBtSpU4f33nvPkeGIiDhc4p49nO12n52M+N9/PxU//dR8MnLwU3izHUQchfYjoPda48nI56c/p9cXvTh55aRdnnnztjeVjORzTllWdx0HsIYtWrQomzZtol69epw7d44aNWoQGRmJ758cBFWmTBmCg4ONxioiYqREs2QJkfPm4+ThkX0WTbduZoNITYSvhsD+98GnZPbC1YptjIaQmJbIlF1TWHNqDcW9itsLV5uUbGI0BskZf/X+7dCSjbVd7cqVK/btq1ev2gmKh4fZEyFFRBwtPSqK0CFDSdi+3Z4NsRqdeVSubDaIiOPZJZrIY1D5VrhvCfiYnZE4FXOKQZsHcTr2NK2CWjGp9SR73YgUDK6OTEY++eQT7r//fgoVKkRMTAyrV6/G3f3XZw/MmjXL/rgmPj7eAdGKiOSMhJ92ETpoEOmRkRTu2YMSI0bg7OVlNoj9/4EvB2X3Gek4Blr1B2dnozPma0+tZdJPk+xW8K82fJUn6zyJs5NDVxVIQSnZpKen06lTJ8aPH0/btm3ZvXs3Xbt25dChQxQrVuwPf04lGxHJD7IyMri8eDGXF76Bk6cnpca9hv8995gNIiU+OxH5+SPwLQ09lkL5FkZDsLbxvr7zddafWW/3FJnedjoNAhsYjUEKeMnmwIEDhIaG2smIpUmTJnaw+/fv57bbbnNUWCIiOS798mVCBg8m8cedeFSvbjc686hU0WwQl45kl2gu/wJV74Bui6BQUaMhHI8+bpdozl89T/uy7ZnQagL+Hv5GY5Dcw2EJSdmyZQkLC+PYsWPUrFmTU6dOcfr0aapXr+6okEREclzCzp2EDBpMxuXLFO7VixLDh+Hs6WkuAGtSfN/y7MWrmelw2+vQ4kXjJRqrr4jVXySTTIY0GcKjNR812wZfch2HJSQlSpRgyZIlPPDAAzg7O5OZmcmCBQsoV66co0ISEcnZEs3CN7i8aJG9RqT0zBn4d+liNoiUOPj8VTi8EvzLZZdoyprdwRKXGsfYHWPZcH6DfTLvjHYzqFOsjtEYJHdy2BqSf0prSEQkr0mLiCB00GASd+3Co2ZNysyehXuFCmaDCDuYXaKJPg3Vu0C3heAVYDSEw5cP2yWakPgQbit/G+NajsPX/Y/bPEj+kmvXkIiIFATx27fbW3ozoqIIePghAocOxdlkewPrb87db8M3I61mJ3DnFGj2rLXV0WAIWfbpvNYpvc44M6rZKB6o/oBKNPIrSkhERHJAVno6kQsWEPXmEpy9ve3eIn533mk2iORY+OwlOLoOCpeHnssgqJHREGJTYhm1fRSbLm6igl8FprebTo0iNYzGIHmDEhIRkZss7dIlQgcOstvAe9aqZScj7qbXx4Xsg5VPQsw5qHUvdJ0PnmZ3sByIOMDgLYMJTwinS6UujG4+mkJuhk8qljxDCYmIyE0Uv3UboUOGkBETQ8CjjxI4ZDDOv2n4mOMlmp8Ww7ejs8syd82AJk8ZLdFkZmWy7PAy5u+fj5uzG+NbjqdblW4q0cifUkIiInKzSjRz5xH11ls4+/oSNG8ufrffbjaIpBhY9yIc/wKKVIKe70Kp+kZDiEqKYuS2kWwP3U5l/8r2LpoqAVWMxiB5kxISEZF/KS08nJCBg0jauxfPunUJmjUT97JlzQYRvAdWPAmxF6BOD7hnDniY3cGyO3w3Q7cMJTIpkvuq3MfwZsPxcjXcBl/yLCUkIiL/QvzmzYQOHUbGlSsUefwxAgcOxMlkiSYzE3YuhI2vgbMr3DMXGj5utESTkZnBkoNLWHxwMR4uHvahePdUNtwGX/I8JSQiIv9AVloaEXPmEP3OUpz9/CizYD6+nTqZDSIxGtY8Cye/gWLVsks0JWobDSEyMZLhW4fzU/hPVA+obpdoKvgb7rEi+YISEhGRvyktNJSQAQNJOnAAz/r1CJo5C/cyQWaDuLATVvaBqyFQ/6HsxasePkZD2BG6w05GopOj6VW9F4ObDLZnSET+CSUkIiJ/Q9z3PxA6fDiZsbEUefJJAvu/ar5Es302fD8RXD3g3jfglkfMHg6Ymc4bB97g7UNv29t4rVmROyrcYTQGyX+UkIiI3ICs1FQiZs0m+t13cfb3p8wbb+B7awezQcRHwppn4PR3ULxmdokm0GyTMauniLVwdV/EPmoXrW03Oivra3gBr+RLSkhERP5CanAIIQMHkPzzQbwaNLB30biVLm02iHPbYGVfiA+HW3pD52ng7m00hC3BWxixbYTdfdU6nXdAowG4ubgZjUHyLyUkIiJ/Iu677wgdPoLMq1cp+lRfir/yCk5uBt+EMzNgywzYPAWsLbT3vwX1HjC7ZiYjjbn75vLe0ffwc/djXod5dChneHZI8j0lJCIif1CiuTRjBjHL38elcGHKvrkYn3btzAYRdwlW94Ozm6FEnewSTbGqRkMIjgtmyJYhHLp8iPrF6zO97XRK+ZQyGoMUDEpIRER+IzU4mJD+A0g+dAivhg2zSzQlS5oN4swmWNUPEiKgcR+4YxK4mW0ytvH8RsZsH0NcWhx96vThxVtetFvBi+QEJSQiIv/l6rffEjZyFJlxcRR9+mmKv/wSTq4GXyoz0mHzVNgyHdx9oMdSqNPd3PhASkYKM/fM5KPjHxHgEcCiTotoHdTaaAxS8CghERGxlmpYu2imTiPmP//BJSCAsm8twadNG7NBXA2DVX3h/PbsM2h6LIOilY2GcOHqBQZtHsSx6GM0LtGYqW2nEugdaDQGKZiUkIhIgZd64UJ2iebIEbwbN6b0zBm4lShhNoiTG2HN05AYBU2fgdtfz+4zYtBXZ79i3I/jSExL5Nn6z/JMvWdwtdrRixig3zQRKdCufv01YaNGk5mQQNHnnqX4Cy8YLtGkwQ8TYdts8PCHB96HWl3NjQ8kpyczZdcUVp1cRTGvYsztMJdmpZoZjUFECYmIFEiZKSlETJ1KzIcf4VKkCGXnzsGnVSuzQcQGZ7d/v/gTlG4IPZdBgNlzYM5cOcPAzQM5deUUzUs1Z3KbyXZSImKaEhIRKXBSz50juP8AUo4dw7tpU0rPmI5boOF1Eie+hrXPQlIMtHgROo4FV4Mt6IF1p9Yx8aeJ9iLWl295mb51++Ls5Gw0BpFrlJCISIESu3494aPHkJmURLEXXqDY88/h5OJiLoD0VPhuHPy4ADwLw0MfQ/XOZg8JTku0E5HPTn9mL1hd1HYRjUo0MhqDyG8pIRGRAiEzOZlLk6dw5ZNPcClWjHJvLKRQ8+Zmg4g5n12iCdkDZZpmb+ktbPYcmBPRJxi8ZTBnY8/StkxbJrSaQIBngNEYRH6PEhIRyfdSzpwlpH9/Uk6cwLtFc4KmTcO1eHGzQRz7AtY9D8mx0OoVuHU0GDwHJisri5UnVzJ111QyMjMY1HgQvWv1VolGcg0lJCKSr8V+/jlhY18jKzmZYi+/RLFnnjFcokmBDWPgp8XgXRQeWQlVbzN7SHBqPON/HM9X576idKHS9gm99YrXMxqDyF9RQiIi+ZK1RuTSpElcWbHSng0pvWgRhZo1NRtE9BlY8SSEHYByLaHHO+Bn9pTgo1FH7UZnF+Mu0rFcR8a1HIe/tb1YJJdRQiIi+U7K6dOEvNqflJMnKdSyJaWnT8O1aFGzQRxZA5+9DClx0HYwtBsGLq5GSzQfHv/QbgFvGd50OA/VeAgnJydjMYj8HUpIRCRfubJ2LeHjxpOVkkLxV1+l6NP9cHI2uE4iLRm+GQF73oFCxeGB96DyrWbLVCmxjN0xlu8ufEdZ37LMaDeDWkVrGY1B5KYnJKdPn+att97i+++/Jzg4GC8vL+rXr0+PHj144IEHcDXZ0VBE5A9kJiYSPmEisatX4xoYSNCSN/Fu0sRsEJdPwYon4NIhqNAGur8NvmZPCf458meGbB5CaEIod1a4k7EtxuJjHdInkss5ZVnzen/gmWeeYd++ffTs2ZMWLVpQsmRJkpOTOXbsGF9//bX9tcWLF9Pc4Na5MmXK2ImRiMg1VmkmuH9/Uk+dplCbNpSeOgXXIkXMBnFwBXzxKqQlZpdn2g4CZ3OLZzOzMll+ZDlz983FxdmFYU2H0b1qd5VoJNf4q/fvP53e6Nq1K2+++eb/PF63bl17diQqKsqeQRERcZQrq9cQPn48WWlpFB84gKJ9+5ot0aQmwtdDYd9y8CmR3eisotlTgmOSYxi5bSRbQ7ZS0b+iXaKpFlDNaAwi/9afJiRdunT50x8uWrSo/SEiYpp1GF74+NeJXbcO15IlCZo1E++GDc0GEXkiu0QTcTR7nch9S8DHbH+TvZf2MmTLECISI+hauSsjm43E283baAwiN8MN/RkxZswYrly5Yq/atpKUYsWKsWrVqpsSgIjI35V84hfO9nzATkZ82rWj4prV5pORAx/CkvYQeTy7ydkjq4wmI1aJZsnBJfT5pg9xqXF2x9WJrScqGZH8nZCsW7eOwoULs3HjRnsR6/bt25kwYULORyci8l+sP4qurFzJuQceIPXCBQIHD6bMojdwDTDY+jw1AdY8B2ufyz6L5on1/3+9iLky0eWkyzy74Vnm759P5cKV+bjLx9xb5V5j44vkhBvaIuP8//+hbd682V7gWr16dS2UEhGjMuITCB83jquff45r6VIEzZyJ9y23mA3i0lFY8Thc/gWq3g7dFkMhs2XrnWE7GbZlGFHJUfSo1oOhTYbi6eppNAYRhyUkhQoVYurUqXz88cf27Ij1V0pqamqOBCQi8lvJx4/bjc5Sz53Dp0MHSk+ehEvhwuYCsDYjWotWvxoCmelw23ho8ZLRWZH0zHQW/7zYLtN4uXoxre00Olc0e0qwiMMTknfffZcFCxYwbdo0SpQowalTp3j00UdzNDAREbtE8+kKLk2cSFZmJoHDhlLk8cfNztBanVa/6A+HVoB/2ewTesuabUF/KeESQ7cOtRew1ixS0z6LprxfeaMxiOSKhGTLli3MmTPn+v0qVaoQGBiYk3GJSAGXER9P+JixXP3yS9xKlyZo9iy86tc3G0TYwexdNNGnofpdcO9C8Dbb32Rr8FZ7S29MSgwP13iYgY0H4u7ibjQGERNuaL7Rmh35rYULF+ZEPCIiJB89ytnu3e1kxKdTR3sXjdFkxCrR7H4b3u4EVy7AnVPgwQ+NJiNpmWnM2juL5797nvSsdGa3n83wZsOVjEjBnCHZtWsXP/74I5GRkcybN+/647GxsaSkpJiIT0QKWonm44+5NGkyVgvpEiNGEND7UbMlmuTY7EPxjq6FwuWh5zIIamR2YiY+jMFbBttt4OsWq2uXaIJ8gozGIJKrEpKwsDAOHDhAYmIi+/fvv/64n5+fva5ERORmyYiLI2z0GOK+/hq3MmWySzR165oNImQfrHwSYs5Bza7QdT54GVw8C3x/4XtGbx/N1dSrPFH7CV6+5WXcXNyMxiCS686yuearr76ic+fcsZpbZ9mI5D9Jh48Q0r8/aRcv4nv77ZSa8Doufn7mArBeBn96E74dBdZszB2ToMlT2bcNScvILtF8cOwDCnsUtpuctS3T1tj4Irn6LJvPPvvsd2//91k3IiL/lPX3UMx/PiRi6lT7fonRowh4+GGzJZqkGFj3Ihz/AopUgp7vQimzi2cvXr1ol2iORB2hYWBDpradSslCZk8JFnG0P01IZs+e/Ydfs14wlJCIyD+VcfUqYSNHEbdhA27lymWXaGrXNhtE8B5Y8STEXoA63eHuOeBpcGYG+ObcN7y24zUS0hLoV7cfzzd4HlfnG9oAKZKv/Olv/Q8//GAuEhEpMJIOHSKk/wDSgoPx7XwnpV5/HRcfH7Mlmh8XwMbXwHrztxKRRk8YLdGkZKQwffd0PjnxCUU8izCz/Uxalm5pbHyR3OaG0/AVK1awYcMG+/Ydd9xB9+7dczIuEcmvJZr33+fS9Bn2LGvJ18ZSuFcvsyWaxOjsc2h++RqKVs0u0ZSsY2584GzsWQZtHsQvMb/QrGQzJreZTHFvs6cEi+TJhGT8+PGsXbuWxx57zH7hmDx5MseOHWPUqFE5H6GI5AsZsbGEjhxJ/MbvcC9fnqA5s/GsWdNsEBd2wsq+cDUY6j0IXWaCh8GZGeDz05/z+s7X7RkSqzzzdN2ncXF2MRqDSJ7dZVOvXj127tyJt3f2sdYJCQm0aNGCgwcPYpp22YjkPUk//5xdogkNxa9LF0qOG4eLTyFzAWRmwvY58P0EsBqLdZkBDR4xWqJJTEtk8q7JrD21luJexe2Fq01KNjE2vkie3mVzjZWzXEtGrh22dwN5jIgUcNbrRPS77xExcyZOLi6UHD+Owj17mi3RJFyGNc/AqY1QvAb0fA8Ca5gbHzgVc8ou0ZyOPU2roFZMaj3JXjciIn8zIWnatCm9e/emX79+9v133nnHfkxE5I9kXLlC6PARxP/wA+4VK2aXaKpXNxvEuW2w6imIC4NbHoXO08H9//64MpGQWTMik36aZLeC79+ov93szNnJ3CnBIvmiZGO1jC9evLhdorHWkXz33Xf24506dWL06NH2TIlpKtmI5H6J+/YTMnAg6WFh+HW9h1Jjx+Js8vUiMwO2zoRNk8HVC+6eDfV7mRvfmphJS7DXiqw/s97uKTK97XQaBDYwGoNIvinZVKxY0d5R89RTTzFlyhSz06wikudkZWYSvWwZEbNm4+TmRqmJE/C//36zrx1xl2B1Pzi7GUrUgR7LoHg1c+MDx6OP2yWa81fP075seya0moC/h7/RGETymj+dNzx79iwtW7Zk8ODBlCtXzp4VsR4TEfmt9JgYLj73HBHTZ+BeoQIVPv2Ewt27m01GzmyCxa2zk5FGT8JTG40mI9aE88fHP+aR9Y8QEh/CkCZDmNdhnpIRkX+bkFjlmoEDB3L48GG7D0lERAQNGzbk1ltv5cMPP7yR5xeRAiBx717OdruPhM1b8O/WjYorPsWzWjWzJZofJsHybpCWBN3fgXvmgJuXsRCsw/AGbh7IxJ8m2j1F3u/8Pr1r9dbMssjN3Pb736wZkl69erF3714yMjIwTWtIRHJXiSbq7XeInDsXJ3d3So4eTeH77zMbxNWw7IWr57dByXrZjc6KVjYawuHLh+0SjTUrclv52xjXchy+7r5GYxDJ7f7q/fuGlnpbiYd1uF63bt245ZZbqF69+vUFriJSMKVHR3PxmWeJnDULj0oV7VkR48mItZXXKtFYyUjTp6HvBqPJiPX33PIjy+n9VW8iEyMZ1WwUM9vNVDIi8g/86aLWo0ePsnTpUj744APKli1Lnz59eO+99/D3Vz1UpCBL3L2bkIGDSI+IwL/7/ZQcNQpnL3PlETLS4YcJsG02WOszHlgOte41Nz4QmxLLqG2j2BS8iQp+FZjebjo1ipjtbyJSYBKSNm3a8Oijj/LNN99Qv77Z47hFJJeWaJYsIXLefJw8PSk9dQr+95pNBIgNzm7/fnEnlG4IPZdBQAWjIRyIOMDgLYMJTwinS6UujG4+mkJu5tsgiBSYhCQ0NBQPDw9z0YhIrpV++TKhQ4aSsGMHHtWq2Y3OPCpVMhvEL99kd11NioHmL0Cn18DV3djwmVmZLDu8jPn75+Pm7Mb4luPpVqWbFq6K3AR/uoakf//+f7gAxaqdrlq1SrttRAqAhJ0/cea+++xkxGr9bm3pNZqMZKTBNyPhwwesFx948CO4c5LRZCQqKYrnNz7PnH1z7BLNR10+4r6q9ykZETExQ3LXXXfZHwEBATRr1owSJUqQnJzMiRMn2L59u/01q4OriORPWRkZXF68mMsL38DZKtFMn47/PXebDSLmPKzsAyF7oExT6PEOFC5nNITd4bsZumUokUmR3FflPoY3G46X1QFWRMxu+922bRubNm2yZ0usQ/as03/vvvtuihUrhmna9itiRnpkJCGDh5C4cyceNWoQNHsWHhUrmg3i2Bew7nlIjoVWr8Cto8HFzdjwGZkZLDm4hMUHF+Ph4mGvFbmn8j3GxhfJT/7q/ftv9yFxNCUkIjkv4ccf7WQk4/JlCj/YixLDh+Nscj1ZegpsGAs/LQKvInDfm1DtdnPjW2d5JUYybOswdoXvonpAdWa0m0EFf7OLZ0Xyk391lk1OS0lJsTvBWrt4PD097Z081hZjEXFgiWbhG1xetAhnb2+CZs3E7667zAYRfRZWPAFhB6Bci+yuq/5BRkPYEbKD4duGE50cTa/qvRjcZLA9QyIiOcehCcmwYcPsBWG//PKL/Tk8PNyR4YgUaGmXIggdPJjEXbvwqFWTMrNn416+vNkgjqyFz16ClDhoMwjaDwcXcy9T6ZnpvHHgDd4+9La9jdeaFbmjwh3GxhcpyByWkCQkJPDOO+/Y0zfXVqmXLFnSUeGIFGjx27YTOmQIGdHRBDz8MIFDh5gt0aQlwzcjYM87UKg4PPAeVL7V3Phg9xSxFq7ui9hH7aK17UZnZX3LGo1BpCC7odbxlrCwMHthqyU9PZ3U1NR/NfDp06cpUqQIkyZNonHjxnYTtt9rRz9r1iy77nTtIz4+/l+NKyL/Jys9nYg5c7jYrx9ZqakEzZlDyTGjzSYjUafhnU7ZyUiFNvDsNuPJyJbgLfT4vIedjDxa81H7YDwlIyK5MCFZuXIlzZs354knnrDvHzlyxD7X5t+wkprz589Tq1Yt9uzZw7x58+xD+y5duvSr7xswYIA9i3Ltw8fH51+NKyLZ0i5d4vwTTxC1+E08a9Wi4upV+N1puDxxaCW82RbCD2eXZx5bB77mZkrTMtKYsXsGL3z3gt1baV6HeQxtOhQ3gzt5RORvlGwmT57Mvn376NSpk33fWnxqJRP/Rrly5XB2duaRRx6x71uH9lWsWJFDhw7Z/U5EJOfEb91qd13NiIkhoHdvAgcPwtndXJMx0pLgqyGwbzn4lICHPoKKbc2NDwTHBTNkyxAOXT5E/eL1md52OqV8ShmNQUT+ZkLi4uJC0aJFf/WY+7988bJ6mHTs2NHeYWM1WDt79qz9UbNmzX/1vCLy5yWayLnziHrrLZx9fQmaNxe/281upyXyRPYumoijUKkD3L8EfAKNhrDx/EbGbB9DXFocfer04cVbXrRbwYtILk9IfH197VLKtcWn1loPa/3Hv7V48WL69u3L0KFD7dmSN998k6Ags9v7RAqKtLAw+4TepH378Kxb12505l6mjNkgDnwE6wdAenJ2k7PWA8D5hpey/WspGSnM3DOTj45/RIBHAIs6LaJ1UGtj44vIv0xIpk6dSufOnTlz5gytW7e2ZzLWr1/Pv1WpUiV++OGHf/08IvLn4jZtImzoMDJiYyny+OMEDhyAk8kSTWoCfDkYDvwHfEtnt38v39Lc+MD5q+cZvHkwx6KP0bhEY6a2nUqgt9mZGRH5lwmJtQvGShx27NhhL/xq2bIlhQsXvpEfFREHykpLs3fRRL+zFGc/P8osXIBvx45mg7h0NLtEc/kEVLktu+tqoV+XgHPal2e+ZNyP40hKT+LZ+s/yTL1ncHV2aBsmEfmNG/4X6e/vb8+SiEjekBYaSsiAgSQdOIBX/fp211U3kyVR61SK/e/Dl0MgIxVuGw8tXjJaoklOT2bKrimsOrmKYl7FmHfrPJqVamZsfBG5yQmJtb7jt0dsWwlKixYtWLhwIRUq6HwHkdwk7vvvCR0+gkyrRNOnD4H9X8XJzeCiTavT6hcD4NCn4F8WeiyFsk3NjQ+cuXKGgZsHcurKKVqUasGkNpPspERE8nBCMn78eLtvSL9+/ez7VodV6xwaa3vuM888Y++UERHHs5qbRcyaTfS77+Li70+ZRW/g26GD2SDCD2WXaKJOQfW74N6F4P3vF8H/HetOrWPiTxPtRawv3/Iyfev2xdnJ3MyMiPx9N3Tar7WGxGpe9nuP1alTh8OHD2OKTvsV+X2pwSGEDBhA8sGDeN1yS3aJppTBvhrWS8mepfD1cMjKzC7RNH8OfjO7mpMS0xLtROSz05/ZC1antZ1GoxKNjI0vIjl82m9cXByRkZEUL17cvm/dth6zuJmcBhaR3xW3cSOhI0aSefUqRfs9RfGXXzZbokmOhc9fgSNroHA56PkuBJlNBE5En2DwlsGcjT1L2zJtmdBqAgGeAUZjEJF/7oYSEqt9u9Wd9dqiVqtEM2rUKPtcmVatWv2L4UXk35ZoLs2YQczy93EpXJiyby7Gp107s0GE7ocVT0LMWah5D3RdAF7mduFZk7wrT65k6q6pZGRmMKjxIHrX6q0SjUh+LNlYrLLMtZ4hHTp0sEs1jqCSjUi21IsXCek/gOTDh/Fq1IigmTNwM3litvXSsWsJfDsq+/4dk6DJU0ZLNPGp8fZ23q/PfU3pQqXtE3rrFa9nbHwRMVyysVgJiKOSEBH5tavffEvYyJFkxsdT9JlnKP7Sizi5GuyrkRQD616E419AQMXsEk3pBubGtw75jDpiNzq7GHeRjuU6Mq7lOPw9/I3GICI3zw29gkVERDB27Fh+/vlnkpOTrz9uHbgnIuZkWrtopk4j5j//waVIEcq+9RY+bQy3Pg/eCyufgCsXoPb9cM9c8PQzNrw1qfvh8Q/tFvCW4U2H81CNh/6nNYGI5C03VGS1zpuxeo1cvnyZcePGUbp0abp06ZLz0YnIdannz3P+wYfsZMS7SRMqrlljNhmxSjQ7FsDS2yHuEtw9J7u/iMFkJDYllv6b+tvNzkoWKskHd33AwzUfVjIiUlDWkDRo0IADBw5Qt25dDh06RGpqKu3atePHH3/ENK0hkYLo6ldfETZqNJmJiRR77lmKPf+82RJNYjSsfR5++QqKVs0u0ZQ0W8L9OfJnhmweQmhCKJ0rdGZMizH4uPsYjUFEHLyGxP3/H8Ll6elJVFQUAQEB9myJiOSszJQULk2ZwpWPPsalaFHKzZ9HoZZmD6Xjwk+wsg9cDYZ6vaDLLPAwlwhkZmWy/Mhy5u6bi4uzC2NbjKV71e6aFRHJZ24oIalWrZqdiDz66KM0a9YMPz8/GjVSsyGRnJR67hzB/QeQcuwY3s2aUXr6NNwCDZ5Om5kJO+bCd6+Di3t2x9UGjxjdRROTHMPIbSPZGrKViv4VmdFuBtUCqhkbX0Ry4bbfa7Zv305MTIzdk8TFxQXTVLKRgiD2i/WEjxlDZlISxV54wS7TOJn895ZwGdY8A6c2QvEa2SWawJrmxgf2XtrLkC1DiEiMoGvlroxsNhJvN2+jMYiIuffvG1rU+vzzz1+/bTVCu/vuu3nppZduToQicl1mcjJhY8YSOmgQToW8KbdsKcVffMFsMnJuOyxunZ2MNHgU+n1vNBmxmpstObiEPt/0IS41zu64OrH1RCUjIvncDZVsdu7c+T+P7dixIyfiESmwUs6cJaR/f1JOnKBQyxaUnjYN12IGT6fNzICts2DTJHD1gvvehPoPmhsfuJx0meFbh7MzbCdVA6oyo+0MKhWuZDQGEcmFCcknn3zCxx9/zNmzZ7n//vuvPx4bG4uPj1a3i9wssZ99Rthr48hKTqb4Ky9T9Omnzc6KxEfA6n5wZhME1s4u0RQ3u1bDSkKGbRlGVHIUPar1YGiToXi6ehqNQURyaUJSo0YN7r33XrsBmvX5GmtRa8eOHU3EJ5KvWWtEwidOJHblKlyLF6f04kUUatrUbBBnNsOqpyAhAho9AXdOATcvY8OnZ6az+OfFdpnGKstYJ/R2rph9bpaIFBw3tKj1v0/6dTQtapX8IuX0aUJe7U/KyZMUatWK0tOm4lq0qNkSzeapsHkauBfK7rhat4e58YFLCZcYunWovYC1ZpGa9i6acn7ljMYgInmgD4l1yu+fmTVr1j+PTKQAu7JmLeHjx5OVkkLx/v0p2u8pnJwNnk57NSy7RHNuK5Ssl12iKVrZ3PjA1uCt9pbemJQYHq7xMAMbD8Td2l4sIgXSnyYk/v46qErkZrI6rYa/PoHYNWtwLVHCPqHXu3Fjs0Gc+g5WPw2Jl6FJP7h9AriZW6uRlpnG/P3zWXZ4Gb7uvsxuP5tO5TsZG19E8kkfEkdTyUbyKqs0E9y/P6mnTlOobRtKT52Ka0CAuQAy0uGHibDN6rTqD/fOh1r/tzbMhND4ULu3iNUGvm6xukxvN50gnyCjMYhIHu5DEhcXxwsvvGB3bLU+rB4k1mMi8tesnP/KqlWc7fkAqWfPEThoIGUXLzabjMSGwHt3ZycjpRvCM5uNJyPfX/ienp/3tJORJ2o/wXt3vqdkRET+Xh8SqzGat7c3n376qX1+xJtvvmk/9v777+d8hCJ5WGZCgr1WJHbdZ7iWLEnQrJl4N2xoNohfvoE1z0JSNDR/HjqNA1dzazVSM1KZvXc2Hxz7gMIehVnYcSFty7Q1Nr6I5KOE5ODBg/z888/X77/xxhvUr18/J+MSyfOST/xiNzpLPXMGn/btKTV5kuESTRp8Nw52zAdPf3jwQ6jRxdz4wMWrFxm0ZRBHo47SMLAhU9tOpWShkkZjEJF8lJBkZGTYJRpfX1/7fnx8vP2YiPxBiWbFCi5NnERWRgaBQ4ZQ5MknzJ5Oe+VC9gm9wbuhTBPosRQKm91O+825b3htx2skpCXQr24/nm/wPK7ON/SSIyIF0A29Ojz++OM0b96cXr162fet0s2TTz6Z07GJ5DkZ8QmEv/YaV7/4AtfSpSgzaxZeDRqYDeL4elj7HCTHQsuXoeMYcHEzNnxKRgrTd0/nkxOfUMSzCDPbz6Rl6ZbGxheRfLjLZu3atdxzzz32qb5ff/01GzdutB/v1KkTd955J46gXTaSWyUfP243Oks9dw6fW2+l9KSJuBQubC6A9FTYMAZ+WgReReC+xVDtDnPjA2djzzJo8yB+ifmFZiWbMbnNZIp7546miiLiWH/1/v2nCUmDBg0IDw/nscceo2/fvlSvXh1HU0IiubJE88knXJo02b5dYtBAAh57zGyJJvosrHwSQvdDuRbQ/R3wN7uD5fPTn/P6ztftGZJn6z/L03WfxsXZ4Hk8IpJ/O7UeOHCAPXv2sGzZMlq0aEGtWrV46qmneOCBB+xdNyIFXUZ8POFjxnD1y69wCwoiaM5svOrWNRvEkbXw2UuQEgdtBkL7EeBibq1GYloik3dNZu2ptRT3Km7vomlSsomx8UWkgDVGS0lJYdWqVXZysnv3bjspWbJkCaZphkRyi+SjR+1GZ2nnL+B7WydKTZyIi5+fuQDSkuHbkbD7bfAuBvcvgSpmD708FXPKLtGcjj1Nq6BWTGo9yV43IiJyU2dI/puHh4edhHh6ehITE8PHH3/skIRExNGsHD7mww+JmDLVvl9i5EgCHn3EbIkm6jSseBzCD0GFNtD9bfAtafQarDm1hsk/TbZbwfdv1N9udubsZPA8HhHJV24oITl8+DDvvPMOH374IVWqVOG55567vuNGpCDJiIsjbNRo4r75BreyZQmaPRuvOrXNBnFoJXz+CqQmQLth0G4IGFyrYW3jtdaKrD+z3u4pMr3tdBoEGt5JJCIFKyGxGqAtXbrUnmLp3bs3mzZtombNmuaiE8lFkg4dJmTAANIuXsT3jjsoNeF1XP5/bx4j0pLgq6Gw7z3wKZHd6KxSO7M7iqOP2yWa81fP075seya0moC/dS6OiEhOJiTr169nxIgRdO3aFVdXNTSSAlyief8DLk2fjlWUKTFmNAEPPWS2RBP5C6x4AiKOQKX2cP9b4BNo9BpYfUWs/iKZZDK0yVAeqWm4TCUiBTshESnIMq5eJWzkSOI2bMStfDnKzJ6NZ61aZoM48BGsHwDpyXDrKGg9EJzNrdW4mnrV7ri64fwG+zC8Ge1mUKdYHWPji0jBoGkPkT+QdPAgIf0HkBYSgt9dnSk5fjwuPj7mArDWiHw5GA78B3xLQfeVUKGVufGt9WOXD9slmpD4EG4rfxvjWo7D191gmUpECgwlJCK/U56Ifu89ImbOsksSJV97jcK9HjBbnog4ll2iiTwOVTrBfW9CoWJGr8H7R99n9r7ZOOPMqGajeKC64WsgIgWKEhKR/5Jx5QqhI0YS//33uFeoYDc686xRw1wAVlug/R9kz4xkpEKncdnn0Rgs0cSmxDJq2yg2BW+igl8FprebTo0iBq+BiBRISkhE/r+kAwcIHjCA9NAw/O6+254ZcfEpZC4Aq9PqFwPg0KfgVyb7hN5yzcyND+yP2M+QLUMITwinS6UujG4+mkJuBq+BiBRYSkikwMvKzCR62btEzJ6Nk4sLJV8fT+EePcyWJ6wGZ1aJJuoUVOsM3d4Ab3MdTzOzMll6eCkL9i/AzdmN8S3H061KN5VoRMQYJSRSoKXHxBA2fATxmzbhXqmS3ejMs3o1syWavcvgq2FWZgR3TILmz4PBRCAqKYqR20ayPXQ7lf0r27toqgRUMTa+iIhFCYkUWIn79hMycCDpYWH439uVkmPG4FzIYHki+Sp8/jIcWQOFy0GPd6FMI3PjA7vDdzN0y1AikyK5v+r9DGs6DC9XL6MxiIhYlJBIgSzRRL3zDpFz5uLk5mYfiud//31myxOhB7JLNDFnoeY90HUBeBU2NnxGZgZLDi5h8cHFeLh4MLnNZO6udLex8UVEfksJiRS4Ek3o0KEkbNmKe+XKlJkzG4+qVc2WaHa9lX1Kr6XzdGjaz2iJJjIxkmFbh7ErfBfVA6rbJZoK/hWMjS8i8nuUkEiBkbhnDyEDB5F+6RL+991HydGjcPb2NhdA0hX47EU49jkEVISey6D0LebGB3aE7GD4tuFEJ0fTq3ovBjcZbM+QiIg4mhISKRglmiVvETl/Pk7u7pSaMpnC3bqZDSJ4L6x8Aq5cgNr3wT3zwNPP2PDpmem8ceAN3j70tr2N15oVuaPCHcbGFxH5K0pIJF9Lj4oidMhQErZvx6NqFYLmzMGjcmWzJZqdb8CGseDkDHfPhkZPGi3RWD1FrN4iVo+R2kVr243OyvqWNTa+iMiNUEIi+VbCrl2EWiWayEj8e3Sn5MiROHsZ3EGSGA1rn4dfvoKiVaDnu1Cyrrnxgc0XNzNy+0i7++qjNR9lQKMBuLm4GY1BRORGKCGRfCcrI4PLb77J5QULcfL0pPT0afjfc4/ZIC78BCv7wNVgqNcLuswCD3MH86VlpDFn3xyWH12On7sf8zrMo0O5DsbGFxH5u5SQSL6SfvkyoUOGkLDjRzyqVcsu0VSqaC6AzEzYMQ++Gw8u7tnbeW951GiJJjgu2C7RHLp8iPrF6zO97XRK+ZQyNr6IyD+hhETyjYSdOwkZPJiMyMsUfuABSowYjrOnp8EALsOaZ+HUBihWHR54DwJrmhsf2Hh+I2O2jyEuLY4+dfrw4i0v2q3gRURyOyUkkj9KNG8s4vIbb9hrRErPnIF/ly5mgzi3HVb1hbgwaPAo3DUN3M11fU3JSGHmnpl8dPwjAjwCWNRpEa2DWhsbX0Tk31JCInmatWA1ZNBgEn/6CY8aNexGZ+4VKpgt0WybCT9MAldPuO9NqP+gufGB81fPM3jzYI5FH6NxicZMbTuVQO9AozGIiPxbSkgkz0rYsYOQwUPIiIqi8EMPUmLYMJw9DDb5io+A1U/DmR8gsHb2LpriBg/mA7488yXjfhxHUnoSz9Z/lmfqPYOrs/5Zi0jeo1cuyXOy0tOJXLiQqMVv2p1Wg2bPwq9zZ7NBnNkMq/tB/CVo+Dh0ngpu5rYUWwnI1F1TWXVyFcW8ijHv1nk0K9XM2PgiIjebEhLJU9IuRRA6aBCJu3fjWauWnYy4ly9vLoDMDNg8DTZPzV4j0v0dqNvDbC505QwDNw/k1JVTtCjVgkltJtlJiYhIXqaERPKM+K3b7IPxMqKjCXjkEQKHDsHZ3d1cAHHhsOopOLc1u8FZz/egqMGur8C6U+uY+NNEexHry7e8TN+6fXG2OsCKiORxSkgkb5Ro5s0naskSnH19CZo7F787bjcbxKnvsteLJF6GJv3g9gngZm5LcWJaop2IfHb6M3vB6qK2i2hUopGx8UVEcpoSEsnV0sLD7RN6k/buxbNOnewSTVmD57BkpMOmSbDV6rTqmz0rUtvswXwnok8weMtgzsaepW2ZtkxoNYEAzwCjMYiI5DQlJJJrxW/ZYh+Ml3HlCgGP9SZw0CCzJZrYkOzeIhd+hNK3QI9lUMRc19esrCxWnlxpL17NyMxgUONB9K7VWyUaEcmXcsUr27Jly3BycmLt2rWODkVygay0NCJmzODi08+QlZlJmQXzKTlihNlk5JdvYXHr7GSk+fPQ5xujyUh8arzd/n38j+Mp6lmU9zq/x+O1H1cyIiL5lsNnSM6dO8dbb71F8+bNHR2K5AJpYWGEDBhI0v79eNarR9CsWbiXCTIXQEZa9jk01nk0nv7w4IdQw2zX1yNRR+xGZxfjLtKxXEfGtRyHv4e/0RhERExz6J9bmZmZPPXUU8yfPx8Pkw2tJFeK++EHzna7z05GijzxBBU+eN9sMnLlAizrnJ2MlGkCz24zmoxYJZr/HPsPvb/sTXhCOMObDmd2+9lKRkSkQHDoDMmsWbNo1aoVjRpptwAFvUQzazbRy5bh7O9PmTfewPfWDmaDOL4e1j4PyVeg5UvQcSy4mDuULjYl1j4U7/uL31PWtywz2s2gVtFaxsYXESmwCcnhw4dZtWoVW7Zs+cukxfq4Jj4+3kB0YkpaSEh2iebnn/GqX9/eReNWurS5ANJTYeNY2PkGeBWBhz+FaneYGx/4OfJnhmweQmhCKJ0rdGZMizH4uPsYjUFExNGcsqx5YgdYtGgR48ePv16qCQ8Px8/Pj3HjxvHcc8/94c+VKVOG4OBgg5FKTon77jtCR4wkMzaWIn37EPjqqzi5mZuVIOYcrHgSQvdBuRbZXVf9zZWIMrMyWX5kOXP3zcXF2YVhTYfRvWp3e4G3iEh+81fv3w5LSH6rffv2vPrqq3Tr9uc9HpSQ5H1ZqalEzJxJ9HvLcSlcmFJTJuPbvr3ZII6ug3UvQUostB4AHUaCi7kJw5jkGEZuG8nWkK1U9K9ol2iqBZg9mE9ExKS/ev92+C4bKVhSg4MJ6T+A5EOH8GrYkKCZM3ArVcpcAGnJ8O0o2P0WeBeDR1dBlU7mxgf2Xtprb+mNSIyga+WujGw2Em83b6MxiIjkNrkmIdm0aZOjQ5AcdnXDBsKsEk1cHEX79aP4yy+ZLdFEnYYVT0D4QajQBu5/C/zMJUNWc7N3Dr/DwgML8XDxsDuu3lvlXmPji4jkZrkmIZH8K9Mq0UybTswHH+ASEEDZt5bg06aN2SAOrYTPX4XUeGg3NPvD2cXY8JeTLjN863B2hu2kakBVZrSdQaXClYyNLyKS2ykhkRyVevEiIa/2J/nIEbwaNyJo5kzcSpQwF0BaEnw9DPa+C4UC4cH/QKV25sYHOwkZtmUYUclR9KjWg6FNhuLpau5gPhGRvEAJieSYq19/Q9ioUWQmJFD02Wco/uKLOLka/JWL/CW7RBNxBCq1zy7R+AQaGz49M53FPy9mycEl9hqRaW2n0bliZ2Pji4jkJUpI5KbLTEkhYupUYj78CJciRSg7dw4+rVqZDeLnj+GLAZCeBB1GQZsBRks0lxIuMXTrUHsBa80iNe1dNOX8yhkbX0Qkr1FCIjdV6vnzBPfvT8rRY3g3bUrp6dNxK2FuVoLUBPhyCBz4AHxLQfdPoUJrc+MDW4O32lt6Y1JieLjGwwxsPBB3F4MHA4qI5EFKSOSmufrll4SNHkNmYiLFnn+eYi88j5OLuVkJIo5ll2gij2dv5b3vTShUzNjwaZlpzN8/n2WHl+Hr7suc9nPoWL6jsfFFRPIyJSTyr2UmJ3Np8hSufPIJLsWKUW7BfAq1aGEuAKu334H/wPpBkJEKnV6Dlq+As7mzI0PjQ+3eIlYb+LrF6jK93XSCfAweDCgikscpIZF/JeXsWbvRWcrx43g3b07Q9Gm4Fi9uMIB4WD8ADn4CfmWgx1Io18zc+MD3F75n9PbRXE29yhO1n+DlW17GzeDBfCIi+YESEvnHYj//gvCxY+0ZkmIvvUixZ581W6IJPwwrHoeoU1CtM3R7A7yLGBs+NSOV2Xtn88GxDyjsUZiFHRfStkxbY+OLiOQnSkjkn5VoJk7kyoqVuBQvRrlFiyjUrKnZEs3eZfDVMMjKgNsnQosXwOChdBevXmTQlkEcjTpKw8CGTG07lZKFShobX0Qkv1FCIn9LypkzdqOzlF9+oVDLlpSeNhXXYuYWjpJ8FT5/BY6sBv9y0HMZlGlsbnzg63NfM27HOBLSEuhXtx/PN3geV2f9UxIR+Tf0Kio3LHbdOsLGjScrOZnir75C0aefxsngwlFCD8DKJyH6DNS4G+5dAF4BxoZPTk9m+u7pfPrLpxTxLMLM9jNpWbqlsfFFRPIzJSTylzKTkgh/fQKxq1fjGhhI0JuL8W7SxGyJZtdb8O3I7Pudp0HTp42WaM7GnmXQ5kH8EvMLzUo2Y3KbyRT3Nrh4V0Qkn1NCIn8q5dQpQqxGZydPUah16+wSTRFzC0dJugKfvQTHPoOACtDzXSh9i7nxgc9Pf87rO18nJSOFFxq8YJdpXAx2fRURKQiUkMgfurJ6DeGvv05WairFBwyg6FN9zZZoQvbCiifhynmofR/cMxc8/Y0Nn5iWyORdk1l7ai2BXoH2LpomJQ3ODImIFCBKSOR/WJ1Ww8eNt9eMuJYsSdDMGXg3amS2RLNzEWwYA07O0GUWNO5jtERzKuaUXaI5HXuaVkGtmNR6kr1uREREcoYSEvmV5F9+sRudpZ4+TaF2bSk9ZQquAeYWjpIYDetegBNfQtEq2SWaknWNDZ+VlcWaU2uY/NNkuxV8/0b97WZnzlZiJCIiOUYJiVx/I45dtYrwCRPJSksjcPAgijz5pNkSzcVd2SWaq8FQ9wG4exZ4+Bob3trGO/7H8Xx59ku7p8j0ttNpENjA2PgiIgWZEhIhMyGBsNfGcfXzz3EtVYqgWTPxvsXgwtHMTNgxD74bD9apuF3nwy29jZZojkcft0s056+ep33Z9kxoNQF/D3PrVURECjolJAVc8okTdqOz1LNn8enQgdKTJ+FSuLC5ABKiYM0zcGoDFKueXaIpUcvozNAnJz6x+4tkksnQJkN5pOYjOBlMhkRERAlJgWW9EV/5dAWXJk0iKyODwKFDKfLE42bfiM/vgJV9IS4UGjwCd00H90LGhrcOw3ttx2tsOL+BMj5lmNFuBrWL1TY2voiI/B8lJAVQRnw84WPGcvXLL3ErXZqg2bPwql/fbIlm20z4YRK4ekK3xdDgIXPjA4cvH7ZLNCHxIdxW/jbGtRyHr7u59SoiIvJrSkgKmORjx7JLNOfP49OxI6UnTcTF3+BaifgIWP00nPkBAmtll2iKVzc6M/T+0feZvW82zjgzqtkoHqj+gEo0IiIOpoSkIJVoPv6YS5On2LdLjBhOQO/eZt+Iz26BVU9B/CVo+Dh0ngpuXsaGj02JZdS2UWwK3kQFvwpMbzedGkVqGBtfRET+mBKSAiAjLo6wMWOI++pr3MqUyS7R1DXX24PMDNgyHTZbCYg33P821Otpbnxgf8R+hmwZQnhCOF0qdWF089EUcjO3XkVERP6cEpJ8LunIEbvRWdqFC/jedhulJk7Axc/PXABx4dmzIue2Zjc46/EuFKtibPjMrEyWHl7Kgv0LcHN2Y3zL8XSr0k0lGhGRXEYJST5llWVi/vMhEVOn2vdLjBpFwCMPm30jPv199nqRhEho8hTcPhHcPI0NH5UUxchtI9keup3K/pXtXTRVAswlQyIicuOUkORDGVevEjZqNHHffotbuXIEzZqFVx2D21kz0mHTZNg6M7vTqrVw1Tocz6Dd4bsZumUokUmR3F/1foY1HYaXq7n1KiIi8vcoIclnkg4dJqR/f9KCg/G9805KvT4eF1+D21ljQ7JLNBd2QKkG0HMZFKlkbPiMzAyWHFzC4oOL8XDxYHKbydxd6W5j44uIyD+jhCQ/lWjef59L02fYZZmSY8dQ+MEHzZZofvk2u+tqUjQ0ew5uGweuHsaGj0yMZNjWYewK30X1gOp2iaaCfwVj44uIyD+nhCQfyIiNJXTkSOI3fod7+fIEzZmNZ82aBgNIyz6HxjqPxtMfev0HapqdldgRsoPh24YTnRxNr+q9GNxksD1DIiIieYMSkjwu6eBBu9FZWmgofnfdRcnx43Dx8TEXwJWLsLIPBO+CoMbQYykElDc2fHpmOm8ceIO3D71tb+O1ZkXuqHCHsfFFROTmUEKSh0s00e++R8TMmTg5O1Ny3DgKP9DTbInm+Jew9jlIvgItXoSOY8HV3djwVk8Rq7eI1WOkdtHadqOzsr5ljY0vIiI3jxKSPCjjyhVCh48g/ocfcK9QgaC5c/Csbq79OumpsPE12LkQvALgoU+g+p3mxgc2X9zMyO0j7e6rj9Z8lAGNBuDm4mY0BhERuXmUkOQxifv3EzJwIOmhYfh1vYdSY8fiXMhgx9GYc7DiSQjdB2WbQ493wL+MseHTMtKYs28Oy48ux8/dj3kd5tGhXAdj44uISM5QQpJHZGVmEr1sGRGz5+Dk4mJ3XPW//36zJZqjn8G6FyElFloPgA4jwcXcr1BwXLBdojl0+RD1i9dnetvplPIpZWx8ERHJOUpI8oD0mBjChg0nfvNm3CtVyt5FU62auQDSkmHDaNi1BLyLwaOroEonc+MDG89vZMz2McSlxdG3Tl9euOUFuxW8iIjkD0pIcrnEffsIGTCQ9PBw/Lt1o+SY0Th7e5sLIOo0rHgCwg9C+dbQ/W3wMzcrkZKRwsw9M/no+EcEeASwqNMiWge1Nja+iIiYoYQkF5doot5+h8i5c3Fyc6PUpEkUvt9s+3UOr4LPXoHUeGg3FNoOMVqiOX/1PIM3D+ZY9DEal2jM1LZTCfQONDa+iIiYo4QkF0qPjiZ06DAStm7FvUplysyZg0cVg4fCpSXB18Nh7zIoFAgPfgCV2psbH/jyzJeM+3EcSelJPFv/WZ6p9wyuzvp1FRHJr/QKn8sk7tmTXaKJiMC/+/2UHDUKZy+Dh8JdPpldorl0GCq2g/vfAt8Sxoa3EpCpu6ay6uQqinkVY96t82hWqpmx8UVExDGUkOSmEs2SJUTOm4+Thwelp07B/957zQbx8yfwRX9IT8reQdNmIDi7GBv+zJUzDNw8kFNXTtGiVAsmtZlkJyUiIpL/KSHJJY3OQgYOImH7djyqVrUbnXlUMndCLqmJ8NVg2P8B+JaC7p9CBbMLR9edWsfEnybai1hfvuVl+tbti7OTs9EYRETEcZSQ5ALWjIhVoincsyclRo7A2dPT3OARx2HF4xB5HCp3hPuXQCFzsxKJaYl2IvLZ6c/sBauL2i6iUYlGxsYXEZHcQQlJLmCtESn/0Ue4+BjsuJqVBQf+A+sHQUZq9jk0rV4FZ3OzEieiTzBo8yDOXT1H2zJtmdBqAgGeAcbGFxGR3EMJSS5hNBlJiYf1A+Hgx+AXlH1Cb7nmRg8GXPHLCnvxamZWJoMaD6J3rd4q0YiIFGBKSAqa8MPZu2iiTkK1O6HbIvAuYmz4+NR4ezvv1+e+pnSh0vYJvfWK1zM2voiI5E5KSAoKq0Sz9134ehhkpsPtE6HFC2DwLJwjUUfsRmcX4y7SsVxHxrUch7+Hv7HxRUQk91JCUhAkX4UvXs3uvOpfDnougzKNjZZoPjz+od0C3jK86XAeqvGQ2YMBRUQkV1NCkt+F/Zxdook+AzXuhnsXgJe5haOxKbH2oXjfX/yesr5lmdFuBrWK1jI2voiI5A1KSPJziWb32/DNiOzbd06FZs8YLdH8HPkzQzYPITQhlM4VOjOmxRh83H2MjS8iInmHEpL8KOkKfP4yHF0HARWgxzIIamhseGvnzPIjy5m7by4uzi6MbTGW7lW7q0QjIiJ/SAlJfhOyF1Y8CVfOQ61u0HUeeJpbOBqTHMPIbSPZGrKViv4V7RJNtYBqxsYXEZG8SQlJfmGVZXYugg1jwOrn0WUmNO5rtESzJ3wPQ7cOJSIxgq6VuzKy2Ui83byNjS8iInmXEpL8IDEa1r0AJ76EIpWh57tQylxvj4zMDN4+9DZv/PwGHi4edsfVe6sYPhhQRETyNCUked3FXbCyD8RehLo94e7Z4OFrbPjLSZcZvnU4O8N2UjWgKjPazqBSYYMHA4qISL6ghCSvysyEH+fDd+PB2RW6zodbehst0VhJyLAtw4hKjqJHtR4MbTIUT1eDBwOKiEi+oYQkL0qIgrXPwslvoVg16PkelDDX2yM9M53FPy9mycEl9hqRaW2n0bliZ2Pji4hI/qOEJK85vwNW9oW4UKj/MHSZAe7mDua7lHDJXri699Jeahapae+iKedXztj4IiKSPykhyUslmm2z4IdJ4OqRfSheg4eNhrA1eKu9pTcmJYaHazzMwMYDcXdxNxqDiIjkT0pI8oL4SFjzNJz+HgJrZTc6C6xhbPi0zDTm75/PssPL8HX3ZU77OXQs39HY+CIikv8pIcntzm6FVU9BfDg0fCy7Bby7ud4eofGhDN4ymIORB6lXrB7T2k0jyCfI2PgiIlIwKCHJrTIzYMt02DwVrOZi978N9XoaDeH7C98zevtorqZe5YnaT/Byw5dxc3YzGoOIiBQMDktIkpOTefDBBzl69CheXl4EBgayaNEiqlSpQkGTlZXFnvMxnLucQIVihWhcJAUnq0RzdguUqJvd6KyYueuSmpHK7L2z+eDYBxT2KMzCjgtpW6atsfFFRKTgcegMydNPP03nzp3tQ9cWLFjAU089xaZNmyhIgmMSeWzpLi5GJ+Lm4kxaegZlucRyt6OUadIX7pgEbuZ6e1y8epFBWwZxNOooDQMbMrXtVEoWKmlsfBERKZicHTWwp6cnd9111/UTYJs3b865c+ccFQ4p6RnM3vCL/dnkzIiVjJyPSiQtI4vE1AzSMuF8ZlEe95hDlnUejaFkxPrvfumzZfT84gGORR2jX91+vHPHO0pGRESkYK0hmTt3Lvfe67jzT1LTM5n73Uk+/zkUF2cz3U6TUjMIuZJE1m8ez8CV01ehzdQf8HJ3yfE4skgl1ns1yV7bCPAowqzbZtKydMscH1dERCRXJSSTJk3i1KlTfPfdd//ztVmzZtkf18THx5NfpGVkgpX7/DYjIbsDvPV1L3I2IUl3vsQV36Wku4aQnlCZ97q+QcWA0jk6poiISK5LSGbMmMHq1avZuHEj3t7/u511wIAB9sc1ZcqUydF41r3YCl9PMztJdp+L5uG3dtrlmt9ydXZiwSMNaVKhSI6N//npz3l95wwyM1LoV/s5Zq0oSzGv4jk2noiISK5MSKyZj48++shORgoXLuzIUHB3deaVjlXtz6Y0Lh9A2SLe9hqSjMz/S0qsklG5It7213NCYloik3dNZu2ptQR6Bdq7aOoVa0hG9Gmj//0iIiLXOGVZKysdIDg4mLJly1KpUiV8fX3txzw8PPjpp5/+9OesGRLrZ/PtLpuMTDsZWd63GUGFvW76eKdiTjFo8yBOx56mVVArJrWeRBHPnJuFERERuZH3b4clJP9UfktIfrcPSfmA67uPbuYYa06tYfJPk+1W8FaTM6vZmbOTZkRERMTx798OX0Mi1gJWJ3utSE6tF0lIS2D8j+P58uyX9jbe6W2n0yCwQY6MJSIi8k8oIcnnjkcft0s056+ep33Z9kxoNQF/D39HhyUiIvIrSkjyKatE88mJT5i+ezqZZDK0yVAeqfnITS8FiYiI3AxKSPIh6zC813a8xobzGyjjU4YZ7WZQu1htR4clIiLyh5SQ5DOHLx+2SzQh8SHcVv42xrUch6979i4mERGR3EoJST4q0bx/9H1m75uNM86Mbj6antV6qkQjIiJ5ghKSfCA2JZZR20axKXgTFfwq2CWa6kWqOzosERGRG6aEJI/bH7GfIVuGEJ4QTpdKXeyZkUJuhRwdloiIyN+ihCSPyszKZOnhpSzYvwA3ZzfGtxxPtyrdVKIREZE8SQlJHhSVFMXIbSPZHrqdyv6V7RJNlYAqjg5LRETkH1NCksfsDt/N0C1DiUyK5P6q9zOs6TC8XG/+mTciIiImKSHJIzIyM1hycAmLDy7Gw8WDyW0mc3elux0dloiIyE2hhCQPiEyMZNjWYewK30X1gOp2iaaCfwVHhyUiInLTKCHJ5XaE7GD4tuFEJ0fTq3ovBjcZbM+QiIiI5CdKSHKp9Mx0Fh5YyNuH3sbHzYeZ7WZye4XbHR2WiIhIjlBCkgtZPUWs3iJWj5HaRWszvd10yvqWdXRYIiIiOUYJSS6z+eJmRm4faXdffbTmowxoNAA3FzdHhyUiIpKjlJDkEmkZaczZN4flR5fj5+7HvA7z6FCug6PDEhERMUIJSS5pdPbS9y9x6PIh6hevz/S20ynlU8rRYYmIiBijhCQXsGZErJbvfev05YVbXrBbwYuIiBQkSkhyAWuNyLt3vKu1IiIiUmA5OzoAyaZkRERECjIlJCIiIuJwSkhERETE4ZSQiIiIiMMpIRERERGHU0IiIiIiDqeERERERBxOCYmIiIg4nBISERERcTglJCIiIuJwSkhERETE4ZSQiIiIiMMpIRERERGHU0IiIiIiDqeERERERBzOKSsrK4s8xMPDg+LFi+f4OPHx8fj4+OT4OHmdrtON0XW6cbpWN0bX6cboOuWe6xQZGUlKSkr+SUhMKVOmDMHBwY4OI9fTdboxuk43Ttfqxug63Rhdp7xznVSyEREREYdTQiIiIiIOp4TkDwwYMMDRIeQJuk43Rtfpxula3Rhdpxuj65R3rpPWkIiIiIjDaYZEREREHE4JiYiIiDicEpL/snDhQurWrUuDBg2oU6cO8+bNu/61zMxMXnrpJSpXrkyVKlVYsGABBZV1XazrY12revXq8cEHH/zq6xMmTLCvk/UxcuRICrL169fTqFEju3/Oq6+++quv6Xfq106ePEnLli2pVq0aTZo04ciRI44OKVd4+eWXqVChAk5OThw4cOD647pev5acnEy3bt3s61G/fn1uu+02Tp06ZX8tIiKCO++8k6pVq9qvXVu2bKEgu/322+3Xbuu9rk2bNuzfvz93/E5Za0gk25UrV67fjo2NzSpbtmzWvn377Pvvvfde1q233pqVnp6eFRUVlVWuXLmsw4cPZxVEGzduvH6tLly4kFW0aNGsU6dO2fc3b96cVatWraz4+Pis5OTkrEaNGmV98cUXDo7YcU6cOJF14MCBrJEjR2a98sorv/qafqd+rUOHDlnLli2zb69YsSKrcePGjg4pV7D+TV28eDGrfPnyWfv377/+uK7XryUlJWWtX78+KzMz074/f/78rHbt2tm3n3zyyayxY8fat3ft2pUVFBSUlZqamlVQxcTEXL+9evXqrHr16uWK3ynNkPwXf3//67cTEhJIS0u7fv+TTz6hX79+uLi4UKRIEXr16sVHH31EQdSxY8fr16ps2bKULFmSixcvXr9OvXv3plChQvasQJ8+fQrsdbJc+2vN1dX1f76m36n/Y/0Fu2fPHh599FH7fvfu3e3fqWt/4RZkbdu2tZtW/Tddr//l6enJXXfdZc8kWZo3b865c+fs259++inPPvusfdv6y7906dJs3ryZgqpw4cLXb8fGxtrXLDf8Tikh+Y2VK1dSu3Zte4p00KBB3HLLLfbjFy5coHz58te/z/q69VhBt3HjRmJiYux/5BZdpxuna/V/rBe+UqVKXU/crBfIcuXKFdjr8Vd0vf7a3Llzuffee4mKirL/uLT+cLqmIP9bu+axxx6z/6AcPXo077//fq74nSpQCUmLFi0oVqzY735c+wu/R48edt3sxIkT9toI63NBcyPXyXLo0CGefPJJ+y99a0akILrRayUi5kyaNMn+y37y5MmODiXXWr58uf0aZa35Gzp0KLnB/84j52M//vjjDX+vlUE3a9aML774gurVq9uZ4vnz5+03IIs1FWg9VlCv09GjR7n77rtZunQprVu3vv74tet0TX6+Tn/3d+q3CtLv1F+x/lILCwsjPT3d/gvNao9k/WVWUK/HX9H1+mMzZsxg9erV9uytt7e3/WFdo/Dw8OuzJAX539pvPf7443Y5yyoLOvp3qkDNkNzIm+x/n0r4/fff2yuRLT179uStt94iIyOD6Ohoe1bAqvkXRMeOHbNrtUuWLLFXsv836zpZ03/WGhzrVEcrYXnwwQcdFmtupt+p/xMYGEjDhg2v79hatWqV/QJp7T6S/6Xr9ftmzZplr8PasGHDr9ZJWP/WFi9ebN/evXs3ISEhtGvXjoLoypUrhIaGXr+/du1aihYtmjt+p4wuoc3lnn766ayaNWtm1a9f3151vHDhwutfs3ZCPP/881kVK1bMqlSpUtacOXOyCqpOnTplFS5c2L5O1z6+/vrr618fN26cfZ2sj2HDhmUVZNaOJGtFv6+vb5aPj499e926dfbX9Dv1a8ePH89q3rx5VtWqVe3dWQcPHnR0SLnmdcn6vXFxcckKDAzMqly5sv24rtevWTuRrLc069/Stdelpk2b2l8LDw/Puu2227KqVKli7wL8/vvvswqqc+fOZTVp0iSrTp069vtcx44dr+/ecvTvlFrHi4iIiMOpZCMiIiIOp4REREREHE4JiYiIiDicEhIRERFxOCUkIiIi4nBKSERERMThlJCIiIiIwykhEcnFXn75ZfsYA+ugqwMHDvzuYZDPPfec/T3WEQcNGjSwP0+ZMuVvPc/NHjM5OZlu3bpdP+3Y6uj7V6eGWt00/00r/t/z2muv2bHkRFfn9u3b/+rj71zzNm3acPbs2Zsel0ieZrQNm4j8LZs3b7Y7UJYvX/56N8X/9vDDD9tdcv/768HBwVl+fn5ZP/300w0/z80eMykpKWv9+vVZmZmZ9v358+dntWvX7g/HtH7u1ltvzbrZrJe4mJiYv/1zaWlp/3rsP7uOa9asyerdu/e/HkMkP9EMiUgu1rZtW/s8id9jHam+fft2br311l89HhQURI0aNX51yOGfPU9OjOnp6Wmfd2TNDliaN29uH2j2R958800efvjh6/etn5s4caJ9wKU1y2Cdt2Gd3Nq4cWOqVq3Kpk2brn+vdTaJFY/1tVtuuYUVK1bYj1sHhl2bjbBmcSIiIv7we6+NOXbsWJo0acLw4cNJSkqyzxaqVauWPctz++2339D1u5Hr2KVLF7766itiY2P/1nOK5GcF6rRfkfzkhx9+oGXLlri5uf3q8ePHjxMVFWWXEXLLmHPnzuXee+/9w+e1Eoz+/fv/6jEfHx9++uknvvvuO/tnFyxYwJ49e+wkYvDgwXZyYR0U9vTTT/Pll19SqlQpLl++bB8QZsVoHaZmJTpbt261D1r7s++1EiqLi4uL/byWNWvW2D9z7dBN6wDEm8W6fnXr1rVjs07NFhElJCJ5ljVrcN99912/b/017+zszIkTJ5g9ezbFixfPFWNOmjTJXj9iJRZ/JDg4mBIlSvzqsWsnH1uzGdbp0ddOjW7atCknT560b+/YsYMzZ87QuXPnX/2sFc+1JOOaG/nePn36XH/cmhWxTrZ+/vnn7ZNhrRmfm6lkyZL2f7eIZFPJRiQPspZHfPPNN796c/3kk0/sN9Bvv/2WYcOGcejQob98nuXLl9vlDOtj2bJlN33MGTNmsHr1ars84e3t/YfPbX3tt4tPrbLPtVmL395PT0+/HlPt2rXtRaPXPi5cuPA/JaUb/V5rVuaaSpUq2bMjd955p12mqlOnDjExMdws1n+vl5fXTXs+kbxOCYlIHrRr1y5q1qz5qzfQazp16mTvghk1atRfPs9jjz12/c35ySefvKljzpo1i48++ogNGzbYJZM/U69ePXum4u+yyi3WbpWNGzdef8z6b0lNTbVv+/r6Xl+n8Vff+1vW7IW1rqRr1652YmUlNBcvXuRmsRI5axZGRLIpIRHJxZ555hl7YaT15njHHXdQpUqV6+sbrG21f2T06NFs27aNvXv3/unz5NSY1s8OHDjQXoPRoUMHewbGWqD6R3r06GHPvvxdAQEBrF+/3i4LWW/u1gJUa6YmMzPT/roVg7Xl2BrfWpD7Z9/7W9ZsT6tWrezvtRbA9u7d206cbtSfXXNrgW9GRoYSEpH/4mRttfnvB0Qk97NKD9YC08DAwHwxZnx8vD2DYfUhKVSoEPmdlQhZCcpTTz3l6FBEcg0lJCKSK1iLXq2FrdZajfxu3rx5vPjii/aCYBHJpoREREREHE7puYiIiDicEhIRERFxOCUkIiIi4nBKSERERMThlJCIiIiIwykhEREREYdTQiIiIiIOp4REREREcLT/B94yndLflLX+AAAAAElFTkSuQmCC"
=======
      "image/png": "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"
>>>>>>> 9e1e6ccbe64d4b33a15e259f670a628d5305612f
     },
     "metadata": {},
     "output_type": "display_data"
    }
   ],
   "execution_count": 11
  },
  {
   "cell_type": "code",
   "metadata": {
    "ExecuteTime": {
<<<<<<< HEAD
     "end_time": "2025-06-20T20:22:42.172853Z",
     "start_time": "2025-06-20T20:22:42.171343Z"
=======
     "end_time": "2024-07-16T13:34:12.835543Z",
     "start_time": "2024-07-16T13:34:12.833913Z"
>>>>>>> 9e1e6ccbe64d4b33a15e259f670a628d5305612f
    }
   },
   "source": [],
   "outputs": [],
   "execution_count": 11
  },
  {
   "metadata": {},
   "cell_type": "code",
   "outputs": [],
   "execution_count": null,
   "source": ""
  }
 ],
 "metadata": {
  "kernelspec": {
   "display_name": "Python 3",
   "language": "python",
   "name": "python3"
  },
  "language_info": {
   "codemirror_mode": {
    "name": "ipython",
    "version": 3
   },
   "file_extension": ".py",
   "mimetype": "text/x-python",
   "name": "python",
   "nbconvert_exporter": "python",
   "pygments_lexer": "ipython3",
   "version": "3.6.8"
  },
  "latex_envs": {
   "LaTeX_envs_menu_present": true,
   "autoclose": false,
   "autocomplete": true,
   "bibliofile": "biblio.bib",
   "cite_by": "apalike",
   "current_citInitial": 1,
   "eqLabelWithNumbers": true,
   "eqNumInitial": 1,
   "hotkeys": {
    "equation": "Ctrl-E",
    "itemize": "Ctrl-I"
   },
   "labels_anchors": false,
   "latex_user_defs": false,
   "report_style_numbering": false,
   "user_envs_cfg": false
  }
 },
 "nbformat": 4,
 "nbformat_minor": 4
}
