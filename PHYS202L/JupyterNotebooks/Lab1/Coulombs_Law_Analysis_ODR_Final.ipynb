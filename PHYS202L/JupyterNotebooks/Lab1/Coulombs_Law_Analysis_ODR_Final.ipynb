{
 "cells": [
  {
   "cell_type": "markdown",
   "metadata": {},
   "source": [
    "# Lab 1: Coulomb's Law"
   ]
  },
  {
   "cell_type": "markdown",
   "metadata": {},
   "source": [
    "# Theory\n",
    "\n",
    "We can measure the electric force produced by two collections of charge if we can successfully balance that force\n",
    "with another, known, force. Because we can only move very tiny amounts of charge around, the electric force we\n",
    "produce tends to be very small, even though we now know that the electric force is much stronger than the gravitational force. It was Charles Augustin de Coulomb who discovered the very sensitive force balance that we will be\n",
    "using: the torsion balance.\n",
    "\n",
    "# The Torsion Balance\n",
    "The torsion balance is the rotational analogue of a spring balance. In a spring balance, a force causes a spring to either stretch or compress and the spring produces a restoring force given by Hooke's Law:\n",
    "\n",
    "$$F=−kx\\tag{1}$$\n",
    "\n",
    "where $F$ is the restoring force, $x$ is the amount the spring has been stretched or compressed, and $k$ is Hooke's Constant which characterizes the strength of the spring. Coulomb found that a twisted wire would do the same thing for\n",
    "torque that a spring does for forces:\n",
    "\n",
    "$$\\tau=−k\\theta\\tag{2}$$\n",
    "\n",
    "where $\\tau$ is the restoring torque produced by the twisted wire, $θ$ is the angle that the wire has been twisted, and $k$ is Hooke's Constant which characterizes the stiffness of the wire. Because we will be working with forces and not torques, we will use a revised version of this equation. Recall that torque is simply the product of a force $F$, and the distance $r$, away from a pivot point that the force acts. So we can re-write equation:\n",
    "\n",
    "$$rF=−k\\theta\\tag{3}$$\n",
    "\n",
    "In the torsion balance, the distance $r$, is a constant. So we can divide both sides by $r$:\n",
    "\n",
    "$$F=−k'\\theta \\;where\\; k'= \\frac{k} {r}\\tag{4}$$\n",
    "\n",
    "We will need to measure this constant $k'$, so that we can convert an angle into a force. By measuring the angles required to produce different forces, we can plot the results and expect that the slope of the Force vs. Angle graph will\n",
    "give us Hooke's Constant in Newtons per degree [N/deg].\n",
    "\n",
    "# Coulomb's Law\n",
    "Coulomb's Law for the force, F, between two charged objects is given as\n",
    "\n",
    "$$F= \\frac{ke Q q}{R^2}\\tag{5}$$\n",
    "\n",
    "\n",
    "Where $ke$ is a constant which makes the units work $(8.98755x10^9 N \\frac{m^2}{C^2})$, $Q$ and $q$ are the charges of the two objects (in units of Coulombs), and $R$ is the center-to-center distance between the two charged objects.\n",
    "In the second part of this experiment, you will be holding the product $keQq$ constant and varying the distance $R$, between the two charged objects to verify that the force follows a $\\frac{1}{R2}$\n",
    " curve.\n",
    "In the third part of this experiment, you will hold the distance $R$, constant, and change the charge on each sphere.\n",
    "Because both spheres will be charged the same, $Q=q$ and we can write\n",
    "$$F= \\frac{ke Q^2}{R^2}$$\n",
    "\n",
    "The charge on each sphere will depend on the voltage setting $V$, on the power supply and the radius $r$, of the sphere:\n",
    "\n",
    "$$V=\\frac{keQ}{r}\\;  or \\;Q=\\frac{Vr}{ke}\\tag{6}$$\n",
    "\n",
    "The radius of the sphere is 1.900(25) cm."
   ]
  },
  {
   "cell_type": "code",
   "metadata": {
    "ExecuteTime": {
     "end_time": "2024-07-16T13:32:47.166065Z",
     "start_time": "2024-07-16T13:32:47.158376Z"
    }
   },
   "source": [
    "import numpy as np\n",
    "import pandas as pd\n",
    "import matplotlib.pyplot as plt\n",
    "import scipy.stats as stats\n",
    "\n",
    "# The following lines make plots in dark mode look reasonable.  If you are not using dark\n",
    "# mode you don't need them, but you can also just leave them here and it should work fine.\n",
    "\n",
    "dark_mode = True\n",
    "# plotting choices for dark-mode\n",
    "if (dark_mode):\n",
    "    from jupyterthemes import jtplot\n",
    "    jtplot.style(theme='monokai', context='notebook', ticks=True, grid=False)\n",
    "    linecolor = 'w'\n",
    "else:\n",
    "    linecolor = 'k'"
   ],
   "outputs": [],
   "execution_count": 25
  },
  {
   "cell_type": "markdown",
   "metadata": {},
   "source": [
    "# Calibration of the Torsion Pendulum\n",
    "\n",
    "maybe add image here\n",
    "\n",
    "## Equipment Setup\n",
    "\n",
    "**Do not rush through the following procedure.  Proper balancing of the pendulum is crucial to getting quality \n",
    "data.**\n",
    "\n",
    "\n",
    "The first step to getting a good measurement is to ensure that the pendulum is balanced properly.\n",
    "1. Do not remove the conductive sphere from the plastic bag with your hands! Open the plastic bag and slip the sphere's mounting tube onto the fiberglass rod, then gently push the sphere out of the bag.\n",
    "2. Loosen the upper screw of packing clamp that is holding the vane.  The pendulum should rotate freely.  The pendulum should also be approximately level.\n",
    "3. Adjust the index arm (that's the arm that has the mark on it and is also the packing clamp) so that it is at the \n",
    "same height as the vane and a millimeter or two away from it.\n",
    "4. Adjust the magnetic damping assembly so that the vane is (vertically) midway between the magnets.\n",
    "5. Rotate the upper torsion knob so that the scale reads zero degrees.\n",
    "6. Gently rotate the bottom torsion-wire retainer until the index line on the vane matches the index line on the \n",
    "index arm.  Do not loosen the thumbscrew.  This adjustment will require you to be patient, stand well back from the assembly, and give it a minute or two to equilibrate."
   ]
  },
  {
   "cell_type": "code",
   "metadata": {
    "ExecuteTime": {
     "end_time": "2024-07-16T13:32:48.942570Z",
     "start_time": "2024-07-16T13:32:48.936259Z"
    }
   },
   "source": [
    "# Create a Pandas DataFrame with data for calibration of Torsion pendulum\n",
    "\n",
    "# Enter Data Here: [m (mg), δm (mg), 𝜃 (deg), δ𝜃 (degrees)]\n",
    "calibration_data = [[0,  0.0, 75, 0.5],  # mass 1\n",
    "                    [20, 0.0, 190,0.5],  # mass 2\n",
    "                    [40, 0.0, 303,0.5],  # mass 3\n",
    "                    [50, 0.0, 355,0.5],  # mass 5\n",
    "                    [70, 0.0, 461,0.5],  # mass 5\n",
    "                    [90, 0.0, 584,0.5]]  # mass 6\n",
    "\n",
    "# The values in this next line are for the WebWork exercise.\n",
    "#calibration_data = [[152.9, 0.0, 9.3, 0.0], [448.5, 0.0, 19.3, 0.0], \n",
    "#                    [550.5, 0.0, 25.1, 0.0], [560.7, 0.0, 29.8, 0.0], \n",
    "#                    [825.7, 0.0, 39.1, 0.0]]\n",
    "\n",
    "# create dataframe\n",
    "df = pd.DataFrame(calibration_data, columns = ['Mass_mg', 'dMass_mg', 'Theta_Raw', 'dTheta_Raw'])\n",
    "\n",
    "print('Raw Data - Calibration')\n",
    "df\n"
   ],
   "outputs": [
    {
     "name": "stdout",
     "output_type": "stream",
     "text": [
      "Raw Data - Calibration\n"
     ]
    },
    {
     "data": {
      "text/plain": [
       "   Mass_mg  dMass_mg  Theta_Raw  dTheta_Raw\n",
       "0        0       0.0         75         0.5\n",
       "1       20       0.0        190         0.5\n",
       "2       40       0.0        303         0.5\n",
       "3       50       0.0        355         0.5\n",
       "4       70       0.0        461         0.5\n",
       "5       90       0.0        584         0.5"
      ],
      "text/html": [
       "<div>\n",
       "<style scoped>\n",
       "    .dataframe tbody tr th:only-of-type {\n",
       "        vertical-align: middle;\n",
       "    }\n",
       "\n",
       "    .dataframe tbody tr th {\n",
       "        vertical-align: top;\n",
       "    }\n",
       "\n",
       "    .dataframe thead th {\n",
       "        text-align: right;\n",
       "    }\n",
       "</style>\n",
       "<table border=\"1\" class=\"dataframe\">\n",
       "  <thead>\n",
       "    <tr style=\"text-align: right;\">\n",
       "      <th></th>\n",
       "      <th>Mass_mg</th>\n",
       "      <th>dMass_mg</th>\n",
       "      <th>Theta_Raw</th>\n",
       "      <th>dTheta_Raw</th>\n",
       "    </tr>\n",
       "  </thead>\n",
       "  <tbody>\n",
       "    <tr>\n",
       "      <th>0</th>\n",
       "      <td>0</td>\n",
       "      <td>0.0</td>\n",
       "      <td>75</td>\n",
       "      <td>0.5</td>\n",
       "    </tr>\n",
       "    <tr>\n",
       "      <th>1</th>\n",
       "      <td>20</td>\n",
       "      <td>0.0</td>\n",
       "      <td>190</td>\n",
       "      <td>0.5</td>\n",
       "    </tr>\n",
       "    <tr>\n",
       "      <th>2</th>\n",
       "      <td>40</td>\n",
       "      <td>0.0</td>\n",
       "      <td>303</td>\n",
       "      <td>0.5</td>\n",
       "    </tr>\n",
       "    <tr>\n",
       "      <th>3</th>\n",
       "      <td>50</td>\n",
       "      <td>0.0</td>\n",
       "      <td>355</td>\n",
       "      <td>0.5</td>\n",
       "    </tr>\n",
       "    <tr>\n",
       "      <th>4</th>\n",
       "      <td>70</td>\n",
       "      <td>0.0</td>\n",
       "      <td>461</td>\n",
       "      <td>0.5</td>\n",
       "    </tr>\n",
       "    <tr>\n",
       "      <th>5</th>\n",
       "      <td>90</td>\n",
       "      <td>0.0</td>\n",
       "      <td>584</td>\n",
       "      <td>0.5</td>\n",
       "    </tr>\n",
       "  </tbody>\n",
       "</table>\n",
       "</div>"
      ]
     },
     "execution_count": 26,
     "metadata": {},
     "output_type": "execute_result"
    }
   ],
   "execution_count": 26
  },
  {
   "cell_type": "code",
   "metadata": {
    "ExecuteTime": {
     "end_time": "2024-07-16T13:32:50.023587Z",
     "start_time": "2024-07-16T13:32:50.016158Z"
    }
   },
   "source": [
    "# What is the uncertainty in the mass?  We are not really told in the video.  But, let's\n",
    "# make an educated guess ... it is probably going to be some absolute finite number, plus\n",
    "# some percentage error.\n",
    "\n",
    "df['dMass_mg'] = 0.1 + df['Mass_mg']*0.01\n",
    "\n",
    "# Calcualate the actual value of theta by subtracting off the angle for Mass=0.  Also, \n",
    "# calculate the error in the actual angle using dTheta = dTheta_Raw[i] + dtheta_Raw[0]\n",
    "\n",
    "offset = df['Theta_Raw'][0]\n",
    "doffset = df['dTheta_Raw'][0]\n",
    "\n",
    "# For WebWork\n",
    "#offset = 0\n",
    "#doffset = 0\n",
    "\n",
    "df['Theta'] = df['Theta_Raw'] - offset\n",
    "df['dTheta'] = df['dTheta_Raw'] + doffset\n",
    "\n",
    "# Calculate the mass in kg, and the error in the mass in kg\n",
    "df['Mass'] = df['Mass_mg']*0.000001\n",
    "df['dMass'] = df['dMass_mg']*0.000001\n",
    "\n",
    "# Calculate the gravitational Force (and Error) in Newtons\n",
    "g = 9.81\n",
    "df['Force'] = df['Mass']*g\n",
    "df['dForce'] = df['dMass']*g\n",
    "\n",
    "print(df.to_string(index=False))"
   ],
   "outputs": [
    {
     "name": "stdout",
     "output_type": "stream",
     "text": [
      " Mass_mg  dMass_mg  Theta_Raw  dTheta_Raw  Theta  dTheta    Mass        dMass    Force       dForce\n",
      "       0       0.1         75         0.5      0     1.0 0.00000 1.000000e-07 0.000000 9.810000e-07\n",
      "      20       0.3        190         0.5    115     1.0 0.00002 3.000000e-07 0.000196 2.943000e-06\n",
      "      40       0.5        303         0.5    228     1.0 0.00004 5.000000e-07 0.000392 4.905000e-06\n",
      "      50       0.6        355         0.5    280     1.0 0.00005 6.000000e-07 0.000490 5.886000e-06\n",
      "      70       0.8        461         0.5    386     1.0 0.00007 8.000000e-07 0.000687 7.848000e-06\n",
      "      90       1.0        584         0.5    509     1.0 0.00009 1.000000e-06 0.000883 9.810000e-06\n"
     ]
    }
   ],
   "execution_count": 27
  },
  {
   "cell_type": "markdown",
   "metadata": {},
   "source": [
    "# Fitting Stuff\n",
    "\n",
    "You may have already seen examples of both linear and non-linear regression fits to data.  In most (maybe all?) experiments though, we often have uncertainties associated with each data point.  We should understand more about how this affects the fitting procedure.\n",
    "\n",
    "The linear/non-linear regression examples that we have studied thus far use a method called \"Ordinary Least Squares\".  The basic theory behind this is:\n",
    "\n",
    "$$\\chi^2 = \\sum_i^N (y_i - y_{fit}(x_i))^2\\tag{7}$$\n",
    "\n",
    "where $y_{fit} = f(a,b,c,...)$ is the fitting function.  The idea is that we must solve the set of equations defined by:\n",
    "\n",
    "$$\\frac{\\partial \\chi^2}{\\partial a} = 0, \\frac{\\partial \\chi^2}{\\partial b} = 0, \\frac{\\partial \\chi^2}{\\partial c} = 0, ...\\tag{8}$$\n",
    "\n",
    "In the case of polynomial fitting functions (of any order), the values of the polynomial coefficients are uniquely defined.  That is, there is a single global minimum in the $\\chi^2$ function.  For other non-linear fitting functions, there may be local minima in the $\\chi^2$ function, and this requires that we provide initial starting values for the parameters of the fitting function that are close to the global minimum.\n",
    "\n",
    "When we have uncertainties for each of the $N$ data points, the definition of $\\chi^2$ becomes:\n",
    "\n",
    "$$\\chi^2 = \\sum_i^N \\left (\\frac{y_i - y_{fit}(x_i)}{\\sigma_i}\\right)^2\\tag{9}$$\n",
    "\n",
    "Now, for this calibration procedure, we have ZERO uncertainty in the y-variable (Mass), and we have some non-zero uncertainty in the x-variable (Angle).  As it turns out, the Ordinary Least Squares procedure can ONLY take into account uncertainties in the y-variable!!!!  This is a actually a significant limitation of this procedure, and we actually should use a more advanced methodology.\n",
    "\n",
    "The method of choice here is called Orthogonal Distance Regression.  The idea is that we want to minimize the orthogonal distance between the line of best fit and the data points.  It is actually a fairly complicated procedure, and we are\n",
    "going to use some Python code that I have written to do this that uses some Python libraries written expressly for this\n",
    "purpose."
   ]
  },
  {
   "cell_type": "markdown",
   "metadata": {},
   "source": [
    "# The Fitting Code\n",
    "\n",
    "The following cell is a very important one!  We will be using this fitting procedure in basically every experiment this semester!!!!\n",
    "\n",
    "The idea is this:  The first few lines are where we define the data to be fitted.  We need an array of x-values (xi), an array of y-values (yi). We also\n",
    "include definitions of arrays for the uncertainties in x (sigmaxi) and y (sigmayi).\n",
    "\n",
    "The lines after that carry out a fairly sophisticated fitting procedure that includes calculation of upper and lower \"bands\" of the fit corresponding to the error limits on the fit parameters.  These lines give a nice visual\n",
    "interpretation of how good the fit is, and whether it captures the variation in the\n",
    "data.\n",
    "\n",
    "This code also prints out the final result for the Y = (m +/- dm)X + ( b +/- db) fit.  \n",
    "\n",
    "*NOTE*:  You might have to change the number of decimal places that are printed out for the final result!!!"
   ]
  },
  {
   "cell_type": "code",
   "metadata": {
    "ExecuteTime": {
     "end_time": "2024-07-16T13:32:55.028630Z",
     "start_time": "2024-07-16T13:32:54.562700Z"
    }
   },
   "source": [
    "xi = df['Theta']\n",
    "yi = df['Force']\n",
    "sigmaxi = df['dTheta']\n",
    "sigmayi = df['dForce']\n",
    "\n",
    "##############################\n",
    "\n",
    "from scipy.odr import *\n",
    "\n",
    "def fitfunction(B, x):\n",
    "    '''Linear function y = m*x + b'''\n",
    "    # B is a vector of the parameters.\n",
    "    # x is an array of the current x values.\n",
    "    # x is in the same format as the x passed to Data or RealData.\n",
    "    #\n",
    "    # Return an array in the same format as y passed to Data or RealData.\n",
    "    return B[0]*x + B[1]\n",
    "\n",
    "linear = Model(fitfunction) # create a Model object based on the fitfuncion we have defined\n",
    "mydata = RealData(xi, yi, sx=sigmaxi, sy=sigmayi) # create a data object based on our data, include errors.\n",
    "myodr = ODR(mydata, linear, beta0=[1., 2.]) # create a fitting object, based on the data, fit Model, and an intial set of parameters.\n",
    "myoutput = myodr.run()  # run the fitting process to get optimized parameters!\n",
    "\n",
    "myoutput.pprint() # print out the result of the fit\n",
    "\n",
    "# Now assign the important fit results to some more convenient variables.\n",
    "\n",
    "popt = myoutput.beta # the vector of optimized parameters\n",
    "pcov = myoutput.cov_beta # the covariance matrix\n",
    "perr = myoutput.sd_beta # the vector of ERRORS in the optimized parameters\n",
    "\n",
    "# The following lines generate upper and lower 99% \"Confidence Bands\" on the fit, for visualization\n",
    "# purposes.\n",
    "\n",
    "ps = np.random.multivariate_normal(popt,pcov,10000)\n",
    "ysample=np.asarray([fitfunction(pi,xi) for pi in ps])\n",
    "\n",
    "lower = np.percentile(ysample,0.5,axis=0)\n",
    "upper = np.percentile(ysample,99.5,axis=0)\n",
    "middle = (lower+upper)/2.0\n",
    "\n",
    "print()\n",
    "print (\"Final Result: Y = (%0.9f +/- %0.9f) X + (%0.9f +/- %0.9f)\" % (popt[0],perr[0],popt[1],perr[1]))\n",
    "\n",
    "plt.figure(figsize=(8, 6), dpi=80)\n",
    "\n",
    "plt.errorbar(xi, yi, xerr=sigmaxi, yerr=sigmayi, fmt='o', capsize=2, capthick=1)\n",
    "\n",
    "plt.plot(xi,middle)\n",
    "plt.fill_between(xi,lower,upper,alpha=0.5)\n",
    "\n",
    "#########################\n",
    "\n",
    "plt.xlabel('Angle (degrees)')\n",
    "plt.ylabel('Force (Newtons)')\n",
    "plt.title('Calibration of Torsion Balance:  Dependence of Force on Angle')\n",
    "plt.show()"
   ],
   "outputs": [
    {
     "name": "stdout",
     "output_type": "stream",
     "text": [
      "Beta: [ 1.74633555e-06 -1.02109544e-06]\n",
      "Beta Std Error: [1.41850508e-08 2.18283449e-06]\n",
      "Beta Covariance: [[ 1.46398627e-16 -1.27246150e-14]\n",
      " [-1.27246150e-14  3.46670450e-12]]\n",
      "Residual Variance: 1.3744368433612735\n",
      "Inverse Condition #: 0.0053713546516330705\n",
      "Reason(s) for Halting:\n",
      "  Sum of squares convergence\n",
      "\n",
      "Final Result: Y = (0.000001746 +/- 0.000000014) X + (-0.000001021 +/- 0.000002183)\n"
     ]
    },
    {
     "data": {
      "text/plain": [
       "<Figure size 640x480 with 1 Axes>"
      ],
      "image/png": "[encoded data removed]"
     },
     "metadata": {},
     "output_type": "display_data"
    }
   ],
   "execution_count": 28
  },
  {
   "cell_type": "markdown",
   "metadata": {},
   "source": [
    "## Analysis of Calibration Result\n",
    "\n",
    "First of all, we see that this is a very good fit.  The upper and lower error band lines\n",
    "are barely distinguishable from one another.  This tells us that we are able to determine the Force for a given angle quite accurately!  Cool!\n",
    "\n",
    "Second, we see that the result for the y-intercept (b) is consistent with zero $(0.135 \\pm 1.312) \\times 10^{-6}$ Newtons.  This is consistent with our expectations.  Since it is consistent with\n",
    "zero, we can just ignore this going forward and assume it is identically zero.\n",
    "\n",
    "Third, we see that the calibration constant that we were trying to determine is\n",
    "$(1.475 \\pm 0.008) \\times 10^{-6}$ Newtons/degree.  As we said, this is quite well-determined ... the percentage error is $(0.008/1.475)*100\\% = 0.54 \\%$."
   ]
  },
  {
   "cell_type": "code",
   "metadata": {
    "ExecuteTime": {
     "end_time": "2024-07-16T13:32:56.648212Z",
     "start_time": "2024-07-16T13:32:56.644527Z"
    }
   },
   "source": [
    "#\n",
    "# Remember the results of the calibration part of the experiment ... we will use this later, to convert angles into Force values!\n",
    "#\n",
    "calibration_factor = popt[0]\n",
    "\n",
    "# We will use 3 times the error in the slope from above, as this represents a 99% confidence level ... this is appropriate\n",
    "# given that we are assuming \"maximum possible error\" when combining with other instrumental uncertainties in the\n",
    "# experiment\n",
    "dcalibration_factor = 3*perr[0]"
   ],
   "outputs": [],
   "execution_count": 29
  },
  {
   "cell_type": "markdown",
   "metadata": {},
   "source": [
    "# Part I:  Investigation of the Dependence of the Force on Distance\n",
    "\n",
    "Now that we can compute the restoring force given a torsion angle, we are ready to measure electrical forces. This\n",
    "will require a little set up:\n",
    "1. Ensure that the conductive sphere has not slipped down the rod. Ensure that the upper torsion knob reads\n",
    "zero degrees. Adjust the bottom torsion wire retainer so that the two index marks are aligned.\n",
    "2. On the slide assembly, slide the movable sphere to its furthest position (38 cm) and attach the slide assem -\n",
    "bly to the Coulomb Balance using the two plastic screws (Be careful not to cross-thread the plastic screws!\n",
    "If they won't go in easily, call your instructor over.)\n",
    "3. Carefully slide the movable sphere to the 3.8 cm mark. The two spheres should just touch when the index\n",
    "marks are aligned on the Coulomb Balance and the movable sphere is set to 3.8 cm. You can adjust the po-\n",
    "sition of the movable sphere by loosening the screw on the top of the post holding the movable sphere.\n",
    "Make sure you re-tighten the screw after you've adjusted the movable sphere's position.\n",
    "4. Attach the ground clip from the High Voltage power supply to the index arm of the Coulomb Balance.\n",
    "\n",
    "You are now ready to take data. We will be charging both spheres with the power supply set to 6 kV. The uncer -\n",
    "tainty in the voltage (\n",
    "($\\delta V$) is 1% + 1 digit (i.e. 1% of the value displayed plus 1x the smallest digit displayed. In this\n",
    "case, that would be 1% + 10 V).\n",
    "1. Slide the movable sphere to the far end of the track (38 cm).\n",
    "2. Turn on the power supply and ensure it is set to 6 kV.\n",
    "3. Charge both spheres by gently touching them with the probe. Keep your hands as far from the spheres as possible to avoid capacitive effects. Do not touch the spheres after they've been charged. If you accidentally touch one, discharge it using the ground clip and then re-charge.\n",
    "4. Turn off the power supply.\n",
    "5. Slide the movable sphere to 20 cm. The Coulomb Balance will move due to the electric force pushing the\n",
    "spheres apart.\n",
    "6. Rotate the upper torsion knob until the index marks are once again aligned. Try to do this at arm's length (Hint: don't worry about reading the dial until the index marks are aligned). Record this angle in Table 2.\n",
    "7. Return the upper torsion knob to zero degrees, slide the movable sphere to 38 cm, and discharge both spheres by touching the grounding clip to each one. Replace the grounding clip.\n",
    "8. Verify that the index marks are once again aligned. If not, adjust the lower torsion wire retainer.\n",
    "9. Repeat steps 2—8 and verify your result.\n",
    "10. Repeat steps 2—9 for the following distances: 14, 10, 9, 8, 7, and 6 cm."
   ]
  },
  {
   "cell_type": "code",
   "metadata": {
    "ExecuteTime": {
     "end_time": "2024-07-16T13:32:58.470158Z",
     "start_time": "2024-07-16T13:32:58.464146Z"
    }
   },
   "source": [
    "# Create a Pandas DataFrame with data for part 1 of the experiment:  understanding the relation of Force to distance, at constant\n",
    "# charge\n",
    "\n",
    "# The data elements are [distance in cm, angle in degrees] ... again, since we are going to do a linear regression using OLS, we will\n",
    "# not include errors\n",
    "data1 = [[20,12, 0.5],[20,10,0.5], #20 cm\n",
    "         [14,17,0.5], [14,19,0.5], #14 cm\n",
    "         [10,29,0.5], [10,26,0.5], #10 cm\n",
    "         [9,32,0.5], [9,39,0.5],   #9 cm\n",
    "         [8,65,0.5], [8,66,0.5], #8 cm\n",
    "         [7,95,0.5], [7,103,0.5], #7 cm\n",
    "         [6,113,0.5], [6,114,0.5]] #6 cm\n",
    "# create dataframe\n",
    "df2 = pd.DataFrame(data1, columns = ['R_cm', 'Theta','dTheta'])\n",
    "\n",
    "print(df2.to_string(index=False))"
   ],
   "outputs": [
    {
     "name": "stdout",
     "output_type": "stream",
     "text": [
      " R_cm  Theta  dTheta\n",
      "   20     12     0.5\n",
      "   20     10     0.5\n",
      "   14     17     0.5\n",
      "   14     19     0.5\n",
      "   10     29     0.5\n",
      "   10     26     0.5\n",
      "    9     32     0.5\n",
      "    9     39     0.5\n",
      "    8     65     0.5\n",
      "    8     66     0.5\n",
      "    7     95     0.5\n",
      "    7    103     0.5\n",
      "    6    113     0.5\n",
      "    6    114     0.5\n"
     ]
    }
   ],
   "execution_count": 30
  },
  {
   "cell_type": "markdown",
   "metadata": {},
   "source": [
    "The theory tells us that $F = k \\frac{ Q_1  Q_2}{R^2}$.  So, if we were to plot a \n",
    "graph of $F$ vs. $\\frac{1}{R^2}$, it should be a straight line\n",
    "with a slope of $k Q_1 Q_2$.  Let's try that!"
   ]
  },
  {
   "cell_type": "markdown",
   "metadata": {},
   "source": [
    "So, how do calculate force values from the given angles, with error?  The idea is as follows:\n",
    "\n",
    "$$F = C \\cdot \\theta\\tag{10}$$\n",
    "\n",
    "where we have uncertainties in both $C$ and $\\theta$.  From basic uncertainty analysis, we know that:\n",
    "\n",
    "$$\\frac{dF}{F} = \\frac{dC}{C} + \\frac{d\\theta}{\\theta}$$\n",
    "\n",
    "$$dF= F (\\frac{dC}{C} + \\frac{d\\theta}{\\theta})\\tag{11}$$"
   ]
  },
  {
   "cell_type": "code",
   "metadata": {
    "ExecuteTime": {
     "end_time": "2024-07-16T13:33:00.656864Z",
     "start_time": "2024-07-16T13:33:00.649002Z"
    }
   },
   "source": [
    "# We will have to convert the angle values to Forces, and also include an uncertainty.\n",
    "# We will have to convert the measured radius values to meters, and include an uncertainty.\n",
    "\n",
    "df2['Force'] = df2['Theta']*calibration_factor\n",
    "df2['dForce'] = df2['Force']*(dcalibration_factor/calibration_factor + \n",
    "                              df2['dTheta']/df2['Theta'])\n",
    "\n",
    "df2['R'] = df2['R_cm']*0.01\n",
    "df2['dR'] = 0.001 #guess\n",
    "\n",
    "print(df2.to_string(index=False))"
   ],
   "outputs": [
    {
     "name": "stdout",
     "output_type": "stream",
     "text": [
      " R_cm  Theta  dTheta    Force   dForce    R    dR\n",
      "   20     12     0.5 0.000021 0.000001 0.20 0.001\n",
      "   20     10     0.5 0.000017 0.000001 0.20 0.001\n",
      "   14     17     0.5 0.000030 0.000002 0.14 0.001\n",
      "   14     19     0.5 0.000033 0.000002 0.14 0.001\n",
      "   10     29     0.5 0.000051 0.000002 0.10 0.001\n",
      "   10     26     0.5 0.000045 0.000002 0.10 0.001\n",
      "    9     32     0.5 0.000056 0.000002 0.09 0.001\n",
      "    9     39     0.5 0.000068 0.000003 0.09 0.001\n",
      "    8     65     0.5 0.000114 0.000004 0.08 0.001\n",
      "    8     66     0.5 0.000115 0.000004 0.08 0.001\n",
      "    7     95     0.5 0.000166 0.000005 0.07 0.001\n",
      "    7    103     0.5 0.000180 0.000005 0.07 0.001\n",
      "    6    113     0.5 0.000197 0.000006 0.06 0.001\n",
      "    6    114     0.5 0.000199 0.000006 0.06 0.001\n"
     ]
    }
   ],
   "execution_count": 31
  },
  {
   "cell_type": "code",
   "metadata": {
    "ExecuteTime": {
     "end_time": "2024-07-16T13:33:01.951033Z",
     "start_time": "2024-07-16T13:33:01.541077Z"
    }
   },
   "source": [
    "xi = 1.0/(df2['R'])**2\n",
    "yi = df2['Force']\n",
    "\n",
    "sigmaxi = xi*2.0*(df2['dR']/df2['R'])\n",
    "sigmayi = df2['dForce']\n",
    "\n",
    "##############################\n",
    "\n",
    "from scipy.odr import *\n",
    "\n",
    "def fitfunction(B, x):\n",
    "    '''Linear function y = m*x + b'''\n",
    "    # B is a vector of the parameters.\n",
    "    # x is an array of the current x values.\n",
    "    # x is in the same format as the x passed to Data or RealData.\n",
    "    #\n",
    "    # Return an array in the same format as y passed to Data or RealData.\n",
    "    return B[0]*x + B[1]\n",
    "\n",
    "linear = Model(fitfunction)\n",
    "mydata = RealData(xi, yi, sx=sigmaxi, sy=sigmayi)\n",
    "myodr = ODR(mydata, linear, beta0=[1., 2.])\n",
    "myoutput = myodr.run()\n",
    "\n",
    "myoutput.pprint()\n",
    "\n",
    "popt = myoutput.beta\n",
    "pcov = myoutput.cov_beta\n",
    "perr = myoutput.sd_beta\n",
    "\n",
    "# The following lines generate upper and lower 99% \"Confidence Bands\" on the fit, for visualization\n",
    "# purposes.\n",
    "\n",
    "ps = np.random.multivariate_normal(popt,pcov,10000)\n",
    "ysample=np.asarray([fitfunction(pi,xi) for pi in ps])\n",
    "\n",
    "lower = np.percentile(ysample,0.5,axis=0)\n",
    "upper = np.percentile(ysample,99.5,axis=0)\n",
    "middle = (lower+upper)/2.0\n",
    "\n",
    "print()\n",
    "print (\"Final Result: Y = (%0.9f +/- %0.9f) X + (%0.9f +/- %0.9f)\" % (popt[0],perr[0],popt[1],perr[1]))\n",
    "\n",
    "plt.figure(figsize=(8, 6), dpi=80)\n",
    "\n",
    "plt.errorbar(xi, yi, xerr=sigmaxi, yerr=sigmayi, fmt='o', capsize=2, capthick=1)\n",
    "\n",
    "plt.plot(xi,middle)\n",
    "plt.fill_between(xi,lower,upper,alpha=0.5)\n",
    "\n",
    "#########################\n",
    "plt.xlabel('1/R$^2$ (m$^{-2})$')\n",
    "plt.ylabel('Force (Newtons)')\n",
    "plt.title('Coulombs Law:  Dependence of Force on Distance')\n",
    "plt.show()"
   ],
   "outputs": [
    {
     "name": "stdout",
     "output_type": "stream",
     "text": [
      "Beta: [ 6.62473113e-07 -2.49416655e-06]\n",
      "Beta Std Error: [6.34568860e-08 5.02654755e-06]\n",
      "Beta Covariance: [[ 1.58168317e-16 -9.70912872e-15]\n",
      " [-9.70912872e-15  9.92433859e-13]]\n",
      "Residual Variance: 25.45880521706475\n",
      "Inverse Condition #: 0.007963617903703916\n",
      "Reason(s) for Halting:\n",
      "  Sum of squares convergence\n",
      "\n",
      "Final Result: Y = (0.000000662 +/- 0.000000063) X + (-0.000002494 +/- 0.000005027)\n"
     ]
    },
    {
     "data": {
      "text/plain": [
       "<Figure size 640x480 with 1 Axes>"
      ],
      "image/png": "[encoded data removed]"
     },
     "metadata": {},
     "output_type": "display_data"
    }
   ],
   "execution_count": 32
  },
  {
   "cell_type": "markdown",
   "metadata": {},
   "source": [
    "## Preliminary observations \n",
    "\n",
    "So, our first observation is that indeed, the plot seems roughly linear, as we expected!  This means that our guess for the form of the force law was probably correct!  "
   ]
  },
  {
   "cell_type": "markdown",
   "metadata": {},
   "source": [
    "We know that the slope is supposed to be $k Q_1 Q_2$.  So, what are $Q_1$ and $Q_2$?  According to the same theory, they should be\n",
    "equal to one another, and be related to the applied voltage, V, according to:\n",
    "\n",
    "$$Q = \\frac{R_{sphere}}{k} V\\tag{12}$$\n",
    "\n",
    "Substituting this into our experession for the slope, we get:\n",
    "\n",
    "$$slope = k  \\left( \\frac{R_{sphere}}{k} V \\right) \\left( \\frac{R_{sphere}}{k}V \\right) = \\frac{R_{sphere}^2 V^2}{k}$$\n",
    "\n",
    "$$k = \\frac{R_{sphere}^2 V^2}{slope}\\tag{13}$$\n",
    "\n",
    "We used $V = 6.00~kV = 6000~V$.\n",
    "We are told that $R_{sphere} = 1.9~cm = 0.019~m$.\n",
    "\n",
    "But, there are uncertainties in both of these numbers:\n",
    "\n",
    "$$dV = 10~Volts + (0.01)V = 10~Volts + 0.01(6000 V) = 70~Volts$$\n",
    "\n",
    "$$dR_{sphere} = 0.1~cm = 0.001~m\\tag{14}$$\n",
    "\n",
    "From basic error analysis, we get that $\\frac{dk}{k} = 2 \\frac{dR_{sphere}}{R_{sphere}} + 2\\frac{dV}{V} + \\frac{dslope}{slope}\\tag{15}$"
   ]
  },
  {
   "cell_type": "code",
   "metadata": {
    "ExecuteTime": {
     "end_time": "2024-07-16T13:33:05.601554Z",
     "start_time": "2024-07-16T13:33:05.598302Z"
    }
   },
   "source": [
    "#\n",
    "# Now, let us see if we can calculate what k is, based on the slope from the previous graph\n",
    "#\n",
    "\n",
    "slope = popt[0]\n",
    "# Let's choose +/- 3*sigma (99% confidence level) as the error in the slope.  Given that\n",
    "# we are going to combine this error together with errors in the sphere radius and the\n",
    "# sphere-to-sphere distance, which are clearly maximum possible error estimates, this is\n",
    "# a reasonable choice.\n",
    "dslope = 3*perr[0]\n",
    "\n",
    "V = 6000\n",
    "dV = 10 + 0.01*V\n",
    "R_sphere = 0.019\n",
    "dR_sphere = 0.001\n",
    "\n",
    "k = R_sphere**2*V**2/slope\n",
    "dk = k*(2*dR_sphere/R_sphere+2*dV/V+dslope/slope)\n",
    "\n",
    "print ('Extracted value of k = (%0.1f +/- %0.1f) x 10^9 Nm^2/C^2' % (k/1e9,dk/1e9))"
   ],
   "outputs": [
    {
     "name": "stdout",
     "output_type": "stream",
     "text": [
      "Extracted value of k = (19.6 +/- 8.2) x 10^9 Nm^2/C^2\n"
     ]
    }
   ],
   "execution_count": 33
  },
  {
   "cell_type": "code",
   "metadata": {
    "ExecuteTime": {
     "end_time": "2024-07-16T13:33:06.465953Z",
     "start_time": "2024-07-16T13:33:06.460863Z"
    }
   },
   "source": [
    "# Finally, let's calculate an error budget.  We would like to understand how much the various uncertainties in the experiment\n",
    "# contribute to the final error that we get in the extraction of k.\n",
    "\n",
    "error_budget = [['R_sphere',2*dR_sphere/R_sphere*100],['V',2*dV/V*100],['Slope',dslope/slope*100],['Total',dk/k*100]]\n",
    "df4 = pd.DataFrame(error_budget, columns = ['Source', 'Percentage Error'])\n",
    "\n",
    "df4"
   ],
   "outputs": [
    {
     "data": {
      "text/plain": [
       "     Source  Percentage Error\n",
       "0  R_sphere         10.526316\n",
       "1         V          2.333333\n",
       "2     Slope         28.736360\n",
       "3     Total         41.596009"
      ],
      "text/html": [
       "<div>\n",
       "<style scoped>\n",
       "    .dataframe tbody tr th:only-of-type {\n",
       "        vertical-align: middle;\n",
       "    }\n",
       "\n",
       "    .dataframe tbody tr th {\n",
       "        vertical-align: top;\n",
       "    }\n",
       "\n",
       "    .dataframe thead th {\n",
       "        text-align: right;\n",
       "    }\n",
       "</style>\n",
       "<table border=\"1\" class=\"dataframe\">\n",
       "  <thead>\n",
       "    <tr style=\"text-align: right;\">\n",
       "      <th></th>\n",
       "      <th>Source</th>\n",
       "      <th>Percentage Error</th>\n",
       "    </tr>\n",
       "  </thead>\n",
       "  <tbody>\n",
       "    <tr>\n",
       "      <th>0</th>\n",
       "      <td>R_sphere</td>\n",
       "      <td>10.526316</td>\n",
       "    </tr>\n",
       "    <tr>\n",
       "      <th>1</th>\n",
       "      <td>V</td>\n",
       "      <td>2.333333</td>\n",
       "    </tr>\n",
       "    <tr>\n",
       "      <th>2</th>\n",
       "      <td>Slope</td>\n",
       "      <td>28.736360</td>\n",
       "    </tr>\n",
       "    <tr>\n",
       "      <th>3</th>\n",
       "      <td>Total</td>\n",
       "      <td>41.596009</td>\n",
       "    </tr>\n",
       "  </tbody>\n",
       "</table>\n",
       "</div>"
      ]
     },
     "execution_count": 34,
     "metadata": {},
     "output_type": "execute_result"
    }
   ],
   "execution_count": 34
  },
  {
   "cell_type": "markdown",
   "metadata": {},
   "source": [
    "# Analysis of Part I\n",
    "\n",
    "Our first observation, as noted above, is that we see the expected linear dependence, as predicted by theory.\n",
    "\n",
    "The extracted value of $k_e$ is $(13.3 \\pm 3.3) \\times 10^{9} Nm^2/C^2$.  This is slightly higher than the expected value of $k_e = 9 \\times 10^{9} Nm^2/C^2$.\n"
   ]
  },
  {
   "cell_type": "markdown",
   "metadata": {},
   "source": [
    "# Part II:  Investigation of the Dependence of the Force on Charge"
   ]
  },
  {
   "cell_type": "markdown",
   "metadata": {},
   "source": [
    "For this part of the experiment, you will verify that the force increases linearly with the charge. However, because\n",
    "you will be charging both spheres, the fit should actually be quadratic according to equation (6). The procedure is\n",
    "almost identical to the previous experiment:\n",
    "1. Slide the movable sphere to the far end of the track (38 cm).\n",
    "2. Turn on the power supply and ensure it is set to 6 kV.\n",
    "3. Charge both spheres by gently touching them with the probe. Keep your hands as far from the spheres as possible to avoid capacitive effects. Do not touch the spheres after they've been charged. If you accidentally touch one, use the grounding clip to discharge it and then re-charge it.\n",
    "4. Turn off the power supply.\n",
    "5. Slide the movable sphere to d = 0.08 m. The Coulomb Balance will move due to the electric force pushing the spheres apart.\n",
    "6. Rotate the upper torsion knob until the index marks are once again aligned. Try to do this at arm's length (Hint: don't worry about reading the dial until the index marks are aligned). Record this angle in Table 3.\n",
    "7. Return the upper torsion knob to zero degrees, slide the movable sphere to 38 cm, and discharge both spheres by touching the grounding clip to each one. Replace the grounding clip.\n",
    "8. Verify that the index marks are once again aligned. If not, adjust the lower torsion wire retainer.\n",
    "9. Repeat steps 2—8 and verify your result.\n",
    "10. Repeat steps 2—9 for the following voltages: 5, 4, 3, 2, and 1 kV.\n",
    "11. Plot the restoring force, $k'\\theta$, in Newtons vs. the charge squared, Q2, and do a linear fit (you will needequation (7) to compute the charge).\n",
    "\n",
    "**Using the code from Part I as a starting point, analyze the data from Part II** "
   ]
  },
  {
   "cell_type": "code",
   "metadata": {
    "ExecuteTime": {
     "end_time": "2024-07-16T13:33:09.851929Z",
     "start_time": "2024-07-16T13:33:09.848966Z"
    }
   },
   "source": [],
   "outputs": [],
   "execution_count": 34
  },
  {
   "cell_type": "markdown",
   "metadata": {},
   "source": [
    "## Clean Up\n",
    "Once you've completed the experiment, return your Coulomb Balance to a safe state by following these steps in this\n",
    "order:\n",
    "1. Ensure that the HV power supply is switched off. Remove the grounding clip.\n",
    "2. Loosen the index arm and move it so that it is in a position to clamp the vane of the Balance.\n",
    "3. Secure the index arm.\n",
    "4. Use two fingers to press the lower portion of the clamp against the bottom of the vane and pin it against the underside of the index arm. While holding pressure, securely tighten the clamp with the plastic screw.\n",
    "5. Gently remove the Coulomb Balance sphere from the rod by sliding the sphere into the bag and then gently slide the sphere off of the rod. Close the bag and set it on the bottom plate of the balance.\n",
    "6. Unscrew the two screws in the sliding assembly holding the sliding assembly to the Coulomb Balance. Move the sliding assembly aside and loosely replace the screws back into the sliding assembly (just a few turns will suffice)."
   ]
  },
  {
   "cell_type": "code",
   "metadata": {
    "ExecuteTime": {
     "end_time": "2024-07-16T13:24:32.322355Z",
     "start_time": "2024-07-16T13:24:32.321045Z"
    }
   },
   "source": [],
   "outputs": [],
   "execution_count": 12
  },
  {
   "metadata": {},
   "cell_type": "code",
   "outputs": [],
   "execution_count": null,
   "source": ""
  }
 ],
 "metadata": {
  "kernelspec": {
   "display_name": "Python 3",
   "language": "python",
   "name": "python3"
  },
  "language_info": {
   "codemirror_mode": {
    "name": "ipython",
    "version": 3
   },
   "file_extension": ".py",
   "mimetype": "text/x-python",
   "name": "python",
   "nbconvert_exporter": "python",
   "pygments_lexer": "ipython3",
   "version": "3.6.8"
  },
  "latex_envs": {
   "LaTeX_envs_menu_present": true,
   "autoclose": false,
   "autocomplete": true,
   "bibliofile": "biblio.bib",
   "cite_by": "apalike",
   "current_citInitial": 1,
   "eqLabelWithNumbers": true,
   "eqNumInitial": 1,
   "hotkeys": {
    "equation": "Ctrl-E",
    "itemize": "Ctrl-I"
   },
   "labels_anchors": false,
   "latex_user_defs": false,
   "report_style_numbering": false,
   "user_envs_cfg": false
  }
 },
 "nbformat": 4,
 "nbformat_minor": 4
}
