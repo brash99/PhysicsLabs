{
 "cells": [
  {
   "cell_type": "markdown",
   "metadata": {},
   "source": [
    "# Lab 1: Coulomb's Law"
   ]
  },
  {
<<<<<<< HEAD
   "cell_type": "code",
   "metadata": {
    "ExecuteTime": {
     "end_time": "2025-06-20T20:19:19.635868Z",
     "start_time": "2025-06-20T20:19:19.631971Z"
=======
   "cell_type": "markdown",
   "metadata": {},
   "source": [
    "# Theory\n",
    "\n",
    "We can measure the electric force produced by two collections of charge if we can successfully balance that force\n",
    "with another, known, force. Because we can only move very tiny amounts of charge around, the electric force we\n",
    "produce tends to be very small, even though we now know that the electric force is much stronger than the gravitational force. It was Charles Augustin de Coulomb who discovered the very sensitive force balance that we will be\n",
    "using: the torsion balance.\n",
    "\n",
    "# The Torsion Balance\n",
    "The torsion balance is the rotational analogue of a spring balance. In a spring balance, a force causes a spring to either stretch or compress and the spring produces a restoring force given by Hooke's Law:\n",
    "\n",
    "$$F=−kx\\tag{1}$$\n",
    "\n",
    "where $F$ is the restoring force, $x$ is the amount the spring has been stretched or compressed, and $k$ is Hooke's Constant which characterizes the strength of the spring. Coulomb found that a twisted wire would do the same thing for\n",
    "torque that a spring does for forces:\n",
    "\n",
    "$$\\tau=−k\\theta\\tag{2}$$\n",
    "\n",
    "where $\\tau$ is the restoring torque produced by the twisted wire, $θ$ is the angle that the wire has been twisted, and $k$ is Hooke's Constant which characterizes the stiffness of the wire. Because we will be working with forces and not torques, we will use a revised version of this equation. Recall that torque is simply the product of a force $F$, and the distance $r$, away from a pivot point that the force acts. So we can re-write equation:\n",
    "\n",
    "$$rF=−k\\theta\\tag{3}$$\n",
    "\n",
    "In the torsion balance, the distance $r$, is a constant. So we can divide both sides by $r$:\n",
    "\n",
    "$$F=−k'\\theta \\;where\\; k'= \\frac{k} {r}\\tag{4}$$\n",
    "\n",
    "We will need to measure this constant $k'$, so that we can convert an angle into a force. By measuring the angles required to produce different forces, we can plot the results and expect that the slope of the Force vs. Angle graph will\n",
    "give us Hooke's Constant in Newtons per degree [N/deg].\n",
    "\n",
    "# Coulomb's Law\n",
    "Coulomb's Law for the force, F, between two charged objects is given as\n",
    "\n",
    "$$F= \\frac{ke Q q}{R^2}\\tag{5}$$\n",
    "\n",
    "\n",
    "Where $ke$ is a constant which makes the units work $(8.98755x10^9 N \\frac{m^2}{C^2})$, $Q$ and $q$ are the charges of the two objects (in units of Coulombs), and $R$ is the center-to-center distance between the two charged objects.\n",
    "In the second part of this experiment, you will be holding the product $keQq$ constant and varying the distance $R$, between the two charged objects to verify that the force follows a $\\frac{1}{R2}$\n",
    " curve.\n",
    "In the third part of this experiment, you will hold the distance $R$, constant, and change the charge on each sphere.\n",
    "Because both spheres will be charged the same, $Q=q$ and we can write\n",
    "$$F= \\frac{ke Q^2}{R^2}$$\n",
    "\n",
    "The charge on each sphere will depend on the voltage setting $V$, on the power supply and the radius $r$, of the sphere:\n",
    "\n",
    "$$V=\\frac{keQ}{r}\\;  or \\;Q=\\frac{Vr}{ke}\\tag{6}$$\n",
    "\n",
    "The radius of the sphere is 1.900(25) cm."
   ]
  },
  {
   "cell_type": "code",
   "metadata": {
    "ExecuteTime": {
     "end_time": "2024-07-16T13:32:47.166065Z",
     "start_time": "2024-07-16T13:32:47.158376Z"
>>>>>>> 9e1e6ccbe64d4b33a15e259f670a628d5305612f
    }
   },
   "source": [
    "import numpy as np\n",
    "import pandas as pd\n",
    "import matplotlib.pyplot as plt\n",
<<<<<<< HEAD
    "import scipy.stats as stats\n"
   ],
   "outputs": [],
   "execution_count": 13
=======
    "import scipy.stats as stats\n",
    "\n",
    "# The following lines make plots in dark mode look reasonable.  If you are not using dark\n",
    "# mode you don't need them, but you can also just leave them here and it should work fine.\n",
    "\n",
    "dark_mode = True\n",
    "# plotting choices for dark-mode\n",
    "if (dark_mode):\n",
    "    from jupyterthemes import jtplot\n",
    "    jtplot.style(theme='monokai', context='notebook', ticks=True, grid=False)\n",
    "    linecolor = 'w'\n",
    "else:\n",
    "    linecolor = 'k'"
   ],
   "outputs": [],
   "execution_count": 25
>>>>>>> 9e1e6ccbe64d4b33a15e259f670a628d5305612f
  },
  {
   "cell_type": "markdown",
   "metadata": {},
   "source": [
    "# Calibration of the Torsion Pendulum\n",
    "\n",
    "maybe add image here\n",
    "\n",
    "## Equipment Setup\n",
    "\n",
    "**Do not rush through the following procedure.  Proper balancing of the pendulum is crucial to getting quality \n",
    "data.**\n",
    "\n",
    "\n",
    "The first step to getting a good measurement is to ensure that the pendulum is balanced properly.\n",
    "1. Do not remove the conductive sphere from the plastic bag with your hands! Open the plastic bag and slip the sphere's mounting tube onto the fiberglass rod, then gently push the sphere out of the bag.\n",
    "2. Loosen the upper screw of packing clamp that is holding the vane.  The pendulum should rotate freely.  The pendulum should also be approximately level.\n",
    "3. Adjust the index arm (that's the arm that has the mark on it and is also the packing clamp) so that it is at the \n",
    "same height as the vane and a millimeter or two away from it.\n",
    "4. Adjust the magnetic damping assembly so that the vane is (vertically) midway between the magnets.\n",
    "5. Rotate the upper torsion knob so that the scale reads zero degrees.\n",
    "6. Gently rotate the bottom torsion-wire retainer until the index line on the vane matches the index line on the \n",
    "index arm.  Do not loosen the thumbscrew.  This adjustment will require you to be patient, stand well back from the assembly, and give it a minute or two to equilibrate."
   ]
  },
  {
   "cell_type": "code",
   "metadata": {
    "ExecuteTime": {
<<<<<<< HEAD
     "end_time": "2025-06-20T20:19:21.101764Z",
     "start_time": "2025-06-20T20:19:21.094383Z"
=======
     "end_time": "2024-07-16T13:32:48.942570Z",
     "start_time": "2024-07-16T13:32:48.936259Z"
>>>>>>> 9e1e6ccbe64d4b33a15e259f670a628d5305612f
    }
   },
   "source": [
    "# Create a Pandas DataFrame with data for calibration of Torsion pendulum\n",
    "\n",
<<<<<<< HEAD
    "# The data elements are [mass in mg, error in mass in mg, angle in degrees, error in angle in degrees]\n",
    "calibration_data = [[0, 0.0, 25.5, 0.5], [20, 0.0, 160,0.5], [40, 0.0, 291,0.5], \n",
    "                    [50, 0.0, 353.5,0.5], [70, 0.0, 490,0.5], [90, 0.0, 630,0.5]]\n",
=======
    "# Enter Data Here: [m (mg), δm (mg), 𝜃 (deg), δ𝜃 (degrees)]\n",
    "calibration_data = [[0,  0.0, 75, 0.5],  # mass 1\n",
    "                    [20, 0.0, 190,0.5],  # mass 2\n",
    "                    [40, 0.0, 303,0.5],  # mass 3\n",
    "                    [50, 0.0, 355,0.5],  # mass 5\n",
    "                    [70, 0.0, 461,0.5],  # mass 5\n",
    "                    [90, 0.0, 584,0.5]]  # mass 6\n",
>>>>>>> 9e1e6ccbe64d4b33a15e259f670a628d5305612f
    "\n",
    "# The values in this next line are for the WebWork exercise.\n",
    "#calibration_data = [[152.9, 0.0, 9.3, 0.0], [448.5, 0.0, 19.3, 0.0], \n",
    "#                    [550.5, 0.0, 25.1, 0.0], [560.7, 0.0, 29.8, 0.0], \n",
    "#                    [825.7, 0.0, 39.1, 0.0]]\n",
    "\n",
    "# create dataframe\n",
    "df = pd.DataFrame(calibration_data, columns = ['Mass_mg', 'dMass_mg', 'Theta_Raw', 'dTheta_Raw'])\n",
    "\n",
    "print('Raw Data - Calibration')\n",
    "df\n"
   ],
   "outputs": [
    {
     "name": "stdout",
     "output_type": "stream",
     "text": [
      "Raw Data - Calibration\n"
     ]
    },
    {
     "data": {
      "text/plain": [
       "   Mass_mg  dMass_mg  Theta_Raw  dTheta_Raw\n",
<<<<<<< HEAD
       "0        0       0.0       25.5         0.5\n",
       "1       20       0.0      160.0         0.5\n",
       "2       40       0.0      291.0         0.5\n",
       "3       50       0.0      353.5         0.5\n",
       "4       70       0.0      490.0         0.5\n",
       "5       90       0.0      630.0         0.5"
=======
       "0        0       0.0         75         0.5\n",
       "1       20       0.0        190         0.5\n",
       "2       40       0.0        303         0.5\n",
       "3       50       0.0        355         0.5\n",
       "4       70       0.0        461         0.5\n",
       "5       90       0.0        584         0.5"
>>>>>>> 9e1e6ccbe64d4b33a15e259f670a628d5305612f
      ],
      "text/html": [
       "<div>\n",
       "<style scoped>\n",
       "    .dataframe tbody tr th:only-of-type {\n",
       "        vertical-align: middle;\n",
       "    }\n",
       "\n",
       "    .dataframe tbody tr th {\n",
       "        vertical-align: top;\n",
       "    }\n",
       "\n",
       "    .dataframe thead th {\n",
       "        text-align: right;\n",
       "    }\n",
       "</style>\n",
       "<table border=\"1\" class=\"dataframe\">\n",
       "  <thead>\n",
       "    <tr style=\"text-align: right;\">\n",
       "      <th></th>\n",
       "      <th>Mass_mg</th>\n",
       "      <th>dMass_mg</th>\n",
       "      <th>Theta_Raw</th>\n",
       "      <th>dTheta_Raw</th>\n",
       "    </tr>\n",
       "  </thead>\n",
       "  <tbody>\n",
       "    <tr>\n",
       "      <th>0</th>\n",
       "      <td>0</td>\n",
       "      <td>0.0</td>\n",
       "      <td>75</td>\n",
       "      <td>0.5</td>\n",
       "    </tr>\n",
       "    <tr>\n",
       "      <th>1</th>\n",
       "      <td>20</td>\n",
       "      <td>0.0</td>\n",
       "      <td>190</td>\n",
       "      <td>0.5</td>\n",
       "    </tr>\n",
       "    <tr>\n",
       "      <th>2</th>\n",
       "      <td>40</td>\n",
       "      <td>0.0</td>\n",
       "      <td>303</td>\n",
       "      <td>0.5</td>\n",
       "    </tr>\n",
       "    <tr>\n",
       "      <th>3</th>\n",
       "      <td>50</td>\n",
       "      <td>0.0</td>\n",
       "      <td>355</td>\n",
       "      <td>0.5</td>\n",
       "    </tr>\n",
       "    <tr>\n",
       "      <th>4</th>\n",
       "      <td>70</td>\n",
       "      <td>0.0</td>\n",
       "      <td>461</td>\n",
       "      <td>0.5</td>\n",
       "    </tr>\n",
       "    <tr>\n",
       "      <th>5</th>\n",
       "      <td>90</td>\n",
       "      <td>0.0</td>\n",
       "      <td>584</td>\n",
       "      <td>0.5</td>\n",
       "    </tr>\n",
       "  </tbody>\n",
       "</table>\n",
       "</div>"
      ]
     },
<<<<<<< HEAD
     "execution_count": 14,
=======
     "execution_count": 26,
>>>>>>> 9e1e6ccbe64d4b33a15e259f670a628d5305612f
     "metadata": {},
     "output_type": "execute_result"
    }
   ],
<<<<<<< HEAD
   "execution_count": 14
=======
   "execution_count": 26
>>>>>>> 9e1e6ccbe64d4b33a15e259f670a628d5305612f
  },
  {
   "cell_type": "code",
   "metadata": {
    "ExecuteTime": {
<<<<<<< HEAD
     "end_time": "2025-06-20T20:19:22.065963Z",
     "start_time": "2025-06-20T20:19:22.058980Z"
=======
     "end_time": "2024-07-16T13:32:50.023587Z",
     "start_time": "2024-07-16T13:32:50.016158Z"
>>>>>>> 9e1e6ccbe64d4b33a15e259f670a628d5305612f
    }
   },
   "source": [
    "# What is the uncertainty in the mass?  We are not really told in the video.  But, let's\n",
    "# make an educated guess ... it is probably going to be some absolute finite number, plus\n",
    "# some percentage error.\n",
    "\n",
    "df['dMass_mg'] = 0.1 + df['Mass_mg']*0.01\n",
    "\n",
    "# Calcualate the actual value of theta by subtracting off the angle for Mass=0.  Also, \n",
    "# calculate the error in the actual angle using dTheta = dTheta_Raw[i] + dtheta_Raw[0]\n",
    "\n",
    "offset = df['Theta_Raw'][0]\n",
    "doffset = df['dTheta_Raw'][0]\n",
    "\n",
    "# For WebWork\n",
    "#offset = 0\n",
    "#doffset = 0\n",
    "\n",
    "df['Theta'] = df['Theta_Raw'] - offset\n",
    "df['dTheta'] = df['dTheta_Raw'] + doffset\n",
    "\n",
    "# Calculate the mass in kg, and the error in the mass in kg\n",
    "df['Mass'] = df['Mass_mg']*0.000001\n",
    "df['dMass'] = df['dMass_mg']*0.000001\n",
    "\n",
    "# Calculate the gravitational Force (and Error) in Newtons\n",
    "g = 9.81\n",
    "df['Force'] = df['Mass']*g\n",
    "df['dForce'] = df['dMass']*g\n",
    "\n",
    "print(df.to_string(index=False))"
   ],
   "outputs": [
    {
     "name": "stdout",
     "output_type": "stream",
     "text": [
      " Mass_mg  dMass_mg  Theta_Raw  dTheta_Raw  Theta  dTheta    Mass        dMass    Force       dForce\n",
<<<<<<< HEAD
      "       0       0.1       25.5         0.5    0.0     1.0 0.00000 1.000000e-07 0.000000 9.810000e-07\n",
      "      20       0.3      160.0         0.5  134.5     1.0 0.00002 3.000000e-07 0.000196 2.943000e-06\n",
      "      40       0.5      291.0         0.5  265.5     1.0 0.00004 5.000000e-07 0.000392 4.905000e-06\n",
      "      50       0.6      353.5         0.5  328.0     1.0 0.00005 6.000000e-07 0.000490 5.886000e-06\n",
      "      70       0.8      490.0         0.5  464.5     1.0 0.00007 8.000000e-07 0.000687 7.848000e-06\n",
      "      90       1.0      630.0         0.5  604.5     1.0 0.00009 1.000000e-06 0.000883 9.810000e-06\n"
     ]
    }
   ],
   "execution_count": 15
=======
      "       0       0.1         75         0.5      0     1.0 0.00000 1.000000e-07 0.000000 9.810000e-07\n",
      "      20       0.3        190         0.5    115     1.0 0.00002 3.000000e-07 0.000196 2.943000e-06\n",
      "      40       0.5        303         0.5    228     1.0 0.00004 5.000000e-07 0.000392 4.905000e-06\n",
      "      50       0.6        355         0.5    280     1.0 0.00005 6.000000e-07 0.000490 5.886000e-06\n",
      "      70       0.8        461         0.5    386     1.0 0.00007 8.000000e-07 0.000687 7.848000e-06\n",
      "      90       1.0        584         0.5    509     1.0 0.00009 1.000000e-06 0.000883 9.810000e-06\n"
     ]
    }
   ],
   "execution_count": 27
>>>>>>> 9e1e6ccbe64d4b33a15e259f670a628d5305612f
  },
  {
   "cell_type": "markdown",
   "metadata": {},
   "source": [
    "# Fitting Stuff\n",
    "\n",
    "You may have already seen examples of both linear and non-linear regression fits to data.  In most (maybe all?) experiments though, we often have uncertainties associated with each data point.  We should understand more about how this affects the fitting procedure.\n",
    "\n",
    "The linear/non-linear regression examples that we have studied thus far use a method called \"Ordinary Least Squares\".  The basic theory behind this is:\n",
    "\n",
    "$$\\chi^2 = \\sum_i^N (y_i - y_{fit}(x_i))^2\\tag{7}$$\n",
    "\n",
    "where $y_{fit} = f(a,b,c,...)$ is the fitting function.  The idea is that we must solve the set of equations defined by:\n",
    "\n",
    "$$\\frac{\\partial \\chi^2}{\\partial a} = 0, \\frac{\\partial \\chi^2}{\\partial b} = 0, \\frac{\\partial \\chi^2}{\\partial c} = 0, ...\\tag{8}$$\n",
    "\n",
    "In the case of polynomial fitting functions (of any order), the values of the polynomial coefficients are uniquely defined.  That is, there is a single global minimum in the $\\chi^2$ function.  For other non-linear fitting functions, there may be local minima in the $\\chi^2$ function, and this requires that we provide initial starting values for the parameters of the fitting function that are close to the global minimum.\n",
    "\n",
    "When we have uncertainties for each of the $N$ data points, the definition of $\\chi^2$ becomes:\n",
    "\n",
    "$$\\chi^2 = \\sum_i^N \\left (\\frac{y_i - y_{fit}(x_i)}{\\sigma_i}\\right)^2\\tag{9}$$\n",
    "\n",
    "Now, for this calibration procedure, we have ZERO uncertainty in the y-variable (Mass), and we have some non-zero uncertainty in the x-variable (Angle).  As it turns out, the Ordinary Least Squares procedure can ONLY take into account uncertainties in the y-variable!!!!  This is a actually a significant limitation of this procedure, and we actually should use a more advanced methodology.\n",
    "\n",
    "The method of choice here is called Orthogonal Distance Regression.  The idea is that we want to minimize the orthogonal distance between the line of best fit and the data points.  It is actually a fairly complicated procedure, and we are\n",
    "going to use some Python code that I have written to do this that uses some Python libraries written expressly for this\n",
    "purpose."
   ]
  },
  {
   "cell_type": "markdown",
   "metadata": {},
   "source": [
    "# The Fitting Code\n",
    "\n",
    "The following cell is a very important one!  We will be using this fitting procedure in basically every experiment this semester!!!!\n",
    "\n",
    "The idea is this:  The first few lines are where we define the data to be fitted.  We need an array of x-values (xi), an array of y-values (yi). We also\n",
    "include definitions of arrays for the uncertainties in x (sigmaxi) and y (sigmayi).\n",
    "\n",
    "The lines after that carry out a fairly sophisticated fitting procedure that includes calculation of upper and lower \"bands\" of the fit corresponding to the error limits on the fit parameters.  These lines give a nice visual\n",
    "interpretation of how good the fit is, and whether it captures the variation in the\n",
    "data.\n",
    "\n",
    "This code also prints out the final result for the Y = (m +/- dm)X + ( b +/- db) fit.  \n",
    "\n",
    "*NOTE*:  You might have to change the number of decimal places that are printed out for the final result!!!"
   ]
  },
  {
   "cell_type": "code",
   "metadata": {
    "ExecuteTime": {
<<<<<<< HEAD
     "end_time": "2025-06-20T20:19:26.395471Z",
     "start_time": "2025-06-20T20:19:25.850317Z"
=======
     "end_time": "2024-07-16T13:32:55.028630Z",
     "start_time": "2024-07-16T13:32:54.562700Z"
>>>>>>> 9e1e6ccbe64d4b33a15e259f670a628d5305612f
    }
   },
   "source": [
    "xi = df['Theta']\n",
    "yi = df['Force']\n",
    "sigmaxi = df['dTheta']\n",
    "sigmayi = df['dForce']\n",
    "\n",
    "##############################\n",
    "\n",
    "from scipy.odr import *\n",
    "\n",
    "def fitfunction(B, x):\n",
    "    '''Linear function y = m*x + b'''\n",
    "    # B is a vector of the parameters.\n",
    "    # x is an array of the current x values.\n",
    "    # x is in the same format as the x passed to Data or RealData.\n",
    "    #\n",
    "    # Return an array in the same format as y passed to Data or RealData.\n",
    "    return B[0]*x + B[1]\n",
    "\n",
    "linear = Model(fitfunction) # create a Model object based on the fitfuncion we have defined\n",
    "mydata = RealData(xi, yi, sx=sigmaxi, sy=sigmayi) # create a data object based on our data, include errors.\n",
    "myodr = ODR(mydata, linear, beta0=[1., 2.]) # create a fitting object, based on the data, fit Model, and an intial set of parameters.\n",
    "myoutput = myodr.run()  # run the fitting process to get optimized parameters!\n",
    "\n",
    "myoutput.pprint() # print out the result of the fit\n",
    "\n",
    "# Now assign the important fit results to some more convenient variables.\n",
    "\n",
    "popt = myoutput.beta # the vector of optimized parameters\n",
    "pcov = myoutput.cov_beta # the covariance matrix\n",
    "perr = myoutput.sd_beta # the vector of ERRORS in the optimized parameters\n",
    "\n",
    "# The following lines generate upper and lower 99% \"Confidence Bands\" on the fit, for visualization\n",
    "# purposes.\n",
    "\n",
    "ps = np.random.multivariate_normal(popt,pcov,10000)\n",
    "ysample=np.asarray([fitfunction(pi,xi) for pi in ps])\n",
    "\n",
    "lower = np.percentile(ysample,0.5,axis=0)\n",
    "upper = np.percentile(ysample,99.5,axis=0)\n",
    "middle = (lower+upper)/2.0\n",
    "\n",
    "print()\n",
    "print (\"Final Result: Y = (%0.9f +/- %0.9f) X + (%0.9f +/- %0.9f)\" % (popt[0],perr[0],popt[1],perr[1]))\n",
    "\n",
    "plt.figure(figsize=(8, 6), dpi=80)\n",
    "\n",
    "plt.errorbar(xi, yi, xerr=sigmaxi, yerr=sigmayi, fmt='o', capsize=2, capthick=1)\n",
    "\n",
    "plt.plot(xi,middle)\n",
    "plt.fill_between(xi,lower,upper,alpha=0.5)\n",
    "\n",
    "#########################\n",
    "\n",
    "plt.xlabel('Angle (degrees)')\n",
    "plt.ylabel('Force (Newtons)')\n",
    "plt.title('Calibration of Torsion Balance:  Dependence of Force on Angle')\n",
    "plt.show()"
   ],
   "outputs": [
    {
     "name": "stdout",
     "output_type": "stream",
     "text": [
<<<<<<< HEAD
      "Beta: [ 1.47530649e-06 -1.35261014e-07]\n",
      "Beta Std Error: [7.75298526e-09 1.31191619e-06]\n",
      "Beta Covariance: [[ 9.64987975e-17 -8.62443477e-15]\n",
      " [-8.62443477e-15  2.76309724e-12]]\n",
      "Residual Variance: 0.6228966783454674\n",
      "Inverse Condition #: 0.00502741957470811\n",
      "Reason(s) for Halting:\n",
      "  Sum of squares convergence\n",
      "\n",
      "Final Result: Y = (0.000001475 +/- 0.000000008) X + (-0.000000135 +/- 0.000001312)\n"
=======
      "Beta: [ 1.74633555e-06 -1.02109544e-06]\n",
      "Beta Std Error: [1.41850508e-08 2.18283449e-06]\n",
      "Beta Covariance: [[ 1.46398627e-16 -1.27246150e-14]\n",
      " [-1.27246150e-14  3.46670450e-12]]\n",
      "Residual Variance: 1.3744368433612735\n",
      "Inverse Condition #: 0.0053713546516330705\n",
      "Reason(s) for Halting:\n",
      "  Sum of squares convergence\n",
      "\n",
      "Final Result: Y = (0.000001746 +/- 0.000000014) X + (-0.000001021 +/- 0.000002183)\n"
>>>>>>> 9e1e6ccbe64d4b33a15e259f670a628d5305612f
     ]
    },
    {
     "data": {
      "text/plain": [
       "<Figure size 640x480 with 1 Axes>"
      ],
<<<<<<< HEAD
      "image/png": "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"
=======
      "image/png": "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"
>>>>>>> 9e1e6ccbe64d4b33a15e259f670a628d5305612f
     },
     "metadata": {},
     "output_type": "display_data"
    }
   ],
<<<<<<< HEAD
   "execution_count": 16
=======
   "execution_count": 28
>>>>>>> 9e1e6ccbe64d4b33a15e259f670a628d5305612f
  },
  {
   "cell_type": "markdown",
   "metadata": {},
   "source": [
    "## Analysis of Calibration Result\n",
    "\n",
    "First of all, we see that this is a very good fit.  The upper and lower error band lines\n",
    "are barely distinguishable from one another.  This tells us that we are able to determine the Force for a given angle quite accurately!  Cool!\n",
    "\n",
    "Second, we see that the result for the y-intercept (b) is consistent with zero $(0.135 \\pm 1.312) \\times 10^{-6}$ Newtons.  This is consistent with our expectations.  Since it is consistent with\n",
    "zero, we can just ignore this going forward and assume it is identically zero.\n",
    "\n",
    "Third, we see that the calibration constant that we were trying to determine is\n",
    "$(1.475 \\pm 0.008) \\times 10^{-6}$ Newtons/degree.  As we said, this is quite well-determined ... the percentage error is $(0.008/1.475)*100\\% = 0.54 \\%$."
   ]
  },
  {
   "cell_type": "code",
   "metadata": {
    "ExecuteTime": {
<<<<<<< HEAD
     "end_time": "2025-06-20T20:20:02.706697Z",
     "start_time": "2025-06-20T20:20:02.704030Z"
=======
     "end_time": "2024-07-16T13:32:56.648212Z",
     "start_time": "2024-07-16T13:32:56.644527Z"
>>>>>>> 9e1e6ccbe64d4b33a15e259f670a628d5305612f
    }
   },
   "source": [
    "#\n",
    "# Remember the results of the calibration part of the experiment ... we will use this later, to convert angles into Force values!\n",
    "#\n",
    "calibration_factor = popt[0]\n",
    "\n",
    "# We will use 3 times the error in the slope from above, as this represents a 99% confidence level ... this is appropriate\n",
    "# given that we are assuming \"maximum possible error\" when combining with other instrumental uncertainties in the\n",
    "# experiment\n",
    "dcalibration_factor = 3*perr[0]"
   ],
   "outputs": [],
<<<<<<< HEAD
   "execution_count": 17
=======
   "execution_count": 29
>>>>>>> 9e1e6ccbe64d4b33a15e259f670a628d5305612f
  },
  {
   "cell_type": "markdown",
   "metadata": {},
   "source": [
    "# Part I:  Investigation of the Dependence of the Force on Distance\n",
    "\n",
    "Now that we can compute the restoring force given a torsion angle, we are ready to measure electrical forces. This\n",
    "will require a little set up:\n",
    "1. Ensure that the conductive sphere has not slipped down the rod. Ensure that the upper torsion knob reads\n",
    "zero degrees. Adjust the bottom torsion wire retainer so that the two index marks are aligned.\n",
    "2. On the slide assembly, slide the movable sphere to its furthest position (38 cm) and attach the slide assem -\n",
    "bly to the Coulomb Balance using the two plastic screws (Be careful not to cross-thread the plastic screws!\n",
    "If they won't go in easily, call your instructor over.)\n",
    "3. Carefully slide the movable sphere to the 3.8 cm mark. The two spheres should just touch when the index\n",
    "marks are aligned on the Coulomb Balance and the movable sphere is set to 3.8 cm. You can adjust the po-\n",
    "sition of the movable sphere by loosening the screw on the top of the post holding the movable sphere.\n",
    "Make sure you re-tighten the screw after you've adjusted the movable sphere's position.\n",
    "4. Attach the ground clip from the High Voltage power supply to the index arm of the Coulomb Balance.\n",
    "\n",
    "You are now ready to take data. We will be charging both spheres with the power supply set to 6 kV. The uncer -\n",
    "tainty in the voltage (\n",
    "($\\delta V$) is 1% + 1 digit (i.e. 1% of the value displayed plus 1x the smallest digit displayed. In this\n",
    "case, that would be 1% + 10 V).\n",
    "1. Slide the movable sphere to the far end of the track (38 cm).\n",
    "2. Turn on the power supply and ensure it is set to 6 kV.\n",
    "3. Charge both spheres by gently touching them with the probe. Keep your hands as far from the spheres as possible to avoid capacitive effects. Do not touch the spheres after they've been charged. If you accidentally touch one, discharge it using the ground clip and then re-charge.\n",
    "4. Turn off the power supply.\n",
    "5. Slide the movable sphere to 20 cm. The Coulomb Balance will move due to the electric force pushing the\n",
    "spheres apart.\n",
    "6. Rotate the upper torsion knob until the index marks are once again aligned. Try to do this at arm's length (Hint: don't worry about reading the dial until the index marks are aligned). Record this angle in Table 2.\n",
    "7. Return the upper torsion knob to zero degrees, slide the movable sphere to 38 cm, and discharge both spheres by touching the grounding clip to each one. Replace the grounding clip.\n",
    "8. Verify that the index marks are once again aligned. If not, adjust the lower torsion wire retainer.\n",
    "9. Repeat steps 2—8 and verify your result.\n",
    "10. Repeat steps 2—9 for the following distances: 14, 10, 9, 8, 7, and 6 cm."
   ]
  },
  {
   "cell_type": "code",
   "metadata": {
    "ExecuteTime": {
<<<<<<< HEAD
     "end_time": "2025-06-20T20:20:09.888148Z",
     "start_time": "2025-06-20T20:20:09.881707Z"
    }
   },
   "source": [
    "# Create a Pandas DataFrame with data for part 1 of the experiment:  understanding the relation of Force to distance, at constant\n",
    "# charge\n",
    "\n",
    "# The data elements are [distance in cm, angle in degrees] ... again, since we are going to do a linear regression using OLS, we will\n",
    "# not include errors\n",
    "data1 = [[20,15, 0.5], [20,16.5,0.5], [14,45,0.5], [14,40,0.5], [10,65,0.5], [10,72,0.5], [9,80,0.5], \n",
    "         [9,80,0.5], [8,105,0.5], [8,103,0.5], [7,141,0.5], [7,140,0.5], [6,181,0.5], [6,178,0.5]]\n",
    "# create dataframe\n",
    "df2 = pd.DataFrame(data1, columns = ['R_cm', 'Theta','dTheta'])\n",
    "\n",
    "print(df2.to_string(index=False))"
   ],
   "outputs": [
    {
     "name": "stdout",
     "output_type": "stream",
     "text": [
      " R_cm  Theta  dTheta\n",
      "   20   15.0     0.5\n",
      "   20   16.5     0.5\n",
      "   14   45.0     0.5\n",
      "   14   40.0     0.5\n",
      "   10   65.0     0.5\n",
      "   10   72.0     0.5\n",
      "    9   80.0     0.5\n",
      "    9   80.0     0.5\n",
      "    8  105.0     0.5\n",
      "    8  103.0     0.5\n",
      "    7  141.0     0.5\n",
      "    7  140.0     0.5\n",
      "    6  181.0     0.5\n",
      "    6  178.0     0.5\n"
     ]
    }
   ],
   "execution_count": 18
=======
     "end_time": "2024-07-16T13:32:58.470158Z",
     "start_time": "2024-07-16T13:32:58.464146Z"
    }
   },
   "source": [
    "# Create a Pandas DataFrame with data for part 1 of the experiment:  understanding the relation of Force to distance, at constant\n",
    "# charge\n",
    "\n",
    "# The data elements are [distance in cm, angle in degrees] ... again, since we are going to do a linear regression using OLS, we will\n",
    "# not include errors\n",
    "data1 = [[20,12, 0.5],[20,10,0.5], #20 cm\n",
    "         [14,17,0.5], [14,19,0.5], #14 cm\n",
    "         [10,29,0.5], [10,26,0.5], #10 cm\n",
    "         [9,32,0.5], [9,39,0.5],   #9 cm\n",
    "         [8,65,0.5], [8,66,0.5], #8 cm\n",
    "         [7,95,0.5], [7,103,0.5], #7 cm\n",
    "         [6,113,0.5], [6,114,0.5]] #6 cm\n",
    "# create dataframe\n",
    "df2 = pd.DataFrame(data1, columns = ['R_cm', 'Theta','dTheta'])\n",
    "\n",
    "print(df2.to_string(index=False))"
   ],
   "outputs": [
    {
     "name": "stdout",
     "output_type": "stream",
     "text": [
      " R_cm  Theta  dTheta\n",
      "   20     12     0.5\n",
      "   20     10     0.5\n",
      "   14     17     0.5\n",
      "   14     19     0.5\n",
      "   10     29     0.5\n",
      "   10     26     0.5\n",
      "    9     32     0.5\n",
      "    9     39     0.5\n",
      "    8     65     0.5\n",
      "    8     66     0.5\n",
      "    7     95     0.5\n",
      "    7    103     0.5\n",
      "    6    113     0.5\n",
      "    6    114     0.5\n"
     ]
    }
   ],
   "execution_count": 30
>>>>>>> 9e1e6ccbe64d4b33a15e259f670a628d5305612f
  },
  {
   "cell_type": "markdown",
   "metadata": {},
   "source": [
    "The theory tells us that $F = k \\frac{ Q_1  Q_2}{R^2}$.  So, if we were to plot a \n",
    "graph of $F$ vs. $\\frac{1}{R^2}$, it should be a straight line\n",
    "with a slope of $k Q_1 Q_2$.  Let's try that!"
   ]
  },
  {
   "cell_type": "markdown",
   "metadata": {},
   "source": [
    "So, how do calculate force values from the given angles, with error?  The idea is as follows:\n",
    "\n",
    "$$F = C \\cdot \\theta\\tag{10}$$\n",
    "\n",
    "where we have uncertainties in both $C$ and $\\theta$.  From basic uncertainty analysis, we know that:\n",
    "\n",
    "$$\\frac{dF}{F} = \\frac{dC}{C} + \\frac{d\\theta}{\\theta}$$\n",
    "\n",
    "$$dF= F (\\frac{dC}{C} + \\frac{d\\theta}{\\theta})\\tag{11}$$"
   ]
  },
  {
   "cell_type": "code",
   "metadata": {
    "ExecuteTime": {
<<<<<<< HEAD
     "end_time": "2025-06-20T20:20:16.318106Z",
     "start_time": "2025-06-20T20:20:16.308751Z"
=======
     "end_time": "2024-07-16T13:33:00.656864Z",
     "start_time": "2024-07-16T13:33:00.649002Z"
>>>>>>> 9e1e6ccbe64d4b33a15e259f670a628d5305612f
    }
   },
   "source": [
    "# We will have to convert the angle values to Forces, and also include an uncertainty.\n",
    "# We will have to convert the measured radius values to meters, and include an uncertainty.\n",
    "\n",
    "df2['Force'] = df2['Theta']*calibration_factor\n",
    "df2['dForce'] = df2['Force']*(dcalibration_factor/calibration_factor + \n",
    "                              df2['dTheta']/df2['Theta'])\n",
    "\n",
    "df2['R'] = df2['R_cm']*0.01\n",
    "df2['dR'] = 0.001 #guess\n",
    "\n",
    "print(df2.to_string(index=False))"
   ],
   "outputs": [
    {
     "name": "stdout",
     "output_type": "stream",
     "text": [
      " R_cm  Theta  dTheta    Force   dForce    R    dR\n",
<<<<<<< HEAD
      "   20   15.0     0.5 0.000022 0.000001 0.20 0.001\n",
      "   20   16.5     0.5 0.000024 0.000001 0.20 0.001\n",
      "   14   45.0     0.5 0.000066 0.000002 0.14 0.001\n",
      "   14   40.0     0.5 0.000059 0.000002 0.14 0.001\n",
      "   10   65.0     0.5 0.000096 0.000002 0.10 0.001\n",
      "   10   72.0     0.5 0.000106 0.000002 0.10 0.001\n",
      "    9   80.0     0.5 0.000118 0.000003 0.09 0.001\n",
      "    9   80.0     0.5 0.000118 0.000003 0.09 0.001\n",
      "    8  105.0     0.5 0.000155 0.000003 0.08 0.001\n",
      "    8  103.0     0.5 0.000152 0.000003 0.08 0.001\n",
      "    7  141.0     0.5 0.000208 0.000004 0.07 0.001\n",
      "    7  140.0     0.5 0.000207 0.000004 0.07 0.001\n",
      "    6  181.0     0.5 0.000267 0.000005 0.06 0.001\n",
      "    6  178.0     0.5 0.000263 0.000005 0.06 0.001\n"
     ]
    }
   ],
   "execution_count": 19
=======
      "   20     12     0.5 0.000021 0.000001 0.20 0.001\n",
      "   20     10     0.5 0.000017 0.000001 0.20 0.001\n",
      "   14     17     0.5 0.000030 0.000002 0.14 0.001\n",
      "   14     19     0.5 0.000033 0.000002 0.14 0.001\n",
      "   10     29     0.5 0.000051 0.000002 0.10 0.001\n",
      "   10     26     0.5 0.000045 0.000002 0.10 0.001\n",
      "    9     32     0.5 0.000056 0.000002 0.09 0.001\n",
      "    9     39     0.5 0.000068 0.000003 0.09 0.001\n",
      "    8     65     0.5 0.000114 0.000004 0.08 0.001\n",
      "    8     66     0.5 0.000115 0.000004 0.08 0.001\n",
      "    7     95     0.5 0.000166 0.000005 0.07 0.001\n",
      "    7    103     0.5 0.000180 0.000005 0.07 0.001\n",
      "    6    113     0.5 0.000197 0.000006 0.06 0.001\n",
      "    6    114     0.5 0.000199 0.000006 0.06 0.001\n"
     ]
    }
   ],
   "execution_count": 31
>>>>>>> 9e1e6ccbe64d4b33a15e259f670a628d5305612f
  },
  {
   "cell_type": "code",
   "metadata": {
    "ExecuteTime": {
<<<<<<< HEAD
     "end_time": "2025-06-20T20:20:21.701032Z",
     "start_time": "2025-06-20T20:20:21.097618Z"
=======
     "end_time": "2024-07-16T13:33:01.951033Z",
     "start_time": "2024-07-16T13:33:01.541077Z"
>>>>>>> 9e1e6ccbe64d4b33a15e259f670a628d5305612f
    }
   },
   "source": [
    "xi = 1.0/(df2['R'])**2\n",
    "yi = df2['Force']\n",
    "\n",
    "sigmaxi = xi*2.0*(df2['dR']/df2['R'])\n",
    "sigmayi = df2['dForce']\n",
    "\n",
    "##############################\n",
    "\n",
    "from scipy.odr import *\n",
    "\n",
    "def fitfunction(B, x):\n",
    "    '''Linear function y = m*x + b'''\n",
    "    # B is a vector of the parameters.\n",
    "    # x is an array of the current x values.\n",
    "    # x is in the same format as the x passed to Data or RealData.\n",
    "    #\n",
    "    # Return an array in the same format as y passed to Data or RealData.\n",
    "    return B[0]*x + B[1]\n",
    "\n",
    "linear = Model(fitfunction)\n",
    "mydata = RealData(xi, yi, sx=sigmaxi, sy=sigmayi)\n",
    "myodr = ODR(mydata, linear, beta0=[1., 2.])\n",
    "myoutput = myodr.run()\n",
    "\n",
    "myoutput.pprint()\n",
    "\n",
    "popt = myoutput.beta\n",
    "pcov = myoutput.cov_beta\n",
    "perr = myoutput.sd_beta\n",
    "\n",
    "# The following lines generate upper and lower 99% \"Confidence Bands\" on the fit, for visualization\n",
    "# purposes.\n",
    "\n",
    "ps = np.random.multivariate_normal(popt,pcov,10000)\n",
    "ysample=np.asarray([fitfunction(pi,xi) for pi in ps])\n",
    "\n",
    "lower = np.percentile(ysample,0.5,axis=0)\n",
    "upper = np.percentile(ysample,99.5,axis=0)\n",
    "middle = (lower+upper)/2.0\n",
    "\n",
    "print()\n",
    "print (\"Final Result: Y = (%0.9f +/- %0.9f) X + (%0.9f +/- %0.9f)\" % (popt[0],perr[0],popt[1],perr[1]))\n",
    "\n",
    "plt.figure(figsize=(8, 6), dpi=80)\n",
    "\n",
    "plt.errorbar(xi, yi, xerr=sigmaxi, yerr=sigmayi, fmt='o', capsize=2, capthick=1)\n",
    "\n",
    "plt.plot(xi,middle)\n",
    "plt.fill_between(xi,lower,upper,alpha=0.5)\n",
    "\n",
    "#########################\n",
    "plt.xlabel('1/R$^2$ (m$^{-2})$')\n",
    "plt.ylabel('Force (Newtons)')\n",
    "plt.title('Coulombs Law:  Dependence of Force on Distance')\n",
    "plt.show()"
   ],
   "outputs": [
    {
     "name": "stdout",
     "output_type": "stream",
     "text": [
<<<<<<< HEAD
      "Beta: [9.98126437e-07 1.17289174e-06]\n",
      "Beta Std Error: [4.14488395e-08 2.75241638e-06]\n",
      "Beta Covariance: [[ 2.03992507e-16 -1.02842250e-14]\n",
      " [-1.02842250e-14  8.99534310e-13]]\n",
      "Residual Variance: 8.421908835476893\n",
      "Inverse Condition #: 0.00978352526913319\n",
      "Reason(s) for Halting:\n",
      "  Sum of squares convergence\n",
      "\n",
      "Final Result: Y = (0.000000998 +/- 0.000000041) X + (0.000001173 +/- 0.000002752)\n"
=======
      "Beta: [ 6.62473113e-07 -2.49416655e-06]\n",
      "Beta Std Error: [6.34568860e-08 5.02654755e-06]\n",
      "Beta Covariance: [[ 1.58168317e-16 -9.70912872e-15]\n",
      " [-9.70912872e-15  9.92433859e-13]]\n",
      "Residual Variance: 25.45880521706475\n",
      "Inverse Condition #: 0.007963617903703916\n",
      "Reason(s) for Halting:\n",
      "  Sum of squares convergence\n",
      "\n",
      "Final Result: Y = (0.000000662 +/- 0.000000063) X + (-0.000002494 +/- 0.000005027)\n"
>>>>>>> 9e1e6ccbe64d4b33a15e259f670a628d5305612f
     ]
    },
    {
     "data": {
      "text/plain": [
       "<Figure size 640x480 with 1 Axes>"
      ],
<<<<<<< HEAD
      "image/png": "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"
=======
      "image/png": "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"
>>>>>>> 9e1e6ccbe64d4b33a15e259f670a628d5305612f
     },
     "metadata": {},
     "output_type": "display_data"
    }
   ],
<<<<<<< HEAD
   "execution_count": 20
=======
   "execution_count": 32
>>>>>>> 9e1e6ccbe64d4b33a15e259f670a628d5305612f
  },
  {
   "cell_type": "markdown",
   "metadata": {},
   "source": [
    "## Preliminary observations \n",
    "\n",
    "So, our first observation is that indeed, the plot seems roughly linear, as we expected!  This means that our guess for the form of the force law was probably correct!  "
   ]
  },
  {
   "cell_type": "markdown",
   "metadata": {},
   "source": [
    "We know that the slope is supposed to be $k Q_1 Q_2$.  So, what are $Q_1$ and $Q_2$?  According to the same theory, they should be\n",
    "equal to one another, and be related to the applied voltage, V, according to:\n",
    "\n",
    "$$Q = \\frac{R_{sphere}}{k} V\\tag{12}$$\n",
    "\n",
    "Substituting this into our experession for the slope, we get:\n",
    "\n",
    "$$slope = k  \\left( \\frac{R_{sphere}}{k} V \\right) \\left( \\frac{R_{sphere}}{k}V \\right) = \\frac{R_{sphere}^2 V^2}{k}$$\n",
    "\n",
    "$$k = \\frac{R_{sphere}^2 V^2}{slope}\\tag{13}$$\n",
    "\n",
    "We used $V = 6.00~kV = 6000~V$.\n",
    "We are told that $R_{sphere} = 1.9~cm = 0.019~m$.\n",
    "\n",
    "But, there are uncertainties in both of these numbers:\n",
    "\n",
    "$$dV = 10~Volts + (0.01)V = 10~Volts + 0.01(6000 V) = 70~Volts$$\n",
    "\n",
    "$$dR_{sphere} = 0.1~cm = 0.001~m\\tag{14}$$\n",
    "\n",
    "From basic error analysis, we get that $\\frac{dk}{k} = 2 \\frac{dR_{sphere}}{R_{sphere}} + 2\\frac{dV}{V} + \\frac{dslope}{slope}\\tag{15}$"
   ]
  },
  {
   "cell_type": "code",
   "metadata": {
    "ExecuteTime": {
<<<<<<< HEAD
     "end_time": "2025-06-20T20:20:57.610240Z",
     "start_time": "2025-06-20T20:20:57.605402Z"
=======
     "end_time": "2024-07-16T13:33:05.601554Z",
     "start_time": "2024-07-16T13:33:05.598302Z"
>>>>>>> 9e1e6ccbe64d4b33a15e259f670a628d5305612f
    }
   },
   "source": [
    "#\n",
    "# Now, let us see if we can calculate what k is, based on the slope from the previous graph\n",
    "#\n",
    "\n",
    "slope = popt[0]\n",
    "# Let's choose +/- 3*sigma (99% confidence level) as the error in the slope.  Given that\n",
    "# we are going to combine this error together with errors in the sphere radius and the\n",
    "# sphere-to-sphere distance, which are clearly maximum possible error estimates, this is\n",
    "# a reasonable choice.\n",
    "dslope = 3*perr[0]\n",
    "\n",
    "V = 6000\n",
    "dV = 10 + 0.01*V\n",
    "R_sphere = 0.019\n",
    "dR_sphere = 0.001\n",
    "\n",
    "k = R_sphere**2*V**2/slope\n",
    "dk = k*(2*dR_sphere/R_sphere+2*dV/V+dslope/slope)\n",
    "\n",
    "print ('Extracted value of k = (%0.1f +/- %0.1f) x 10^9 Nm^2/C^2' % (k/1e9,dk/1e9))"
   ],
   "outputs": [
    {
     "name": "stdout",
     "output_type": "stream",
     "text": [
<<<<<<< HEAD
      "Extracted value of k = (13.0 +/- 3.3) x 10^9 Nm^2/C^2\n"
     ]
    }
   ],
   "execution_count": 21
=======
      "Extracted value of k = (19.6 +/- 8.2) x 10^9 Nm^2/C^2\n"
     ]
    }
   ],
   "execution_count": 33
>>>>>>> 9e1e6ccbe64d4b33a15e259f670a628d5305612f
  },
  {
   "cell_type": "code",
   "metadata": {
    "ExecuteTime": {
<<<<<<< HEAD
     "end_time": "2025-06-20T20:21:01.245376Z",
     "start_time": "2025-06-20T20:21:01.240707Z"
=======
     "end_time": "2024-07-16T13:33:06.465953Z",
     "start_time": "2024-07-16T13:33:06.460863Z"
>>>>>>> 9e1e6ccbe64d4b33a15e259f670a628d5305612f
    }
   },
   "source": [
    "# Finally, let's calculate an error budget.  We would like to understand how much the various uncertainties in the experiment\n",
    "# contribute to the final error that we get in the extraction of k.\n",
    "\n",
    "error_budget = [['R_sphere',2*dR_sphere/R_sphere*100],['V',2*dV/V*100],['Slope',dslope/slope*100],['Total',dk/k*100]]\n",
    "df4 = pd.DataFrame(error_budget, columns = ['Source', 'Percentage Error'])\n",
    "\n",
    "df4"
   ],
   "outputs": [
    {
     "data": {
      "text/plain": [
       "     Source  Percentage Error\n",
       "0  R_sphere         10.526316\n",
       "1         V          2.333333\n",
<<<<<<< HEAD
       "2     Slope         12.457993\n",
       "3     Total         25.317642"
=======
       "2     Slope         28.736360\n",
       "3     Total         41.596009"
>>>>>>> 9e1e6ccbe64d4b33a15e259f670a628d5305612f
      ],
      "text/html": [
       "<div>\n",
       "<style scoped>\n",
       "    .dataframe tbody tr th:only-of-type {\n",
       "        vertical-align: middle;\n",
       "    }\n",
       "\n",
       "    .dataframe tbody tr th {\n",
       "        vertical-align: top;\n",
       "    }\n",
       "\n",
       "    .dataframe thead th {\n",
       "        text-align: right;\n",
       "    }\n",
       "</style>\n",
       "<table border=\"1\" class=\"dataframe\">\n",
       "  <thead>\n",
       "    <tr style=\"text-align: right;\">\n",
       "      <th></th>\n",
       "      <th>Source</th>\n",
       "      <th>Percentage Error</th>\n",
       "    </tr>\n",
       "  </thead>\n",
       "  <tbody>\n",
       "    <tr>\n",
       "      <th>0</th>\n",
       "      <td>R_sphere</td>\n",
       "      <td>10.526316</td>\n",
       "    </tr>\n",
       "    <tr>\n",
       "      <th>1</th>\n",
       "      <td>V</td>\n",
       "      <td>2.333333</td>\n",
       "    </tr>\n",
       "    <tr>\n",
       "      <th>2</th>\n",
       "      <td>Slope</td>\n",
<<<<<<< HEAD
       "      <td>12.457993</td>\n",
=======
       "      <td>28.736360</td>\n",
>>>>>>> 9e1e6ccbe64d4b33a15e259f670a628d5305612f
       "    </tr>\n",
       "    <tr>\n",
       "      <th>3</th>\n",
       "      <td>Total</td>\n",
<<<<<<< HEAD
       "      <td>25.317642</td>\n",
=======
       "      <td>41.596009</td>\n",
>>>>>>> 9e1e6ccbe64d4b33a15e259f670a628d5305612f
       "    </tr>\n",
       "  </tbody>\n",
       "</table>\n",
       "</div>"
      ]
     },
<<<<<<< HEAD
     "execution_count": 22,
=======
     "execution_count": 34,
>>>>>>> 9e1e6ccbe64d4b33a15e259f670a628d5305612f
     "metadata": {},
     "output_type": "execute_result"
    }
   ],
<<<<<<< HEAD
   "execution_count": 22
=======
   "execution_count": 34
>>>>>>> 9e1e6ccbe64d4b33a15e259f670a628d5305612f
  },
  {
   "cell_type": "markdown",
   "metadata": {},
   "source": [
    "# Analysis of Part I\n",
    "\n",
    "Our first observation, as noted above, is that we see the expected linear dependence, as predicted by theory.\n",
    "\n",
    "The extracted value of $k_e$ is $(13.3 \\pm 3.3) \\times 10^{9} Nm^2/C^2$.  This is slightly higher than the expected value of $k_e = 9 \\times 10^{9} Nm^2/C^2$.\n"
   ]
  },
  {
   "cell_type": "markdown",
   "metadata": {},
   "source": [
    "# Part II:  Investigation of the Dependence of the Force on Charge"
   ]
  },
  {
   "cell_type": "markdown",
   "metadata": {},
   "source": [
    "For this part of the experiment, you will verify that the force increases linearly with the charge. However, because\n",
    "you will be charging both spheres, the fit should actually be quadratic according to equation (6). The procedure is\n",
    "almost identical to the previous experiment:\n",
    "1. Slide the movable sphere to the far end of the track (38 cm).\n",
    "2. Turn on the power supply and ensure it is set to 6 kV.\n",
    "3. Charge both spheres by gently touching them with the probe. Keep your hands as far from the spheres as possible to avoid capacitive effects. Do not touch the spheres after they've been charged. If you accidentally touch one, use the grounding clip to discharge it and then re-charge it.\n",
    "4. Turn off the power supply.\n",
    "5. Slide the movable sphere to d = 0.08 m. The Coulomb Balance will move due to the electric force pushing the spheres apart.\n",
    "6. Rotate the upper torsion knob until the index marks are once again aligned. Try to do this at arm's length (Hint: don't worry about reading the dial until the index marks are aligned). Record this angle in Table 3.\n",
    "7. Return the upper torsion knob to zero degrees, slide the movable sphere to 38 cm, and discharge both spheres by touching the grounding clip to each one. Replace the grounding clip.\n",
    "8. Verify that the index marks are once again aligned. If not, adjust the lower torsion wire retainer.\n",
    "9. Repeat steps 2—8 and verify your result.\n",
    "10. Repeat steps 2—9 for the following voltages: 5, 4, 3, 2, and 1 kV.\n",
    "11. Plot the restoring force, $k'\\theta$, in Newtons vs. the charge squared, Q2, and do a linear fit (you will needequation (7) to compute the charge).\n",
    "\n",
    "**Using the code from Part I as a starting point, analyze the data from Part II** "
   ]
  },
  {
   "cell_type": "code",
   "metadata": {
    "ExecuteTime": {
     "end_time": "2024-07-16T13:33:09.851929Z",
     "start_time": "2024-07-16T13:33:09.848966Z"
    }
   },
   "source": [],
   "outputs": [],
   "execution_count": 34
  },
  {
   "cell_type": "markdown",
   "metadata": {},
   "source": [
    "## Clean Up\n",
    "Once you've completed the experiment, return your Coulomb Balance to a safe state by following these steps in this\n",
    "order:\n",
    "1. Ensure that the HV power supply is switched off. Remove the grounding clip.\n",
    "2. Loosen the index arm and move it so that it is in a position to clamp the vane of the Balance.\n",
    "3. Secure the index arm.\n",
    "4. Use two fingers to press the lower portion of the clamp against the bottom of the vane and pin it against the underside of the index arm. While holding pressure, securely tighten the clamp with the plastic screw.\n",
    "5. Gently remove the Coulomb Balance sphere from the rod by sliding the sphere into the bag and then gently slide the sphere off of the rod. Close the bag and set it on the bottom plate of the balance.\n",
    "6. Unscrew the two screws in the sliding assembly holding the sliding assembly to the Coulomb Balance. Move the sliding assembly aside and loosely replace the screws back into the sliding assembly (just a few turns will suffice)."
   ]
  },
  {
   "cell_type": "code",
   "metadata": {
    "ExecuteTime": {
     "end_time": "2024-07-16T13:24:32.322355Z",
     "start_time": "2024-07-16T13:24:32.321045Z"
    }
   },
   "source": [],
   "outputs": [],
   "execution_count": 12
  },
  {
   "metadata": {},
   "cell_type": "code",
   "outputs": [],
   "execution_count": null,
   "source": ""
  }
 ],
 "metadata": {
  "kernelspec": {
   "display_name": "Python 3",
   "language": "python",
   "name": "python3"
  },
  "language_info": {
   "codemirror_mode": {
    "name": "ipython",
    "version": 3
   },
   "file_extension": ".py",
   "mimetype": "text/x-python",
   "name": "python",
   "nbconvert_exporter": "python",
   "pygments_lexer": "ipython3",
   "version": "3.6.8"
  },
  "latex_envs": {
   "LaTeX_envs_menu_present": true,
   "autoclose": false,
   "autocomplete": true,
   "bibliofile": "biblio.bib",
   "cite_by": "apalike",
   "current_citInitial": 1,
   "eqLabelWithNumbers": true,
   "eqNumInitial": 1,
   "hotkeys": {
    "equation": "Ctrl-E",
    "itemize": "Ctrl-I"
   },
   "labels_anchors": false,
   "latex_user_defs": false,
   "report_style_numbering": false,
   "user_envs_cfg": false
  }
 },
 "nbformat": 4,
 "nbformat_minor": 4
}
