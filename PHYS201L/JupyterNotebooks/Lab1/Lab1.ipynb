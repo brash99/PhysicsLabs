{
  "cells": [
    {
      "cell_type": "markdown",
      "metadata": {
        "id": "DmEsy7Rg1vO8"
      },
      "source": [
        "# Expt 1: Density Measurements and Uncertainties\n",
        "### Objectives\n",
        "- To learn the basics of good lab practice\n",
        "- To learn how to estimate uncertainties\n",
        "- To learn how to propagate uncertainties\n",
        "- To learn how to compare measurement methods  \n",
        "\n",
        "### Equipment\n",
        "- One set of five (5) unknown cylinders of the same composition\n",
        "- One beaker\n",
        "- One or two 50 mL graduated cylinders\n",
        "- One vernier or digital caliper\n",
        "- One micrometer\n",
        "- One digital scale or beam balance\n",
        "- One “mass hanging” assembly  \n",
        "\n",
        "### Safety\n",
        "- Never intentionally drop metal cylinders into glass containers!\n",
        "- Please read the section below on proper use of a graduated cylinder."
      ]
    },
    {
      "cell_type": "markdown",
      "metadata": {
        "id": "btUfh2Fr1vO-"
      },
      "source": [
        "# Introduction\n",
        "One very important and useful property of materials is the **density**, ρ, of that material. Density is defined to be the\n",
        "amount of mass contained within a certain volume:\n",
        "\n",
        "\\begin{equation}\n",
        "\\rho \\equiv \\frac{m}{V}\n",
        "\\tag{1}\n",
        "\\end{equation}\n",
        "\n",
        "This property can be used to determine the total mass of an object if we know its volume, or it can be used to\n",
        "determine if an object will float in a liquid (if the liquid has a higher density than the object). The density of an\n",
        "object is also a useful property to help identify it.\n",
        "\n",
        "In this lab, your job will be to determine the density of a set of rods of a given composition. Measuring the mass\n",
        "will be the easy part. **You will use three methods to determine the volume:** Direct measurement with scales,\n",
        "measurement of the amount of water it displaces, and measurement of its equivalent weight of water. You will\n",
        "tabulate your results and compare the first method with the second and third methods.\n",
        "\n",
        "It will be to your benefit to be slow and careful while performing this lab."
      ]
    },
    {
      "cell_type": "markdown",
      "metadata": {
        "id": "4x3Yn49n1vO-"
      },
      "source": [
        "# Theory\n",
        "\n",
        "In this laboratory, there are a lot of calculations of the uncertainty in a derived quantity, based on the uncertainties in the raw quantities involved.  We can understand how to calculate these uncertainties using just a little bit of calculus!\n",
        "\n",
        "Consider a function, $z = f(x,y)$.  We imagine that $x$ and $y$ are two independent raw quantities measured in the experiment, and $z$ is some derived quantity.  The appropriate way to calculate the uncertainy in a derived quantity will depend, fundamentally, on the $type$ of uncertainty:  instrumental (uniform), or counting experiment (Gaussian), for example.  \n",
        "\n",
        "The chain-rule of differentiation, together with an assumption that the uncertainties are $uniform$ in nature (such as, for example, one typically has in the experiments in this lab course), lead to the following:\n",
        "\n",
        "\\begin{equation}\n",
        "\\delta z = \\left| \\frac{\\partial{f}}{\\partial{x}} \\right| \\delta x +\n",
        " \\left| \\frac{\\partial{f}}{\\partial{y}} \\right| \\delta y\n",
        "\\tag{2}\n",
        "\\end{equation}\n",
        "\n",
        "Now, consider the function $z = \\frac{x}{y}$.  This particular relationship will be very useful in this experiment!  \n",
        "\n",
        "The calculation of density in Equation ([1](#mjx-eqn)) will require a determination of the mass and volume of each rod. The\n",
        "final density will be an average of the computations for each method of measuring the volume of the cylinder. We\n",
        "will need the uncertainty in the computed density. Using Equation ([2](#mjx-eqn)), we can show that:\n",
        "\n",
        "\\begin{equation}\n",
        "\\frac{\\delta \\rho}{\\rho} = \\frac{\\delta m}{m} + \\frac{\\delta V}{V}\n",
        "\\tag{3}\n",
        "\\end{equation}\n",
        "\n",
        "A second extremely important concept in this experiment is the calculation of the weighted average of a series of numbers, each of which has an uncertainty associated with it.  For example, imagine that we make four measurements of the same quantity, $x$, and have an uncertainty, $\\delta x$, for each of these four measurements.  The questions are:\n",
        "\n",
        "(a) What is the $average$ of these four measurements?  \n",
        "(b) What is the $uncertainty$ in this average?\n",
        "\n",
        "Normally, when we average a series of numbers, we simply add up the values and divide by the total number of values:\n",
        "\n",
        "\\begin{equation}\n",
        "\\bar{x} = \\frac{1}{N} \\sum_{i=1}^N x_i\n",
        "\\end{equation}\n",
        "\n",
        "However, when each of the measurements has an uncertainty, it is not so simple.  The idea is that we want to attach more importance to measurements with $small$ uncertainties, and less importance to measurements with $large$ uncertainties.  This is called calculating a $weighted$ average.  For Gaussian uncertainties, it turns out that the way that we do this is to calculate the average as:\n",
        "\n",
        "\\begin{equation}\n",
        "\\bar{x} = \\frac{\\sum_{i=1}^N w_i x_i} {\\sum_{i=1}^N w_i}\n",
        "\\end{equation}\n",
        "\n",
        "where the $w_i$ are weights associated with each measurement.  For the case of uniform uncertainties, we have that $w_i = \\frac{1}{\\delta x_i}$.  For Gaussian uncertainties, we use $w_i = \\frac{1}{\\delta x_i^2}$.\n",
        "\n",
        "Note that if $\\delta x_i$ is small, the corresponding weight in the sum will be large, which is exactly what we want!\n",
        "\n",
        "For the calculation of the uncertainty in $\\bar{x}$, there are $TWO$ separate concepts related to uncertainties that we must consider.  The first is that there are uncertainties in each of the raw quantities that are being used to calculate the weighted mean.  So, there is going to be some uncertainty that propogates through to the uncertainty in the weighted mean because of this.  The second source of uncertainty comes from the notion that the actual $values$ of the individual measurements are not all the same.  There must then be some uncertainty in the weighted average from this source of fluctuation.  The mathematics of calculating each of these uncertainties and how they contribute to the final uncertainty is actually quite complex and involved.  For the purposes of this course, we are going to simply report the final result of this mathematical exercise:\n",
        "\n",
        "\\begin{equation}\n",
        "\\delta \\bar{x} = \\sqrt{ \\left( \\frac{\\sum_{i=1}^N w_i x_i^2}{\\sum_{i=1}^N w_i} - (\\bar{x})^2 \\right)   \\frac{\\sum_{i=1}^N w_i^2}{(\\sum_{i=1}^N w_i)^2 - \\sum_{i=1}^N w_i^2} }\n",
        "\\end{equation}\n",
        "\n",
        "Example:  Consider the following measurements of the quantity, $x$\n",
        "\n",
        "\\begin{equation}\n",
        "x_1 = 100.0 \\pm 0.1 \\\\\n",
        "x_2 = 102.0 \\pm 0.2 \\\\\n",
        "x_3 = 98.0 \\pm 0.02 \\\\\n",
        "\\end{equation}\n",
        "\n",
        "\\begin{equation}\n",
        "\\sum_{i=1}^N \\frac{x_i}{\\delta x_i} = \\frac{100}{0.1} + \\frac{102}{0.2} + \\frac{98}{0.02} = 6410.0\n",
        "\\end{equation}\n",
        "\n",
        "\\begin{equation}\n",
        "\\sum_{i=1}^N \\frac{1}{\\delta x_i} = \\frac{1}{0.1} + \\frac{1}{0.2} + \\frac{1}{0.02} = 65.0\n",
        "\\end{equation}\n",
        "\n",
        "\\begin{equation}\n",
        "\\bar{x} = \\frac{6410.0}{65.0} = 98.6154\n",
        "\\end{equation}\n",
        "\n",
        "Notice the $weighted$ average is closer to 98 than to either of the other two data values, because the uncertainty in that measured value is significantly smaller than the other uncertainties.\n",
        "\n",
        "\\begin{equation}\n",
        "\\sum_{i=1}^N w_i = \\frac{1}{0.1} + \\frac{1}{0.2} + \\frac{1}{0.02} = 65.0\n",
        "\\end{equation}\n",
        "\n",
        "\\begin{equation}\n",
        "\\sum_{i=1}^N w_i^2 = \\frac{1}{0.1^2} + \\frac{1}{0.2^2} + \\frac{1}{0.02^2} = 2625.0\n",
        "\\end{equation}\n",
        "\n",
        "\\begin{equation}\n",
        "\\sum_{i=1}^N w_i x_i^2 = \\frac{100^2}{0.1} + \\frac{102^2}{0.2} + \\frac{98^2}{0.02} = 632220.0\n",
        "\\end{equation}\n",
        "\n",
        "\\begin{equation}\n",
        "\\delta \\bar{x} = \\sqrt{ \\left( \\frac{632220}{65} - (98.6154)^2 \\right)   \\frac{2625}{(65)^2 - 2625} } = 1.55\n",
        "\\end{equation}\n",
        "\n",
        "Thus, we would quote the weighted average as $\\bar{x} = 98.6 \\pm 1.6$.\n",
        "\n",
        "Let's write a python function to do all of this!  It will take the $x$ and $\\delta x$ measurements as numpy array inputs, together with the $type$ of uncertainty (i.e. uniform=1 or Gaussian=2), and will return $\\bar{x}$ and $\\delta \\bar{x}$.  We can use this throughout the course to calculate weighted averages and uncertainties!!!!!!"
      ]
    },
    {
      "cell_type": "code",
      "metadata": {
        "ExecuteTime": {
          "end_time": "2025-06-21T00:41:59.306045Z",
          "start_time": "2025-06-21T00:41:57.355368Z"
        },
        "id": "3YVvJjEs1vO-",
        "outputId": "d2a926d6-9e57-4488-daf0-b0ce2b03347f",
        "colab": {
          "base_uri": "https://localhost:8080/"
        }
      },
      "source": [
        "# Import Numpy, Pandas, and MatPlotLib with standard names\n",
        "import pandas as pd\n",
        "import numpy as np\n",
        "import matplotlib.pyplot as plt\n",
        "\n",
        "def weighted_average(x,deltax,etype):\n",
        "\n",
        "    if (etype == 1):\n",
        "        w = 1/deltax\n",
        "    else:\n",
        "        w = 1/deltax**2\n",
        "\n",
        "    # calculate the statistically weighted average of density\n",
        "    sq_sum1 = 0.0\n",
        "    sq_sum2 = 0.0\n",
        "    sq_sum3 = 0.0\n",
        "    sq_sum4 = 0.0\n",
        "    sq_sum5 = 0.0\n",
        "\n",
        "    for i in range(len(x)):\n",
        "        sq_sum1 = sq_sum1 + w[i]*x[i]\n",
        "        sq_sum2 = sq_sum2 + w[i]\n",
        "        sq_sum3 = sq_sum3 + w[i]*x[i]**2\n",
        "        sq_sum4 = sq_sum4 + w[i]\n",
        "        sq_sum5 = sq_sum5 + w[i]**2\n",
        "\n",
        "    xbar = sq_sum1/sq_sum2\n",
        "    delta_xbar = np.sqrt((np.abs(sq_sum3/sq_sum2 - xbar**2))*\n",
        "                             sq_sum5/(sq_sum4**2-sq_sum5))\n",
        "\n",
        "    neff = sq_sum4**2/sq_sum5\n",
        "    print(\"Effective N_dof = \",neff)\n",
        "\n",
        "    factor = np.sqrt((neff-1.0)/(len(x)-1))\n",
        "    print(\"Correction factor = \",factor)\n",
        "\n",
        "    return xbar,delta_xbar\n",
        "\n",
        "x = np.array([100.0,102.0,98.0])\n",
        "deltax = np.array([0.1,0.2,0.02])\n",
        "\n",
        "xbar,delta_xbar = weighted_average(x,deltax,1)\n",
        "\n",
        "print (\"\")\n",
        "print (\"Average Density (Uniform) = %0.4f +/- %0.4f g/cm^3\" %\n",
        "       (xbar,delta_xbar))\n",
        "print(\"\")\n",
        "\n",
        "xbar,delta_xbar = weighted_average(x,deltax,2)\n",
        "\n",
        "print (\"\")\n",
        "print (\"Average Density (Gaussian) = %0.4f +/- %0.4f g/cm^3\" %\n",
        "       (xbar,delta_xbar))\n",
        ""
      ],
      "outputs": [
        {
          "output_type": "stream",
          "name": "stdout",
          "text": [
            "Effective N_dof =  1.6095238095238096\n",
            "Correction factor =  0.5520524474738834\n",
            "\n",
            "Average Density (Uniform) = 98.6154 +/- 1.5516 g/cm^3\n",
            "\n",
            "Effective N_dof =  1.10062893081761\n",
            "Correction factor =  0.22430886163681768\n",
            "\n",
            "Average Density (Gaussian) = 98.1143 +/- 1.7026 g/cm^3\n"
          ]
        }
      ],
      "execution_count": 1
    },
    {
      "cell_type": "code",
      "metadata": {
        "ExecuteTime": {
          "end_time": "2025-06-21T00:42:05.336041Z",
          "start_time": "2025-06-21T00:42:05.334202Z"
        },
        "id": "DVNfoL3J1vO_"
      },
      "source": [],
      "outputs": [],
      "execution_count": null
    },
    {
      "cell_type": "code",
      "metadata": {
        "ExecuteTime": {
          "end_time": "2025-06-21T00:42:08.887310Z",
          "start_time": "2025-06-21T00:42:06.145376Z"
        },
        "id": "yKEhl3ol1vO_",
        "outputId": "1cc190cf-d05f-404c-b246-b2dbf565735d",
        "colab": {
          "base_uri": "https://localhost:8080/",
          "height": 968
        }
      },
      "source": [
        "# (Beyond Scope, but interesting?  Let's look at doing a constant fit\n",
        "# to these three data points using Python's stats curve_fit function)\n",
        "\n",
        "import sys; sys.path.insert(0, '..')\n",
        "!pip3 install P201_Functions\n",
        "from P201_Functions import constant_fit_plot_errors\n",
        "\n",
        "\n",
        "x_data = [1,2,3]\n",
        "y_data = x\n",
        "Delta_x = [0.001,0.001,0.001]\n",
        "Delta_y = deltax\n",
        "\n",
        "# Creates the base plot with titles\n",
        "plt.errorbar(x_data,y_data,Delta_y,Delta_x,'b.',label='Raw Data')\n",
        "plt.ylabel('Measurement')\n",
        "plt.xlabel('Measurement Number')\n",
        "plt.title('Constant Fit')\n",
        "\n",
        "# Takes the x and y values to make a trendline\n",
        "intercept,dintercept = constant_fit_plot_errors(x_data,y_data,Delta_y,plt)\n",
        "\n",
        "# Adds the legend to the plot\n",
        "plt.legend()\n",
        "\n",
        "# Displays the plot\n",
        "plt.show()\n",
        "\n",
        "print(\"\")"
      ],
      "outputs": [
        {
          "output_type": "stream",
          "name": "stdout",
          "text": [
            "Collecting P201_Functions\n",
            "  Downloading P201_Functions-1.0-py3-none-any.whl.metadata (1.2 kB)\n",
            "Requirement already satisfied: numpy in /usr/local/lib/python3.11/dist-packages (from P201_Functions) (2.0.2)\n",
            "Requirement already satisfied: matplotlib in /usr/local/lib/python3.11/dist-packages (from P201_Functions) (3.10.0)\n",
            "Requirement already satisfied: scikit-learn in /usr/local/lib/python3.11/dist-packages (from P201_Functions) (1.6.1)\n",
            "Requirement already satisfied: scipy in /usr/local/lib/python3.11/dist-packages (from P201_Functions) (1.15.3)\n",
            "Requirement already satisfied: contourpy>=1.0.1 in /usr/local/lib/python3.11/dist-packages (from matplotlib->P201_Functions) (1.3.2)\n",
            "Requirement already satisfied: cycler>=0.10 in /usr/local/lib/python3.11/dist-packages (from matplotlib->P201_Functions) (0.12.1)\n",
            "Requirement already satisfied: fonttools>=4.22.0 in /usr/local/lib/python3.11/dist-packages (from matplotlib->P201_Functions) (4.58.4)\n",
            "Requirement already satisfied: kiwisolver>=1.3.1 in /usr/local/lib/python3.11/dist-packages (from matplotlib->P201_Functions) (1.4.8)\n",
            "Requirement already satisfied: packaging>=20.0 in /usr/local/lib/python3.11/dist-packages (from matplotlib->P201_Functions) (24.2)\n",
            "Requirement already satisfied: pillow>=8 in /usr/local/lib/python3.11/dist-packages (from matplotlib->P201_Functions) (11.2.1)\n",
            "Requirement already satisfied: pyparsing>=2.3.1 in /usr/local/lib/python3.11/dist-packages (from matplotlib->P201_Functions) (3.2.3)\n",
            "Requirement already satisfied: python-dateutil>=2.7 in /usr/local/lib/python3.11/dist-packages (from matplotlib->P201_Functions) (2.9.0.post0)\n",
            "Requirement already satisfied: joblib>=1.2.0 in /usr/local/lib/python3.11/dist-packages (from scikit-learn->P201_Functions) (1.5.1)\n",
            "Requirement already satisfied: threadpoolctl>=3.1.0 in /usr/local/lib/python3.11/dist-packages (from scikit-learn->P201_Functions) (3.6.0)\n",
            "Requirement already satisfied: six>=1.5 in /usr/local/lib/python3.11/dist-packages (from python-dateutil>=2.7->matplotlib->P201_Functions) (1.17.0)\n",
            "Downloading P201_Functions-1.0-py3-none-any.whl (5.6 kB)\n",
            "Installing collected packages: P201_Functions\n",
            "Successfully installed P201_Functions-1.0\n",
            "Constant Fit: Coefficients (from curve_fit)\n",
            "[98.11428571]\n",
            "Constant Fit: Covariance Matrix (from curve_fit)\n",
            "[[0.00038095]]\n",
            "\n",
            "Constant Fit: Final Result: y = (98.11429 +/- 0.01952)\n",
            "\n"
          ]
        },
        {
          "output_type": "display_data",
          "data": {
            "text/plain": [
              "<Figure size 640x480 with 1 Axes>"
            ],
            "image/png": "[encoded data removed]"
          },
          "metadata": {}
        },
        {
          "output_type": "stream",
          "name": "stdout",
          "text": [
            "\n"
          ]
        }
      ],
      "execution_count": 3
    },
    {
      "cell_type": "markdown",
      "metadata": {
        "id": "NbSYLVFY1vO_"
      },
      "source": [
        "### Direct Measurement\n",
        "A measurement of the height and radius of the cylinder allows you to compute the volume using the formula:  \n",
        "\n",
        "\\begin{equation}\n",
        "V = \\pi r^2 h\n",
        "\\tag{4}\n",
        "\\end{equation}\n",
        "\n",
        "The propagated uncertainties can again be derived from equation ([2](#mjx-eqn)). If our uncertainty in\n",
        "measuring the radius and height are $\\delta r$ and $\\delta h$, we first we compute the uncertainty in $r^2$:  \n",
        "\n",
        "\\begin{equation}\n",
        "\\frac{\\delta \\left(r^2 \\right)}{r^2} = 2 \\frac{\\delta r}{r}\n",
        "\\tag{5}\n",
        "\\end{equation}\n",
        "\n",
        "and then we compute the uncertainty in volume:  \n",
        "\n",
        "\\begin{equation}\n",
        "\\frac{\\delta V}{V} = \\frac{\\delta \\left(r^2 \\right)}{r^2} + \\frac{\\delta h}{h}\n",
        "\\end{equation}\n",
        "\n",
        "or, substituting:  \n",
        "\n",
        "\\begin{equation}\n",
        "\\frac{\\delta V}{V} = \\frac{\\delta r}{r}  + \\frac{\\delta h}{h}\n",
        "\\tag{6}\n",
        "\\end{equation}\n",
        "\n",
        "Notice that we can take the left side directly and use it to compute the uncertainty in density once we have the uncertainty in measuring the mass. Instead of re-computing it every time you need it, it might be useful to write this value down for each rod."
      ]
    },
    {
      "cell_type": "markdown",
      "metadata": {
        "id": "NqdaB6oa1vPA"
      },
      "source": [
        "### Measurement of Displaced Water\n",
        "This measurement gives a direct result with the uncertainty, $\\delta V$, given by the uncertainty in measuring the markings\n",
        "on the graduated cylinder."
      ]
    },
    {
      "cell_type": "markdown",
      "metadata": {
        "id": "sop8Ulod1vPA"
      },
      "source": [
        "### Measurement of Equivalent Weight of Water\n",
        "This is probably the most difficult measurement to understand, but the easiest to compute with very good accuracy. If you simply drop a mass into the water and let it sit at the bottom of the beaker, the weight you will measure will simply be the weight of the water plus the weight of the mass. However, if the mass is *suspended* in the water, the tension in the string will take up some of that weight. How much?\n",
        "\n",
        "Imagine that a block of Styrofoam were in the water. It would float. Why? Because it is *less* dense than water. Now imagine a block of gold in the water. It would sink. Why? Because it is *more* dense than water. So if we had something with *exactly* the same density as the water, it would neither float nor sink: it would remain stationary at any depth.\n",
        "\n",
        "By using the tension in the string to support the cylinder, we are compensating for the higher density and forcing the cylinder to remain stationary---so it acts as if it were the same density as the water. When we measure the weight of the water plus the *suspended* mass, we should get the weight of the water *plus the weight of water which has the same volume as the cylinder*. Therefore, we find the volume of the cylinder by, first, finding the difference in mass with and without the cylinder:  \n",
        "\n",
        "\\begin{equation}\n",
        "m_{w} =  m_{2} - m_{1}\n",
        "\\tag{7}\n",
        "\\end{equation}\n",
        "\n",
        "\n",
        "The uncertainty in this determination comes from equation ([2](#mjx-eqn)):\n",
        "\n",
        "\\begin{equation}\n",
        "\\delta m_{w} = \\delta m_{1} + \\delta m_{2}\n",
        "\\tag{8}\n",
        "\\end{equation}\n",
        "\n",
        "Then we use equation ([1](#mjx-eqn)) to determine the volume of the cylinder:\n",
        "\n",
        "\\begin{equation}\n",
        "V = \\frac{m_{w}}{\\rho_{w}}\n",
        "\\tag{9}\n",
        "\\end{equation}\n",
        "\n",
        "where $ \\rho_{w}$ is the density of the water. This has an uncertainty given by:  \n",
        "\n",
        "\\begin{equation}\n",
        "\\frac{\\delta V}{V} = \\frac{\\delta m_{w}}{m_{w}} + \\frac{\\delta \\rho_{w}}{\\rho_{w}}\n",
        "\\tag{10}\n",
        "\\end{equation}\n",
        "\n",
        "Then we can use equation ([3](#mjx-eqn)) to compute the uncertainty in measuring the density of the rod."
      ]
    },
    {
      "cell_type": "markdown",
      "metadata": {
        "id": "_pup8hbL1vPA"
      },
      "source": [
        "# Experimental Procedure\n",
        "Once you’ve picked three different-sized rods made of the same material, the first item of business is to record the common data for each of the three experiments: the masses of each of the cylinders. Enter this in the cell immediately below this one, in the appropriate place.  \n",
        "\n",
        "Remember that, when estimating your measurement uncertainty, a good rule of thumb is to use plus-or-minus half of the smallest increment you can measure directly. Sometimes you can use a smaller value than this if you feel you can interpret the spaces between the markings more accurately. For digital measurements, however, this is not possible.  \n",
        "\n",
        "Note that you will record here the $absolute$ error in the mass measurement, and then we subsequently $calculate$ the fractional error in the mass, $\\delta m /m$."
      ]
    },
    {
      "cell_type": "code",
      "metadata": {
        "ExecuteTime": {
          "end_time": "2025-06-21T00:42:42.915828Z",
          "start_time": "2025-06-21T00:42:42.898747Z"
        },
        "id": "GGIQXOT31vPA",
        "outputId": "3397ac8d-ebdd-44f4-c7a5-a1407de0a8a2"
      },
      "source": [
        "# Raw Data\n",
        "# Table 1: Mass Characteristics of Test Cylinders\n",
        "\n",
        "# Create an empty numpy array to hold the raw data\n",
        "raw_data_1 = np.empty((3,3))\n",
        "\n",
        "# Set the cylinder number column identifiers for each cylinder\n",
        "raw_data_1[0][0]=1\n",
        "raw_data_1[1][0]=2\n",
        "raw_data_1[2][0]=3\n",
        "\n",
        "# Create a Pandas dataframe, and convert the cylinder number column to integer format\n",
        "df1 = pd.DataFrame(raw_data_1, columns=[\"Cylinder Number\",\n",
        "                                        \"M\",\n",
        "                                        \"dM\"])\n",
        "df1['Cylinder Number'] = df1['Cylinder Number'].astype(int)\n",
        "\n",
        "\n",
        "#### Enter Raw Data Here!!!!!!!!!!!!!! ####\n",
        "\n",
        "# Enter the mass of each cylinder (in grams). Tip: Enter the values as [cylinder 1, cylinder 2, cylinder 3]\n",
        "df1['M'] = [42.000,141,339.000]\n",
        "\n",
        "# Enter the uncertainties of the masses of the cylinders.\n",
        "df1['dM'] = [0.010,0.020,0.030]\n",
        "\n",
        "###########################################\n",
        "\n",
        "\n",
        "# Calculate 𝛿m/m\n",
        "df1['dM/M'] = df1['dM']/df1['M']\n",
        "\n",
        "# Display the dataframe\n",
        "from IPython.display import display\n",
        "display(df1)\n",
        "print (\"Table 1: Mass Characteristics of Test Cylinders (Masses in grams)\")"
      ],
      "outputs": [
        {
          "data": {
            "text/plain": [
              "   Cylinder Number      M    dM      dM/M\n",
              "0                1   42.0  0.01  0.000238\n",
              "1                2  141.0  0.02  0.000142\n",
              "2                3  339.0  0.03  0.000088"
            ],
            "text/html": [
              "<div>\n",
              "<style scoped>\n",
              "    .dataframe tbody tr th:only-of-type {\n",
              "        vertical-align: middle;\n",
              "    }\n",
              "\n",
              "    .dataframe tbody tr th {\n",
              "        vertical-align: top;\n",
              "    }\n",
              "\n",
              "    .dataframe thead th {\n",
              "        text-align: right;\n",
              "    }\n",
              "</style>\n",
              "<table border=\"1\" class=\"dataframe\">\n",
              "  <thead>\n",
              "    <tr style=\"text-align: right;\">\n",
              "      <th></th>\n",
              "      <th>Cylinder Number</th>\n",
              "      <th>M</th>\n",
              "      <th>dM</th>\n",
              "      <th>dM/M</th>\n",
              "    </tr>\n",
              "  </thead>\n",
              "  <tbody>\n",
              "    <tr>\n",
              "      <th>0</th>\n",
              "      <td>1</td>\n",
              "      <td>42.0</td>\n",
              "      <td>0.01</td>\n",
              "      <td>0.000238</td>\n",
              "    </tr>\n",
              "    <tr>\n",
              "      <th>1</th>\n",
              "      <td>2</td>\n",
              "      <td>141.0</td>\n",
              "      <td>0.02</td>\n",
              "      <td>0.000142</td>\n",
              "    </tr>\n",
              "    <tr>\n",
              "      <th>2</th>\n",
              "      <td>3</td>\n",
              "      <td>339.0</td>\n",
              "      <td>0.03</td>\n",
              "      <td>0.000088</td>\n",
              "    </tr>\n",
              "  </tbody>\n",
              "</table>\n",
              "</div>"
            ]
          },
          "metadata": {},
          "output_type": "display_data"
        },
        {
          "name": "stdout",
          "output_type": "stream",
          "text": [
            "Table 1: Mass Characteristics of Test Cylinders (Masses in grams)\n"
          ]
        }
      ],
      "execution_count": null
    },
    {
      "cell_type": "markdown",
      "metadata": {
        "id": "vDncvbxu1vPA"
      },
      "source": [
        "### Direct Measurement\n",
        "It is important that, whenever you use a tool to measure something, that tool reads zero when nothing is present (not verifying this means you may have a “Zero Error”). Before measuring a cylinder with the calipers and micrometer, close the jaws of each completely and ensure that you read zero before you take a measurement. If it does not read zero, you will need to either fix the zero reading or compensate for it.  "
      ]
    },
    {
      "cell_type": "markdown",
      "metadata": {
        "id": "aIDQL_Oe1vPA"
      },
      "source": [
        "#### Using the Digital Calipers to Measure Length\n",
        "First, verify that the digital calipers read in millimeters. You should see the “mm” symbol appear in the display. If it is reading in inches, press the blue “mm/inch” button one time.  \n",
        "Second, you must ensure that the calipers read zero when you close the jaws and put just a little bit of pressure on the thumb wheel. If the reading is not zero, hold the jaws closed with just a little pressure on the thumb wheel and (with the other hand) press the “ZERO” button one time. The display should now read zero.  \n",
        "<div align=\"center\">\n",
        "<img src=\"https://github.com/JNichols-19/PhysicsLabs/blob/main/images/Lab%201%20Images/Correct%20Measurement%20with%20Digital%20Calipers.PNG?raw=true\" width=\"400\"/>\n",
        "</div>\n",
        "\n",
        "  \n",
        "You can now take measurements of the length of the rod as shown in Figure 1.  \n",
        "\n",
        "Notice that your accuracy is limited to two decimal places, so your height measurement will have an uncertainty of $\\delta h$ = 0.005 mm. You should take three or four measurements by rotating the cylinder slightly between each measurement and report the average value."
      ]
    },
    {
      "cell_type": "markdown",
      "metadata": {
        "id": "XuCISbwP1vPA"
      },
      "source": [
        "#### Using the Digital Micrometer to Measure Diameter\n",
        "Now measure the diameter of your cylinder with the micrometer. Once again, we first need to ensure we’re measuring in millimeters. If the display does not read “mm,” press and hold the “in/mm” button until it does. Second, we check to make sure that the micrometer reads zero when nothing is in place. To do this with the MARATHON CO 0030025 micrometer, close the gap on the micrometer by rotating the **big** wheel until it clicks. If the reading on the micrometer is not zero, press and **hold** the “SET” button until it does.\n",
        "\n",
        "<div align=\"center\">\n",
        "<img src=\"https://github.com/JNichols-19/PhysicsLabs/blob/main/images/Lab%201%20Images/Proper%20Measurement%20with%20the%20Digital%20Micrometer.PNG?raw=true\" width=\"400\"/>\n",
        "</div>\n",
        "\n",
        "You can now take measurements of the diameter of the rod as shown in Figure 2. Notice that the rod is standing on the table while one hand holds the frame of the micrometer and the other hand rotates the big knob. ***Always use the big knob when changing the gap in the digital micrometer.*** This knob has a ratchet which, when properly used, always gives the same pressure to the measuring bar keeping all of your measurements consistent.\n",
        "\n",
        "Because the accuracy is is 0.001 mm, your uncertainty in the diameter of the cylinder will be $\\delta d$ = 0.0005 mm. What is the uncertainty in your radius? Using Equation ([2](#mjx-eqn)) we find that  \n",
        "\n",
        "\\begin{equation}\n",
        "\\frac{\\delta r}{r} = \\frac{\\delta d}{d}\n",
        "\\end{equation}\n",
        "\n",
        "\\begin{equation}\n",
        "\\delta r = \\delta d \\left(\\frac{r}{d}\\right) = \\delta d \\left(\\frac{r}{2r}\\right)\n",
        "\\end{equation}\n",
        "\n",
        "But the radius is half the diameter so\n",
        "\n",
        "\\begin{equation}\n",
        "\\delta r = \\frac{\\delta d}{2}\n",
        "\\tag{11}\n",
        "\\end{equation}\n",
        "\n",
        "as you might have expected.  \n",
        "\n",
        "Enter your raw data into the cell immediately below this one in the appropriate place!"
      ]
    },
    {
      "cell_type": "code",
      "metadata": {
        "ExecuteTime": {
          "end_time": "2025-06-21T00:43:12.225690Z",
          "start_time": "2025-06-21T00:43:12.213431Z"
        },
        "id": "TL3Tw_B81vPA",
        "outputId": "e31f0dc6-de43-492c-fc53-5e36bc0ab91a"
      },
      "source": [
        "# Raw Data\n",
        "# Table 2: Details of Direct Measurements of Cylinders\n",
        "\n",
        "# Create an empty numpy array to hold the raw data\n",
        "raw_data_2 = np.empty((3,10))\n",
        "\n",
        "# Set the cylinder number column identifiers for each cylinder\n",
        "raw_data_2[0][0]=1\n",
        "raw_data_2[1][0]=2\n",
        "raw_data_2[2][0]=3\n",
        "\n",
        "# Create a Pandas dataframe, and convert the cylinder number column to integer format\n",
        "df2 = pd.DataFrame(raw_data_2, columns=[\"Cylinder\",\n",
        "                                        \"h\",\n",
        "                                        \"dh/h\",\n",
        "                                        \"d\",\n",
        "                                        \"r\",\n",
        "                                       \"dr/r\",\n",
        "                                        \"V\",\n",
        "                                        \"dV/V\",\n",
        "                                        \"rho\",\n",
        "                                        \"drho\"])\n",
        "df2['Cylinder'] = df2['Cylinder'].astype(int)\n",
        "\n",
        "\n",
        "#### Enter Raw Data Here!!!!!!!!!!!!!! ####\n",
        "\n",
        "# measurements of the height and diameter of each cylinder (watch your units!)\n",
        "df2['h'] = [1.000,1.500,2.000]\n",
        "\n",
        "df2['d'] = [4.00,6.00,8.00]\n",
        "\n",
        "\n",
        "# uncertainties in height and diameter\n",
        "delta_h = 0.005\n",
        "\n",
        "delta_d = 0.007\n",
        "\n",
        "###########################################\n",
        "\n",
        "\n",
        "# Calculate the various columns\n",
        "df2['dh/h'] = delta_h/df2['h']\n",
        "df2['r'] = df2['d']/2.0\n",
        "\n",
        "# From equation 11 in the theory section\n",
        "df2['dr/r'] = delta_d/df2['d']\n",
        "\n",
        "# From equation 4 in the theory section\n",
        "df2['V'] = np.pi*df2['r']**2*df2['h']\n",
        "\n",
        "# From equation 6 in the theory section\n",
        "df2['dV/V'] = 2.0*df2['dr/r'] + df2['dh/h']\n",
        "\n",
        "# From equation 1 in the theory section\n",
        "df2['rho'] = df1['M']/df2['V']\n",
        "\n",
        "# From equation 2 in the theory section\n",
        "df2['drho'] = df2['rho']*(df1['dM/M'] + df2['dV/V'])\n",
        "\n",
        "rho_bar2,delta_rho2 = weighted_average(df2['rho'],df2['drho'],1)\n",
        "\n",
        "# Display the dataframe\n",
        "display(df2)\n",
        "print (\"Table 2: Details of Direct Measurements of Cylinders (length in cm, volume in cm^3, density in g/cm^3)\")\n",
        "print(\"\")\n",
        "print (\"Average Density = %0.4f +/- %0.4f g/cm^3\" %\n",
        "       (rho_bar2,delta_rho2))\n"
      ],
      "outputs": [
        {
          "name": "stdout",
          "output_type": "stream",
          "text": [
            "Effective N_dof =  2.7952218586942337\n",
            "Correction factor =  0.9474233105360649\n"
          ]
        },
        {
          "data": {
            "text/plain": [
              "   Cylinder    h      dh/h    d    r      dr/r           V      dV/V  \\\n",
              "0         1  1.0  0.005000  4.0  2.0  0.001750   12.566371  0.008500   \n",
              "1         2  1.5  0.003333  6.0  3.0  0.001167   42.411501  0.005667   \n",
              "2         3  2.0  0.002500  8.0  4.0  0.000875  100.530965  0.004250   \n",
              "\n",
              "        rho      drho  \n",
              "0  3.342254  0.029205  \n",
              "1  3.324570  0.019311  \n",
              "2  3.372095  0.014630  "
            ],
            "text/html": [
              "<div>\n",
              "<style scoped>\n",
              "    .dataframe tbody tr th:only-of-type {\n",
              "        vertical-align: middle;\n",
              "    }\n",
              "\n",
              "    .dataframe tbody tr th {\n",
              "        vertical-align: top;\n",
              "    }\n",
              "\n",
              "    .dataframe thead th {\n",
              "        text-align: right;\n",
              "    }\n",
              "</style>\n",
              "<table border=\"1\" class=\"dataframe\">\n",
              "  <thead>\n",
              "    <tr style=\"text-align: right;\">\n",
              "      <th></th>\n",
              "      <th>Cylinder</th>\n",
              "      <th>h</th>\n",
              "      <th>dh/h</th>\n",
              "      <th>d</th>\n",
              "      <th>r</th>\n",
              "      <th>dr/r</th>\n",
              "      <th>V</th>\n",
              "      <th>dV/V</th>\n",
              "      <th>rho</th>\n",
              "      <th>drho</th>\n",
              "    </tr>\n",
              "  </thead>\n",
              "  <tbody>\n",
              "    <tr>\n",
              "      <th>0</th>\n",
              "      <td>1</td>\n",
              "      <td>1.0</td>\n",
              "      <td>0.005000</td>\n",
              "      <td>4.0</td>\n",
              "      <td>2.0</td>\n",
              "      <td>0.001750</td>\n",
              "      <td>12.566371</td>\n",
              "      <td>0.008500</td>\n",
              "      <td>3.342254</td>\n",
              "      <td>0.029205</td>\n",
              "    </tr>\n",
              "    <tr>\n",
              "      <th>1</th>\n",
              "      <td>2</td>\n",
              "      <td>1.5</td>\n",
              "      <td>0.003333</td>\n",
              "      <td>6.0</td>\n",
              "      <td>3.0</td>\n",
              "      <td>0.001167</td>\n",
              "      <td>42.411501</td>\n",
              "      <td>0.005667</td>\n",
              "      <td>3.324570</td>\n",
              "      <td>0.019311</td>\n",
              "    </tr>\n",
              "    <tr>\n",
              "      <th>2</th>\n",
              "      <td>3</td>\n",
              "      <td>2.0</td>\n",
              "      <td>0.002500</td>\n",
              "      <td>8.0</td>\n",
              "      <td>4.0</td>\n",
              "      <td>0.000875</td>\n",
              "      <td>100.530965</td>\n",
              "      <td>0.004250</td>\n",
              "      <td>3.372095</td>\n",
              "      <td>0.014630</td>\n",
              "    </tr>\n",
              "  </tbody>\n",
              "</table>\n",
              "</div>"
            ]
          },
          "metadata": {},
          "output_type": "display_data"
        },
        {
          "name": "stdout",
          "output_type": "stream",
          "text": [
            "Table 2: Details of Direct Measurements of Cylinders (length in cm, volume in cm^3, density in g/cm^3)\n",
            "\n",
            "Average Density = 3.3495 +/- 0.0158 g/cm^3\n"
          ]
        }
      ],
      "execution_count": null
    },
    {
      "cell_type": "markdown",
      "metadata": {
        "id": "wEVsL0yU1vPA"
      },
      "source": [
        "### Measurements Using Water\n",
        "Because the final measurement requires knowledge of the density of water, we should measure this now while the graduated cylinders are dry. **<u>You will need to measure the mass of a known volume of water.</u>** I will leave the details up to you, but remember that you will need to determine your uncertainty in this measurement, again using Equation ([3](#mjx-eqn)):  \n",
        "\n",
        "\\begin{equation}\n",
        "\\frac{\\delta \\rho_{w}}{\\rho_{w}} = \\frac{\\delta m_{w}}{m} + \\frac{\\delta V}{V}\n",
        "\\tag{12}\n",
        "\\end{equation}"
      ]
    },
    {
      "cell_type": "markdown",
      "metadata": {
        "id": "wB3meRz61vPB"
      },
      "source": [
        "### Measurement of Displaced Water\n",
        "The graduated cylinders measure liquid volume in milliliters. But this unit is the same as a cubic centimeter ($cm^3$). You will need to fill the graduated cylinder with just enough water to fully submerge the cylinder (about 25 mL of water should do). Measure this amount of water by reading the location of the bottom of the meniscus.\n",
        "\n",
        "Care must be taken when using a graduated cylinder. They are tall and thin and tip easily. When they tip, they spill their contents and---quite often---break.\n",
        "\n",
        "Even though we are only using water, general practice demands that you <u>***never***</u> set the graduated cylinder on a table and crouch down so that your eyes are level with the cylinder. If the graduated cylinder should tip, its contents could splash into your face. In a general chemistry laboratory, you might well be using liquids much less benign than water. The proper way to read a graduated cylinder is to hold it up from the top so that it hangs straight down at eye level.  \n",
        "<div align=\"center\">\n",
        "<img src=\"https://github.com/JNichols-19/PhysicsLabs/blob/main/images/Lab%201%20Images/A%20graduated%20cylinder%20showing%2020%20mL%20of%20fluid.PNG?raw=true\" width = \"200\" height=\"500\"/>\n",
        "</div>\n",
        "\n",
        "\n",
        "You will need to measure the difference between the volume with $\\left(V_{2} \\right)$ and without $\\left(V_{1} \\right)$ the cylinder. **Care must be taken when placing the metal cylinder into the graduated cylinder.** The metal cylinder can easily break the graduated cylinder if you simply drop the metal into the glass. Even if you don’t break the graduated cylinder, you will splash water out of the cylinder which will make your measurement unusable. For this reason, **tilt the graduated cylinder as much as possible and allow the metal cylinder to gently slide down the glass wall.** Be certain that the metal cylinder is <u>completely dry</u> before putting it in the water and ensure that it is fully submerged before you take data. Record the difference in water volume readings. If your graduated cylinder is marked in 1 mL increments, then your uncertainty *in each measurement* is no more than $\\delta V = 0.5 cm^3$, but could be a bit less if you are very careful.\n",
        "\n",
        "Enter your raw data into the cell immediately below this one in the appropriate place!"
      ]
    },
    {
      "cell_type": "code",
      "metadata": {
        "ExecuteTime": {
          "end_time": "2025-06-21T00:43:20.194809Z",
          "start_time": "2025-06-21T00:43:20.183311Z"
        },
        "id": "r0PfMrNE1vPB",
        "outputId": "f97c9012-e870-43e4-b096-3533a33b8188"
      },
      "source": [
        "# Raw Data\n",
        "# Table 3: Details of Volume Measurement of Cylinders\n",
        "\n",
        "# Create an empty numpy array to hold the raw data\n",
        "raw_data_3 = np.empty((3,8))\n",
        "\n",
        "# Set the cylinder number column identifiers for each cylinder\n",
        "raw_data_3[0][0]=1\n",
        "raw_data_3[1][0]=2\n",
        "raw_data_3[2][0]=3\n",
        "\n",
        "# Create a Pandas dataframe, and convert the cylinder number column to integer format\n",
        "df3 = pd.DataFrame(raw_data_3, columns=[\"Cylinder\",\n",
        "                                        \"V1\",\n",
        "                                        \"V2\",\n",
        "                                        \"V\",\n",
        "                                        \"dV\",\n",
        "                                        \"dV/V\",\n",
        "                                        \"rho\",\n",
        "                                        \"drho\"])\n",
        "df3['Cylinder'] = df3['Cylinder'].astype(int)\n",
        "\n",
        "\n",
        "#### Enter Raw Data Here!!!!!!!!!!!!!! ####\n",
        "\n",
        "# measurements of the volume with (V2) and without (V1) each cylinder\n",
        "df3['V1'] = [32.5,92.4,200.5]\n",
        "\n",
        "df3['V2'] = [20.0,50.0,100.0]\n",
        "\n",
        "###########################################\n",
        "\n",
        "\n",
        "# Calculate the various columns, and display the dataframe\n",
        "delta_V = 0.5\n",
        "df3['dV'] = 2.0*delta_V\n",
        "df3['V'] =df3['V2'] - df3['V1']\n",
        "df3['dV/V'] = df3['dV']/df3['V']\n",
        "\n",
        "df3['rho'] = df1['M']/df3['V']\n",
        "\n",
        "# From equation 2 in the theory section\n",
        "df3['drho'] = df3['rho']*(df1['dM/M'] + df3['dV/V'])\n",
        "\n",
        "rho_bar3,delta_rho3 = weighted_average(df3['rho'],df3['drho'],1)\n",
        "\n",
        "display(df3)\n",
        "print (\"Table 3: Details of Volume Measurement of Cylinders (volume in cm^3, density in g/cm^3)\")\n",
        "print(\"\")\n",
        "print (\"Average Density = %0.4f +/- %0.4f g/cm^3\" %\n",
        "       (rho_bar3,delta_rho3))\n",
        "print()"
      ],
      "outputs": [
        {
          "name": "stdout",
          "output_type": "stream",
          "text": [
            "Effective N_dof =  2.0084263044367012\n",
            "Correction factor =  0.710079680189731\n"
          ]
        },
        {
          "data": {
            "text/plain": [
              "   Cylinder     V1     V2      V   dV      dV/V       rho      drho\n",
              "0         1   32.5   20.0  -12.5  1.0 -0.080000 -3.360000  0.268000\n",
              "1         2   92.4   50.0  -42.4  1.0 -0.023585 -3.325472  0.077959\n",
              "2         3  200.5  100.0 -100.5  1.0 -0.009950 -3.373134  0.033265"
            ],
            "text/html": [
              "<div>\n",
              "<style scoped>\n",
              "    .dataframe tbody tr th:only-of-type {\n",
              "        vertical-align: middle;\n",
              "    }\n",
              "\n",
              "    .dataframe tbody tr th {\n",
              "        vertical-align: top;\n",
              "    }\n",
              "\n",
              "    .dataframe thead th {\n",
              "        text-align: right;\n",
              "    }\n",
              "</style>\n",
              "<table border=\"1\" class=\"dataframe\">\n",
              "  <thead>\n",
              "    <tr style=\"text-align: right;\">\n",
              "      <th></th>\n",
              "      <th>Cylinder</th>\n",
              "      <th>V1</th>\n",
              "      <th>V2</th>\n",
              "      <th>V</th>\n",
              "      <th>dV</th>\n",
              "      <th>dV/V</th>\n",
              "      <th>rho</th>\n",
              "      <th>drho</th>\n",
              "    </tr>\n",
              "  </thead>\n",
              "  <tbody>\n",
              "    <tr>\n",
              "      <th>0</th>\n",
              "      <td>1</td>\n",
              "      <td>32.5</td>\n",
              "      <td>20.0</td>\n",
              "      <td>-12.5</td>\n",
              "      <td>1.0</td>\n",
              "      <td>-0.080000</td>\n",
              "      <td>-3.360000</td>\n",
              "      <td>0.268000</td>\n",
              "    </tr>\n",
              "    <tr>\n",
              "      <th>1</th>\n",
              "      <td>2</td>\n",
              "      <td>92.4</td>\n",
              "      <td>50.0</td>\n",
              "      <td>-42.4</td>\n",
              "      <td>1.0</td>\n",
              "      <td>-0.023585</td>\n",
              "      <td>-3.325472</td>\n",
              "      <td>0.077959</td>\n",
              "    </tr>\n",
              "    <tr>\n",
              "      <th>2</th>\n",
              "      <td>3</td>\n",
              "      <td>200.5</td>\n",
              "      <td>100.0</td>\n",
              "      <td>-100.5</td>\n",
              "      <td>1.0</td>\n",
              "      <td>-0.009950</td>\n",
              "      <td>-3.373134</td>\n",
              "      <td>0.033265</td>\n",
              "    </tr>\n",
              "  </tbody>\n",
              "</table>\n",
              "</div>"
            ]
          },
          "metadata": {},
          "output_type": "display_data"
        },
        {
          "name": "stdout",
          "output_type": "stream",
          "text": [
            "Table 3: Details of Volume Measurement of Cylinders (volume in cm^3, density in g/cm^3)\n",
            "\n",
            "Average Density = -3.3590 +/- 0.0208 g/cm^3\n",
            "\n"
          ]
        }
      ],
      "execution_count": null
    },
    {
      "cell_type": "markdown",
      "metadata": {
        "id": "aEHzQr6i1vPB"
      },
      "source": [
        "### Measurement of Equivalent Weight of Water\n",
        "For your final measurement of the volume of the metal cylinders, you will need to fill a beaker with some water and place it on your scale. Note the mass of the water plus beaker for each measurement as $m_{1}$.\n",
        "\n",
        "Next, tie a loop of wire around your <u>completely dry</u> metal cylinder and be sure that it can be dangled without dropping. Then, gently lower the cylinder into the water until it is completely submerged. **Do not let it touch the bottom of the beaker.** Use a clamp to hang the metal at this height so that the tension will not change in the wire. Measure the new mass, $m_{2}$, and use the information in the theory section to compute the volume of the cylinder.\n",
        "\n",
        "Enter your raw data into the cell immediately below this one in the appropriate place!"
      ]
    },
    {
      "cell_type": "code",
      "metadata": {
        "ExecuteTime": {
          "end_time": "2025-06-21T00:43:22.387244Z",
          "start_time": "2025-06-21T00:43:22.374052Z"
        },
        "id": "7D3DB0ZP1vPB",
        "outputId": "5400e88d-367a-483a-8149-63c8940a6dd8"
      },
      "source": [
        "# Raw Data\n",
        "# Table 4: Details of Displaced Water Measurement of Cylinders\n",
        "\n",
        "# Create an empty numpy array to hold the raw data\n",
        "raw_data_4 = np.empty((3,10))\n",
        "\n",
        "# Set the cylinder number column identifiers for each cylinder\n",
        "raw_data_4[0][0]=1\n",
        "raw_data_4[1][0]=2\n",
        "raw_data_4[2][0]=3\n",
        "\n",
        "# Create a Pandas dataframe, and convert the cylinder number column to integer format\n",
        "df4 = pd.DataFrame(raw_data_4, columns=[\"Cylinder\",\n",
        "                                        \"m1\",\n",
        "                                        \"m2\",\n",
        "                                        \"mw\",\n",
        "                                        \"dmw\",\n",
        "                                        \"dmw/mw\",\n",
        "                                        \"V\",\n",
        "                                        \"dV/V\",\n",
        "                                        \"rho\",\n",
        "                                        \"drho\"])\n",
        "df4['Cylinder'] = df4['Cylinder'].astype(int)\n",
        "\n",
        "\n",
        "#### Enter Raw Data Here!!!!!!!!!!!!!! ####\n",
        "\n",
        "# mass of cylinders\n",
        "df4['m1'] = [20.0,50.0,100.0]\n",
        "df4['m2'] = [32.5,92.4,200.5]\n",
        "\n",
        "# Density and uncertainty of water\n",
        "density_water = 1.0\n",
        "density_water_uncertainty = 0.002\n",
        "\n",
        "# uncertainties in the weights\n",
        "delta_m1 = 0.005\n",
        "delta_m2 = 0.005\n",
        "\n",
        "###########################################\n",
        "\n",
        "\n",
        "# Calculate the various columns, and display the dataframe\n",
        "df4['mw'] = df4['m2'] - df4['m1']\n",
        "\n",
        "df4['dmw'] = delta_m1 + delta_m2\n",
        "\n",
        "df4['dmw/mw'] = delta_m1/df4['m1'] + delta_m2/df4['m2']\n",
        "\n",
        "df4['V'] = df4['mw']/density_water\n",
        "\n",
        "df4['dV/V'] = (df4['dmw/mw'] + (density_water_uncertainty/density_water))\n",
        "\n",
        "df4['rho'] = df1['M']/df4['V']\n",
        "\n",
        "# From equation 2 in the theory section\n",
        "df4['drho'] = df4['rho']*(df4['dmw/mw'] + df4['dV/V'])\n",
        "\n",
        "\n",
        "rho_bar4,delta_rho4 = weighted_average(df4['rho'],df4['drho'],1)\n",
        "\n",
        "display(df4)\n",
        "print (\"Table 4: Details of Displaced Water Measurement of Cylinders (mass in g, volume in cm^2, density in g/cm^3)\")\n",
        "print(\"\")\n",
        "print (\"Average Density = %0.4f +/- %0.4f g/cm^3\" %\n",
        "       (rho_bar4,delta_rho4))\n",
        "print()"
      ],
      "outputs": [
        {
          "name": "stdout",
          "output_type": "stream",
          "text": [
            "Effective N_dof =  2.9647493064181294\n",
            "Correction factor =  0.9911481489712144\n"
          ]
        },
        {
          "data": {
            "text/plain": [
              "   Cylinder     m1     m2     mw   dmw    dmw/mw      V      dV/V       rho  \\\n",
              "0         1   20.0   32.5   12.5  0.01  0.000404   12.5  0.002404  3.360000   \n",
              "1         2   50.0   92.4   42.4  0.01  0.000154   42.4  0.002154  3.325472   \n",
              "2         3  100.0  200.5  100.5  0.01  0.000075  100.5  0.002075  3.373134   \n",
              "\n",
              "       drho  \n",
              "0  0.009434  \n",
              "1  0.007676  \n",
              "2  0.007252  "
            ],
            "text/html": [
              "<div>\n",
              "<style scoped>\n",
              "    .dataframe tbody tr th:only-of-type {\n",
              "        vertical-align: middle;\n",
              "    }\n",
              "\n",
              "    .dataframe tbody tr th {\n",
              "        vertical-align: top;\n",
              "    }\n",
              "\n",
              "    .dataframe thead th {\n",
              "        text-align: right;\n",
              "    }\n",
              "</style>\n",
              "<table border=\"1\" class=\"dataframe\">\n",
              "  <thead>\n",
              "    <tr style=\"text-align: right;\">\n",
              "      <th></th>\n",
              "      <th>Cylinder</th>\n",
              "      <th>m1</th>\n",
              "      <th>m2</th>\n",
              "      <th>mw</th>\n",
              "      <th>dmw</th>\n",
              "      <th>dmw/mw</th>\n",
              "      <th>V</th>\n",
              "      <th>dV/V</th>\n",
              "      <th>rho</th>\n",
              "      <th>drho</th>\n",
              "    </tr>\n",
              "  </thead>\n",
              "  <tbody>\n",
              "    <tr>\n",
              "      <th>0</th>\n",
              "      <td>1</td>\n",
              "      <td>20.0</td>\n",
              "      <td>32.5</td>\n",
              "      <td>12.5</td>\n",
              "      <td>0.01</td>\n",
              "      <td>0.000404</td>\n",
              "      <td>12.5</td>\n",
              "      <td>0.002404</td>\n",
              "      <td>3.360000</td>\n",
              "      <td>0.009434</td>\n",
              "    </tr>\n",
              "    <tr>\n",
              "      <th>1</th>\n",
              "      <td>2</td>\n",
              "      <td>50.0</td>\n",
              "      <td>92.4</td>\n",
              "      <td>42.4</td>\n",
              "      <td>0.01</td>\n",
              "      <td>0.000154</td>\n",
              "      <td>42.4</td>\n",
              "      <td>0.002154</td>\n",
              "      <td>3.325472</td>\n",
              "      <td>0.007676</td>\n",
              "    </tr>\n",
              "    <tr>\n",
              "      <th>2</th>\n",
              "      <td>3</td>\n",
              "      <td>100.0</td>\n",
              "      <td>200.5</td>\n",
              "      <td>100.5</td>\n",
              "      <td>0.01</td>\n",
              "      <td>0.000075</td>\n",
              "      <td>100.5</td>\n",
              "      <td>0.002075</td>\n",
              "      <td>3.373134</td>\n",
              "      <td>0.007252</td>\n",
              "    </tr>\n",
              "  </tbody>\n",
              "</table>\n",
              "</div>"
            ]
          },
          "metadata": {},
          "output_type": "display_data"
        },
        {
          "name": "stdout",
          "output_type": "stream",
          "text": [
            "Table 4: Details of Displaced Water Measurement of Cylinders (mass in g, volume in cm^2, density in g/cm^3)\n",
            "\n",
            "Average Density = 3.3528 +/- 0.0147 g/cm^3\n",
            "\n"
          ]
        }
      ],
      "execution_count": null
    },
    {
      "cell_type": "code",
      "metadata": {
        "ExecuteTime": {
          "end_time": "2025-06-21T00:43:23.566657Z",
          "start_time": "2025-06-21T00:43:23.439133Z"
        },
        "id": "z-_EuWBk1vPB",
        "outputId": "587d8cc5-66c4-40ea-f050-2b352141c802"
      },
      "source": [
        "# Create a plot of the densities obtained using the three different\n",
        "# methods, including error bars\n",
        "\n",
        "xaxis = np.array([1,2,3])\n",
        "yaxis = np.array([rho_bar2,rho_bar3,rho_bar4])\n",
        "dyaxis = np.array([delta_rho2,delta_rho3,delta_rho4])\n",
        "\n",
        "plt.rcParams[\"figure.figsize\"] = (12,9)\n",
        "\n",
        "# Plot the data, with these uncertainties, and give the panel a title.\n",
        "plt.errorbar(xaxis, yaxis, yerr=dyaxis, fmt='o', capsize=5, capthick=2)\n",
        "plt.title(\"Summary of Density Measurements\")\n",
        "plt.xlabel(\"Measurement Number\")\n",
        "plt.ylabel(\"Density (g/cm^3)\")\n",
        "\n",
        "rhoavg,drhoavg = weighted_average(yaxis,dyaxis,1)\n",
        "\n",
        "print(\"\")\n",
        "print (\"Average Density = %0.4f +/- %0.4f g/cm^3\" %\n",
        "       (rhoavg,drhoavg))\n",
        "print()\n",
        "\n",
        "# (Beyond Scope, but interesting?  Let's look at doing a constant fit\n",
        "# to these three data points using Python's stats curve_fit function)\n",
        "\n",
        "import sys; sys.path.insert(0, '..')\n",
        "from PHYS201L.JupyterNotebooks.P201_Functions import *\n",
        "\n",
        "# Takes the x and y values to make a trendline\n",
        "intercept,dintercept = constant_fit_plot_errors(xaxis,yaxis,dyaxis,plt)\n",
        "\n",
        "# Adds the legend to the plot\n",
        "plt.legend()\n",
        "\n",
        "# Displays the plot\n",
        "plt.show()\n",
        "\n",
        "print(\"\")"
      ],
      "outputs": [
        {
          "name": "stdout",
          "output_type": "stream",
          "text": [
            "Effective N_dof =  2.940277709661029\n",
            "Correction factor =  0.9849562705168766\n",
            "\n",
            "Average Density = 1.5552 +/- 2.1328 g/cm^3\n",
            "\n",
            "Constant Fit: Coefficients (from curve_fit)\n",
            "[1.93782684]\n",
            "Constant Fit: Covariance Matrix (from curve_fit)\n",
            "[[3.7434047]]\n",
            "\n",
            "Constant Fit: Final Result: y = (1.93783 +/- 1.93479)\n",
            "\n"
          ]
        },
        {
          "data": {
            "text/plain": [
              "<Figure size 1200x900 with 1 Axes>"
            ],
            "image/png": "[encoded data removed]"
          },
          "metadata": {},
          "output_type": "display_data"
        },
        {
          "name": "stdout",
          "output_type": "stream",
          "text": [
            "\n"
          ]
        }
      ],
      "execution_count": null
    },
    {
      "cell_type": "markdown",
      "metadata": {
        "id": "ui0fuJYS1vPB"
      },
      "source": [
        "# Your Lab Report\n",
        "### EXPERIMENTAL PROCEDURE Section\n",
        "In one or two paragraphs, <u>***describe the method you used to measure the density of tap water***</u>. **You will be graded on your ability to clearly describe what <u>you</u> did**. The description should be clear enough that someone else could reproduce your results by reading this section. **Although it is tempting to write “instructions,” you will be graded poorly if you do so.**"
      ]
    },
    {
      "cell_type": "markdown",
      "metadata": {
        "id": "if8kKm3Z1vPB"
      },
      "source": [
        "### DATA Section\n",
        "What was your average measured density for the substance (you must include the uncertainty!)?"
      ]
    },
    {
      "cell_type": "markdown",
      "metadata": {
        "id": "Nk6EMJ671vPB"
      },
      "source": [
        "### CONCLUSION section\n",
        "In a few paragraphs, answer the following questions. Do <u>***NOT***</u> use bullets, use full paragraphs.\n",
        "* What substance do you think you have?\n",
        "    * What is the accepted density of that material (CITE YOUR SOURCE)?\n",
        "    * How does your measured density compare to the accepted density [use the percent error formula]?\n",
        "    * Was density alone enough to identify the material? What other qualities did you use?\n",
        "* How well do the three methods measure volume (compare the $ \\delta V$ and $ \\frac{\\delta V}{V}$ for each)?\n",
        "* Does each method give similar answers for the volume of each cylinder?\n",
        "* How does the uncertainty in the volume measurement affect the uncertainty in the density measurement?\n",
        "* What sources of error/uncertainty did you have? How could you have removed or reduced them?"
      ]
    },
    {
      "cell_type": "markdown",
      "metadata": {
        "id": "mQy-gDt-1vPB"
      },
      "source": [
        "### Appendix\n",
        "- Include a sample calculation for every computation you made."
      ]
    },
    {
      "cell_type": "code",
      "execution_count": null,
      "metadata": {
        "id": "NyWgTihA1vPB"
      },
      "outputs": [],
      "source": []
    }
  ],
  "metadata": {
    "gist": {
      "data": {
        "description": "PhysicsLabs/PHYS201/PHYS201L1.ipynb",
        "public": true
      },
      "id": ""
    },
    "kernelspec": {
      "display_name": "Python 3",
      "language": "python",
      "name": "python3"
    },
    "language_info": {
      "codemirror_mode": {
        "name": "ipython",
        "version": 3
      },
      "file_extension": ".py",
      "mimetype": "text/x-python",
      "name": "python",
      "nbconvert_exporter": "python",
      "pygments_lexer": "ipython3",
      "version": "3.6.8"
    },
    "latex_envs": {
      "LaTeX_envs_menu_present": true,
      "autoclose": false,
      "autocomplete": true,
      "bibliofile": "biblio.bib",
      "cite_by": "apalike",
      "current_citInitial": 1,
      "eqLabelWithNumbers": true,
      "eqNumInitial": 1,
      "hotkeys": {
        "equation": "Ctrl-E",
        "itemize": "Ctrl-I"
      },
      "labels_anchors": false,
      "latex_user_defs": false,
      "report_style_numbering": false,
      "user_envs_cfg": false
    },
    "colab": {
      "provenance": []
    }
  },
  "nbformat": 4,
  "nbformat_minor": 0
}