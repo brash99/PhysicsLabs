{
 "cells": [
  {
   "cell_type": "markdown",
   "metadata": {},
   "source": [
    "# Expt 1: Density Measurements and Uncertainties\n",
    "### Objectives\n",
    "- To learn the basics of good lab practice\n",
    "- To learn how to estimate uncertainties\n",
    "- To learn how to propagate uncertainties\n",
    "- To learn how to compare measurement methods  \n",
    "\n",
    "### Equipment\n",
    "- One set of five (5) unknown cylinders of the same composition\n",
    "- One beaker\n",
    "- One or two 50 mL graduated cylinders\n",
    "- One vernier or digital caliper\n",
    "- One micrometer\n",
    "- One digital scale or beam balance\n",
    "- One “mass hanging” assembly  \n",
    "\n",
    "### Safety\n",
    "- Never intentionally drop metal cylinders into glass containers!\n",
    "- Please read the section below on proper use of a graduated cylinder."
   ]
  },
  {
   "cell_type": "markdown",
   "metadata": {},
   "source": [
    "# Introduction\n",
    "One very important and useful property of materials is the **density**, ρ, of that material. Density is defined to be the\n",
    "amount of mass contained within a certain volume: \n",
    "\n",
    "\\begin{equation}\n",
    "\\rho \\equiv \\frac{m}{V}\n",
    "\\tag{1}\n",
    "\\end{equation}\n",
    "\n",
    "This property can be used to determine the total mass of an object if we know its volume, or it can be used to\n",
    "determine if an object will float in a liquid (if the liquid has a higher density than the object). The density of an\n",
    "object is also a useful property to help identify it.\n",
    "\n",
    "In this lab, your job will be to determine the density of a set of rods of a given composition. Measuring the mass\n",
    "will be the easy part. **You will use three methods to determine the volume:** Direct measurement with scales,\n",
    "measurement of the amount of water it displaces, and measurement of its equivalent weight of water. You will\n",
    "tabulate your results and compare the first method with the second and third methods.\n",
    "\n",
    "It will be to your benefit to be slow and careful while performing this lab."
   ]
  },
  {
   "cell_type": "markdown",
   "metadata": {},
   "source": [
    "# Theory\n",
    "\n",
    "In this laboratory, there are a lot of calculations of the uncertainty in a derived quantity, based on the uncertainties in the raw quantities involved.  We can understand how to calculate these uncertainties using just a little bit of calculus!\n",
    "\n",
    "Consider a function, $z = f(x,y)$.  We imagine that $x$ and $y$ are two independent raw quantities measured in the experiment, and $z$ is some derived quantity.  The appropriate way to calculate the uncertainy in a derived quantity will depend, fundamentally, on the $type$ of uncertainty:  instrumental (uniform), or counting experiment (Gaussian), for example.  \n",
    "\n",
    "The chain-rule of differentiation, together with an assumption that the uncertainties are $uniform$ in nature (such as, for example, one typically has in the experiments in this lab course), lead to the following:\n",
    "\n",
    "\\begin{equation}\n",
    "\\delta z = \\left| \\frac{\\partial{f}}{\\partial{x}} \\right| \\delta x + \n",
    " \\left| \\frac{\\partial{f}}{\\partial{y}} \\right| \\delta y\n",
    "\\tag{2}\n",
    "\\end{equation}\n",
    "\n",
    "Now, consider the function $z = \\frac{x}{y}$.  This particular relationship will be very useful in this experiment!  \n",
    "\n",
    "The calculation of density in Equation ([1](#mjx-eqn)) will require a determination of the mass and volume of each rod. The\n",
    "final density will be an average of the computations for each method of measuring the volume of the cylinder. We\n",
    "will need the uncertainty in the computed density. Using Equation ([2](#mjx-eqn)), we can show that:\n",
    "\n",
    "\\begin{equation}\n",
    "\\frac{\\delta \\rho}{\\rho} = \\frac{\\delta m}{m} + \\frac{\\delta V}{V}\n",
    "\\tag{3}\n",
    "\\end{equation}\n",
    "\n",
    "A second extremely important concept in this experiment is the calculation of the weighted average of a series of numbers, each of which has an uncertainty associated with it.  For example, imagine that we make four measurements of the same quantity, $x$, and have an uncertainty, $\\delta x$, for each of these four measurements.  The questions are:\n",
    "\n",
    "(a) What is the $average$ of these four measurements?  \n",
    "(b) What is the $uncertainty$ in this average?\n",
    "\n",
    "Normally, when we average a series of numbers, we simply add up the values and divide by the total number of values:\n",
    "\n",
    "\\begin{equation}\n",
    "\\bar{x} = \\frac{1}{N} \\sum_{i=1}^N x_i\n",
    "\\end{equation}\n",
    "\n",
    "However, when each of the measurements has an uncertainty, it is not so simple.  The idea is that we want to attach more importance to measurements with $small$ uncertainties, and less importance to measurements with $large$ uncertainties.  This is called calculating a $weighted$ average.  For Gaussian uncertainties, it turns out that the way that we do this is to calculate the average as:\n",
    "\n",
    "\\begin{equation}\n",
    "\\bar{x} = \\frac{\\sum_{i=1}^N w_i x_i} {\\sum_{i=1}^N w_i}\n",
    "\\end{equation}\n",
    "\n",
    "where the $w_i$ are weights associated with each measurement.  For the case of uniform uncertainties, we have that $w_i = \\frac{1}{\\delta x_i}$.  For Gaussian uncertainties, we use $w_i = \\frac{1}{\\delta x_i^2}$.\n",
    "\n",
    "Note that if $\\delta x_i$ is small, the corresponding weight in the sum will be large, which is exactly what we want!\n",
    "\n",
    "For the calculation of the uncertainty in $\\bar{x}$, there are $TWO$ separate concepts related to uncertainties that we must consider.  The first is that there are uncertainties in each of the raw quantities that are being used to calculate the weighted mean.  This uncertainty is a $systematic$ uncertainty.  But also, there is uncertainty that comes from the notion that the actual $values$ of the individual measurements are not all the same. Since this involves the concept of the statistical fluctuation of repeated measurments of the same quantity, this is a $statistical$ uncertainty.\n",
    "\n",
    "The mathematics of calculating these uncertainties is actually quite complex and involved.  For the purposes of this course, we are going to simply report the final results of this mathematical exercise:\n",
    "\n",
    "\\begin{equation}\n",
    "\\delta \\bar{x}_{systematic} = \\frac{N}{\\sum_{i=1}^N w_i}\n",
    "\\end{equation}\n",
    "\n",
    "\\begin{equation}\n",
    "\\delta \\bar{x}_{statistical} = \\sqrt{ \\left( \\frac{\\sum_{i=1}^N w_i x_i^2}{\\sum_{i=1}^N w_i} - (\\bar{x})^2 \\right)   \\frac{1}{N-1} }\n",
    "\\end{equation}\n",
    "\n",
    "We should, then, combine these uncertainties together into a single uncertainty on the weighted average.  The usual technique is to combine these two errors together either linearly, in the case of uniform error measurements, or\n",
    "quadratically, in the case of Gaussian errors:\n",
    "\n",
    "\\begin{equation}\n",
    "\\delta \\bar{x} = \\delta \\bar{x}_{systematic} + \\delta \\bar{x}_{statistical} \\hspace{0.5in} \\rm{(Uniform~Errors)} \\\\\n",
    "\\delta \\bar{x} = \\sqrt{\\delta \\bar{x}_{systematic}^2 + \\delta \\bar{x}_{statistical}^2 }\\hspace{0.5in} \\rm{(Gaussian~Errors)}\n",
    "\\end{equation}\n",
    "\n",
    "Example:  Consider the following measurements of the quantity, $x$\n",
    "\n",
    "\\begin{equation}\n",
    "x_1 = 100.0 \\pm 2.5 \\\\\n",
    "x_2 = 102.0 \\pm 4.5 \\\\\n",
    "x_3 = 98.0 \\pm 0.2 \\\\ \\nonumber\n",
    "\\end{equation}\n",
    "\n",
    "We will assume that these uncerainties are instrumental/uniform uncertainties.\n",
    "\n",
    "\\begin{equation}\n",
    "\\sum_{i=1}^N \\frac{x_i}{\\delta x_i} = \\frac{100}{2.5} + \\frac{102}{4.5} + \\frac{98}{0.2} = 552.667 \\nonumber\n",
    "\\end{equation}\n",
    "\n",
    "\\begin{equation}\n",
    "\\sum_{i=1}^N \\frac{1}{\\delta x_i} = \\frac{1}{2.5} + \\frac{1}{4.5} + \\frac{1}{0.2} = 5.6222I 2 \\nonumber\n",
    "\\end{equation}\n",
    "\n",
    "\\begin{equation}\n",
    "\\bar{x} = \\frac{552.667}{5.62222} = 98.3004 \\nonumber\n",
    "\\end{equation}\n",
    "\n",
    "Notice the $weighted$ average is closer to 98 than to either of the other two data values, because the uncertainty in that measured value is significantly smaller than the other uncertainties.\n",
    "\n",
    "\\begin{equation}\n",
    "\\sum_{i=1}^N w_i = \\frac{1}{2.5} + \\frac{1}{4.5} + \\frac{1}{0.2} = 5.62222 \\nonumber  \\nonumber\n",
    "\\end{equation}\n",
    "\n",
    "\\begin{equation}\n",
    "\\sum_{i=1}^N w_i^2 = \\frac{1}{2.5^2} + \\frac{1}{4.5^2} + \\frac{1}{0.2^2} = 25.2094 \\nonumber\n",
    "\\end{equation}\n",
    "\n",
    "\\begin{equation}\n",
    "\\sum_{i=1}^N w_i x_i^2 = \\frac{100^2}{2.5} + \\frac{102^2}{4.5} + \\frac{98^2}{0.2} = 54332.00 \\nonumber\n",
    "\\end{equation}\n",
    "\n",
    "\\begin{equation}\n",
    "\\delta \\bar{x}_{systematic} = \\frac{3}{5.62222} = 0.53 \\nonumber\n",
    "\\end{equation}\n",
    "\n",
    "\\begin{equation}\n",
    "\\delta \\bar{x}_{statistical} = \\sqrt{ \\left( \\frac{54332.00}{5.62222} - (98.3004)^2 \\right)   \\frac{1}{3-1} } = 0.64 \\nonumber\n",
    "\\end{equation}\n",
    "\n",
<<<<<<< HEAD
    "Let's write a python function to do all of this!  It will take the $x$ and $\\delta x$ measurements as numpy array inputs, together with the $type$ of uncertainty (i.e. uniform=1 or Gaussian=2), and will return $\\bar{x}$ and $\\delta \\bar{x}$.  We can use this throughout the course to calculate weighted averages and uncertainties!!!!!!"
   ]
  },
  {
   "cell_type": "code",
   "metadata": {
    "ExecuteTime": {
     "end_time": "2025-06-20T18:53:35.884290Z",
     "start_time": "2025-06-20T18:53:35.311087Z"
    }
   },
   "source": [
    "# Import Numpy, Pandas, and MatPlotLib with standard names\n",
    "import pandas as pd\n",
    "import numpy as np\n",
    "import matplotlib.pyplot as plt\n",
=======
    "\\begin{equation}\n",
    "\\delta \\bar{x} = 0.53 + 0.64 = 1.17\\nonumber\n",
    "\\end{equation}\n",
>>>>>>> 9e1e6ccbe64d4b33a15e259f670a628d5305612f
    "\n",
    "Thus, we would quote the weighted average as $\\bar{x} = 98.3 \\pm 1.2$.\n",
    "\n",
    "We can write a python function to do all of this!  It will take the $x$ and $\\delta x$ measurements as numpy array inputs, together with the $type$ of uncertainty (i.e. uniform=1 or Gaussian=2), and will return $\\bar{x}$ and both types of $\\delta \\bar{x}$ uncertainty (statistical,systematic).  We will call this function weighted_average().\n",
    "\n",
<<<<<<< HEAD
    "xbar,delta_xbar = weighted_average(x,deltax,1)\n",
    "\n",
    "print (\"\")\n",
    "print (\"Average Density (Uniform) = %0.4f +/- %0.4f g/cm^3\" % \n",
    "       (xbar,delta_xbar))\n",
    "print(\"\")\n",
    "\n",
    "xbar,delta_xbar = weighted_average(x,deltax,2)\n",
    "\n",
    "print (\"\")\n",
    "print (\"Average Density (Gaussian) = %0.4f +/- %0.4f g/cm^3\" % \n",
    "       (xbar,delta_xbar))\n",
    "    "
   ],
   "outputs": [
    {
     "name": "stdout",
     "output_type": "stream",
     "text": [
      "Effective N_dof =  1.6095238095238096\n",
      "Correction factor =  0.5520524474738834\n",
      "\n",
      "Average Density (Uniform) = 98.6154 +/- 1.5516 g/cm^3\n",
      "\n",
      "Effective N_dof =  1.10062893081761\n",
      "Correction factor =  0.22430886163681768\n",
      "\n",
      "Average Density (Gaussian) = 98.1143 +/- 1.7026 g/cm^3\n"
     ]
    }
   ],
   "execution_count": 1
  },
  {
   "cell_type": "code",
   "metadata": {
    "ExecuteTime": {
     "end_time": "2025-06-20T18:53:36.713771Z",
     "start_time": "2025-06-20T18:53:36.712086Z"
    }
   },
   "source": [],
   "outputs": [],
   "execution_count": 1
  },
  {
   "cell_type": "code",
   "metadata": {
    "ExecuteTime": {
     "end_time": "2025-06-20T18:53:38.790188Z",
     "start_time": "2025-06-20T18:53:37.460979Z"
    }
   },
   "source": [
    "# (Beyond Scope, but interesting?  Let's look at doing a constant fit\n",
    "# to these three data points using Python's stats curve_fit function)\n",
    "\n",
    "import sys; sys.path.insert(0, '..')\n",
    "from P201_Functions import constant_fit_plot_errors\n",
    "\n",
    "\n",
    "x_data = [1,2,3]\n",
    "y_data = x\n",
    "Delta_x = [0.001,0.001,0.001]\n",
    "Delta_y = deltax\n",
    "\n",
    "# Creates the base plot with titles\n",
    "plt.errorbar(x_data,y_data,Delta_y,Delta_x,'b.',label='Raw Data')\n",
    "plt.ylabel('Measurement')\n",
    "plt.xlabel('Measurement Number')\n",
    "plt.title('Constant Fit')\n",
    "\n",
    "# Takes the x and y values to make a trendline\n",
    "intercept,dintercept = constant_fit_plot_errors(x_data,y_data,Delta_y,plt)\n",
    "\n",
    "# Adds the legend to the plot\n",
    "plt.legend()\n",
    "\n",
    "# Displays the plot\n",
    "plt.show()\n",
    "\n",
    "print(\"\")"
   ],
   "outputs": [
    {
     "name": "stdout",
     "output_type": "stream",
     "text": [
      "Constant Fit: Coefficients (from curve_fit)\n",
      "[98.11428571]\n",
      "Constant Fit: Covariance Matrix (from curve_fit)\n",
      "[[0.14585034]]\n",
      "\n",
      "Constant Fit: Final Result: y = (98.11429 +/- 0.38190)\n",
      "\n"
     ]
    },
    {
     "data": {
      "text/plain": [
       "<Figure size 640x480 with 1 Axes>"
      ],
      "image/png": "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"
     },
     "metadata": {},
     "output_type": "display_data"
    },
    {
     "name": "stdout",
     "output_type": "stream",
     "text": [
      "\n"
     ]
    }
   ],
   "execution_count": 2
=======
    "This function is included in the P201_FunctionsSystematic.py, and we can use this throughout the course to calculate weighted averages and uncertainties!!!!!!"
   ]
>>>>>>> 9e1e6ccbe64d4b33a15e259f670a628d5305612f
  },
  {
   "cell_type": "markdown",
   "metadata": {},
   "source": [
    "### Direct Measurement\n",
    "A measurement of the height and radius of the cylinder allows you to compute the volume using the formula:  \n",
    "\n",
    "\\begin{equation}\n",
    "V = \\pi r^2 h\n",
    "\\tag{4}\n",
    "\\end{equation}\n",
    "\n",
    "The propagated uncertainties can again be derived from equation ([2](#mjx-eqn)). If our uncertainty in\n",
    "measuring the radius and height are $\\delta r$ and $\\delta h$, we first we compute the uncertainty in $r^2$:  \n",
    "\n",
    "\\begin{equation}\n",
    "\\frac{\\delta \\left(r^2 \\right)}{r^2} = 2 \\frac{\\delta r}{r}\n",
    "\\tag{5}\n",
    "\\end{equation}\n",
    "\n",
    "and then we compute the uncertainty in volume:  \n",
    "\n",
    "\\begin{equation}\n",
    "\\frac{\\delta V}{V} = \\frac{\\delta \\left(r^2 \\right)}{r^2} + \\frac{\\delta h}{h}\n",
    "\\nonumber\n",
    "\\end{equation}\n",
    "\n",
    "or, substituting:  \n",
    "\n",
    "\\begin{equation}\n",
    "\\frac{\\delta V}{V} = \\frac{\\delta r}{r}  + \\frac{\\delta h}{h}\n",
    "\\tag{6}\n",
    "\\end{equation}\n",
    "\n",
    "Notice that we can take the left side directly and use it to compute the uncertainty in density once we have the uncertainty in measuring the mass. Instead of re-computing it every time you need it, it might be useful to write this value down for each rod."
   ]
  },
  {
   "cell_type": "markdown",
   "metadata": {},
   "source": [
    "### Measurement of Displaced Water\n",
    "This measurement gives a direct result with the uncertainty, $\\delta V$, given by the uncertainty in measuring the markings\n",
    "on the graduated cylinder."
   ]
  },
  {
   "cell_type": "markdown",
   "metadata": {},
   "source": [
    "### Measurement of Equivalent Weight of Water\n",
    "This is probably the most difficult measurement to understand, but the easiest to compute with very good accuracy. If you simply drop a mass into the water and let it sit at the bottom of the beaker, the weight you will measure will simply be the weight of the water plus the weight of the mass. However, if the mass is *suspended* in the water, the tension in the string will take up some of that weight. How much?\n",
    "\n",
    "Imagine that a block of Styrofoam were in the water. It would float. Why? Because it is *less* dense than water. Now imagine a block of gold in the water. It would sink. Why? Because it is *more* dense than water. So if we had something with *exactly* the same density as the water, it would neither float nor sink: it would remain stationary at any depth.\n",
    "\n",
    "By using the tension in the string to support the cylinder, we are compensating for the higher density and forcing the cylinder to remain stationary---so it acts as if it were the same density as the water. When we measure the weight of the water plus the *suspended* mass, we should get the weight of the water *plus the weight of water which has the same volume as the cylinder*. Therefore, we find the volume of the cylinder by, first, finding the difference in mass with and without the cylinder:  \n",
    "\n",
    "\\begin{equation}\n",
    "m_{w} =  m_{2} - m_{1}\n",
    "\\tag{7}\n",
    "\\end{equation}\n",
    "\n",
    "\n",
    "The uncertainty in this determination comes from equation ([2](#mjx-eqn)): \n",
    "\n",
    "\\begin{equation}\n",
    "\\delta m_{w} = \\delta m_{1} + \\delta m_{2}\n",
    "\\tag{8}\n",
    "\\end{equation}\n",
    "\n",
    "Then we use equation ([1](#mjx-eqn)) to determine the volume of the cylinder: \n",
    "\n",
    "\\begin{equation}\n",
    "V = \\frac{m_{w}}{\\rho_{w}}\n",
    "\\tag{9}\n",
    "\\end{equation}\n",
    "\n",
    "where $ \\rho_{w}$ is the density of the water. This has an uncertainty given by:  \n",
    "\n",
    "\\begin{equation}\n",
    "\\frac{\\delta V}{V} = \\frac{\\delta m_{w}}{m_{w}} + \\frac{\\delta \\rho_{w}}{\\rho_{w}}\n",
    "\\tag{10}\n",
    "\\end{equation}\n",
    "\n",
    "Then we can use equation ([3](#mjx-eqn)) to compute the uncertainty in measuring the density of the rod."
   ]
  },
  {
   "cell_type": "markdown",
   "metadata": {},
   "source": [
    "# Experimental Procedure\n",
    "Once you’ve picked three different-sized rods made of the same material, the first item of business is to record the common data for each of the three experiments: the masses of each of the cylinders. Enter this in the cell immediately below this one, in the appropriate place.  \n",
    "\n",
    "Remember that, when estimating your measurement uncertainty, a good rule of thumb is to use plus-or-minus half of the smallest increment you can measure directly. Sometimes you can use a smaller value than this if you feel you can interpret the spaces between the markings more accurately. For digital measurements, however, this is not possible.  \n",
    "\n",
    "Note that you will record here the $absolute$ error in the mass measurement, and then we subsequently $calculate$ the fractional error in the mass, $\\delta m /m$."
   ]
  },
  {
   "cell_type": "code",
   "metadata": {
    "ExecuteTime": {
<<<<<<< HEAD
     "end_time": "2025-06-20T18:53:47.529902Z",
     "start_time": "2025-06-20T18:53:47.514466Z"
=======
     "end_time": "2025-06-20T16:48:36.827487Z",
     "start_time": "2025-06-20T16:48:36.698328Z"
    }
   },
   "source": [
    "# Import Numpy, Pandas, and MatPlotLib with standard names\n",
    "import pandas as pd\n",
    "import numpy as np\n",
    "import matplotlib.pyplot as plt\n",
    "!pip install P201_Functions\n",
    "import P201_Functions as p201"
   ],
   "outputs": [
    {
     "name": "stdout",
     "output_type": "stream",
     "text": [
      "/bin/bash: /opt/homebrew/bin/pip: /opt/homebrew/opt/python@3.11/bin/python3.11: bad interpreter: No such file or directory\r\n"
     ]
    }
   ],
   "execution_count": 8
  },
  {
   "cell_type": "code",
   "metadata": {
    "ExecuteTime": {
     "end_time": "2025-06-20T16:48:38.107088Z",
     "start_time": "2025-06-20T16:48:38.098565Z"
>>>>>>> 9e1e6ccbe64d4b33a15e259f670a628d5305612f
    }
   },
   "source": [
    "# Raw Data \n",
    "# Table 1: Mass Characteristics of Test Cylinders\n",
    "\n",
    "# Create an empty numpy array to hold the raw data\n",
    "raw_data_1 = np.empty((3,3))\n",
    "\n",
    "# Set the cylinder number column identifiers for each cylinder\n",
    "raw_data_1[0][0]=1\n",
    "raw_data_1[1][0]=2\n",
    "raw_data_1[2][0]=3\n",
    "\n",
    "# Create a Pandas dataframe, and convert the cylinder number column to integer format\n",
    "df1 = pd.DataFrame(raw_data_1, columns=[\"Cylinder Number\", \n",
    "                                        \"M\", \n",
    "                                        \"dM\"])\n",
    "df1['Cylinder Number'] = df1['Cylinder Number'].astype(int)\n",
    "\n",
    "\n",
    "#### Enter Raw Data Here!!!!!!!!!!!!!! ####\n",
    "\n",
    "# Enter the mass of each cylinder (in grams). Tip: Enter the values as [cylinder 1, cylinder 2, cylinder 3]\n",
<<<<<<< HEAD
    "df1['M'] = [42.000,141,339.000]\n",
    "\n",
    "# Enter the uncertainties of the masses of the cylinders.\n",
    "df1['dM'] = [0.010,0.020,0.030]\n",
=======
    "df1['M'] = [100.00,90.00,80.00]\n",
    "\n",
    "# Enter the uncertainties of the masses of the cylinders (also in grams).\n",
    "df1['dM'] = [0.005,0.005,0.005]\n",
>>>>>>> 9e1e6ccbe64d4b33a15e259f670a628d5305612f
    "\n",
    "###########################################\n",
    "\n",
    "\n",
    "# Calculate 𝛿m/m\n",
    "df1['dM/M'] = df1['dM']/df1['M']\n",
    "\n",
    "# Display the dataframe\n",
    "from IPython.display import display\n",
    "display(df1)\n",
    "print (\"Table 1: Mass Characteristics of Test Cylinders (Masses in grams)\")"
   ],
   "outputs": [
    {
     "data": {
      "text/plain": [
<<<<<<< HEAD
       "   Cylinder Number      M    dM      dM/M\n",
       "0                1   42.0  0.01  0.000238\n",
       "1                2  141.0  0.02  0.000142\n",
       "2                3  339.0  0.03  0.000088"
=======
       "   Cylinder Number      M     dM      dM/M\n",
       "0                1  100.0  0.005  0.000050\n",
       "1                2   90.0  0.005  0.000056\n",
       "2                3   80.0  0.005  0.000063"
>>>>>>> 9e1e6ccbe64d4b33a15e259f670a628d5305612f
      ],
      "text/html": [
       "<div>\n",
       "<style scoped>\n",
       "    .dataframe tbody tr th:only-of-type {\n",
       "        vertical-align: middle;\n",
       "    }\n",
       "\n",
       "    .dataframe tbody tr th {\n",
       "        vertical-align: top;\n",
       "    }\n",
       "\n",
       "    .dataframe thead th {\n",
       "        text-align: right;\n",
       "    }\n",
       "</style>\n",
       "<table border=\"1\" class=\"dataframe\">\n",
       "  <thead>\n",
       "    <tr style=\"text-align: right;\">\n",
       "      <th></th>\n",
       "      <th>Cylinder Number</th>\n",
       "      <th>M</th>\n",
       "      <th>dM</th>\n",
       "      <th>dM/M</th>\n",
       "    </tr>\n",
       "  </thead>\n",
       "  <tbody>\n",
       "    <tr>\n",
       "      <th>0</th>\n",
       "      <td>1</td>\n",
       "      <td>100.0</td>\n",
       "      <td>0.005</td>\n",
       "      <td>0.000050</td>\n",
       "    </tr>\n",
       "    <tr>\n",
       "      <th>1</th>\n",
       "      <td>2</td>\n",
       "      <td>90.0</td>\n",
       "      <td>0.005</td>\n",
       "      <td>0.000056</td>\n",
       "    </tr>\n",
       "    <tr>\n",
       "      <th>2</th>\n",
       "      <td>3</td>\n",
       "      <td>80.0</td>\n",
       "      <td>0.005</td>\n",
       "      <td>0.000063</td>\n",
       "    </tr>\n",
       "  </tbody>\n",
       "</table>\n",
       "</div>"
      ]
     },
     "metadata": {},
     "output_type": "display_data"
    },
    {
     "name": "stdout",
     "output_type": "stream",
     "text": [
      "Table 1: Mass Characteristics of Test Cylinders (Masses in grams)\n"
     ]
    }
   ],
<<<<<<< HEAD
   "execution_count": 3
=======
   "execution_count": 9
>>>>>>> 9e1e6ccbe64d4b33a15e259f670a628d5305612f
  },
  {
   "cell_type": "markdown",
   "metadata": {},
   "source": [
    "### Direct Measurement\n",
    "It is important that, whenever you use a tool to measure something, that tool reads zero when nothing is present (not verifying this means you may have a “Zero Error”). Before measuring a cylinder with the calipers and micrometer, close the jaws of each completely and ensure that you read zero before you take a measurement. If it does not read zero, you will need to either fix the zero reading or compensate for it.  "
   ]
  },
  {
   "cell_type": "markdown",
   "metadata": {},
   "source": [
    "#### Using the Digital Calipers to Measure Length\n",
    "First, verify that the digital calipers read in millimeters. You should see the “mm” symbol appear in the display. If it is reading in inches, press the blue “mm/inch” button one time.  \n",
    "Second, you must ensure that the calipers read zero when you close the jaws and put just a little bit of pressure on the thumb wheel. If the reading is not zero, hold the jaws closed with just a little pressure on the thumb wheel and (with the other hand) press the “ZERO” button one time. The display should now read zero.  \n",
    "<div align=\"center\">\n",
    "<img src=\"https://github.com/JNichols-19/PhysicsLabs/blob/main/images/Lab%201%20Images/Correct%20Measurement%20with%20Digital%20Calipers.PNG?raw=true\" width=\"400\"/>\n",
    "</div>\n",
    "\n",
    "  \n",
    "You can now take measurements of the length of the rod as shown in Figure 1.  \n",
    "\n",
    "Notice that your accuracy is limited to two decimal places, so your height measurement will have an uncertainty of $\\delta h$ = 0.005 mm. You should take three or four measurements by rotating the cylinder slightly between each measurement and report the average value."
   ]
  },
  {
   "cell_type": "markdown",
   "metadata": {},
   "source": [
    "#### Using the Digital Micrometer to Measure Diameter\n",
    "Now measure the diameter of your cylinder with the micrometer. Once again, we first need to ensure we’re measuring in millimeters. If the display does not read “mm,” press and hold the “in/mm” button until it does. Second, we check to make sure that the micrometer reads zero when nothing is in place. To do this with the MARATHON CO 0030025 micrometer, close the gap on the micrometer by rotating the **big** wheel until it clicks. If the reading on the micrometer is not zero, press and **hold** the “SET” button until it does.\n",
    "\n",
    "<div align=\"center\">\n",
    "<img src=\"https://github.com/JNichols-19/PhysicsLabs/blob/main/images/Lab%201%20Images/Proper%20Measurement%20with%20the%20Digital%20Micrometer.PNG?raw=true\" width=\"400\"/>\n",
    "</div> \n",
    "\n",
    "You can now take measurements of the diameter of the rod as shown in Figure 2. Notice that the rod is standing on the table while one hand holds the frame of the micrometer and the other hand rotates the big knob. ***Always use the big knob when changing the gap in the digital micrometer.*** This knob has a ratchet which, when properly used, always gives the same pressure to the measuring bar keeping all of your measurements consistent.\n",
    " \n",
    "Because the accuracy is is 0.001 mm, your uncertainty in the diameter of the cylinder will be $\\delta d$ = 0.0005 mm. What is the uncertainty in your radius? Using Equation ([2](#mjx-eqn)) we find that  \n",
    "\n",
    "\\begin{equation}\n",
    "\\frac{\\delta r}{r} = \\frac{\\delta d}{d}\n",
    "\\nonumber\n",
    "\\end{equation}\n",
    "\n",
    "\\begin{equation}\n",
    "\\delta r = \\delta d \\left(\\frac{r}{d}\\right) = \\delta d \\left(\\frac{r}{2r}\\right)\n",
    "\\nonumber\n",
    "\\end{equation}\n",
    "\n",
    "But the radius is half the diameter so \n",
    "\n",
    "\\begin{equation}\n",
    "\\delta r = \\frac{\\delta d}{2}\n",
    "\\tag{11}\n",
    "\\end{equation}\n",
    "\n",
    "as you might have expected.  \n",
    "\n",
    "Enter your raw data into the cell immediately below this one in the appropriate place!"
   ]
  },
  {
   "cell_type": "code",
   "metadata": {
    "ExecuteTime": {
<<<<<<< HEAD
     "end_time": "2025-06-20T18:53:51.302713Z",
     "start_time": "2025-06-20T18:53:51.292656Z"
=======
     "end_time": "2025-06-20T16:48:43.518538Z",
     "start_time": "2025-06-20T16:48:43.506331Z"
>>>>>>> 9e1e6ccbe64d4b33a15e259f670a628d5305612f
    }
   },
   "source": [
    "# Raw Data \n",
    "# Table 2: Details of Direct Measurements of Cylinders\n",
    "\n",
    "# Create an empty numpy array to hold the raw data\n",
    "raw_data_2 = np.empty((3,10))\n",
    "\n",
    "# Set the cylinder number column identifiers for each cylinder\n",
    "raw_data_2[0][0]=1\n",
    "raw_data_2[1][0]=2\n",
    "raw_data_2[2][0]=3\n",
    "\n",
    "# Create a Pandas dataframe, and convert the cylinder number column to integer format\n",
    "df2 = pd.DataFrame(raw_data_2, columns=[\"Cylinder\", \n",
    "                                        \"h\",\n",
    "                                        \"dh/h\",\n",
    "                                        \"d\",\n",
    "                                        \"r\",\n",
    "                                       \"dr/r\",\n",
    "                                        \"V\",\n",
    "                                        \"dV/V\",\n",
    "                                        \"rho\",\n",
    "                                        \"drho\"])\n",
    "df2['Cylinder'] = df2['Cylinder'].astype(int)\n",
    "\n",
    "\n",
    "#### Enter Raw Data Here!!!!!!!!!!!!!! ####\n",
    "\n",
<<<<<<< HEAD
    "# measurements of the height and diameter of each cylinder (watch your units!)\n",
    "df2['h'] = [1.000,1.500,2.000]\n",
    "\n",
    "df2['d'] = [4.00,6.00,8.00]\n",
    "\n",
    "\n",
    "# uncertainties in height and diameter\n",
    "delta_h = 0.005\n",
    "\n",
    "delta_d = 0.007\n",
=======
    "# measurements of the height and diameter of each cylinder (watch your units! ...convert from mm to cm)\n",
    "df2['h'] = [6.00,5.00,4.00]\n",
    "\n",
    "df2['d'] = [1.50,1.60,1.55]\n",
    "\n",
    "# uncertainties in height and diameter (also in cm)\n",
    "delta_h = 0.0005\n",
    "\n",
    "delta_d = 0.00005\n",
>>>>>>> 9e1e6ccbe64d4b33a15e259f670a628d5305612f
    "\n",
    "###########################################\n",
    "\n",
    "\n",
    "# Calculate the various columns\n",
    "df2['dh/h'] = delta_h/df2['h']\n",
    "df2['r'] = df2['d']/2.0\n",
    "\n",
    "# From equation 11 in the theory section \n",
    "df2['dr/r'] = delta_d/df2['d']\n",
    "\n",
    "# From equation 4 in the theory section \n",
    "df2['V'] = np.pi*df2['r']**2*df2['h'] \n",
    "\n",
    "# From equation 6 in the theory section \n",
    "df2['dV/V'] = 2.0*df2['dr/r'] + df2['dh/h']\n",
    "\n",
    "# From equation 1 in the theory section\n",
    "df2['rho'] = df1['M']/df2['V']\n",
    "\n",
    "# From equation 2 in the theory section\n",
    "df2['drho'] = df2['rho']*(df1['dM/M'] + df2['dV/V'])\n",
    "\n",
<<<<<<< HEAD
    "rho_bar2,delta_rho2 = weighted_average(df2['rho'],df2['drho'],1)\n",
=======
    "rho_bar2,delta_rho2_stat,delta_rho2_syst,delta_rho2 = p201.weighted_average(df2['rho'],df2['drho'],1)\n",
>>>>>>> 9e1e6ccbe64d4b33a15e259f670a628d5305612f
    "\n",
    "# Display the dataframe\n",
    "display(df2)\n",
    "print (\"Table 2: Details of Direct Measurements of Cylinders (length in cm, volume in cm^3, density in g/cm^3)\")\n",
    "print(\"\")\n",
<<<<<<< HEAD
    "print (\"Average Density = %0.4f +/- %0.4f g/cm^3\" % \n",
    "       (rho_bar2,delta_rho2))\n"
=======
    "print (\"Average Density = %0.4f +/- %0.4f g/cm^3 (stat.) +/- %0.4f g/cm^3 (syst.)\" % \n",
    "       (rho_bar2,delta_rho2_stat,delta_rho2_syst))\n"
>>>>>>> 9e1e6ccbe64d4b33a15e259f670a628d5305612f
   ],
   "outputs": [
    {
     "data": {
      "text/plain": [
<<<<<<< HEAD
       "   Cylinder    h      dh/h    d    r      dr/r           V      dV/V  \\\n",
       "0         1  1.0  0.005000  4.0  2.0  0.001750   12.566371  0.008500   \n",
       "1         2  1.5  0.003333  6.0  3.0  0.001167   42.411501  0.005667   \n",
       "2         3  2.0  0.002500  8.0  4.0  0.000875  100.530965  0.004250   \n",
       "\n",
       "        rho      drho  \n",
       "0  3.342254  0.029205  \n",
       "1  3.324570  0.019311  \n",
       "2  3.372095  0.014630  "
=======
       "   Cylinder    h      dh/h     d      r      dr/r          V      dV/V  \\\n",
       "0         1  6.0  0.000083  1.50  0.750  0.000033  10.602875  0.000150   \n",
       "1         2  5.0  0.000100  1.60  0.800  0.000031  10.053096  0.000162   \n",
       "2         3  4.0  0.000125  1.55  0.775  0.000032   7.547676  0.000190   \n",
       "\n",
       "         rho      drho  \n",
       "0   9.431404  0.001886  \n",
       "1   8.952466  0.001952  \n",
       "2  10.599289  0.002671  "
>>>>>>> 9e1e6ccbe64d4b33a15e259f670a628d5305612f
      ],
      "text/html": [
       "<div>\n",
       "<style scoped>\n",
       "    .dataframe tbody tr th:only-of-type {\n",
       "        vertical-align: middle;\n",
       "    }\n",
       "\n",
       "    .dataframe tbody tr th {\n",
       "        vertical-align: top;\n",
       "    }\n",
       "\n",
       "    .dataframe thead th {\n",
       "        text-align: right;\n",
       "    }\n",
       "</style>\n",
       "<table border=\"1\" class=\"dataframe\">\n",
       "  <thead>\n",
       "    <tr style=\"text-align: right;\">\n",
       "      <th></th>\n",
       "      <th>Cylinder</th>\n",
       "      <th>h</th>\n",
       "      <th>dh/h</th>\n",
       "      <th>d</th>\n",
       "      <th>r</th>\n",
       "      <th>dr/r</th>\n",
       "      <th>V</th>\n",
       "      <th>dV/V</th>\n",
       "      <th>rho</th>\n",
       "      <th>drho</th>\n",
       "    </tr>\n",
       "  </thead>\n",
       "  <tbody>\n",
       "    <tr>\n",
       "      <th>0</th>\n",
       "      <td>1</td>\n",
       "      <td>6.0</td>\n",
       "      <td>0.000083</td>\n",
       "      <td>1.50</td>\n",
       "      <td>0.750</td>\n",
       "      <td>0.000033</td>\n",
       "      <td>10.602875</td>\n",
       "      <td>0.000150</td>\n",
       "      <td>9.431404</td>\n",
       "      <td>0.001886</td>\n",
       "    </tr>\n",
       "    <tr>\n",
       "      <th>1</th>\n",
       "      <td>2</td>\n",
       "      <td>5.0</td>\n",
       "      <td>0.000100</td>\n",
       "      <td>1.60</td>\n",
       "      <td>0.800</td>\n",
       "      <td>0.000031</td>\n",
       "      <td>10.053096</td>\n",
       "      <td>0.000162</td>\n",
       "      <td>8.952466</td>\n",
       "      <td>0.001952</td>\n",
       "    </tr>\n",
       "    <tr>\n",
       "      <th>2</th>\n",
       "      <td>3</td>\n",
       "      <td>4.0</td>\n",
       "      <td>0.000125</td>\n",
       "      <td>1.55</td>\n",
       "      <td>0.775</td>\n",
       "      <td>0.000032</td>\n",
       "      <td>7.547676</td>\n",
       "      <td>0.000190</td>\n",
       "      <td>10.599289</td>\n",
       "      <td>0.002671</td>\n",
       "    </tr>\n",
       "  </tbody>\n",
       "</table>\n",
       "</div>"
      ]
     },
     "metadata": {},
     "output_type": "display_data"
    },
    {
     "name": "stdout",
     "output_type": "stream",
     "text": [
      "Table 2: Details of Direct Measurements of Cylinders (length in cm, volume in cm^3, density in g/cm^3)\n",
      "\n",
      "Average Density = 9.5668 +/- 0.4610 g/cm^3 (stat.) +/- 0.0021 g/cm^3 (syst.)\n"
     ]
    }
   ],
<<<<<<< HEAD
   "execution_count": 4
  },
  {
   "cell_type": "markdown",
   "metadata": {},
   "source": [
    "### Measurements Using Water\n",
    "Because the final measurement requires knowledge of the density of water, we should measure this now while the graduated cylinders are dry. **<u>You will need to measure the mass of a known volume of water.</u>** I will leave the details up to you, but remember that you will need to determine your uncertainty in this measurement, again using Equation ([3](#mjx-eqn)):  \n",
    "\n",
    "\\begin{equation}\n",
    "\\frac{\\delta \\rho_{w}}{\\rho_{w}} = \\frac{\\delta m_{w}}{m} + \\frac{\\delta V}{V}\n",
    "\\tag{12}\n",
    "\\end{equation}"
   ]
=======
   "execution_count": 10
>>>>>>> 9e1e6ccbe64d4b33a15e259f670a628d5305612f
  },
  {
   "cell_type": "markdown",
   "metadata": {},
   "source": [
    "### Measurement of Displaced Water\n",
    "The graduated cylinders measure liquid volume in milliliters. But this unit is the same as a cubic centimeter ($cm^3$). You will need to fill the graduated cylinder with just enough water to fully submerge the cylinder (about 25 mL of water should do). Measure this amount of water by reading the location of the bottom of the meniscus.\n",
    "\n",
    "Care must be taken when using a graduated cylinder. They are tall and thin and tip easily. When they tip, they spill their contents and---quite often---break.\n",
    "\n",
    "Even though we are only using water, general practice demands that you <u>***never***</u> set the graduated cylinder on a table and crouch down so that your eyes are level with the cylinder. If the graduated cylinder should tip, its contents could splash into your face. In a general chemistry laboratory, you might well be using liquids much less benign than water. The proper way to read a graduated cylinder is to hold it up from the top so that it hangs straight down at eye level.  \n",
    "<div align=\"center\">\n",
    "<img src=\"https://github.com/JNichols-19/PhysicsLabs/blob/main/images/Lab%201%20Images/A%20graduated%20cylinder%20showing%2020%20mL%20of%20fluid.PNG?raw=true\" width = \"200\" height=\"500\"/>\n",
    "</div> \n",
    "\n",
    "\n",
    "You will need to measure the difference between the volume with $\\left(V_{2} \\right)$ and without $\\left(V_{1} \\right)$ the cylinder. **Care must be taken when placing the metal cylinder into the graduated cylinder.** The metal cylinder can easily break the graduated cylinder if you simply drop the metal into the glass. Even if you don’t break the graduated cylinder, you will splash water out of the cylinder which will make your measurement unusable. For this reason, **tilt the graduated cylinder as much as possible and allow the metal cylinder to gently slide down the glass wall.** Be certain that the metal cylinder is <u>completely dry</u> before putting it in the water and ensure that it is fully submerged before you take data. Record the difference in water volume readings. If your graduated cylinder is marked in 1 mL increments, then your uncertainty *in each measurement* is no more than $\\delta V = 0.5 cm^3$, but could be a bit less if you are very careful.\n",
    "\n",
    "Enter your raw data into the cell immediately below this one in the appropriate place!"
   ]
  },
  {
   "cell_type": "code",
   "metadata": {
<<<<<<< HEAD
    "ExecuteTime": {
     "end_time": "2025-06-20T18:54:01.295266Z",
     "start_time": "2025-06-20T18:54:01.284383Z"
=======
    "scrolled": true,
    "ExecuteTime": {
     "end_time": "2025-06-20T16:48:45.235523Z",
     "start_time": "2025-06-20T16:48:45.225532Z"
>>>>>>> 9e1e6ccbe64d4b33a15e259f670a628d5305612f
    }
   },
   "source": [
    "# Raw Data \n",
    "# Table 3: Details of Volume Measurement of Cylinders\n",
    "\n",
    "# Create an empty numpy array to hold the raw data\n",
    "raw_data_3 = np.empty((3,8))\n",
    "\n",
    "# Set the cylinder number column identifiers for each cylinder\n",
    "raw_data_3[0][0]=1\n",
    "raw_data_3[1][0]=2\n",
    "raw_data_3[2][0]=3\n",
    "\n",
    "# Create a Pandas dataframe, and convert the cylinder number column to integer format\n",
    "df3 = pd.DataFrame(raw_data_3, columns=[\"Cylinder\", \n",
    "                                        \"V1\",\n",
    "                                        \"V2\",\n",
    "                                        \"V\",\n",
    "                                        \"dV\",\n",
    "                                        \"dV/V\",\n",
    "                                        \"rho\",\n",
    "                                        \"drho\"])\n",
    "df3['Cylinder'] = df3['Cylinder'].astype(int)\n",
    "\n",
    "\n",
    "#### Enter Raw Data Here!!!!!!!!!!!!!! ####\n",
    "\n",
    "# measurements of the volume with (V2) and without (V1) each cylinder\n",
<<<<<<< HEAD
    "df3['V1'] = [32.5,92.4,200.5]\n",
    "\n",
    "df3['V2'] = [20.0,50.0,100.0]\n",
=======
    "df3['V1'] = [40,40,43]\n",
    "\n",
    "df3['V2'] = [50,50,50]\n",
>>>>>>> 9e1e6ccbe64d4b33a15e259f670a628d5305612f
    "\n",
    "###########################################\n",
    "\n",
    "\n",
    "# Calculate the various columns, and display the dataframe\n",
    "delta_V = 0.5\n",
    "df3['dV'] = 2.0*delta_V\n",
    "df3['V'] =df3['V2'] - df3['V1']\n",
    "df3['dV/V'] = df3['dV']/df3['V']\n",
    "\n",
    "df3['rho'] = df1['M']/df3['V']\n",
    "\n",
    "# From equation 2 in the theory section\n",
    "df3['drho'] = df3['rho']*(df1['dM/M'] + df3['dV/V'])\n",
    "\n",
<<<<<<< HEAD
    "rho_bar3,delta_rho3 = weighted_average(df3['rho'],df3['drho'],1)\n",
    "\n",
    "display(df3)\n",
    "print (\"Table 3: Details of Volume Measurement of Cylinders (volume in cm^3, density in g/cm^3)\")\n",
    "print(\"\")\n",
    "print (\"Average Density = %0.4f +/- %0.4f g/cm^3\" % \n",
    "       (rho_bar3,delta_rho3))\n",
    "print()"
=======
    "rho_bar3,delta_rho3_stat,delta_rho3_syst,delta_rho3 = p201.weighted_average(df3['rho'],df3['drho'],1)\n",
    "\n",
    "# Display the dataframe\n",
    "display(df3)\n",
    "print (\"Table 2: Details of Volume Measurement of Cylinders (volume in cm^3, density in g/cm^3)\")\n",
    "print(\"\")\n",
    "print (\"Average Density = %0.4f +/- %0.4f g/cm^3 (stat.) +/- %0.4f g/cm^3 (syst.)\" % \n",
    "       (rho_bar3,delta_rho3_stat,delta_rho3_syst))"
>>>>>>> 9e1e6ccbe64d4b33a15e259f670a628d5305612f
   ],
   "outputs": [
    {
     "data": {
      "text/plain": [
<<<<<<< HEAD
       "   Cylinder     V1     V2      V   dV      dV/V       rho      drho\n",
       "0         1   32.5   20.0  -12.5  1.0 -0.080000 -3.360000  0.268000\n",
       "1         2   92.4   50.0  -42.4  1.0 -0.023585 -3.325472  0.077959\n",
       "2         3  200.5  100.0 -100.5  1.0 -0.009950 -3.373134  0.033265"
=======
       "   Cylinder  V1  V2   V   dV      dV/V        rho      drho\n",
       "0         1  40  50  10  1.0  0.100000  10.000000  1.000500\n",
       "1         2  40  50  10  1.0  0.100000   9.000000  0.900500\n",
       "2         3  43  50   7  1.0  0.142857  11.428571  1.633367"
>>>>>>> 9e1e6ccbe64d4b33a15e259f670a628d5305612f
      ],
      "text/html": [
       "<div>\n",
       "<style scoped>\n",
       "    .dataframe tbody tr th:only-of-type {\n",
       "        vertical-align: middle;\n",
       "    }\n",
       "\n",
       "    .dataframe tbody tr th {\n",
       "        vertical-align: top;\n",
       "    }\n",
       "\n",
       "    .dataframe thead th {\n",
       "        text-align: right;\n",
       "    }\n",
       "</style>\n",
       "<table border=\"1\" class=\"dataframe\">\n",
       "  <thead>\n",
       "    <tr style=\"text-align: right;\">\n",
       "      <th></th>\n",
       "      <th>Cylinder</th>\n",
       "      <th>V1</th>\n",
       "      <th>V2</th>\n",
       "      <th>V</th>\n",
       "      <th>dV</th>\n",
       "      <th>dV/V</th>\n",
       "      <th>rho</th>\n",
       "      <th>drho</th>\n",
       "    </tr>\n",
       "  </thead>\n",
       "  <tbody>\n",
       "    <tr>\n",
       "      <th>0</th>\n",
       "      <td>1</td>\n",
       "      <td>40</td>\n",
       "      <td>50</td>\n",
       "      <td>10</td>\n",
       "      <td>1.0</td>\n",
       "      <td>0.100000</td>\n",
       "      <td>10.000000</td>\n",
       "      <td>1.000500</td>\n",
       "    </tr>\n",
       "    <tr>\n",
       "      <th>1</th>\n",
       "      <td>2</td>\n",
       "      <td>40</td>\n",
       "      <td>50</td>\n",
       "      <td>10</td>\n",
       "      <td>1.0</td>\n",
       "      <td>0.100000</td>\n",
       "      <td>9.000000</td>\n",
       "      <td>0.900500</td>\n",
       "    </tr>\n",
       "    <tr>\n",
       "      <th>2</th>\n",
       "      <td>3</td>\n",
       "      <td>43</td>\n",
       "      <td>50</td>\n",
       "      <td>7</td>\n",
       "      <td>1.0</td>\n",
       "      <td>0.142857</td>\n",
       "      <td>11.428571</td>\n",
       "      <td>1.633367</td>\n",
       "    </tr>\n",
       "  </tbody>\n",
       "</table>\n",
       "</div>"
      ]
     },
     "metadata": {},
     "output_type": "display_data"
    },
    {
     "name": "stdout",
     "output_type": "stream",
     "text": [
      "Table 2: Details of Volume Measurement of Cylinders (volume in cm^3, density in g/cm^3)\n",
      "\n",
      "Average Density = 9.9134 +/- 0.6555 g/cm^3 (stat.) +/- 1.1020 g/cm^3 (syst.)\n"
     ]
    }
   ],
<<<<<<< HEAD
   "execution_count": 5
=======
   "execution_count": 11
  },
  {
   "cell_type": "markdown",
   "metadata": {},
   "source": [
    "### Measurements Using Water\n",
    "Because the final measurement requires knowledge of the density of water, we should measure this now while the graduated cylinders are dry. **<u>You will need to measure the mass of a known volume of water.</u>** I will leave the details up to you, but remember that you will need to determine your uncertainty in this measurement, again using Equation ([3](#mjx-eqn)):  \n",
    "\n",
    "\\begin{equation}\n",
    "\\frac{\\delta \\rho_{w}}{\\rho_{w}} = \\frac{\\delta m_{w}}{m} + \\frac{\\delta V}{V}\n",
    "\\tag{12}\n",
    "\\end{equation}"
   ]
>>>>>>> 9e1e6ccbe64d4b33a15e259f670a628d5305612f
  },
  {
   "cell_type": "code",
   "metadata": {
    "ExecuteTime": {
     "end_time": "2025-06-20T16:48:47.319112Z",
     "start_time": "2025-06-20T16:48:47.315716Z"
    }
   },
   "source": [
    "# Measuring Density of Water\n",
    "\n",
    "m_water = 71.68 - 24.23 # g\n",
    "vol_water = 48.0 # ml, cm^3\n",
    "\n",
    "dm_water = 0.005\n",
    "dvol_water = 2*0.5\n",
    "\n",
    "# calculations\n",
    "rho_water = m_water / vol_water\n",
    "\n",
    "drho_water = rho_water*(dm_water/m_water + dvol_water/vol_water)\n",
    "\n",
    "print(f\"rho_water:\\t{rho_water}\\ndrho_water:\\t{drho_water}\")"
   ],
   "outputs": [
    {
     "name": "stdout",
     "output_type": "stream",
     "text": [
      "rho_water:\t0.9885416666666668\n",
      "drho_water:\t0.020698784722222224\n"
     ]
    }
   ],
   "execution_count": 12
  },
  {
   "cell_type": "markdown",
   "metadata": {},
   "source": [
    "### Measurement of Equivalent Weight of Water\n",
    "For your final measurement of the volume of the metal cylinders, you will need to fill a beaker with some water and place it on your scale. Note the mass of the water plus beaker for each measurement as $m_{1}$.\n",
    "\n",
    "Next, tie a loop of wire around your <u>completely dry</u> metal cylinder and be sure that it can be dangled without dropping. Then, gently lower the cylinder into the water until it is completely submerged. **Do not let it touch the bottom of the beaker.** Use a clamp to hang the metal at this height so that the tension will not change in the wire. Measure the new mass, $m_{2}$, and use the information in the theory section to compute the volume of the cylinder.\n",
    "\n",
    "Enter your raw data into the cell immediately below this one in the appropriate place!"
   ]
  },
  {
   "cell_type": "code",
   "metadata": {
    "ExecuteTime": {
<<<<<<< HEAD
     "end_time": "2025-06-20T18:54:03.437295Z",
     "start_time": "2025-06-20T18:54:03.424494Z"
=======
     "end_time": "2025-06-20T16:48:49.153936Z",
     "start_time": "2025-06-20T16:48:49.141052Z"
>>>>>>> 9e1e6ccbe64d4b33a15e259f670a628d5305612f
    }
   },
   "source": [
    "# Raw Data \n",
    "# Table 4: Details of Displaced Water Measurement of Cylinders\n",
    "\n",
    "# Create an empty numpy array to hold the raw data\n",
    "raw_data_4 = np.empty((3,10))\n",
    "\n",
    "# Set the cylinder number column identifiers for each cylinder\n",
    "raw_data_4[0][0]=1\n",
    "raw_data_4[1][0]=2\n",
    "raw_data_4[2][0]=3\n",
    "\n",
    "# Create a Pandas dataframe, and convert the cylinder number column to integer format\n",
    "df4 = pd.DataFrame(raw_data_4, columns=[\"Cylinder\", \n",
    "                                        \"m1\",\n",
    "                                        \"m2\",\n",
    "                                        \"mw\",\n",
    "                                        \"dmw\",\n",
    "                                        \"dmw/mw\",\n",
    "                                        \"V\",\n",
    "                                        \"dV/V\",\n",
    "                                        \"rho\",\n",
    "                                        \"drho\"])\n",
    "df4['Cylinder'] = df4['Cylinder'].astype(int)\n",
    "\n",
    "\n",
    "#### Enter Raw Data Here!!!!!!!!!!!!!! ####\n",
    "\n",
    "# mass of cylinders\n",
<<<<<<< HEAD
    "df4['m1'] = [20.0,50.0,100.0]\n",
    "df4['m2'] = [32.5,92.4,200.5]\n",
=======
    "df4['m1'] = [600.00,550.00,540.00]\n",
    "df4['m2'] = [610.00,560.00,547.00]\n",
>>>>>>> 9e1e6ccbe64d4b33a15e259f670a628d5305612f
    "\n",
    "# Density and uncertainty of water\n",
    "density_water = 1.0\n",
    "density_water_uncertainty = 0.002\n",
    "\n",
    "# uncertainties in the weights\n",
    "delta_m1 = 0.005\n",
    "delta_m2 = 0.005\n",
    "\n",
    "###########################################\n",
    "\n",
    "\n",
    "# Calculate the various columns, and display the dataframe\n",
    "df4['mw'] = df4['m2'] - df4['m1']\n",
    "\n",
    "df4['dmw'] = delta_m1 + delta_m2\n",
    "\n",
    "df4['dmw/mw'] = delta_m1/df4['m1'] + delta_m2/df4['m2']\n",
    "\n",
    "df4['V'] = df4['mw']/density_water\n",
    "\n",
    "df4['dV/V'] = (df4['dmw/mw'] + (density_water_uncertainty/density_water))\n",
    "\n",
    "df4['rho'] = df1['M']/df4['V']\n",
    "\n",
    "# From equation 2 in the theory section\n",
    "df4['drho'] = df4['rho']*(df4['dmw/mw'] + df4['dV/V'])\n",
    "\n",
<<<<<<< HEAD
    "\n",
    "rho_bar4,delta_rho4 = weighted_average(df4['rho'],df4['drho'],1)\n",
=======
    "rho_bar4,delta_rho4_stat,delta_rho4_syst,delta_rho4 = p201.weighted_average(df4['rho'],df4['drho'],1)\n",
>>>>>>> 9e1e6ccbe64d4b33a15e259f670a628d5305612f
    "\n",
    "display(df4)\n",
    "print (\"Table 4: Details of Displaced Water Measurement of Cylinders (mass in g, volume in cm^2, density in g/cm^3)\")\n",
    "print(\"\")\n",
<<<<<<< HEAD
    "print (\"Average Density = %0.4f +/- %0.4f g/cm^3\" % \n",
    "       (rho_bar4,delta_rho4))\n",
=======
    "print (\"Average Density = %0.4f +/- %0.4f g/cm^3 (stat.) +/- %0.4f g/cm^3 (syst.)\" % \n",
    "       (rho_bar4,delta_rho4_stat,delta_rho4_syst))\n",
>>>>>>> 9e1e6ccbe64d4b33a15e259f670a628d5305612f
    "print()"
   ],
   "outputs": [
    {
     "data": {
      "text/plain": [
<<<<<<< HEAD
       "   Cylinder     m1     m2     mw   dmw    dmw/mw      V      dV/V       rho  \\\n",
       "0         1   20.0   32.5   12.5  0.01  0.000404   12.5  0.002404  3.360000   \n",
       "1         2   50.0   92.4   42.4  0.01  0.000154   42.4  0.002154  3.325472   \n",
       "2         3  100.0  200.5  100.5  0.01  0.000075  100.5  0.002075  3.373134   \n",
       "\n",
       "       drho  \n",
       "0  0.009434  \n",
       "1  0.007676  \n",
       "2  0.007252  "
=======
       "   Cylinder     m1     m2    mw   dmw    dmw/mw     V      dV/V        rho  \\\n",
       "0         1  600.0  610.0  10.0  0.01  0.000017  10.0  0.002017  10.000000   \n",
       "1         2  550.0  560.0  10.0  0.01  0.000018  10.0  0.002018   9.000000   \n",
       "2         3  540.0  547.0   7.0  0.01  0.000018   7.0  0.002018  11.428571   \n",
       "\n",
       "       drho  \n",
       "0  0.020331  \n",
       "1  0.018324  \n",
       "2  0.023278  "
>>>>>>> 9e1e6ccbe64d4b33a15e259f670a628d5305612f
      ],
      "text/html": [
       "<div>\n",
       "<style scoped>\n",
       "    .dataframe tbody tr th:only-of-type {\n",
       "        vertical-align: middle;\n",
       "    }\n",
       "\n",
       "    .dataframe tbody tr th {\n",
       "        vertical-align: top;\n",
       "    }\n",
       "\n",
       "    .dataframe thead th {\n",
       "        text-align: right;\n",
       "    }\n",
       "</style>\n",
       "<table border=\"1\" class=\"dataframe\">\n",
       "  <thead>\n",
       "    <tr style=\"text-align: right;\">\n",
       "      <th></th>\n",
       "      <th>Cylinder</th>\n",
       "      <th>m1</th>\n",
       "      <th>m2</th>\n",
       "      <th>mw</th>\n",
       "      <th>dmw</th>\n",
       "      <th>dmw/mw</th>\n",
       "      <th>V</th>\n",
       "      <th>dV/V</th>\n",
       "      <th>rho</th>\n",
       "      <th>drho</th>\n",
       "    </tr>\n",
       "  </thead>\n",
       "  <tbody>\n",
       "    <tr>\n",
       "      <th>0</th>\n",
       "      <td>1</td>\n",
       "      <td>600.0</td>\n",
       "      <td>610.0</td>\n",
       "      <td>10.0</td>\n",
       "      <td>0.01</td>\n",
       "      <td>0.000017</td>\n",
       "      <td>10.0</td>\n",
       "      <td>0.002017</td>\n",
       "      <td>10.000000</td>\n",
       "      <td>0.020331</td>\n",
       "    </tr>\n",
       "    <tr>\n",
       "      <th>1</th>\n",
       "      <td>2</td>\n",
       "      <td>550.0</td>\n",
       "      <td>560.0</td>\n",
       "      <td>10.0</td>\n",
       "      <td>0.01</td>\n",
       "      <td>0.000018</td>\n",
       "      <td>10.0</td>\n",
       "      <td>0.002018</td>\n",
       "      <td>9.000000</td>\n",
       "      <td>0.018324</td>\n",
       "    </tr>\n",
       "    <tr>\n",
       "      <th>2</th>\n",
       "      <td>3</td>\n",
       "      <td>540.0</td>\n",
       "      <td>547.0</td>\n",
       "      <td>7.0</td>\n",
       "      <td>0.01</td>\n",
       "      <td>0.000018</td>\n",
       "      <td>7.0</td>\n",
       "      <td>0.002018</td>\n",
       "      <td>11.428571</td>\n",
       "      <td>0.023278</td>\n",
       "    </tr>\n",
       "  </tbody>\n",
       "</table>\n",
       "</div>"
      ]
     },
     "metadata": {},
     "output_type": "display_data"
    },
    {
     "name": "stdout",
     "output_type": "stream",
     "text": [
      "Table 4: Details of Displaced Water Measurement of Cylinders (mass in g, volume in cm^2, density in g/cm^3)\n",
      "\n",
      "Average Density = 10.0463 +/- 0.6955 g/cm^3 (stat.) +/- 0.0204 g/cm^3 (syst.)\n",
      "\n"
     ]
    }
   ],
<<<<<<< HEAD
   "execution_count": 6
=======
   "execution_count": 13
>>>>>>> 9e1e6ccbe64d4b33a15e259f670a628d5305612f
  },
  {
   "cell_type": "code",
   "metadata": {
    "ExecuteTime": {
<<<<<<< HEAD
     "end_time": "2025-06-20T18:54:04.406111Z",
     "start_time": "2025-06-20T18:54:04.343734Z"
=======
     "end_time": "2025-06-20T16:48:50.680871Z",
     "start_time": "2025-06-20T16:48:50.442483Z"
>>>>>>> 9e1e6ccbe64d4b33a15e259f670a628d5305612f
    }
   },
   "source": [
    "# Create a plot of the densities obtained using the three different\n",
    "# methods, including error bars\n",
    "\n",
    "xaxis = np.array([1,2,3])\n",
    "yaxis = np.array([rho_bar2,rho_bar3,rho_bar4])\n",
    "dyaxis = np.array([delta_rho2_stat,delta_rho3_stat,delta_rho4_stat])\n",
    "\n",
    "plt.rcParams[\"figure.figsize\"] = (12,9)\n",
    "\n",
    "# Plot the data, with these uncertainties, and give the panel a title.\n",
    "plt.errorbar(xaxis, yaxis, yerr=dyaxis, fmt='o', capsize=5, capthick=2)\n",
    "plt.title(\"Summary of Density Measurements\")\n",
    "plt.xlabel(\"Measurement Number\")\n",
    "plt.ylabel(\"Density (g/cm^3)\")\n",
    "\n",
    "print (p201.weighted_average.__doc__)\n",
    "\n",
    "rhoavg,drhoavg_stat,drhoavg_syst,drhoavg = p201.weighted_average(yaxis,dyaxis,1)\n",
    "\n",
    "print(\"\")\n",
    "print (\"Average Density = %0.4f +/- %0.4f g/cm^3 (stat.) +/- %0.4f g/cm^3 (syst.)\" % \n",
    "       (rhoavg,drhoavg_stat,drhoavg_syst))\n",
    "print()\n",
    "\n",
    "# (Beyond Scope, but interesting?  Let's look at doing a constant fit\n",
    "# to these three data points using Python's stats curve_fit function)\n",
    "\n",
    "print (p201.constant_fit_plot_errors.__doc__)\n",
    "\n",
    "# Takes the x and y values to make a trendline\n",
    "intercept,dintercept = p201.constant_fit_plot_errors(xaxis,yaxis,dyaxis,plt)\n",
    "\n",
    "# Adds the legend to the plot\n",
    "plt.legend()\n",
    "\n",
    "# Displays the plot\n",
    "plt.show()\n",
    "\n",
    "print(\"\")\n",
    "print(\"\")"
   ],
   "outputs": [
    {
     "name": "stdout",
     "output_type": "stream",
     "text": [
<<<<<<< HEAD
      "Effective N_dof =  2.940277709661029\n",
      "Correction factor =  0.9849562705168766\n",
      "\n",
      "Average Density = 1.5552 +/- 2.1328 g/cm^3\n",
      "\n",
      "Constant Fit: Coefficients (from curve_fit)\n",
      "[1.93782686]\n",
      "Constant Fit: Covariance Matrix (from curve_fit)\n",
      "[[3.74340476]]\n",
      "\n",
      "Constant Fit: Final Result: y = (1.93783 +/- 1.93479)\n",
=======
      "\n",
      "    weighted_average(x,deltax,etype)\n",
      "    \n",
      "    Calculate the weighted average, along with statistical, systematic, and total error\n",
      "    in the weighted average, for an array of values with uncertainties.\n",
      "    \n",
      "    Arguments:\n",
      "        x: array of values\n",
      "        deltax: array of uncertainties in the values\n",
      "        etype: error type ... 1=uniform, 2=Gaussian\n",
      "    Returns\n",
      "        x_bar, dx_bar_statistical, dx_bar_systematic, dx_bar\n",
      "    \n",
      "\n",
      "Average Density = 9.8042 +/- 0.1480 g/cm^3 (stat.) +/- 0.5845 g/cm^3 (syst.)\n",
      "\n",
      "\n",
      "    constant_fit_plot_errors(xi,yi,sigmai,plot_name,x_low=\"\",x_high=\"\",labelstring=\"Constant Fit\",linestring=\"r-\")\n",
      "    \n",
      "    Fits a set of (x,y) data, with errors on the y values, with a constant function, y = C.\n",
      "    \n",
      "    Arguments:\n",
      "        xi: array of x values\n",
      "        yi: array of y values\n",
      "        sigmai: array of errors in the y values\n",
      "        plot_name: matlibpolot.pylot plot name\n",
      "        x_low: lower x limit of fit (optional)\n",
      "        x_high: upper x limit of fit (optional)\n",
      "        label_string: Label for plotted data (optional)\n",
      "        line_string: Python plotting code for plot symbol and color (optional)\n",
      "    Returns:\n",
      "        y-intercept, error in y-intercept\n",
      "    \n",
      "Constant Fit: Coefficients (from curve_fit)\n",
      "[9.7643814]\n",
      "Constant Fit: Covariance Matrix (from curve_fit)\n",
      "[[0.02195771]]\n",
      "\n",
      "Constant Fit: Final Result: y = (9.76438 +/- 0.14818)\n",
>>>>>>> 9e1e6ccbe64d4b33a15e259f670a628d5305612f
      "\n"
     ]
    },
    {
     "data": {
      "text/plain": [
       "<Figure size 1200x900 with 1 Axes>"
      ],
<<<<<<< HEAD
      "image/png": "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"
=======
      "image/png": "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"
>>>>>>> 9e1e6ccbe64d4b33a15e259f670a628d5305612f
     },
     "metadata": {},
     "output_type": "display_data"
    },
    {
     "name": "stdout",
     "output_type": "stream",
     "text": [
<<<<<<< HEAD
=======
      "\n",
>>>>>>> 9e1e6ccbe64d4b33a15e259f670a628d5305612f
      "\n"
     ]
    }
   ],
<<<<<<< HEAD
   "execution_count": 7
  },
  {
   "cell_type": "markdown",
   "metadata": {},
   "source": [
    "# Your Lab Report\n",
    "### EXPERIMENTAL PROCEDURE Section\n",
    "In one or two paragraphs, <u>***describe the method you used to measure the density of tap water***</u>. **You will be graded on your ability to clearly describe what <u>you</u> did**. The description should be clear enough that someone else could reproduce your results by reading this section. **Although it is tempting to write “instructions,” you will be graded poorly if you do so.**"
   ]
  },
  {
   "cell_type": "markdown",
   "metadata": {},
   "source": [
    "### DATA Section\n",
    "What was your average measured density for the substance (you must include the uncertainty!)?"
   ]
=======
   "execution_count": 14
>>>>>>> 9e1e6ccbe64d4b33a15e259f670a628d5305612f
  },
  {
   "cell_type": "markdown",
   "metadata": {},
   "source": [
    "### CONCLUSION section\n",
    "In a few paragraphs, answer the following questions. Do <u>***NOT***</u> use bullets, use full paragraphs.\n",
    "* What substance do you think you have?\n",
    "    * What is the accepted density of that material (CITE YOUR SOURCE)?\n",
    "    * How does your measured density compare to the accepted density [use the percent error formula]?\n",
    "    * Was density alone enough to identify the material? What other qualities did you use?\n",
    "* How well do the three methods measure volume (compare the $ \\delta V$ and $ \\frac{\\delta V}{V}$ for each)?\n",
    "* Does each method give similar answers for the volume of each cylinder?\n",
    "* How does the uncertainty in the volume measurement affect the uncertainty in the density measurement?\n",
    "* What sources of error/uncertainty did you have? How could you have removed or reduced them?"
   ]
  },
  {
   "cell_type": "code",
   "metadata": {
    "ExecuteTime": {
     "end_time": "2025-06-20T16:48:03.918938Z",
     "start_time": "2025-06-20T16:48:03.917455Z"
    }
   },
   "source": [],
   "outputs": [],
   "execution_count": 7
  }
 ],
 "metadata": {
  "gist": {
   "data": {
    "description": "PhysicsLabs/PHYS201/PHYS201L1.ipynb",
    "public": true
   },
   "id": ""
  },
  "kernelspec": {
   "display_name": "Python 3",
   "language": "python",
   "name": "python3"
  },
  "language_info": {
   "codemirror_mode": {
    "name": "ipython",
    "version": 3
   },
   "file_extension": ".py",
   "mimetype": "text/x-python",
   "name": "python",
   "nbconvert_exporter": "python",
   "pygments_lexer": "ipython3",
   "version": "3.6.8"
  },
  "latex_envs": {
   "LaTeX_envs_menu_present": true,
   "autoclose": false,
   "autocomplete": true,
   "bibliofile": "biblio.bib",
   "cite_by": "apalike",
   "current_citInitial": 1,
   "eqLabelWithNumbers": true,
   "eqNumInitial": 1,
   "hotkeys": {
    "equation": "Ctrl-E",
    "itemize": "Ctrl-I"
   },
   "labels_anchors": false,
   "latex_user_defs": false,
   "report_style_numbering": false,
   "user_envs_cfg": false
  }
 },
 "nbformat": 4,
 "nbformat_minor": 4
}
