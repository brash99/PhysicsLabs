{
 "cells": [
  {
   "cell_type": "markdown",
   "metadata": {
    "id": "osM2Cbwnbwf5"
   },
   "source": [
    "# Experiment 2: Airtrack I---Kinematics\n",
    "### Objectives\n",
    "- To learn good lab practice\n",
    "- To learn how to estimate and propagate uncertainties\n",
    "- To learn how position, velocity, and acceleration are related\n",
    "- To learn how to use the Airtrack\n",
    "- To learn how to use PASCO Capstone Data Acquisition and Analysis software\n",
    "\n",
    "### Equipment\n",
    "- One Airtrack, Blower, Cart, and Acoustic Sensor\n",
    "- One wooden reflector\n",
    "- One 2x4 “shim”\n",
    "- One 30 cm plastic ruler\n",
    "- One two-meter stick\n",
    "\n",
    "### Safety\n",
    "- **Do not attempt to push the carts faster than 1 m/s.**\n",
    "- **Be careful placing the carts on the track.**\n",
    "- **Do not damage the track.** Please place paper underneath the carts when they are resting on the track without the air turned on.\n",
    "- **Do not slide the carts on the track without the air turned on.**"
   ]
  },
  {
   "cell_type": "markdown",
   "metadata": {
    "id": "EmKIhcHrbwf9"
   },
   "source": [
    "# Introduction\n",
    "\n",
    "Before one can study the action of forces on objects, one must be able to describe motion. This description of motion is called $kinematics$. We will be learning how to use two tools to investigate the meanings of the three kinematic equations for motion in one dimension:  \n",
    "The definition of average velocity:\n",
    "\n",
    "\\begin{equation}\n",
    "v_{avg} \\equiv \\frac{\\Delta x}{\\Delta t}\n",
    "\\tag{1}\n",
    "\\end{equation}\n",
    "\n",
    "The definition of average acceleration:\n",
    "\n",
    "\\begin{equation}\n",
    "a_{avg} \\equiv \\frac{\\Delta v}{\\Delta t}\n",
    "\\tag{2}\n",
    "\\end{equation}\n",
    "And the position of an object undergoing constant acceleration:\n",
    "\n",
    "\\begin{equation}\n",
    "x(t) = \\frac{1}{2} a t^2 + v_o t + x_o\n",
    "\\tag{3}\n",
    "\\end{equation}\n",
    "In this lab, your job will be to compare different measurements of velocity and acceleration for an air-cart experiencing both no acceleration and constant acceleration."
   ]
  },
  {
   "cell_type": "markdown",
   "metadata": {
    "id": "s3slx0Bnbwf-"
   },
   "source": [
    "# Theory\n",
    "\n",
    "### Measurement of Velocity and Acceleration\n",
    "An acoustic sensor will measure the position of a cart on the airtrack at specific intervals of time. By use of the definition of velocity (Equation ([1](#mjx-eqn))), we can compute the average velocity between two measurements. Notice that if we plot the position versus time, the fraction is the same as the rise divided by the run-- or the slope of the graph. By plotting *x* vs. *t*, we then find the slope of the graph and determine the velocity.\n",
    "\n",
    "This same technique works for determining acceleration. However, notice that the variables to plot are now *velocity* versus time."
   ]
  },
  {
   "cell_type": "markdown",
   "metadata": {
    "id": "HWPmN0Zobwf-"
   },
   "source": [
    "### Analysis of Uncertainties\n",
    "It will be important to know what the uncertainties are in our computed velocities and accelerations.\n",
    "\n",
    "First, recall that a difference in position or time is a subtraction of two quantities:\n",
    "$$ \\Delta x = x_2 - x_1 \\nonumber $$\n",
    "\n",
    "Therefore, we can use (R1) to compute the uncertainty in the difference:\n",
    "$$ (\\delta(\\Delta x))^2 = (\\delta x_2)^2 - (\\delta x_1)^2 \\nonumber $$\n",
    "\n",
    "However, in this case, the uncertainties $\\delta x_1$ and $\\delta x_2$ should be the same, so we can say that the uncertainty in our computed difference is:\n",
    "\\begin{equation} \n",
    "\\delta(\\Delta x) = \\sqrt{2} (\\delta x) \n",
    "\\tag{4}\n",
    "\\end{equation} \n",
    "\n",
    "where $\\delta x$ is the uncertainty in a single position measurement. We can say the same for time differences:\n",
    "\\begin{equation} \n",
    "\\delta(\\Delta t) = \\sqrt{2} (\\delta t)\n",
    "\\tag{5}\n",
    "\\end{equation}\n",
    "\n",
    "where $\\delta t$ is the uncertainty in a single time measurement. Notice that the uncertainty in the difference is larger than the uncertainty in each individual measurement.\n",
    "\n",
    "Computing the uncertainty in velocity, $\\delta v$, is a straightforward application of (R2). Looking at Equation ([1](#mjx-eqn)) we have:\n",
    "$$ \\left(\\frac{\\delta v}{v}\\right)^2 = \\left(\\frac{\\delta (\\Delta x)}{\\Delta x}\\right)^2 + \\left(\\frac{\\delta (\\Delta t)}{\\Delta t}\\right)^2 \\nonumber $$\n",
    "\n",
    "This equation needs some work to become useful. Capstone will take data points at constant $\\Delta t$. But because $\\Delta x$ may be different for each measurement, we should try to remove it from our equation. We do this by using the definition of velocity to replace $\\Delta x$ with $v \\Delta t$:\n",
    "$$ \\left(\\frac{\\delta v}{v}\\right)^2 = \\left(\\frac{\\delta (\\Delta x)}{v \\Delta t}\\right)^2 + \\left(\\frac{\\delta (\\Delta t)}{\\Delta t}\\right)^2 \\nonumber $$\n",
    "\n",
    "Factoring out $\\Delta t$ so that we need only use it once:\n",
    "$$ \\left(\\frac{\\delta v}{v}\\right)^2 = \\frac{1}{(\\Delta t)^2} \\left(\\left(\\frac{\\delta (\\Delta x)}{v}\\right)^2 + \\left(\\delta (\\Delta t)\\right)^2 \\right) \\nonumber $$\n",
    "\n",
    "We may also multiply through by $v^2$:\n",
    "\\begin{equation} \n",
    "\\left(\\delta v\\right)^2 = \\frac{1}{(\\Delta t)^2} \\left(\\left(\\delta (\\Delta x)\\right)^2 + v^2 \\left(\\delta (\\Delta t)\\right)^2 \\right)\n",
    "\\tag{6}\n",
    "\\end{equation}\n",
    "\n",
    "Now we have an equation to find our uncertainty in velocity based on things we know. Notice that the uncertainty in the velocity increases with the velocity. Also notice that the uncertainty is not zero when the velocity is zero. Does this make sense?"
   ]
  },
  {
   "cell_type": "markdown",
   "metadata": {
    "id": "DSYAVmL9bwf_"
   },
   "source": [
    "# Experimental Procedure\n",
    "\n",
    "### Leveling the Airtrack\n",
    "In order to study unaccelerated motion, we must ensure that gravity does not interfere. To do this, we must level the airtrack. The best method for leveling the airtrack is to use the cart itself to verify that it is not pulled one way or the other by gravity.  \n",
    "\n",
    "1. Turn on the blower (you should be able to feel the air coming out of the drilled holes) and place a cart at the 100 cm mark.\n",
    "2. Place your fingers at the front and rear of the cart so that it remains at rest.\n",
    "3. Release the cart without pushing it.\n",
    "\n",
    "If the cart tends to move to one side, you will need to raise that side (or lower the other side). This can be accomplished by rotating the feet on the two-foot support. If this is still not sufficient, you may need to place a folded sheet of paper under one of the two supports until the cart favors neither side. It’s OK if the cart slowly oscillates."
   ]
  },
  {
   "cell_type": "markdown",
   "metadata": {
    "id": "nCNexFNbbwf_"
   },
   "source": [
    "### Configuring the Acoustic Sensor\n",
    "Place a wooden reflector into the center top hole in the cart. You will now need to place the sensor so that it properly reads the position of the reflector.\n",
    "\n",
    "1. Place the sensor at the opposite end from where the air hose is placed.\n",
    "2. Place a cart at that end of the airtrack and set the sensor at the same height as the center of the wooden reflector.\n",
    "3. Ensure that the sensor is centered over the track and pointed straight down the track.\n",
    "4. Ensure that the top switch is in “cart” mode (*not* “stick figure” mode).\n",
    "\n",
    "There are two plugs which must be inserted into the PASCO 850 interface. The yellow plug goes into Digital Input 1 and the black plug goes into Digital Input 2."
   ]
  },
  {
   "cell_type": "markdown",
   "metadata": {
    "id": "JVRRbi74bwgA"
   },
   "source": [
    "### Using PASCO Capstone DAA\n",
    "Capstone will be used throughout the physics laboratories to collect data, so you should spend some time now learning how to use it. To set it up for the first time, the PASCO 850 interface must be turned on (press and hold the power button until it beeps and the green light is lit) and connected to the computer.\n",
    "\n",
    "1. Start Capstone.\n",
    "2. Click “Hardware Setup” on the left-side “Tools” palette. A picture of the PASCO 850 interface will appear.\n",
    "3. Click on the Digital Input 1 port and\n",
    "4. Click on the Settings Gear Icon in the lower left. You will need to enter the proper speed of sound. The speed of sound is (331+0.6T) m/s where T is the air temperature in Celcius. Click “OK.”\n",
    "5. Click on “Hardware Setup” to close the window.\n",
    "6. In the right-side palette, drag “Graph” to the main window. A large graph will appear.\n",
    "\n",
    "At the very bottom of the window, notice the sample rate (in Hz). This number tells you how many data points are taken every second. You will need this number later.\n",
    "\n",
    "When you click “Record,” Capstone will start taking data on all the sensors attached to the 850 interface. When you click “Stop,” Capstone will stop taking data. Every Record/Stop sequence is considered a “run.” All of the data runs you gather are listed in the “Data Summary” tab on the left-side palette. Clicking “Data Summary” a second time will close that window."
   ]
  },
  {
   "cell_type": "markdown",
   "metadata": {
    "id": "FScTXlN1bwgA"
   },
   "source": [
    "### Testing the Acoustic Sensor using Capstone\n",
    "A very quick test of the sensor would be to click “Record” and move your hand towards and away from the sensor a few times and then click “Stop.” By clicking `<Select Measurement>` on the y-axis and selecting “Position (m),” Capstone will plot a graph of that data. If this works, then your sensor works and it’s time to test the alignment with your cart.\n",
    "    \n",
    "Turn on the air for your airtrack and place a cart on the track. Push the cart towards the sensor and click “Record.” Let the cart bounce back and forth between the bumpers a few times before clicking “Stop.” The new data should have replaced the old data on the graph. (If not, then there are two ways to have the new data plotted: (1) In the “Data Summary” tab, drag the desired run icon from under “Position” and drop it onto the graph. (2) The toolbar on the menu itself has a rainbow-colored triangle on it. Click the arrow next to that icon and select the data run you would like to plot.)\n",
    "\n",
    "The data should look something like this:  \n",
    "<div align=\"center\">\n",
    "<img src=\"https://github.com/JNichols-19/PhysicsLabs/blob/main/images/Airtrack%20Images/Lab2_Image1.PNG?raw=true\" width=\"400\"/>\n",
    "</div>\n",
    "\n"
   ]
  },
  {
   "cell_type": "markdown",
   "metadata": {},
   "source": [
    "***\n",
    "***FIX TROUBLESHOOTING INSTRUCTIONS REGARDING PRINTING TO HOW TO SAVE AND EXPORT AS A CSV FILE AND PUT IT INTO JUPYTERLAB***\n",
    "***"
   ]
  },
  {
   "cell_type": "markdown",
   "metadata": {
    "id": "8K80kWcEbwgA"
   },
   "source": [
    "### Troubleshooting\n",
    "If your data does not look like this, you will need to work on the alignment of your sensor with the reflector. Check the following things:  \n",
    "\n",
    "1. The sensor should be at the same height as the center of the reflector.\n",
    "2. The sensor should be pointed directly at the reflector.\n",
    "3. The reflector should be fully facing the sensor.\n",
    "4. The sensor must be centered on the track (look down over the sensor and make sure the center of the gold circle is over the ridge-line of the airtrack).\n",
    "5. The sensor must be pointed directly down the track.\n",
    "6. The switch on the sensor must be set to “Cart.”\n",
    "7. The green light should blink while data is being taken.\n",
    "\n",
    "We will be using the PASCO Capstone software frequently in all the laboratory courses, so it is important that you become familiar with this software now. Once your data looks pretty good, perform the following functions:\n",
    "\n",
    "1. In the “Data Summary” tab, double-click on the data tag and rename it to “Calibration Run #1.”\n",
    "2. Print your graph in landscape mode (File -> Print, then click the “Preferences” button).\n",
    "3. Have your instructor sign off on your graph.\n",
    "4. Grab the right side of your graph and make some space for another display.\n",
    "5. Drag “Meter” or “Digits” or “Table” display into the open area, click on that display’s `<Select Measurement>` button and select a data source, then click Record/Stop.\n",
    "6. Click each button on the graph to see what it does.\n",
    "7. Learn how to pan and zoom your graph.\n",
    "8. Drag the legend around the graph.\n",
    "9. Delete all your graphs/tables (select the display by clicking on it, then click on the “Delete Selected Display” icon in the upper Capstone toolbar).\n",
    "10. Delete every data run and start over by clicking the arrow next to “Delete Last Run” in the bottom tool palette and selecting “Delete All Runs.”"
   ]
  },
  {
   "cell_type": "code",
   "metadata": {
    "colab": {
     "base_uri": "https://localhost:8080/",
     "height": 514
    },
    "id": "HOaHCoWSbwgB",
    "outputId": "c6e946c5-8525-42d3-a6c3-071015de92e5",
    "ExecuteTime": {
     "end_time": "2025-06-20T19:06:22.509015Z",
     "start_time": "2025-06-20T19:06:15.236348Z"
    }
   },
   "source": [
    "# Sensor test (Sawtooth plot)\n",
    "\n",
    "import numpy as np\n",
    "import matplotlib.pyplot as plt\n",
    "import pandas as pd\n",
    "import sys; sys.path.insert(0, '..')\n",
    "from P201_Functions import *\n",
    "\n",
    "# Reads the name of the csv file and gets the data\n",
    "df = pd.read_csv(\"./Lab2_Trace1.csv\")\n",
    "\n",
    "# Prints information about the file\n",
    "df.info()\n",
    "\n",
    "print(\"\")\n",
    "\n",
    "# Defines the x and y values\n",
    "time = df.filter(['Time (s) Run #1'], axis=1).dropna()\n",
    "position = df.filter(['Position (m) Run #1'], axis=1).dropna()\n",
    "\n",
    "# Create a figure of reasonable size and resolution, white background, black edge color\n",
    "fig=plt.figure(figsize=(7,5), dpi= 100, facecolor='w', edgecolor='k')\n",
    "\n",
    "# Gets the data values for x and y\n",
    "x_data = time.values.reshape(-1, 1)\n",
    "y_data = position.values.reshape(-1, 1)\n",
    "\n",
    "# Creates the base plot with titles\n",
    "plt.plot(x_data,y_data,'b.')\n",
    "plt.ylabel('Position (m)')\n",
    "plt.xlabel('Time (s)')\n",
    "plt.title('Troubleshooting the Capstone Software')\n",
    "\n",
    "# Add a dotted line through the data points\n",
    "plt.plot(x_data,y_data,'b--')\n",
    "\n",
    "# Displays the plot\n",
    "fig\n",
    "\n",
    "print(\"\")"
   ],
   "outputs": [
    {
     "name": "stdout",
     "output_type": "stream",
     "text": [
      "<class 'pandas.core.frame.DataFrame'>\n",
      "RangeIndex: 727 entries, 0 to 726\n",
      "Data columns (total 4 columns):\n",
      " #   Column                      Non-Null Count  Dtype  \n",
      "---  ------                      --------------  -----  \n",
      " 0   Time (s) Run #1             727 non-null    float64\n",
      " 1   Position (m) Run #1         727 non-null    float64\n",
      " 2   Velocity (m/s) Run #1       725 non-null    float64\n",
      " 3   Acceleration (m/s²) Run #1  722 non-null    float64\n",
      "dtypes: float64(4)\n",
      "memory usage: 22.8 KB\n",
      "\n",
      "\n"
     ]
    },
    {
     "data": {
      "text/plain": [
       "<Figure size 700x500 with 1 Axes>"
      ],
      "image/png": "[encoded data removed]"
     },
     "metadata": {},
     "output_type": "display_data"
    }
   ],
   "execution_count": 1
  },
  {
   "cell_type": "markdown",
   "metadata": {
    "id": "dv_EhemIbwgD"
   },
   "source": [
    "### Acoustic Sensor Uncertainty\n",
    "The acoustic sensor can only measure distance so well. How well? You’ll need to determine that. The best way to do this is to take many distance measurements at a fixed location and find the standard deviation of those measurements. Here is one method of doing this:\n",
    "\n",
    "Turn the air off so that the cart doesn’t move. At three locations on your airtrack (near the sensor, at the 100 cm mark, and at the far end from the sensor):\n",
    "1. $Carefully$ place the cart at its location on a sheet of paper and press “Record.”\n",
    "2. After 30 seconds, press “Stop.”\n",
    "3. Drag a “Table” from the right tool palette onto the main window.\n",
    "4. In one column, click the `<Select Measurement>` button and select “Time (s).”\n",
    "5. In the other column, click the `<Select Measurement>` button and select “Position (m).”\n",
    "6. The cell above should show your last data run. If not, click it and select your last data run.\n",
    "7. On the table, click the arrow next to the summation sign ($\\Sigma$) and make sure “Mean” and “Standard Deviation” are selected. Then click the summation sign ($\\Sigma$) itself.\n",
    "8. Read the standard deviation off the table at the bottom. This is your $\\delta x$.\n",
    "\n",
    "If your standard deviation is greater than 0.001 m (1.0 mm) then you should try to fine-tune the alignment of your sensor. It is very possible to get less than one millimeter uncertainty at the far end of the track. By looking at the\n",
    "displayed significant digits, your table also tells you what the uncertainty is for a single time measurement. Once you are done aligning your set-up, record your new worst (highest) position uncertainty (this will probably be at\n",
    "your far position) as well as your uncertainty in time, and the uncertainties for any differences the computer would calculate between two adjacent points."
   ]
  },
  {
   "cell_type": "code",
   "metadata": {
    "id": "v63gn8jXbwgD",
    "outputId": "8a10ef17-7e7a-4814-f3ce-71fa8b54b612",
    "ExecuteTime": {
     "end_time": "2025-06-20T19:06:27.793757Z",
     "start_time": "2025-06-20T19:06:27.790571Z"
    }
   },
   "source": [
    "# Raw Data 1\n",
    "\n",
    "#### Enter Raw Data Here!!!!!!!!!!!!!####\n",
    "\n",
    "# Enter Δx (m)\n",
    "Delta_x = 7.223E-5\n",
    "\n",
    "###########################################\n",
    "\n",
    "# Calculates the uncertainty in 𝛿(Δx) using Equation 4\n",
    "delta_Delta_x = np.sqrt(2)*Delta_x\n",
    "\n",
    "print(\"Δx =\", Delta_x, \"m\")\n",
    "print(\"𝛿(Δx) = %0.5f\" % (delta_Delta_x))"
   ],
   "outputs": [
    {
     "name": "stdout",
     "output_type": "stream",
     "text": [
      "Δx = 7.223e-05 m\n",
      "𝛿(Δx) = 0.00010\n"
     ]
    }
   ],
   "execution_count": 2
  },
  {
   "cell_type": "markdown",
   "metadata": {
    "id": "tecaez4xbwgE"
   },
   "source": [
    "What is the difference in time between two $successive$ data points? (You can either look at your table or recall the Sample Rate from above). The uncertainty in time, $\\delta t$, will be $half$ of this number."
   ]
  },
  {
   "cell_type": "code",
   "metadata": {
    "id": "b9btM1mobwgE",
    "outputId": "d357ec96-4f52-4591-8da6-de2e7248dcc7",
    "ExecuteTime": {
     "end_time": "2025-06-20T19:06:29.696010Z",
     "start_time": "2025-06-20T19:06:29.693235Z"
    }
   },
   "source": [
    "# Raw Data 2\n",
    "\n",
    "#### Enter Raw Data Here!!!!!!!!!!!!!! ####\n",
    "\n",
    "# Enter Δt (s)\n",
    "Delta_t = 0.025\n",
    "\n",
    "###########################################\n",
    "\n",
    "# Calculates the uncertainty in 𝛿(Δt) using Equation 5\n",
    "delta_Delta_t = np.sqrt(2)*Delta_t\n",
    "\n",
    "print(\"Δt =\", Delta_t, \"s\")\n",
    "print(\"𝛿(Δt) = %0.5f\" % (delta_Delta_t))"
   ],
   "outputs": [
    {
     "name": "stdout",
     "output_type": "stream",
     "text": [
      "Δt = 0.025 s\n",
      "𝛿(Δt) = 0.03536\n"
     ]
    }
   ],
   "execution_count": 3
  },
  {
   "cell_type": "markdown",
   "metadata": {
    "id": "_HRbOzKZbwgF"
   },
   "source": [
    "### Unaccelerated Motion\n",
    "This first part of the experiment is to compare the position of the cart as a function of time with its velocity and verify equation ([1](#mjx-eqn)):\n",
    "\n",
    "1. Start fresh: delete ALL data sets and close all data windows.\n",
    "2. Drag a “Graph” from the right tool palette to your data area. Select “Position (m)” for your y-axis.\n",
    "3. Turn on the air and remove the paper from under the cart.\n",
    "4. With your cart at the far end of the track, give it a good push towards the sensor.\n",
    "5. Immediately after the cart bounces off the near bumper, press “Record.”\n",
    "6. Immediately BEFORE the cart strikes the far bumper, press “Stop.”\n",
    "7. Turn off the air.\n",
    "8. Rename this run “Level Airtrack”, and export the data as Lab2_Level_Airtrack.csv"
   ]
  },
  {
   "cell_type": "code",
   "metadata": {
    "id": "I6N2ZTaBbwgG",
    "outputId": "4b883136-8de5-4267-8650-259327057a4d",
    "ExecuteTime": {
     "end_time": "2025-06-20T19:06:31.943411Z",
     "start_time": "2025-06-20T19:06:31.312857Z"
    }
   },
   "source": [
    "# Position vs. Time Graph\n",
    "\n",
    "# Reads the name of the csv file and gets the data\n",
    "df = pd.read_csv(\"./Lab2_Level_Airtrack.csv\")\n",
    "\n",
    "# Prints information about the file\n",
    "df.info()\n",
    "\n",
    "print(\"\")\n",
    "\n",
    "# Defines the x and y values\n",
    "time = df.filter(['Time (s) Run #1'], axis=1).dropna()\n",
    "position = df.filter(['Position (m) Run #1'], axis=1).dropna()\n",
    "\n",
    "# Create a figure of reasonable size and resolution, white background, black edge color\n",
    "fig=plt.figure(figsize=(7,5), dpi= 100, facecolor='w', edgecolor='k')\n",
    "\n",
    "# Gets the data values for x and y\n",
    "x_data = time.values.reshape(-1, 1)\n",
    "y_data = position.values.reshape(-1, 1)\n",
    "\n",
    "xi = df['Time (s) Run #1'].to_numpy()\n",
    "yi = df['Position (m) Run #1'].to_numpy()\n",
    "\n",
    "# Creates the base plot with titles\n",
    "plt.errorbar(x_data,y_data,Delta_x,Delta_t,'b.',label='Raw Data')\n",
    "plt.ylabel('Position (m)')\n",
    "plt.xlabel('Time (s)')\n",
    "plt.title('Position vs. Time')\n",
    "\n",
    "# Takes the x and y values to make a trendline\n",
    "intercept, slope, dintercept, dslope = linear_fit_plot(xi,yi,plt,0.5,2.5)\n",
    "\n",
    "# Adds the legend to the plot\n",
    "plt.legend()\n",
    "\n",
    "# Displays the plot\n",
    "plt.show()\n",
    "\n",
    "print(\"\")"
   ],
   "outputs": [
    {
     "name": "stdout",
     "output_type": "stream",
     "text": [
      "<class 'pandas.core.frame.DataFrame'>\n",
      "RangeIndex: 65 entries, 0 to 64\n",
      "Data columns (total 4 columns):\n",
      " #   Column                      Non-Null Count  Dtype  \n",
      "---  ------                      --------------  -----  \n",
      " 0   Time (s) Run #1             65 non-null     float64\n",
      " 1   Position (m) Run #1         65 non-null     float64\n",
      " 2   Velocity (m/s) Run #1       63 non-null     float64\n",
      " 3   Acceleration (m/s²) Run #1  60 non-null     float64\n",
      "dtypes: float64(4)\n",
      "memory usage: 2.2 KB\n",
      "\n"
     ]
    },
    {
     "ename": "ValueError",
     "evalue": "operands could not be broadcast together with shapes (65,1) (2,65) ",
     "output_type": "error",
     "traceback": [
      "\u001B[31m---------------------------------------------------------------------------\u001B[39m",
      "\u001B[31mValueError\u001B[39m                                Traceback (most recent call last)",
      "\u001B[36mCell\u001B[39m\u001B[36m \u001B[39m\u001B[32mIn[4]\u001B[39m\u001B[32m, line 26\u001B[39m\n\u001B[32m     23\u001B[39m yi = df[\u001B[33m'\u001B[39m\u001B[33mPosition (m) Run #1\u001B[39m\u001B[33m'\u001B[39m].to_numpy()\n\u001B[32m     25\u001B[39m \u001B[38;5;66;03m# Creates the base plot with titles\u001B[39;00m\n\u001B[32m---> \u001B[39m\u001B[32m26\u001B[39m \u001B[43mplt\u001B[49m\u001B[43m.\u001B[49m\u001B[43merrorbar\u001B[49m\u001B[43m(\u001B[49m\u001B[43mx_data\u001B[49m\u001B[43m,\u001B[49m\u001B[43my_data\u001B[49m\u001B[43m,\u001B[49m\u001B[43mDelta_x\u001B[49m\u001B[43m,\u001B[49m\u001B[43mDelta_t\u001B[49m\u001B[43m,\u001B[49m\u001B[33;43m'\u001B[39;49m\u001B[33;43mb.\u001B[39;49m\u001B[33;43m'\u001B[39;49m\u001B[43m,\u001B[49m\u001B[43mlabel\u001B[49m\u001B[43m=\u001B[49m\u001B[33;43m'\u001B[39;49m\u001B[33;43mRaw Data\u001B[39;49m\u001B[33;43m'\u001B[39;49m\u001B[43m)\u001B[49m\n\u001B[32m     27\u001B[39m plt.ylabel(\u001B[33m'\u001B[39m\u001B[33mPosition (m)\u001B[39m\u001B[33m'\u001B[39m)\n\u001B[32m     28\u001B[39m plt.xlabel(\u001B[33m'\u001B[39m\u001B[33mTime (s)\u001B[39m\u001B[33m'\u001B[39m)\n",
      "\u001B[36mFile \u001B[39m\u001B[32m~/Documents/Teaching/PhysicsLabs/venv/lib/python3.12/site-packages/matplotlib/_api/deprecation.py:453\u001B[39m, in \u001B[36mmake_keyword_only.<locals>.wrapper\u001B[39m\u001B[34m(*args, **kwargs)\u001B[39m\n\u001B[32m    447\u001B[39m \u001B[38;5;28;01mif\u001B[39;00m \u001B[38;5;28mlen\u001B[39m(args) > name_idx:\n\u001B[32m    448\u001B[39m     warn_deprecated(\n\u001B[32m    449\u001B[39m         since, message=\u001B[33m\"\u001B[39m\u001B[33mPassing the \u001B[39m\u001B[38;5;132;01m%(name)s\u001B[39;00m\u001B[33m \u001B[39m\u001B[38;5;132;01m%(obj_type)s\u001B[39;00m\u001B[33m \u001B[39m\u001B[33m\"\u001B[39m\n\u001B[32m    450\u001B[39m         \u001B[33m\"\u001B[39m\u001B[33mpositionally is deprecated since Matplotlib \u001B[39m\u001B[38;5;132;01m%(since)s\u001B[39;00m\u001B[33m; the \u001B[39m\u001B[33m\"\u001B[39m\n\u001B[32m    451\u001B[39m         \u001B[33m\"\u001B[39m\u001B[33mparameter will become keyword-only in \u001B[39m\u001B[38;5;132;01m%(removal)s\u001B[39;00m\u001B[33m.\u001B[39m\u001B[33m\"\u001B[39m,\n\u001B[32m    452\u001B[39m         name=name, obj_type=\u001B[33mf\u001B[39m\u001B[33m\"\u001B[39m\u001B[33mparameter of \u001B[39m\u001B[38;5;132;01m{\u001B[39;00mfunc.\u001B[34m__name__\u001B[39m\u001B[38;5;132;01m}\u001B[39;00m\u001B[33m()\u001B[39m\u001B[33m\"\u001B[39m)\n\u001B[32m--> \u001B[39m\u001B[32m453\u001B[39m \u001B[38;5;28;01mreturn\u001B[39;00m \u001B[43mfunc\u001B[49m\u001B[43m(\u001B[49m\u001B[43m*\u001B[49m\u001B[43margs\u001B[49m\u001B[43m,\u001B[49m\u001B[43m \u001B[49m\u001B[43m*\u001B[49m\u001B[43m*\u001B[49m\u001B[43mkwargs\u001B[49m\u001B[43m)\u001B[49m\n",
      "\u001B[36mFile \u001B[39m\u001B[32m~/Documents/Teaching/PhysicsLabs/venv/lib/python3.12/site-packages/matplotlib/pyplot.py:3282\u001B[39m, in \u001B[36merrorbar\u001B[39m\u001B[34m(x, y, yerr, xerr, fmt, ecolor, elinewidth, capsize, barsabove, lolims, uplims, xlolims, xuplims, errorevery, capthick, data, **kwargs)\u001B[39m\n\u001B[32m   3261\u001B[39m \u001B[38;5;129m@_copy_docstring_and_deprecators\u001B[39m(Axes.errorbar)\n\u001B[32m   3262\u001B[39m \u001B[38;5;28;01mdef\u001B[39;00m\u001B[38;5;250m \u001B[39m\u001B[34merrorbar\u001B[39m(\n\u001B[32m   3263\u001B[39m     x: \u001B[38;5;28mfloat\u001B[39m | ArrayLike,\n\u001B[32m   (...)\u001B[39m\u001B[32m   3280\u001B[39m     **kwargs,\n\u001B[32m   3281\u001B[39m ) -> ErrorbarContainer:\n\u001B[32m-> \u001B[39m\u001B[32m3282\u001B[39m     \u001B[38;5;28;01mreturn\u001B[39;00m \u001B[43mgca\u001B[49m\u001B[43m(\u001B[49m\u001B[43m)\u001B[49m\u001B[43m.\u001B[49m\u001B[43merrorbar\u001B[49m\u001B[43m(\u001B[49m\n\u001B[32m   3283\u001B[39m \u001B[43m        \u001B[49m\u001B[43mx\u001B[49m\u001B[43m,\u001B[49m\n\u001B[32m   3284\u001B[39m \u001B[43m        \u001B[49m\u001B[43my\u001B[49m\u001B[43m,\u001B[49m\n\u001B[32m   3285\u001B[39m \u001B[43m        \u001B[49m\u001B[43myerr\u001B[49m\u001B[43m=\u001B[49m\u001B[43myerr\u001B[49m\u001B[43m,\u001B[49m\n\u001B[32m   3286\u001B[39m \u001B[43m        \u001B[49m\u001B[43mxerr\u001B[49m\u001B[43m=\u001B[49m\u001B[43mxerr\u001B[49m\u001B[43m,\u001B[49m\n\u001B[32m   3287\u001B[39m \u001B[43m        \u001B[49m\u001B[43mfmt\u001B[49m\u001B[43m=\u001B[49m\u001B[43mfmt\u001B[49m\u001B[43m,\u001B[49m\n\u001B[32m   3288\u001B[39m \u001B[43m        \u001B[49m\u001B[43mecolor\u001B[49m\u001B[43m=\u001B[49m\u001B[43mecolor\u001B[49m\u001B[43m,\u001B[49m\n\u001B[32m   3289\u001B[39m \u001B[43m        \u001B[49m\u001B[43melinewidth\u001B[49m\u001B[43m=\u001B[49m\u001B[43melinewidth\u001B[49m\u001B[43m,\u001B[49m\n\u001B[32m   3290\u001B[39m \u001B[43m        \u001B[49m\u001B[43mcapsize\u001B[49m\u001B[43m=\u001B[49m\u001B[43mcapsize\u001B[49m\u001B[43m,\u001B[49m\n\u001B[32m   3291\u001B[39m \u001B[43m        \u001B[49m\u001B[43mbarsabove\u001B[49m\u001B[43m=\u001B[49m\u001B[43mbarsabove\u001B[49m\u001B[43m,\u001B[49m\n\u001B[32m   3292\u001B[39m \u001B[43m        \u001B[49m\u001B[43mlolims\u001B[49m\u001B[43m=\u001B[49m\u001B[43mlolims\u001B[49m\u001B[43m,\u001B[49m\n\u001B[32m   3293\u001B[39m \u001B[43m        \u001B[49m\u001B[43muplims\u001B[49m\u001B[43m=\u001B[49m\u001B[43muplims\u001B[49m\u001B[43m,\u001B[49m\n\u001B[32m   3294\u001B[39m \u001B[43m        \u001B[49m\u001B[43mxlolims\u001B[49m\u001B[43m=\u001B[49m\u001B[43mxlolims\u001B[49m\u001B[43m,\u001B[49m\n\u001B[32m   3295\u001B[39m \u001B[43m        \u001B[49m\u001B[43mxuplims\u001B[49m\u001B[43m=\u001B[49m\u001B[43mxuplims\u001B[49m\u001B[43m,\u001B[49m\n\u001B[32m   3296\u001B[39m \u001B[43m        \u001B[49m\u001B[43merrorevery\u001B[49m\u001B[43m=\u001B[49m\u001B[43merrorevery\u001B[49m\u001B[43m,\u001B[49m\n\u001B[32m   3297\u001B[39m \u001B[43m        \u001B[49m\u001B[43mcapthick\u001B[49m\u001B[43m=\u001B[49m\u001B[43mcapthick\u001B[49m\u001B[43m,\u001B[49m\n\u001B[32m   3298\u001B[39m \u001B[43m        \u001B[49m\u001B[43m*\u001B[49m\u001B[43m*\u001B[49m\u001B[43m(\u001B[49m\u001B[43m{\u001B[49m\u001B[33;43m\"\u001B[39;49m\u001B[33;43mdata\u001B[39;49m\u001B[33;43m\"\u001B[39;49m\u001B[43m:\u001B[49m\u001B[43m \u001B[49m\u001B[43mdata\u001B[49m\u001B[43m}\u001B[49m\u001B[43m \u001B[49m\u001B[38;5;28;43;01mif\u001B[39;49;00m\u001B[43m \u001B[49m\u001B[43mdata\u001B[49m\u001B[43m \u001B[49m\u001B[38;5;129;43;01mis\u001B[39;49;00m\u001B[43m \u001B[49m\u001B[38;5;129;43;01mnot\u001B[39;49;00m\u001B[43m \u001B[49m\u001B[38;5;28;43;01mNone\u001B[39;49;00m\u001B[43m \u001B[49m\u001B[38;5;28;43;01melse\u001B[39;49;00m\u001B[43m \u001B[49m\u001B[43m{\u001B[49m\u001B[43m}\u001B[49m\u001B[43m)\u001B[49m\u001B[43m,\u001B[49m\n\u001B[32m   3299\u001B[39m \u001B[43m        \u001B[49m\u001B[43m*\u001B[49m\u001B[43m*\u001B[49m\u001B[43mkwargs\u001B[49m\u001B[43m,\u001B[49m\n\u001B[32m   3300\u001B[39m \u001B[43m    \u001B[49m\u001B[43m)\u001B[49m\n",
      "\u001B[36mFile \u001B[39m\u001B[32m~/Documents/Teaching/PhysicsLabs/venv/lib/python3.12/site-packages/matplotlib/_api/deprecation.py:453\u001B[39m, in \u001B[36mmake_keyword_only.<locals>.wrapper\u001B[39m\u001B[34m(*args, **kwargs)\u001B[39m\n\u001B[32m    447\u001B[39m \u001B[38;5;28;01mif\u001B[39;00m \u001B[38;5;28mlen\u001B[39m(args) > name_idx:\n\u001B[32m    448\u001B[39m     warn_deprecated(\n\u001B[32m    449\u001B[39m         since, message=\u001B[33m\"\u001B[39m\u001B[33mPassing the \u001B[39m\u001B[38;5;132;01m%(name)s\u001B[39;00m\u001B[33m \u001B[39m\u001B[38;5;132;01m%(obj_type)s\u001B[39;00m\u001B[33m \u001B[39m\u001B[33m\"\u001B[39m\n\u001B[32m    450\u001B[39m         \u001B[33m\"\u001B[39m\u001B[33mpositionally is deprecated since Matplotlib \u001B[39m\u001B[38;5;132;01m%(since)s\u001B[39;00m\u001B[33m; the \u001B[39m\u001B[33m\"\u001B[39m\n\u001B[32m    451\u001B[39m         \u001B[33m\"\u001B[39m\u001B[33mparameter will become keyword-only in \u001B[39m\u001B[38;5;132;01m%(removal)s\u001B[39;00m\u001B[33m.\u001B[39m\u001B[33m\"\u001B[39m,\n\u001B[32m    452\u001B[39m         name=name, obj_type=\u001B[33mf\u001B[39m\u001B[33m\"\u001B[39m\u001B[33mparameter of \u001B[39m\u001B[38;5;132;01m{\u001B[39;00mfunc.\u001B[34m__name__\u001B[39m\u001B[38;5;132;01m}\u001B[39;00m\u001B[33m()\u001B[39m\u001B[33m\"\u001B[39m)\n\u001B[32m--> \u001B[39m\u001B[32m453\u001B[39m \u001B[38;5;28;01mreturn\u001B[39;00m \u001B[43mfunc\u001B[49m\u001B[43m(\u001B[49m\u001B[43m*\u001B[49m\u001B[43margs\u001B[49m\u001B[43m,\u001B[49m\u001B[43m \u001B[49m\u001B[43m*\u001B[49m\u001B[43m*\u001B[49m\u001B[43mkwargs\u001B[49m\u001B[43m)\u001B[49m\n",
      "\u001B[36mFile \u001B[39m\u001B[32m~/Documents/Teaching/PhysicsLabs/venv/lib/python3.12/site-packages/matplotlib/__init__.py:1521\u001B[39m, in \u001B[36m_preprocess_data.<locals>.inner\u001B[39m\u001B[34m(ax, data, *args, **kwargs)\u001B[39m\n\u001B[32m   1518\u001B[39m \u001B[38;5;129m@functools\u001B[39m.wraps(func)\n\u001B[32m   1519\u001B[39m \u001B[38;5;28;01mdef\u001B[39;00m\u001B[38;5;250m \u001B[39m\u001B[34minner\u001B[39m(ax, *args, data=\u001B[38;5;28;01mNone\u001B[39;00m, **kwargs):\n\u001B[32m   1520\u001B[39m     \u001B[38;5;28;01mif\u001B[39;00m data \u001B[38;5;129;01mis\u001B[39;00m \u001B[38;5;28;01mNone\u001B[39;00m:\n\u001B[32m-> \u001B[39m\u001B[32m1521\u001B[39m         \u001B[38;5;28;01mreturn\u001B[39;00m \u001B[43mfunc\u001B[49m\u001B[43m(\u001B[49m\n\u001B[32m   1522\u001B[39m \u001B[43m            \u001B[49m\u001B[43max\u001B[49m\u001B[43m,\u001B[49m\n\u001B[32m   1523\u001B[39m \u001B[43m            \u001B[49m\u001B[43m*\u001B[49m\u001B[38;5;28;43mmap\u001B[39;49m\u001B[43m(\u001B[49m\u001B[43mcbook\u001B[49m\u001B[43m.\u001B[49m\u001B[43msanitize_sequence\u001B[49m\u001B[43m,\u001B[49m\u001B[43m \u001B[49m\u001B[43margs\u001B[49m\u001B[43m)\u001B[49m\u001B[43m,\u001B[49m\n\u001B[32m   1524\u001B[39m \u001B[43m            \u001B[49m\u001B[43m*\u001B[49m\u001B[43m*\u001B[49m\u001B[43m{\u001B[49m\u001B[43mk\u001B[49m\u001B[43m:\u001B[49m\u001B[43m \u001B[49m\u001B[43mcbook\u001B[49m\u001B[43m.\u001B[49m\u001B[43msanitize_sequence\u001B[49m\u001B[43m(\u001B[49m\u001B[43mv\u001B[49m\u001B[43m)\u001B[49m\u001B[43m \u001B[49m\u001B[38;5;28;43;01mfor\u001B[39;49;00m\u001B[43m \u001B[49m\u001B[43mk\u001B[49m\u001B[43m,\u001B[49m\u001B[43m \u001B[49m\u001B[43mv\u001B[49m\u001B[43m \u001B[49m\u001B[38;5;129;43;01min\u001B[39;49;00m\u001B[43m \u001B[49m\u001B[43mkwargs\u001B[49m\u001B[43m.\u001B[49m\u001B[43mitems\u001B[49m\u001B[43m(\u001B[49m\u001B[43m)\u001B[49m\u001B[43m}\u001B[49m\u001B[43m)\u001B[49m\n\u001B[32m   1526\u001B[39m     bound = new_sig.bind(ax, *args, **kwargs)\n\u001B[32m   1527\u001B[39m     auto_label = (bound.arguments.get(label_namer)\n\u001B[32m   1528\u001B[39m                   \u001B[38;5;129;01mor\u001B[39;00m bound.kwargs.get(label_namer))\n",
      "\u001B[36mFile \u001B[39m\u001B[32m~/Documents/Teaching/PhysicsLabs/venv/lib/python3.12/site-packages/matplotlib/axes/_axes.py:3828\u001B[39m, in \u001B[36mAxes.errorbar\u001B[39m\u001B[34m(self, x, y, yerr, xerr, fmt, ecolor, elinewidth, capsize, barsabove, lolims, uplims, xlolims, xuplims, errorevery, capthick, **kwargs)\u001B[39m\n\u001B[32m   3822\u001B[39m     \u001B[38;5;28;01mraise\u001B[39;00m \u001B[38;5;167;01mValueError\u001B[39;00m(\n\u001B[32m   3823\u001B[39m         \u001B[33mf\u001B[39m\u001B[33m\"\u001B[39m\u001B[33m'\u001B[39m\u001B[38;5;132;01m{\u001B[39;00mdep_axis\u001B[38;5;132;01m}\u001B[39;00m\u001B[33merr\u001B[39m\u001B[33m'\u001B[39m\u001B[33m must not contain negative values\u001B[39m\u001B[33m\"\u001B[39m)\n\u001B[32m   3824\u001B[39m \u001B[38;5;66;03m# This is like\u001B[39;00m\n\u001B[32m   3825\u001B[39m \u001B[38;5;66;03m#     elow, ehigh = np.broadcast_to(...)\u001B[39;00m\n\u001B[32m   3826\u001B[39m \u001B[38;5;66;03m#     return dep - elow * ~lolims, dep + ehigh * ~uplims\u001B[39;00m\n\u001B[32m   3827\u001B[39m \u001B[38;5;66;03m# except that broadcast_to would strip units.\u001B[39;00m\n\u001B[32m-> \u001B[39m\u001B[32m3828\u001B[39m low, high = \u001B[43mdep\u001B[49m\u001B[43m \u001B[49m\u001B[43m+\u001B[49m\u001B[43m \u001B[49m\u001B[43mnp\u001B[49m\u001B[43m.\u001B[49m\u001B[43mvstack\u001B[49m\u001B[43m(\u001B[49m\u001B[43m[\u001B[49m\u001B[43m-\u001B[49m\u001B[43m(\u001B[49m\u001B[32;43m1\u001B[39;49m\u001B[43m \u001B[49m\u001B[43m-\u001B[49m\u001B[43m \u001B[49m\u001B[43mlolims\u001B[49m\u001B[43m)\u001B[49m\u001B[43m,\u001B[49m\u001B[43m \u001B[49m\u001B[32;43m1\u001B[39;49m\u001B[43m \u001B[49m\u001B[43m-\u001B[49m\u001B[43m \u001B[49m\u001B[43muplims\u001B[49m\u001B[43m]\u001B[49m\u001B[43m)\u001B[49m\u001B[43m \u001B[49m\u001B[43m*\u001B[49m\u001B[43m \u001B[49m\u001B[43merr\u001B[49m\n\u001B[32m   3829\u001B[39m barcols.append(lines_func(\n\u001B[32m   3830\u001B[39m     *apply_mask([indep, low, high], everymask), **eb_lines_style))\n\u001B[32m   3831\u001B[39m \u001B[38;5;28;01mif\u001B[39;00m \u001B[38;5;28mself\u001B[39m.name == \u001B[33m\"\u001B[39m\u001B[33mpolar\u001B[39m\u001B[33m\"\u001B[39m \u001B[38;5;129;01mand\u001B[39;00m dep_axis == \u001B[33m\"\u001B[39m\u001B[33mx\u001B[39m\u001B[33m\"\u001B[39m:\n",
      "\u001B[31mValueError\u001B[39m: operands could not be broadcast together with shapes (65,1) (2,65) "
     ]
    },
    {
     "data": {
      "text/plain": [
       "<Figure size 700x500 with 1 Axes>"
      ],
      "image/png": "[encoded data removed]"
     },
     "metadata": {},
     "output_type": "display_data"
    }
   ],
   "execution_count": 4
  },
  {
   "cell_type": "code",
   "metadata": {
    "id": "-TQiNMJIbwgH",
    "outputId": "352cb0b4-adaf-4ed3-d44b-1194c4c5a946",
    "ExecuteTime": {
     "end_time": "2025-06-20T19:06:33.122869Z",
     "start_time": "2025-06-20T19:06:33.000414Z"
    }
   },
   "source": [
    "# Velocity vs. Time Graph (unaccelerated)\n",
    "\n",
    "# Remove NaN entries from dataframe\n",
    "df = df.dropna()\n",
    "\n",
    "# Defines the x and y values\n",
    "time = df.filter(['Time (s) Run #1'], axis=1).dropna()\n",
    "position = df.filter(['Velocity (m/s) Run #1'], axis=1).dropna()\n",
    "\n",
    "fig=plt.figure(figsize=(7,5), dpi= 100, facecolor='w', edgecolor='k')\n",
    "\n",
    "# Gets the data values for x and y\n",
    "x_data = time.values.reshape(-1, 1)\n",
    "y_data = position.values.reshape(-1, 1)\n",
    "xi = df['Time (s) Run #1'].to_numpy()\n",
    "yi = df['Velocity (m/s) Run #1'].to_numpy()\n",
    "\n",
    "Delta_v = delta_Delta_x/Delta_t\n",
    "\n",
    "# Creates the base plot with titles\n",
    "plt.errorbar(x_data,y_data,Delta_v,Delta_t,'b.',label='Raw Data')\n",
    "plt.ylabel('Velocity (m/s)')\n",
    "plt.xlabel('Time (s)')\n",
    "plt.title('Velocity vs. Time')\n",
    "\n",
    "# Takes the x and y values to make a trendline\n",
    "intercept2, slope2, dintercept2, dslope2 = linear_fit_plot(xi,yi,plt,0.5,2.0)\n",
    "\n",
    "# Adds the legend to the plot\n",
    "plt.legend()\n",
    "\n",
    "# Displays the plot\n",
    "plt.show()\n",
    "\n",
    "print(\"\")"
   ],
   "outputs": [
    {
     "ename": "ValueError",
     "evalue": "operands could not be broadcast together with shapes (60,1) (2,60) ",
     "output_type": "error",
     "traceback": [
      "\u001B[31m---------------------------------------------------------------------------\u001B[39m",
      "\u001B[31mValueError\u001B[39m                                Traceback (most recent call last)",
      "\u001B[36mCell\u001B[39m\u001B[36m \u001B[39m\u001B[32mIn[5]\u001B[39m\u001B[32m, line 21\u001B[39m\n\u001B[32m     18\u001B[39m Delta_v = delta_Delta_x/Delta_t\n\u001B[32m     20\u001B[39m \u001B[38;5;66;03m# Creates the base plot with titles\u001B[39;00m\n\u001B[32m---> \u001B[39m\u001B[32m21\u001B[39m \u001B[43mplt\u001B[49m\u001B[43m.\u001B[49m\u001B[43merrorbar\u001B[49m\u001B[43m(\u001B[49m\u001B[43mx_data\u001B[49m\u001B[43m,\u001B[49m\u001B[43my_data\u001B[49m\u001B[43m,\u001B[49m\u001B[43mDelta_v\u001B[49m\u001B[43m,\u001B[49m\u001B[43mDelta_t\u001B[49m\u001B[43m,\u001B[49m\u001B[33;43m'\u001B[39;49m\u001B[33;43mb.\u001B[39;49m\u001B[33;43m'\u001B[39;49m\u001B[43m,\u001B[49m\u001B[43mlabel\u001B[49m\u001B[43m=\u001B[49m\u001B[33;43m'\u001B[39;49m\u001B[33;43mRaw Data\u001B[39;49m\u001B[33;43m'\u001B[39;49m\u001B[43m)\u001B[49m\n\u001B[32m     22\u001B[39m plt.ylabel(\u001B[33m'\u001B[39m\u001B[33mVelocity (m/s)\u001B[39m\u001B[33m'\u001B[39m)\n\u001B[32m     23\u001B[39m plt.xlabel(\u001B[33m'\u001B[39m\u001B[33mTime (s)\u001B[39m\u001B[33m'\u001B[39m)\n",
      "\u001B[36mFile \u001B[39m\u001B[32m~/Documents/Teaching/PhysicsLabs/venv/lib/python3.12/site-packages/matplotlib/_api/deprecation.py:453\u001B[39m, in \u001B[36mmake_keyword_only.<locals>.wrapper\u001B[39m\u001B[34m(*args, **kwargs)\u001B[39m\n\u001B[32m    447\u001B[39m \u001B[38;5;28;01mif\u001B[39;00m \u001B[38;5;28mlen\u001B[39m(args) > name_idx:\n\u001B[32m    448\u001B[39m     warn_deprecated(\n\u001B[32m    449\u001B[39m         since, message=\u001B[33m\"\u001B[39m\u001B[33mPassing the \u001B[39m\u001B[38;5;132;01m%(name)s\u001B[39;00m\u001B[33m \u001B[39m\u001B[38;5;132;01m%(obj_type)s\u001B[39;00m\u001B[33m \u001B[39m\u001B[33m\"\u001B[39m\n\u001B[32m    450\u001B[39m         \u001B[33m\"\u001B[39m\u001B[33mpositionally is deprecated since Matplotlib \u001B[39m\u001B[38;5;132;01m%(since)s\u001B[39;00m\u001B[33m; the \u001B[39m\u001B[33m\"\u001B[39m\n\u001B[32m    451\u001B[39m         \u001B[33m\"\u001B[39m\u001B[33mparameter will become keyword-only in \u001B[39m\u001B[38;5;132;01m%(removal)s\u001B[39;00m\u001B[33m.\u001B[39m\u001B[33m\"\u001B[39m,\n\u001B[32m    452\u001B[39m         name=name, obj_type=\u001B[33mf\u001B[39m\u001B[33m\"\u001B[39m\u001B[33mparameter of \u001B[39m\u001B[38;5;132;01m{\u001B[39;00mfunc.\u001B[34m__name__\u001B[39m\u001B[38;5;132;01m}\u001B[39;00m\u001B[33m()\u001B[39m\u001B[33m\"\u001B[39m)\n\u001B[32m--> \u001B[39m\u001B[32m453\u001B[39m \u001B[38;5;28;01mreturn\u001B[39;00m \u001B[43mfunc\u001B[49m\u001B[43m(\u001B[49m\u001B[43m*\u001B[49m\u001B[43margs\u001B[49m\u001B[43m,\u001B[49m\u001B[43m \u001B[49m\u001B[43m*\u001B[49m\u001B[43m*\u001B[49m\u001B[43mkwargs\u001B[49m\u001B[43m)\u001B[49m\n",
      "\u001B[36mFile \u001B[39m\u001B[32m~/Documents/Teaching/PhysicsLabs/venv/lib/python3.12/site-packages/matplotlib/pyplot.py:3282\u001B[39m, in \u001B[36merrorbar\u001B[39m\u001B[34m(x, y, yerr, xerr, fmt, ecolor, elinewidth, capsize, barsabove, lolims, uplims, xlolims, xuplims, errorevery, capthick, data, **kwargs)\u001B[39m\n\u001B[32m   3261\u001B[39m \u001B[38;5;129m@_copy_docstring_and_deprecators\u001B[39m(Axes.errorbar)\n\u001B[32m   3262\u001B[39m \u001B[38;5;28;01mdef\u001B[39;00m\u001B[38;5;250m \u001B[39m\u001B[34merrorbar\u001B[39m(\n\u001B[32m   3263\u001B[39m     x: \u001B[38;5;28mfloat\u001B[39m | ArrayLike,\n\u001B[32m   (...)\u001B[39m\u001B[32m   3280\u001B[39m     **kwargs,\n\u001B[32m   3281\u001B[39m ) -> ErrorbarContainer:\n\u001B[32m-> \u001B[39m\u001B[32m3282\u001B[39m     \u001B[38;5;28;01mreturn\u001B[39;00m \u001B[43mgca\u001B[49m\u001B[43m(\u001B[49m\u001B[43m)\u001B[49m\u001B[43m.\u001B[49m\u001B[43merrorbar\u001B[49m\u001B[43m(\u001B[49m\n\u001B[32m   3283\u001B[39m \u001B[43m        \u001B[49m\u001B[43mx\u001B[49m\u001B[43m,\u001B[49m\n\u001B[32m   3284\u001B[39m \u001B[43m        \u001B[49m\u001B[43my\u001B[49m\u001B[43m,\u001B[49m\n\u001B[32m   3285\u001B[39m \u001B[43m        \u001B[49m\u001B[43myerr\u001B[49m\u001B[43m=\u001B[49m\u001B[43myerr\u001B[49m\u001B[43m,\u001B[49m\n\u001B[32m   3286\u001B[39m \u001B[43m        \u001B[49m\u001B[43mxerr\u001B[49m\u001B[43m=\u001B[49m\u001B[43mxerr\u001B[49m\u001B[43m,\u001B[49m\n\u001B[32m   3287\u001B[39m \u001B[43m        \u001B[49m\u001B[43mfmt\u001B[49m\u001B[43m=\u001B[49m\u001B[43mfmt\u001B[49m\u001B[43m,\u001B[49m\n\u001B[32m   3288\u001B[39m \u001B[43m        \u001B[49m\u001B[43mecolor\u001B[49m\u001B[43m=\u001B[49m\u001B[43mecolor\u001B[49m\u001B[43m,\u001B[49m\n\u001B[32m   3289\u001B[39m \u001B[43m        \u001B[49m\u001B[43melinewidth\u001B[49m\u001B[43m=\u001B[49m\u001B[43melinewidth\u001B[49m\u001B[43m,\u001B[49m\n\u001B[32m   3290\u001B[39m \u001B[43m        \u001B[49m\u001B[43mcapsize\u001B[49m\u001B[43m=\u001B[49m\u001B[43mcapsize\u001B[49m\u001B[43m,\u001B[49m\n\u001B[32m   3291\u001B[39m \u001B[43m        \u001B[49m\u001B[43mbarsabove\u001B[49m\u001B[43m=\u001B[49m\u001B[43mbarsabove\u001B[49m\u001B[43m,\u001B[49m\n\u001B[32m   3292\u001B[39m \u001B[43m        \u001B[49m\u001B[43mlolims\u001B[49m\u001B[43m=\u001B[49m\u001B[43mlolims\u001B[49m\u001B[43m,\u001B[49m\n\u001B[32m   3293\u001B[39m \u001B[43m        \u001B[49m\u001B[43muplims\u001B[49m\u001B[43m=\u001B[49m\u001B[43muplims\u001B[49m\u001B[43m,\u001B[49m\n\u001B[32m   3294\u001B[39m \u001B[43m        \u001B[49m\u001B[43mxlolims\u001B[49m\u001B[43m=\u001B[49m\u001B[43mxlolims\u001B[49m\u001B[43m,\u001B[49m\n\u001B[32m   3295\u001B[39m \u001B[43m        \u001B[49m\u001B[43mxuplims\u001B[49m\u001B[43m=\u001B[49m\u001B[43mxuplims\u001B[49m\u001B[43m,\u001B[49m\n\u001B[32m   3296\u001B[39m \u001B[43m        \u001B[49m\u001B[43merrorevery\u001B[49m\u001B[43m=\u001B[49m\u001B[43merrorevery\u001B[49m\u001B[43m,\u001B[49m\n\u001B[32m   3297\u001B[39m \u001B[43m        \u001B[49m\u001B[43mcapthick\u001B[49m\u001B[43m=\u001B[49m\u001B[43mcapthick\u001B[49m\u001B[43m,\u001B[49m\n\u001B[32m   3298\u001B[39m \u001B[43m        \u001B[49m\u001B[43m*\u001B[49m\u001B[43m*\u001B[49m\u001B[43m(\u001B[49m\u001B[43m{\u001B[49m\u001B[33;43m\"\u001B[39;49m\u001B[33;43mdata\u001B[39;49m\u001B[33;43m\"\u001B[39;49m\u001B[43m:\u001B[49m\u001B[43m \u001B[49m\u001B[43mdata\u001B[49m\u001B[43m}\u001B[49m\u001B[43m \u001B[49m\u001B[38;5;28;43;01mif\u001B[39;49;00m\u001B[43m \u001B[49m\u001B[43mdata\u001B[49m\u001B[43m \u001B[49m\u001B[38;5;129;43;01mis\u001B[39;49;00m\u001B[43m \u001B[49m\u001B[38;5;129;43;01mnot\u001B[39;49;00m\u001B[43m \u001B[49m\u001B[38;5;28;43;01mNone\u001B[39;49;00m\u001B[43m \u001B[49m\u001B[38;5;28;43;01melse\u001B[39;49;00m\u001B[43m \u001B[49m\u001B[43m{\u001B[49m\u001B[43m}\u001B[49m\u001B[43m)\u001B[49m\u001B[43m,\u001B[49m\n\u001B[32m   3299\u001B[39m \u001B[43m        \u001B[49m\u001B[43m*\u001B[49m\u001B[43m*\u001B[49m\u001B[43mkwargs\u001B[49m\u001B[43m,\u001B[49m\n\u001B[32m   3300\u001B[39m \u001B[43m    \u001B[49m\u001B[43m)\u001B[49m\n",
      "\u001B[36mFile \u001B[39m\u001B[32m~/Documents/Teaching/PhysicsLabs/venv/lib/python3.12/site-packages/matplotlib/_api/deprecation.py:453\u001B[39m, in \u001B[36mmake_keyword_only.<locals>.wrapper\u001B[39m\u001B[34m(*args, **kwargs)\u001B[39m\n\u001B[32m    447\u001B[39m \u001B[38;5;28;01mif\u001B[39;00m \u001B[38;5;28mlen\u001B[39m(args) > name_idx:\n\u001B[32m    448\u001B[39m     warn_deprecated(\n\u001B[32m    449\u001B[39m         since, message=\u001B[33m\"\u001B[39m\u001B[33mPassing the \u001B[39m\u001B[38;5;132;01m%(name)s\u001B[39;00m\u001B[33m \u001B[39m\u001B[38;5;132;01m%(obj_type)s\u001B[39;00m\u001B[33m \u001B[39m\u001B[33m\"\u001B[39m\n\u001B[32m    450\u001B[39m         \u001B[33m\"\u001B[39m\u001B[33mpositionally is deprecated since Matplotlib \u001B[39m\u001B[38;5;132;01m%(since)s\u001B[39;00m\u001B[33m; the \u001B[39m\u001B[33m\"\u001B[39m\n\u001B[32m    451\u001B[39m         \u001B[33m\"\u001B[39m\u001B[33mparameter will become keyword-only in \u001B[39m\u001B[38;5;132;01m%(removal)s\u001B[39;00m\u001B[33m.\u001B[39m\u001B[33m\"\u001B[39m,\n\u001B[32m    452\u001B[39m         name=name, obj_type=\u001B[33mf\u001B[39m\u001B[33m\"\u001B[39m\u001B[33mparameter of \u001B[39m\u001B[38;5;132;01m{\u001B[39;00mfunc.\u001B[34m__name__\u001B[39m\u001B[38;5;132;01m}\u001B[39;00m\u001B[33m()\u001B[39m\u001B[33m\"\u001B[39m)\n\u001B[32m--> \u001B[39m\u001B[32m453\u001B[39m \u001B[38;5;28;01mreturn\u001B[39;00m \u001B[43mfunc\u001B[49m\u001B[43m(\u001B[49m\u001B[43m*\u001B[49m\u001B[43margs\u001B[49m\u001B[43m,\u001B[49m\u001B[43m \u001B[49m\u001B[43m*\u001B[49m\u001B[43m*\u001B[49m\u001B[43mkwargs\u001B[49m\u001B[43m)\u001B[49m\n",
      "\u001B[36mFile \u001B[39m\u001B[32m~/Documents/Teaching/PhysicsLabs/venv/lib/python3.12/site-packages/matplotlib/__init__.py:1521\u001B[39m, in \u001B[36m_preprocess_data.<locals>.inner\u001B[39m\u001B[34m(ax, data, *args, **kwargs)\u001B[39m\n\u001B[32m   1518\u001B[39m \u001B[38;5;129m@functools\u001B[39m.wraps(func)\n\u001B[32m   1519\u001B[39m \u001B[38;5;28;01mdef\u001B[39;00m\u001B[38;5;250m \u001B[39m\u001B[34minner\u001B[39m(ax, *args, data=\u001B[38;5;28;01mNone\u001B[39;00m, **kwargs):\n\u001B[32m   1520\u001B[39m     \u001B[38;5;28;01mif\u001B[39;00m data \u001B[38;5;129;01mis\u001B[39;00m \u001B[38;5;28;01mNone\u001B[39;00m:\n\u001B[32m-> \u001B[39m\u001B[32m1521\u001B[39m         \u001B[38;5;28;01mreturn\u001B[39;00m \u001B[43mfunc\u001B[49m\u001B[43m(\u001B[49m\n\u001B[32m   1522\u001B[39m \u001B[43m            \u001B[49m\u001B[43max\u001B[49m\u001B[43m,\u001B[49m\n\u001B[32m   1523\u001B[39m \u001B[43m            \u001B[49m\u001B[43m*\u001B[49m\u001B[38;5;28;43mmap\u001B[39;49m\u001B[43m(\u001B[49m\u001B[43mcbook\u001B[49m\u001B[43m.\u001B[49m\u001B[43msanitize_sequence\u001B[49m\u001B[43m,\u001B[49m\u001B[43m \u001B[49m\u001B[43margs\u001B[49m\u001B[43m)\u001B[49m\u001B[43m,\u001B[49m\n\u001B[32m   1524\u001B[39m \u001B[43m            \u001B[49m\u001B[43m*\u001B[49m\u001B[43m*\u001B[49m\u001B[43m{\u001B[49m\u001B[43mk\u001B[49m\u001B[43m:\u001B[49m\u001B[43m \u001B[49m\u001B[43mcbook\u001B[49m\u001B[43m.\u001B[49m\u001B[43msanitize_sequence\u001B[49m\u001B[43m(\u001B[49m\u001B[43mv\u001B[49m\u001B[43m)\u001B[49m\u001B[43m \u001B[49m\u001B[38;5;28;43;01mfor\u001B[39;49;00m\u001B[43m \u001B[49m\u001B[43mk\u001B[49m\u001B[43m,\u001B[49m\u001B[43m \u001B[49m\u001B[43mv\u001B[49m\u001B[43m \u001B[49m\u001B[38;5;129;43;01min\u001B[39;49;00m\u001B[43m \u001B[49m\u001B[43mkwargs\u001B[49m\u001B[43m.\u001B[49m\u001B[43mitems\u001B[49m\u001B[43m(\u001B[49m\u001B[43m)\u001B[49m\u001B[43m}\u001B[49m\u001B[43m)\u001B[49m\n\u001B[32m   1526\u001B[39m     bound = new_sig.bind(ax, *args, **kwargs)\n\u001B[32m   1527\u001B[39m     auto_label = (bound.arguments.get(label_namer)\n\u001B[32m   1528\u001B[39m                   \u001B[38;5;129;01mor\u001B[39;00m bound.kwargs.get(label_namer))\n",
      "\u001B[36mFile \u001B[39m\u001B[32m~/Documents/Teaching/PhysicsLabs/venv/lib/python3.12/site-packages/matplotlib/axes/_axes.py:3828\u001B[39m, in \u001B[36mAxes.errorbar\u001B[39m\u001B[34m(self, x, y, yerr, xerr, fmt, ecolor, elinewidth, capsize, barsabove, lolims, uplims, xlolims, xuplims, errorevery, capthick, **kwargs)\u001B[39m\n\u001B[32m   3822\u001B[39m     \u001B[38;5;28;01mraise\u001B[39;00m \u001B[38;5;167;01mValueError\u001B[39;00m(\n\u001B[32m   3823\u001B[39m         \u001B[33mf\u001B[39m\u001B[33m\"\u001B[39m\u001B[33m'\u001B[39m\u001B[38;5;132;01m{\u001B[39;00mdep_axis\u001B[38;5;132;01m}\u001B[39;00m\u001B[33merr\u001B[39m\u001B[33m'\u001B[39m\u001B[33m must not contain negative values\u001B[39m\u001B[33m\"\u001B[39m)\n\u001B[32m   3824\u001B[39m \u001B[38;5;66;03m# This is like\u001B[39;00m\n\u001B[32m   3825\u001B[39m \u001B[38;5;66;03m#     elow, ehigh = np.broadcast_to(...)\u001B[39;00m\n\u001B[32m   3826\u001B[39m \u001B[38;5;66;03m#     return dep - elow * ~lolims, dep + ehigh * ~uplims\u001B[39;00m\n\u001B[32m   3827\u001B[39m \u001B[38;5;66;03m# except that broadcast_to would strip units.\u001B[39;00m\n\u001B[32m-> \u001B[39m\u001B[32m3828\u001B[39m low, high = \u001B[43mdep\u001B[49m\u001B[43m \u001B[49m\u001B[43m+\u001B[49m\u001B[43m \u001B[49m\u001B[43mnp\u001B[49m\u001B[43m.\u001B[49m\u001B[43mvstack\u001B[49m\u001B[43m(\u001B[49m\u001B[43m[\u001B[49m\u001B[43m-\u001B[49m\u001B[43m(\u001B[49m\u001B[32;43m1\u001B[39;49m\u001B[43m \u001B[49m\u001B[43m-\u001B[49m\u001B[43m \u001B[49m\u001B[43mlolims\u001B[49m\u001B[43m)\u001B[49m\u001B[43m,\u001B[49m\u001B[43m \u001B[49m\u001B[32;43m1\u001B[39;49m\u001B[43m \u001B[49m\u001B[43m-\u001B[49m\u001B[43m \u001B[49m\u001B[43muplims\u001B[49m\u001B[43m]\u001B[49m\u001B[43m)\u001B[49m\u001B[43m \u001B[49m\u001B[43m*\u001B[49m\u001B[43m \u001B[49m\u001B[43merr\u001B[49m\n\u001B[32m   3829\u001B[39m barcols.append(lines_func(\n\u001B[32m   3830\u001B[39m     *apply_mask([indep, low, high], everymask), **eb_lines_style))\n\u001B[32m   3831\u001B[39m \u001B[38;5;28;01mif\u001B[39;00m \u001B[38;5;28mself\u001B[39m.name == \u001B[33m\"\u001B[39m\u001B[33mpolar\u001B[39m\u001B[33m\"\u001B[39m \u001B[38;5;129;01mand\u001B[39;00m dep_axis == \u001B[33m\"\u001B[39m\u001B[33mx\u001B[39m\u001B[33m\"\u001B[39m:\n",
      "\u001B[31mValueError\u001B[39m: operands could not be broadcast together with shapes (60,1) (2,60) "
     ]
    },
    {
     "data": {
      "text/plain": [
       "<Figure size 700x500 with 1 Axes>"
      ],
      "image/png": "[encoded data removed]"
     },
     "metadata": {},
     "output_type": "display_data"
    }
   ],
   "execution_count": 5
  },
  {
   "cell_type": "markdown",
   "metadata": {},
   "source": [
    "# Results and Conclusions¶\n",
    "- Why does the time between peaks in the saw-tooth pattern increase? Will this affect your results?\n",
    "- Compare the slope of the Position vs. Time graph to the average value of the velocities in the velocity vs. time graph. Do the two numbers overlap if you include your uncertainties?"
   ]
  },
  {
   "cell_type": "code",
   "metadata": {
    "ExecuteTime": {
     "end_time": "2025-06-20T19:06:34.912596Z",
     "start_time": "2025-06-20T19:06:34.886255Z"
    }
   },
   "source": [
    "# Comparision of Measured Velocities - Unacclerated Motion\n",
    "\n",
    "print()\n",
    "print (\"Velocity, from x vs. t graph = \",slope,\" +/- \",dslope,\"m/s\")\n",
    "\n",
    "print()\n",
    "print (\"Velocity, from v vs. t graph = \",intercept2,\" +/- \",dintercept2,\"m/s\")\n",
    "\n",
    "print()\n",
    "print()\n",
    "\n",
    "x = ['x vs. t','v vs. t']\n",
    "dx = ['','','','']\n",
    "y = np.array([slope,intercept2])\n",
    "dy = np.array([dslope,dintercept2])\n",
    "\n",
    "fig=plt.figure(figsize=(7,5), dpi= 100, facecolor='w', edgecolor='k')\n",
    "\n",
    "plt.errorbar(x,y,dy,fmt='o')\n",
    "plt.ylabel('Velocity (m/s)')\n",
    "plt.title('Comparision of Measured Velocities - Unacclerated Motion')"
   ],
   "outputs": [
    {
     "name": "stdout",
     "output_type": "stream",
     "text": [
      "\n"
     ]
    },
    {
     "ename": "NameError",
     "evalue": "name 'slope' is not defined",
     "output_type": "error",
     "traceback": [
      "\u001B[31m---------------------------------------------------------------------------\u001B[39m",
      "\u001B[31mNameError\u001B[39m                                 Traceback (most recent call last)",
      "\u001B[36mCell\u001B[39m\u001B[36m \u001B[39m\u001B[32mIn[6]\u001B[39m\u001B[32m, line 4\u001B[39m\n\u001B[32m      1\u001B[39m \u001B[38;5;66;03m# Comparision of Measured Velocities - Unacclerated Motion\u001B[39;00m\n\u001B[32m      3\u001B[39m \u001B[38;5;28mprint\u001B[39m()\n\u001B[32m----> \u001B[39m\u001B[32m4\u001B[39m \u001B[38;5;28mprint\u001B[39m (\u001B[33m\"\u001B[39m\u001B[33mVelocity, from x vs. t graph = \u001B[39m\u001B[33m\"\u001B[39m,\u001B[43mslope\u001B[49m,\u001B[33m\"\u001B[39m\u001B[33m +/- \u001B[39m\u001B[33m\"\u001B[39m,dslope,\u001B[33m\"\u001B[39m\u001B[33mm/s\u001B[39m\u001B[33m\"\u001B[39m)\n\u001B[32m      6\u001B[39m \u001B[38;5;28mprint\u001B[39m()\n\u001B[32m      7\u001B[39m \u001B[38;5;28mprint\u001B[39m (\u001B[33m\"\u001B[39m\u001B[33mVelocity, from v vs. t graph = \u001B[39m\u001B[33m\"\u001B[39m,intercept2,\u001B[33m\"\u001B[39m\u001B[33m +/- \u001B[39m\u001B[33m\"\u001B[39m,dintercept2,\u001B[33m\"\u001B[39m\u001B[33mm/s\u001B[39m\u001B[33m\"\u001B[39m)\n",
      "\u001B[31mNameError\u001B[39m: name 'slope' is not defined"
     ]
    }
   ],
   "execution_count": 6
  },
  {
   "cell_type": "markdown",
   "metadata": {},
   "source": [
    "***"
   ]
  },
  {
   "cell_type": "markdown",
   "metadata": {
    "id": "99tjbjMVbwgI"
   },
   "source": [
    "## Accelerated Motion\n",
    "Now that you’ve gotten some data to investigate unaccelerated motion, you need to collect data on accelerated motion. To do this, you will need to allow gravity to provide the acceleration by tilting the track.  \n",
    "\n",
    "1. Measure the distance between the supports on the airtrack. This will be your base length.\n",
    "2. Measure the thickness of a 2x4 “shim.” This will be your height change.\n",
    "3. Place the 2x4 “shim” under the foot nearest the acoustic sensor.\n",
    "4. You will need to re-align the acoustic sensor using the methods described earlier.\n",
    "5. Re-measure the uncertainty in position at the end of the track furthest from the sensor and try to reduce that uncertainty below 1 mm. Record this uncertainty in your Data Sheet.\n",
    "\n",
    "When you are ready to take data:\n",
    "\n",
    "1. Remove everything except one graph from the data area and make sure the y-axis is set to “Acceleration ($m / s^2$).”\n",
    "2. Turn on the air, remove the paper, and allow the cart to slide down the airtrack and bounce off the far bumper.\n",
    "3. **START** taking data ***immediately after*** the cart strikes the bumper.\n",
    "4. **STOP** taking data ***just before*** the cart strikes the bumper again.\n",
    "5. Turn off the air.\n",
    "6. Rename this data set as “Tilted Airtrack”, and export the data as Lab2_Inclined_Airtrack.csv"
   ]
  },
  {
   "cell_type": "markdown",
   "metadata": {},
   "source": [
    "***\n",
    "***FIX INSTRUCTIONS REGARDING PRINTING TO HOW TO SAVE AND EXPORT AS A CSV FILE AND PUT IT INTO JUPYTERLAB***\n",
    "***"
   ]
  },
  {
   "cell_type": "markdown",
   "metadata": {
    "id": "99tjbjMVbwgI"
   },
   "source": [
    "This time, let’s allow the Capstone software to analyze our data:\n",
    "\n",
    "1. Click the arrow beside the summation symbol ($\\Sigma$) and make sure that “Mean” and “Standard Deviation” are selected. Then click the summation symbol ($\\Sigma$).\n",
    "2. Move the legend so that it does not obscure the data points.\n",
    "3. Type in an appropriate title and print this graph in Landscape Mode.\n",
    "4. Click the summation symbol ($\\Sigma$) again to remove the fit.\n",
    "5. Click the axis button labeled “Acceleration ($m / s^2$)” and select “Velocity (m/s)”\n",
    "6. Click the arrow next to to the “Fit” button and select “Linear.” Then click the “Fit” button.\n",
    "7. Move the legend and linear fit windows so that they do not obscure the data points.\n",
    "8. Type in an appropriate title and print this graph in Landscape Mode.\n",
    "9. Click the “Fit” button to remove the fit.\n",
    "10. Click the axis button labeled “Velocity (m/s)” and select “Position (m).”\n",
    "11. Click the arrow next to to the “Fit” button, unselect “Linear” and select “Quadratic.” Then click the “Fit” button.\n",
    "12. Move the legend and quadratic fit windows so that they do not obscure the data points.\n",
    "13. Type in an appropriate title and print this graph in Landscape Mode.  "
   ]
  },
  {
   "cell_type": "code",
   "metadata": {
    "id": "0_2q_sz-bwgJ",
    "outputId": "ef4e9f58-8113-4ede-c223-f23abf09805f",
    "ExecuteTime": {
     "end_time": "2025-06-20T19:06:50.861063Z",
     "start_time": "2025-06-20T19:06:50.724747Z"
    }
   },
   "source": [
    "# Acceleration vs Time Graph (Tilted Airtrack)\n",
    "\n",
    "# Reads the name of the csv file and gets the data\n",
    "df = pd.read_csv(\"./Lab2_Inclined_Airtrack.csv\")\n",
    "\n",
    "# Prints information about the file\n",
    "df.info()\n",
    "df = df.dropna()\n",
    "\n",
    "print(\"\")\n",
    "\n",
    "# Defines the x and y values\n",
    "time = df.filter(['Time (s) Run #1'], axis=1).dropna()\n",
    "position = df.filter(['Acceleration (m/s²) Run #1'], axis=1).dropna()\n",
    "\n",
    "Delta_a = [delta_Delta_x/(Delta_t**2) for i in range(len(time))]\n",
    "\n",
    "fig=plt.figure(figsize=(7,5), dpi= 100, facecolor='w', edgecolor='k')\n",
    "\n",
    "# Gets the data values for x and y\n",
    "x_data = time.values.reshape(-1, 1)\n",
    "y_data = position.values.reshape(-1, 1)\n",
    "xi = df['Time (s) Run #1'].to_numpy()\n",
    "yi = df['Acceleration (m/s²) Run #1'].to_numpy()\n",
    "\n",
    "# Creates the base plot with titles\n",
    "plt.errorbar(x_data,y_data,Delta_a,Delta_t,'b.',label='Raw Data')\n",
    "plt.ylabel('Acceleration (m/s²)')\n",
    "plt.xlabel('Time (s)')\n",
    "plt.title('Acceleration vs. Time')\n",
    "\n",
    "# Takes the x and y values to make a trendline\n",
    "intercept1, slope1, dintercept1, dslope1 = linear_fit_plot_errors(xi,yi,Delta_a,plt,0.8,3.6)\n",
    "# Adds the legend to the plot\n",
    "plt.legend()\n",
    "\n",
    "# Displays the plot\n",
    "plt.show()\n",
    "\n",
    "print(\"\")"
   ],
   "outputs": [
    {
     "name": "stdout",
     "output_type": "stream",
     "text": [
      "<class 'pandas.core.frame.DataFrame'>\n",
      "RangeIndex: 92 entries, 0 to 91\n",
      "Data columns (total 4 columns):\n",
      " #   Column                      Non-Null Count  Dtype  \n",
      "---  ------                      --------------  -----  \n",
      " 0   Time (s) Run #1             92 non-null     float64\n",
      " 1   Position (m) Run #1         92 non-null     float64\n",
      " 2   Velocity (m/s) Run #1       90 non-null     float64\n",
      " 3   Acceleration (m/s²) Run #1  87 non-null     float64\n",
      "dtypes: float64(4)\n",
      "memory usage: 3.0 KB\n",
      "\n"
     ]
    },
    {
     "ename": "ValueError",
     "evalue": "operands could not be broadcast together with shapes (87,1) (2,87) ",
     "output_type": "error",
     "traceback": [
      "\u001B[31m---------------------------------------------------------------------------\u001B[39m",
      "\u001B[31mValueError\u001B[39m                                Traceback (most recent call last)",
      "\u001B[36mCell\u001B[39m\u001B[36m \u001B[39m\u001B[32mIn[7]\u001B[39m\u001B[32m, line 27\u001B[39m\n\u001B[32m     24\u001B[39m yi = df[\u001B[33m'\u001B[39m\u001B[33mAcceleration (m/s²) Run #1\u001B[39m\u001B[33m'\u001B[39m].to_numpy()\n\u001B[32m     26\u001B[39m \u001B[38;5;66;03m# Creates the base plot with titles\u001B[39;00m\n\u001B[32m---> \u001B[39m\u001B[32m27\u001B[39m \u001B[43mplt\u001B[49m\u001B[43m.\u001B[49m\u001B[43merrorbar\u001B[49m\u001B[43m(\u001B[49m\u001B[43mx_data\u001B[49m\u001B[43m,\u001B[49m\u001B[43my_data\u001B[49m\u001B[43m,\u001B[49m\u001B[43mDelta_a\u001B[49m\u001B[43m,\u001B[49m\u001B[43mDelta_t\u001B[49m\u001B[43m,\u001B[49m\u001B[33;43m'\u001B[39;49m\u001B[33;43mb.\u001B[39;49m\u001B[33;43m'\u001B[39;49m\u001B[43m,\u001B[49m\u001B[43mlabel\u001B[49m\u001B[43m=\u001B[49m\u001B[33;43m'\u001B[39;49m\u001B[33;43mRaw Data\u001B[39;49m\u001B[33;43m'\u001B[39;49m\u001B[43m)\u001B[49m\n\u001B[32m     28\u001B[39m plt.ylabel(\u001B[33m'\u001B[39m\u001B[33mAcceleration (m/s²)\u001B[39m\u001B[33m'\u001B[39m)\n\u001B[32m     29\u001B[39m plt.xlabel(\u001B[33m'\u001B[39m\u001B[33mTime (s)\u001B[39m\u001B[33m'\u001B[39m)\n",
      "\u001B[36mFile \u001B[39m\u001B[32m~/Documents/Teaching/PhysicsLabs/venv/lib/python3.12/site-packages/matplotlib/_api/deprecation.py:453\u001B[39m, in \u001B[36mmake_keyword_only.<locals>.wrapper\u001B[39m\u001B[34m(*args, **kwargs)\u001B[39m\n\u001B[32m    447\u001B[39m \u001B[38;5;28;01mif\u001B[39;00m \u001B[38;5;28mlen\u001B[39m(args) > name_idx:\n\u001B[32m    448\u001B[39m     warn_deprecated(\n\u001B[32m    449\u001B[39m         since, message=\u001B[33m\"\u001B[39m\u001B[33mPassing the \u001B[39m\u001B[38;5;132;01m%(name)s\u001B[39;00m\u001B[33m \u001B[39m\u001B[38;5;132;01m%(obj_type)s\u001B[39;00m\u001B[33m \u001B[39m\u001B[33m\"\u001B[39m\n\u001B[32m    450\u001B[39m         \u001B[33m\"\u001B[39m\u001B[33mpositionally is deprecated since Matplotlib \u001B[39m\u001B[38;5;132;01m%(since)s\u001B[39;00m\u001B[33m; the \u001B[39m\u001B[33m\"\u001B[39m\n\u001B[32m    451\u001B[39m         \u001B[33m\"\u001B[39m\u001B[33mparameter will become keyword-only in \u001B[39m\u001B[38;5;132;01m%(removal)s\u001B[39;00m\u001B[33m.\u001B[39m\u001B[33m\"\u001B[39m,\n\u001B[32m    452\u001B[39m         name=name, obj_type=\u001B[33mf\u001B[39m\u001B[33m\"\u001B[39m\u001B[33mparameter of \u001B[39m\u001B[38;5;132;01m{\u001B[39;00mfunc.\u001B[34m__name__\u001B[39m\u001B[38;5;132;01m}\u001B[39;00m\u001B[33m()\u001B[39m\u001B[33m\"\u001B[39m)\n\u001B[32m--> \u001B[39m\u001B[32m453\u001B[39m \u001B[38;5;28;01mreturn\u001B[39;00m \u001B[43mfunc\u001B[49m\u001B[43m(\u001B[49m\u001B[43m*\u001B[49m\u001B[43margs\u001B[49m\u001B[43m,\u001B[49m\u001B[43m \u001B[49m\u001B[43m*\u001B[49m\u001B[43m*\u001B[49m\u001B[43mkwargs\u001B[49m\u001B[43m)\u001B[49m\n",
      "\u001B[36mFile \u001B[39m\u001B[32m~/Documents/Teaching/PhysicsLabs/venv/lib/python3.12/site-packages/matplotlib/pyplot.py:3282\u001B[39m, in \u001B[36merrorbar\u001B[39m\u001B[34m(x, y, yerr, xerr, fmt, ecolor, elinewidth, capsize, barsabove, lolims, uplims, xlolims, xuplims, errorevery, capthick, data, **kwargs)\u001B[39m\n\u001B[32m   3261\u001B[39m \u001B[38;5;129m@_copy_docstring_and_deprecators\u001B[39m(Axes.errorbar)\n\u001B[32m   3262\u001B[39m \u001B[38;5;28;01mdef\u001B[39;00m\u001B[38;5;250m \u001B[39m\u001B[34merrorbar\u001B[39m(\n\u001B[32m   3263\u001B[39m     x: \u001B[38;5;28mfloat\u001B[39m | ArrayLike,\n\u001B[32m   (...)\u001B[39m\u001B[32m   3280\u001B[39m     **kwargs,\n\u001B[32m   3281\u001B[39m ) -> ErrorbarContainer:\n\u001B[32m-> \u001B[39m\u001B[32m3282\u001B[39m     \u001B[38;5;28;01mreturn\u001B[39;00m \u001B[43mgca\u001B[49m\u001B[43m(\u001B[49m\u001B[43m)\u001B[49m\u001B[43m.\u001B[49m\u001B[43merrorbar\u001B[49m\u001B[43m(\u001B[49m\n\u001B[32m   3283\u001B[39m \u001B[43m        \u001B[49m\u001B[43mx\u001B[49m\u001B[43m,\u001B[49m\n\u001B[32m   3284\u001B[39m \u001B[43m        \u001B[49m\u001B[43my\u001B[49m\u001B[43m,\u001B[49m\n\u001B[32m   3285\u001B[39m \u001B[43m        \u001B[49m\u001B[43myerr\u001B[49m\u001B[43m=\u001B[49m\u001B[43myerr\u001B[49m\u001B[43m,\u001B[49m\n\u001B[32m   3286\u001B[39m \u001B[43m        \u001B[49m\u001B[43mxerr\u001B[49m\u001B[43m=\u001B[49m\u001B[43mxerr\u001B[49m\u001B[43m,\u001B[49m\n\u001B[32m   3287\u001B[39m \u001B[43m        \u001B[49m\u001B[43mfmt\u001B[49m\u001B[43m=\u001B[49m\u001B[43mfmt\u001B[49m\u001B[43m,\u001B[49m\n\u001B[32m   3288\u001B[39m \u001B[43m        \u001B[49m\u001B[43mecolor\u001B[49m\u001B[43m=\u001B[49m\u001B[43mecolor\u001B[49m\u001B[43m,\u001B[49m\n\u001B[32m   3289\u001B[39m \u001B[43m        \u001B[49m\u001B[43melinewidth\u001B[49m\u001B[43m=\u001B[49m\u001B[43melinewidth\u001B[49m\u001B[43m,\u001B[49m\n\u001B[32m   3290\u001B[39m \u001B[43m        \u001B[49m\u001B[43mcapsize\u001B[49m\u001B[43m=\u001B[49m\u001B[43mcapsize\u001B[49m\u001B[43m,\u001B[49m\n\u001B[32m   3291\u001B[39m \u001B[43m        \u001B[49m\u001B[43mbarsabove\u001B[49m\u001B[43m=\u001B[49m\u001B[43mbarsabove\u001B[49m\u001B[43m,\u001B[49m\n\u001B[32m   3292\u001B[39m \u001B[43m        \u001B[49m\u001B[43mlolims\u001B[49m\u001B[43m=\u001B[49m\u001B[43mlolims\u001B[49m\u001B[43m,\u001B[49m\n\u001B[32m   3293\u001B[39m \u001B[43m        \u001B[49m\u001B[43muplims\u001B[49m\u001B[43m=\u001B[49m\u001B[43muplims\u001B[49m\u001B[43m,\u001B[49m\n\u001B[32m   3294\u001B[39m \u001B[43m        \u001B[49m\u001B[43mxlolims\u001B[49m\u001B[43m=\u001B[49m\u001B[43mxlolims\u001B[49m\u001B[43m,\u001B[49m\n\u001B[32m   3295\u001B[39m \u001B[43m        \u001B[49m\u001B[43mxuplims\u001B[49m\u001B[43m=\u001B[49m\u001B[43mxuplims\u001B[49m\u001B[43m,\u001B[49m\n\u001B[32m   3296\u001B[39m \u001B[43m        \u001B[49m\u001B[43merrorevery\u001B[49m\u001B[43m=\u001B[49m\u001B[43merrorevery\u001B[49m\u001B[43m,\u001B[49m\n\u001B[32m   3297\u001B[39m \u001B[43m        \u001B[49m\u001B[43mcapthick\u001B[49m\u001B[43m=\u001B[49m\u001B[43mcapthick\u001B[49m\u001B[43m,\u001B[49m\n\u001B[32m   3298\u001B[39m \u001B[43m        \u001B[49m\u001B[43m*\u001B[49m\u001B[43m*\u001B[49m\u001B[43m(\u001B[49m\u001B[43m{\u001B[49m\u001B[33;43m\"\u001B[39;49m\u001B[33;43mdata\u001B[39;49m\u001B[33;43m\"\u001B[39;49m\u001B[43m:\u001B[49m\u001B[43m \u001B[49m\u001B[43mdata\u001B[49m\u001B[43m}\u001B[49m\u001B[43m \u001B[49m\u001B[38;5;28;43;01mif\u001B[39;49;00m\u001B[43m \u001B[49m\u001B[43mdata\u001B[49m\u001B[43m \u001B[49m\u001B[38;5;129;43;01mis\u001B[39;49;00m\u001B[43m \u001B[49m\u001B[38;5;129;43;01mnot\u001B[39;49;00m\u001B[43m \u001B[49m\u001B[38;5;28;43;01mNone\u001B[39;49;00m\u001B[43m \u001B[49m\u001B[38;5;28;43;01melse\u001B[39;49;00m\u001B[43m \u001B[49m\u001B[43m{\u001B[49m\u001B[43m}\u001B[49m\u001B[43m)\u001B[49m\u001B[43m,\u001B[49m\n\u001B[32m   3299\u001B[39m \u001B[43m        \u001B[49m\u001B[43m*\u001B[49m\u001B[43m*\u001B[49m\u001B[43mkwargs\u001B[49m\u001B[43m,\u001B[49m\n\u001B[32m   3300\u001B[39m \u001B[43m    \u001B[49m\u001B[43m)\u001B[49m\n",
      "\u001B[36mFile \u001B[39m\u001B[32m~/Documents/Teaching/PhysicsLabs/venv/lib/python3.12/site-packages/matplotlib/_api/deprecation.py:453\u001B[39m, in \u001B[36mmake_keyword_only.<locals>.wrapper\u001B[39m\u001B[34m(*args, **kwargs)\u001B[39m\n\u001B[32m    447\u001B[39m \u001B[38;5;28;01mif\u001B[39;00m \u001B[38;5;28mlen\u001B[39m(args) > name_idx:\n\u001B[32m    448\u001B[39m     warn_deprecated(\n\u001B[32m    449\u001B[39m         since, message=\u001B[33m\"\u001B[39m\u001B[33mPassing the \u001B[39m\u001B[38;5;132;01m%(name)s\u001B[39;00m\u001B[33m \u001B[39m\u001B[38;5;132;01m%(obj_type)s\u001B[39;00m\u001B[33m \u001B[39m\u001B[33m\"\u001B[39m\n\u001B[32m    450\u001B[39m         \u001B[33m\"\u001B[39m\u001B[33mpositionally is deprecated since Matplotlib \u001B[39m\u001B[38;5;132;01m%(since)s\u001B[39;00m\u001B[33m; the \u001B[39m\u001B[33m\"\u001B[39m\n\u001B[32m    451\u001B[39m         \u001B[33m\"\u001B[39m\u001B[33mparameter will become keyword-only in \u001B[39m\u001B[38;5;132;01m%(removal)s\u001B[39;00m\u001B[33m.\u001B[39m\u001B[33m\"\u001B[39m,\n\u001B[32m    452\u001B[39m         name=name, obj_type=\u001B[33mf\u001B[39m\u001B[33m\"\u001B[39m\u001B[33mparameter of \u001B[39m\u001B[38;5;132;01m{\u001B[39;00mfunc.\u001B[34m__name__\u001B[39m\u001B[38;5;132;01m}\u001B[39;00m\u001B[33m()\u001B[39m\u001B[33m\"\u001B[39m)\n\u001B[32m--> \u001B[39m\u001B[32m453\u001B[39m \u001B[38;5;28;01mreturn\u001B[39;00m \u001B[43mfunc\u001B[49m\u001B[43m(\u001B[49m\u001B[43m*\u001B[49m\u001B[43margs\u001B[49m\u001B[43m,\u001B[49m\u001B[43m \u001B[49m\u001B[43m*\u001B[49m\u001B[43m*\u001B[49m\u001B[43mkwargs\u001B[49m\u001B[43m)\u001B[49m\n",
      "\u001B[36mFile \u001B[39m\u001B[32m~/Documents/Teaching/PhysicsLabs/venv/lib/python3.12/site-packages/matplotlib/__init__.py:1521\u001B[39m, in \u001B[36m_preprocess_data.<locals>.inner\u001B[39m\u001B[34m(ax, data, *args, **kwargs)\u001B[39m\n\u001B[32m   1518\u001B[39m \u001B[38;5;129m@functools\u001B[39m.wraps(func)\n\u001B[32m   1519\u001B[39m \u001B[38;5;28;01mdef\u001B[39;00m\u001B[38;5;250m \u001B[39m\u001B[34minner\u001B[39m(ax, *args, data=\u001B[38;5;28;01mNone\u001B[39;00m, **kwargs):\n\u001B[32m   1520\u001B[39m     \u001B[38;5;28;01mif\u001B[39;00m data \u001B[38;5;129;01mis\u001B[39;00m \u001B[38;5;28;01mNone\u001B[39;00m:\n\u001B[32m-> \u001B[39m\u001B[32m1521\u001B[39m         \u001B[38;5;28;01mreturn\u001B[39;00m \u001B[43mfunc\u001B[49m\u001B[43m(\u001B[49m\n\u001B[32m   1522\u001B[39m \u001B[43m            \u001B[49m\u001B[43max\u001B[49m\u001B[43m,\u001B[49m\n\u001B[32m   1523\u001B[39m \u001B[43m            \u001B[49m\u001B[43m*\u001B[49m\u001B[38;5;28;43mmap\u001B[39;49m\u001B[43m(\u001B[49m\u001B[43mcbook\u001B[49m\u001B[43m.\u001B[49m\u001B[43msanitize_sequence\u001B[49m\u001B[43m,\u001B[49m\u001B[43m \u001B[49m\u001B[43margs\u001B[49m\u001B[43m)\u001B[49m\u001B[43m,\u001B[49m\n\u001B[32m   1524\u001B[39m \u001B[43m            \u001B[49m\u001B[43m*\u001B[49m\u001B[43m*\u001B[49m\u001B[43m{\u001B[49m\u001B[43mk\u001B[49m\u001B[43m:\u001B[49m\u001B[43m \u001B[49m\u001B[43mcbook\u001B[49m\u001B[43m.\u001B[49m\u001B[43msanitize_sequence\u001B[49m\u001B[43m(\u001B[49m\u001B[43mv\u001B[49m\u001B[43m)\u001B[49m\u001B[43m \u001B[49m\u001B[38;5;28;43;01mfor\u001B[39;49;00m\u001B[43m \u001B[49m\u001B[43mk\u001B[49m\u001B[43m,\u001B[49m\u001B[43m \u001B[49m\u001B[43mv\u001B[49m\u001B[43m \u001B[49m\u001B[38;5;129;43;01min\u001B[39;49;00m\u001B[43m \u001B[49m\u001B[43mkwargs\u001B[49m\u001B[43m.\u001B[49m\u001B[43mitems\u001B[49m\u001B[43m(\u001B[49m\u001B[43m)\u001B[49m\u001B[43m}\u001B[49m\u001B[43m)\u001B[49m\n\u001B[32m   1526\u001B[39m     bound = new_sig.bind(ax, *args, **kwargs)\n\u001B[32m   1527\u001B[39m     auto_label = (bound.arguments.get(label_namer)\n\u001B[32m   1528\u001B[39m                   \u001B[38;5;129;01mor\u001B[39;00m bound.kwargs.get(label_namer))\n",
      "\u001B[36mFile \u001B[39m\u001B[32m~/Documents/Teaching/PhysicsLabs/venv/lib/python3.12/site-packages/matplotlib/axes/_axes.py:3828\u001B[39m, in \u001B[36mAxes.errorbar\u001B[39m\u001B[34m(self, x, y, yerr, xerr, fmt, ecolor, elinewidth, capsize, barsabove, lolims, uplims, xlolims, xuplims, errorevery, capthick, **kwargs)\u001B[39m\n\u001B[32m   3822\u001B[39m     \u001B[38;5;28;01mraise\u001B[39;00m \u001B[38;5;167;01mValueError\u001B[39;00m(\n\u001B[32m   3823\u001B[39m         \u001B[33mf\u001B[39m\u001B[33m\"\u001B[39m\u001B[33m'\u001B[39m\u001B[38;5;132;01m{\u001B[39;00mdep_axis\u001B[38;5;132;01m}\u001B[39;00m\u001B[33merr\u001B[39m\u001B[33m'\u001B[39m\u001B[33m must not contain negative values\u001B[39m\u001B[33m\"\u001B[39m)\n\u001B[32m   3824\u001B[39m \u001B[38;5;66;03m# This is like\u001B[39;00m\n\u001B[32m   3825\u001B[39m \u001B[38;5;66;03m#     elow, ehigh = np.broadcast_to(...)\u001B[39;00m\n\u001B[32m   3826\u001B[39m \u001B[38;5;66;03m#     return dep - elow * ~lolims, dep + ehigh * ~uplims\u001B[39;00m\n\u001B[32m   3827\u001B[39m \u001B[38;5;66;03m# except that broadcast_to would strip units.\u001B[39;00m\n\u001B[32m-> \u001B[39m\u001B[32m3828\u001B[39m low, high = \u001B[43mdep\u001B[49m\u001B[43m \u001B[49m\u001B[43m+\u001B[49m\u001B[43m \u001B[49m\u001B[43mnp\u001B[49m\u001B[43m.\u001B[49m\u001B[43mvstack\u001B[49m\u001B[43m(\u001B[49m\u001B[43m[\u001B[49m\u001B[43m-\u001B[49m\u001B[43m(\u001B[49m\u001B[32;43m1\u001B[39;49m\u001B[43m \u001B[49m\u001B[43m-\u001B[49m\u001B[43m \u001B[49m\u001B[43mlolims\u001B[49m\u001B[43m)\u001B[49m\u001B[43m,\u001B[49m\u001B[43m \u001B[49m\u001B[32;43m1\u001B[39;49m\u001B[43m \u001B[49m\u001B[43m-\u001B[49m\u001B[43m \u001B[49m\u001B[43muplims\u001B[49m\u001B[43m]\u001B[49m\u001B[43m)\u001B[49m\u001B[43m \u001B[49m\u001B[43m*\u001B[49m\u001B[43m \u001B[49m\u001B[43merr\u001B[49m\n\u001B[32m   3829\u001B[39m barcols.append(lines_func(\n\u001B[32m   3830\u001B[39m     *apply_mask([indep, low, high], everymask), **eb_lines_style))\n\u001B[32m   3831\u001B[39m \u001B[38;5;28;01mif\u001B[39;00m \u001B[38;5;28mself\u001B[39m.name == \u001B[33m\"\u001B[39m\u001B[33mpolar\u001B[39m\u001B[33m\"\u001B[39m \u001B[38;5;129;01mand\u001B[39;00m dep_axis == \u001B[33m\"\u001B[39m\u001B[33mx\u001B[39m\u001B[33m\"\u001B[39m:\n",
      "\u001B[31mValueError\u001B[39m: operands could not be broadcast together with shapes (87,1) (2,87) "
     ]
    },
    {
     "data": {
      "text/plain": [
       "<Figure size 700x500 with 1 Axes>"
      ],
      "image/png": "[encoded data removed]"
     },
     "metadata": {},
     "output_type": "display_data"
    }
   ],
   "execution_count": 7
  },
  {
   "cell_type": "code",
   "metadata": {
    "id": "fO88_6J9bwgJ",
    "outputId": "5001a1a6-4ed5-4b48-944f-9ac2f3d79a21",
    "ExecuteTime": {
     "end_time": "2025-06-20T19:06:51.945628Z",
     "start_time": "2025-06-20T19:06:51.822214Z"
    }
   },
   "source": [
    "# Position vs. Time Graph (accelerated)\n",
    "\n",
    "# Defines the x and y values\n",
    "time = df.filter(['Time (s) Run #1'], axis=1).dropna()\n",
    "position = df.filter(['Position (m) Run #1'], axis=1).dropna()\n",
    "\n",
    "# Create a figure of reasonable size and resolution, white background, black edge color\n",
    "fig=plt.figure(figsize=(7,5), dpi= 100, facecolor='w', edgecolor='k')\n",
    "\n",
    "# Gets the data values for x and y\n",
    "x_data = time.values.reshape(-1, 1)\n",
    "y_data = position.values.reshape(-1, 1)\n",
    "xi = df['Time (s) Run #1'].to_numpy()\n",
    "yi = df['Position (m) Run #1'].to_numpy()\n",
    "Delta_x_vec = [Delta_x for i in range(len(xi))]\n",
    "Delta_t_vec = [Delta_t for i in range(len(xi))]\n",
    "\n",
    "# Creates the base plot with titles\n",
    "plt.errorbar(x_data,y_data,Delta_x_vec,Delta_t_vec,'b.',label='Raw Data')\n",
    "plt.ylabel('Position (m)')\n",
    "plt.xlabel('Time (s)')\n",
    "plt.title('Position vs. Time')\n",
    "\n",
    "# Takes the x and y values to make a trendline\n",
    "a,b,c,da,db,dc = quadratic_fit_plot_errors(xi,yi,Delta_x_vec,plt,linestring='g-')\n",
    "\n",
    "# Adds the legend to the plot\n",
    "plt.legend()\n",
    "\n",
    "# Displays the plot\n",
    "plt.show()\n",
    "\n",
    "print(\"\")"
   ],
   "outputs": [
    {
     "ename": "ValueError",
     "evalue": "operands could not be broadcast together with shapes (87,1) (2,87) ",
     "output_type": "error",
     "traceback": [
      "\u001B[31m---------------------------------------------------------------------------\u001B[39m",
      "\u001B[31mValueError\u001B[39m                                Traceback (most recent call last)",
      "\u001B[36mCell\u001B[39m\u001B[36m \u001B[39m\u001B[32mIn[8]\u001B[39m\u001B[32m, line 19\u001B[39m\n\u001B[32m     16\u001B[39m Delta_t_vec = [Delta_t \u001B[38;5;28;01mfor\u001B[39;00m i \u001B[38;5;129;01min\u001B[39;00m \u001B[38;5;28mrange\u001B[39m(\u001B[38;5;28mlen\u001B[39m(xi))]\n\u001B[32m     18\u001B[39m \u001B[38;5;66;03m# Creates the base plot with titles\u001B[39;00m\n\u001B[32m---> \u001B[39m\u001B[32m19\u001B[39m \u001B[43mplt\u001B[49m\u001B[43m.\u001B[49m\u001B[43merrorbar\u001B[49m\u001B[43m(\u001B[49m\u001B[43mx_data\u001B[49m\u001B[43m,\u001B[49m\u001B[43my_data\u001B[49m\u001B[43m,\u001B[49m\u001B[43mDelta_x_vec\u001B[49m\u001B[43m,\u001B[49m\u001B[43mDelta_t_vec\u001B[49m\u001B[43m,\u001B[49m\u001B[33;43m'\u001B[39;49m\u001B[33;43mb.\u001B[39;49m\u001B[33;43m'\u001B[39;49m\u001B[43m,\u001B[49m\u001B[43mlabel\u001B[49m\u001B[43m=\u001B[49m\u001B[33;43m'\u001B[39;49m\u001B[33;43mRaw Data\u001B[39;49m\u001B[33;43m'\u001B[39;49m\u001B[43m)\u001B[49m\n\u001B[32m     20\u001B[39m plt.ylabel(\u001B[33m'\u001B[39m\u001B[33mPosition (m)\u001B[39m\u001B[33m'\u001B[39m)\n\u001B[32m     21\u001B[39m plt.xlabel(\u001B[33m'\u001B[39m\u001B[33mTime (s)\u001B[39m\u001B[33m'\u001B[39m)\n",
      "\u001B[36mFile \u001B[39m\u001B[32m~/Documents/Teaching/PhysicsLabs/venv/lib/python3.12/site-packages/matplotlib/_api/deprecation.py:453\u001B[39m, in \u001B[36mmake_keyword_only.<locals>.wrapper\u001B[39m\u001B[34m(*args, **kwargs)\u001B[39m\n\u001B[32m    447\u001B[39m \u001B[38;5;28;01mif\u001B[39;00m \u001B[38;5;28mlen\u001B[39m(args) > name_idx:\n\u001B[32m    448\u001B[39m     warn_deprecated(\n\u001B[32m    449\u001B[39m         since, message=\u001B[33m\"\u001B[39m\u001B[33mPassing the \u001B[39m\u001B[38;5;132;01m%(name)s\u001B[39;00m\u001B[33m \u001B[39m\u001B[38;5;132;01m%(obj_type)s\u001B[39;00m\u001B[33m \u001B[39m\u001B[33m\"\u001B[39m\n\u001B[32m    450\u001B[39m         \u001B[33m\"\u001B[39m\u001B[33mpositionally is deprecated since Matplotlib \u001B[39m\u001B[38;5;132;01m%(since)s\u001B[39;00m\u001B[33m; the \u001B[39m\u001B[33m\"\u001B[39m\n\u001B[32m    451\u001B[39m         \u001B[33m\"\u001B[39m\u001B[33mparameter will become keyword-only in \u001B[39m\u001B[38;5;132;01m%(removal)s\u001B[39;00m\u001B[33m.\u001B[39m\u001B[33m\"\u001B[39m,\n\u001B[32m    452\u001B[39m         name=name, obj_type=\u001B[33mf\u001B[39m\u001B[33m\"\u001B[39m\u001B[33mparameter of \u001B[39m\u001B[38;5;132;01m{\u001B[39;00mfunc.\u001B[34m__name__\u001B[39m\u001B[38;5;132;01m}\u001B[39;00m\u001B[33m()\u001B[39m\u001B[33m\"\u001B[39m)\n\u001B[32m--> \u001B[39m\u001B[32m453\u001B[39m \u001B[38;5;28;01mreturn\u001B[39;00m \u001B[43mfunc\u001B[49m\u001B[43m(\u001B[49m\u001B[43m*\u001B[49m\u001B[43margs\u001B[49m\u001B[43m,\u001B[49m\u001B[43m \u001B[49m\u001B[43m*\u001B[49m\u001B[43m*\u001B[49m\u001B[43mkwargs\u001B[49m\u001B[43m)\u001B[49m\n",
      "\u001B[36mFile \u001B[39m\u001B[32m~/Documents/Teaching/PhysicsLabs/venv/lib/python3.12/site-packages/matplotlib/pyplot.py:3282\u001B[39m, in \u001B[36merrorbar\u001B[39m\u001B[34m(x, y, yerr, xerr, fmt, ecolor, elinewidth, capsize, barsabove, lolims, uplims, xlolims, xuplims, errorevery, capthick, data, **kwargs)\u001B[39m\n\u001B[32m   3261\u001B[39m \u001B[38;5;129m@_copy_docstring_and_deprecators\u001B[39m(Axes.errorbar)\n\u001B[32m   3262\u001B[39m \u001B[38;5;28;01mdef\u001B[39;00m\u001B[38;5;250m \u001B[39m\u001B[34merrorbar\u001B[39m(\n\u001B[32m   3263\u001B[39m     x: \u001B[38;5;28mfloat\u001B[39m | ArrayLike,\n\u001B[32m   (...)\u001B[39m\u001B[32m   3280\u001B[39m     **kwargs,\n\u001B[32m   3281\u001B[39m ) -> ErrorbarContainer:\n\u001B[32m-> \u001B[39m\u001B[32m3282\u001B[39m     \u001B[38;5;28;01mreturn\u001B[39;00m \u001B[43mgca\u001B[49m\u001B[43m(\u001B[49m\u001B[43m)\u001B[49m\u001B[43m.\u001B[49m\u001B[43merrorbar\u001B[49m\u001B[43m(\u001B[49m\n\u001B[32m   3283\u001B[39m \u001B[43m        \u001B[49m\u001B[43mx\u001B[49m\u001B[43m,\u001B[49m\n\u001B[32m   3284\u001B[39m \u001B[43m        \u001B[49m\u001B[43my\u001B[49m\u001B[43m,\u001B[49m\n\u001B[32m   3285\u001B[39m \u001B[43m        \u001B[49m\u001B[43myerr\u001B[49m\u001B[43m=\u001B[49m\u001B[43myerr\u001B[49m\u001B[43m,\u001B[49m\n\u001B[32m   3286\u001B[39m \u001B[43m        \u001B[49m\u001B[43mxerr\u001B[49m\u001B[43m=\u001B[49m\u001B[43mxerr\u001B[49m\u001B[43m,\u001B[49m\n\u001B[32m   3287\u001B[39m \u001B[43m        \u001B[49m\u001B[43mfmt\u001B[49m\u001B[43m=\u001B[49m\u001B[43mfmt\u001B[49m\u001B[43m,\u001B[49m\n\u001B[32m   3288\u001B[39m \u001B[43m        \u001B[49m\u001B[43mecolor\u001B[49m\u001B[43m=\u001B[49m\u001B[43mecolor\u001B[49m\u001B[43m,\u001B[49m\n\u001B[32m   3289\u001B[39m \u001B[43m        \u001B[49m\u001B[43melinewidth\u001B[49m\u001B[43m=\u001B[49m\u001B[43melinewidth\u001B[49m\u001B[43m,\u001B[49m\n\u001B[32m   3290\u001B[39m \u001B[43m        \u001B[49m\u001B[43mcapsize\u001B[49m\u001B[43m=\u001B[49m\u001B[43mcapsize\u001B[49m\u001B[43m,\u001B[49m\n\u001B[32m   3291\u001B[39m \u001B[43m        \u001B[49m\u001B[43mbarsabove\u001B[49m\u001B[43m=\u001B[49m\u001B[43mbarsabove\u001B[49m\u001B[43m,\u001B[49m\n\u001B[32m   3292\u001B[39m \u001B[43m        \u001B[49m\u001B[43mlolims\u001B[49m\u001B[43m=\u001B[49m\u001B[43mlolims\u001B[49m\u001B[43m,\u001B[49m\n\u001B[32m   3293\u001B[39m \u001B[43m        \u001B[49m\u001B[43muplims\u001B[49m\u001B[43m=\u001B[49m\u001B[43muplims\u001B[49m\u001B[43m,\u001B[49m\n\u001B[32m   3294\u001B[39m \u001B[43m        \u001B[49m\u001B[43mxlolims\u001B[49m\u001B[43m=\u001B[49m\u001B[43mxlolims\u001B[49m\u001B[43m,\u001B[49m\n\u001B[32m   3295\u001B[39m \u001B[43m        \u001B[49m\u001B[43mxuplims\u001B[49m\u001B[43m=\u001B[49m\u001B[43mxuplims\u001B[49m\u001B[43m,\u001B[49m\n\u001B[32m   3296\u001B[39m \u001B[43m        \u001B[49m\u001B[43merrorevery\u001B[49m\u001B[43m=\u001B[49m\u001B[43merrorevery\u001B[49m\u001B[43m,\u001B[49m\n\u001B[32m   3297\u001B[39m \u001B[43m        \u001B[49m\u001B[43mcapthick\u001B[49m\u001B[43m=\u001B[49m\u001B[43mcapthick\u001B[49m\u001B[43m,\u001B[49m\n\u001B[32m   3298\u001B[39m \u001B[43m        \u001B[49m\u001B[43m*\u001B[49m\u001B[43m*\u001B[49m\u001B[43m(\u001B[49m\u001B[43m{\u001B[49m\u001B[33;43m\"\u001B[39;49m\u001B[33;43mdata\u001B[39;49m\u001B[33;43m\"\u001B[39;49m\u001B[43m:\u001B[49m\u001B[43m \u001B[49m\u001B[43mdata\u001B[49m\u001B[43m}\u001B[49m\u001B[43m \u001B[49m\u001B[38;5;28;43;01mif\u001B[39;49;00m\u001B[43m \u001B[49m\u001B[43mdata\u001B[49m\u001B[43m \u001B[49m\u001B[38;5;129;43;01mis\u001B[39;49;00m\u001B[43m \u001B[49m\u001B[38;5;129;43;01mnot\u001B[39;49;00m\u001B[43m \u001B[49m\u001B[38;5;28;43;01mNone\u001B[39;49;00m\u001B[43m \u001B[49m\u001B[38;5;28;43;01melse\u001B[39;49;00m\u001B[43m \u001B[49m\u001B[43m{\u001B[49m\u001B[43m}\u001B[49m\u001B[43m)\u001B[49m\u001B[43m,\u001B[49m\n\u001B[32m   3299\u001B[39m \u001B[43m        \u001B[49m\u001B[43m*\u001B[49m\u001B[43m*\u001B[49m\u001B[43mkwargs\u001B[49m\u001B[43m,\u001B[49m\n\u001B[32m   3300\u001B[39m \u001B[43m    \u001B[49m\u001B[43m)\u001B[49m\n",
      "\u001B[36mFile \u001B[39m\u001B[32m~/Documents/Teaching/PhysicsLabs/venv/lib/python3.12/site-packages/matplotlib/_api/deprecation.py:453\u001B[39m, in \u001B[36mmake_keyword_only.<locals>.wrapper\u001B[39m\u001B[34m(*args, **kwargs)\u001B[39m\n\u001B[32m    447\u001B[39m \u001B[38;5;28;01mif\u001B[39;00m \u001B[38;5;28mlen\u001B[39m(args) > name_idx:\n\u001B[32m    448\u001B[39m     warn_deprecated(\n\u001B[32m    449\u001B[39m         since, message=\u001B[33m\"\u001B[39m\u001B[33mPassing the \u001B[39m\u001B[38;5;132;01m%(name)s\u001B[39;00m\u001B[33m \u001B[39m\u001B[38;5;132;01m%(obj_type)s\u001B[39;00m\u001B[33m \u001B[39m\u001B[33m\"\u001B[39m\n\u001B[32m    450\u001B[39m         \u001B[33m\"\u001B[39m\u001B[33mpositionally is deprecated since Matplotlib \u001B[39m\u001B[38;5;132;01m%(since)s\u001B[39;00m\u001B[33m; the \u001B[39m\u001B[33m\"\u001B[39m\n\u001B[32m    451\u001B[39m         \u001B[33m\"\u001B[39m\u001B[33mparameter will become keyword-only in \u001B[39m\u001B[38;5;132;01m%(removal)s\u001B[39;00m\u001B[33m.\u001B[39m\u001B[33m\"\u001B[39m,\n\u001B[32m    452\u001B[39m         name=name, obj_type=\u001B[33mf\u001B[39m\u001B[33m\"\u001B[39m\u001B[33mparameter of \u001B[39m\u001B[38;5;132;01m{\u001B[39;00mfunc.\u001B[34m__name__\u001B[39m\u001B[38;5;132;01m}\u001B[39;00m\u001B[33m()\u001B[39m\u001B[33m\"\u001B[39m)\n\u001B[32m--> \u001B[39m\u001B[32m453\u001B[39m \u001B[38;5;28;01mreturn\u001B[39;00m \u001B[43mfunc\u001B[49m\u001B[43m(\u001B[49m\u001B[43m*\u001B[49m\u001B[43margs\u001B[49m\u001B[43m,\u001B[49m\u001B[43m \u001B[49m\u001B[43m*\u001B[49m\u001B[43m*\u001B[49m\u001B[43mkwargs\u001B[49m\u001B[43m)\u001B[49m\n",
      "\u001B[36mFile \u001B[39m\u001B[32m~/Documents/Teaching/PhysicsLabs/venv/lib/python3.12/site-packages/matplotlib/__init__.py:1521\u001B[39m, in \u001B[36m_preprocess_data.<locals>.inner\u001B[39m\u001B[34m(ax, data, *args, **kwargs)\u001B[39m\n\u001B[32m   1518\u001B[39m \u001B[38;5;129m@functools\u001B[39m.wraps(func)\n\u001B[32m   1519\u001B[39m \u001B[38;5;28;01mdef\u001B[39;00m\u001B[38;5;250m \u001B[39m\u001B[34minner\u001B[39m(ax, *args, data=\u001B[38;5;28;01mNone\u001B[39;00m, **kwargs):\n\u001B[32m   1520\u001B[39m     \u001B[38;5;28;01mif\u001B[39;00m data \u001B[38;5;129;01mis\u001B[39;00m \u001B[38;5;28;01mNone\u001B[39;00m:\n\u001B[32m-> \u001B[39m\u001B[32m1521\u001B[39m         \u001B[38;5;28;01mreturn\u001B[39;00m \u001B[43mfunc\u001B[49m\u001B[43m(\u001B[49m\n\u001B[32m   1522\u001B[39m \u001B[43m            \u001B[49m\u001B[43max\u001B[49m\u001B[43m,\u001B[49m\n\u001B[32m   1523\u001B[39m \u001B[43m            \u001B[49m\u001B[43m*\u001B[49m\u001B[38;5;28;43mmap\u001B[39;49m\u001B[43m(\u001B[49m\u001B[43mcbook\u001B[49m\u001B[43m.\u001B[49m\u001B[43msanitize_sequence\u001B[49m\u001B[43m,\u001B[49m\u001B[43m \u001B[49m\u001B[43margs\u001B[49m\u001B[43m)\u001B[49m\u001B[43m,\u001B[49m\n\u001B[32m   1524\u001B[39m \u001B[43m            \u001B[49m\u001B[43m*\u001B[49m\u001B[43m*\u001B[49m\u001B[43m{\u001B[49m\u001B[43mk\u001B[49m\u001B[43m:\u001B[49m\u001B[43m \u001B[49m\u001B[43mcbook\u001B[49m\u001B[43m.\u001B[49m\u001B[43msanitize_sequence\u001B[49m\u001B[43m(\u001B[49m\u001B[43mv\u001B[49m\u001B[43m)\u001B[49m\u001B[43m \u001B[49m\u001B[38;5;28;43;01mfor\u001B[39;49;00m\u001B[43m \u001B[49m\u001B[43mk\u001B[49m\u001B[43m,\u001B[49m\u001B[43m \u001B[49m\u001B[43mv\u001B[49m\u001B[43m \u001B[49m\u001B[38;5;129;43;01min\u001B[39;49;00m\u001B[43m \u001B[49m\u001B[43mkwargs\u001B[49m\u001B[43m.\u001B[49m\u001B[43mitems\u001B[49m\u001B[43m(\u001B[49m\u001B[43m)\u001B[49m\u001B[43m}\u001B[49m\u001B[43m)\u001B[49m\n\u001B[32m   1526\u001B[39m     bound = new_sig.bind(ax, *args, **kwargs)\n\u001B[32m   1527\u001B[39m     auto_label = (bound.arguments.get(label_namer)\n\u001B[32m   1528\u001B[39m                   \u001B[38;5;129;01mor\u001B[39;00m bound.kwargs.get(label_namer))\n",
      "\u001B[36mFile \u001B[39m\u001B[32m~/Documents/Teaching/PhysicsLabs/venv/lib/python3.12/site-packages/matplotlib/axes/_axes.py:3828\u001B[39m, in \u001B[36mAxes.errorbar\u001B[39m\u001B[34m(self, x, y, yerr, xerr, fmt, ecolor, elinewidth, capsize, barsabove, lolims, uplims, xlolims, xuplims, errorevery, capthick, **kwargs)\u001B[39m\n\u001B[32m   3822\u001B[39m     \u001B[38;5;28;01mraise\u001B[39;00m \u001B[38;5;167;01mValueError\u001B[39;00m(\n\u001B[32m   3823\u001B[39m         \u001B[33mf\u001B[39m\u001B[33m\"\u001B[39m\u001B[33m'\u001B[39m\u001B[38;5;132;01m{\u001B[39;00mdep_axis\u001B[38;5;132;01m}\u001B[39;00m\u001B[33merr\u001B[39m\u001B[33m'\u001B[39m\u001B[33m must not contain negative values\u001B[39m\u001B[33m\"\u001B[39m)\n\u001B[32m   3824\u001B[39m \u001B[38;5;66;03m# This is like\u001B[39;00m\n\u001B[32m   3825\u001B[39m \u001B[38;5;66;03m#     elow, ehigh = np.broadcast_to(...)\u001B[39;00m\n\u001B[32m   3826\u001B[39m \u001B[38;5;66;03m#     return dep - elow * ~lolims, dep + ehigh * ~uplims\u001B[39;00m\n\u001B[32m   3827\u001B[39m \u001B[38;5;66;03m# except that broadcast_to would strip units.\u001B[39;00m\n\u001B[32m-> \u001B[39m\u001B[32m3828\u001B[39m low, high = \u001B[43mdep\u001B[49m\u001B[43m \u001B[49m\u001B[43m+\u001B[49m\u001B[43m \u001B[49m\u001B[43mnp\u001B[49m\u001B[43m.\u001B[49m\u001B[43mvstack\u001B[49m\u001B[43m(\u001B[49m\u001B[43m[\u001B[49m\u001B[43m-\u001B[49m\u001B[43m(\u001B[49m\u001B[32;43m1\u001B[39;49m\u001B[43m \u001B[49m\u001B[43m-\u001B[49m\u001B[43m \u001B[49m\u001B[43mlolims\u001B[49m\u001B[43m)\u001B[49m\u001B[43m,\u001B[49m\u001B[43m \u001B[49m\u001B[32;43m1\u001B[39;49m\u001B[43m \u001B[49m\u001B[43m-\u001B[49m\u001B[43m \u001B[49m\u001B[43muplims\u001B[49m\u001B[43m]\u001B[49m\u001B[43m)\u001B[49m\u001B[43m \u001B[49m\u001B[43m*\u001B[49m\u001B[43m \u001B[49m\u001B[43merr\u001B[49m\n\u001B[32m   3829\u001B[39m barcols.append(lines_func(\n\u001B[32m   3830\u001B[39m     *apply_mask([indep, low, high], everymask), **eb_lines_style))\n\u001B[32m   3831\u001B[39m \u001B[38;5;28;01mif\u001B[39;00m \u001B[38;5;28mself\u001B[39m.name == \u001B[33m\"\u001B[39m\u001B[33mpolar\u001B[39m\u001B[33m\"\u001B[39m \u001B[38;5;129;01mand\u001B[39;00m dep_axis == \u001B[33m\"\u001B[39m\u001B[33mx\u001B[39m\u001B[33m\"\u001B[39m:\n",
      "\u001B[31mValueError\u001B[39m: operands could not be broadcast together with shapes (87,1) (2,87) "
     ]
    },
    {
     "data": {
      "text/plain": [
       "<Figure size 700x500 with 1 Axes>"
      ],
      "image/png": "[encoded data removed]"
     },
     "metadata": {},
     "output_type": "display_data"
    }
   ],
   "execution_count": 8
  },
  {
   "cell_type": "code",
   "metadata": {
    "id": "TFCHEEXEbwgK",
    "outputId": "3ee9e302-5c5f-4ee9-97cb-e51b4877e994",
    "ExecuteTime": {
     "end_time": "2025-06-20T19:06:53.078731Z",
     "start_time": "2025-06-20T19:06:52.952556Z"
    }
   },
   "source": [
    "# Velocity vs. Time Graph (Accelerated Motion)\n",
    "\n",
    "# Defines the x and y values\n",
    "time = df.filter(['Time (s) Run #1'], axis=1).dropna()\n",
    "velocity = df.filter(['Velocity (m/s) Run #1'], axis=1).dropna()\n",
    "\n",
    "fig=plt.figure(figsize=(7,5), dpi= 100, facecolor='w', edgecolor='k')\n",
    "\n",
    "# Gets the data values for x and y\n",
    "x_data = time.values.reshape(-1, 1)\n",
    "y_data = velocity.values.reshape(-1, 1)\n",
    "xi = df['Time (s) Run #1'].to_numpy()\n",
    "yi = df['Velocity (m/s) Run #1'].to_numpy()\n",
    "Delta_v_vec = [Delta_v for i in range(len(xi))]\n",
    "Delta_t_vec = [Delta_t for i in range(len(xi))]\n",
    "\n",
    "# Creates the base plot with titles\n",
    "plt.errorbar(x_data,y_data,Delta_v,Delta_t,'b.',label='Raw Data')\n",
    "plt.ylabel('Velocity (m/s)')\n",
    "plt.xlabel('Time (s)')\n",
    "plt.title('Velocity vs. Time')\n",
    "\n",
    "# Takes the x and y values to make a trendline\n",
    "intercept2, slope2, dintercept2, dslope2 = linear_fit_plot_errors(xi,yi,Delta_v_vec,plt,0.8,3.6,\"Linear Fit\",'r-')\n",
    "\n",
    "#Adds the legend to the plot\n",
    "plt.legend()\n",
    "\n",
    "# Displays the plot\n",
    "plt.show()\n",
    "\n",
    "print(\"\")"
   ],
   "outputs": [
    {
     "ename": "ValueError",
     "evalue": "operands could not be broadcast together with shapes (87,1) (2,87) ",
     "output_type": "error",
     "traceback": [
      "\u001B[31m---------------------------------------------------------------------------\u001B[39m",
      "\u001B[31mValueError\u001B[39m                                Traceback (most recent call last)",
      "\u001B[36mCell\u001B[39m\u001B[36m \u001B[39m\u001B[32mIn[9]\u001B[39m\u001B[32m, line 18\u001B[39m\n\u001B[32m     15\u001B[39m Delta_t_vec = [Delta_t \u001B[38;5;28;01mfor\u001B[39;00m i \u001B[38;5;129;01min\u001B[39;00m \u001B[38;5;28mrange\u001B[39m(\u001B[38;5;28mlen\u001B[39m(xi))]\n\u001B[32m     17\u001B[39m \u001B[38;5;66;03m# Creates the base plot with titles\u001B[39;00m\n\u001B[32m---> \u001B[39m\u001B[32m18\u001B[39m \u001B[43mplt\u001B[49m\u001B[43m.\u001B[49m\u001B[43merrorbar\u001B[49m\u001B[43m(\u001B[49m\u001B[43mx_data\u001B[49m\u001B[43m,\u001B[49m\u001B[43my_data\u001B[49m\u001B[43m,\u001B[49m\u001B[43mDelta_v\u001B[49m\u001B[43m,\u001B[49m\u001B[43mDelta_t\u001B[49m\u001B[43m,\u001B[49m\u001B[33;43m'\u001B[39;49m\u001B[33;43mb.\u001B[39;49m\u001B[33;43m'\u001B[39;49m\u001B[43m,\u001B[49m\u001B[43mlabel\u001B[49m\u001B[43m=\u001B[49m\u001B[33;43m'\u001B[39;49m\u001B[33;43mRaw Data\u001B[39;49m\u001B[33;43m'\u001B[39;49m\u001B[43m)\u001B[49m\n\u001B[32m     19\u001B[39m plt.ylabel(\u001B[33m'\u001B[39m\u001B[33mVelocity (m/s)\u001B[39m\u001B[33m'\u001B[39m)\n\u001B[32m     20\u001B[39m plt.xlabel(\u001B[33m'\u001B[39m\u001B[33mTime (s)\u001B[39m\u001B[33m'\u001B[39m)\n",
      "\u001B[36mFile \u001B[39m\u001B[32m~/Documents/Teaching/PhysicsLabs/venv/lib/python3.12/site-packages/matplotlib/_api/deprecation.py:453\u001B[39m, in \u001B[36mmake_keyword_only.<locals>.wrapper\u001B[39m\u001B[34m(*args, **kwargs)\u001B[39m\n\u001B[32m    447\u001B[39m \u001B[38;5;28;01mif\u001B[39;00m \u001B[38;5;28mlen\u001B[39m(args) > name_idx:\n\u001B[32m    448\u001B[39m     warn_deprecated(\n\u001B[32m    449\u001B[39m         since, message=\u001B[33m\"\u001B[39m\u001B[33mPassing the \u001B[39m\u001B[38;5;132;01m%(name)s\u001B[39;00m\u001B[33m \u001B[39m\u001B[38;5;132;01m%(obj_type)s\u001B[39;00m\u001B[33m \u001B[39m\u001B[33m\"\u001B[39m\n\u001B[32m    450\u001B[39m         \u001B[33m\"\u001B[39m\u001B[33mpositionally is deprecated since Matplotlib \u001B[39m\u001B[38;5;132;01m%(since)s\u001B[39;00m\u001B[33m; the \u001B[39m\u001B[33m\"\u001B[39m\n\u001B[32m    451\u001B[39m         \u001B[33m\"\u001B[39m\u001B[33mparameter will become keyword-only in \u001B[39m\u001B[38;5;132;01m%(removal)s\u001B[39;00m\u001B[33m.\u001B[39m\u001B[33m\"\u001B[39m,\n\u001B[32m    452\u001B[39m         name=name, obj_type=\u001B[33mf\u001B[39m\u001B[33m\"\u001B[39m\u001B[33mparameter of \u001B[39m\u001B[38;5;132;01m{\u001B[39;00mfunc.\u001B[34m__name__\u001B[39m\u001B[38;5;132;01m}\u001B[39;00m\u001B[33m()\u001B[39m\u001B[33m\"\u001B[39m)\n\u001B[32m--> \u001B[39m\u001B[32m453\u001B[39m \u001B[38;5;28;01mreturn\u001B[39;00m \u001B[43mfunc\u001B[49m\u001B[43m(\u001B[49m\u001B[43m*\u001B[49m\u001B[43margs\u001B[49m\u001B[43m,\u001B[49m\u001B[43m \u001B[49m\u001B[43m*\u001B[49m\u001B[43m*\u001B[49m\u001B[43mkwargs\u001B[49m\u001B[43m)\u001B[49m\n",
      "\u001B[36mFile \u001B[39m\u001B[32m~/Documents/Teaching/PhysicsLabs/venv/lib/python3.12/site-packages/matplotlib/pyplot.py:3282\u001B[39m, in \u001B[36merrorbar\u001B[39m\u001B[34m(x, y, yerr, xerr, fmt, ecolor, elinewidth, capsize, barsabove, lolims, uplims, xlolims, xuplims, errorevery, capthick, data, **kwargs)\u001B[39m\n\u001B[32m   3261\u001B[39m \u001B[38;5;129m@_copy_docstring_and_deprecators\u001B[39m(Axes.errorbar)\n\u001B[32m   3262\u001B[39m \u001B[38;5;28;01mdef\u001B[39;00m\u001B[38;5;250m \u001B[39m\u001B[34merrorbar\u001B[39m(\n\u001B[32m   3263\u001B[39m     x: \u001B[38;5;28mfloat\u001B[39m | ArrayLike,\n\u001B[32m   (...)\u001B[39m\u001B[32m   3280\u001B[39m     **kwargs,\n\u001B[32m   3281\u001B[39m ) -> ErrorbarContainer:\n\u001B[32m-> \u001B[39m\u001B[32m3282\u001B[39m     \u001B[38;5;28;01mreturn\u001B[39;00m \u001B[43mgca\u001B[49m\u001B[43m(\u001B[49m\u001B[43m)\u001B[49m\u001B[43m.\u001B[49m\u001B[43merrorbar\u001B[49m\u001B[43m(\u001B[49m\n\u001B[32m   3283\u001B[39m \u001B[43m        \u001B[49m\u001B[43mx\u001B[49m\u001B[43m,\u001B[49m\n\u001B[32m   3284\u001B[39m \u001B[43m        \u001B[49m\u001B[43my\u001B[49m\u001B[43m,\u001B[49m\n\u001B[32m   3285\u001B[39m \u001B[43m        \u001B[49m\u001B[43myerr\u001B[49m\u001B[43m=\u001B[49m\u001B[43myerr\u001B[49m\u001B[43m,\u001B[49m\n\u001B[32m   3286\u001B[39m \u001B[43m        \u001B[49m\u001B[43mxerr\u001B[49m\u001B[43m=\u001B[49m\u001B[43mxerr\u001B[49m\u001B[43m,\u001B[49m\n\u001B[32m   3287\u001B[39m \u001B[43m        \u001B[49m\u001B[43mfmt\u001B[49m\u001B[43m=\u001B[49m\u001B[43mfmt\u001B[49m\u001B[43m,\u001B[49m\n\u001B[32m   3288\u001B[39m \u001B[43m        \u001B[49m\u001B[43mecolor\u001B[49m\u001B[43m=\u001B[49m\u001B[43mecolor\u001B[49m\u001B[43m,\u001B[49m\n\u001B[32m   3289\u001B[39m \u001B[43m        \u001B[49m\u001B[43melinewidth\u001B[49m\u001B[43m=\u001B[49m\u001B[43melinewidth\u001B[49m\u001B[43m,\u001B[49m\n\u001B[32m   3290\u001B[39m \u001B[43m        \u001B[49m\u001B[43mcapsize\u001B[49m\u001B[43m=\u001B[49m\u001B[43mcapsize\u001B[49m\u001B[43m,\u001B[49m\n\u001B[32m   3291\u001B[39m \u001B[43m        \u001B[49m\u001B[43mbarsabove\u001B[49m\u001B[43m=\u001B[49m\u001B[43mbarsabove\u001B[49m\u001B[43m,\u001B[49m\n\u001B[32m   3292\u001B[39m \u001B[43m        \u001B[49m\u001B[43mlolims\u001B[49m\u001B[43m=\u001B[49m\u001B[43mlolims\u001B[49m\u001B[43m,\u001B[49m\n\u001B[32m   3293\u001B[39m \u001B[43m        \u001B[49m\u001B[43muplims\u001B[49m\u001B[43m=\u001B[49m\u001B[43muplims\u001B[49m\u001B[43m,\u001B[49m\n\u001B[32m   3294\u001B[39m \u001B[43m        \u001B[49m\u001B[43mxlolims\u001B[49m\u001B[43m=\u001B[49m\u001B[43mxlolims\u001B[49m\u001B[43m,\u001B[49m\n\u001B[32m   3295\u001B[39m \u001B[43m        \u001B[49m\u001B[43mxuplims\u001B[49m\u001B[43m=\u001B[49m\u001B[43mxuplims\u001B[49m\u001B[43m,\u001B[49m\n\u001B[32m   3296\u001B[39m \u001B[43m        \u001B[49m\u001B[43merrorevery\u001B[49m\u001B[43m=\u001B[49m\u001B[43merrorevery\u001B[49m\u001B[43m,\u001B[49m\n\u001B[32m   3297\u001B[39m \u001B[43m        \u001B[49m\u001B[43mcapthick\u001B[49m\u001B[43m=\u001B[49m\u001B[43mcapthick\u001B[49m\u001B[43m,\u001B[49m\n\u001B[32m   3298\u001B[39m \u001B[43m        \u001B[49m\u001B[43m*\u001B[49m\u001B[43m*\u001B[49m\u001B[43m(\u001B[49m\u001B[43m{\u001B[49m\u001B[33;43m\"\u001B[39;49m\u001B[33;43mdata\u001B[39;49m\u001B[33;43m\"\u001B[39;49m\u001B[43m:\u001B[49m\u001B[43m \u001B[49m\u001B[43mdata\u001B[49m\u001B[43m}\u001B[49m\u001B[43m \u001B[49m\u001B[38;5;28;43;01mif\u001B[39;49;00m\u001B[43m \u001B[49m\u001B[43mdata\u001B[49m\u001B[43m \u001B[49m\u001B[38;5;129;43;01mis\u001B[39;49;00m\u001B[43m \u001B[49m\u001B[38;5;129;43;01mnot\u001B[39;49;00m\u001B[43m \u001B[49m\u001B[38;5;28;43;01mNone\u001B[39;49;00m\u001B[43m \u001B[49m\u001B[38;5;28;43;01melse\u001B[39;49;00m\u001B[43m \u001B[49m\u001B[43m{\u001B[49m\u001B[43m}\u001B[49m\u001B[43m)\u001B[49m\u001B[43m,\u001B[49m\n\u001B[32m   3299\u001B[39m \u001B[43m        \u001B[49m\u001B[43m*\u001B[49m\u001B[43m*\u001B[49m\u001B[43mkwargs\u001B[49m\u001B[43m,\u001B[49m\n\u001B[32m   3300\u001B[39m \u001B[43m    \u001B[49m\u001B[43m)\u001B[49m\n",
      "\u001B[36mFile \u001B[39m\u001B[32m~/Documents/Teaching/PhysicsLabs/venv/lib/python3.12/site-packages/matplotlib/_api/deprecation.py:453\u001B[39m, in \u001B[36mmake_keyword_only.<locals>.wrapper\u001B[39m\u001B[34m(*args, **kwargs)\u001B[39m\n\u001B[32m    447\u001B[39m \u001B[38;5;28;01mif\u001B[39;00m \u001B[38;5;28mlen\u001B[39m(args) > name_idx:\n\u001B[32m    448\u001B[39m     warn_deprecated(\n\u001B[32m    449\u001B[39m         since, message=\u001B[33m\"\u001B[39m\u001B[33mPassing the \u001B[39m\u001B[38;5;132;01m%(name)s\u001B[39;00m\u001B[33m \u001B[39m\u001B[38;5;132;01m%(obj_type)s\u001B[39;00m\u001B[33m \u001B[39m\u001B[33m\"\u001B[39m\n\u001B[32m    450\u001B[39m         \u001B[33m\"\u001B[39m\u001B[33mpositionally is deprecated since Matplotlib \u001B[39m\u001B[38;5;132;01m%(since)s\u001B[39;00m\u001B[33m; the \u001B[39m\u001B[33m\"\u001B[39m\n\u001B[32m    451\u001B[39m         \u001B[33m\"\u001B[39m\u001B[33mparameter will become keyword-only in \u001B[39m\u001B[38;5;132;01m%(removal)s\u001B[39;00m\u001B[33m.\u001B[39m\u001B[33m\"\u001B[39m,\n\u001B[32m    452\u001B[39m         name=name, obj_type=\u001B[33mf\u001B[39m\u001B[33m\"\u001B[39m\u001B[33mparameter of \u001B[39m\u001B[38;5;132;01m{\u001B[39;00mfunc.\u001B[34m__name__\u001B[39m\u001B[38;5;132;01m}\u001B[39;00m\u001B[33m()\u001B[39m\u001B[33m\"\u001B[39m)\n\u001B[32m--> \u001B[39m\u001B[32m453\u001B[39m \u001B[38;5;28;01mreturn\u001B[39;00m \u001B[43mfunc\u001B[49m\u001B[43m(\u001B[49m\u001B[43m*\u001B[49m\u001B[43margs\u001B[49m\u001B[43m,\u001B[49m\u001B[43m \u001B[49m\u001B[43m*\u001B[49m\u001B[43m*\u001B[49m\u001B[43mkwargs\u001B[49m\u001B[43m)\u001B[49m\n",
      "\u001B[36mFile \u001B[39m\u001B[32m~/Documents/Teaching/PhysicsLabs/venv/lib/python3.12/site-packages/matplotlib/__init__.py:1521\u001B[39m, in \u001B[36m_preprocess_data.<locals>.inner\u001B[39m\u001B[34m(ax, data, *args, **kwargs)\u001B[39m\n\u001B[32m   1518\u001B[39m \u001B[38;5;129m@functools\u001B[39m.wraps(func)\n\u001B[32m   1519\u001B[39m \u001B[38;5;28;01mdef\u001B[39;00m\u001B[38;5;250m \u001B[39m\u001B[34minner\u001B[39m(ax, *args, data=\u001B[38;5;28;01mNone\u001B[39;00m, **kwargs):\n\u001B[32m   1520\u001B[39m     \u001B[38;5;28;01mif\u001B[39;00m data \u001B[38;5;129;01mis\u001B[39;00m \u001B[38;5;28;01mNone\u001B[39;00m:\n\u001B[32m-> \u001B[39m\u001B[32m1521\u001B[39m         \u001B[38;5;28;01mreturn\u001B[39;00m \u001B[43mfunc\u001B[49m\u001B[43m(\u001B[49m\n\u001B[32m   1522\u001B[39m \u001B[43m            \u001B[49m\u001B[43max\u001B[49m\u001B[43m,\u001B[49m\n\u001B[32m   1523\u001B[39m \u001B[43m            \u001B[49m\u001B[43m*\u001B[49m\u001B[38;5;28;43mmap\u001B[39;49m\u001B[43m(\u001B[49m\u001B[43mcbook\u001B[49m\u001B[43m.\u001B[49m\u001B[43msanitize_sequence\u001B[49m\u001B[43m,\u001B[49m\u001B[43m \u001B[49m\u001B[43margs\u001B[49m\u001B[43m)\u001B[49m\u001B[43m,\u001B[49m\n\u001B[32m   1524\u001B[39m \u001B[43m            \u001B[49m\u001B[43m*\u001B[49m\u001B[43m*\u001B[49m\u001B[43m{\u001B[49m\u001B[43mk\u001B[49m\u001B[43m:\u001B[49m\u001B[43m \u001B[49m\u001B[43mcbook\u001B[49m\u001B[43m.\u001B[49m\u001B[43msanitize_sequence\u001B[49m\u001B[43m(\u001B[49m\u001B[43mv\u001B[49m\u001B[43m)\u001B[49m\u001B[43m \u001B[49m\u001B[38;5;28;43;01mfor\u001B[39;49;00m\u001B[43m \u001B[49m\u001B[43mk\u001B[49m\u001B[43m,\u001B[49m\u001B[43m \u001B[49m\u001B[43mv\u001B[49m\u001B[43m \u001B[49m\u001B[38;5;129;43;01min\u001B[39;49;00m\u001B[43m \u001B[49m\u001B[43mkwargs\u001B[49m\u001B[43m.\u001B[49m\u001B[43mitems\u001B[49m\u001B[43m(\u001B[49m\u001B[43m)\u001B[49m\u001B[43m}\u001B[49m\u001B[43m)\u001B[49m\n\u001B[32m   1526\u001B[39m     bound = new_sig.bind(ax, *args, **kwargs)\n\u001B[32m   1527\u001B[39m     auto_label = (bound.arguments.get(label_namer)\n\u001B[32m   1528\u001B[39m                   \u001B[38;5;129;01mor\u001B[39;00m bound.kwargs.get(label_namer))\n",
      "\u001B[36mFile \u001B[39m\u001B[32m~/Documents/Teaching/PhysicsLabs/venv/lib/python3.12/site-packages/matplotlib/axes/_axes.py:3828\u001B[39m, in \u001B[36mAxes.errorbar\u001B[39m\u001B[34m(self, x, y, yerr, xerr, fmt, ecolor, elinewidth, capsize, barsabove, lolims, uplims, xlolims, xuplims, errorevery, capthick, **kwargs)\u001B[39m\n\u001B[32m   3822\u001B[39m     \u001B[38;5;28;01mraise\u001B[39;00m \u001B[38;5;167;01mValueError\u001B[39;00m(\n\u001B[32m   3823\u001B[39m         \u001B[33mf\u001B[39m\u001B[33m\"\u001B[39m\u001B[33m'\u001B[39m\u001B[38;5;132;01m{\u001B[39;00mdep_axis\u001B[38;5;132;01m}\u001B[39;00m\u001B[33merr\u001B[39m\u001B[33m'\u001B[39m\u001B[33m must not contain negative values\u001B[39m\u001B[33m\"\u001B[39m)\n\u001B[32m   3824\u001B[39m \u001B[38;5;66;03m# This is like\u001B[39;00m\n\u001B[32m   3825\u001B[39m \u001B[38;5;66;03m#     elow, ehigh = np.broadcast_to(...)\u001B[39;00m\n\u001B[32m   3826\u001B[39m \u001B[38;5;66;03m#     return dep - elow * ~lolims, dep + ehigh * ~uplims\u001B[39;00m\n\u001B[32m   3827\u001B[39m \u001B[38;5;66;03m# except that broadcast_to would strip units.\u001B[39;00m\n\u001B[32m-> \u001B[39m\u001B[32m3828\u001B[39m low, high = \u001B[43mdep\u001B[49m\u001B[43m \u001B[49m\u001B[43m+\u001B[49m\u001B[43m \u001B[49m\u001B[43mnp\u001B[49m\u001B[43m.\u001B[49m\u001B[43mvstack\u001B[49m\u001B[43m(\u001B[49m\u001B[43m[\u001B[49m\u001B[43m-\u001B[49m\u001B[43m(\u001B[49m\u001B[32;43m1\u001B[39;49m\u001B[43m \u001B[49m\u001B[43m-\u001B[49m\u001B[43m \u001B[49m\u001B[43mlolims\u001B[49m\u001B[43m)\u001B[49m\u001B[43m,\u001B[49m\u001B[43m \u001B[49m\u001B[32;43m1\u001B[39;49m\u001B[43m \u001B[49m\u001B[43m-\u001B[49m\u001B[43m \u001B[49m\u001B[43muplims\u001B[49m\u001B[43m]\u001B[49m\u001B[43m)\u001B[49m\u001B[43m \u001B[49m\u001B[43m*\u001B[49m\u001B[43m \u001B[49m\u001B[43merr\u001B[49m\n\u001B[32m   3829\u001B[39m barcols.append(lines_func(\n\u001B[32m   3830\u001B[39m     *apply_mask([indep, low, high], everymask), **eb_lines_style))\n\u001B[32m   3831\u001B[39m \u001B[38;5;28;01mif\u001B[39;00m \u001B[38;5;28mself\u001B[39m.name == \u001B[33m\"\u001B[39m\u001B[33mpolar\u001B[39m\u001B[33m\"\u001B[39m \u001B[38;5;129;01mand\u001B[39;00m dep_axis == \u001B[33m\"\u001B[39m\u001B[33mx\u001B[39m\u001B[33m\"\u001B[39m:\n",
      "\u001B[31mValueError\u001B[39m: operands could not be broadcast together with shapes (87,1) (2,87) "
     ]
    },
    {
     "data": {
      "text/plain": [
       "<Figure size 700x500 with 1 Axes>"
      ],
      "image/png": "[encoded data removed]"
     },
     "metadata": {},
     "output_type": "display_data"
    }
   ],
   "execution_count": 9
  },
  {
   "cell_type": "markdown",
   "metadata": {
    "id": "Z8_VM6BxbwgM"
   },
   "source": [
    "## Results and Conclusions\n",
    "Report the following data (with units and uncertainties):\n",
    "\n",
    "- Velocity of cart without acceleration\n",
    "- Angle that you tilted the airtrack\n",
    "- Average Acceleration from the Acceleration vs. Time graph\n",
    "- Average Acceleration calculated form the slope of the Velocity vs. Time graph\n",
    "- Average Acceleration computed from the parabolic fit to your Position vs. Time graph\n",
    "\n",
    "To compare the “A” value to the acceleration, you will need to know that the A, B, and C values are the constants for the following fit to the data:\n",
    "\n",
    "$$ x(t) = At^2 + Bt + C \\nonumber $$\n",
    "Compare this equation to equation ([3](#mjx-eqn)) to determine the acceleration, *a*."
   ]
  },
  {
   "cell_type": "code",
   "metadata": {
    "id": "e9c8p3lXbwgL",
    "outputId": "c6b2933a-a453-41cd-a159-371ec7157ded",
    "ExecuteTime": {
     "end_time": "2025-06-20T19:06:54.567982Z",
     "start_time": "2025-06-20T19:06:54.542444Z"
    }
   },
   "source": [
    "# Raw Data 3\n",
    "\n",
    "#### Enter Raw Data Here!!!!!!!!!!!!!! ####\n",
    "\n",
    "# The distance between the two supports and the uncertainty in that distance (m)\n",
    "d = 1.000\n",
    "uncertainty_d = 0.001\n",
    "\n",
    "# The thickness of the 2x4 and the uncertainty in that thickness (m)\n",
    "h = 0.029\n",
    "uncertainty_h = 0.001\n",
    "\n",
    "# Your new uncertainty in cart position\n",
    "uncertainty_x = 0.002\n",
    "\n",
    "###########################################\n",
    "\n",
    "\n",
    "# The angle your track was tilted\n",
    "theta_min = np.arctan((h-uncertainty_h)/(d+uncertainty_d))\n",
    "theta_max = np.arctan((h+uncertainty_h)/(d-uncertainty_d))\n",
    "theta = (theta_max+theta_min)/2.0\n",
    "dtheta = (theta_max-theta_min)/2.0\n",
    "\n",
    "\n",
    "print(\"d =\", d, \"m, 𝛿d =\", uncertainty_d,\"m\")\n",
    "print(\"\")\n",
    "print(\"h =\", h, \"m, 𝛿h =\", uncertainty_h,\"m\")\n",
    "print(\"\")\n",
    "print(\"𝛿x =\", uncertainty_x,\"m\")\n",
    "print(\"\")\n",
    "print(\"θ =\", theta,\" +/- \",dtheta,\"radians\")\n",
    "\n",
    "gravity = 9.80\n",
    "\n",
    "a_max = gravity*np.sin(theta_max)\n",
    "a_min = gravity*np.sin(theta_min)\n",
    "\n",
    "a_theory = (a_max+a_min)/2.0\n",
    "da_theory = (a_max-a_min)/2.0\n",
    "\n",
    "print()\n",
    "print (\"Expected Acceleration = \",a_theory,\" +/- \",da_theory,\"m/s^2\")\n",
    "\n",
    "a_experiment_1 = intercept1\n",
    "da_experiment_1 = dintercept1\n",
    "\n",
    "print()\n",
    "print (\"Average Acceleration from a vs. t graph = \",a_experiment_1,\" +/- \",da_experiment_1,\"m/s^2\")\n",
    "\n",
    "a_experiment_2 = 2.0*a\n",
    "da_experiment_2 = 2.0*da\n",
    "\n",
    "print()\n",
    "print (\"Average Acceleration from x vs. t graph = \",a_experiment_2,\" +/- \",da_experiment_2,\"m/s^2\")\n",
    "\n",
    "a_experiment_3 = slope2\n",
    "da_experiment_3 = dslope2\n",
    "\n",
    "print()\n",
    "print (\"Average Acceleration from v vs. t graph = \",a_experiment_3,\" +/- \",da_experiment_3,\"m/s^2\")\n",
    "\n",
    "print()\n",
    "print()\n",
    "\n",
    "x = ['Theory','a vs. t','x vs. t','v vs. t']\n",
    "dx = ['','','','']\n",
    "y = np.array([a_theory,a_experiment_1,a_experiment_2,a_experiment_3])\n",
    "dy = np.array([da_theory,da_experiment_1,da_experiment_2,da_experiment_3])\n",
    "\n",
    "fig=plt.figure(figsize=(7,5), dpi= 100, facecolor='w', edgecolor='k')\n",
    "\n",
    "plt.errorbar(x,y,dy,fmt='o')\n",
    "plt.ylabel('Acceleration (m/s^2)')\n",
    "plt.title('Comparision of Measured Accelerations to Theoretical Prediction')"
   ],
   "outputs": [
    {
     "name": "stdout",
     "output_type": "stream",
     "text": [
      "d = 1.0 m, 𝛿d = 0.001 m\n",
      "\n",
      "h = 0.029 m, 𝛿h = 0.001 m\n",
      "\n",
      "𝛿x = 0.002 m\n",
      "\n",
      "θ = 0.02899287191351721  +/-  0.0010281359436517205 radians\n",
      "\n",
      "Expected Acceleration =  0.284090190274946  +/-  0.010071496007184128 m/s^2\n"
     ]
    },
    {
     "ename": "NameError",
     "evalue": "name 'intercept1' is not defined",
     "output_type": "error",
     "traceback": [
      "\u001B[31m---------------------------------------------------------------------------\u001B[39m",
      "\u001B[31mNameError\u001B[39m                                 Traceback (most recent call last)",
      "\u001B[36mCell\u001B[39m\u001B[36m \u001B[39m\u001B[32mIn[10]\u001B[39m\u001B[32m, line 45\u001B[39m\n\u001B[32m     42\u001B[39m \u001B[38;5;28mprint\u001B[39m()\n\u001B[32m     43\u001B[39m \u001B[38;5;28mprint\u001B[39m (\u001B[33m\"\u001B[39m\u001B[33mExpected Acceleration = \u001B[39m\u001B[33m\"\u001B[39m,a_theory,\u001B[33m\"\u001B[39m\u001B[33m +/- \u001B[39m\u001B[33m\"\u001B[39m,da_theory,\u001B[33m\"\u001B[39m\u001B[33mm/s^2\u001B[39m\u001B[33m\"\u001B[39m)\n\u001B[32m---> \u001B[39m\u001B[32m45\u001B[39m a_experiment_1 = \u001B[43mintercept1\u001B[49m\n\u001B[32m     46\u001B[39m da_experiment_1 = dintercept1\n\u001B[32m     48\u001B[39m \u001B[38;5;28mprint\u001B[39m()\n",
      "\u001B[31mNameError\u001B[39m: name 'intercept1' is not defined"
     ]
    }
   ],
   "execution_count": 10
  },
  {
   "cell_type": "markdown",
   "metadata": {
    "id": "gAzFonO2bwgL"
   },
   "source": [
    "# Your Lab Report\n",
    "\n",
    "## EXPERIMENTAL PROCEDURE Section\n",
    "You will need to write a few paragraphs to carefully describe how you set up your experiment. Include the following specific items:\n",
    "- What did you do to ensure that your zero-acceleration and constant-acceleration experiments were free from unwanted sources of acceleration?\n",
    "- How did you configure your measurement equipment so that you got the most accuracy?\n",
    "- How did you set the track and determine the angle for the constant-acceleration experiment?\n",
    "- How did you re-calibrate your measurement equipment after changing experiments?\n",
    "\n",
    "**Remember:** This section is a description of what <u>you</u> did---not a set of instructions. Include a description of any problems you encountered and how you solved them.\n",
    "\n",
    "\n",
    "Did you have any systematic errors (i.e. were there sources of acceleration in either experiment that you could not remove)?\n",
    "\n",
    "How could you reduce your errors/uncertainties?"
   ]
  },
  {
   "cell_type": "markdown",
   "metadata": {
    "id": "kHbbQRfYbwgQ"
   },
   "source": [
    "## Appendix\n",
    "- Include your signed raw data sheet"
   ]
  },
  {
   "metadata": {},
   "cell_type": "code",
   "outputs": [],
   "execution_count": null,
   "source": ""
  }
 ],
 "metadata": {
  "colab": {
   "name": "Lab2.ipynb",
   "provenance": []
  },
  "kernelspec": {
   "display_name": "Python 3",
   "language": "python",
   "name": "python3"
  },
  "language_info": {
   "codemirror_mode": {
    "name": "ipython",
    "version": 3
   },
   "file_extension": ".py",
   "mimetype": "text/x-python",
   "name": "python",
   "nbconvert_exporter": "python",
   "pygments_lexer": "ipython3",
   "version": "3.6.8"
  },
  "latex_envs": {
   "LaTeX_envs_menu_present": true,
   "autoclose": false,
   "autocomplete": false,
   "bibliofile": "biblio.bib",
   "cite_by": "apalike",
   "current_citInitial": 1,
   "eqLabelWithNumbers": true,
   "eqNumInitial": 1,
   "hotkeys": {
    "equation": "Ctrl-E",
    "itemize": "Ctrl-I"
   },
   "labels_anchors": false,
   "latex_user_defs": false,
   "report_style_numbering": false,
   "user_envs_cfg": false
  },
  "toc-autonumbering": false
 },
 "nbformat": 4,
 "nbformat_minor": 4
}
