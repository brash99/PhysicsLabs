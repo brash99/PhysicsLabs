{
 "cells": [
  {
   "cell_type": "markdown",
   "id": "6c656289",
   "metadata": {
    "id": "6c656289"
   },
   "source": [
    "# Lab 7: Moment of Inertia\n",
    "### Objectives\n",
    "- To learn to take good measurements\n",
    "- To learn how to estimate and propagate errors\n",
    "- To learn how to take measurements to verify a theory\n",
    "- To learn how torque is related to angular acceleration\n",
    "- To learn how moment of inertia depends on both mass and distribution.\n",
    "\n",
    "### Equipment\n",
    "- One Assembled Angular Acceleration Station\n",
    "    - One “A” frame base\n",
    "    - One 1-m steel rod\n",
    "    - One CI-6538 Rotary Motion Sensor\n",
    "    - One “Super Pulley”\n",
    "- One PASCO “Mass and Hanger Set” (ME-8979)\n",
    "- One 2-m length of thread\n",
    "- One “Hoop and Disk” assembly\n",
    "- One “Point Mass” assembly\n",
    "    - One mounting rod with captured screw\n",
    "    - Two cylindrical masses with nylon thumbscrews\n",
    "- One meter stick\n",
    "- One measurement caliper\n",
    "- One OHAUS scale\n",
    "\n",
    "### Safety\n",
    "You will be rotating fairly heavy masses to somewhat high rotational velocities. Above all else,\n",
    "you should ensure that all masses are **securely attached** to the rotor and you should be aware of\n",
    "where your hands and head are with respect to the apparatus at all times. <u>Avoid high speeds</u>---they are not necessary.\n",
    "\n",
    "<u>**Be extremely careful with the plastic pulley**</u>. It will break if you mistreat it. Not only will points be deducted from your lab, but you will be unable to complete the experiment if you break it."
   ]
  },
  {
   "cell_type": "markdown",
   "id": "0ad39809",
   "metadata": {
    "id": "0ad39809"
   },
   "source": [
    "# Introduction\n",
    "Newton’s second law, $a=F/m$, describes mass as that which resists acceleration. Rotational\n",
    "motion is very similar to linear motion in that a kind of force called a torque will cause an object to change its rotational velocity, $\\omega$. What resists such a change is not the mass of the object alone, but the way in which that mass is distributed. This combined effect of mass and its distribution is called the moment of inertia, *I*."
   ]
  },
  {
   "cell_type": "markdown",
   "id": "b0e72c0d",
   "metadata": {
    "id": "b0e72c0d"
   },
   "source": [
    "# Theory\n",
    "### Torque\n",
    "Torque is the “force” which causes an object to change the rate at which it is rotating. Examples of this kind of motion are: starting, stopping, or changing the “speed” with which a wheel is rotating; bending your arm at the elbow or leg at the knee; or even screwing (or unscrewing) a bolt or screw-top lid.\n",
    "\n",
    "If you try to remove a securely fastened bolt, you quickly find that it is much easier to use a\n",
    "wrench than it is trying to use your hand alone. The force you can apply to the bolt is, itself, not enough to cause the bolt to turn. But the force you can *apply* times a distance away from the\n",
    "center of rotation (often called the “lever arm”) is directly related to the magnitude of the torque you can generate (i.e. how effective you will be at getting the bolt to turn).\n",
    "\n",
    "Although it seems obvious, it must be mentioned that not all forces are equally effective at generating torques. If you push or pull the wrench towards or away from the bolt, this will not cause the bolt to turn and you will generate no torque. Only the component of the force which is perpendicular to the lever arm has any effect.\n",
    "\n",
    "We roll all three of these concepts into the equation\n",
    "\n",
    "\\begin{equation}\n",
    "\\|\\tau\\| = \\|\\vec{r}\\| \\|\\vec{F}\\| \\sin \\theta \\quad \\textrm{or} \\quad \\vec{\\tau} = \\vec{r} \\times \\vec{F}\n",
    "\\tag{1}\n",
    "\\end{equation}  \n",
    "\n",
    "Where $\\tau$ is the torque, $r$ is the distance from the point where the force is applied to the center of the axis of rotation, and $\\theta$ is the angle between the two vectors $\\vec{r}$ and $\\vec{F}$."
   ]
  },
  {
   "cell_type": "markdown",
   "id": "80133987",
   "metadata": {
    "id": "80133987"
   },
   "source": [
    "### The Equation of Motion\n",
    "For linear motion, a simple re-arrangement of Newton’s Second Law states:\n",
    "\n",
    "\\begin{equation}\n",
    "\\vec{F} = m \\vec{a}\n",
    "\\tag{2}\n",
    "\\end{equation}\n",
    "\n",
    "where $a$ is the acceleration of the object (in $m/s^2$), F is the force applied to the object (in Newtons), and $m$ is the mass of the object (in kg).\n",
    "\n",
    "We can write a similar relationship for rotation:\n",
    "\n",
    "\\begin{equation}\n",
    "\\vec{\\tau} = I \\vec{\\alpha}\n",
    "\\tag{3}\n",
    "\\end{equation}\n",
    "\n",
    "where $\\alpha$ is the *angular* acceleration of the object (in $rad/s^2$), $\\tau$ is the *torque* applied to the object (in Nm), and $I$ is the *moment of inertia* of the object (in $kg m^2$).\n",
    "\n",
    "Using equation ([3](#mjx-eqn)), we should be able to determine an unknown moment of inertia if we know both the torque applied and if we can measure the resulting angular acceleration."
   ]
  },
  {
   "cell_type": "markdown",
   "id": "36556399",
   "metadata": {
    "id": "36556399"
   },
   "source": [
    "### The Moment of Inertia of a Point Mass\n",
    "It is not just the mass of an object that makes it difficult to rotate, but also the distribution of that mass. If the mass is close to the axis of rotation, it will be easier to rotate than if the mass is mostly far away from the axis. For a single point of mass $m$ which is a distance $r$ away from the axis of rotation, the moment of inertia of this point mass around this axis is given by\n",
    "\n",
    "\\begin{equation}\n",
    "I = m r^2\n",
    "\\tag{4}\n",
    "\\end{equation}\n",
    "\n",
    "For more complicated mass distributions, we can add up all the moments of inertia of all the points."
   ]
  },
  {
   "cell_type": "markdown",
   "id": "f28f6d8d",
   "metadata": {
    "id": "f28f6d8d"
   },
   "source": [
    "### Data Analysis\n",
    "The Rotary Motion Sensor will provide you with three data sets: Angle vs. Time, Angular Velocity vs. Time, and Angular Acceleration vs. Time. The initial data set is the Angle vs. Time data set. The others are computed by taking numerical derivatives. Even though you might think it is better to take the angular acceleration data when you want it, this may not be the case. When you take your measurement, you should look carefully at each data set. The “noisier” the data, the worse your uncertainties will be. But if the angular acceleration data is not the proper data set to use, how do you get angular acceleration from the other data sets? You must fit your “good” data and use your knowledge of kinematics to extract the acceleration (and its uncertainty) from the fit."
   ]
  },
  {
   "cell_type": "markdown",
   "id": "ebecadf8",
   "metadata": {
    "id": "ebecadf8"
   },
   "source": [
    "### Error Analysis\n",
    "Your Lab Manual and the previous labs can guide you in estimating the errors in your\n",
    "measurements and propagating those errors into your computed moments of inertia. <u>***You may\n",
    "not use the naïve method for computing your uncertainties in this lab***</u>. The uncertainties in\n",
    "your accelerations can come from the quadratic fit to your data. In some cases, it might be easier\n",
    "to use the standard deviation of a **large** (i.e. greater than five) number of measurements as your\n",
    "measurement uncertainty.\n",
    "\n",
    "In order to minimize random errors, it is extremely important that each of your measurements be\n",
    "performed a few times."
   ]
  },
  {
   "cell_type": "markdown",
   "id": "b096ae93",
   "metadata": {
    "id": "b096ae93"
   },
   "source": [
    "# Experimental Procedure\n",
    "\n",
    "### Torque vs. Angular Acceleration\n",
    "The first part of this experiment is to verify that angular acceleration is directly proportional to torque. The result of this experiment will be a graph of Torque vs. Angular Acceleration. The PASCO Capstone Data Acquisition system will measure the acceleration of the hoop and disk system, but to create a known torque, you will apply a known force at a known distance from the axis of rotation. You have a set of weights and hangers at your disposal."
   ]
  },
  {
   "cell_type": "markdown",
   "id": "a8b4892b",
   "metadata": {
    "id": "a8b4892b"
   },
   "source": [
    "### Setting up the Experiment--Hardware\n",
    "On top of your Rotary Motion Sensor is a three-stage pulley. You will need to remove this pulley to measure the diameter of each of the stages. Remove any other equipment atop the three-stage pulley by unscrewing the center screw and gently lifting it off the three-stage pulley. The pulley should now slide off the axle. Measure the mass and diameters of the three-stage pulley as well as the masses and dimensions of the ring and disk."
   ]
  },
  {
   "cell_type": "code",
   "id": "70dbdeec",
   "metadata": {
    "id": "70dbdeec",
    "outputId": "fe1efbab-a58f-4095-838e-f2f7dc3f0356",
    "colab": {
     "base_uri": "https://localhost:8080/",
     "height": 519
    },
    "ExecuteTime": {
     "end_time": "2025-06-30T19:02:55.067680Z",
     "start_time": "2025-06-30T19:02:52.617448Z"
    }
   },
   "source": [
    "# Raw Data 1\n",
    "import numpy as np\n",
    "import matplotlib.pyplot as plt\n",
    "import pandas as pd\n",
    "import sys; sys.path.append(\"..\") # Adds the ExampleFiles directory to the path so we can import P201_Functions\n",
    "!pip3 install P201_Functions\n",
    "import P201_Functions as p201\n",
    "\n",
    "# Create an empty numpy array to hold the raw data\n",
    "raw_data_1 = np.empty((3,6))\n",
    "\n",
    "# Create a Pandas dataframe\n",
    "df1 = pd.DataFrame(raw_data_1, columns=[\" \",\n",
    "                                        \"Mass (kg)\",\n",
    "                                        \"Uncertainty (kg)\",\n",
    "                                        \"Radius (m)\",\n",
    "                                        \"Uncertainty (m)\",\n",
    "                                         \"Moment of Inertia (kg m^2)\"])\n",
    "\n",
    "df1[' '] = [\"Disk\", \"Hoop\",\" \"]\n",
    "\n",
    "\n",
    "#### Enter Raw Data Here!!!!!!!!!!!!!! ####\n",
    "\n",
    "# Pulley diameters (m) and uncertainties\n",
    "p1   = 0.00947\n",
    "d_p1 = 0.000005\n",
    "\n",
    "p2   = 0.02864\n",
    "d_p2 = 0.000005\n",
    "\n",
    "p3   = 0.04784\n",
    "d_p3 = 0.000005\n",
    "\n",
    "# Mass of disk and hoop   [disk    ,hoop   ]\n",
    "df1['Mass (kg)']        = [0.12017 ,0.47040,\"\"]\n",
    "df1['Uncertainty (kg)'] = [0.000005,0.00005,\"\"]\n",
    "\n",
    "# Radii (m) and their uncertainties\n",
    "disk_radius = 0.09524\n",
    "hoop_r1 = 0.07641\n",
    "hoop_r2 = 0.05349\n",
    "df1['Uncertainty (m)'] = [0.000005,0.000005,\"\"]\n",
    "\n",
    "#\n",
    "df1['Moment of Inertia (kg m^2)'] = [.5*df1['Mass (kg)'][0]*disk_radius**2,\n",
    "                                     .5*df1['Mass (kg)'][1]*(hoop_r1**2+hoop_r2**2),\n",
    "                                    '']\n",
    "\n",
    "\n",
    "###########################################\n",
    "\n",
    "hoop_radii_1 = \"R1: %0.5f\" % (hoop_r1)\n",
    "hoop_radii_2 = \"R2: %0.5f\" % (hoop_r2)\n",
    "df1['Radius (m)'] = [disk_radius, hoop_radii_1, hoop_radii_2]\n",
    "\n",
    "# Converts the values to be in scientific notation\n",
    "mass_sci = [\"%g\" %(df1['Uncertainty (kg)'][0]),\"%g\" %(df1['Uncertainty (kg)'][1]),'']\n",
    "df1['Uncertainty (kg)'] = mass_sci\n",
    "\n",
    "\n",
    "from IPython.display import display\n",
    "display(df1)\n",
    "print()"
   ],
   "outputs": [
    {
     "name": "stdout",
     "output_type": "stream",
     "text": [
      "Requirement already satisfied: P201_Functions in /Library/Frameworks/Python.framework/Versions/3.12/lib/python3.12/site-packages (1.0)\r\n",
      "Requirement already satisfied: numpy in /Library/Frameworks/Python.framework/Versions/3.12/lib/python3.12/site-packages (from P201_Functions) (1.26.4)\r\n",
      "Requirement already satisfied: matplotlib in /Library/Frameworks/Python.framework/Versions/3.12/lib/python3.12/site-packages (from P201_Functions) (3.9.0)\r\n",
      "Requirement already satisfied: scikit-learn in /Library/Frameworks/Python.framework/Versions/3.12/lib/python3.12/site-packages (from P201_Functions) (1.4.1.post1)\r\n",
      "Requirement already satisfied: scipy in /Library/Frameworks/Python.framework/Versions/3.12/lib/python3.12/site-packages (from P201_Functions) (1.12.0)\r\n",
      "Requirement already satisfied: contourpy>=1.0.1 in /Library/Frameworks/Python.framework/Versions/3.12/lib/python3.12/site-packages (from matplotlib->P201_Functions) (1.2.1)\r\n",
      "Requirement already satisfied: cycler>=0.10 in /Library/Frameworks/Python.framework/Versions/3.12/lib/python3.12/site-packages (from matplotlib->P201_Functions) (0.12.1)\r\n",
      "Requirement already satisfied: fonttools>=4.22.0 in /Library/Frameworks/Python.framework/Versions/3.12/lib/python3.12/site-packages (from matplotlib->P201_Functions) (4.53.0)\r\n",
      "Requirement already satisfied: kiwisolver>=1.3.1 in /Library/Frameworks/Python.framework/Versions/3.12/lib/python3.12/site-packages (from matplotlib->P201_Functions) (1.4.5)\r\n",
      "Requirement already satisfied: packaging>=20.0 in /Library/Frameworks/Python.framework/Versions/3.12/lib/python3.12/site-packages (from matplotlib->P201_Functions) (23.2)\r\n",
      "Requirement already satisfied: pillow>=8 in /Library/Frameworks/Python.framework/Versions/3.12/lib/python3.12/site-packages (from matplotlib->P201_Functions) (10.3.0)\r\n",
      "Requirement already satisfied: pyparsing>=2.3.1 in /Library/Frameworks/Python.framework/Versions/3.12/lib/python3.12/site-packages (from matplotlib->P201_Functions) (3.1.2)\r\n",
      "Requirement already satisfied: python-dateutil>=2.7 in /Library/Frameworks/Python.framework/Versions/3.12/lib/python3.12/site-packages (from matplotlib->P201_Functions) (2.9.0.post0)\r\n",
      "Requirement already satisfied: six>=1.5 in /Library/Frameworks/Python.framework/Versions/3.12/lib/python3.12/site-packages (from python-dateutil>=2.7->matplotlib->P201_Functions) (1.16.0)\r\n",
      "Requirement already satisfied: joblib>=1.2.0 in /Library/Frameworks/Python.framework/Versions/3.12/lib/python3.12/site-packages (from scikit-learn->P201_Functions) (1.3.2)\r\n",
      "Requirement already satisfied: threadpoolctl>=2.0.0 in /Library/Frameworks/Python.framework/Versions/3.12/lib/python3.12/site-packages (from scikit-learn->P201_Functions) (3.3.0)\r\n"
     ]
    },
    {
     "data": {
      "text/plain": [
       "        Mass (kg) Uncertainty (kg)   Radius (m) Uncertainty (m)  \\\n",
       "0  Disk   0.12017            5e-06      0.09524        0.000005   \n",
       "1  Hoop    0.4704            5e-05  R1: 0.07641        0.000005   \n",
       "2                                   R2: 0.05349                   \n",
       "\n",
       "  Moment of Inertia (kg m^2)  \n",
       "0                   0.000545  \n",
       "1                   0.002046  \n",
       "2                             "
      ],
      "text/html": [
       "<div>\n",
       "<style scoped>\n",
       "    .dataframe tbody tr th:only-of-type {\n",
       "        vertical-align: middle;\n",
       "    }\n",
       "\n",
       "    .dataframe tbody tr th {\n",
       "        vertical-align: top;\n",
       "    }\n",
       "\n",
       "    .dataframe thead th {\n",
       "        text-align: right;\n",
       "    }\n",
       "</style>\n",
       "<table border=\"1\" class=\"dataframe\">\n",
       "  <thead>\n",
       "    <tr style=\"text-align: right;\">\n",
       "      <th></th>\n",
       "      <th></th>\n",
       "      <th>Mass (kg)</th>\n",
       "      <th>Uncertainty (kg)</th>\n",
       "      <th>Radius (m)</th>\n",
       "      <th>Uncertainty (m)</th>\n",
       "      <th>Moment of Inertia (kg m^2)</th>\n",
       "    </tr>\n",
       "  </thead>\n",
       "  <tbody>\n",
       "    <tr>\n",
       "      <th>0</th>\n",
       "      <td>Disk</td>\n",
       "      <td>0.12017</td>\n",
       "      <td>5e-06</td>\n",
       "      <td>0.09524</td>\n",
       "      <td>0.000005</td>\n",
       "      <td>0.000545</td>\n",
       "    </tr>\n",
       "    <tr>\n",
       "      <th>1</th>\n",
       "      <td>Hoop</td>\n",
       "      <td>0.4704</td>\n",
       "      <td>5e-05</td>\n",
       "      <td>R1: 0.07641</td>\n",
       "      <td>0.000005</td>\n",
       "      <td>0.002046</td>\n",
       "    </tr>\n",
       "    <tr>\n",
       "      <th>2</th>\n",
       "      <td></td>\n",
       "      <td></td>\n",
       "      <td></td>\n",
       "      <td>R2: 0.05349</td>\n",
       "      <td></td>\n",
       "      <td></td>\n",
       "    </tr>\n",
       "  </tbody>\n",
       "</table>\n",
       "</div>"
      ]
     },
     "metadata": {},
     "output_type": "display_data"
    },
    {
     "name": "stdout",
     "output_type": "stream",
     "text": [
      "\n"
     ]
    }
   ],
   "execution_count": 2
  },
  {
   "cell_type": "markdown",
   "id": "0ee68d63",
   "metadata": {
    "id": "0ee68d63"
   },
   "source": [
    "Once you have completed your measurements, you will need to replace the three-stage pulley on the axle. Make sure that the pulley is oriented so that the largest diameter stage is at the bottom of the “stack.” **N.B.:** Please note that the axle has a groove cut into it and the three-stage pulley has a key-way. <u>Ensure that the keyway of the pulley slides into the groove in the axle when you replace the three-stage pulley</u>.\n",
    "\n",
    "Once the three-stage pulley is oriented properly, place the disk atop it so that the square cut-out locks onto the square shaft on the top of the three-stage pulley. Secure the disk with the knurled screw (This screw may be stored on the bottom of the axle). You may now place the ring on top of the disk so that the two posts in the ring sit in the two holes in the disk (this “locks” the ring to the disk and keeps it from sliding around)."
   ]
  },
  {
   "cell_type": "markdown",
   "id": "a1675ab8",
   "metadata": {
    "id": "a1675ab8"
   },
   "source": [
    "### Setting up the Experiment--Software\n",
    "\n",
    "1. Make sure that the yellow plug is connected to digital input 1 and the black plug is connected to digital input 2.\n",
    "2. Power on the PASCO 850 by pressing and holding the power button until it beeps and the green light comes on.\n",
    "3. Start the PASCO Capstone software.\n",
    "4. Click “Hardware Setup” on the left-side “Tools” palette. A picture of the PASCO 850 interface will appear.\n",
    "5. Click on the Digital Input 1 port and select “Rotary Motion Sensor.”\n",
    "6. At the lower-right, click “Properties” and change “Resolution” to “High: 1440 counts per revolution.” and click “OK.”\n",
    "7. Click “Hardware Setup” again to close that menu.\n",
    "8. Drag “Graph” from the right-side “Displays” palette onto the main window. A graph will magically appear. Click on `<Select Measurement>` on your y-axis and select “Angle (rad).”\n",
    "9. Take some data while rotating the ring to make sure that everything is working properly."
   ]
  },
  {
   "cell_type": "markdown",
   "id": "efcc6a82",
   "metadata": {
    "id": "efcc6a82"
   },
   "source": [
    "### Data Taking Procedure\n",
    "The goal of this experiment is to find the angular acceleration of the disk and ring for different applied torques. The torque you apply will be created by the weight you place on the mass hanger (don’t forget the mass of the hanger!) and the radius of the stage you choose to wrap the thread around.\n",
    "\n",
    "Thread the string through the hole in the stage you will use. Push at least 10 cm of thread through the hole. Wrap the thread around the stage by rotating the stage in the direction opposite to the way you’d like the stage to spin, and letting the thread slide across your hand as you guide it onto the pulley. After a few turns, the thread will have enough friction to stay in place. Continue rotating the stage with just a little tension on the thread.\n",
    "\n",
    "The mass-hanger end of the string should rest on the “super pulley.” Make sure that the “super pulley” is at a height so that the thread remains level as it travels from the three-stage pulley to the “super pulley.” You can adjust the height of the “super pulley” by loosening the two screws on either side of it (don’t forget to re-tighten them!) Then follow these instructions:\n",
    "\n",
    "1. Hold the stage so that it does not rotate.\n",
    "2. Place your mass hanger on the end of the string dangling over the “super pulley.” **Do not exceed 40 g**.\n",
    "3. Wait for the hanger to stop spinning.\n",
    "4. Release the stage **first**\n",
    "5. Click “Record”\n",
    "6. Click “Stop” **before the hanger hits the ground**.\n",
    "\n",
    "You will need to perform the same experiment for each mass you choose. Run each mass a few times and use the average and standard deviation of your results. Then change the mass on the hanger and do it again."
   ]
  },
  {
   "cell_type": "code",
   "metadata": {
    "id": "7646754a73e503fd",
    "outputId": "952a1b85-fb5b-445e-ace3-78be23f45a2c",
    "colab": {
     "base_uri": "https://localhost:8080/",
     "height": 393
    },
    "ExecuteTime": {
     "end_time": "2025-06-30T19:02:56.044410Z",
     "start_time": "2025-06-30T19:02:56.033395Z"
    }
   },
   "source": [
    "# Raw Data 2: Torque vs. Angular Acceleration\n",
    "import numpy as np\n",
    "\n",
    "# Create an empty numpy array to hold the raw data\n",
    "raw_data_2 = np.empty((10,7))\n",
    "\n",
    "# Set the trial number column identifiers for each Trial\n",
    "raw_data_2[0][0]=1\n",
    "raw_data_2[1][0]=2\n",
    "raw_data_2[2][0]=3\n",
    "raw_data_2[3][0]=4\n",
    "raw_data_2[4][0]=5\n",
    "raw_data_2[5][0]=6\n",
    "raw_data_2[6][0]=7\n",
    "raw_data_2[7][0]=8\n",
    "raw_data_2[8][0]=9\n",
    "raw_data_2[9][0]=10\n",
    "\n",
    "\n",
    "# Create a Pandas dataframe, and convert the Trial number column to integer format\n",
    "df2 = pd.DataFrame(raw_data_2, columns=[\"Trial\",\n",
    "                                        \"Hanger Mass (kg)\",\n",
    "                                        \"Uncertainty (kg)\",\n",
    "                                        \"Pulley Radius (m)\",\n",
    "                                        \"Uncertainty (m)\",\n",
    "                                        \"Torque (Nm)\",\n",
    "                                       \"Angular Acceleration(rad/s^2)\"])\n",
    "\n",
    "df2['Trial'] = df2['Trial'].astype(int)\n",
    "\n",
    "#### Enter Raw Data Here!!!!!!!!!!!!!! ####\n",
    "\n",
    "#----------Trial------------1,2,3,4,5,6,7,8,9,10\n",
    "df2['Hanger Mass (kg)']  = [0.00699 ,0.00699 ,0.00995 ,0.00995 ,0.01498 ,0.01498 ,0.02510 ,0.02510 ,0.04009 ,0.04009 ]\n",
    "df2['Uncertainty (kg)']  = [0.000005,0.000005,0.000005,0.000005,0.000005,0.000005,0.000005,0.000005,0.000005,0.000005]\n",
    "\n",
    "df2['Pulley Radius (m)'] = [p2/2  ,p2/2  ,p2/2  ,p2/2  ,p2/2  ,p2/2  ,p2/2  ,p2/2  ,p2/2  ,p2/2  ]\n",
    "df2['Uncertainty (m)']   = [d_p2/2,d_p2/2,d_p2/2,d_p2/2,d_p2/2,d_p2/2,d_p2/2,d_p2/2,d_p2/2,d_p2/2]\n",
    "\n",
    "###########################################\n",
    "\n",
    "df2['Torque (Nm)'] = (np.array(df2['Hanger Mass (kg)'])*np.array(df2['Pulley Radius (m)']))*9.81\n",
    "df2['Angular Acceleration(rad/s^2)']       = [1.377,1.411,2.009,2.049,3.122,3.160,5.247,5.331,8.509,8.567]\n",
    "df2['delta Angular Acceleration(rad/s^2)'] = [0.174 ,0.148 ,0.173 ,0.168 ,0.155 ,0.215 ,0.207 ,0.198 ,0.210 , 0.230]\n",
    "\n",
    "df2['Torque (N*m)'] = df2['Hanger Mass (kg)']*df2['Pulley Radius (m)']*(9.81-df2['Angular Acceleration(rad/s^2)']*df2['Pulley Radius (m)'])\n",
    "\n",
    "from IPython.display import display\n",
    "display(df2)\n",
    "print()"
   ],
   "id": "7646754a73e503fd",
   "outputs": [
    {
     "data": {
      "text/plain": [
       "   Trial  Hanger Mass (kg)  Uncertainty (kg)  Pulley Radius (m)  \\\n",
       "0      1           0.00699          0.000005            0.01432   \n",
       "1      2           0.00699          0.000005            0.01432   \n",
       "2      3           0.00995          0.000005            0.01432   \n",
       "3      4           0.00995          0.000005            0.01432   \n",
       "4      5           0.01498          0.000005            0.01432   \n",
       "5      6           0.01498          0.000005            0.01432   \n",
       "6      7           0.02510          0.000005            0.01432   \n",
       "7      8           0.02510          0.000005            0.01432   \n",
       "8      9           0.04009          0.000005            0.01432   \n",
       "9     10           0.04009          0.000005            0.01432   \n",
       "\n",
       "   Uncertainty (m)  Torque (Nm)  Angular Acceleration(rad/s^2)  \\\n",
       "0         0.000003     0.000982                          1.377   \n",
       "1         0.000003     0.000982                          1.411   \n",
       "2         0.000003     0.001398                          2.009   \n",
       "3         0.000003     0.001398                          2.049   \n",
       "4         0.000003     0.002104                          3.122   \n",
       "5         0.000003     0.002104                          3.160   \n",
       "6         0.000003     0.003526                          5.247   \n",
       "7         0.000003     0.003526                          5.331   \n",
       "8         0.000003     0.005632                          8.509   \n",
       "9         0.000003     0.005632                          8.567   \n",
       "\n",
       "   delta Angular Acceleration(rad/s^2)  Torque (N*m)  \n",
       "0                                0.174      0.000980  \n",
       "1                                0.148      0.000980  \n",
       "2                                0.173      0.001394  \n",
       "3                                0.168      0.001394  \n",
       "4                                0.155      0.002095  \n",
       "5                                0.215      0.002095  \n",
       "6                                0.207      0.003499  \n",
       "7                                0.198      0.003499  \n",
       "8                                0.210      0.005562  \n",
       "9                                0.230      0.005561  "
      ],
      "text/html": [
       "<div>\n",
       "<style scoped>\n",
       "    .dataframe tbody tr th:only-of-type {\n",
       "        vertical-align: middle;\n",
       "    }\n",
       "\n",
       "    .dataframe tbody tr th {\n",
       "        vertical-align: top;\n",
       "    }\n",
       "\n",
       "    .dataframe thead th {\n",
       "        text-align: right;\n",
       "    }\n",
       "</style>\n",
       "<table border=\"1\" class=\"dataframe\">\n",
       "  <thead>\n",
       "    <tr style=\"text-align: right;\">\n",
       "      <th></th>\n",
       "      <th>Trial</th>\n",
       "      <th>Hanger Mass (kg)</th>\n",
       "      <th>Uncertainty (kg)</th>\n",
       "      <th>Pulley Radius (m)</th>\n",
       "      <th>Uncertainty (m)</th>\n",
       "      <th>Torque (Nm)</th>\n",
       "      <th>Angular Acceleration(rad/s^2)</th>\n",
       "      <th>delta Angular Acceleration(rad/s^2)</th>\n",
       "      <th>Torque (N*m)</th>\n",
       "    </tr>\n",
       "  </thead>\n",
       "  <tbody>\n",
       "    <tr>\n",
       "      <th>0</th>\n",
       "      <td>1</td>\n",
       "      <td>0.00699</td>\n",
       "      <td>0.000005</td>\n",
       "      <td>0.01432</td>\n",
       "      <td>0.000003</td>\n",
       "      <td>0.000982</td>\n",
       "      <td>1.377</td>\n",
       "      <td>0.174</td>\n",
       "      <td>0.000980</td>\n",
       "    </tr>\n",
       "    <tr>\n",
       "      <th>1</th>\n",
       "      <td>2</td>\n",
       "      <td>0.00699</td>\n",
       "      <td>0.000005</td>\n",
       "      <td>0.01432</td>\n",
       "      <td>0.000003</td>\n",
       "      <td>0.000982</td>\n",
       "      <td>1.411</td>\n",
       "      <td>0.148</td>\n",
       "      <td>0.000980</td>\n",
       "    </tr>\n",
       "    <tr>\n",
       "      <th>2</th>\n",
       "      <td>3</td>\n",
       "      <td>0.00995</td>\n",
       "      <td>0.000005</td>\n",
       "      <td>0.01432</td>\n",
       "      <td>0.000003</td>\n",
       "      <td>0.001398</td>\n",
       "      <td>2.009</td>\n",
       "      <td>0.173</td>\n",
       "      <td>0.001394</td>\n",
       "    </tr>\n",
       "    <tr>\n",
       "      <th>3</th>\n",
       "      <td>4</td>\n",
       "      <td>0.00995</td>\n",
       "      <td>0.000005</td>\n",
       "      <td>0.01432</td>\n",
       "      <td>0.000003</td>\n",
       "      <td>0.001398</td>\n",
       "      <td>2.049</td>\n",
       "      <td>0.168</td>\n",
       "      <td>0.001394</td>\n",
       "    </tr>\n",
       "    <tr>\n",
       "      <th>4</th>\n",
       "      <td>5</td>\n",
       "      <td>0.01498</td>\n",
       "      <td>0.000005</td>\n",
       "      <td>0.01432</td>\n",
       "      <td>0.000003</td>\n",
       "      <td>0.002104</td>\n",
       "      <td>3.122</td>\n",
       "      <td>0.155</td>\n",
       "      <td>0.002095</td>\n",
       "    </tr>\n",
       "    <tr>\n",
       "      <th>5</th>\n",
       "      <td>6</td>\n",
       "      <td>0.01498</td>\n",
       "      <td>0.000005</td>\n",
       "      <td>0.01432</td>\n",
       "      <td>0.000003</td>\n",
       "      <td>0.002104</td>\n",
       "      <td>3.160</td>\n",
       "      <td>0.215</td>\n",
       "      <td>0.002095</td>\n",
       "    </tr>\n",
       "    <tr>\n",
       "      <th>6</th>\n",
       "      <td>7</td>\n",
       "      <td>0.02510</td>\n",
       "      <td>0.000005</td>\n",
       "      <td>0.01432</td>\n",
       "      <td>0.000003</td>\n",
       "      <td>0.003526</td>\n",
       "      <td>5.247</td>\n",
       "      <td>0.207</td>\n",
       "      <td>0.003499</td>\n",
       "    </tr>\n",
       "    <tr>\n",
       "      <th>7</th>\n",
       "      <td>8</td>\n",
       "      <td>0.02510</td>\n",
       "      <td>0.000005</td>\n",
       "      <td>0.01432</td>\n",
       "      <td>0.000003</td>\n",
       "      <td>0.003526</td>\n",
       "      <td>5.331</td>\n",
       "      <td>0.198</td>\n",
       "      <td>0.003499</td>\n",
       "    </tr>\n",
       "    <tr>\n",
       "      <th>8</th>\n",
       "      <td>9</td>\n",
       "      <td>0.04009</td>\n",
       "      <td>0.000005</td>\n",
       "      <td>0.01432</td>\n",
       "      <td>0.000003</td>\n",
       "      <td>0.005632</td>\n",
       "      <td>8.509</td>\n",
       "      <td>0.210</td>\n",
       "      <td>0.005562</td>\n",
       "    </tr>\n",
       "    <tr>\n",
       "      <th>9</th>\n",
       "      <td>10</td>\n",
       "      <td>0.04009</td>\n",
       "      <td>0.000005</td>\n",
       "      <td>0.01432</td>\n",
       "      <td>0.000003</td>\n",
       "      <td>0.005632</td>\n",
       "      <td>8.567</td>\n",
       "      <td>0.230</td>\n",
       "      <td>0.005561</td>\n",
       "    </tr>\n",
       "  </tbody>\n",
       "</table>\n",
       "</div>"
      ]
     },
     "metadata": {},
     "output_type": "display_data"
    },
    {
     "name": "stdout",
     "output_type": "stream",
     "text": [
      "\n"
     ]
    }
   ],
   "execution_count": 3
  },
  {
   "cell_type": "code",
   "id": "35a097ba",
   "metadata": {
    "id": "35a097ba",
    "outputId": "0c2e78c6-ef3c-42f7-c501-5373ac1a6da1",
    "colab": {
     "base_uri": "https://localhost:8080/",
     "height": 694
    },
    "ExecuteTime": {
     "end_time": "2025-06-30T19:02:57.130443Z",
     "start_time": "2025-06-30T19:02:56.867175Z"
    }
   },
   "source": [
    "# Torque vs. Angular Acceleration Graph\n",
    "\n",
    "# Reads the name of the csv file and gets the data\n",
    "#df = pd.read_csv(\"../../../ExampleFiles/Torque vs. Angular Acceleration.csv\")\n",
    "\n",
    "\n",
    "# Defines the x and y values\n",
    "aa = df2.filter(['Angular Acceleration(rad/s^2)'], axis=1).dropna()\n",
    "torque = df2.filter(['Torque (N*m)'], axis=1).dropna()\n",
    "\n",
    "#aa = df2['Angular Acceleration(rad/s^2)']\n",
    "#torque = df2['delta Angular Acceleration(rad/s^2)']\n",
    "\n",
    "delta_aa = np.std(aa)\n",
    "delta_t = np.std(torque)\n",
    "\n",
    "# Create a figure of reasonable size and resolution, white background, black edge color\n",
    "fig=plt.figure(figsize=(7,5), dpi= 100, facecolor='w', edgecolor='k')\n",
    "\n",
    "# Gets the data values for x and y\n",
    "#x_data = aa.values.reshape(-1, 1)\n",
    "#y_data = torque.values.reshape(-1, 1)\n",
    "\n",
    "x_data = aa\n",
    "y_data = torque\n",
    "\n",
    "xi = df2['Angular Acceleration(rad/s^2)'].to_numpy()\n",
    "yi = df2['Torque (Nm)'].to_numpy()\n",
    "\n",
    "# Creates the base plot with titles\n",
    "plt.plot(x_data,y_data,'b.')\n",
    "#plt.errorbar(x_data,y_data,torque,aa,'b.',label='Raw Data')\n",
    "plt.ylabel('Torque (Nm)')\n",
    "plt.xlabel('Angular Acceleration (rad/s^2)')\n",
    "plt.title('Torque vs. Angular Acceleration')\n",
    "\n",
    "# Takes the x and y values to make a trendline\n",
    "intercept, slope, dintercept, dslope = p201.linear_fit_plot(xi,yi,plt)\n",
    "\n",
    "# Adds the legend to the plot\n",
    "plt.legend()\n",
    "\n",
    "# Displays the plot\n",
    "plt.show()\n",
    "\n",
    "print(\"\")"
   ],
   "outputs": [
    {
     "name": "stderr",
     "output_type": "stream",
     "text": [
      "/Users/brash/Library/Python/3.9/lib/python/site-packages/numpy/core/fromnumeric.py:3643: FutureWarning: The behavior of DataFrame.std with axis=None is deprecated, in a future version this will reduce over both axes and return a scalar. To retain the old behavior, pass axis=0 (or do not pass axis)\n",
      "  return std(axis=axis, dtype=dtype, out=out, ddof=ddof, **kwargs)\n"
     ]
    },
    {
     "name": "stdout",
     "output_type": "stream",
     "text": [
      "Linear Fit: Coefficients (from curve_fit)\n",
      "[7.1921847e-05 6.5138178e-04]\n",
      "Linear Fit: Covariance Matrix (from curve_fit)\n",
      "[[ 1.59549930e-10 -2.78541669e-11]\n",
      " [-2.78541669e-11  6.83001504e-12]]\n",
      "\n",
      "Linear Fit: Final Result: y = (0.00065 +/- 0.00000) x + (0.00007 +/- 0.00001)\n",
      "\n"
     ]
    },
    {
     "data": {
      "text/plain": [
       "<Figure size 700x500 with 1 Axes>"
      ],
      "image/png": "[encoded data removed]"
     },
     "metadata": {},
     "output_type": "display_data"
    },
    {
     "name": "stdout",
     "output_type": "stream",
     "text": [
      "\n"
     ]
    }
   ],
   "execution_count": 4
  },
  {
   "cell_type": "markdown",
   "metadata": {
    "id": "62c4f8d95ce412ec"
   },
   "source": [
    "***\n",
    "### Moment of Inertia vs Distance from Axle\n",
    "The goal of this experiment is to verify equation ([4](#mjx-eqn)). You will have *two* “point” masses which you must place at identical distances from the axle (this is to keep the system dynamically balanced). Using a single hanging mass which generates the same torque for each trial, you will measure the angular acceleration of the system when the “point” masses are at 14, 15, 16, 17, and 18 cm from the axle. You will compute the moment of inertia for each trial and plot it as a function of distance."
   ],
   "id": "62c4f8d95ce412ec"
  },
  {
   "cell_type": "markdown",
   "metadata": {
    "id": "cc2609901564b6a"
   },
   "source": [
    "### Setting up the Experiment\n",
    "Before doing anything, you should take the “point” masses and rod and measure their masses and sizes. Before measuring the mass of the rod, remove the “captured screw.” **Replace this screw immediately after weighing the rod.**\n",
    "\n",
    "1. Remove the ring and disk and store the knurled screw in the bottom of the axle.\n",
    "2. Flip the three-stage pulley so that the largest diameter stage is on top (**remember that it’s keyed!**)\n",
    "3. Place the center of the “point” masses at your first location. Tighten the nylon screws so the masses are firmly held in place.\n",
    "4. Notice that the “top” of the three-stage pulley has a guide. Set the rod in the guide and secure it to the axle with the screw.\n",
    "\n",
    "You are now ready to take your data.\n",
    "\n",
    "**Safety Tip:** Depending on the hanger mass you choose, the rod may be spinning fairly quickly at the end of a run. <u>**Do not try to stop the rod by grabbing the rod!**</u> You can safely stop the rod by grabbing onto the portion of the axle that sticks out of the *bottom* of the sensor (where you stored the knurled screw)."
   ],
   "id": "cc2609901564b6a"
  },
  {
   "cell_type": "code",
   "metadata": {
    "id": "e56c3209786c457b",
    "outputId": "c9c402ff-cda3-43c9-8026-7dd872527002",
    "colab": {
     "base_uri": "https://localhost:8080/",
     "height": 597
    },
    "ExecuteTime": {
     "end_time": "2025-06-30T19:02:59.346290Z",
     "start_time": "2025-06-30T19:02:59.331477Z"
    }
   },
   "source": [
    "# Raw Data 3: Moment of Inertia vs. Distance from Axle\n",
    "\n",
    "# Create an empty numpy array to hold the raw data\n",
    "raw_data_3 = np.empty((10,5))\n",
    "\n",
    "# Create a Pandas dataframe, and convert the Trial number column to integer format\n",
    "df3 = pd.DataFrame(raw_data_3, columns=[\"d1 (m)\",\n",
    "                                        \"d2 (m)\",\n",
    "                                        \"Angular Accel (rad/s^2)\",\n",
    "                                       \"Uncertainty (rad/s^2)\",\n",
    "                                       \"Moment of I (kg m^2)\"])\n",
    "\n",
    "\n",
    "#### Enter Raw Data Here!!!!!!!!!!!!!! ####\n",
    "\n",
    "# Mass of \"point masses\" #1 and #2 (kg)\n",
    "pm1 = 0.07551\n",
    "pm2 = 0.07549\n",
    "d_m = 0.000005\n",
    "\n",
    "# Mass (kg) and length of rod (m)\n",
    "m_rod = 0.02987\n",
    "len_rod = 0.038\n",
    "d_len_rod = 0.0005\n",
    "\n",
    "# Mass of hanging mass (kg)\n",
    "m_hang = 0.02508\n",
    "\n",
    "# Radius of pulley used (m)\n",
    "rad = p2/2\n",
    "\n",
    "# Torque generated (Nm) ???\n",
    "torque = 0\n",
    "\n",
    "df3['r1 (m)'] = [0.14,0.14,0.15,0.15,0.16,0.16,0.17,0.17,0.18,0.18]\n",
    "df3['r2 (m)'] = [0.14,0.14,0.15,0.15,0.16,0.16,0.17,0.17,0.18,0.18]\n",
    "\n",
    "df3['Angular Accel (rad/s^2)'] = [0.981,1.003,0.876,0.902,0.792,0.784,0.714,0.721,0.640,0.631]\n",
    "\n",
    "\n",
    "###########################################\n",
    "\n",
    "df3['Uncertainty (rad/s^2)'] = np.std(df3['Angular Accel (rad/s^2)'])\n",
    "\n",
    "#df3['Moment of I (kg m^2)'] = df['Moment of I (Kg m^2)']\n",
    "\n",
    "# Print statements\n",
    "print(\"Static Data:\")\n",
    "print('-'*80)\n",
    "print(\"Mass of 'point mass' #1: %0.5f kg      Mass of 'point mass' #2: %0.5f kg\" % (pm1, pm2))\n",
    "print()\n",
    "print(\"Mass of rod: %0.5f kg                  Length of rod: %0.3f m\" % (m_rod, len_rod))\n",
    "print()\n",
    "print(\"Mass of hanging mass: %0.5f kg         Radius of pulley used: %0.5f m\" % (m_hang, rad))\n",
    "print()\n",
    "print(\"Torque Generated: %0.5f Nm\" %(torque))\n",
    "\n",
    "df3['Distance R^2 (m^2)'] = df3['r1 (m)']*df3['r2 (m)']\n",
    "df3['Moment of I (Kg m^2)'] = m_hang*rad*(9.81-df3['Angular Accel (rad/s^2)'])/df3['Angular Accel (rad/s^2)']\n",
    "print('-'*80)\n",
    "\n",
    "from IPython.display import display\n",
    "display(df3)\n",
    "print()"
   ],
   "id": "e56c3209786c457b",
   "outputs": [
    {
     "name": "stdout",
     "output_type": "stream",
     "text": [
      "Static Data:\n",
      "--------------------------------------------------------------------------------\n",
      "Mass of 'point mass' #1: 0.07551 kg      Mass of 'point mass' #2: 0.07549 kg\n",
      "\n",
      "Mass of rod: 0.02987 kg                  Length of rod: 0.038 m\n",
      "\n",
      "Mass of hanging mass: 0.02508 kg         Radius of pulley used: 0.01432 m\n",
      "\n",
      "Torque Generated: 0.00000 Nm\n",
      "--------------------------------------------------------------------------------\n"
     ]
    },
    {
     "data": {
      "text/plain": [
       "   d1 (m)  d2 (m)  Angular Accel (rad/s^2)  Uncertainty (rad/s^2)  \\\n",
       "0     0.0     0.0                    0.981               0.125728   \n",
       "1     0.0     0.0                    1.003               0.125728   \n",
       "2     0.0     0.0                    0.876               0.125728   \n",
       "3     0.0     0.0                    0.902               0.125728   \n",
       "4     0.0     0.0                    0.792               0.125728   \n",
       "5     0.0     0.0                    0.784               0.125728   \n",
       "6     0.0     0.0                    0.714               0.125728   \n",
       "7     0.0     0.0                    0.721               0.125728   \n",
       "8     0.0     0.0                    0.640               0.125728   \n",
       "9     0.0     0.0                    0.631               0.125728   \n",
       "\n",
       "   Moment of I (kg m^2)  r1 (m)  r2 (m)  Distance R^2 (m^2)  \\\n",
       "0                   0.0    0.14    0.14              0.0196   \n",
       "1                   0.0    0.14    0.14              0.0196   \n",
       "2                   0.0    0.15    0.15              0.0225   \n",
       "3                   0.0    0.15    0.15              0.0225   \n",
       "4                   0.0    0.16    0.16              0.0256   \n",
       "5                   0.0    0.16    0.16              0.0256   \n",
       "6                   0.0    0.17    0.17              0.0289   \n",
       "7                   0.0    0.17    0.17              0.0289   \n",
       "8                   0.0    0.18    0.18              0.0324   \n",
       "9                   0.0    0.18    0.18              0.0324   \n",
       "\n",
       "   Moment of I (Kg m^2)  \n",
       "0              0.003232  \n",
       "1              0.003154  \n",
       "2              0.003663  \n",
       "3              0.003547  \n",
       "4              0.004089  \n",
       "5              0.004135  \n",
       "6              0.004575  \n",
       "7              0.004527  \n",
       "8              0.005146  \n",
       "9              0.005224  "
      ],
      "text/html": [
       "<div>\n",
       "<style scoped>\n",
       "    .dataframe tbody tr th:only-of-type {\n",
       "        vertical-align: middle;\n",
       "    }\n",
       "\n",
       "    .dataframe tbody tr th {\n",
       "        vertical-align: top;\n",
       "    }\n",
       "\n",
       "    .dataframe thead th {\n",
       "        text-align: right;\n",
       "    }\n",
       "</style>\n",
       "<table border=\"1\" class=\"dataframe\">\n",
       "  <thead>\n",
       "    <tr style=\"text-align: right;\">\n",
       "      <th></th>\n",
       "      <th>d1 (m)</th>\n",
       "      <th>d2 (m)</th>\n",
       "      <th>Angular Accel (rad/s^2)</th>\n",
       "      <th>Uncertainty (rad/s^2)</th>\n",
       "      <th>Moment of I (kg m^2)</th>\n",
       "      <th>r1 (m)</th>\n",
       "      <th>r2 (m)</th>\n",
       "      <th>Distance R^2 (m^2)</th>\n",
       "      <th>Moment of I (Kg m^2)</th>\n",
       "    </tr>\n",
       "  </thead>\n",
       "  <tbody>\n",
       "    <tr>\n",
       "      <th>0</th>\n",
       "      <td>0.0</td>\n",
       "      <td>0.0</td>\n",
       "      <td>0.981</td>\n",
       "      <td>0.125728</td>\n",
       "      <td>0.0</td>\n",
       "      <td>0.14</td>\n",
       "      <td>0.14</td>\n",
       "      <td>0.0196</td>\n",
       "      <td>0.003232</td>\n",
       "    </tr>\n",
       "    <tr>\n",
       "      <th>1</th>\n",
       "      <td>0.0</td>\n",
       "      <td>0.0</td>\n",
       "      <td>1.003</td>\n",
       "      <td>0.125728</td>\n",
       "      <td>0.0</td>\n",
       "      <td>0.14</td>\n",
       "      <td>0.14</td>\n",
       "      <td>0.0196</td>\n",
       "      <td>0.003154</td>\n",
       "    </tr>\n",
       "    <tr>\n",
       "      <th>2</th>\n",
       "      <td>0.0</td>\n",
       "      <td>0.0</td>\n",
       "      <td>0.876</td>\n",
       "      <td>0.125728</td>\n",
       "      <td>0.0</td>\n",
       "      <td>0.15</td>\n",
       "      <td>0.15</td>\n",
       "      <td>0.0225</td>\n",
       "      <td>0.003663</td>\n",
       "    </tr>\n",
       "    <tr>\n",
       "      <th>3</th>\n",
       "      <td>0.0</td>\n",
       "      <td>0.0</td>\n",
       "      <td>0.902</td>\n",
       "      <td>0.125728</td>\n",
       "      <td>0.0</td>\n",
       "      <td>0.15</td>\n",
       "      <td>0.15</td>\n",
       "      <td>0.0225</td>\n",
       "      <td>0.003547</td>\n",
       "    </tr>\n",
       "    <tr>\n",
       "      <th>4</th>\n",
       "      <td>0.0</td>\n",
       "      <td>0.0</td>\n",
       "      <td>0.792</td>\n",
       "      <td>0.125728</td>\n",
       "      <td>0.0</td>\n",
       "      <td>0.16</td>\n",
       "      <td>0.16</td>\n",
       "      <td>0.0256</td>\n",
       "      <td>0.004089</td>\n",
       "    </tr>\n",
       "    <tr>\n",
       "      <th>5</th>\n",
       "      <td>0.0</td>\n",
       "      <td>0.0</td>\n",
       "      <td>0.784</td>\n",
       "      <td>0.125728</td>\n",
       "      <td>0.0</td>\n",
       "      <td>0.16</td>\n",
       "      <td>0.16</td>\n",
       "      <td>0.0256</td>\n",
       "      <td>0.004135</td>\n",
       "    </tr>\n",
       "    <tr>\n",
       "      <th>6</th>\n",
       "      <td>0.0</td>\n",
       "      <td>0.0</td>\n",
       "      <td>0.714</td>\n",
       "      <td>0.125728</td>\n",
       "      <td>0.0</td>\n",
       "      <td>0.17</td>\n",
       "      <td>0.17</td>\n",
       "      <td>0.0289</td>\n",
       "      <td>0.004575</td>\n",
       "    </tr>\n",
       "    <tr>\n",
       "      <th>7</th>\n",
       "      <td>0.0</td>\n",
       "      <td>0.0</td>\n",
       "      <td>0.721</td>\n",
       "      <td>0.125728</td>\n",
       "      <td>0.0</td>\n",
       "      <td>0.17</td>\n",
       "      <td>0.17</td>\n",
       "      <td>0.0289</td>\n",
       "      <td>0.004527</td>\n",
       "    </tr>\n",
       "    <tr>\n",
       "      <th>8</th>\n",
       "      <td>0.0</td>\n",
       "      <td>0.0</td>\n",
       "      <td>0.640</td>\n",
       "      <td>0.125728</td>\n",
       "      <td>0.0</td>\n",
       "      <td>0.18</td>\n",
       "      <td>0.18</td>\n",
       "      <td>0.0324</td>\n",
       "      <td>0.005146</td>\n",
       "    </tr>\n",
       "    <tr>\n",
       "      <th>9</th>\n",
       "      <td>0.0</td>\n",
       "      <td>0.0</td>\n",
       "      <td>0.631</td>\n",
       "      <td>0.125728</td>\n",
       "      <td>0.0</td>\n",
       "      <td>0.18</td>\n",
       "      <td>0.18</td>\n",
       "      <td>0.0324</td>\n",
       "      <td>0.005224</td>\n",
       "    </tr>\n",
       "  </tbody>\n",
       "</table>\n",
       "</div>"
      ]
     },
     "metadata": {},
     "output_type": "display_data"
    },
    {
     "name": "stdout",
     "output_type": "stream",
     "text": [
      "\n"
     ]
    }
   ],
   "execution_count": 5
  },
  {
   "cell_type": "code",
   "id": "35ab7776",
   "metadata": {
    "id": "35ab7776",
    "outputId": "57cf21e4-3fc8-43ab-e855-648988116fd0",
    "colab": {
     "base_uri": "https://localhost:8080/",
     "height": 711
    },
    "ExecuteTime": {
     "end_time": "2025-06-30T19:03:00.058555Z",
     "start_time": "2025-06-30T19:02:59.970321Z"
    }
   },
   "source": [
    "# Moment of Inertia vs. Distance from Axle Graph\n",
    "\n",
    "# Reads the name of the csv file and gets the data\n",
    "#df = pd.read_csv(\"./ExampleFiles/Moment of Inertia vs. Distance from Axle.csv\")\n",
    "\n",
    "# Prints information about the file\n",
    "#df.info()\n",
    "\n",
    "#print(df)\n",
    "print()\n",
    "\n",
    "# Defines the x and y values\n",
    "distance = df3.filter(['Distance R^2 (m^2)'], axis=1).dropna()\n",
    "moi = df3.filter(['Moment of I (Kg m^2)'], axis=1).dropna()\n",
    "\n",
    "delta_distance = np.std(distance)\n",
    "delta_moi = np.std(moi)\n",
    "\n",
    "# Create a figure of reasonable size and resolution, white background, black edge color\n",
    "fig=plt.figure(figsize=(7,5), dpi= 100, facecolor='w', edgecolor='k')\n",
    "\n",
    "# Gets the data values for x and y\n",
    "x_data = distance.values.reshape(-1, 1)\n",
    "y_data = moi.values.reshape(-1, 1)\n",
    "\n",
    "\n",
    "xi = df3['Distance R^2 (m^2)'].to_numpy()\n",
    "yi = df3['Moment of I (Kg m^2)'].to_numpy()\n",
    "\n",
    "# Creates the base plot with titles\n",
    "plt.plot(x_data,y_data,'b.')\n",
    "#plt.errorbar(x_data,y_data,torque,aa,'b.',label='Raw Data')\n",
    "plt.ylabel('Moment of I (Kg m^2)')\n",
    "plt.xlabel('Distance R^2 (m^2)')\n",
    "plt.title('Moment of Inertia vs. Distance from Axle')\n",
    "\n",
    "# Takes the x and y values to make a trendline\n",
    "#intercept, slope, dintercept, dslope = linear_fit_plot_errors(xi,yi,0.000196,0.000324)\n",
    "intercept, slope, dintercept, dslope = p201.linear_fit_plot(xi,yi,plt)\n",
    "\n",
    "# Adds the legend to the plot\n",
    "plt.legend()\n",
    "\n",
    "# Displays the plot\n",
    "plt.show()\n",
    "\n",
    "print(\"\")"
   ],
   "outputs": [
    {
     "name": "stdout",
     "output_type": "stream",
     "text": [
      "\n",
      "Linear Fit: Coefficients (from curve_fit)\n",
      "[1.49625980e-04 1.54249622e-01]\n",
      "Linear Fit: Covariance Matrix (from curve_fit)\n",
      "[[ 1.08229260e-08 -4.06955235e-07]\n",
      " [-4.06955235e-07  1.57734603e-05]]\n",
      "\n",
      "Linear Fit: Final Result: y = (0.15425 +/- 0.00397) x + (0.00015 +/- 0.00010)\n",
      "\n"
     ]
    },
    {
     "name": "stderr",
     "output_type": "stream",
     "text": [
      "/Users/brash/Library/Python/3.9/lib/python/site-packages/numpy/core/fromnumeric.py:3643: FutureWarning: The behavior of DataFrame.std with axis=None is deprecated, in a future version this will reduce over both axes and return a scalar. To retain the old behavior, pass axis=0 (or do not pass axis)\n",
      "  return std(axis=axis, dtype=dtype, out=out, ddof=ddof, **kwargs)\n"
     ]
    },
    {
     "data": {
      "text/plain": [
       "<Figure size 700x500 with 1 Axes>"
      ],
      "image/png": "[encoded data removed]"
     },
     "metadata": {},
     "output_type": "display_data"
    },
    {
     "name": "stdout",
     "output_type": "stream",
     "text": [
      "\n"
     ]
    }
   ],
   "execution_count": 6
  },
  {
   "cell_type": "markdown",
   "metadata": {
    "id": "3ddc6adb64ce3b5b"
   },
   "source": [
    "***\n",
    "\n",
    "### The Effective Torque\n",
    "Now that you’ve read through the whole lab hand out, it is important to notice that friction contributes a torque *opposite* to the torque you are applying. Your effective torque is, of course, the difference between these two torques and this is the torque you should be using to compute your moments of inertia. But how do you determine the torque due to friction?\n",
    "\n",
    "The theoretical frictional torque is given by equation ([3](#mjx-eqn)) if we know the angular acceleration and the moment of inertia of the system. You can measure the angular acceleration due to friction by measuring it right after the system has been spun up by the hanging mass. Simply use Capstone to record the data right after a run while the system is still spinning (although this might be done after *every* run, time constraints might make it more appropriate to measure it one time for each of the two systems). Ten seconds of spin-down measurement should be sufficient. The moment of inertia should be the theoretical one you can compute by knowing the masses and dimensions of the system.\n",
    "\n",
    "***"
   ],
   "id": "3ddc6adb64ce3b5b"
  },
  {
   "cell_type": "markdown",
   "id": "4435ef8d",
   "metadata": {
    "id": "4435ef8d"
   },
   "source": [
    "# Your Report\n",
    "### Introduction:\n",
    "Write a few sentences about what you set out to measure and how you will compare the measured values with theory (Hint: Write the Introduction **last**. This way you’ll have the whole lab in your head when you write it and you can properly foreshadow the results). Do not include details here. That is what the rest of the report is for."
   ]
  },
  {
   "cell_type": "markdown",
   "id": "5c5d85f8",
   "metadata": {
    "id": "5c5d85f8"
   },
   "source": [
    "### Theory:\n",
    "For a good theory section, you will need to write a few paragraphs which answer the following questions:\n",
    "\n",
    "1) What is your theoretical prediction for the slope of the first graph?\n",
    "2) What is your theoretical prediction for the shape of the second graph?\n",
    "3) Detail the method you used for computing any uncertainties (but don’t use any numbers, here).\n",
    "\n",
    "Explain your reasoning! Use equations where necessary. They should each be on a separate line and numbered (like in this handout)."
   ]
  },
  {
   "cell_type": "markdown",
   "id": "75fd222a",
   "metadata": {
    "id": "75fd222a"
   },
   "source": [
    "### Experimental Procedure:\n",
    "Detail carefully the experiments you performed and how you performed them so that someone could repeat your experiment by reading this section. Talk about any problems you encountered and how you handled them."
   ]
  },
  {
   "cell_type": "markdown",
   "id": "7a19c16b",
   "metadata": {
    "id": "7a19c16b"
   },
   "source": [
    "### Results and Conclusion:\n",
    "This will be your longest section. Use good paragraph structure to link the results together:\n",
    "\n",
    "Compare your theoretical prediction of the slope of the Torque vs. Angular Acceleration graph to the experimental value. Compare the fit of the Moment of Inertia vs. Distance to Axle graph with your theoretical prediction. Do your results support or refute Newton’s Second Law for rotation?\n",
    "\n",
    "As always, talk about your errors and how you might be able to reduce them. Make sure that you discuss all possible sources of error in your experiments."
   ]
  },
  {
   "cell_type": "markdown",
   "id": "727c69fa",
   "metadata": {
    "id": "727c69fa"
   },
   "source": [
    "### Appendix\n",
    "- Include your signed raw data sheets.\n",
    "- Include your sample calculations."
   ]
  },
  {
   "cell_type": "code",
   "execution_count": null,
   "metadata": {
    "id": "9bb936e3707ae75d"
   },
   "outputs": [],
   "source": [],
   "id": "9bb936e3707ae75d"
  }
 ],
 "metadata": {
  "kernelspec": {
   "display_name": "Python 3",
   "language": "python",
   "name": "python3"
  },
  "language_info": {
   "codemirror_mode": {
    "name": "ipython",
    "version": 3
   },
   "file_extension": ".py",
   "mimetype": "text/x-python",
   "name": "python",
   "nbconvert_exporter": "python",
   "pygments_lexer": "ipython3",
   "version": "3.6.8"
  },
  "colab": {
   "provenance": []
  }
 },
 "nbformat": 4,
 "nbformat_minor": 5
}
