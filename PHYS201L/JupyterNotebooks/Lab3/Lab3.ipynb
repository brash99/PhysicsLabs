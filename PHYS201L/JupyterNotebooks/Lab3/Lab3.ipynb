{
 "cells": [
  {
   "cell_type": "markdown",
   "metadata": {},
   "source": [
    "# Experiment 3: Projectile Motion\n",
    "### Objectives\n",
    "- To learn to take good measurements\n",
    "- To learn how to estimate and propagate uncertainties\n",
    "- To learn how to apply the kinematic equations to projectile motion\n",
    "\n",
    "### Equipment\n",
    "- One PASCO Ballistic Pendulum apparatus with plastic projectile\n",
    "- Two (2) C-Clamps\n",
    "- One stopwatch\n",
    "- One 30 cm ruler\n",
    "- One two-meter stick\n",
    "- One sheet of carbon paper\n",
    "- Plain white or ruled paper\n",
    "- Tape\n",
    "\n",
    "### Safety\n",
    "1. **DO NOT STAND ON LAB CHAIRS**\n",
    "2. **Treat the launcher like a weapon:**\n",
    "    - **NEVER fire the launcher at anyone**---even in jest.\n",
    "    - **DO NOT “arm” the launcher until you’re ready to fire it.**\n",
    "3. When “arming” the launcher, place the ball on the pin and press down on the ball. Trying to press down on the bare pin can hurt your hand."
   ]
  },
  {
   "cell_type": "markdown",
   "metadata": {},
   "source": [
    "# Introduction\n",
    "Projectile motion is two-dimensional motion where one direction is under constant acceleration\n",
    "and the other direction is unaccelerated. In this lab, your job will be to compare the prediction for the range of a projectile given by the kinematic equations with the experimentally determined ranges."
   ]
  },
  {
   "cell_type": "markdown",
   "metadata": {},
   "source": [
    "# Theory\n",
    "\n",
    "### Kinematics\n",
    "Let us recall the four important equations in kinematics. First, the definitions of velocity and acceleration in the x-direction:  \n",
    "\n",
    "\\begin{equation} \n",
    "v_{x} \\equiv \\frac{\\Delta x}{\\Delta t} \n",
    "\\tag{1} \n",
    "\\end{equation}  \n",
    "\n",
    "\\begin{equation}\n",
    "a_{x} \\equiv \\frac{\\Delta v_{x}}{\\Delta t}\n",
    "\\tag{2}\n",
    "\\end{equation}  \n",
    "\n",
    "Second, the two equations useful for objects moving under constant accelerations:  \n",
    "\n",
    "\\begin{equation}\n",
    "x(t) = \\frac{1}{2} a_{x} t^2 + v_{o,x} t + x_{o}\n",
    "\\tag{3}\n",
    "\\end{equation}  \n",
    "\n",
    "\\begin{equation}\n",
    "v_{f,x}^2 - v_{o,x}^2 = 2 a_{x} \\Delta x\n",
    "\\tag{4}\n",
    "\\end{equation}  \n",
    "\n",
    "The same equations can be used in the y-direction by replacing all the x’s with y’s.\n",
    "\n",
    "In the horizontal direction (the x-direction), there is no acceleration, so that $a_x = 0 m/s^2$. However, gravity contributes a constant acceleration downwards (the –y direction) such that $a_y= -g$ where $g \\equiv 9.81 \\pm 0.005 m/s^2$ so that $ \\delta g = 0.005 m/s^2$.\n",
    "\n",
    "When you want to predict the distance that the projectile will go, you will need to combine two of the above equations. Because there is no acceleration in the x-direction, you can use equation ([1](#mjx-eqn)) to start. But you will need to know how long the ball is in flight for. This requires solving for time in equation ([3](#mjx-eqn)) for the y-direction. You may need to use the quadratic formula."
   ]
  },
  {
   "cell_type": "markdown",
   "metadata": {},
   "source": [
    "### Computing the “Muzzle Velocity”\n",
    "One of the most important values you will need for this experiment will be the “muzzle\n",
    "velocity,” $v_o$, of the launcher. One way to compute that velocity is to fire the launcher purely horizontally and use equation ([1](#mjx-eqn)). But we can also fire the launcher straight up and utilize the y version of equation ([4](#mjx-eqn)). <u>Remember that, in our coordinate system, $a_y$ is a negative value</u>. By measuring the height that the ball attains and knowing the value of $a_y$, we can compute the “muzzle velocity” of the launcher."
   ]
  },
  {
   "cell_type": "markdown",
   "metadata": {},
   "source": [
    "### Theoretical Range Prediction\n",
    "Once the muzzle velocity has been determined, the theoretical range of the projectile can be\n",
    "predicted. Equation ([1](#mjx-eqn)) states that the range is completely determined by the x-component of the launch velocity and the time in the air:  \n",
    "\n",
    "\\begin{equation}\n",
    "\\Delta x = v_{x} (\\Delta t) = v_{o} \\cos{\\theta} (\\Delta t)\n",
    "\\tag{5}\n",
    "\\end{equation}\n",
    "\n",
    "At the same time, if we consider the vertical motion, we have that:\n",
    "\\begin{equation}\n",
    "\\Delta y = v_{o} \\sin{\\theta} (\\Delta t) + \\frac{1}{2}a_y(\\Delta t)^2\n",
    "\\end{equation}\n",
    "\n",
    "What remains is to determine the time, $ \\Delta t$, that the ball is in the air. This is completely determined by the vertical motion. This equation can be rearranged as a quadratic equation in standard form: \n",
    "\\begin{equation}\n",
    "A (\\Delta t)^2 + B (\\Delta t) + C = 0\n",
    "\\tag{6}\n",
    "\\end{equation}\n",
    "\n",
    "with $A = \\frac{-g}{2}$, $B=v_{0}\\sin(\\theta)$, and $C=-\\Delta y$.\n",
    "\n",
    "which has a solution given by the quadratic formula:\n",
    "\\begin{equation}\n",
    "\\Delta t = \\frac{v_{0}\\sin(\\theta) \\mp \\sqrt{v_{0}^2\\sin^2(\\theta) - 2g\\Delta_y}}{g}\n",
    "\\tag{7}\n",
    "\\end{equation}  \n",
    "\n",
    "The <u>positive</u> root yeilds the predicted range for the projectile.  Remember also that $\\Delta y$ will be a $negative$ number, since the object is falling to a level lower than the initial vertical position."
   ]
  },
  {
   "cell_type": "markdown",
   "metadata": {},
   "source": [
    "## Uncertainty Analysis:  \n",
    "### Uncertainty in Launch Velocity\n",
    "It will be important to know what the uncertainties are in our computed positions and velocities. First, recall that a difference in position is a subtraction of two quantities:  \n",
    "\\begin{equation}  \n",
    "\\Delta y = y_{2} - y_{1}\n",
    "\\tag{8}\n",
    "\\end{equation}  \n",
    "\n",
    "Therefore, we can use the addition/subtraction rule to compute the uncertainty in the difference:  \n",
    "\\begin{equation} \n",
    "\\delta (\\Delta y) = \\delta y_{2} + \\delta y_{1}\n",
    "\\tag{9}\n",
    "\\end{equation}  \n",
    "\n",
    "This time, the uncertainties $\\delta y_{1}$ and $\\delta y_{2}$\n",
    "may not be the same, so we can’t further reduce this uncertainty.  \n",
    "\n",
    "The uncertainty in “muzzle velocity,” $\\delta v_{o}$, depends on how it is computed. If one uses a horizontal shot and measures the distance and time it travels, then this is a straightforward application of the product/quotient rule. Looking at equation ([1](#mjx-eqn)) we have  \n",
    "\\begin{equation} \n",
    "\\frac{\\delta v}{v} = \\frac{\\delta (\\Delta x)}{\\Delta x} + \\frac{\\delta (\\Delta t)}{\\Delta t}\n",
    "\\tag{10}\n",
    "\\end{equation}\n",
    "\n",
    "This time, the uncertainty in time, $\\delta t$ , will be mostly caused by reaction time. This uncertainty is at least 0.1 s, but could be more. Use your best judgment to estimate this. The uncertainty in position will be the standard deviation of a number of trials.\n",
    "\n",
    "When using equation ([4](#mjx-eqn)) to determine “muzzle velocity,” we arrive at the following equation:  \n",
    "\\begin{equation} \n",
    "v_{o} = \\sqrt{2 g \\Delta y}\n",
    "\\tag{11}\n",
    "\\end{equation}  \n",
    "\n",
    "To compute the uncertainty, we will have to use both the product/quotient and power rules. First, we rewrite the equation as $v_{o} = \\sqrt{q}$ where $q = 2 g \\Delta y$  \n",
    "\n",
    "Then the power rule says  \n",
    "\\begin{equation} \n",
    "\\frac{\\delta v_{o}}{v_{o}} = \\frac{1}{2} \\frac{\\delta q}{q} \n",
    "\\end{equation}  \n",
    "\n",
    "So now we work on $\\delta q$. The product/quotient rule says  \n",
    "\\begin{equation} \n",
    "\\frac{\\delta q}{q} = \\frac{\\delta g}{g} + \\frac{\\delta (\\Delta y)}{\\Delta y} \n",
    "\\end{equation}  \n",
    "\n",
    "Combining them we find  \n",
    "\\begin{equation} \n",
    "\\frac{\\delta v_{o}}{v_{o}} = \\frac{1}{2} \\left( (\\frac{\\delta g}{g}) + (\\frac{\\delta (\\Delta y)}{\\Delta y} \\right)\n",
    "\\tag{12}\n",
    "\\end{equation}  "
   ]
  },
  {
   "cell_type": "markdown",
   "metadata": {},
   "source": [
    "### Uncertainty in Calculated Range \n",
    "The uncertainty in the calculated range is one of the more difficult computations in this lab---especially because our standard three rules will actually underestimate this uncertainty. For this lab you may use the following relationship:  \n",
    "\\begin{equation}\n",
    "\\frac{\\delta R}{R} \\approx 4 (\\frac{\\delta v_{o}}{v_{o}})\n",
    "\\tag{13}\n",
    "\\end{equation}  \n",
    "\n",
    "where $v_{o}$ is your launch velocity."
   ]
  },
  {
   "cell_type": "markdown",
   "metadata": {},
   "source": [
    "### Using Standard Deviations\n",
    "Oftentimes, computing uncertainties can be tedious. Another method that is useful is to collect enough data so that one can trust the standard deviations in the collected data. For the purposes of this course---wherever you are allowed to do so---if you have taken at least five data points, you may use the standard deviation of those data points as your measurement uncertainty. Be aware that this number may be greater than your computed uncertainty; especially if you have few data points."
   ]
  },
  {
   "cell_type": "markdown",
   "metadata": {},
   "source": [
    "# Experimental Procedure\n",
    "\n",
    "## Measuring the “muzzle velocity”\n",
    "For this part of the experiment, you will determine the muzzle velocity of the launcher by firing the projectile vertically and measuring the maximum height that the ball attains. Equation ([4](#mjx-eqn)) can then be used to find the (initial) muzzle velocity.  \n",
    "<div align=\"center\">\n",
    "<img src=\"https://github.com/JNichols-19/PhysicsLabs/blob/main/images/Lab%203%20Images/Verticle%20Launch%20Configuration.PNG?raw=true\" width = \"200\" height=\"250\"/>\n",
    "</div> \n",
    "\n",
    "1. Mount the projectile launcher to the lab table using a C-clamp (see Figure 1). Set the launcher so the protractor measures an angle of $90^o$. This ensures that the ball will fire vertically. \n",
    "    - To adjust the launcher angle, loosen the bolts on the back of launcher. Be careful not to remove screws completely.\n",
    "2. Clamp the two-meter stick to the side of the launcher using the second C-clamp. Ensure that the metric side faces you. Align the side of the two-meter stick to the edge of the launcher frame so that the two-meter stick is as vertical as possible.\n",
    "3. Note the initial height of the ball, $y_{1}$, (indicated on the front of the launcher). Enter this into the cell below.\n",
    "4. Set the ball into the launcher and use the ramrod to push ball into launcher. **Stop after the second click**.\n",
    "5. Fire the ball vertically by pulling the string on the release lever. Determine the final height, $y_{2}$, by locating the center of the ball when it stops rising. (Taking a short video with your cell phone might help with this step). Enter your result in the cell below.\n",
    "6. Repeat step 5 *at least* five times and enter your data for Table 1 in the cell below.\n",
    "7. Use Equation ([4](#mjx-eqn)) to determine the initial velocity of the ball, $v_{o}$ when it left the launcher. This is called the ‘**muzzle velocity**’ of the launcher.\n",
    "\n",
    "<u>**Where does the ball begin its flight?**</u> Is the uncertainty in $y_{1}$ the same as the uncertainty in $y_{2}$? (Translation: Do you know $y_{2}$ as well as you know $y_{1}$? Try it a few times before answering.)"
   ]
  },
  {
   "cell_type": "code",
   "metadata": {
    "ExecuteTime": {
     "end_time": "2025-06-21T01:02:00.904587Z",
     "start_time": "2025-06-21T01:01:59.077533Z"
    }
   },
   "source": [
    "# Raw Data 1\n",
    "# Table 1: Muzzle Velocity Data\n",
    "\n",
    "# Import Numpy and Pandas with standard names\n",
    "import pandas as pd\n",
    "import numpy as np\n",
    "\n",
    "# Create an empty numpy array to hold the raw data\n",
    "raw_data_1 = np.empty((5,4))\n",
    "\n",
    "# Set the trial number column identifiers for each Trial\n",
    "raw_data_1[0][0]=1\n",
    "raw_data_1[1][0]=2\n",
    "raw_data_1[2][0]=3\n",
    "raw_data_1[3][0]=4\n",
    "raw_data_1[4][0]=5\n",
    "\n",
    "# Create a Pandas dataframe, and convert the Trial number column to integer format\n",
    "df1 = pd.DataFrame(raw_data_1, columns=[\"Trial\", \n",
    "                                        \"Initial Height (m)\", \n",
    "                                        \"Final Height (m)\",\n",
    "                                       \"Vertical Displacement (m)\"])\n",
    "df1['Trial'] = df1['Trial'].astype(int)\n",
    "\n",
    "\n",
    "#### Enter Raw Data Here!!!!!!!!!!!!!! ####\n",
    "\n",
    "# Enter the values of the initial height (y1) and its uncertainty (m)\n",
    "#---------------------Trial----1----2----3----4----5\n",
    "df1['Initial Height (m)'] = [0.276,0.276,0.276,0.276,0.276]\n",
    "uncertainty_y1            =  0.0005\n",
    "\n",
    "# Enter the values of the final height (y2) and its uncertainty (m)\n",
    "#--------------------Trial----1----2----3----4----5\n",
    "df1['Final Height (m)'] = [1.59,1.60,1.60,1.61,1.60]\n",
    "uncertainty_y2          =  0.005\n",
    "\n",
    "###########################################\n",
    "\n",
    "\n",
    "# Calculate the vertical displacement: Δy = y2 - y1\n",
    "df1['Vertical Displacement (m)'] = df1['Final Height (m)'] - df1['Initial Height (m)']\n",
    "\n",
    "# Calculates the mean of the vertical displacement\n",
    "mean_y = sum(df1['Vertical Displacement (m)'])/len(df1['Vertical Displacement (m)'])\n",
    "\n",
    "# Calculates the uncertainty of the vertical displacement using standard deviation\n",
    "uncertainty_Delta_y = np.std(df1['Vertical Displacement (m)'])\n",
    "\n",
    "# Display the dataframe\n",
    "from IPython.display import display\n",
    "print (\"Table 1: Muzzle Velocity Data\")\n",
    "display(df1)\n",
    "\n",
    "print(\"𝛿y1 = %0.4fm         𝛿y2 = %0.4f\" % (uncertainty_y1, uncertainty_y2))\n",
    "print()\n",
    "print(\"Mean Δy = %0.4fm     𝛿(Δy) = %0.4f\" % (mean_y, uncertainty_Delta_y))\n",
    "print()"
   ],
   "outputs": [
    {
     "name": "stdout",
     "output_type": "stream",
     "text": [
      "Table 1: Muzzle Velocity Data\n"
     ]
    },
    {
     "data": {
      "text/plain": [
       "   Trial  Initial Height (m)  Final Height (m)  Vertical Displacement (m)\n",
       "0      1               0.276              1.59                      1.314\n",
       "1      2               0.276              1.60                      1.324\n",
       "2      3               0.276              1.60                      1.324\n",
       "3      4               0.276              1.61                      1.334\n",
       "4      5               0.276              1.60                      1.324"
      ],
      "text/html": [
       "<div>\n",
       "<style scoped>\n",
       "    .dataframe tbody tr th:only-of-type {\n",
       "        vertical-align: middle;\n",
       "    }\n",
       "\n",
       "    .dataframe tbody tr th {\n",
       "        vertical-align: top;\n",
       "    }\n",
       "\n",
       "    .dataframe thead th {\n",
       "        text-align: right;\n",
       "    }\n",
       "</style>\n",
       "<table border=\"1\" class=\"dataframe\">\n",
       "  <thead>\n",
       "    <tr style=\"text-align: right;\">\n",
       "      <th></th>\n",
       "      <th>Trial</th>\n",
       "      <th>Initial Height (m)</th>\n",
       "      <th>Final Height (m)</th>\n",
       "      <th>Vertical Displacement (m)</th>\n",
       "    </tr>\n",
       "  </thead>\n",
       "  <tbody>\n",
       "    <tr>\n",
       "      <th>0</th>\n",
       "      <td>1</td>\n",
       "      <td>0.276</td>\n",
       "      <td>1.59</td>\n",
       "      <td>1.314</td>\n",
       "    </tr>\n",
       "    <tr>\n",
       "      <th>1</th>\n",
       "      <td>2</td>\n",
       "      <td>0.276</td>\n",
       "      <td>1.60</td>\n",
       "      <td>1.324</td>\n",
       "    </tr>\n",
       "    <tr>\n",
       "      <th>2</th>\n",
       "      <td>3</td>\n",
       "      <td>0.276</td>\n",
       "      <td>1.60</td>\n",
       "      <td>1.324</td>\n",
       "    </tr>\n",
       "    <tr>\n",
       "      <th>3</th>\n",
       "      <td>4</td>\n",
       "      <td>0.276</td>\n",
       "      <td>1.61</td>\n",
       "      <td>1.334</td>\n",
       "    </tr>\n",
       "    <tr>\n",
       "      <th>4</th>\n",
       "      <td>5</td>\n",
       "      <td>0.276</td>\n",
       "      <td>1.60</td>\n",
       "      <td>1.324</td>\n",
       "    </tr>\n",
       "  </tbody>\n",
       "</table>\n",
       "</div>"
      ]
     },
     "metadata": {},
     "output_type": "display_data"
    },
    {
     "name": "stdout",
     "output_type": "stream",
     "text": [
      "𝛿y1 = 0.0005m         𝛿y2 = 0.0050\n",
      "\n",
      "Mean Δy = 1.3240m     𝛿(Δy) = 0.0063\n",
      "\n"
     ]
    }
   ],
   "execution_count": 1
  },
  {
   "cell_type": "markdown",
   "metadata": {},
   "source": [
    "With this data, you should now be able to compute:"
   ]
  },
  {
   "cell_type": "code",
   "metadata": {
    "ExecuteTime": {
     "end_time": "2025-06-21T01:02:07.266983Z",
     "start_time": "2025-06-21T01:02:07.260971Z"
    }
   },
   "source": [
    "# Raw Data 2\n",
    "import numpy as np\n",
    "\n",
    "# Define g (in Newport News)\n",
    "g = 9.81\n",
    "dg = 0.005\n",
    "\n",
    "# Calculating the Initial Velocity and uncertainty using Δy and g\n",
    "\n",
    "# Initial Velocity (m/s) and its uncertainty\n",
    "ini_v = np.sqrt(2*g*mean_y)\n",
    "\n",
    "#???? delta_ini_v_before = ini_v * 0.5 * np.sqrt((0.005/g)**2 + (uncertainty_Delta_y/mean_y)**2)\n",
    "\n",
    "delta_ini_v = 0.5*ini_v*(uncertainty_Delta_y/mean_y+dg/g)\n",
    "\n",
    "###########################################\n",
    "\n",
    "print(u'v\\u2092  = %0.5fm m/s' % (ini_v))\n",
    "print(\"𝛿\"u'v\\u2092 = %0.5fm m/s' % (delta_ini_v))\n",
    "print()"
   ],
   "outputs": [
    {
     "name": "stdout",
     "output_type": "stream",
     "text": [
      "vₒ  = 5.09675m m/s\n",
      "𝛿vₒ = 0.01347m m/s\n",
      "\n"
     ]
    }
   ],
   "execution_count": 2
  },
  {
   "cell_type": "markdown",
   "metadata": {},
   "source": [
    "## The Horizontal Shot: Range Prediction and Verification and Second Measurement of the “Muzzle Velocity”\n",
    "Using your value for the muzzle velocity, you should now be able to predict the range of the projectile when it is fired horizontally. Use the following procedure to set up the horizontal shot:\n",
    "<div align=\"center\">\n",
    "<img src=\"https://github.com/JNichols-19/PhysicsLabs/blob/main/images/Lab%203%20Images/Horizontal%20Launch%20Configuration.PNG?raw=true\" width = \"200\" height=\"250\"/>\n",
    "</div>  \n",
    "\n",
    "1. Remove the two-meter stick.\n",
    "2. Loosen the two screws and rotate the launcher so that the protractor reads $\\theta = 0^o$ (See Figure 2). Re-tighten the two screws.\n",
    "3. Measure the vertical distance, $\\Delta y$, from the bottom of the ball as labeled on your launcher to the floor. Record this value in the cell below.\n",
    "4. Use Equation ([3](#mjx-eqn)) to determine the time, $\\Delta t$, for a ball released from rest, ($v_{oy} = 0 m/s$), to fall the vertical distance, $\\Delta y$, to the floor. \n",
    "    - **Include this calculation in your Sample Calculations section.**\n",
    "5. Because the horizontal and vertical components for projectile motion are independent, the time for a ball fired horizontally from the table to reach the floor is the same as that calculated in step 4. Use Equation ([5](#mjx-eqn)) to predict the horizontal distance, $\\Delta x$, that the ball will travel in this time. \n",
    "    - Note that the initial horizontal velocity, $v_{ox}$, will be the “muzzle velocity” found earlier. This distance is called the range, R.   \n",
    "    - Show your work in your Sample Calculations section.\n",
    "\n",
    "Compute your predicted range and enter it into the cell below. <u>**Stop here and have your instructor to check your data before continuing:**</u>  "
   ]
  },
  {
   "cell_type": "code",
   "metadata": {
    "ExecuteTime": {
     "end_time": "2025-06-21T01:02:17.679087Z",
     "start_time": "2025-06-21T01:02:17.674854Z"
    }
   },
   "source": [
    "# Raw Data 3\n",
    "\n",
    "#### Enter Raw Data Here!!!!!!!!!!!!!! ####\n",
    "\n",
    "# Verticle distance traveled (m) and its uncertainty\n",
    "Delta_y     = 1.027\n",
    "Unc_Delta_y = 0.0005\n",
    "\n",
    "# Predicted Range (m) and its uncertainty\n",
    "#\n",
    "#X:  vix = ini_v\n",
    "#    dx = ini_v*t = ini_v*np.sqrt(2*Delta_y/g)\n",
    "#    \n",
    "#    \n",
    "#Y:  viy = 0\n",
    "#    ay = -g\n",
    "#    dy = -Delta_y\n",
    "#    np.sqrt(2*dy/ay) = t\n",
    "\n",
    "Delta_x_p_hor             = ini_v*np.sqrt(2.0*Delta_y/g)\n",
    "uncertainty_Delta_x_p_hor = Delta_x_p_hor*(delta_ini_v/ini_v + 0.5*(Unc_Delta_y/Delta_y+dg/g))\n",
    "\n",
    "###########################################\n",
    "\n",
    "print(\"Δy = %0.03f m               𝛿(Δy) = %0.03f\" % (Delta_y,Unc_Delta_y))\n",
    "print(\"Predicted Δx = %0.03f m     𝛿(Δx_p) = %0.03f\" % (Delta_x_p_hor,uncertainty_Delta_x_p_hor))\n",
    "print(\"\")"
   ],
   "outputs": [
    {
     "name": "stdout",
     "output_type": "stream",
     "text": [
      "Δy = 1.027 m               𝛿(Δy) = 0.001\n",
      "Predicted Δx = 2.332 m     𝛿(Δx_p) = 0.007\n",
      "\n"
     ]
    }
   ],
   "execution_count": 3
  },
  {
   "cell_type": "markdown",
   "metadata": {},
   "source": [
    "6. Place the center of the wooden “catcher” at your predicted range and tape a piece of white paper to the bottom. At the center of the paper, you might make a fiducial mark and label it with the horizontal distance from the initial firing location to the mark. This allows you to measure the distance to the actual landing point by adding (or subtracting) the distance from the mark that the ball makes to the fiducial mark.\n",
    "7. Cover the white paper with a sheet of carbon paper (carbon side down) and lightly tape it down. **When you fire the ball, it should land on the carbon paper and make a black mark on the white paper.**\n",
    "8. Fire the ball five times and complete Table 2 in the cell below.  \n",
    "\n",
    "**Time each shot** and use the table below to record and analyze your range data:"
   ]
  },
  {
   "cell_type": "code",
   "metadata": {
    "ExecuteTime": {
     "end_time": "2025-06-21T01:02:22.373410Z",
     "start_time": "2025-06-21T01:02:22.361516Z"
    }
   },
   "source": [
    "# Raw Data 4\n",
    "# Table 2: Horizontal Range Data\n",
    "\n",
    "# Create an empty numpy array to hold the raw data\n",
    "raw_data_2 = np.empty((5,5))\n",
    "\n",
    "# Set the trial number column identifiers for each Trial\n",
    "raw_data_2[0][0]=1\n",
    "raw_data_2[1][0]=2\n",
    "raw_data_2[2][0]=3\n",
    "raw_data_2[3][0]=4\n",
    "raw_data_2[4][0]=5\n",
    "\n",
    "# Create a Pandas dataframe, and convert the Trial number column to integer format\n",
    "df2 = pd.DataFrame(raw_data_2, columns=[\"Trial\", \n",
    "                                        \"Range Δx (m)\",\n",
    "                                        \"Time of Flight Δt (s)\",\n",
    "                                       \"Velocity (m/s)\",\n",
    "                                       \"Uncertainty 𝛿V (m/s)\"])\n",
    "df2['Trial'] = df2['Trial'].astype(int)\n",
    "\n",
    "\n",
    "#### Enter Raw Data Here!!!!!!!!!!!!!! ####\n",
    "\n",
    "# Horizontal Distance Traveled (m)\n",
    "#-------------Trial ---------1-----2-----3-----4-----5--\n",
    "df2['Range Δx (m)']     = [2.310,2.315,2.335,2.320,2.300]\n",
    "Unc_range = [0.0005, 0.0005, 0.0005, 0.0005, 0.0005]\n",
    "\n",
    "# Time for each trial (s)\n",
    "#-------------Trial -------------1-----2----3----4----5--\n",
    "df2['Time of Flight Δt (s)'] = [0.43,0.41,0.40,0.41,0.41]\n",
    "Unc_time = [0.1, 0.1, 0.1, 0.1, 0.1]\n",
    "\n",
    "###########################################\n",
    "\n",
    "\n",
    "# From equation 1 in the theory section\n",
    "df2['Velocity (m/s)'] = df2['Range Δx (m)']/df2['Time of Flight Δt (s)']\n",
    "df2[\"Uncertainty 𝛿V (m/s)\"] = df2['Velocity (m/s)'] * ((np.array(Unc_range/df2['Range Δx (m)']))+\n",
    "                               np.array(Unc_time/df2['Time of Flight Δt (s)']))                              \n",
    "\n",
    "\n",
    "# Calculates the average Δx\n",
    "hor_av_Delta_x = sum(df2['Range Δx (m)'])/len(df2['Range Δx (m)'])\n",
    "\n",
    "# Calculates Uncertainty 𝛿(Δx) \n",
    "#hor_unc_range = np.sqrt(np.sum((np.array(Unc_range)/np.array(df2['Range Δx (m)']))**2))\n",
    "hor_unc_range = np.std(df2['Range Δx (m)'])\n",
    "\n",
    "\n",
    "ini_v2 = sum(df2['Velocity (m/s)'])/len(df2['Velocity (m/s)'])\n",
    "delta_ini_v2 = np.std(df2['Velocity (m/s)'])\n",
    "\n",
    "# Display the dataframe\n",
    "from IPython.display import display\n",
    "print (\"Table 2: Horizontal Range Data\")\n",
    "display(df2)\n",
    "print(\"\")\n",
    "print(\"Average Δx = %0.3f m  𝛿(Δx) = %0.3f\" % (hor_av_Delta_x,hor_unc_range))\n",
    "print(\"\")\n",
    "print(\"Average Initial Velocity = %0.3f m/s  𝛿(Initial Velocity) = %0.2f m/s\" % (ini_v2,delta_ini_v2))"
   ],
   "outputs": [
    {
     "name": "stdout",
     "output_type": "stream",
     "text": [
      "Table 2: Horizontal Range Data\n"
     ]
    },
    {
     "data": {
      "text/plain": [
       "   Trial  Range Δx (m)  Time of Flight Δt (s)  Velocity (m/s)  \\\n",
       "0      1         2.310                   0.43        5.372093   \n",
       "1      2         2.315                   0.41        5.646341   \n",
       "2      3         2.335                   0.40        5.837500   \n",
       "3      4         2.320                   0.41        5.658537   \n",
       "4      5         2.300                   0.41        5.609756   \n",
       "\n",
       "   Uncertainty 𝛿V (m/s)  \n",
       "0              1.250487  \n",
       "1              1.378376  \n",
       "2              1.460625  \n",
       "3              1.381350  \n",
       "4              1.369453  "
      ],
      "text/html": [
       "<div>\n",
       "<style scoped>\n",
       "    .dataframe tbody tr th:only-of-type {\n",
       "        vertical-align: middle;\n",
       "    }\n",
       "\n",
       "    .dataframe tbody tr th {\n",
       "        vertical-align: top;\n",
       "    }\n",
       "\n",
       "    .dataframe thead th {\n",
       "        text-align: right;\n",
       "    }\n",
       "</style>\n",
       "<table border=\"1\" class=\"dataframe\">\n",
       "  <thead>\n",
       "    <tr style=\"text-align: right;\">\n",
       "      <th></th>\n",
       "      <th>Trial</th>\n",
       "      <th>Range Δx (m)</th>\n",
       "      <th>Time of Flight Δt (s)</th>\n",
       "      <th>Velocity (m/s)</th>\n",
       "      <th>Uncertainty 𝛿V (m/s)</th>\n",
       "    </tr>\n",
       "  </thead>\n",
       "  <tbody>\n",
       "    <tr>\n",
       "      <th>0</th>\n",
       "      <td>1</td>\n",
       "      <td>2.310</td>\n",
       "      <td>0.43</td>\n",
       "      <td>5.372093</td>\n",
       "      <td>1.250487</td>\n",
       "    </tr>\n",
       "    <tr>\n",
       "      <th>1</th>\n",
       "      <td>2</td>\n",
       "      <td>2.315</td>\n",
       "      <td>0.41</td>\n",
       "      <td>5.646341</td>\n",
       "      <td>1.378376</td>\n",
       "    </tr>\n",
       "    <tr>\n",
       "      <th>2</th>\n",
       "      <td>3</td>\n",
       "      <td>2.335</td>\n",
       "      <td>0.40</td>\n",
       "      <td>5.837500</td>\n",
       "      <td>1.460625</td>\n",
       "    </tr>\n",
       "    <tr>\n",
       "      <th>3</th>\n",
       "      <td>4</td>\n",
       "      <td>2.320</td>\n",
       "      <td>0.41</td>\n",
       "      <td>5.658537</td>\n",
       "      <td>1.381350</td>\n",
       "    </tr>\n",
       "    <tr>\n",
       "      <th>4</th>\n",
       "      <td>5</td>\n",
       "      <td>2.300</td>\n",
       "      <td>0.41</td>\n",
       "      <td>5.609756</td>\n",
       "      <td>1.369453</td>\n",
       "    </tr>\n",
       "  </tbody>\n",
       "</table>\n",
       "</div>"
      ]
     },
     "metadata": {},
     "output_type": "display_data"
    },
    {
     "name": "stdout",
     "output_type": "stream",
     "text": [
      "\n",
      "Average Δx = 2.316 m  𝛿(Δx) = 0.012\n",
      "\n",
      "Average Initial Velocity = 5.625 m/s  𝛿(Initial Velocity) = 0.15 m/s\n"
     ]
    }
   ],
   "execution_count": 4
  },
  {
   "cell_type": "markdown",
   "metadata": {},
   "source": [
    "## The Angled Shot: Range Prediction and Verification\n",
    "<div align=\"center\">\n",
    "<img src=\"https://github.com/JNichols-19/PhysicsLabs/blob/main/images/Lab%203%20Images/Launcher%20at%2030degrees.PNG?raw=true\" width = \"200\" height=\"250\"/>\n",
    "</div> \n",
    "\n",
    "1. Loosen the screws and adjust the launcher to an angle between $55^o$ and $80^o$ (Your lab instructor may suggest an angle). Retighten the screws and record your chosen angle in the cell below.\n",
    "2. Measure the new vertical distance, $\\Delta y$, from the bottom of the ball in the launcher to the floor. Record this value in the cell below.\n",
    "3. Using your measured muzzle velocity and chosen angle, predict the new range, $\\Delta x$, for the projectile. Place this value in the cell below.\n",
    "\n",
    "Compute your predicted range and enter it into the cell below. <u>**Stop here and have your instructor to check your data before continuing:**</u>  "
   ]
  },
  {
   "cell_type": "code",
   "metadata": {
    "ExecuteTime": {
     "end_time": "2025-06-21T01:02:26.465310Z",
     "start_time": "2025-06-21T01:02:25.128828Z"
    }
   },
   "source": [
    "# Raw Data 5\n",
    "\n",
    "#### Enter Raw Data Here!!!!!!!!!!!!!! ####\n",
    "\n",
    "# Chosen angle value (deg)\n",
    "theta = 30.0\n",
    "dtheta = 1.0\n",
    "\n",
    "# Verticle distance traveled (m) and its uncertainty\n",
    "Delta_y             = 1.031\n",
    "Uncertainty_Delta_y = 0.0005\n",
    "\n",
    "# Predicted Range (m) and its uncertainty\n",
    "# We can use Equation 7 for this!\n",
    "\n",
    "## As noted in the theory section,\n",
    "## the calculation of the uncertainty in the range is quite involved.  The easiest method is to create random\n",
    "## samples of the kinematic variables, based on their uncertainties, and then calculate from these a sample of\n",
    "## of range values.\n",
    "\n",
    "# Create arrays of the random samples of the known kinematic variables, 1000 samples long, from a-da to a+da\n",
    "import random\n",
    "ini_v_sample = ini_v + delta_ini_v*np.array(random.sample(range(-5000, 5000), 10000))/5000.0\n",
    "theta_sample = theta + dtheta*np.array(random.sample(range(-5000, 5000), 10000))/5000.0\n",
    "g_sample = g + dg*np.array(random.sample(range(-5000, 5000), 10000))/5000.0\n",
    "Delta_y_sample = Delta_y + uncertainty_Delta_y*np.array(random.sample(range(-5000, 5000), 10000))/5000.0\n",
    "\n",
    "# Calculate additional kinematic quantities, based on the random samples\n",
    "viy_sample = ini_v_sample*np.sin((theta_sample)*np.pi/180.0)\n",
    "vix_sample = ini_v_sample*np.cos((theta_sample)*np.pi/180.0)\n",
    "time_sample = (viy_sample+np.sqrt(viy_sample**2+2*g_sample*Delta_y_sample))/g_sample\n",
    "Delta_x_p_ang_sample = vix_sample*time_sample\n",
    "\n",
    "# Get the maximum and minimum values of the range, from the sample\n",
    "Delta_x_p_ang_max = max(Delta_x_p_ang_sample)\n",
    "Delta_x_p_ang_min = min(Delta_x_p_ang_sample)\n",
    "\n",
    "print (Delta_x_p_ang_max,Delta_x_p_ang_min)\n",
    "\n",
    "# Calculate mean range and uncertainty, based on the max and min values\n",
    "Delta_x_p_ang = 0.5*(Delta_x_p_ang_max+Delta_x_p_ang_min)\n",
    "uncertainty_Delta_x_p_ang = 0.5*(Delta_x_p_ang_max-Delta_x_p_ang_min)\n",
    "\n",
    "import matplotlib.pyplot as plt\n",
    "data = Delta_x_p_ang_sample\n",
    "bins=np.arange(min(data),max(data),0.005)\n",
    "plt.hist(data, bins=bins)\n",
    "plt.show()\n",
    "\n",
    "dRange = Delta_x_p_ang*4.0*delta_ini_v/ini_v\n",
    "print (\"Approximate uncertainty in Range, from Equation 13: \",dRange)\n",
    "\n",
    "###########################################\n",
    "\n",
    "print(\"θ =\", theta)\n",
    "print(\"Δy = %0.03fm               𝛿(Δy) = %0.03f\" % (Delta_y,Unc_Delta_y))\n",
    "print(\"Predicted Δx = %0.03fm     𝛿(Δx_p) = %0.03f\" % (Delta_x_p_ang,uncertainty_Delta_x_p_ang))\n",
    "print(\"\")"
   ],
   "outputs": [
    {
     "name": "stdout",
     "output_type": "stream",
     "text": [
      "3.506146390259844 3.4371467437684755\n"
     ]
    },
    {
     "data": {
      "text/plain": [
       "<Figure size 640x480 with 1 Axes>"
      ],
      "image/png": "[encoded data removed]"
     },
     "metadata": {},
     "output_type": "display_data"
    },
    {
     "name": "stdout",
     "output_type": "stream",
     "text": [
      "Approximate uncertainty in Range, from Equation 13:  0.036705986244002536\n",
      "θ = 30.0\n",
      "Δy = 1.031m               𝛿(Δy) = 0.001\n",
      "Predicted Δx = 3.472m     𝛿(Δx_p) = 0.034\n",
      "\n"
     ]
    }
   ],
   "execution_count": 5
  },
  {
   "cell_type": "markdown",
   "metadata": {},
   "source": [
    "4. Place the center of the wooden “catcher” at your predicted range and tape a piece of white paper to the bottom. At the center of the paper, you might make a fiducial mark and label it with the horizontal distance from the initial firing location to the mark. This allows you to measure the distance to the actual landing point by adding (or subtracting) the distance from the mark that the ball makes to the fiducial mark.\n",
    "5. Cover the white paper with a sheet of carbon paper (carbon side down) and lightly tape it down. **When you fire the ball, it should land on the carbon paper and make a black mark on the white paper.**\n",
    "6. Fire the ball five times and complete Table 3 in the cell below."
   ]
  },
  {
   "cell_type": "code",
   "metadata": {
    "ExecuteTime": {
     "end_time": "2025-06-21T01:02:34.408672Z",
     "start_time": "2025-06-21T01:02:34.400463Z"
    }
   },
   "source": [
    "# Raw Data 6\n",
    "# Table 3. Angled Shot Range\n",
    "\n",
    "# Create an empty numpy array to hold the raw data\n",
    "raw_data_3 = np.empty((5,3))\n",
    "\n",
    "# Set the trial number column identifiers for each Trial\n",
    "raw_data_3[0][0]=1\n",
    "raw_data_3[1][0]=2\n",
    "raw_data_3[2][0]=3\n",
    "raw_data_3[3][0]=4\n",
    "raw_data_3[4][0]=5\n",
    "\n",
    "# Create a Pandas dataframe, and convert the Trial number column to integer format\n",
    "df3 = pd.DataFrame(raw_data_3, columns=[\"Trial\", \n",
    "                                        \"Range Δx (m)\",\n",
    "                                       \"Uncertainty 𝛿Δx (m)\"])\n",
    "df3['Trial'] = df3['Trial'].astype(int)\n",
    "\n",
    "\n",
    "#### Enter Raw Data Here!!!!!!!!!!!!!! ####\n",
    "\n",
    "# Horizontal Distance Traveled (m)\n",
    "#-------------Trial --------1------2-----3------4------5--\n",
    "df3['Range Δx (m)']    = [2.745, 2.750, 2.705, 2.710, 2.700]\n",
    "df3['Uncertainty 𝛿Δx (m)'] =[0.0005, 0.0005, 0.0005, 0.0005, 0.0005]        \n",
    "\n",
    "###########################################\n",
    "\n",
    "\n",
    "# Calculates the average Δx\n",
    "ang_av_Delta_x = sum(df3['Range Δx (m)'])/len(df3['Range Δx (m)'])\n",
    "\n",
    "# Calculates Uncertainty 𝛿(Δx) \n",
    "#ang_unc_range = np.sqrt(np.sum((np.array(df3['Uncertainty 𝛿Δx (m)'])/np.array(df3['Range Δx (m)']))**2))\n",
    "ang_unc_range = np.std(df3['Range Δx (m)'])\n",
    "\n",
    "# Display the dataframe\n",
    "from IPython.display import display\n",
    "print (\"Table 3. Angled Shot Range\")\n",
    "display(df3)\n",
    "print(\"\")\n",
    "print(\"Average Δx = %0.3f m  𝛿(Δx) = %0.3f\" % (ang_av_Delta_x,ang_unc_range))"
   ],
   "outputs": [
    {
     "name": "stdout",
     "output_type": "stream",
     "text": [
      "Table 3. Angled Shot Range\n"
     ]
    },
    {
     "data": {
      "text/plain": [
       "   Trial  Range Δx (m)  Uncertainty 𝛿Δx (m)\n",
       "0      1         2.745               0.0005\n",
       "1      2         2.750               0.0005\n",
       "2      3         2.705               0.0005\n",
       "3      4         2.710               0.0005\n",
       "4      5         2.700               0.0005"
      ],
      "text/html": [
       "<div>\n",
       "<style scoped>\n",
       "    .dataframe tbody tr th:only-of-type {\n",
       "        vertical-align: middle;\n",
       "    }\n",
       "\n",
       "    .dataframe tbody tr th {\n",
       "        vertical-align: top;\n",
       "    }\n",
       "\n",
       "    .dataframe thead th {\n",
       "        text-align: right;\n",
       "    }\n",
       "</style>\n",
       "<table border=\"1\" class=\"dataframe\">\n",
       "  <thead>\n",
       "    <tr style=\"text-align: right;\">\n",
       "      <th></th>\n",
       "      <th>Trial</th>\n",
       "      <th>Range Δx (m)</th>\n",
       "      <th>Uncertainty 𝛿Δx (m)</th>\n",
       "    </tr>\n",
       "  </thead>\n",
       "  <tbody>\n",
       "    <tr>\n",
       "      <th>0</th>\n",
       "      <td>1</td>\n",
       "      <td>2.745</td>\n",
       "      <td>0.0005</td>\n",
       "    </tr>\n",
       "    <tr>\n",
       "      <th>1</th>\n",
       "      <td>2</td>\n",
       "      <td>2.750</td>\n",
       "      <td>0.0005</td>\n",
       "    </tr>\n",
       "    <tr>\n",
       "      <th>2</th>\n",
       "      <td>3</td>\n",
       "      <td>2.705</td>\n",
       "      <td>0.0005</td>\n",
       "    </tr>\n",
       "    <tr>\n",
       "      <th>3</th>\n",
       "      <td>4</td>\n",
       "      <td>2.710</td>\n",
       "      <td>0.0005</td>\n",
       "    </tr>\n",
       "    <tr>\n",
       "      <th>4</th>\n",
       "      <td>5</td>\n",
       "      <td>2.700</td>\n",
       "      <td>0.0005</td>\n",
       "    </tr>\n",
       "  </tbody>\n",
       "</table>\n",
       "</div>"
      ]
     },
     "metadata": {},
     "output_type": "display_data"
    },
    {
     "name": "stdout",
     "output_type": "stream",
     "text": [
      "\n",
      "Average Δx = 2.722 m  𝛿(Δx) = 0.021\n"
     ]
    }
   ],
   "execution_count": 6
  },
  {
   "cell_type": "markdown",
   "metadata": {},
   "source": [
    "***\n",
    "# Your Report\n",
    "### Experimental Procedure\n",
    "You will need to write a few <u>paragraphs</u> to *carefully* describe the following things:  \n",
    "\n",
    "- Carefully describe how you set up your experiments\n",
    "- For the vertical shot:\n",
    "    - Explain your procedure for verifying that the ball was fired purely vertically.\n",
    "    - Explain your procedure for measuring the height that the ball reached.\n",
    "- For the horizontal and angled shots:\n",
    "    - Explain your procedure for measuring the height of the ball.\n",
    "    - Explain your procedure for measuring the horizontal travel of each shot.\n",
    "- How did you make each of these measurements as accurate as possible?  \n",
    "\n",
    "Write this section so that someone else could perform the experiment by just reading this section (but do not write instructions). Talk about any problems you encountered and how you handled them."
   ]
  },
  {
   "cell_type": "markdown",
   "metadata": {},
   "source": [
    "### Data\n",
    "*Report the following values and their uncertainties*:\n",
    "- What was your final determination of your “muzzle velocity?” (Hint: Look at the result for your vertical shot.)\n",
    "- What was the angle at which you fired the “angled” shot?\n",
    "- Fill in the values in the cell below:"
   ]
  },
  {
   "cell_type": "code",
   "metadata": {
    "ExecuteTime": {
     "end_time": "2025-06-21T01:02:41.109219Z",
     "start_time": "2025-06-21T01:02:41.095526Z"
    }
   },
   "source": [
    "# Table 4: Theoretical and Experimental Projectile Ranges\n",
    "\n",
    "# Create an empty numpy array to hold the raw data\n",
    "raw_data_4 = np.empty((2,5))\n",
    "\n",
    "# Create a Pandas dataframe, and convert the Trial number column to integer format\n",
    "df4 = pd.DataFrame(raw_data_4, columns=[\" \", \n",
    "                                        \"Theoretical Range (m)\",\n",
    "                                        \"Theoretical Uncertainty (m)\",\n",
    "                                        \"Experimental Range (m)\",\n",
    "                                       \"Experimental Uncertainty (m)\"])\n",
    "df4[' '] = [\"Horizontal\", \"Angled\"]\n",
    "\n",
    "\n",
    "#--------Data from previous calculations-----------\n",
    "\n",
    "# Theoretical ranges for horizontal and angled shots\n",
    "df4['Theoretical Range (m)'] = [Delta_x_p_hor,Delta_x_p_ang]\n",
    "\n",
    "# Theoretical ranges for horizontal and angled shots\n",
    "df4['Theoretical Uncertainty (m)'] = [uncertainty_Delta_x_p_hor,uncertainty_Delta_x_p_ang]\n",
    "\n",
    "# Mean of ranges for horizontal and angled shots\n",
    "df4['Experimental Range (m)'] = [hor_av_Delta_x,ang_av_Delta_x]\n",
    "\n",
    "# Standard Deviation of ranges for horizontal and angled shots\n",
    "df4['Experimental Uncertainty (m)'] = [hor_unc_range,ang_unc_range]\n",
    "\n",
    "#---------------------------------------------------\n",
    "\n",
    "\n",
    "# Display the dataframe\n",
    "from IPython.display import display\n",
    "print (\"Table 4: Theoretical and Experimental Projectile Ranges\")\n",
    "display(df4)\n",
    "print(\"\")"
   ],
   "outputs": [
    {
     "name": "stdout",
     "output_type": "stream",
     "text": [
      "Table 4: Theoretical and Experimental Projectile Ranges\n"
     ]
    },
    {
     "data": {
      "text/plain": [
       "               Theoretical Range (m)  Theoretical Uncertainty (m)  \\\n",
       "0  Horizontal               2.332165                     0.007327   \n",
       "1      Angled               3.471647                     0.034500   \n",
       "\n",
       "   Experimental Range (m)  Experimental Uncertainty (m)  \n",
       "0                   2.316                      0.011576  \n",
       "1                   2.722                      0.021119  "
      ],
      "text/html": [
       "<div>\n",
       "<style scoped>\n",
       "    .dataframe tbody tr th:only-of-type {\n",
       "        vertical-align: middle;\n",
       "    }\n",
       "\n",
       "    .dataframe tbody tr th {\n",
       "        vertical-align: top;\n",
       "    }\n",
       "\n",
       "    .dataframe thead th {\n",
       "        text-align: right;\n",
       "    }\n",
       "</style>\n",
       "<table border=\"1\" class=\"dataframe\">\n",
       "  <thead>\n",
       "    <tr style=\"text-align: right;\">\n",
       "      <th></th>\n",
       "      <th></th>\n",
       "      <th>Theoretical Range (m)</th>\n",
       "      <th>Theoretical Uncertainty (m)</th>\n",
       "      <th>Experimental Range (m)</th>\n",
       "      <th>Experimental Uncertainty (m)</th>\n",
       "    </tr>\n",
       "  </thead>\n",
       "  <tbody>\n",
       "    <tr>\n",
       "      <th>0</th>\n",
       "      <td>Horizontal</td>\n",
       "      <td>2.332165</td>\n",
       "      <td>0.007327</td>\n",
       "      <td>2.316</td>\n",
       "      <td>0.011576</td>\n",
       "    </tr>\n",
       "    <tr>\n",
       "      <th>1</th>\n",
       "      <td>Angled</td>\n",
       "      <td>3.471647</td>\n",
       "      <td>0.034500</td>\n",
       "      <td>2.722</td>\n",
       "      <td>0.021119</td>\n",
       "    </tr>\n",
       "  </tbody>\n",
       "</table>\n",
       "</div>"
      ]
     },
     "metadata": {},
     "output_type": "display_data"
    },
    {
     "name": "stdout",
     "output_type": "stream",
     "text": [
      "\n"
     ]
    }
   ],
   "execution_count": 7
  },
  {
   "cell_type": "markdown",
   "metadata": {},
   "source": [
    "### Results and Conclusion\n",
    "This should be your longest section. The primary goal of this section is to compare your theoretical predictions with your experimental results. You must also explain the uncertainties and errors you encountered and their origins. Be brief, but be complete.  \n",
    "\n",
    "**This is a technical report.** Do <u>not</u> use the words: \"about\", \"almost\", \"close to\", \"kind of\", \"roughly\", or \"sort of\". Instead, use the proper numerical comparison (percent error or percent difference).\n",
    "\n",
    "Use good paragraph structure to link these results together:  \n",
    "- You computed your muzzle velocity twice. Which way of computing it gave you the least *uncertainty*?\n",
    "- Which way gave you the closest agreement with the experimentally measured ranges?\n",
    "- Compare the theoretical range of the horizontal shot with the experimentally measured range. Use the % error formula and cite your errors. Is your experimental range “inside” your theoretical range plus/minus your uncertainty? If not, what does this indicate?\n",
    "- Do the same for the angled shot.\n",
    "- Talk about your uncertainties and errors: what caused them and how you might be able to reduce them."
   ]
  },
  {
   "cell_type": "code",
   "execution_count": null,
   "metadata": {},
   "outputs": [],
   "source": []
  }
 ],
 "metadata": {
  "kernelspec": {
   "display_name": "Python 3",
   "language": "python",
   "name": "python3"
  },
  "language_info": {
   "codemirror_mode": {
    "name": "ipython",
    "version": 3
   },
   "file_extension": ".py",
   "mimetype": "text/x-python",
   "name": "python",
   "nbconvert_exporter": "python",
   "pygments_lexer": "ipython3",
   "version": "3.6.8"
  }
 },
 "nbformat": 4,
 "nbformat_minor": 4
}
