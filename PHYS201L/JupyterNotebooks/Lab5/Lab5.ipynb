{
 "cells": [
  {
   "cell_type": "markdown",
   "id": "21eb01d3",
   "metadata": {
    "tags": [],
    "id": "21eb01d3"
   },
   "source": [
    "# Experiment 5: Air Track III---Conservation of Energy\n",
    "### Objectives\n",
    "- To learn to take good measurements\n",
    "- To learn how to estimate and propagate errors\n",
    "- To learn how to take measurements to verify a theory\n",
    "- To learn how to measure potential and kinetic energies\n",
    "\n",
    "### Equipment\n",
    "- One Airtrack, Blower, and Cart\n",
    "- One accessory kit containing: one pulley, one mass hanger, and masses for cart and hanger.\n",
    "- One string (150 cm long)\n",
    "- One photogate\n",
    "- One 30 cm ruler\n",
    "- One scale\n",
    "- One vernier caliper\n",
    "- One two-meter stick\n",
    "- One 3” x 5/32” rod\n",
    "- One 6” x 5/32” rod\n",
    "- One 6 mm x 44 mm spring\n",
    "- One flat washer\n",
    "- One 2x4\n",
    "- One 1x4\n",
    "- One set of slotted weights: (Eight 100g and four 50g)\n",
    "\n",
    "### Safety\n",
    "- **Be careful placing the carts on the track. Do not damage the track.**\n",
    "- Please place paper underneath the carts when they are resting on the track without the air turned on. **Do not slide the carts on the track without the air turned on.**\n",
    "- **Do not launch the cart unless a rubber-band bumper is secured to the opposite end of the track.**"
   ]
  },
  {
   "cell_type": "markdown",
   "id": "646e0d60",
   "metadata": {
    "id": "646e0d60"
   },
   "source": [
    "# Introduction\n",
    "There are two kinds of energy in mechanical systems: Potential energy and Kinetic energy. *Potential* energy is stored energy. When this energy is released, it can be converted into *kinetic* energy---energy of motion. In this lab you will conduct two experiments to determine if all of the potential energy stored in a system can be converted into kinetic energy.\n",
    "\n",
    "In the first experiment, you will convert gravitational potential energy to kinetic energy (using the hanging mass and pulley). In the second, you will convert spring potential energy to kinetic energy."
   ]
  },
  {
   "cell_type": "markdown",
   "id": "c329b364",
   "metadata": {
    "id": "c329b364"
   },
   "source": [
    "# Theory\n",
    "### Kinematics\n",
    "First and foremost, you will need to compute the velocity of the aitrack glider. The information you will have, however, is velocity computed by a photogate. The photogate measures the\n",
    "velocity of the glider as it passes through by timing how long the infrared LED is blocked by the object (sometimes called a “flag”) passing through and uses the definition of velocity:  \n",
    "\\begin{equation}\n",
    "v \\equiv \\frac{\\Delta x}{\\Delta t}\n",
    "\\tag{1}\n",
    "\\end{equation}\n",
    "\n",
    "where $\\Delta x$ is the length of the flag and $\\Delta t$ is the time the LED was blocked."
   ]
  },
  {
   "cell_type": "markdown",
   "id": "af454128",
   "metadata": {
    "id": "af454128"
   },
   "source": [
    "### Gravitational Potential Energy\n",
    "Recall that the amount of energy stored in an object in a gravitational field is  \n",
    "\n",
    "\\begin{equation}\n",
    "U_{g} = m g \\Delta y\n",
    "\\tag{2}\n",
    "\\end{equation}  \n",
    "\n",
    "where *m* is the mass of the object, *g* is the gravitational constant, and $ \\Delta y$ is the change in height of that object."
   ]
  },
  {
   "cell_type": "markdown",
   "id": "6343c468",
   "metadata": {
    "id": "6343c468"
   },
   "source": [
    "### Spring Potential Energy\n",
    "The amount of energy stored in a compressed spring is  \n",
    "\n",
    "\\begin{equation}\n",
    "U_{s} = \\frac{1}{2} k (\\Delta x)^2\n",
    "\\tag{3}\n",
    "\\end{equation}  \n",
    "\n",
    "where *k* is the spring constant. You will need to measure this spring constant for your spring. You can find this constant by recalling Hooke’s Law:  \n",
    "\n",
    "\\begin{equation}\n",
    "F = -k \\Delta x\n",
    "\\tag{4}\n",
    "\\end{equation}  \n",
    "\n",
    "The force you apply to the spring is directly related to the compression, $ \\Delta x$, of that spring (the negative sign is a reminder that the force is opposes the spring compression). By plotting the force vs. compression for different weights, you can plot a straight line. The slope of that straight line will be the spring constant (if you have plotted the correct variable on the correct axis---recall the definition of the slope of a straight line and you’ll figure it out)."
   ]
  },
  {
   "cell_type": "markdown",
   "id": "a9a84122",
   "metadata": {
    "id": "a9a84122"
   },
   "source": [
    "### Kinetic Energy\n",
    "Kinetic energy is the energy of motion. For objects moving much slower than the speed of light, we can use the formula:  \n",
    "\n",
    "\\begin{equation}\n",
    "K = \\frac{1}{2} m v^2\n",
    "\\tag{5}\n",
    "\\end{equation}  \n",
    "\n",
    "where *m* is the mass of all the objects moving at speed v."
   ]
  },
  {
   "cell_type": "markdown",
   "id": "4165954f",
   "metadata": {
    "id": "4165954f"
   },
   "source": [
    "### Uncertainty Analysis\n",
    "Your Lab Manual and the previous labs can guide you in estimating the uncertainties in your measurements and propagating those uncertainties into your computed energies. The uncertainty in the masses of the glider and hanging mass will be determined by the accuracy of the scale. In some cases, it might be easier to use the standard deviation of a large number of measurements as your velocity measurement uncertainty. The uncertainty in your spring constant and kinetic and potential energies, however, will have to be computed using the three equations in your Lab Manual.\n",
    "\n",
    "In order to minimize random errors, it is extremely important that each of your measurements be performed several times."
   ]
  },
  {
   "cell_type": "markdown",
   "id": "499be795",
   "metadata": {
    "id": "499be795"
   },
   "source": [
    "# Experimental Procedure\n",
    "\n",
    "### Setting up the Air Track\n",
    "Ensure that the pulley is securely inserted into the top hole in the bracket at the far end of the track, that it spins freely, and that the hanging mass does not strike the table as it falls. You will need to level the airtrack for two of the experiments. Look back to the second lab for instructions if you’ve forgotten how to do this."
   ]
  },
  {
   "cell_type": "markdown",
   "id": "bc2d27c3",
   "metadata": {
    "tags": [],
    "id": "bc2d27c3"
   },
   "source": [
    "### Setting up a Photogate\n",
    "1. Turn on the PASCO 850 Interface and start the PASCO Capstone software.\n",
    "2. Plug a photogate into a Digital input.\n",
    "3. Click the “Hardware Setup” tab in the left “Tools” palette, left-click the jack on the diagram where you inserted the plug, and select “Photogate” from the drop-down menu.\n",
    "4. You should see a tab labeled “Timer Setup.” Open that tab and set up a pre-configured timer:\n",
    "    1. Select the photogate you just installed.\n",
    "    2. You will be using this photogate with a single flag.\n",
    "    3. The computer need only keep track of the speed through the gate.\n",
    "    4. A text box requesting the length of the flag in meters will appear. Measure the flag as best you can and enter that information in the box.\n",
    "    5. Give this sensor a name such as “Photogate 1” or similar."
   ]
  },
  {
   "cell_type": "code",
   "id": "f8bc1f99",
   "metadata": {
    "id": "f8bc1f99",
    "outputId": "f011da00-9760-411c-c2b9-01d8c5685873",
    "colab": {
     "base_uri": "https://localhost:8080/"
    },
    "ExecuteTime": {
     "end_time": "2025-06-30T19:01:03.344847Z",
     "start_time": "2025-06-30T19:01:01.065137Z"
    }
   },
   "source": [
    "import numpy as np\n",
    "import matplotlib.pyplot as plt\n",
    "import pandas as pd\n",
    "import sys; sys.path.append(\"..\")  # Adjust the path as necessary\n",
    "!pip3 install P201_Functions\n",
    "import P201_Functions as p201\n",
    "\n",
    "# Flag length measurement (m) and its uncertainty\n",
    "flag_len = 0.1\n",
    "delta_x = 0.005"
   ],
   "outputs": [
    {
     "name": "stdout",
     "output_type": "stream",
     "text": [
      "Requirement already satisfied: P201_Functions in /Library/Frameworks/Python.framework/Versions/3.12/lib/python3.12/site-packages (1.0)\r\n",
      "Requirement already satisfied: numpy in /Library/Frameworks/Python.framework/Versions/3.12/lib/python3.12/site-packages (from P201_Functions) (1.26.4)\r\n",
      "Requirement already satisfied: matplotlib in /Library/Frameworks/Python.framework/Versions/3.12/lib/python3.12/site-packages (from P201_Functions) (3.9.0)\r\n",
      "Requirement already satisfied: scikit-learn in /Library/Frameworks/Python.framework/Versions/3.12/lib/python3.12/site-packages (from P201_Functions) (1.4.1.post1)\r\n",
      "Requirement already satisfied: scipy in /Library/Frameworks/Python.framework/Versions/3.12/lib/python3.12/site-packages (from P201_Functions) (1.12.0)\r\n",
      "Requirement already satisfied: contourpy>=1.0.1 in /Library/Frameworks/Python.framework/Versions/3.12/lib/python3.12/site-packages (from matplotlib->P201_Functions) (1.2.1)\r\n",
      "Requirement already satisfied: cycler>=0.10 in /Library/Frameworks/Python.framework/Versions/3.12/lib/python3.12/site-packages (from matplotlib->P201_Functions) (0.12.1)\r\n",
      "Requirement already satisfied: fonttools>=4.22.0 in /Library/Frameworks/Python.framework/Versions/3.12/lib/python3.12/site-packages (from matplotlib->P201_Functions) (4.53.0)\r\n",
      "Requirement already satisfied: kiwisolver>=1.3.1 in /Library/Frameworks/Python.framework/Versions/3.12/lib/python3.12/site-packages (from matplotlib->P201_Functions) (1.4.5)\r\n",
      "Requirement already satisfied: packaging>=20.0 in /Library/Frameworks/Python.framework/Versions/3.12/lib/python3.12/site-packages (from matplotlib->P201_Functions) (23.2)\r\n",
      "Requirement already satisfied: pillow>=8 in /Library/Frameworks/Python.framework/Versions/3.12/lib/python3.12/site-packages (from matplotlib->P201_Functions) (10.3.0)\r\n",
      "Requirement already satisfied: pyparsing>=2.3.1 in /Library/Frameworks/Python.framework/Versions/3.12/lib/python3.12/site-packages (from matplotlib->P201_Functions) (3.1.2)\r\n",
      "Requirement already satisfied: python-dateutil>=2.7 in /Library/Frameworks/Python.framework/Versions/3.12/lib/python3.12/site-packages (from matplotlib->P201_Functions) (2.9.0.post0)\r\n",
      "Requirement already satisfied: six>=1.5 in /Library/Frameworks/Python.framework/Versions/3.12/lib/python3.12/site-packages (from python-dateutil>=2.7->matplotlib->P201_Functions) (1.16.0)\r\n",
      "Requirement already satisfied: joblib>=1.2.0 in /Library/Frameworks/Python.framework/Versions/3.12/lib/python3.12/site-packages (from scikit-learn->P201_Functions) (1.3.2)\r\n",
      "Requirement already satisfied: threadpoolctl>=2.0.0 in /Library/Frameworks/Python.framework/Versions/3.12/lib/python3.12/site-packages (from scikit-learn->P201_Functions) (3.3.0)\r\n"
     ]
    }
   ],
   "execution_count": 1
  },
  {
   "cell_type": "markdown",
   "id": "4ee89c22",
   "metadata": {
    "id": "4ee89c22"
   },
   "source": [
    "When you adjust the height of the photogate, make sure that it is triggered only by the flag. The string should not trigger the photogate. You can tell when the photogate is triggered by looking for the red LED to light when the infrared LED is blocked. Ensure that the red LED only lights when the proper portion of the cart passes through.\n",
    "\n",
    "When choosing the positions for your photogate, think carefully about whether you want the cart to be coasting through the gate or experiencing a force as it travels through the gate. Also keep in mind that the airtrack only *reduces* friction, it does not eliminate it."
   ]
  },
  {
   "cell_type": "markdown",
   "id": "0892bc3b",
   "metadata": {
    "id": "0892bc3b"
   },
   "source": [
    "### Measuring the Spring Constant\n",
    "It will be easiest to measure the compression of the spring while it is on a long rod. This will keep the spring from bending while weights are applied to the spring. Place one end of the rod on the table, then place the spring on the rod, and then place a washer on top of the spring. You should then be able to measure the compression of the spring as a function of the masses you apply. A series of ten 100 g weights should give you a good graph. (It might be instructive to start with ten 10 g weights before applying the remaining nine 100g weights to see if the spring constant is truly linear.)\n",
    "\n",
    "<div align=\"center\">\n",
    "<img src=\"https://github.com/JNichols-19/PhysicsLabs/blob/main/images/Airtrack%20Images/Measuring%20the%20Spring%20constant.PNG?raw=true\" width=\"200\"/>\n",
    "</div>  \n",
    "\n",
    "**Don’t forget to include the mass of the washer and do not exceed 1.1 kg of mass on the spring!**\n",
    "\n",
    "(Ask your instructor how to remove and use one of the end-brackets of the air-track to support the bottom portion of the rod if that would help make your compression measurements easier).\n",
    "\n",
    "You must use PASCO Capstone to create the graph of \"Weight vs. Compression\":  \n",
    "1. Start the Capstone program and click “Table & Graph” in the main window.\n",
    "2. In the first table column, click `<Select Measurement>` and then select “Create New” “User-Entered Data” in the cascading menus.\n",
    "3. Rename the column either “Weight” or “Measured Compression” when the “User Data 1/2” title is highlighted in blue and put the appropriate units (“N” or “m”).\n",
    "4. In the graph, you can then click on the `<Select Measurement>` button on each axis and select the data you would like on that axis.\n",
    "\n",
    "**For reasons you will soon discover, plot the *compression* on the x-axis.** You will need to print\n",
    "the graphs you produce for each team member. **Be sure to properly label your graphs!**"
   ]
  },
  {
   "cell_type": "code",
   "id": "0e4fc241",
   "metadata": {
    "id": "0e4fc241",
    "outputId": "0480b73c-1b84-4c9c-8735-db71a49d4795",
    "colab": {
     "base_uri": "https://localhost:8080/",
     "height": 742
    },
    "ExecuteTime": {
     "end_time": "2025-06-30T19:01:23.629929Z",
     "start_time": "2025-06-30T19:01:23.438145Z"
    }
   },
   "source": [
    "# Weight vs. Compression Graph\n",
    "\n",
    "# Reads the name of the csv file and gets the data\n",
    "df = pd.read_csv(\"../../../ExampleFiles/Spring Constant.csv\")\n",
    "#df = pd.read_csv(\"./Spring Constant.csv\")\n",
    "\n",
    "# Prints information about the file\n",
    "#df.info()\n",
    "print(df)\n",
    "print()\n",
    "\n",
    "\n",
    "# Defines the x and y values\n",
    "weight = df.filter(['Weight (N)'], axis=1).dropna()\n",
    "compr = df.filter(['Compression (m)'], axis=1).dropna()\n",
    "\n",
    "# Create a figure of reasonable size and resolution, white background, black edge color\n",
    "fig=plt.figure(figsize=(7,5), dpi= 100, facecolor='w', edgecolor='k')\n",
    "\n",
    "# Gets the data values for x and y\n",
    "x_data = compr.values.reshape(-1, 1)\n",
    "y_data = weight.values.reshape(-1, 1)\n",
    "\n",
    "xi = df['Compression (m)'].to_numpy()\n",
    "yi = df['Weight (N)'].to_numpy()\n",
    "\n",
    "# Creates the base plot with titles\n",
    "plt.plot(x_data,y_data,'b.',label='Raw Data')\n",
    "plt.ylabel('Weight (N)')\n",
    "plt.xlabel('Measured Compression (m)')\n",
    "plt.title('Weight vs. Compression')\n",
    "\n",
    "# Takes the x and y values to make a trendline\n",
    "intercept, slope, dintercept, dslope = p201.linear_fit_plot(xi,yi,plt)\n",
    "#intercept, slope, dintercept, dslope = linear_fit_plot_errors(xi,yi,0.006,0.024)\n",
    "\n",
    "# Adds the legend to the plot\n",
    "plt.legend()\n",
    "\n",
    "# Displays the plot\n",
    "plt.show()\n",
    "\n",
    "print()"
   ],
   "outputs": [
    {
     "name": "stdout",
     "output_type": "stream",
     "text": [
      "   Compression (m)  Weight (N)\n",
      "0            0.006       1.984\n",
      "1            0.012       3.946\n",
      "2            0.019       5.908\n",
      "3            0.024       7.870\n",
      "\n",
      "Linear Fit: Coefficients (from curve_fit)\n",
      "[4.03856308e-02 3.20433730e+02]\n",
      "Linear Fit: Covariance Matrix (from curve_fit)\n",
      "[[ 5.39395896e-02 -2.94567003e+00]\n",
      " [-2.94567003e+00  1.93158659e+02]]\n",
      "\n",
      "Linear Fit: Final Result: y = (320.43373 +/- 13.89815) x + (0.04039 +/- 0.23225)\n",
      "\n"
     ]
    },
    {
     "data": {
      "text/plain": [
       "<Figure size 700x500 with 1 Axes>"
      ],
      "image/png": "[encoded data removed]"
     },
     "metadata": {},
     "output_type": "display_data"
    },
    {
     "name": "stdout",
     "output_type": "stream",
     "text": [
      "\n"
     ]
    }
   ],
   "execution_count": 3
  },
  {
   "cell_type": "markdown",
   "id": "506b3348",
   "metadata": {
    "id": "506b3348"
   },
   "source": [
    "## Experiment 1: Gravitational Potential Energy vs. Kinetic Energy\n",
    "For this experiment, repeat the set up from the last lab. You will be comparing the initial potential energy of the mass hanger to **the sum of** the final kinetic energies of both the cart and the mass hanger (the instant before it strikes the ground). Do four trials (for statistics) for four different combinations of masses (the hanger mass must change each time).\n",
    "\n",
    "Where should the photogate be placed for this experiment?"
   ]
  },
  {
   "cell_type": "code",
   "id": "230f7c50",
   "metadata": {
    "id": "230f7c50",
    "outputId": "f726524e-8e5b-4bde-9a39-a579e633d67c",
    "colab": {
     "base_uri": "https://localhost:8080/",
     "height": 343
    },
    "ExecuteTime": {
     "end_time": "2025-06-30T19:01:26.834539Z",
     "start_time": "2025-06-30T19:01:26.817995Z"
    }
   },
   "source": [
    "# Experiment 1 Raw Data\n",
    "# Cart 1\n",
    "\n",
    "# Create an empty numpy array to hold the raw data\n",
    "raw_data_1 = np.empty((4,2))\n",
    "\n",
    "# Set the trial number column identifiers for each Trial\n",
    "raw_data_1[0][0]=1\n",
    "raw_data_1[1][0]=2\n",
    "raw_data_1[2][0]=3\n",
    "raw_data_1[3][0]=4\n",
    "\n",
    "# Create a Pandas dataframe, and convert the Trial number column to integer format\n",
    "df1 = pd.DataFrame(raw_data_1, columns=[\"Trial\",\n",
    "                                        \"Measured v_f (m/s)\"])\n",
    "\n",
    "df1['Trial'] = df1['Trial'].astype(int)\n",
    "\n",
    "\n",
    "#### Enter Raw Data Here!!!!!!!!!!!!!! ####\n",
    "\n",
    "# Mass of the cart (kg) and its uncertainty\n",
    "m_cart = 0.18995\n",
    "delta_m_cart = 5e-06\n",
    "\n",
    "# Mass of hanging mass (kg) and its uncertainty\n",
    "m_hang = 0.01175\n",
    "delta_m_hang = 5e-06\n",
    "\n",
    "# Height of the spring (m) and its uncertainty\n",
    "h = 0.952\n",
    "delta_h = 0.0005\n",
    "\n",
    "# Predicted Final Velocity (m/s) and its uncertainty\n",
    "v_p = 1.028\n",
    "print(3*np.sqrt((2*m_hang)/(m_hang+m_cart)))\n",
    "print(np.sqrt((2*m_hang*9.81*h)/(m_hang+m_cart)))\n",
    "delta_v_p = 0.0007081\n",
    "\n",
    "# Enter the measured values of v_f (m/s)\n",
    "df1['Measured v_f (m/s)'] = [0.98,0.98,0.97,0.99]\n",
    "\n",
    "###########################################\n",
    "\n",
    "\n",
    "# calculates the mass of the cart with the mass of the hanger and its uncertainty\n",
    "m_total = m_cart + m_hang\n",
    "delta_m_total = np.sqrt(2) * delta_m_cart\n",
    "\n",
    "# Calculates the uncertainty of the velocity using standard deviation\n",
    "uncertainty_v = np.std(df1['Measured v_f (m/s)'])\n",
    "\n",
    "# prints out the cart data\n",
    "print(\"Data for: \")\n",
    "print(\"m_cart = %0.5f kg              𝛿m_cart = %g\" % (m_cart, delta_m_cart))\n",
    "print(\"m_hang = %0.5f kg              𝛿m_hang = %g\" % (m_hang,delta_m_hang))\n",
    "print(\"h = %0.3f m                      𝛿h = %0.4f\" % (h,delta_h))\n",
    "print(\"Predicted v_f = %0.5f m/s      𝛿v_p_f = %0.4f\" % (v_p,delta_v_p))\n",
    "print(\"\")\n",
    "\n",
    "# Display the dataframe\n",
    "from IPython.display import display\n",
    "print (\"Cart 1\")\n",
    "display(df1)\n",
    "# Print statements for uncertainty of final velocity\n",
    "print(\"𝛿v = %0.5f m/s\" % (uncertainty_v))"
   ],
   "outputs": [
    {
     "name": "stdout",
     "output_type": "stream",
     "text": [
      "1.0240053761633785\n",
      "1.0431192496372634\n",
      "Data for: \n",
      "m_cart = 0.18995 kg              𝛿m_cart = 5e-06\n",
      "m_hang = 0.01175 kg              𝛿m_hang = 5e-06\n",
      "h = 0.952 m                      𝛿h = 0.0005\n",
      "Predicted v_f = 1.02800 m/s      𝛿v_p_f = 0.0007\n",
      "\n",
      "Cart 1\n"
     ]
    },
    {
     "data": {
      "text/plain": [
       "   Trial  Measured v_f (m/s)\n",
       "0      1                0.98\n",
       "1      2                0.98\n",
       "2      3                0.97\n",
       "3      4                0.99"
      ],
      "text/html": [
       "<div>\n",
       "<style scoped>\n",
       "    .dataframe tbody tr th:only-of-type {\n",
       "        vertical-align: middle;\n",
       "    }\n",
       "\n",
       "    .dataframe tbody tr th {\n",
       "        vertical-align: top;\n",
       "    }\n",
       "\n",
       "    .dataframe thead th {\n",
       "        text-align: right;\n",
       "    }\n",
       "</style>\n",
       "<table border=\"1\" class=\"dataframe\">\n",
       "  <thead>\n",
       "    <tr style=\"text-align: right;\">\n",
       "      <th></th>\n",
       "      <th>Trial</th>\n",
       "      <th>Measured v_f (m/s)</th>\n",
       "    </tr>\n",
       "  </thead>\n",
       "  <tbody>\n",
       "    <tr>\n",
       "      <th>0</th>\n",
       "      <td>1</td>\n",
       "      <td>0.98</td>\n",
       "    </tr>\n",
       "    <tr>\n",
       "      <th>1</th>\n",
       "      <td>2</td>\n",
       "      <td>0.98</td>\n",
       "    </tr>\n",
       "    <tr>\n",
       "      <th>2</th>\n",
       "      <td>3</td>\n",
       "      <td>0.97</td>\n",
       "    </tr>\n",
       "    <tr>\n",
       "      <th>3</th>\n",
       "      <td>4</td>\n",
       "      <td>0.99</td>\n",
       "    </tr>\n",
       "  </tbody>\n",
       "</table>\n",
       "</div>"
      ]
     },
     "metadata": {},
     "output_type": "display_data"
    },
    {
     "name": "stdout",
     "output_type": "stream",
     "text": [
      "𝛿v = 0.00707 m/s\n"
     ]
    }
   ],
   "execution_count": 4
  },
  {
   "cell_type": "markdown",
   "id": "4ab80030",
   "metadata": {
    "id": "4ab80030"
   },
   "source": [
    "***"
   ]
  },
  {
   "cell_type": "code",
   "id": "817ae956",
   "metadata": {
    "id": "817ae956",
    "outputId": "b41a0f9f-b2d3-43d3-9c4b-35f40c3f321c",
    "colab": {
     "base_uri": "https://localhost:8080/",
     "height": 309
    },
    "ExecuteTime": {
     "end_time": "2025-06-30T19:01:28.675047Z",
     "start_time": "2025-06-30T19:01:28.663952Z"
    }
   },
   "source": [
    "# Experiment 1 Raw Data\n",
    "# Cart 2\n",
    "\n",
    "# Create an empty numpy array to hold the raw data\n",
    "raw_data_2 = np.empty((4,2))\n",
    "\n",
    "# Set the trial number column identifiers for each Trial\n",
    "raw_data_2[0][0]=1\n",
    "raw_data_2[1][0]=2\n",
    "raw_data_2[2][0]=3\n",
    "raw_data_2[3][0]=4\n",
    "\n",
    "# Create a Pandas dataframe, and convert the Trial number column to integer format\n",
    "df2 = pd.DataFrame(raw_data_2, columns=[\"Trial\",\n",
    "                                        \"Measured v_f (m/s)\"])\n",
    "\n",
    "df2['Trial'] = df2['Trial'].astype(int)\n",
    "\n",
    "\n",
    "#### Enter Raw Data Here!!!!!!!!!!!!!! ####\n",
    "\n",
    "# Mass of the cart (kg) and its uncertainty\n",
    "m_cart = 0.18995\n",
    "delta_m_cart = 5e-06\n",
    "\n",
    "# Mass of hanging mass (kg) and its uncertainty\n",
    "m_hang = 0.01665\n",
    "delta_m_hang = 5e-06\n",
    "\n",
    "# Height of the spring (m) and its uncertainty\n",
    "h = 0.952\n",
    "delta_h = 0.0005\n",
    "\n",
    "# Predicted Final Velocity (m/s) and its uncertainty\n",
    "v_p = 1.209\n",
    "delta_v_p = 0.0007081\n",
    "\n",
    "# Enter the measured values of v_f (m/s)\n",
    "df2['Measured v_f (m/s)'] = [1.17,1.18,1.17,1.16]\n",
    "\n",
    "###########################################\n",
    "\n",
    "\n",
    "# calculates the mass of the cart with the mass of the hanger and its uncertainty\n",
    "m_total = m_cart + m_hang\n",
    "delta_m_total = np.sqrt(2) * delta_m_cart\n",
    "\n",
    "# Calculates the uncertainty of the velocity using standard deviation\n",
    "uncertainty_v = np.std(df2['Measured v_f (m/s)'])\n",
    "\n",
    "# prints out the cart data\n",
    "print(\"Data for: \")\n",
    "print(\"m_cart = %0.5f kg              𝛿m_cart = %g\" % (m_cart, delta_m_cart))\n",
    "print(\"m_hang = %0.5f kg              𝛿m_hang = %g\" % (m_hang,delta_m_hang))\n",
    "print(\"h = %0.3f m                      𝛿h = %0.4f\" % (h,delta_h))\n",
    "print(\"Predicted v_f = %0.5f m/s      𝛿v_p_f = %0.4f\" % (v_p,delta_v_p))\n",
    "print(\"\")\n",
    "\n",
    "# Display the dataframe\n",
    "from IPython.display import display\n",
    "print (\"Cart 2\")\n",
    "display(df2)\n",
    "# Print statements for uncertainty of final velocity\n",
    "print(\"𝛿v = %0.5f m/s\" % (uncertainty_v))"
   ],
   "outputs": [
    {
     "name": "stdout",
     "output_type": "stream",
     "text": [
      "Data for: \n",
      "m_cart = 0.18995 kg              𝛿m_cart = 5e-06\n",
      "m_hang = 0.01665 kg              𝛿m_hang = 5e-06\n",
      "h = 0.952 m                      𝛿h = 0.0005\n",
      "Predicted v_f = 1.20900 m/s      𝛿v_p_f = 0.0007\n",
      "\n",
      "Cart 2\n"
     ]
    },
    {
     "data": {
      "text/plain": [
       "   Trial  Measured v_f (m/s)\n",
       "0      1                1.17\n",
       "1      2                1.18\n",
       "2      3                1.17\n",
       "3      4                1.16"
      ],
      "text/html": [
       "<div>\n",
       "<style scoped>\n",
       "    .dataframe tbody tr th:only-of-type {\n",
       "        vertical-align: middle;\n",
       "    }\n",
       "\n",
       "    .dataframe tbody tr th {\n",
       "        vertical-align: top;\n",
       "    }\n",
       "\n",
       "    .dataframe thead th {\n",
       "        text-align: right;\n",
       "    }\n",
       "</style>\n",
       "<table border=\"1\" class=\"dataframe\">\n",
       "  <thead>\n",
       "    <tr style=\"text-align: right;\">\n",
       "      <th></th>\n",
       "      <th>Trial</th>\n",
       "      <th>Measured v_f (m/s)</th>\n",
       "    </tr>\n",
       "  </thead>\n",
       "  <tbody>\n",
       "    <tr>\n",
       "      <th>0</th>\n",
       "      <td>1</td>\n",
       "      <td>1.17</td>\n",
       "    </tr>\n",
       "    <tr>\n",
       "      <th>1</th>\n",
       "      <td>2</td>\n",
       "      <td>1.18</td>\n",
       "    </tr>\n",
       "    <tr>\n",
       "      <th>2</th>\n",
       "      <td>3</td>\n",
       "      <td>1.17</td>\n",
       "    </tr>\n",
       "    <tr>\n",
       "      <th>3</th>\n",
       "      <td>4</td>\n",
       "      <td>1.16</td>\n",
       "    </tr>\n",
       "  </tbody>\n",
       "</table>\n",
       "</div>"
      ]
     },
     "metadata": {},
     "output_type": "display_data"
    },
    {
     "name": "stdout",
     "output_type": "stream",
     "text": [
      "𝛿v = 0.00707 m/s\n"
     ]
    }
   ],
   "execution_count": 5
  },
  {
   "cell_type": "markdown",
   "id": "934415ae",
   "metadata": {
    "id": "934415ae"
   },
   "source": [
    "***"
   ]
  },
  {
   "cell_type": "code",
   "id": "e764351e",
   "metadata": {
    "id": "e764351e",
    "outputId": "399cb052-fbf7-499b-a537-4c390b5377c4",
    "colab": {
     "base_uri": "https://localhost:8080/",
     "height": 309
    },
    "ExecuteTime": {
     "end_time": "2025-06-30T19:01:30.202157Z",
     "start_time": "2025-06-30T19:01:30.190979Z"
    }
   },
   "source": [
    "# Experiment 1 Raw Data\n",
    "# Cart 3\n",
    "\n",
    "# Create an empty numpy array to hold the raw data\n",
    "raw_data_3 = np.empty((4,2))\n",
    "\n",
    "# Set the trial number column identifiers for each Trial\n",
    "raw_data_3[0][0]=1\n",
    "raw_data_3[1][0]=2\n",
    "raw_data_3[2][0]=3\n",
    "raw_data_3[3][0]=4\n",
    "\n",
    "# Create a Pandas dataframe, and convert the Trial number column to integer format\n",
    "df3 = pd.DataFrame(raw_data_3, columns=[\"Trial\",\n",
    "                                        \"Measured v_f (m/s)\"])\n",
    "\n",
    "df3['Trial'] = df3['Trial'].astype(int)\n",
    "\n",
    "\n",
    "#### Enter Raw Data Here!!!!!!!!!!!!!! ####\n",
    "\n",
    "# Mass of the cart (kg) and its uncertainty\n",
    "m_cart = 0.18995\n",
    "delta_m_cart = 5e-06\n",
    "\n",
    "# Mass of hanging mass (kg) and its uncertainty\n",
    "m_hang = 0.00965\n",
    "delta_m_hang = 5e-06\n",
    "\n",
    "# Height of the spring (m) and its uncertainty\n",
    "h = 0.820\n",
    "delta_h = 0.0005\n",
    "\n",
    "# Predicted Final Velocity (m/s) and its uncertainty\n",
    "v_p = 0.9367\n",
    "delta_v_p = 0.0007081\n",
    "\n",
    "# Enter the measured values of v_f (m/s)\n",
    "df3['Measured v_f (m/s)'] = [0.83,0.85,0.82,0.83]\n",
    "\n",
    "###########################################\n",
    "\n",
    "\n",
    "# calculates the mass of the cart with the mass of the hanger and its uncertainty\n",
    "m_total = m_cart + m_hang\n",
    "delta_m_total = np.sqrt(2) * delta_m_cart\n",
    "\n",
    "# Calculates the uncertainty of the velocity using standard deviation\n",
    "uncertainty_v = np.std(df3['Measured v_f (m/s)'])\n",
    "\n",
    "# prints out the cart data\n",
    "print(\"Data for: \")\n",
    "print(\"m_cart = %0.5f kg              𝛿m_cart = %g\" % (m_cart, delta_m_cart))\n",
    "print(\"m_hang = %0.5f kg              𝛿m_hang = %g\" % (m_hang,delta_m_hang))\n",
    "print(\"h = %0.3f m                      𝛿h = %0.4f\" % (h,delta_h))\n",
    "print(\"Predicted v_f = %0.5f m/s      𝛿v_p_f = %0.4f\" % (v_p,delta_v_p))\n",
    "print(\"\")\n",
    "\n",
    "# Display the dataframe\n",
    "from IPython.display import display\n",
    "print (\"Cart 3\")\n",
    "display(df3)\n",
    "# Print statements for uncertainty of final velocity\n",
    "print(\"𝛿v = %0.5f m/s\" % (uncertainty_v))"
   ],
   "outputs": [
    {
     "name": "stdout",
     "output_type": "stream",
     "text": [
      "Data for: \n",
      "m_cart = 0.18995 kg              𝛿m_cart = 5e-06\n",
      "m_hang = 0.00965 kg              𝛿m_hang = 5e-06\n",
      "h = 0.820 m                      𝛿h = 0.0005\n",
      "Predicted v_f = 0.93670 m/s      𝛿v_p_f = 0.0007\n",
      "\n",
      "Cart 3\n"
     ]
    },
    {
     "data": {
      "text/plain": [
       "   Trial  Measured v_f (m/s)\n",
       "0      1                0.83\n",
       "1      2                0.85\n",
       "2      3                0.82\n",
       "3      4                0.83"
      ],
      "text/html": [
       "<div>\n",
       "<style scoped>\n",
       "    .dataframe tbody tr th:only-of-type {\n",
       "        vertical-align: middle;\n",
       "    }\n",
       "\n",
       "    .dataframe tbody tr th {\n",
       "        vertical-align: top;\n",
       "    }\n",
       "\n",
       "    .dataframe thead th {\n",
       "        text-align: right;\n",
       "    }\n",
       "</style>\n",
       "<table border=\"1\" class=\"dataframe\">\n",
       "  <thead>\n",
       "    <tr style=\"text-align: right;\">\n",
       "      <th></th>\n",
       "      <th>Trial</th>\n",
       "      <th>Measured v_f (m/s)</th>\n",
       "    </tr>\n",
       "  </thead>\n",
       "  <tbody>\n",
       "    <tr>\n",
       "      <th>0</th>\n",
       "      <td>1</td>\n",
       "      <td>0.83</td>\n",
       "    </tr>\n",
       "    <tr>\n",
       "      <th>1</th>\n",
       "      <td>2</td>\n",
       "      <td>0.85</td>\n",
       "    </tr>\n",
       "    <tr>\n",
       "      <th>2</th>\n",
       "      <td>3</td>\n",
       "      <td>0.82</td>\n",
       "    </tr>\n",
       "    <tr>\n",
       "      <th>3</th>\n",
       "      <td>4</td>\n",
       "      <td>0.83</td>\n",
       "    </tr>\n",
       "  </tbody>\n",
       "</table>\n",
       "</div>"
      ]
     },
     "metadata": {},
     "output_type": "display_data"
    },
    {
     "name": "stdout",
     "output_type": "stream",
     "text": [
      "𝛿v = 0.01090 m/s\n"
     ]
    }
   ],
   "execution_count": 6
  },
  {
   "cell_type": "markdown",
   "id": "484bfd45",
   "metadata": {
    "id": "484bfd45"
   },
   "source": [
    "***"
   ]
  },
  {
   "cell_type": "code",
   "id": "380c9f18",
   "metadata": {
    "id": "380c9f18",
    "outputId": "d5faebc6-9d29-410b-dafa-ef23c22e53a6",
    "colab": {
     "base_uri": "https://localhost:8080/",
     "height": 309
    },
    "ExecuteTime": {
     "end_time": "2025-06-30T19:01:31.618955Z",
     "start_time": "2025-06-30T19:01:31.607320Z"
    }
   },
   "source": [
    "# Experiment 1 Raw Data\n",
    "# Cart 4\n",
    "\n",
    "# Create an empty numpy array to hold the raw data\n",
    "raw_data_4 = np.empty((4,2))\n",
    "\n",
    "# Set the trial number column identifiers for each Trial\n",
    "raw_data_4[0][0]=1\n",
    "raw_data_4[1][0]=2\n",
    "raw_data_4[2][0]=3\n",
    "raw_data_4[3][0]=4\n",
    "\n",
    "# Create a Pandas dataframe, and convert the Trial number column to integer format\n",
    "df4 = pd.DataFrame(raw_data_4, columns=[\"Trial\",\n",
    "                                        \"Measured v_f (m/s)\"])\n",
    "\n",
    "df4['Trial'] = df4['Trial'].astype(int)\n",
    "\n",
    "\n",
    "#### Enter Raw Data Here!!!!!!!!!!!!!! ####\n",
    "\n",
    "# Mass of the cart (kg) and its uncertainty\n",
    "m_cart = 0.18995\n",
    "delta_m_cart = 5e-06\n",
    "\n",
    "# Mass of hanging mass (kg) and its uncertainty\n",
    "m_hang = 0.01000\n",
    "delta_m_hang = 5e-06\n",
    "\n",
    "# Height of the spring (m) and its uncertainty\n",
    "h = 0.95\n",
    "delta_h = 0.0005\n",
    "\n",
    "# Predicted Final Velocity (m/s) and its uncertainty\n",
    "v_p = 0.9666\n",
    "delta_v_p = 0.0007081\n",
    "\n",
    "# Enter the measured values of v_f (m/s)\n",
    "df4['Measured v_f (m/s)'] = [0.93,0.93,0.92,0.94]\n",
    "\n",
    "###########################################\n",
    "\n",
    "\n",
    "# calculates the mass of the cart with the mass of the hanger and its uncertainty\n",
    "m_total = m_cart + m_hang\n",
    "delta_m_total = np.sqrt(2) * delta_m_cart\n",
    "\n",
    "# Calculates the uncertainty of the velocity using standard deviation\n",
    "uncertainty_v = np.std(df4['Measured v_f (m/s)'])\n",
    "\n",
    "# prints out the cart data\n",
    "print(\"Data for: \")\n",
    "print(\"m_cart = %0.5f kg              𝛿m_cart = %g\" % (m_cart, delta_m_cart))\n",
    "print(\"m_hang = %0.5f kg              𝛿m_hang = %g\" % (m_hang,delta_m_hang))\n",
    "print(\"h = %0.3f m                      𝛿h = %0.4f\" % (h,delta_h))\n",
    "print(\"Predicted v_f = %0.5f m/s      𝛿v_p_f = %0.4f\" % (v_p,delta_v_p))\n",
    "print(\"\")\n",
    "\n",
    "# Display the dataframe\n",
    "from IPython.display import display\n",
    "print (\"Cart 4\")\n",
    "display(df4)\n",
    "# Print statements for uncertainty of final velocity\n",
    "print(\"𝛿v = %0.5f m/s\" % (uncertainty_v))"
   ],
   "outputs": [
    {
     "name": "stdout",
     "output_type": "stream",
     "text": [
      "Data for: \n",
      "m_cart = 0.18995 kg              𝛿m_cart = 5e-06\n",
      "m_hang = 0.01000 kg              𝛿m_hang = 5e-06\n",
      "h = 0.950 m                      𝛿h = 0.0005\n",
      "Predicted v_f = 0.96660 m/s      𝛿v_p_f = 0.0007\n",
      "\n",
      "Cart 4\n"
     ]
    },
    {
     "data": {
      "text/plain": [
       "   Trial  Measured v_f (m/s)\n",
       "0      1                0.93\n",
       "1      2                0.93\n",
       "2      3                0.92\n",
       "3      4                0.94"
      ],
      "text/html": [
       "<div>\n",
       "<style scoped>\n",
       "    .dataframe tbody tr th:only-of-type {\n",
       "        vertical-align: middle;\n",
       "    }\n",
       "\n",
       "    .dataframe tbody tr th {\n",
       "        vertical-align: top;\n",
       "    }\n",
       "\n",
       "    .dataframe thead th {\n",
       "        text-align: right;\n",
       "    }\n",
       "</style>\n",
       "<table border=\"1\" class=\"dataframe\">\n",
       "  <thead>\n",
       "    <tr style=\"text-align: right;\">\n",
       "      <th></th>\n",
       "      <th>Trial</th>\n",
       "      <th>Measured v_f (m/s)</th>\n",
       "    </tr>\n",
       "  </thead>\n",
       "  <tbody>\n",
       "    <tr>\n",
       "      <th>0</th>\n",
       "      <td>1</td>\n",
       "      <td>0.93</td>\n",
       "    </tr>\n",
       "    <tr>\n",
       "      <th>1</th>\n",
       "      <td>2</td>\n",
       "      <td>0.93</td>\n",
       "    </tr>\n",
       "    <tr>\n",
       "      <th>2</th>\n",
       "      <td>3</td>\n",
       "      <td>0.92</td>\n",
       "    </tr>\n",
       "    <tr>\n",
       "      <th>3</th>\n",
       "      <td>4</td>\n",
       "      <td>0.94</td>\n",
       "    </tr>\n",
       "  </tbody>\n",
       "</table>\n",
       "</div>"
      ]
     },
     "metadata": {},
     "output_type": "display_data"
    },
    {
     "name": "stdout",
     "output_type": "stream",
     "text": [
      "𝛿v = 0.00707 m/s\n"
     ]
    }
   ],
   "execution_count": 7
  },
  {
   "cell_type": "markdown",
   "id": "0182c5d7",
   "metadata": {
    "id": "0182c5d7"
   },
   "source": [
    "***"
   ]
  },
  {
   "cell_type": "code",
   "id": "43792149",
   "metadata": {
    "id": "43792149",
    "outputId": "9db0937f-cfdd-4e71-a361-10a47638eb58",
    "colab": {
     "base_uri": "https://localhost:8080/",
     "height": 742
    },
    "ExecuteTime": {
     "end_time": "2025-06-30T19:01:44.042936Z",
     "start_time": "2025-06-30T19:01:43.941985Z"
    }
   },
   "source": [
    "# Initial Potential Energy vs. Final Kinetic Energy Plot\n",
    "\n",
    "# Reads the name of the csv file and gets the data\n",
    "df = pd.read_csv(\"../../../ExampleFiles/Lab 5 Graphs - PEi vs KEf.csv\")\n",
    "#df = pd.read_csv(\"./Lab 5 Graphs - PEi vs KEf.csv\")\n",
    "\n",
    "# Prints information about the file\n",
    "#df.info()\n",
    "print(df)\n",
    "print()\n",
    "\n",
    "# Defines the x and y values\n",
    "pe = df.filter(['Ug (J)'], axis=1).dropna()\n",
    "ke = df.filter(['Kf (J)'], axis=1).dropna()\n",
    "\n",
    "# Create a figure of reasonable size and resolution, white background, black edge color\n",
    "fig=plt.figure(figsize=(7,5), dpi= 100, facecolor='w', edgecolor='k')\n",
    "\n",
    "# Gets the data values for x and y\n",
    "x_data = pe.values.reshape(-1, 1)\n",
    "y_data = ke.values.reshape(-1, 1)\n",
    "\n",
    "xi = df['Ug (J)'].to_numpy()\n",
    "yi = df['Kf (J)'].to_numpy()\n",
    "\n",
    "# Creates the base plot with titles\n",
    "plt.plot(x_data,y_data,'b.',label='Raw Data')\n",
    "#plt.errorbar(x_data,y_data,Delta_x,Delta_t,'b.',label='Raw Data')\n",
    "plt.ylabel('Kinetic Energy (J)')\n",
    "plt.xlabel('Gravitational Potential Energy(J)')\n",
    "plt.title('Initial Potential Energy vs. Final Kinetic Energy')\n",
    "\n",
    "# Takes the x and y values to make a trendline\n",
    "intercept, slope, dintercept, dslope = p201.linear_fit_plot(xi,yi,plt)\n",
    "#intercept, slope, dintercept, dslope = p201.linear_fit_plot_errors(xi,yi,0.07763,0.15120)\n",
    "\n",
    "# Adds the legend to the plot\n",
    "plt.legend()\n",
    "\n",
    "# Displays the plot\n",
    "plt.show()\n",
    "\n",
    "print(\"\")"
   ],
   "outputs": [
    {
     "name": "stdout",
     "output_type": "stream",
     "text": [
      "    Ug (J)   Kf (J)\n",
      "0  0.10660  0.09686\n",
      "1  0.15120  0.14140\n",
      "2  0.07763  0.06962\n",
      "3  0.09320  0.08647\n",
      "\n",
      "Linear Fit: Coefficients (from curve_fit)\n",
      "[-0.00515801  0.96815911]\n",
      "Linear Fit: Covariance Matrix (from curve_fit)\n",
      "[[ 7.18715677e-06 -6.29501097e-05]\n",
      " [-6.29501097e-05  5.87454067e-04]]\n",
      "\n",
      "Linear Fit: Final Result: y = (0.96816 +/- 0.02424) x + (-0.00516 +/- 0.00268)\n",
      "\n"
     ]
    },
    {
     "data": {
      "text/plain": [
       "<Figure size 700x500 with 1 Axes>"
      ],
      "image/png": "[encoded data removed]"
     },
     "metadata": {},
     "output_type": "display_data"
    },
    {
     "name": "stdout",
     "output_type": "stream",
     "text": [
      "\n"
     ]
    }
   ],
   "execution_count": 9
  },
  {
   "cell_type": "markdown",
   "id": "ccfc579c",
   "metadata": {
    "id": "ccfc579c"
   },
   "source": [
    "***\n",
    "***"
   ]
  },
  {
   "cell_type": "markdown",
   "id": "afa05550",
   "metadata": {
    "id": "afa05550"
   },
   "source": [
    "## Experiment 2: Spring Potential Energy vs. Kinetic Energy\n",
    "For this experiment, you will store potential energy in a compressed spring and launch the cart down the airtrack. You will need to use the 3” rod to support the spring to launch the cart (See the diagram below). The best way to launch the cart is to use a fingernail to hold the cart back on the compressed spring and then let the cart slip out from under your fingernail. You might devise a better method, but it is important to release the cart as quickly as possible.  \n",
    "\n",
    "<div align=\"center\">\n",
    "<img src=\"https://github.com/JNichols-19/PhysicsLabs/blob/main/images/Airtrack%20Images/Lab%205%20Experiment%202.PNG?raw=true\" width=\"400\"/>\n",
    "</div>  \n",
    "\n",
    "**Do not fully compress the spring!** The last few millimeters are non-linear. <u>But don’t be too gentle</u>: at least compress the spring 1 cm.\n",
    "\n",
    "You will need to perform four trial launches for each value of compression, $x_{s}$, that you determine is necessary (minimum of two). Consider carefully what your uncertainty, $ \\delta x_{s}$, in compression is over each set of trials. This will be important in calculating your uncertainty in the stored potential energy.\n",
    "\n",
    "Where should the photogate be placed for *this* experiment?"
   ]
  },
  {
   "cell_type": "code",
   "id": "902c336a",
   "metadata": {
    "id": "902c336a",
    "outputId": "06d9a582-90f1-47bd-d50c-1069aef85ba8",
    "colab": {
     "base_uri": "https://localhost:8080/",
     "height": 292
    },
    "ExecuteTime": {
     "end_time": "2025-06-30T19:01:46.314889Z",
     "start_time": "2025-06-30T19:01:46.305760Z"
    }
   },
   "source": [
    "# Experiment 2 Raw Data\n",
    "# Cart 1\n",
    "\n",
    "# Create an empty numpy array to hold the raw data\n",
    "raw_data_5 = np.empty((4,2))\n",
    "\n",
    "# Set the trial number column identifiers for each Trial\n",
    "raw_data_5[0][0]=1\n",
    "raw_data_5[1][0]=2\n",
    "raw_data_5[2][0]=3\n",
    "raw_data_5[3][0]=4\n",
    "\n",
    "# Create a Pandas dataframe, and convert the Trial number column to integer format\n",
    "df5 = pd.DataFrame(raw_data_5, columns=[\"Trial\",\n",
    "                                        \"Measured v_f (m/s)\"])\n",
    "\n",
    "df5['Trial'] = df5['Trial'].astype(int)\n",
    "\n",
    "\n",
    "#### Enter Raw Data Here!!!!!!!!!!!!!! ####\n",
    "\n",
    "# Mass of the cart (kg) and its uncertainty\n",
    "m_cart = 0.18995\n",
    "delta_m_cart = 5e-06\n",
    "\n",
    "# Value of compression (m) and its uncertainty\n",
    "x_s = 0.01\n",
    "delta_xs = 0.005\n",
    "\n",
    "# Predicted Final Velocity (m/s) and its uncertainty\n",
    "v_p = 0.4104\n",
    "delta_v_p = 0.2052\n",
    "\n",
    "# Enter the measured values of v_f (m/s)\n",
    "df5['Measured v_f (m/s)'] = [0.54,0.44,0.50,0.50]\n",
    "\n",
    "###########################################\n",
    "\n",
    "# Calculates the uncertainty of the velocity using standard deviation\n",
    "uncertainty_v = np.std(df5['Measured v_f (m/s)'])\n",
    "\n",
    "# prints out the cart data\n",
    "print(\"Data for: \")\n",
    "print(\"m_cart = %0.5f kg              𝛿m_cart = %g\" % (m_cart, delta_m_cart))\n",
    "print(\"x_s = %0.2f m                     𝛿x_s = %0.4f\" % (x_s,delta_xs))\n",
    "print(\"Predicted v_f = %0.5f m/s      𝛿v_p_f = %0.4f\" % (v_p,delta_v_p))\n",
    "print(\"\")\n",
    "\n",
    "# Display the dataframe\n",
    "from IPython.display import display\n",
    "print (\"Cart 1\")\n",
    "display(df5)\n",
    "# Print statements for uncertainty of final velocity\n",
    "print(\"𝛿v = %0.5f m/s\" % (uncertainty_v))"
   ],
   "outputs": [
    {
     "name": "stdout",
     "output_type": "stream",
     "text": [
      "Data for: \n",
      "m_cart = 0.18995 kg              𝛿m_cart = 5e-06\n",
      "x_s = 0.01 m                     𝛿x_s = 0.0050\n",
      "Predicted v_f = 0.41040 m/s      𝛿v_p_f = 0.2052\n",
      "\n",
      "Cart 1\n"
     ]
    },
    {
     "data": {
      "text/plain": [
       "   Trial  Measured v_f (m/s)\n",
       "0      1                0.54\n",
       "1      2                0.44\n",
       "2      3                0.50\n",
       "3      4                0.50"
      ],
      "text/html": [
       "<div>\n",
       "<style scoped>\n",
       "    .dataframe tbody tr th:only-of-type {\n",
       "        vertical-align: middle;\n",
       "    }\n",
       "\n",
       "    .dataframe tbody tr th {\n",
       "        vertical-align: top;\n",
       "    }\n",
       "\n",
       "    .dataframe thead th {\n",
       "        text-align: right;\n",
       "    }\n",
       "</style>\n",
       "<table border=\"1\" class=\"dataframe\">\n",
       "  <thead>\n",
       "    <tr style=\"text-align: right;\">\n",
       "      <th></th>\n",
       "      <th>Trial</th>\n",
       "      <th>Measured v_f (m/s)</th>\n",
       "    </tr>\n",
       "  </thead>\n",
       "  <tbody>\n",
       "    <tr>\n",
       "      <th>0</th>\n",
       "      <td>1</td>\n",
       "      <td>0.54</td>\n",
       "    </tr>\n",
       "    <tr>\n",
       "      <th>1</th>\n",
       "      <td>2</td>\n",
       "      <td>0.44</td>\n",
       "    </tr>\n",
       "    <tr>\n",
       "      <th>2</th>\n",
       "      <td>3</td>\n",
       "      <td>0.50</td>\n",
       "    </tr>\n",
       "    <tr>\n",
       "      <th>3</th>\n",
       "      <td>4</td>\n",
       "      <td>0.50</td>\n",
       "    </tr>\n",
       "  </tbody>\n",
       "</table>\n",
       "</div>"
      ]
     },
     "metadata": {},
     "output_type": "display_data"
    },
    {
     "name": "stdout",
     "output_type": "stream",
     "text": [
      "𝛿v = 0.03571 m/s\n"
     ]
    }
   ],
   "execution_count": 10
  },
  {
   "cell_type": "markdown",
   "id": "5a0ba3ad",
   "metadata": {
    "id": "5a0ba3ad"
   },
   "source": [
    "***"
   ]
  },
  {
   "cell_type": "code",
   "id": "87f87e38",
   "metadata": {
    "id": "87f87e38",
    "outputId": "d7a69ed0-8f12-41a6-ef3f-8d530601ffab",
    "colab": {
     "base_uri": "https://localhost:8080/",
     "height": 292
    },
    "ExecuteTime": {
     "end_time": "2025-06-30T19:01:47.868653Z",
     "start_time": "2025-06-30T19:01:47.860590Z"
    }
   },
   "source": [
    "# Experiment 2 Raw Data\n",
    "# Cart 2\n",
    "\n",
    "# Create an empty numpy array to hold the raw data\n",
    "raw_data_6 = np.empty((4,2))\n",
    "\n",
    "# Set the trial number column identifiers for each Trial\n",
    "raw_data_6[0][0]=1\n",
    "raw_data_6[1][0]=2\n",
    "raw_data_6[2][0]=3\n",
    "raw_data_6[3][0]=4\n",
    "\n",
    "# Create a Pandas dataframe, and convert the Trial number column to integer format\n",
    "df6 = pd.DataFrame(raw_data_6, columns=[\"Trial\",\n",
    "                                        \"Measured v_f (m/s)\"])\n",
    "\n",
    "df6['Trial'] = df6['Trial'].astype(int)\n",
    "\n",
    "\n",
    "#### Enter Raw Data Here!!!!!!!!!!!!!! ####\n",
    "\n",
    "# Mass of the cart (kg) and its uncertainty\n",
    "m_cart = 0.18995\n",
    "delta_m_cart = 5e-06\n",
    "\n",
    "# Value of compression (m) and its uncertainty\n",
    "x_s = 0.02\n",
    "delta_xs = 0.005\n",
    "\n",
    "# Predicted Final Velocity (m/s) and its uncertainty\n",
    "v_p = 0.6739\n",
    "delta_v_p = 0.16\n",
    "\n",
    "# Enter the measured values of v_f (m/s)\n",
    "df6['Measured v_f (m/s)'] = [0.82,0.81,0.83,0.82]\n",
    "\n",
    "###########################################\n",
    "\n",
    "# Calculates the uncertainty of the velocity using standard deviation\n",
    "uncertainty_v = np.std(df6['Measured v_f (m/s)'])\n",
    "\n",
    "# prints out the cart data\n",
    "print(\"Data for: \")\n",
    "print(\"m_cart = %0.5f kg              𝛿m_cart = %g\" % (m_cart, delta_m_cart))\n",
    "print(\"x_s = %0.2f m                     𝛿x_s = %0.4f\" % (x_s,delta_xs))\n",
    "print(\"Predicted v_f = %0.5f m/s      𝛿v_p_f = %0.4f\" % (v_p,delta_v_p))\n",
    "print(\"\")\n",
    "\n",
    "# Display the dataframe\n",
    "from IPython.display import display\n",
    "print (\"Cart 2\")\n",
    "display(df6)\n",
    "# Print statements for uncertainty of final velocity\n",
    "print(\"𝛿v = %0.5f m/s\" % (uncertainty_v))"
   ],
   "outputs": [
    {
     "name": "stdout",
     "output_type": "stream",
     "text": [
      "Data for: \n",
      "m_cart = 0.18995 kg              𝛿m_cart = 5e-06\n",
      "x_s = 0.02 m                     𝛿x_s = 0.0050\n",
      "Predicted v_f = 0.67390 m/s      𝛿v_p_f = 0.1600\n",
      "\n",
      "Cart 2\n"
     ]
    },
    {
     "data": {
      "text/plain": [
       "   Trial  Measured v_f (m/s)\n",
       "0      1                0.82\n",
       "1      2                0.81\n",
       "2      3                0.83\n",
       "3      4                0.82"
      ],
      "text/html": [
       "<div>\n",
       "<style scoped>\n",
       "    .dataframe tbody tr th:only-of-type {\n",
       "        vertical-align: middle;\n",
       "    }\n",
       "\n",
       "    .dataframe tbody tr th {\n",
       "        vertical-align: top;\n",
       "    }\n",
       "\n",
       "    .dataframe thead th {\n",
       "        text-align: right;\n",
       "    }\n",
       "</style>\n",
       "<table border=\"1\" class=\"dataframe\">\n",
       "  <thead>\n",
       "    <tr style=\"text-align: right;\">\n",
       "      <th></th>\n",
       "      <th>Trial</th>\n",
       "      <th>Measured v_f (m/s)</th>\n",
       "    </tr>\n",
       "  </thead>\n",
       "  <tbody>\n",
       "    <tr>\n",
       "      <th>0</th>\n",
       "      <td>1</td>\n",
       "      <td>0.82</td>\n",
       "    </tr>\n",
       "    <tr>\n",
       "      <th>1</th>\n",
       "      <td>2</td>\n",
       "      <td>0.81</td>\n",
       "    </tr>\n",
       "    <tr>\n",
       "      <th>2</th>\n",
       "      <td>3</td>\n",
       "      <td>0.83</td>\n",
       "    </tr>\n",
       "    <tr>\n",
       "      <th>3</th>\n",
       "      <td>4</td>\n",
       "      <td>0.82</td>\n",
       "    </tr>\n",
       "  </tbody>\n",
       "</table>\n",
       "</div>"
      ]
     },
     "metadata": {},
     "output_type": "display_data"
    },
    {
     "name": "stdout",
     "output_type": "stream",
     "text": [
      "𝛿v = 0.00707 m/s\n"
     ]
    }
   ],
   "execution_count": 11
  },
  {
   "cell_type": "markdown",
   "id": "011df9ee",
   "metadata": {
    "id": "011df9ee"
   },
   "source": [
    "***\n",
    "***"
   ]
  },
  {
   "cell_type": "markdown",
   "id": "2d81aee7",
   "metadata": {
    "id": "2d81aee7"
   },
   "source": [
    "## Experiment 3: Spring Potential Energy vs. Gravitational Potential Energy\n",
    "**This experiment is optional.**\n",
    "\n",
    "Remove the photogate and prop the leg on the far end of the airtrack (away from the spring launcher) on a wooden “shim” (a 2x4). By compressing the spring, you can launch the cart up the inclined airtrack. You will need to find an accurate method for determining the change in height between the starting and ending positions of the glider. Should you use a direct measurement (from a meter stick) or an indirect measurement (knowing the angle and measuring the distance the cart moved along the track)?\n",
    "\n",
    "If you perform this experiment, you must record the data and describe it carefully in your report."
   ]
  },
  {
   "cell_type": "markdown",
   "id": "5c865686",
   "metadata": {
    "id": "5c865686"
   },
   "source": [
    "# Your Report\n",
    "\n",
    "### Experimental Procedure\n",
    "You will need to write a page or two describing how you set up your experiment and collected\n",
    "your data. Specifically, you must mention:\n",
    "\n",
    "- How did you measure the spring constant of your spring?\n",
    "- Describe the setup you used to compare gravitational-potential and kinetic energies.\n",
    "    - How did you ensure that the cart’s potential energy did not change?\n",
    "    - How did you measure the height of your mass hanger and keep that height consistent between runs?\n",
    "    - Where did you place your photogate and what did you use for the “flag?”\n",
    "    - How did you compute the velocity of the mass hanger for its kinetic energy?\n",
    "- Describe the setup you used to compare spring-potential and kinetic energies.\n",
    "    - How did you measure the amount you compressed the spring? What was your uncertainty in that measurement?\n",
    "    - Where did you place your photogate and what did you use for your “flag?”  \n",
    "\n",
    "Write it so that someone else could repeat your experiment by just reading this section. Talk\n",
    "about any problems you encountered and how you handled them."
   ]
  },
  {
   "cell_type": "markdown",
   "id": "dcfa49e0",
   "metadata": {
    "id": "dcfa49e0"
   },
   "source": [
    "### Results and Conclusion\n",
    "This will be your longest section. Use good paragraph structure to compare each experimental\n",
    "result with each theoretical prediction:\n",
    "\n",
    "- How do your initial and final energies compare for each experiment?\n",
    "- Compute the spring constant for your spring given the results in the second experiment. How does this compare to the value you measured initially?\n",
    "- Does your data support or refute Conservation of Mechanical Energy? What, if anything, might have interfered with perfect agreement?\n",
    "\n",
    "As always, talk about your uncertainties, how they affected your data and how you might be able to reduce them. Make sure that you discuss all possible sources of uncertainties in your experiments."
   ]
  },
  {
   "cell_type": "markdown",
   "id": "60c1c229",
   "metadata": {
    "id": "60c1c229"
   },
   "source": [
    "### Appendix\n",
    "*Include your signed raw data sheet(s) and sample calculations.*"
   ]
  },
  {
   "cell_type": "code",
   "execution_count": null,
   "metadata": {
    "id": "3352df41a3e5a232"
   },
   "outputs": [],
   "source": [],
   "id": "3352df41a3e5a232"
  }
 ],
 "metadata": {
  "kernelspec": {
   "display_name": "Python 3",
   "language": "python",
   "name": "python3"
  },
  "language_info": {
   "codemirror_mode": {
    "name": "ipython",
    "version": 3
   },
   "file_extension": ".py",
   "mimetype": "text/x-python",
   "name": "python",
   "nbconvert_exporter": "python",
   "pygments_lexer": "ipython3",
   "version": "3.6.8"
  },
  "latex_envs": {
   "LaTeX_envs_menu_present": true,
   "autoclose": false,
   "autocomplete": true,
   "bibliofile": "biblio.bib",
   "cite_by": "apalike",
   "current_citInitial": 1,
   "eqLabelWithNumbers": true,
   "eqNumInitial": 1,
   "hotkeys": {
    "equation": "Ctrl-E",
    "itemize": "Ctrl-I"
   },
   "labels_anchors": false,
   "latex_user_defs": false,
   "report_style_numbering": false,
   "user_envs_cfg": false
  },
  "colab": {
   "provenance": []
  }
 },
 "nbformat": 4,
 "nbformat_minor": 5
}
